{
 "cells": [
  {
   "cell_type": "markdown",
   "id": "5d266bf3-1824-46a9-816a-badf7e9ea955",
   "metadata": {},
   "source": [
    "# 2021/12/27/TUE"
   ]
  },
  {
   "cell_type": "markdown",
   "id": "c839cad5-9da0-4aea-9fa2-2fa52d53c1f7",
   "metadata": {},
   "source": [
    "> ###  `Function` "
   ]
  },
  {
   "cell_type": "code",
   "execution_count": null,
   "id": "8865d942-8165-49e2-89d0-cc4a85268807",
   "metadata": {},
   "outputs": [],
   "source": [
    "def f() : \n",
    "    pass"
   ]
  },
  {
   "cell_type": "markdown",
   "id": "505304b1-cbb4-4d4e-8dca-2529b8f881ab",
   "metadata": {},
   "source": [
    "- pass => 나중에 정의해줄테니 일단 f라는 함수를 정의해 놓을때"
   ]
  },
  {
   "cell_type": "code",
   "execution_count": null,
   "id": "d4016146-c6a1-427f-a757-2dd90212398f",
   "metadata": {},
   "outputs": [],
   "source": [
    "def f() : \n",
    "    print('Hello')"
   ]
  },
  {
   "cell_type": "code",
   "execution_count": null,
   "id": "a46a6756-dbf3-4bbb-b78a-504b158f8a63",
   "metadata": {},
   "outputs": [],
   "source": [
    "f()"
   ]
  },
  {
   "cell_type": "code",
   "execution_count": null,
   "id": "c247c055-a466-47b6-a21b-fb3c6f866396",
   "metadata": {},
   "outputs": [],
   "source": [
    "def f_(x) : \n",
    "    print('Hello' + str())"
   ]
  },
  {
   "cell_type": "code",
   "execution_count": null,
   "id": "8eaab4f2-c367-4b0b-935e-f204d83f41ec",
   "metadata": {},
   "outputs": [],
   "source": [
    "y=f_(5555)"
   ]
  },
  {
   "cell_type": "code",
   "execution_count": null,
   "id": "57bfdb95-3511-4561-9dba-0916bb6140b5",
   "metadata": {},
   "outputs": [],
   "source": [
    "y"
   ]
  },
  {
   "cell_type": "code",
   "execution_count": null,
   "id": "bcc69230-e857-4a0a-8d97-a0e6888527ce",
   "metadata": {},
   "outputs": [],
   "source": [
    "type(y)"
   ]
  },
  {
   "cell_type": "markdown",
   "id": "6a362a81-d739-4696-98dc-755b2a26009f",
   "metadata": {},
   "source": [
    "- 아무것도 안 나옴\n",
    "\n",
    "- output이 없는 함수이기 때문에\n",
    "\n",
    "- output이 있는 함수를 만들어보자"
   ]
  },
  {
   "cell_type": "code",
   "execution_count": null,
   "id": "7faaf8ab-0eb1-4506-b5b1-33db80be38b3",
   "metadata": {},
   "outputs": [],
   "source": [
    "def fn(x) :\n",
    "    y=x+10\n",
    "    return y"
   ]
  },
  {
   "cell_type": "code",
   "execution_count": null,
   "id": "97998cab-46a5-4799-990a-02ba350b31c0",
   "metadata": {},
   "outputs": [],
   "source": [
    "y=fn(3)"
   ]
  },
  {
   "cell_type": "code",
   "execution_count": null,
   "id": "175714fe-0053-49fc-ada3-5e922b1785da",
   "metadata": {},
   "outputs": [],
   "source": [
    "y"
   ]
  },
  {
   "cell_type": "code",
   "execution_count": null,
   "id": "512c25e9-2477-409f-9140-e6ef978f1fbf",
   "metadata": {},
   "outputs": [],
   "source": [
    "type(y)"
   ]
  },
  {
   "cell_type": "code",
   "execution_count": null,
   "id": "73a808a9-df7d-4a35-8c2e-9784e28cb554",
   "metadata": {},
   "outputs": [],
   "source": [
    "out=fn(123)"
   ]
  },
  {
   "cell_type": "code",
   "execution_count": null,
   "id": "171a9e14-3e75-4fe8-924f-d4661f278fd6",
   "metadata": {},
   "outputs": [],
   "source": [
    "print(out)"
   ]
  },
  {
   "cell_type": "code",
   "execution_count": null,
   "id": "869786eb-571c-40a7-b3be-35f38dd8de46",
   "metadata": {},
   "outputs": [],
   "source": [
    "out"
   ]
  },
  {
   "cell_type": "markdown",
   "id": "f45eac15-76f6-4a08-ab11-0f7c537393d6",
   "metadata": {},
   "source": [
    "----"
   ]
  },
  {
   "cell_type": "markdown",
   "id": "6ed17dd3-c895-449a-a5be-a23030f83424",
   "metadata": {},
   "source": [
    "> `local & global`"
   ]
  },
  {
   "cell_type": "markdown",
   "id": "6346ac01-2e1b-452b-91d6-61f175338a15",
   "metadata": {},
   "source": [
    "얘는 함수 바깥에 있는 변수임"
   ]
  },
  {
   "cell_type": "code",
   "execution_count": null,
   "id": "2d507dfb-0897-42ba-8765-0be586a22b37",
   "metadata": {},
   "outputs": [],
   "source": [
    "y=5 # global 변수"
   ]
  },
  {
   "cell_type": "code",
   "execution_count": null,
   "id": "6c2d8568-7a6b-4d0d-8f41-88f4f8178ba0",
   "metadata": {},
   "outputs": [],
   "source": [
    "def fn(x) :\n",
    "    y=x+10\n",
    "    print('함수 안에 있는 변수, y=' + str(y))\n",
    "    return y # local 변수"
   ]
  },
  {
   "cell_type": "code",
   "execution_count": null,
   "id": "b1a7dc18-1f07-408d-85e6-cfe13c801cc1",
   "metadata": {},
   "outputs": [],
   "source": [
    "fn(2)"
   ]
  },
  {
   "cell_type": "code",
   "execution_count": null,
   "id": "71f935ab-1b1d-4e2a-a89b-c909e1e8f531",
   "metadata": {},
   "outputs": [],
   "source": [
    "print('함수 밖에 있는 변수, y=' + str(y))"
   ]
  },
  {
   "cell_type": "markdown",
   "id": "b2abd1df-2338-4f01-83c0-daa0a4b72b78",
   "metadata": {},
   "source": [
    "---"
   ]
  },
  {
   "cell_type": "markdown",
   "id": "e4f47389-2532-4c02-8a54-ce8d13754407",
   "metadata": {},
   "source": [
    "> local을 global로 사용해보자"
   ]
  },
  {
   "cell_type": "code",
   "execution_count": null,
   "id": "703e6303-81aa-40cc-b696-919a84f6150e",
   "metadata": {},
   "outputs": [],
   "source": [
    "def fn(x) :\n",
    "    global y\n",
    "    y=x+10\n",
    "    return y "
   ]
  },
  {
   "cell_type": "code",
   "execution_count": null,
   "id": "d5d0ea88-4859-432d-a6ea-9c5f0350b817",
   "metadata": {},
   "outputs": [],
   "source": [
    "fn(3)"
   ]
  },
  {
   "cell_type": "code",
   "execution_count": null,
   "id": "7e4c0722-3c76-4966-bdf3-d024a66e38b4",
   "metadata": {},
   "outputs": [],
   "source": [
    "y"
   ]
  },
  {
   "cell_type": "markdown",
   "id": "be28b205-5fd7-47ba-9a23-574017b4aeb9",
   "metadata": {},
   "source": [
    "---"
   ]
  },
  {
   "cell_type": "code",
   "execution_count": null,
   "id": "6ec0e7d6-75a7-48fa-b1c7-19680d22f7e2",
   "metadata": {},
   "outputs": [],
   "source": [
    "def f2(x):\n",
    "    return x+10"
   ]
  },
  {
   "cell_type": "code",
   "execution_count": null,
   "id": "3e74e54a-0044-4544-9300-6e13ca8e5ad6",
   "metadata": {},
   "outputs": [],
   "source": [
    "f2(3)"
   ]
  },
  {
   "cell_type": "markdown",
   "id": "dbfbf8e0-ea4a-42f9-9735-53bf3912e4fa",
   "metadata": {},
   "source": [
    "---"
   ]
  },
  {
   "cell_type": "markdown",
   "id": "b3117c0a-9cfc-439b-965d-acd101bc5cf8",
   "metadata": {},
   "source": [
    "- input을 지정 안 하고 함수가 알아서 지정할 수 있게 할 수 있음"
   ]
  },
  {
   "cell_type": "code",
   "execution_count": null,
   "id": "60439b7f-d09e-47b4-a57c-7e4e2bdfec56",
   "metadata": {},
   "outputs": [],
   "source": [
    "def f2(x=5):\n",
    "    return x+10"
   ]
  },
  {
   "cell_type": "code",
   "execution_count": null,
   "id": "f1e803b6-4df5-419a-ba11-f6aff9a8ff0a",
   "metadata": {},
   "outputs": [],
   "source": [
    "f2()"
   ]
  },
  {
   "cell_type": "code",
   "execution_count": null,
   "id": "f0b74dd5-3dfd-4c90-9c86-13cd66ff3063",
   "metadata": {},
   "outputs": [],
   "source": [
    "f2(40)"
   ]
  },
  {
   "cell_type": "markdown",
   "id": "8d1f3dfd-0771-4c11-8566-de371f4f7ac8",
   "metadata": {},
   "source": [
    "- 물론 이렇게 input을 다시 줄 순 있음"
   ]
  },
  {
   "cell_type": "markdown",
   "id": "5cba3aaa-065f-4e62-9037-2b8c9182333c",
   "metadata": {},
   "source": [
    "---"
   ]
  },
  {
   "cell_type": "code",
   "execution_count": null,
   "id": "2043fcc9-8a63-4696-a2e4-406738c8a0b9",
   "metadata": {},
   "outputs": [],
   "source": [
    "def f3(x1,x2):\n",
    "    return x1+x2"
   ]
  },
  {
   "cell_type": "code",
   "execution_count": null,
   "id": "291777c4-96ae-404e-b4f3-90fac6c718d9",
   "metadata": {},
   "outputs": [],
   "source": [
    "f3(3,5)"
   ]
  },
  {
   "cell_type": "markdown",
   "id": "7c2a83b4-5329-4468-80e9-a8dba6db2dee",
   "metadata": {},
   "source": [
    "---"
   ]
  },
  {
   "cell_type": "code",
   "execution_count": null,
   "id": "b2c7cc96-e9c6-482a-946e-9e895b4e1bc9",
   "metadata": {},
   "outputs": [],
   "source": [
    "def f4(name,age=0,lan='NONE'):\n",
    "    print(name+' '+str(age)+' '+lan)"
   ]
  },
  {
   "cell_type": "code",
   "execution_count": null,
   "id": "b279c618-3524-4420-b400-df54a2016b52",
   "metadata": {},
   "outputs": [],
   "source": [
    "f4('rhkrehtjd')\n",
    "# 이렇게 나이와 lan을 입력 안 해도 함수 만들 때 미리 지정해주고 시작해도 됨\n",
    "# 그런데 입력값이 생겼을 땐 그 입력값을 사용할 수 있음"
   ]
  },
  {
   "cell_type": "code",
   "execution_count": null,
   "id": "d5d6eb7d-1923-475b-b6f0-4da4e8e0b550",
   "metadata": {},
   "outputs": [],
   "source": [
    "f4('rhkrehtjd',2,'R')"
   ]
  },
  {
   "cell_type": "markdown",
   "id": "8dbb9cbb-6a9e-4f17-b477-19fe083de7e1",
   "metadata": {},
   "source": [
    "- 순서를 바꿔 쓴다면?"
   ]
  },
  {
   "cell_type": "code",
   "execution_count": null,
   "id": "8d75deac-1dad-42e7-9f2b-e82beade70c8",
   "metadata": {},
   "outputs": [],
   "source": [
    "f4('rhkrehtjd',lan='python',age=123)"
   ]
  },
  {
   "cell_type": "markdown",
   "id": "28b676d7-6a90-49c6-a8fc-3c6448e3c26f",
   "metadata": {},
   "source": [
    "- 이렇게 순서 바꿔쓸거면 keyword만 제대로 명시해주자"
   ]
  },
  {
   "cell_type": "markdown",
   "id": "c7820f21-41e1-4cea-86b7-56782df906cc",
   "metadata": {},
   "source": [
    "- 그런데 이렇게 순서 바꿔쓸 수 있는건 초기화로 설정된 변수에서만 사용가능함\n",
    "\n",
    "- 즉 이 함수 f4에선 age하고 lan만 초기화 상태로 명했고 name은 초기화해놓지 않았기 때문에 name은 그 자리에서 input해줘야 함"
   ]
  },
  {
   "cell_type": "markdown",
   "id": "87966f43-971d-4ec7-8b04-7fc5cf36722d",
   "metadata": {},
   "source": [
    "---"
   ]
  },
  {
   "cell_type": "code",
   "execution_count": null,
   "id": "824418d7-9751-4d4e-a16c-1c498eed8494",
   "metadata": {},
   "outputs": [],
   "source": [
    "#arbitrary arguments\n",
    "def ff(*x):\n",
    "    print(x)"
   ]
  },
  {
   "cell_type": "code",
   "execution_count": null,
   "id": "9ef91e44-a798-49b1-9c69-5e191bdb8057",
   "metadata": {},
   "outputs": [],
   "source": [
    "ff('abc','asd','qgeqve','asdasdf')"
   ]
  },
  {
   "cell_type": "markdown",
   "id": "18a7204f-7612-4641-bd88-5189867d2aa5",
   "metadata": {},
   "source": [
    "- 이렇게 input이 몇개가 들어와도 해결이 가능함"
   ]
  },
  {
   "cell_type": "code",
   "execution_count": null,
   "id": "980eb855-8f4b-47e6-8fd8-48893a844c71",
   "metadata": {},
   "outputs": [],
   "source": [
    "def fff(*x):\n",
    "    for a in x:\n",
    "        print(a)"
   ]
  },
  {
   "cell_type": "code",
   "execution_count": null,
   "id": "5638dfef-07d1-4a71-a553-977a8e30b3fb",
   "metadata": {},
   "outputs": [],
   "source": [
    "fff('asd','asdqw','qwg')"
   ]
  },
  {
   "cell_type": "markdown",
   "id": "c976a9d6-7dd9-41b5-9f1c-fa3f8ac6072c",
   "metadata": {},
   "source": [
    "----"
   ]
  },
  {
   "cell_type": "markdown",
   "id": "fb8540e1-d05f-4f5c-83b9-abc378acfa10",
   "metadata": {},
   "source": [
    "이런식으로 input을 몇개주더라도 그 input을 다 더해주는 함수"
   ]
  },
  {
   "cell_type": "code",
   "execution_count": null,
   "id": "1c1a165b-4b22-4cd8-b41b-972e53e3120f",
   "metadata": {},
   "outputs": [],
   "source": [
    "def qq(*args):\n",
    "    total = 0\n",
    "    for a in args:\n",
    "        total += a\n",
    "    return total"
   ]
  },
  {
   "cell_type": "code",
   "execution_count": null,
   "id": "c04853d7-9637-4fef-92c5-cb0561f901e8",
   "metadata": {},
   "outputs": [],
   "source": [
    "qq(12,12,34) "
   ]
  },
  {
   "cell_type": "markdown",
   "id": "8e12852d-a17a-40f9-b17e-6e1ab7d9487f",
   "metadata": {},
   "source": [
    "---"
   ]
  },
  {
   "cell_type": "code",
   "execution_count": null,
   "id": "ec247af1-ada2-4c3b-82cf-c893496f277b",
   "metadata": {},
   "outputs": [],
   "source": [
    "def cc(*x):\n",
    "    com=''\n",
    "    for a in x:\n",
    "        com +=a\n",
    "    return com"
   ]
  },
  {
   "cell_type": "code",
   "execution_count": null,
   "id": "83d6e286-5f30-491b-aa4f-1296d20b4411",
   "metadata": {},
   "outputs": [],
   "source": [
    "cc('pt','Rhkrehtjd')"
   ]
  },
  {
   "cell_type": "markdown",
   "id": "1035f78d-f03b-4548-aee1-5bd442e0b7b7",
   "metadata": {},
   "source": [
    "---"
   ]
  },
  {
   "cell_type": "code",
   "execution_count": null,
   "id": "54f71451-deb4-441b-84ef-280cefa9550a",
   "metadata": {},
   "outputs": [],
   "source": [
    "#unpacking arguements\n",
    "#박스를 펼치는 것처럼 arguements를 하나로 받아서 펼치는...\n",
    "a=[10,15]\n",
    "list(range(a[0],a[1]+1,))"
   ]
  },
  {
   "cell_type": "code",
   "execution_count": null,
   "id": "542db882-3eda-49d1-aa48-d17abc94c793",
   "metadata": {},
   "outputs": [],
   "source": [
    "a[1]+=1"
   ]
  },
  {
   "cell_type": "code",
   "execution_count": null,
   "id": "66f98767-88ec-4d1b-b0be-eba696174e16",
   "metadata": {},
   "outputs": [],
   "source": [
    "list(range(*a))"
   ]
  },
  {
   "cell_type": "markdown",
   "id": "2ef2e6a1-1fe0-48da-b551-5beddded9bbd",
   "metadata": {},
   "source": [
    "---"
   ]
  },
  {
   "cell_type": "code",
   "execution_count": null,
   "id": "f10f9fa3-c423-4007-98fc-d9b30d5813cb",
   "metadata": {},
   "outputs": [],
   "source": [
    "def qq():\n",
    "    num_s=int(input('Start num: '))\n",
    "    num_e=int(input('End num: '))\n",
    "    num_inc=int(input('Increment: '))\n",
    "    \n",
    "    out_list=list(range(num_s,num_e+1,num_inc))\n",
    "    \n",
    "    return out_list"
   ]
  },
  {
   "cell_type": "code",
   "execution_count": null,
   "id": "2f35edd5-9cfd-4ee6-b782-bf735b11352e",
   "metadata": {},
   "outputs": [],
   "source": [
    "qq()"
   ]
  },
  {
   "cell_type": "markdown",
   "id": "fd705894-c76f-42a8-8bf0-0fa483834974",
   "metadata": {},
   "source": [
    "- 입력 세번을 한 번에 할 수 있게 해보자"
   ]
  },
  {
   "cell_type": "code",
   "execution_count": null,
   "id": "da1132bd-3cdd-46be-8edb-4da9ee345f86",
   "metadata": {},
   "outputs": [],
   "source": [
    "def qq2():\n",
    "    print('숫자를 다음과 같이 입력해주세요 ')\n",
    "    print('시작: ,끝: ,증가단위: ')\n",
    "    print('예시: 0,5,1')\n",
    "    \n",
    "    ui=input('입력해주세요: ')\n",
    "    ui_list=[int(i)for i in ui.split(',')]\n",
    "    \n",
    "    out_list=list(range(*ui_list))\n",
    "    \n",
    "    return out_list"
   ]
  },
  {
   "cell_type": "code",
   "execution_count": null,
   "id": "6dfa368a-73ca-4fb4-ab3e-74e3df98dc5d",
   "metadata": {},
   "outputs": [],
   "source": [
    "qq2 ()"
   ]
  },
  {
   "cell_type": "markdown",
   "id": "c1ab3135-ffb3-4d4e-a9da-1cbfc1bf518f",
   "metadata": {},
   "source": [
    "- 만약 마지막 숫자도 포함하고 싶다면?"
   ]
  },
  {
   "cell_type": "code",
   "execution_count": null,
   "id": "11446f0a-1aea-4cab-9939-ac66fbdda6be",
   "metadata": {},
   "outputs": [],
   "source": [
    "def qq2():\n",
    "    print('숫자를 다음과 같이 입력해주세요 ')\n",
    "    print('시작: ,끝: ,증가단위: ')\n",
    "    print('예시: 0,5,1')\n",
    "    \n",
    "    ui=input('입력해주세요: ')\n",
    "    ui_list=[int(i)for i in ui.split(',')]\n",
    "    ui_list[1]+=1\n",
    "    out_list=list(range(*ui_list))\n",
    "    \n",
    "    return out_list"
   ]
  },
  {
   "cell_type": "code",
   "execution_count": null,
   "id": "21419ad3-46db-4853-88b6-6f27740fdb30",
   "metadata": {},
   "outputs": [],
   "source": [
    "qq2()"
   ]
  },
  {
   "cell_type": "markdown",
   "id": "733ac2ce-81e0-4632-bbc5-c50685199306",
   "metadata": {},
   "source": [
    "---"
   ]
  },
  {
   "cell_type": "markdown",
   "id": "8841460c-58bd-42de-8a76-0ad6ac17c7c6",
   "metadata": {},
   "source": [
    "-  documentation $\\to$ 함수에 도움말을 넣어보자"
   ]
  },
  {
   "cell_type": "code",
   "execution_count": null,
   "id": "6bf22898-6873-403a-a994-ad954b6ecaea",
   "metadata": {},
   "outputs": [],
   "source": [
    "def qw(x):\n",
    "    \"\"\"\n",
    "    여기가 함수의 도움말\n",
    "    \"\"\"\n",
    "    return x+10"
   ]
  },
  {
   "cell_type": "code",
   "execution_count": null,
   "id": "9e29c873-3d98-42c5-9af0-68802fa5e32a",
   "metadata": {},
   "outputs": [],
   "source": [
    "help(qw)"
   ]
  },
  {
   "cell_type": "code",
   "execution_count": null,
   "id": "161fbb61-d85d-4e53-a585-0c6ce76a8608",
   "metadata": {},
   "outputs": [],
   "source": [
    "print(qw.__doc__)"
   ]
  },
  {
   "cell_type": "markdown",
   "id": "341359f5-1c1e-40bb-8674-7a51d9350bb1",
   "metadata": {},
   "source": [
    "---"
   ]
  },
  {
   "cell_type": "markdown",
   "id": "dba89dcc-b3ce-4aab-a2a5-bd4dfe7cf082",
   "metadata": {},
   "source": [
    "> `annotation`"
   ]
  },
  {
   "cell_type": "code",
   "execution_count": null,
   "id": "696e9121-2014-42b0-8ba4-c12829698e05",
   "metadata": {},
   "outputs": [],
   "source": [
    "def fu(num):\n",
    "    out=num+10\n",
    "    return out"
   ]
  },
  {
   "cell_type": "code",
   "execution_count": null,
   "id": "7145b3d9-6c6f-4096-a1fa-ec1601c4b334",
   "metadata": {},
   "outputs": [],
   "source": [
    "print(fu.__annotations__)"
   ]
  },
  {
   "cell_type": "code",
   "execution_count": null,
   "id": "1544223e-df4e-4118-bcd4-b7facaca3f8c",
   "metadata": {},
   "outputs": [],
   "source": [
    "def fu(num:int):\n",
    "    out=num+10\n",
    "    return out"
   ]
  },
  {
   "cell_type": "code",
   "execution_count": null,
   "id": "723b2581-db1d-40f9-9349-fdee11f527a4",
   "metadata": {},
   "outputs": [],
   "source": [
    "print(fu.__annotations__)"
   ]
  },
  {
   "cell_type": "markdown",
   "id": "a925b587-69eb-47dc-83df-0e29b1983b19",
   "metadata": {},
   "source": [
    "input이 들어올 때 어떤 형식으로 들어와야 하는지 주석을 달아준다고 생각하면 됨"
   ]
  },
  {
   "cell_type": "code",
   "execution_count": null,
   "id": "caf5e27c-ca5b-4cc0-98d3-feb2ebee4b34",
   "metadata": {},
   "outputs": [],
   "source": [
    "def fu(num:int)->int:\n",
    "    out=num+10\n",
    "    return out"
   ]
  },
  {
   "cell_type": "code",
   "execution_count": null,
   "id": "fcd78731-b737-4059-bb74-08e84fc0ffea",
   "metadata": {},
   "outputs": [],
   "source": [
    "print(fu.__annotations__)"
   ]
  },
  {
   "cell_type": "markdown",
   "id": "3af6edec-7590-4919-8815-d917d73afced",
   "metadata": {},
   "source": [
    "이렇게 output의 자료형도 주석을 달듯이 알려줄 수가 있음"
   ]
  },
  {
   "cell_type": "markdown",
   "id": "3f966e60-a1de-4595-b676-5132c2d48196",
   "metadata": {},
   "source": [
    "---"
   ]
  },
  {
   "cell_type": "markdown",
   "id": "849f1733-3be4-4349-8fec-332b0283c120",
   "metadata": {},
   "source": [
    "> #### `lambda`"
   ]
  },
  {
   "cell_type": "code",
   "execution_count": null,
   "id": "1dcf8612-f323-4d26-837a-023f3033f11e",
   "metadata": {},
   "outputs": [],
   "source": [
    "add_one = lambda x: x+1"
   ]
  },
  {
   "cell_type": "code",
   "execution_count": null,
   "id": "20b9adb8-61e7-45d8-b745-7aad0fda97b7",
   "metadata": {},
   "outputs": [],
   "source": [
    "add_one(1)"
   ]
  },
  {
   "cell_type": "code",
   "execution_count": null,
   "id": "af19d255-ae90-448f-865c-35079ada812d",
   "metadata": {},
   "outputs": [],
   "source": [
    "y=(lambda x:x+1)(10)"
   ]
  },
  {
   "cell_type": "code",
   "execution_count": null,
   "id": "83c29267-a228-4447-be49-31e859dc0220",
   "metadata": {},
   "outputs": [],
   "source": [
    "y"
   ]
  },
  {
   "cell_type": "markdown",
   "id": "45946db8-6c1e-4c97-b646-64d0cebc7352",
   "metadata": {},
   "source": [
    "- lambda를 사용할 때 이렇게 한 줄로 함수와 입력을 동시에 명해줄 수가 있음"
   ]
  },
  {
   "cell_type": "code",
   "execution_count": null,
   "id": "d9ae8757-356f-47ce-9236-8bf357e18c40",
   "metadata": {},
   "outputs": [],
   "source": [
    "def a(x):\n",
    "    return x+10"
   ]
  },
  {
   "cell_type": "code",
   "execution_count": null,
   "id": "82bcc4bf-be64-46bf-b476-954a6119c164",
   "metadata": {},
   "outputs": [],
   "source": [
    "high_ord_function=lambda x: x+a(x)"
   ]
  },
  {
   "cell_type": "code",
   "execution_count": null,
   "id": "aa5cc814-ac54-4b3c-90a3-8ea609196439",
   "metadata": {},
   "outputs": [],
   "source": [
    "high_ord_function(2)"
   ]
  },
  {
   "cell_type": "markdown",
   "id": "2f603367-dece-4ba7-89b3-ca122601a652",
   "metadata": {},
   "source": [
    "---"
   ]
  },
  {
   "cell_type": "code",
   "execution_count": null,
   "id": "db1c81b6-7cb6-4ea0-9f03-05d397003c2f",
   "metadata": {},
   "outputs": [],
   "source": [
    "high_ord_function=lambda x, ff:x+ff(x)"
   ]
  },
  {
   "cell_type": "code",
   "execution_count": null,
   "id": "d3e42c0e-ca49-4b95-88f1-0f3a9f27d695",
   "metadata": {},
   "outputs": [],
   "source": [
    "high_ord_function(2,lambda x:x+1)"
   ]
  },
  {
   "cell_type": "code",
   "execution_count": null,
   "id": "fc740883-3dea-4d91-a297-0a9c663dabd8",
   "metadata": {},
   "outputs": [],
   "source": [
    "high_ord_function(2,lambda x:x-1)"
   ]
  },
  {
   "cell_type": "markdown",
   "id": "f5395db4-797f-47c2-bcc1-67c997e6350b",
   "metadata": {},
   "source": [
    "- 이런식으로 lmabda를 사용하게 되면 실시간으로 함수자체를 input으로 줘서 고차원 함수를 사용할 수 있게 됨"
   ]
  },
  {
   "cell_type": "markdown",
   "id": "c61b5ebe-65c5-42ca-95e5-ca885e38c967",
   "metadata": {},
   "source": [
    "----"
   ]
  },
  {
   "cell_type": "markdown",
   "id": "c2ce8983-b088-4e9e-9a6b-333be162d4ac",
   "metadata": {},
   "source": [
    "> ### `map`"
   ]
  },
  {
   "cell_type": "code",
   "execution_count": null,
   "id": "1047d43d-3e00-4941-af4f-e7db3d7c1c59",
   "metadata": {},
   "outputs": [],
   "source": [
    "import numpy as np\n",
    "a=np.array([1,2,3,4,5])\n",
    "a*2"
   ]
  },
  {
   "cell_type": "code",
   "execution_count": null,
   "id": "d3db3bf0-e218-434f-a034-40fbd76008a1",
   "metadata": {},
   "outputs": [],
   "source": [
    "a=[1,2,3,4,5]\n",
    "a*2"
   ]
  },
  {
   "cell_type": "markdown",
   "id": "b4e7b901-9020-4d07-8af3-2d966f0c38a0",
   "metadata": {},
   "source": [
    "물론 numpy를 활용하여 각 원소들을 두배 해줄 수도 있겠지만 list에선 불가능, 그럼 꼭 numpy를 사용해야할까, 그냥 map을 사용해도 된다."
   ]
  },
  {
   "cell_type": "code",
   "execution_count": null,
   "id": "db120c60-014c-4654-a1e4-471b73c976d0",
   "metadata": {},
   "outputs": [],
   "source": [
    "list(map(lambda x: x+10,[1,2,3]))"
   ]
  },
  {
   "cell_type": "markdown",
   "id": "158a1a44-6642-40e8-bb27-d6af0dc41dca",
   "metadata": {},
   "source": [
    "lambda x:x+10 이 자리에 이미 정의되어 있는 함수 이름을 그대로 넣어줘도 됨"
   ]
  },
  {
   "cell_type": "code",
   "execution_count": null,
   "id": "3459e8ed-25a1-4df6-bdcf-0e59c3af9dec",
   "metadata": {},
   "outputs": [],
   "source": [
    "vip='rhkrehtjd'\n",
    "vip.upper()"
   ]
  },
  {
   "cell_type": "code",
   "execution_count": null,
   "id": "f60b6e71-6a11-4b9a-b9b3-c0b4cb3848e0",
   "metadata": {},
   "outputs": [],
   "source": [
    "vip_list=['adqw','wfdf','sdgv']"
   ]
  },
  {
   "cell_type": "markdown",
   "id": "5dcf4224-c690-4933-9786-6968a48d9aa0",
   "metadata": {},
   "source": [
    "- vip_list는 list이기 때문에 upper라는 함수를 지원하지 않음\n",
    "\n",
    "- 그렇지만 vip_list안에 있는 str은 upper라는 함수를 사용할 수 있음"
   ]
  },
  {
   "cell_type": "code",
   "execution_count": null,
   "id": "77f034d1-97bc-48d0-8b08-47b3b65edc1b",
   "metadata": {},
   "outputs": [],
   "source": [
    "vip_list=list(map(lambda x: x.upper()  ,vip_list))"
   ]
  },
  {
   "cell_type": "code",
   "execution_count": null,
   "id": "4c464dec-ed7b-4b89-b3c3-e9b8a1ea4147",
   "metadata": {},
   "outputs": [],
   "source": [
    "vip_list"
   ]
  },
  {
   "cell_type": "markdown",
   "id": "4d408fcd-aa3d-4dc1-bf43-61fe53704baf",
   "metadata": {},
   "source": [
    "----"
   ]
  },
  {
   "cell_type": "code",
   "execution_count": null,
   "id": "93b5ea14-52e8-4215-a759-88f8d28c3c57",
   "metadata": {},
   "outputs": [],
   "source": [
    "vip_list_name_len_list=list(map(lambda x:len(x),\n",
    "                               vip_list))"
   ]
  },
  {
   "cell_type": "code",
   "execution_count": null,
   "id": "6e06174b-a514-4e39-b186-2a8193898871",
   "metadata": {},
   "outputs": [],
   "source": [
    "vip_list_name_len_list"
   ]
  },
  {
   "cell_type": "markdown",
   "id": "85973b5a-418d-4844-87ee-c68e3f669458",
   "metadata": {},
   "source": [
    "---"
   ]
  },
  {
   "cell_type": "markdown",
   "id": "f568d707-ad5e-4bec-81bf-ce210688a42b",
   "metadata": {},
   "source": [
    "> ## 중요** `filter`"
   ]
  },
  {
   "cell_type": "code",
   "execution_count": null,
   "id": "d4462b82-8b01-4dfd-8a1c-a92ecdee5f79",
   "metadata": {},
   "outputs": [],
   "source": [
    "list(filter(lambda x: 'P' in x, vip_list))"
   ]
  },
  {
   "cell_type": "markdown",
   "id": "b0e5884e-cc00-44db-b396-ebaf68cee672",
   "metadata": {},
   "source": [
    "아무도 없어서 빈 list가 나왔음"
   ]
  },
  {
   "cell_type": "code",
   "execution_count": null,
   "id": "ed650198-8d02-433b-8ec7-ef1d2947eaea",
   "metadata": {},
   "outputs": [],
   "source": [
    "list(filter(lambda x: 'W' in x, vip_list))"
   ]
  },
  {
   "cell_type": "code",
   "execution_count": null,
   "id": "987c8034-7a31-4049-bf2e-f2d2ceded7a3",
   "metadata": {},
   "outputs": [],
   "source": [
    "x=[1,2,3,4,5]\n",
    "list(filter(lambda x: x%2==0,x))"
   ]
  },
  {
   "cell_type": "code",
   "execution_count": null,
   "id": "7816e2b1-9471-4d81-a5ed-190b12e26a13",
   "metadata": {},
   "outputs": [],
   "source": [
    "list(filter(lambda x: x%2!=0,x))"
   ]
  },
  {
   "cell_type": "markdown",
   "id": "987390e4-f362-477a-a8d0-01a96c453f1f",
   "metadata": {},
   "source": [
    "---"
   ]
  },
  {
   "cell_type": "markdown",
   "id": "2a2677c1-e749-41fe-a896-45a065ea2b30",
   "metadata": {},
   "source": [
    "> ### `reduce`"
   ]
  },
  {
   "cell_type": "code",
   "execution_count": null,
   "id": "9422bf57-c3e0-46f4-a459-50370f0bb669",
   "metadata": {},
   "outputs": [],
   "source": [
    "from functools import reduce"
   ]
  },
  {
   "cell_type": "code",
   "execution_count": null,
   "id": "eb3904ae-8917-4e76-9194-35f61c259ee0",
   "metadata": {},
   "outputs": [],
   "source": [
    "list_=[10,20,30]"
   ]
  },
  {
   "cell_type": "code",
   "execution_count": null,
   "id": "af566aab-499b-440e-b0a5-eb02827de890",
   "metadata": {},
   "outputs": [],
   "source": [
    "def add(x,y):\n",
    "    return x+y"
   ]
  },
  {
   "cell_type": "code",
   "execution_count": null,
   "id": "650cd8d6-22e0-4c31-bde5-81c065a01004",
   "metadata": {},
   "outputs": [],
   "source": [
    "reduce(add,list_)"
   ]
  },
  {
   "cell_type": "markdown",
   "id": "33b910bf-bccb-4a45-8306-34df5fe3fff6",
   "metadata": {},
   "source": [
    "연속적으로 연산을 수행해준다고 생각하면 됨"
   ]
  },
  {
   "cell_type": "markdown",
   "id": "ae665152-1d66-4a50-8907-c32fbc5ea171",
   "metadata": {},
   "source": [
    "이걸 lambda를 사용하여 해결해보자"
   ]
  },
  {
   "cell_type": "code",
   "execution_count": null,
   "id": "70bac8fe-ce37-4dd9-9136-b1e6ab5610a2",
   "metadata": {},
   "outputs": [],
   "source": [
    "reduce(lambda a,b : a+b,list_)"
   ]
  },
  {
   "cell_type": "code",
   "execution_count": null,
   "id": "8a5ba510-b67d-470f-9a4d-3bf859bda8f1",
   "metadata": {},
   "outputs": [],
   "source": [
    "sum(list_)"
   ]
  },
  {
   "cell_type": "markdown",
   "id": "b932cc7a-558a-4598-a0f5-99ab05ecfcb0",
   "metadata": {},
   "source": [
    "---"
   ]
  },
  {
   "cell_type": "code",
   "execution_count": null,
   "id": "04171b36-d347-4044-9d52-889da3b4a463",
   "metadata": {},
   "outputs": [],
   "source": [
    "strlist=['p','y','t','h','o','n',]"
   ]
  },
  {
   "cell_type": "code",
   "execution_count": null,
   "id": "cd5dbc31-946c-4fec-a576-d1a6fc31a315",
   "metadata": {},
   "outputs": [],
   "source": [
    "reduce(lambda x,y:x+y,strlist)"
   ]
  },
  {
   "cell_type": "markdown",
   "id": "618a9aae-3332-4c48-945e-d236c172e0b1",
   "metadata": {},
   "source": [
    "---"
   ]
  },
  {
   "cell_type": "markdown",
   "id": "c087334a-497f-44e7-bc53-7d0ce7794c51",
   "metadata": {},
   "source": [
    "> `for문` $vs$ `list comprehension` $vs$ `lambda function`"
   ]
  },
  {
   "cell_type": "code",
   "execution_count": 1,
   "id": "b3efed46-655f-47ca-865d-d3ede7512a8e",
   "metadata": {},
   "outputs": [
    {
     "name": "stdout",
     "output_type": "stream",
     "text": [
      "['p', 'y', 't', 'h', 'o', 'n']\n"
     ]
    }
   ],
   "source": [
    "letter_list=[]\n",
    "for letter in 'python':\n",
    "    letter_list.append(letter)\n",
    "print(letter_list)"
   ]
  },
  {
   "cell_type": "code",
   "execution_count": 2,
   "id": "8b499ebb-1e97-4126-96c2-73ab5397a77e",
   "metadata": {},
   "outputs": [
    {
     "data": {
      "text/plain": [
       "['p', 'y', 't', 'h', 'o', 'n']"
      ]
     },
     "execution_count": 2,
     "metadata": {},
     "output_type": "execute_result"
    }
   ],
   "source": [
    "letter_list_2=[letter for letter in 'python']\n",
    "letter_list_2"
   ]
  },
  {
   "cell_type": "code",
   "execution_count": 3,
   "id": "094266c0-711f-4462-9de6-d53a3339842e",
   "metadata": {},
   "outputs": [
    {
     "data": {
      "text/plain": [
       "['p', 'y', 't', 'h', 'o', 'n']"
      ]
     },
     "execution_count": 3,
     "metadata": {},
     "output_type": "execute_result"
    }
   ],
   "source": [
    "list(map(lambda x : x, 'python'))"
   ]
  },
  {
   "cell_type": "markdown",
   "id": "8ef2b644-5ef0-4ca6-80a0-eadb8b29f2f4",
   "metadata": {},
   "source": [
    "---"
   ]
  },
  {
   "cell_type": "code",
   "execution_count": 4,
   "id": "dc9e9238-5b36-475e-a2b4-96409e6dac7a",
   "metadata": {},
   "outputs": [],
   "source": [
    "a,b=0,1"
   ]
  },
  {
   "cell_type": "code",
   "execution_count": 5,
   "id": "d4820777-18f4-4ecc-a8cd-f9d46f02bcfa",
   "metadata": {},
   "outputs": [
    {
     "data": {
      "text/plain": [
       "0"
      ]
     },
     "execution_count": 5,
     "metadata": {},
     "output_type": "execute_result"
    }
   ],
   "source": [
    "a"
   ]
  },
  {
   "cell_type": "markdown",
   "id": "1c9de710-1843-43f9-801c-4568aa561e97",
   "metadata": {},
   "source": [
    "이렇게 변수 두개를 한 번에 저장해줄 수 있음\n",
    "\n",
    "tuple을 만드는 게 아님"
   ]
  },
  {
   "cell_type": "code",
   "execution_count": 8,
   "id": "c4e4b819-7bfc-496a-bafa-51c604e7d70d",
   "metadata": {},
   "outputs": [],
   "source": [
    "def my_fib_seq(n):\n",
    "    a,b=0,1\n",
    "    seq=[a,b]\n",
    "    for i in range(n-2):  # 이미 0,1은 있으니까 -2해줌\n",
    "        a,b=b,a+b\n",
    "        seq.append(b)\n",
    "    return seq    "
   ]
  },
  {
   "cell_type": "code",
   "execution_count": 10,
   "id": "921415a7-1aad-4b0c-b940-5fa1d90c13b9",
   "metadata": {},
   "outputs": [
    {
     "data": {
      "text/plain": [
       "[0, 1, 1]"
      ]
     },
     "execution_count": 10,
     "metadata": {},
     "output_type": "execute_result"
    }
   ],
   "source": [
    "my_fib_seq(3)"
   ]
  },
  {
   "cell_type": "markdown",
   "id": "11f59757-f67b-4c83-9266-4510a117ebd4",
   "metadata": {},
   "source": [
    "이렇게 fibonachi 수열을 만들어봤음"
   ]
  },
  {
   "cell_type": "code",
   "execution_count": 11,
   "id": "0f9c923d-2ad5-4e0c-9863-0255799e7dff",
   "metadata": {},
   "outputs": [],
   "source": [
    "def my_powers(number):\n",
    "    return number,number**2,number**3"
   ]
  },
  {
   "cell_type": "code",
   "execution_count": 14,
   "id": "055f08e3-d0c2-4a5c-aa24-ea8766ce880d",
   "metadata": {},
   "outputs": [],
   "source": [
    "a=my_powers(2)"
   ]
  },
  {
   "cell_type": "code",
   "execution_count": 15,
   "id": "5314757d-c87e-4f70-891b-6a505c18c628",
   "metadata": {},
   "outputs": [
    {
     "data": {
      "text/plain": [
       "[2, 4, 8]"
      ]
     },
     "execution_count": 15,
     "metadata": {},
     "output_type": "execute_result"
    }
   ],
   "source": [
    "list(a)"
   ]
  },
  {
   "cell_type": "code",
   "execution_count": 17,
   "id": "3321150f-5d7a-434c-bbb5-87830f907b1f",
   "metadata": {},
   "outputs": [],
   "source": [
    "# unpacking\n",
    "number,square,cube=my_powers(2)"
   ]
  },
  {
   "cell_type": "markdown",
   "id": "5f4f303e-ff9d-4b06-b81f-93ff3fc5e730",
   "metadata": {},
   "source": [
    "cube만 필요하다?"
   ]
  },
  {
   "cell_type": "code",
   "execution_count": 21,
   "id": "4e1e45dd-3064-45b2-a314-1c5a88390cf1",
   "metadata": {},
   "outputs": [],
   "source": [
    "*_, cube=my_powers(2)"
   ]
  },
  {
   "cell_type": "code",
   "execution_count": 22,
   "id": "81e3f47e-6206-44fb-ad97-bbc11d5d8b6d",
   "metadata": {},
   "outputs": [
    {
     "data": {
      "text/plain": [
       "8"
      ]
     },
     "execution_count": 22,
     "metadata": {},
     "output_type": "execute_result"
    }
   ],
   "source": [
    "cube"
   ]
  },
  {
   "cell_type": "code",
   "execution_count": 24,
   "id": "36218118-51c1-4b15-8e02-13e3651e435f",
   "metadata": {},
   "outputs": [
    {
     "data": {
      "text/plain": [
       "[2, 4]"
      ]
     },
     "execution_count": 24,
     "metadata": {},
     "output_type": "execute_result"
    }
   ],
   "source": [
    "_"
   ]
  },
  {
   "cell_type": "markdown",
   "id": "3abc4828-26a8-4843-a4be-639581f6e66f",
   "metadata": {},
   "source": [
    "이렇게 unpacking할 수도 있음"
   ]
  },
  {
   "cell_type": "code",
   "execution_count": 25,
   "id": "8b91e189-fcaf-4bf4-87e4-601470df960c",
   "metadata": {},
   "outputs": [],
   "source": [
    "def my_sum(num_list):\n",
    "    total = 0\n",
    "    for num in num_list:\n",
    "        total+=num\n",
    "    return total"
   ]
  },
  {
   "cell_type": "code",
   "execution_count": 27,
   "id": "03116d24-7e87-4c34-96cb-9a73e0ca8422",
   "metadata": {},
   "outputs": [
    {
     "data": {
      "text/plain": [
       "6"
      ]
     },
     "execution_count": 27,
     "metadata": {},
     "output_type": "execute_result"
    }
   ],
   "source": [
    "my_sum([1,2,3])"
   ]
  },
  {
   "cell_type": "code",
   "execution_count": 28,
   "id": "86c35cb7-b47d-48c4-9eb4-977c3f8cdba3",
   "metadata": {},
   "outputs": [],
   "source": [
    "def my_mean(num_list):\n",
    "    s=my_sum(num_list)\n",
    "    N=len(num_list)\n",
    "    return s/N"
   ]
  },
  {
   "cell_type": "code",
   "execution_count": 29,
   "id": "186a32be-11cd-42be-bb4a-69beb163ae5c",
   "metadata": {},
   "outputs": [
    {
     "data": {
      "text/plain": [
       "9.0"
      ]
     },
     "execution_count": 29,
     "metadata": {},
     "output_type": "execute_result"
    }
   ],
   "source": [
    "my_mean([8,10])"
   ]
  }
 ],
 "metadata": {
  "kernelspec": {
   "display_name": "Python 3 (ipykernel)",
   "language": "python",
   "name": "python3"
  },
  "language_info": {
   "codemirror_mode": {
    "name": "ipython",
    "version": 3
   },
   "file_extension": ".py",
   "mimetype": "text/x-python",
   "name": "python",
   "nbconvert_exporter": "python",
   "pygments_lexer": "ipython3",
   "version": "3.8.11"
  }
 },
 "nbformat": 4,
 "nbformat_minor": 5
}
