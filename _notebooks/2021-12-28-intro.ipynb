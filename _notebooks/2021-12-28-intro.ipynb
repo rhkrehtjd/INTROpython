{
 "cells": [
  {
   "cell_type": "markdown",
   "id": "5d266bf3-1824-46a9-816a-badf7e9ea955",
   "metadata": {},
   "source": [
    "# 2021/12/28/TUE"
   ]
  },
  {
   "cell_type": "markdown",
   "id": "c839cad5-9da0-4aea-9fa2-2fa52d53c1f7",
   "metadata": {},
   "source": [
    "> `Function` "
   ]
  },
  {
   "cell_type": "code",
   "execution_count": 19,
   "id": "8865d942-8165-49e2-89d0-cc4a85268807",
   "metadata": {},
   "outputs": [],
   "source": [
    "# pass = 일단 f라는 함수를 정의해 놓을때\n",
    "def f() : \n",
    "    pass"
   ]
  },
  {
   "cell_type": "markdown",
   "id": "22b23b86-a937-482d-b21d-891dd1ed5297",
   "metadata": {},
   "source": [
    "---"
   ]
  },
  {
   "cell_type": "code",
   "execution_count": 20,
   "id": "d4016146-c6a1-427f-a757-2dd90212398f",
   "metadata": {},
   "outputs": [],
   "source": [
    "def f() : \n",
    "    print('Hello')"
   ]
  },
  {
   "cell_type": "code",
   "execution_count": 21,
   "id": "a46a6756-dbf3-4bbb-b78a-504b158f8a63",
   "metadata": {},
   "outputs": [
    {
     "name": "stdout",
     "output_type": "stream",
     "text": [
      "Hello\n"
     ]
    }
   ],
   "source": [
    "f()"
   ]
  },
  {
   "cell_type": "markdown",
   "id": "04baa0b9-1577-4b39-8912-fed706205378",
   "metadata": {},
   "source": [
    "---"
   ]
  },
  {
   "cell_type": "code",
   "execution_count": 22,
   "id": "c247c055-a466-47b6-a21b-fb3c6f866396",
   "metadata": {},
   "outputs": [],
   "source": [
    "def f_(x) : \n",
    "    print('Hello' + str(x))"
   ]
  },
  {
   "cell_type": "code",
   "execution_count": 23,
   "id": "8eaab4f2-c367-4b0b-935e-f204d83f41ec",
   "metadata": {},
   "outputs": [
    {
     "name": "stdout",
     "output_type": "stream",
     "text": [
      "Hello5555\n"
     ]
    }
   ],
   "source": [
    "y=f_(5555)"
   ]
  },
  {
   "cell_type": "code",
   "execution_count": 24,
   "id": "57bfdb95-3511-4561-9dba-0916bb6140b5",
   "metadata": {},
   "outputs": [],
   "source": [
    "y"
   ]
  },
  {
   "cell_type": "code",
   "execution_count": 25,
   "id": "bcc69230-e857-4a0a-8d97-a0e6888527ce",
   "metadata": {},
   "outputs": [
    {
     "data": {
      "text/plain": [
       "NoneType"
      ]
     },
     "execution_count": 25,
     "metadata": {},
     "output_type": "execute_result"
    }
   ],
   "source": [
    "type(y)"
   ]
  },
  {
   "cell_type": "markdown",
   "id": "6a362a81-d739-4696-98dc-755b2a26009f",
   "metadata": {},
   "source": [
    "- 아무것도 안 나옴\n",
    "- output이 없는 함수이기 때문에\n",
    "- output이 있는 함수를 만들어보자"
   ]
  },
  {
   "cell_type": "code",
   "execution_count": 26,
   "id": "7faaf8ab-0eb1-4506-b5b1-33db80be38b3",
   "metadata": {},
   "outputs": [],
   "source": [
    "def fn(x) :\n",
    "    y=x+10\n",
    "    return y # OUTPUT"
   ]
  },
  {
   "cell_type": "code",
   "execution_count": 27,
   "id": "97998cab-46a5-4799-990a-02ba350b31c0",
   "metadata": {},
   "outputs": [],
   "source": [
    "y=fn(3)"
   ]
  },
  {
   "cell_type": "code",
   "execution_count": 28,
   "id": "175714fe-0053-49fc-ada3-5e922b1785da",
   "metadata": {},
   "outputs": [
    {
     "data": {
      "text/plain": [
       "13"
      ]
     },
     "execution_count": 28,
     "metadata": {},
     "output_type": "execute_result"
    }
   ],
   "source": [
    "y"
   ]
  },
  {
   "cell_type": "code",
   "execution_count": 29,
   "id": "512c25e9-2477-409f-9140-e6ef978f1fbf",
   "metadata": {},
   "outputs": [
    {
     "data": {
      "text/plain": [
       "int"
      ]
     },
     "execution_count": 29,
     "metadata": {},
     "output_type": "execute_result"
    }
   ],
   "source": [
    "type(y)"
   ]
  },
  {
   "cell_type": "markdown",
   "id": "d9ca9386-c904-4c7c-991b-63b1a80bdb62",
   "metadata": {},
   "source": [
    "- return이라는 output이 생김"
   ]
  },
  {
   "cell_type": "code",
   "execution_count": 30,
   "id": "73a808a9-df7d-4a35-8c2e-9784e28cb554",
   "metadata": {},
   "outputs": [],
   "source": [
    "out=fn(123)"
   ]
  },
  {
   "cell_type": "code",
   "execution_count": 31,
   "id": "171a9e14-3e75-4fe8-924f-d4661f278fd6",
   "metadata": {},
   "outputs": [
    {
     "name": "stdout",
     "output_type": "stream",
     "text": [
      "133\n"
     ]
    }
   ],
   "source": [
    "print(out)"
   ]
  },
  {
   "cell_type": "code",
   "execution_count": 32,
   "id": "869786eb-571c-40a7-b3be-35f38dd8de46",
   "metadata": {},
   "outputs": [
    {
     "data": {
      "text/plain": [
       "133"
      ]
     },
     "execution_count": 32,
     "metadata": {},
     "output_type": "execute_result"
    }
   ],
   "source": [
    "out"
   ]
  },
  {
   "cell_type": "markdown",
   "id": "f45eac15-76f6-4a08-ab11-0f7c537393d6",
   "metadata": {},
   "source": [
    "----"
   ]
  },
  {
   "cell_type": "markdown",
   "id": "6ed17dd3-c895-449a-a5be-a23030f83424",
   "metadata": {},
   "source": [
    "> `local & global`"
   ]
  },
  {
   "cell_type": "code",
   "execution_count": 33,
   "id": "2d507dfb-0897-42ba-8765-0be586a22b37",
   "metadata": {},
   "outputs": [],
   "source": [
    "# 함수 바깥에 있는 변수임\n",
    "# global 변수\n",
    "y=5 "
   ]
  },
  {
   "cell_type": "code",
   "execution_count": 36,
   "id": "6c2d8568-7a6b-4d0d-8f41-88f4f8178ba0",
   "metadata": {},
   "outputs": [],
   "source": [
    "def fn(x) :\n",
    "    y=x+10\n",
    "    print('함수 안에 있는 변수, y=' + str(y))\n",
    "    return y # local 변수 # output"
   ]
  },
  {
   "cell_type": "code",
   "execution_count": 37,
   "id": "b1a7dc18-1f07-408d-85e6-cfe13c801cc1",
   "metadata": {},
   "outputs": [
    {
     "name": "stdout",
     "output_type": "stream",
     "text": [
      "함수 안에 있는 변수, y=12\n"
     ]
    },
    {
     "data": {
      "text/plain": [
       "12"
      ]
     },
     "execution_count": 37,
     "metadata": {},
     "output_type": "execute_result"
    }
   ],
   "source": [
    "fn(2)"
   ]
  },
  {
   "cell_type": "code",
   "execution_count": 38,
   "id": "71f935ab-1b1d-4e2a-a89b-c909e1e8f531",
   "metadata": {},
   "outputs": [
    {
     "name": "stdout",
     "output_type": "stream",
     "text": [
      "함수 밖에 있는 변수, y=5\n"
     ]
    }
   ],
   "source": [
    "print('함수 밖에 있는 변수, y=' + str(y))"
   ]
  },
  {
   "cell_type": "markdown",
   "id": "b2abd1df-2338-4f01-83c0-daa0a4b72b78",
   "metadata": {},
   "source": [
    "---"
   ]
  },
  {
   "cell_type": "code",
   "execution_count": 39,
   "id": "9dea5b11-5996-4ff0-81b6-0ce0813bbb8a",
   "metadata": {},
   "outputs": [],
   "source": [
    "def d_is_10():\n",
    "    d=10\n",
    "    print('d 값은',d,'이다')"
   ]
  },
  {
   "cell_type": "code",
   "execution_count": 40,
   "id": "f1433a0c-4e91-402e-9cad-34f10767cf9a",
   "metadata": {},
   "outputs": [
    {
     "name": "stdout",
     "output_type": "stream",
     "text": [
      "d 값은 10 이다\n"
     ]
    }
   ],
   "source": [
    "d_is_10()"
   ]
  },
  {
   "cell_type": "code",
   "execution_count": 41,
   "id": "4286b218-349e-4494-9998-371d59bdcd2b",
   "metadata": {},
   "outputs": [],
   "source": [
    "# d"
   ]
  },
  {
   "cell_type": "markdown",
   "id": "8e8ee5fe-3626-4e5b-bcd3-4e82f418b6bc",
   "metadata": {},
   "source": [
    "d는 d_is_10이라는 함수에서만 정의해준 지역변수이기에 함수 밖에서 d를 호출하면 반환되지 않음"
   ]
  },
  {
   "cell_type": "markdown",
   "id": "3739244d-7f8a-4114-ae02-43fa214c8634",
   "metadata": {},
   "source": [
    "반대로 전역변수는 언제든지 함수 안으로 끌고 들어와 지역변수로서 사용할 수 있음"
   ]
  },
  {
   "cell_type": "code",
   "execution_count": 43,
   "id": "f673fb46-6850-46aa-97d7-84fc4be06f54",
   "metadata": {},
   "outputs": [
    {
     "name": "stdout",
     "output_type": "stream",
     "text": [
      "10\n"
     ]
    }
   ],
   "source": [
    "x=10 # global variable\n",
    "def printx():\n",
    "    print(x)\n",
    "printx()\n",
    "# output 없음"
   ]
  },
  {
   "cell_type": "markdown",
   "id": "20fd7ae3-cbd0-4207-b25a-08bebbb831db",
   "metadata": {},
   "source": [
    "함수 안에서 전역변수를 만들 수 있음\n",
    "\n",
    "즉 local을 local로도 사용하고 global로도 사용해보자"
   ]
  },
  {
   "cell_type": "code",
   "execution_count": 52,
   "id": "0180e6aa-9dcb-4908-a30e-1eacaf0dec7c",
   "metadata": {},
   "outputs": [
    {
     "name": "stdout",
     "output_type": "stream",
     "text": [
      "e값은 여기서 불러도 12 로 불러와지고\n"
     ]
    }
   ],
   "source": [
    "def e_is_12():\n",
    "    # e라는 변수를 사용할 건데 함수 안에서 정의해주지만 , 전역변수로도 사용할 것이다라고 명해줌\n",
    "    global e   \n",
    "    # 이때 e는 지역변수로도, 전역변수로도 사용하겠다.\n",
    "    e=12\n",
    "    print('e값은 여기서 불러도',e,'로 불러와지고')\n",
    "e_is_12()"
   ]
  },
  {
   "cell_type": "code",
   "execution_count": 50,
   "id": "ad6dafb9-d327-452f-aea9-9e7f209cf020",
   "metadata": {},
   "outputs": [
    {
     "name": "stdout",
     "output_type": "stream",
     "text": [
      "함수 밖인 여기서 불러도 e는 12 로 불러와진다\n"
     ]
    }
   ],
   "source": [
    "print('함수 밖인 여기서 불러도','e는', e ,'로 불러와진다')"
   ]
  },
  {
   "cell_type": "code",
   "execution_count": 53,
   "id": "a57c7626-4ceb-47a9-ad30-d5ec0338b590",
   "metadata": {},
   "outputs": [
    {
     "data": {
      "text/plain": [
       "12"
      ]
     },
     "execution_count": 53,
     "metadata": {},
     "output_type": "execute_result"
    }
   ],
   "source": [
    "e"
   ]
  },
  {
   "cell_type": "markdown",
   "id": "be28b205-5fd7-47ba-9a23-574017b4aeb9",
   "metadata": {},
   "source": [
    "---"
   ]
  },
  {
   "cell_type": "code",
   "execution_count": 54,
   "id": "6ec0e7d6-75a7-48fa-b1c7-19680d22f7e2",
   "metadata": {},
   "outputs": [],
   "source": [
    "def f2(x):\n",
    "    return x+10"
   ]
  },
  {
   "cell_type": "code",
   "execution_count": 57,
   "id": "3e74e54a-0044-4544-9300-6e13ca8e5ad6",
   "metadata": {},
   "outputs": [
    {
     "data": {
      "text/plain": [
       "13"
      ]
     },
     "execution_count": 57,
     "metadata": {},
     "output_type": "execute_result"
    }
   ],
   "source": [
    "f2(3)"
   ]
  },
  {
   "cell_type": "markdown",
   "id": "dbfbf8e0-ea4a-42f9-9735-53bf3912e4fa",
   "metadata": {},
   "source": [
    "---"
   ]
  },
  {
   "cell_type": "markdown",
   "id": "b3117c0a-9cfc-439b-965d-acd101bc5cf8",
   "metadata": {},
   "source": [
    "- input을 지정 안 하고 함수가 알아서 지정할 수 있게 할 수 있음"
   ]
  },
  {
   "cell_type": "code",
   "execution_count": 58,
   "id": "60439b7f-d09e-47b4-a57c-7e4e2bdfec56",
   "metadata": {},
   "outputs": [],
   "source": [
    "def f2(x=5):\n",
    "    return x+10"
   ]
  },
  {
   "cell_type": "code",
   "execution_count": 59,
   "id": "f1e803b6-4df5-419a-ba11-f6aff9a8ff0a",
   "metadata": {},
   "outputs": [
    {
     "data": {
      "text/plain": [
       "15"
      ]
     },
     "execution_count": 59,
     "metadata": {},
     "output_type": "execute_result"
    }
   ],
   "source": [
    "f2()"
   ]
  },
  {
   "cell_type": "code",
   "execution_count": 61,
   "id": "f0b74dd5-3dfd-4c90-9c86-13cd66ff3063",
   "metadata": {},
   "outputs": [
    {
     "data": {
      "text/plain": [
       "50"
      ]
     },
     "execution_count": 61,
     "metadata": {},
     "output_type": "execute_result"
    }
   ],
   "source": [
    "f2(40)\n",
    "# 함수 만들 때 지정해준 변수 값을 수정하여 input을 다시 줄 순 있음"
   ]
  },
  {
   "cell_type": "markdown",
   "id": "5cba3aaa-065f-4e62-9037-2b8c9182333c",
   "metadata": {},
   "source": [
    "---"
   ]
  },
  {
   "cell_type": "code",
   "execution_count": 62,
   "id": "2043fcc9-8a63-4696-a2e4-406738c8a0b9",
   "metadata": {},
   "outputs": [],
   "source": [
    "def f3(x1,x2):\n",
    "    return x1+x2"
   ]
  },
  {
   "cell_type": "code",
   "execution_count": 63,
   "id": "291777c4-96ae-404e-b4f3-90fac6c718d9",
   "metadata": {},
   "outputs": [
    {
     "data": {
      "text/plain": [
       "8"
      ]
     },
     "execution_count": 63,
     "metadata": {},
     "output_type": "execute_result"
    }
   ],
   "source": [
    "f3(3,5)"
   ]
  },
  {
   "cell_type": "markdown",
   "id": "7c2a83b4-5329-4468-80e9-a8dba6db2dee",
   "metadata": {},
   "source": [
    "---"
   ]
  },
  {
   "cell_type": "code",
   "execution_count": 68,
   "id": "b2c7cc96-e9c6-482a-946e-9e895b4e1bc9",
   "metadata": {},
   "outputs": [],
   "source": [
    "def f4(name,age=0,lan='NONE'):\n",
    "    print(name+' '+str(age)+' '+lan)\n",
    "    # age와 lan은 미리 지정해줌으로서 초기화해놓았다고 생각해놓으면 됨"
   ]
  },
  {
   "cell_type": "code",
   "execution_count": 69,
   "id": "b279c618-3524-4420-b400-df54a2016b52",
   "metadata": {},
   "outputs": [
    {
     "name": "stdout",
     "output_type": "stream",
     "text": [
      "rhkrehtjd 0 NONE\n"
     ]
    }
   ],
   "source": [
    "f4('rhkrehtjd')\n",
    "# 이렇게 나이와 lan을 입력 안 해도 함수 만들 때 미리 지정해주고 시작해도 됨"
   ]
  },
  {
   "cell_type": "code",
   "execution_count": 70,
   "id": "d5d6eb7d-1923-475b-b6f0-4da4e8e0b550",
   "metadata": {},
   "outputs": [
    {
     "name": "stdout",
     "output_type": "stream",
     "text": [
      "rhkrehtjd 2 R\n"
     ]
    }
   ],
   "source": [
    "f4('rhkrehtjd',2,'R')\n",
    "# 그런데 입력값이 생겼을 땐 그 입력값을 사용할 수 있음"
   ]
  },
  {
   "cell_type": "markdown",
   "id": "8dbb9cbb-6a9e-4f17-b477-19fe083de7e1",
   "metadata": {},
   "source": [
    "- 순서를 바꿔 쓴다면?"
   ]
  },
  {
   "cell_type": "code",
   "execution_count": 71,
   "id": "8d75deac-1dad-42e7-9f2b-e82beade70c8",
   "metadata": {},
   "outputs": [
    {
     "name": "stdout",
     "output_type": "stream",
     "text": [
      "rhkrehtjd 123 python\n"
     ]
    }
   ],
   "source": [
    "f4('rhkrehtjd',lan='python',age=123)"
   ]
  },
  {
   "cell_type": "markdown",
   "id": "974bc104-60c7-4657-82f9-cee71a0b14c5",
   "metadata": {},
   "source": [
    "- 이렇게 순서 바꿔쓸거면 keyword만 제대로 명시해주자\n",
    "\n",
    "- 그런데 이렇게 순서 바꿔쓸 수 있는건 초기화로 설정된 변수에서만 사용가능함\n",
    "\n",
    "- 즉 이 함수 f4에선 age하고 lan만 초기화 상태로 명했고 name은 초기화해놓지 않았기 때문에 name은 그 자리에서 input해줘야 함"
   ]
  },
  {
   "cell_type": "markdown",
   "id": "87966f43-971d-4ec7-8b04-7fc5cf36722d",
   "metadata": {},
   "source": [
    "---"
   ]
  },
  {
   "cell_type": "code",
   "execution_count": 72,
   "id": "824418d7-9751-4d4e-a16c-1c498eed8494",
   "metadata": {},
   "outputs": [],
   "source": [
    "# arbitrary arguments\n",
    "def ff(*x):\n",
    "    print(x)"
   ]
  },
  {
   "cell_type": "code",
   "execution_count": 73,
   "id": "9ef91e44-a798-49b1-9c69-5e191bdb8057",
   "metadata": {},
   "outputs": [
    {
     "name": "stdout",
     "output_type": "stream",
     "text": [
      "('abc', 'asd', 'qgeqve', 'asdasdf')\n"
     ]
    }
   ],
   "source": [
    "ff('abc','asd','qgeqve','asdasdf')"
   ]
  },
  {
   "cell_type": "markdown",
   "id": "18a7204f-7612-4641-bd88-5189867d2aa5",
   "metadata": {},
   "source": [
    "- 이렇게 input이 몇개가 들어와도 해결이 가능함"
   ]
  },
  {
   "cell_type": "code",
   "execution_count": 75,
   "id": "980eb855-8f4b-47e6-8fd8-48893a844c71",
   "metadata": {},
   "outputs": [],
   "source": [
    "def fff(*x):\n",
    "    for a in x:\n",
    "        print(a)"
   ]
  },
  {
   "cell_type": "code",
   "execution_count": 76,
   "id": "5638dfef-07d1-4a71-a553-977a8e30b3fb",
   "metadata": {},
   "outputs": [
    {
     "name": "stdout",
     "output_type": "stream",
     "text": [
      "asd\n",
      "asdqw\n",
      "qwg\n"
     ]
    }
   ],
   "source": [
    "fff('asd','asdqw','qwg')"
   ]
  },
  {
   "cell_type": "markdown",
   "id": "c976a9d6-7dd9-41b5-9f1c-fa3f8ac6072c",
   "metadata": {},
   "source": [
    "----"
   ]
  },
  {
   "cell_type": "markdown",
   "id": "fb8540e1-d05f-4f5c-83b9-abc378acfa10",
   "metadata": {},
   "source": [
    "이런식으로 input을 몇개주더라도 그 input을 다 더해주는 함수"
   ]
  },
  {
   "cell_type": "code",
   "execution_count": 77,
   "id": "1c1a165b-4b22-4cd8-b41b-972e53e3120f",
   "metadata": {},
   "outputs": [],
   "source": [
    "def qq(*args):\n",
    "    total = 0\n",
    "    for a in args:\n",
    "        total += a\n",
    "    return total"
   ]
  },
  {
   "cell_type": "code",
   "execution_count": 78,
   "id": "c04853d7-9637-4fef-92c5-cb0561f901e8",
   "metadata": {},
   "outputs": [
    {
     "data": {
      "text/plain": [
       "58"
      ]
     },
     "execution_count": 78,
     "metadata": {},
     "output_type": "execute_result"
    }
   ],
   "source": [
    "qq(12,12,34) "
   ]
  },
  {
   "cell_type": "markdown",
   "id": "8e12852d-a17a-40f9-b17e-6e1ab7d9487f",
   "metadata": {},
   "source": [
    "---"
   ]
  },
  {
   "cell_type": "code",
   "execution_count": 79,
   "id": "ec247af1-ada2-4c3b-82cf-c893496f277b",
   "metadata": {},
   "outputs": [],
   "source": [
    "def cc(*x):\n",
    "    com=''\n",
    "    for a in x:\n",
    "        com +=a\n",
    "    return com"
   ]
  },
  {
   "cell_type": "code",
   "execution_count": 80,
   "id": "83d6e286-5f30-491b-aa4f-1296d20b4411",
   "metadata": {},
   "outputs": [
    {
     "data": {
      "text/plain": [
       "'ptRhkrehtjd'"
      ]
     },
     "execution_count": 80,
     "metadata": {},
     "output_type": "execute_result"
    }
   ],
   "source": [
    "cc('pt','Rhkrehtjd')"
   ]
  },
  {
   "cell_type": "markdown",
   "id": "1035f78d-f03b-4548-aee1-5bd442e0b7b7",
   "metadata": {},
   "source": [
    "---"
   ]
  },
  {
   "cell_type": "code",
   "execution_count": 90,
   "id": "54f71451-deb4-441b-84ef-280cefa9550a",
   "metadata": {},
   "outputs": [
    {
     "data": {
      "text/plain": [
       "[10, 11, 12, 13, 14, 15]"
      ]
     },
     "execution_count": 90,
     "metadata": {},
     "output_type": "execute_result"
    }
   ],
   "source": [
    "a=[10,15]\n",
    "list(range(a[0],a[1]+1))"
   ]
  },
  {
   "cell_type": "code",
   "execution_count": 91,
   "id": "542db882-3eda-49d1-aa48-d17abc94c793",
   "metadata": {},
   "outputs": [],
   "source": [
    "a[1]+=1"
   ]
  },
  {
   "cell_type": "code",
   "execution_count": 92,
   "id": "7ee8c36f-1e20-4d31-b29c-d493a7fd7ba9",
   "metadata": {},
   "outputs": [
    {
     "data": {
      "text/plain": [
       "[10, 16]"
      ]
     },
     "execution_count": 92,
     "metadata": {},
     "output_type": "execute_result"
    }
   ],
   "source": [
    "a"
   ]
  },
  {
   "cell_type": "code",
   "execution_count": 93,
   "id": "66f98767-88ec-4d1b-b0be-eba696174e16",
   "metadata": {},
   "outputs": [
    {
     "data": {
      "text/plain": [
       "[10, 11, 12, 13, 14, 15]"
      ]
     },
     "execution_count": 93,
     "metadata": {},
     "output_type": "execute_result"
    }
   ],
   "source": [
    "# unpacking arguements\n",
    "# 박스를 펼치는 것처럼 arguements를 하나로 받아서 펼치는!\n",
    "list(range(*a))"
   ]
  },
  {
   "cell_type": "markdown",
   "id": "2ef2e6a1-1fe0-48da-b551-5beddded9bbd",
   "metadata": {},
   "source": [
    "---"
   ]
  },
  {
   "cell_type": "code",
   "execution_count": 94,
   "id": "f10f9fa3-c423-4007-98fc-d9b30d5813cb",
   "metadata": {},
   "outputs": [],
   "source": [
    "def qq():\n",
    "    num_s=int(input('Start num: '))\n",
    "    num_e=int(input('End num: '))\n",
    "    num_inc=int(input('Increment: '))\n",
    "    \n",
    "    out_list=list(range(num_s,num_e+1,num_inc))\n",
    "    \n",
    "    return out_list"
   ]
  },
  {
   "cell_type": "code",
   "execution_count": 95,
   "id": "2f35edd5-9cfd-4ee6-b782-bf735b11352e",
   "metadata": {},
   "outputs": [
    {
     "name": "stdin",
     "output_type": "stream",
     "text": [
      "Start num:  55\n",
      "End num:  869\n",
      "Increment:  654\n"
     ]
    },
    {
     "data": {
      "text/plain": [
       "[55, 709]"
      ]
     },
     "execution_count": 95,
     "metadata": {},
     "output_type": "execute_result"
    }
   ],
   "source": [
    "qq()"
   ]
  },
  {
   "cell_type": "markdown",
   "id": "fd705894-c76f-42a8-8bf0-0fa483834974",
   "metadata": {},
   "source": [
    "- 입력 세번을 한 번에 할 수 있게 해보자"
   ]
  },
  {
   "cell_type": "code",
   "execution_count": 96,
   "id": "53a64f17-d806-47bd-9229-1fa95376258d",
   "metadata": {},
   "outputs": [
    {
     "name": "stdin",
     "output_type": "stream",
     "text": [
      " 5 6 8\n"
     ]
    }
   ],
   "source": [
    "a=input()"
   ]
  },
  {
   "cell_type": "code",
   "execution_count": 100,
   "id": "08c25bac-fd99-4976-9c92-94801634869f",
   "metadata": {},
   "outputs": [
    {
     "data": {
      "text/plain": [
       "'5 6 8'"
      ]
     },
     "execution_count": 100,
     "metadata": {},
     "output_type": "execute_result"
    }
   ],
   "source": [
    "a"
   ]
  },
  {
   "cell_type": "code",
   "execution_count": 101,
   "id": "c1f59764-efe8-46e2-a2e0-7c5296483f24",
   "metadata": {},
   "outputs": [
    {
     "data": {
      "text/plain": [
       "' '"
      ]
     },
     "execution_count": 101,
     "metadata": {},
     "output_type": "execute_result"
    }
   ],
   "source": [
    "a[1]"
   ]
  },
  {
   "cell_type": "markdown",
   "id": "5aa1e073-9de9-412e-99de-f4f046909499",
   "metadata": {},
   "source": [
    "- input은 입력해주는대로 str으로 만들어서 반환해줌\n",
    "- 즉 만약 내가 3  2  1이렇게 입력해주면 총 7개의 원소가 str안에 들어가고\n",
    "- 내가 3 1 2 이렇게 입력해주면 총 5개의 원소가 str안에 들어가게 된다.\n",
    "- 그렇다면 내가 3,1,2 이렇게 입력해주면 콤마까지도 하나의 원소로서 들어가면서 총 5개의 원소가  str으로 입력되게 된다."
   ]
  },
  {
   "cell_type": "code",
   "execution_count": 102,
   "id": "da1132bd-3cdd-46be-8edb-4da9ee345f86",
   "metadata": {},
   "outputs": [],
   "source": [
    "def qq2():\n",
    "    print('숫자를 다음과 같이 입력해주세요 ')\n",
    "    print('시작: ,끝: ,증가단위: ')\n",
    "    print('예시: 0,5,1')\n",
    "    \n",
    "    ui=input('자, 이제 알려줬으니 한 번 입력해봐여: ')\n",
    "    ui_list=[int(i) for i in ui.split(',')]\n",
    "    # ,기준으로 나눈다음(콤마는 없앰) 각각을 list의 하나의 원소로서 반환시켜준다.\n",
    "    out_list=list(range(*ui_list))\n",
    "    \n",
    "    return out_list"
   ]
  },
  {
   "cell_type": "code",
   "execution_count": 103,
   "id": "6dfa368a-73ca-4fb4-ab3e-74e3df98dc5d",
   "metadata": {},
   "outputs": [
    {
     "name": "stdout",
     "output_type": "stream",
     "text": [
      "숫자를 다음과 같이 입력해주세요 \n",
      "시작: ,끝: ,증가단위: \n",
      "예시: 0,5,1\n"
     ]
    },
    {
     "name": "stdin",
     "output_type": "stream",
     "text": [
      "자, 이제 알려줬으니 한 번 입력해봐여:  5,10,2\n"
     ]
    },
    {
     "data": {
      "text/plain": [
       "[5, 7, 9]"
      ]
     },
     "execution_count": 103,
     "metadata": {},
     "output_type": "execute_result"
    }
   ],
   "source": [
    "qq2 ()"
   ]
  },
  {
   "cell_type": "markdown",
   "id": "c1ab3135-ffb3-4d4e-a9da-1cbfc1bf518f",
   "metadata": {},
   "source": [
    "- 만약 마지막 숫자도 포함하고 싶다면?"
   ]
  },
  {
   "cell_type": "code",
   "execution_count": 104,
   "id": "11446f0a-1aea-4cab-9939-ac66fbdda6be",
   "metadata": {},
   "outputs": [],
   "source": [
    "def qq2():\n",
    "    print('숫자를 다음과 같이 입력해주세요 ')\n",
    "    print('시작: ,끝: ,증가단위: ')\n",
    "    print('예시: 0,5,1')\n",
    "    \n",
    "    ui=input('입력해주세요: ')\n",
    "    ui_list=[int(i)for i in ui.split(',')]\n",
    "    ui_list[1]+=1\n",
    "    out_list=list(range(*ui_list))\n",
    "    \n",
    "    return out_list"
   ]
  },
  {
   "cell_type": "code",
   "execution_count": 105,
   "id": "21419ad3-46db-4853-88b6-6f27740fdb30",
   "metadata": {},
   "outputs": [
    {
     "name": "stdout",
     "output_type": "stream",
     "text": [
      "숫자를 다음과 같이 입력해주세요 \n",
      "시작: ,끝: ,증가단위: \n",
      "예시: 0,5,1\n"
     ]
    },
    {
     "name": "stdin",
     "output_type": "stream",
     "text": [
      "입력해주세요:  5,25,5\n"
     ]
    },
    {
     "data": {
      "text/plain": [
       "[5, 10, 15, 20, 25]"
      ]
     },
     "execution_count": 105,
     "metadata": {},
     "output_type": "execute_result"
    }
   ],
   "source": [
    "qq2()"
   ]
  },
  {
   "cell_type": "markdown",
   "id": "733ac2ce-81e0-4632-bbc5-c50685199306",
   "metadata": {},
   "source": [
    "---"
   ]
  },
  {
   "cell_type": "markdown",
   "id": "8841460c-58bd-42de-8a76-0ad6ac17c7c6",
   "metadata": {},
   "source": [
    "-  documentation $\\to$ 함수에 도움말을 넣어보자"
   ]
  },
  {
   "cell_type": "code",
   "execution_count": 106,
   "id": "6bf22898-6873-403a-a994-ad954b6ecaea",
   "metadata": {},
   "outputs": [],
   "source": [
    "def qw(x):\n",
    "    \"\"\"\n",
    "    여기가 함수의 도움말\n",
    "    \"\"\"\n",
    "    return x+10"
   ]
  },
  {
   "cell_type": "code",
   "execution_count": 107,
   "id": "407bc369-900b-4b81-9d39-1dbcac73bb1e",
   "metadata": {},
   "outputs": [
    {
     "data": {
      "text/plain": [
       "\u001b[1;31mSignature:\u001b[0m \u001b[0mqw\u001b[0m\u001b[1;33m(\u001b[0m\u001b[0mx\u001b[0m\u001b[1;33m)\u001b[0m\u001b[1;33m\u001b[0m\u001b[1;33m\u001b[0m\u001b[0m\n",
       "\u001b[1;31mDocstring:\u001b[0m 여기가 함수의 도움말\n",
       "\u001b[1;31mFile:\u001b[0m      c:\\users\\ehfus\\appdata\\local\\temp\\ipykernel_13032\\1023470262.py\n",
       "\u001b[1;31mType:\u001b[0m      function\n"
      ]
     },
     "metadata": {},
     "output_type": "display_data"
    }
   ],
   "source": [
    "qw?"
   ]
  },
  {
   "cell_type": "code",
   "execution_count": 108,
   "id": "9e29c873-3d98-42c5-9af0-68802fa5e32a",
   "metadata": {},
   "outputs": [
    {
     "name": "stdout",
     "output_type": "stream",
     "text": [
      "Help on function qw in module __main__:\n",
      "\n",
      "qw(x)\n",
      "    여기가 함수의 도움말\n",
      "\n"
     ]
    }
   ],
   "source": [
    "help(qw)"
   ]
  },
  {
   "cell_type": "code",
   "execution_count": 109,
   "id": "161fbb61-d85d-4e53-a585-0c6ce76a8608",
   "metadata": {},
   "outputs": [
    {
     "name": "stdout",
     "output_type": "stream",
     "text": [
      "\n",
      "    여기가 함수의 도움말\n",
      "    \n"
     ]
    }
   ],
   "source": [
    "print(qw.__doc__)"
   ]
  },
  {
   "cell_type": "markdown",
   "id": "341359f5-1c1e-40bb-8674-7a51d9350bb1",
   "metadata": {},
   "source": [
    "---"
   ]
  },
  {
   "cell_type": "markdown",
   "id": "dba89dcc-b3ce-4aab-a2a5-bd4dfe7cf082",
   "metadata": {},
   "source": [
    "> `annotation` : 사용방법 달아주기, input이 들어올 때 어떤 형식으로 들어와야 하는지 주석을 달아준다고 생각하면 됨"
   ]
  },
  {
   "cell_type": "code",
   "execution_count": 110,
   "id": "696e9121-2014-42b0-8ba4-c12829698e05",
   "metadata": {},
   "outputs": [],
   "source": [
    "def fu(num):\n",
    "    out=num+10\n",
    "    return out"
   ]
  },
  {
   "cell_type": "code",
   "execution_count": 111,
   "id": "7145b3d9-6c6f-4096-a1fa-ec1601c4b334",
   "metadata": {},
   "outputs": [
    {
     "name": "stdout",
     "output_type": "stream",
     "text": [
      "{}\n"
     ]
    }
   ],
   "source": [
    "print(fu.__annotations__)"
   ]
  },
  {
   "cell_type": "code",
   "execution_count": 112,
   "id": "1544223e-df4e-4118-bcd4-b7facaca3f8c",
   "metadata": {},
   "outputs": [],
   "source": [
    "def fu(num:int):\n",
    "    out=num+10\n",
    "    return out"
   ]
  },
  {
   "cell_type": "code",
   "execution_count": 113,
   "id": "723b2581-db1d-40f9-9349-fdee11f527a4",
   "metadata": {},
   "outputs": [
    {
     "name": "stdout",
     "output_type": "stream",
     "text": [
      "{'num': <class 'int'>}\n"
     ]
    }
   ],
   "source": [
    "print(fu.__annotations__)"
   ]
  },
  {
   "cell_type": "code",
   "execution_count": 114,
   "id": "caf5e27c-ca5b-4cc0-98d3-feb2ebee4b34",
   "metadata": {},
   "outputs": [],
   "source": [
    "def fu(num:int)->int:\n",
    "    out=num+10\n",
    "    return out"
   ]
  },
  {
   "cell_type": "code",
   "execution_count": 115,
   "id": "fcd78731-b737-4059-bb74-08e84fc0ffea",
   "metadata": {},
   "outputs": [
    {
     "name": "stdout",
     "output_type": "stream",
     "text": [
      "{'num': <class 'int'>, 'return': <class 'int'>}\n"
     ]
    }
   ],
   "source": [
    "print(fu.__annotations__)"
   ]
  },
  {
   "cell_type": "markdown",
   "id": "3af6edec-7590-4919-8815-d917d73afced",
   "metadata": {},
   "source": [
    "이렇게 output의 자료형도 주석을 달듯이 알려줄 수가 있음"
   ]
  },
  {
   "cell_type": "markdown",
   "id": "3f966e60-a1de-4595-b676-5132c2d48196",
   "metadata": {},
   "source": [
    "---"
   ]
  },
  {
   "cell_type": "markdown",
   "id": "849f1733-3be4-4349-8fec-332b0283c120",
   "metadata": {},
   "source": [
    "> #### `lambda`"
   ]
  },
  {
   "cell_type": "code",
   "execution_count": 114,
   "id": "1dcf8612-f323-4d26-837a-023f3033f11e",
   "metadata": {},
   "outputs": [],
   "source": [
    "add_one = lambda x: x+1"
   ]
  },
  {
   "cell_type": "markdown",
   "id": "03c0825a-12f8-4f22-8471-3885a064ff12",
   "metadata": {},
   "source": [
    "- add_one이라는 함수를 만들어줬다고 생각하면 됨"
   ]
  },
  {
   "cell_type": "code",
   "execution_count": 117,
   "id": "20b9adb8-61e7-45d8-b745-7aad0fda97b7",
   "metadata": {},
   "outputs": [
    {
     "data": {
      "text/plain": [
       "2"
      ]
     },
     "execution_count": 117,
     "metadata": {},
     "output_type": "execute_result"
    }
   ],
   "source": [
    "add_one(1)\n",
    "# output이 있음"
   ]
  },
  {
   "cell_type": "code",
   "execution_count": 119,
   "id": "af19d255-ae90-448f-865c-35079ada812d",
   "metadata": {},
   "outputs": [
    {
     "data": {
      "text/plain": [
       "11"
      ]
     },
     "execution_count": 119,
     "metadata": {},
     "output_type": "execute_result"
    }
   ],
   "source": [
    "(lambda x:x+1)(10)\n",
    "# lambda를 사용할 때 이렇게 한 줄로 함수와 입력을 동시에 명해줄 수가 있음"
   ]
  },
  {
   "cell_type": "markdown",
   "id": "590245cb-081b-444e-9095-402e7ab9ae47",
   "metadata": {},
   "source": [
    "---"
   ]
  },
  {
   "cell_type": "code",
   "execution_count": 123,
   "id": "d9ae8757-356f-47ce-9236-8bf357e18c40",
   "metadata": {},
   "outputs": [],
   "source": [
    "def a(x):\n",
    "    return x+10"
   ]
  },
  {
   "cell_type": "code",
   "execution_count": 124,
   "id": "82bcc4bf-be64-46bf-b476-954a6119c164",
   "metadata": {},
   "outputs": [],
   "source": [
    "high_ord_function=lambda x: x+a(x)"
   ]
  },
  {
   "cell_type": "code",
   "execution_count": 125,
   "id": "aa5cc814-ac54-4b3c-90a3-8ea609196439",
   "metadata": {},
   "outputs": [
    {
     "data": {
      "text/plain": [
       "14"
      ]
     },
     "execution_count": 125,
     "metadata": {},
     "output_type": "execute_result"
    }
   ],
   "source": [
    "high_ord_function(2)"
   ]
  },
  {
   "cell_type": "markdown",
   "id": "2f603367-dece-4ba7-89b3-ca122601a652",
   "metadata": {},
   "source": [
    "---"
   ]
  },
  {
   "cell_type": "code",
   "execution_count": 126,
   "id": "db1c81b6-7cb6-4ea0-9f03-05d397003c2f",
   "metadata": {},
   "outputs": [],
   "source": [
    "high_ord_function=lambda x, ff : x+ff(x)"
   ]
  },
  {
   "cell_type": "code",
   "execution_count": 127,
   "id": "d3e42c0e-ca49-4b95-88f1-0f3a9f27d695",
   "metadata": {},
   "outputs": [
    {
     "data": {
      "text/plain": [
       "5"
      ]
     },
     "execution_count": 127,
     "metadata": {},
     "output_type": "execute_result"
    }
   ],
   "source": [
    "high_ord_function(2,lambda x:x+1)"
   ]
  },
  {
   "cell_type": "code",
   "execution_count": 128,
   "id": "fc740883-3dea-4d91-a297-0a9c663dabd8",
   "metadata": {},
   "outputs": [
    {
     "data": {
      "text/plain": [
       "3"
      ]
     },
     "execution_count": 128,
     "metadata": {},
     "output_type": "execute_result"
    }
   ],
   "source": [
    "high_ord_function(2,lambda x:x-1)"
   ]
  },
  {
   "cell_type": "markdown",
   "id": "f5395db4-797f-47c2-bcc1-67c997e6350b",
   "metadata": {},
   "source": [
    "- 이런식으로 lmabda를 사용하게 되면 실시간으로 함수자체를 input으로 줘서 고차원 함수를 사용할 수 있게 됨"
   ]
  },
  {
   "cell_type": "markdown",
   "id": "c61b5ebe-65c5-42ca-95e5-ca885e38c967",
   "metadata": {},
   "source": [
    "----"
   ]
  },
  {
   "cell_type": "markdown",
   "id": "c2ce8983-b088-4e9e-9a6b-333be162d4ac",
   "metadata": {},
   "source": [
    "> ### `map`"
   ]
  },
  {
   "cell_type": "code",
   "execution_count": 131,
   "id": "1047d43d-3e00-4941-af4f-e7db3d7c1c59",
   "metadata": {},
   "outputs": [
    {
     "data": {
      "text/plain": [
       "array([ 2,  4,  6,  8, 10])"
      ]
     },
     "execution_count": 131,
     "metadata": {},
     "output_type": "execute_result"
    }
   ],
   "source": [
    "import numpy as np\n",
    "a=np.array([1,2,3,4,5])\n",
    "a*2"
   ]
  },
  {
   "cell_type": "code",
   "execution_count": 135,
   "id": "d3db3bf0-e218-434f-a034-40fbd76008a1",
   "metadata": {},
   "outputs": [
    {
     "data": {
      "text/plain": [
       "[1, 2, 3, 4, 5, 1, 2, 3, 4, 5]"
      ]
     },
     "execution_count": 135,
     "metadata": {},
     "output_type": "execute_result"
    }
   ],
   "source": [
    "a=[1,2,3,4,5]\n",
    "a*2\n",
    "# numpy에서의 결과처럼 list도 활용하고 싶다. \n",
    "# map을 활용한다."
   ]
  },
  {
   "cell_type": "code",
   "execution_count": 136,
   "id": "db120c60-014c-4654-a1e4-471b73c976d0",
   "metadata": {},
   "outputs": [
    {
     "data": {
      "text/plain": [
       "[2, 4, 6]"
      ]
     },
     "execution_count": 136,
     "metadata": {},
     "output_type": "execute_result"
    }
   ],
   "source": [
    "list(map(lambda x: x*2,[1,2,3]))"
   ]
  },
  {
   "cell_type": "markdown",
   "id": "e7fc53c7-24ec-4738-bde8-0c9cc078072d",
   "metadata": {},
   "source": [
    "- map은 list전체에 함수를 적용하는 게 아니라 map의 각 원소 각각에 함수를 적용해주는 것 같음\n",
    "- 그렇다면 아래와 같이도 활용할 수 있겠다."
   ]
  },
  {
   "cell_type": "markdown",
   "id": "44b3461d-61d0-4638-a6b5-243857ce90e9",
   "metadata": {},
   "source": [
    "---"
   ]
  },
  {
   "cell_type": "code",
   "execution_count": 139,
   "id": "3459e8ed-25a1-4df6-bdcf-0e59c3af9dec",
   "metadata": {},
   "outputs": [
    {
     "name": "stdout",
     "output_type": "stream",
     "text": [
      "RHKREHTJD\n",
      "Rhkrehtjd\n"
     ]
    }
   ],
   "source": [
    "vip='rhkrehtjd'\n",
    "print(vip.upper())\n",
    "print(vip.capitalize())"
   ]
  },
  {
   "cell_type": "code",
   "execution_count": 141,
   "id": "f60b6e71-6a11-4b9a-b9b3-c0b4cb3848e0",
   "metadata": {},
   "outputs": [],
   "source": [
    "vip_list=['adqw','wfdf','sdgv']"
   ]
  },
  {
   "cell_type": "markdown",
   "id": "5dcf4224-c690-4933-9786-6968a48d9aa0",
   "metadata": {},
   "source": [
    "- vip_list는 list이기 때문에 upper라는 함수를 지원하지 않음\n",
    "- upper는 문자열에서 지원하는 함수\n",
    "- 따라서 vip_list안에 있는 str은 upper라는 함수를 사용할 수 있음"
   ]
  },
  {
   "cell_type": "code",
   "execution_count": 144,
   "id": "77f034d1-97bc-48d0-8b08-47b3b65edc1b",
   "metadata": {},
   "outputs": [
    {
     "name": "stdout",
     "output_type": "stream",
     "text": [
      "['ADQW', 'WFDF', 'SDGV']\n",
      "['Adqw', 'Wfdf', 'Sdgv']\n"
     ]
    }
   ],
   "source": [
    "print(list(map(lambda x: x.upper()  ,vip_list)))\n",
    "print(list(map(lambda x: x.capitalize()  ,vip_list)))"
   ]
  },
  {
   "cell_type": "markdown",
   "id": "4d408fcd-aa3d-4dc1-bf43-61fe53704baf",
   "metadata": {},
   "source": [
    "----"
   ]
  },
  {
   "cell_type": "code",
   "execution_count": 146,
   "id": "78cdfce5-6793-4f81-a332-10190b7fe9d2",
   "metadata": {},
   "outputs": [
    {
     "data": {
      "text/plain": [
       "3"
      ]
     },
     "execution_count": 146,
     "metadata": {},
     "output_type": "execute_result"
    }
   ],
   "source": [
    "len(vip_list)"
   ]
  },
  {
   "cell_type": "markdown",
   "id": "8a913412-e38b-493c-aa67-061b55b0a242",
   "metadata": {},
   "source": [
    "- 이건 list를 전체적인 관점에서 보고 원소가 몇개 들어있는지 알려주는 것 "
   ]
  },
  {
   "cell_type": "code",
   "execution_count": 147,
   "id": "93b5ea14-52e8-4215-a759-88f8d28c3c57",
   "metadata": {},
   "outputs": [],
   "source": [
    "vip_list_name_len_list=list(map(lambda x:len(x),\n",
    "                               vip_list))"
   ]
  },
  {
   "cell_type": "code",
   "execution_count": 148,
   "id": "6e06174b-a514-4e39-b186-2a8193898871",
   "metadata": {},
   "outputs": [
    {
     "data": {
      "text/plain": [
       "[4, 4, 4]"
      ]
     },
     "execution_count": 148,
     "metadata": {},
     "output_type": "execute_result"
    }
   ],
   "source": [
    "vip_list_name_len_list"
   ]
  },
  {
   "cell_type": "markdown",
   "id": "aa0c1dcf-12fa-4e30-92b3-5ead381f1007",
   "metadata": {},
   "source": [
    "- map이 list전체가 아니라 그 안으로 들어가서 적용함을 알 수 있다."
   ]
  },
  {
   "cell_type": "markdown",
   "id": "85973b5a-418d-4844-87ee-c68e3f669458",
   "metadata": {},
   "source": [
    "---"
   ]
  },
  {
   "cell_type": "markdown",
   "id": "f568d707-ad5e-4bec-81bf-ce210688a42b",
   "metadata": {},
   "source": [
    "> **!중요!** **`filter`**\n",
    " - BOOL형이 활용된다고 생각하면 될 것 같다."
   ]
  },
  {
   "cell_type": "code",
   "execution_count": 155,
   "id": "40b28b31-308f-4020-af30-eb7492a14a47",
   "metadata": {},
   "outputs": [
    {
     "data": {
      "text/plain": [
       "['adqw', 'wfdf', 'sdgv']"
      ]
     },
     "execution_count": 155,
     "metadata": {},
     "output_type": "execute_result"
    }
   ],
   "source": [
    "vip_list"
   ]
  },
  {
   "cell_type": "code",
   "execution_count": 156,
   "id": "d4462b82-8b01-4dfd-8a1c-a92ecdee5f79",
   "metadata": {},
   "outputs": [
    {
     "data": {
      "text/plain": [
       "[]"
      ]
     },
     "execution_count": 156,
     "metadata": {},
     "output_type": "execute_result"
    }
   ],
   "source": [
    "list(filter(lambda x: 'P' in x, vip_list))"
   ]
  },
  {
   "cell_type": "markdown",
   "id": "b0e5884e-cc00-44db-b396-ebaf68cee672",
   "metadata": {},
   "source": [
    "해당되지 않아서 빈 list가 나왔음"
   ]
  },
  {
   "cell_type": "code",
   "execution_count": 157,
   "id": "ed650198-8d02-433b-8ec7-ef1d2947eaea",
   "metadata": {},
   "outputs": [
    {
     "data": {
      "text/plain": [
       "['adqw']"
      ]
     },
     "execution_count": 157,
     "metadata": {},
     "output_type": "execute_result"
    }
   ],
   "source": [
    "list(filter(lambda x: 'a' in x, vip_list))"
   ]
  },
  {
   "cell_type": "code",
   "execution_count": 158,
   "id": "987c8034-7a31-4049-bf2e-f2d2ceded7a3",
   "metadata": {},
   "outputs": [
    {
     "data": {
      "text/plain": [
       "[2, 4]"
      ]
     },
     "execution_count": 158,
     "metadata": {},
     "output_type": "execute_result"
    }
   ],
   "source": [
    "x=[1,2,3,4,5]\n",
    "list(filter(lambda x: x%2==0,x))"
   ]
  },
  {
   "cell_type": "code",
   "execution_count": 159,
   "id": "7816e2b1-9471-4d81-a5ed-190b12e26a13",
   "metadata": {},
   "outputs": [
    {
     "data": {
      "text/plain": [
       "[1, 3, 5]"
      ]
     },
     "execution_count": 159,
     "metadata": {},
     "output_type": "execute_result"
    }
   ],
   "source": [
    "list(filter(lambda x: x%2!=0,x))"
   ]
  },
  {
   "cell_type": "markdown",
   "id": "987390e4-f362-477a-a8d0-01a96c453f1f",
   "metadata": {},
   "source": [
    "---"
   ]
  },
  {
   "cell_type": "markdown",
   "id": "2a2677c1-e749-41fe-a896-45a065ea2b30",
   "metadata": {},
   "source": [
    "> ### `reduce`"
   ]
  },
  {
   "cell_type": "code",
   "execution_count": 160,
   "id": "9422bf57-c3e0-46f4-a459-50370f0bb669",
   "metadata": {},
   "outputs": [],
   "source": [
    "from functools import reduce"
   ]
  },
  {
   "cell_type": "code",
   "execution_count": 162,
   "id": "eb3904ae-8917-4e76-9194-35f61c259ee0",
   "metadata": {},
   "outputs": [],
   "source": [
    "list_=[10,20,30]"
   ]
  },
  {
   "cell_type": "code",
   "execution_count": 163,
   "id": "af566aab-499b-440e-b0a5-eb02827de890",
   "metadata": {},
   "outputs": [],
   "source": [
    "def add(x,y):\n",
    "    return x+y"
   ]
  },
  {
   "cell_type": "code",
   "execution_count": 165,
   "id": "650cd8d6-22e0-4c31-bde5-81c065a01004",
   "metadata": {},
   "outputs": [
    {
     "data": {
      "text/plain": [
       "60"
      ]
     },
     "execution_count": 165,
     "metadata": {},
     "output_type": "execute_result"
    }
   ],
   "source": [
    "reduce(add,list_)"
   ]
  },
  {
   "cell_type": "code",
   "execution_count": 166,
   "id": "70bac8fe-ce37-4dd9-9136-b1e6ab5610a2",
   "metadata": {},
   "outputs": [
    {
     "data": {
      "text/plain": [
       "60"
      ]
     },
     "execution_count": 166,
     "metadata": {},
     "output_type": "execute_result"
    }
   ],
   "source": [
    "reduce(lambda a,b : a+b,list_)"
   ]
  },
  {
   "cell_type": "code",
   "execution_count": 167,
   "id": "8a5ba510-b67d-470f-9a4d-3bf859bda8f1",
   "metadata": {},
   "outputs": [
    {
     "data": {
      "text/plain": [
       "60"
      ]
     },
     "execution_count": 167,
     "metadata": {},
     "output_type": "execute_result"
    }
   ],
   "source": [
    "# 물론 이렇게 간단하게 할 수 있지만\n",
    "sum(list_)"
   ]
  },
  {
   "cell_type": "markdown",
   "id": "b932cc7a-558a-4598-a0f5-99ab05ecfcb0",
   "metadata": {},
   "source": [
    "---"
   ]
  },
  {
   "cell_type": "code",
   "execution_count": 168,
   "id": "04171b36-d347-4044-9d52-889da3b4a463",
   "metadata": {},
   "outputs": [],
   "source": [
    "strlist=['p','y','t','h','o','n',]"
   ]
  },
  {
   "cell_type": "code",
   "execution_count": 169,
   "id": "cd5dbc31-946c-4fec-a576-d1a6fc31a315",
   "metadata": {},
   "outputs": [
    {
     "data": {
      "text/plain": [
       "'python'"
      ]
     },
     "execution_count": 169,
     "metadata": {},
     "output_type": "execute_result"
    }
   ],
   "source": [
    "reduce(lambda x,y:x+y,strlist)"
   ]
  },
  {
   "cell_type": "markdown",
   "id": "618a9aae-3332-4c48-945e-d236c172e0b1",
   "metadata": {},
   "source": [
    "---"
   ]
  },
  {
   "cell_type": "markdown",
   "id": "c087334a-497f-44e7-bc53-7d0ce7794c51",
   "metadata": {},
   "source": [
    "> ***`for문`*** $vs$ ***`list comprehension`*** $vs$ ***`lambda function`***"
   ]
  },
  {
   "cell_type": "code",
   "execution_count": 171,
   "id": "b3efed46-655f-47ca-865d-d3ede7512a8e",
   "metadata": {},
   "outputs": [
    {
     "name": "stdout",
     "output_type": "stream",
     "text": [
      "['p', 'y', 't', 'h', 'o', 'n']\n"
     ]
    }
   ],
   "source": [
    "# for문\n",
    "letter_list=[]\n",
    "for letter in 'python':\n",
    "    letter_list.append(letter)\n",
    "print(letter_list)"
   ]
  },
  {
   "cell_type": "code",
   "execution_count": 172,
   "id": "8b499ebb-1e97-4126-96c2-73ab5397a77e",
   "metadata": {},
   "outputs": [
    {
     "data": {
      "text/plain": [
       "['p', 'y', 't', 'h', 'o', 'n']"
      ]
     },
     "execution_count": 172,
     "metadata": {},
     "output_type": "execute_result"
    }
   ],
   "source": [
    "# list comprehension\n",
    "letter_list_2=[letter for letter in 'python']\n",
    "letter_list_2"
   ]
  },
  {
   "cell_type": "code",
   "execution_count": 173,
   "id": "094266c0-711f-4462-9de6-d53a3339842e",
   "metadata": {},
   "outputs": [
    {
     "data": {
      "text/plain": [
       "['p', 'y', 't', 'h', 'o', 'n']"
      ]
     },
     "execution_count": 173,
     "metadata": {},
     "output_type": "execute_result"
    }
   ],
   "source": [
    "# lambda function \n",
    "list(map(lambda x : x, 'python'))\n",
    "# 각 원소에 적용됨을 알 수 있다."
   ]
  },
  {
   "cell_type": "markdown",
   "id": "8ef2b644-5ef0-4ca6-80a0-eadb8b29f2f4",
   "metadata": {},
   "source": [
    "---"
   ]
  },
  {
   "cell_type": "code",
   "execution_count": 177,
   "id": "dc9e9238-5b36-475e-a2b4-96409e6dac7a",
   "metadata": {},
   "outputs": [],
   "source": [
    "a,b=0,1"
   ]
  },
  {
   "cell_type": "code",
   "execution_count": 178,
   "id": "d4820777-18f4-4ecc-a8cd-f9d46f02bcfa",
   "metadata": {},
   "outputs": [
    {
     "data": {
      "text/plain": [
       "0"
      ]
     },
     "execution_count": 178,
     "metadata": {},
     "output_type": "execute_result"
    }
   ],
   "source": [
    "a"
   ]
  },
  {
   "cell_type": "code",
   "execution_count": 179,
   "id": "0e517e1a-6a73-4aa7-ad75-d7a0f52543cd",
   "metadata": {},
   "outputs": [
    {
     "data": {
      "text/plain": [
       "1"
      ]
     },
     "execution_count": 179,
     "metadata": {},
     "output_type": "execute_result"
    }
   ],
   "source": [
    "b"
   ]
  },
  {
   "cell_type": "markdown",
   "id": "1c9de710-1843-43f9-801c-4568aa561e97",
   "metadata": {},
   "source": [
    "이렇게 변수 두개를 한 번에 저장해줄 수 있음 (tuple을 만드는 게 아님)"
   ]
  },
  {
   "cell_type": "markdown",
   "id": "98a3b24f-7fd9-4117-b8e4-0fe716a6fdcf",
   "metadata": {},
   "source": [
    "----"
   ]
  },
  {
   "cell_type": "code",
   "execution_count": 182,
   "id": "c4e4b819-7bfc-496a-bafa-51c604e7d70d",
   "metadata": {},
   "outputs": [],
   "source": [
    "# 피보나치 수열 만들기\n",
    "def my_fib_seq(n):\n",
    "    a,b=0,1\n",
    "    seq=[a,b]\n",
    "    for i in range(n-2):  # 이미 0,1은 있으니까 -2해줌\n",
    "        a,b=b,a+b\n",
    "        seq.append(b)\n",
    "    return seq    "
   ]
  },
  {
   "cell_type": "code",
   "execution_count": 183,
   "id": "921415a7-1aad-4b0c-b940-5fa1d90c13b9",
   "metadata": {},
   "outputs": [
    {
     "data": {
      "text/plain": [
       "[0, 1, 1]"
      ]
     },
     "execution_count": 183,
     "metadata": {},
     "output_type": "execute_result"
    }
   ],
   "source": [
    "# 한 번만 수행하게 될 것이다.\n",
    "my_fib_seq(3)"
   ]
  },
  {
   "cell_type": "code",
   "execution_count": 184,
   "id": "0f9c923d-2ad5-4e0c-9863-0255799e7dff",
   "metadata": {},
   "outputs": [],
   "source": [
    "def my_powers(number):\n",
    "    return number,number**2,number**3"
   ]
  },
  {
   "cell_type": "code",
   "execution_count": 185,
   "id": "055f08e3-d0c2-4a5c-aa24-ea8766ce880d",
   "metadata": {},
   "outputs": [],
   "source": [
    "a=my_powers(2)"
   ]
  },
  {
   "cell_type": "code",
   "execution_count": 186,
   "id": "787157ef-260d-4abc-86a7-950fc2ab0620",
   "metadata": {},
   "outputs": [
    {
     "data": {
      "text/plain": [
       "(2, 4, 8)"
      ]
     },
     "execution_count": 186,
     "metadata": {},
     "output_type": "execute_result"
    }
   ],
   "source": [
    "a"
   ]
  },
  {
   "cell_type": "code",
   "execution_count": 187,
   "id": "5314757d-c87e-4f70-891b-6a505c18c628",
   "metadata": {},
   "outputs": [
    {
     "data": {
      "text/plain": [
       "[2, 4, 8]"
      ]
     },
     "execution_count": 187,
     "metadata": {},
     "output_type": "execute_result"
    }
   ],
   "source": [
    "list(a)"
   ]
  },
  {
   "cell_type": "markdown",
   "id": "5c38843e-c576-4dff-a7dd-f114df314763",
   "metadata": {},
   "source": [
    "---"
   ]
  },
  {
   "cell_type": "code",
   "execution_count": 188,
   "id": "3321150f-5d7a-434c-bbb5-87830f907b1f",
   "metadata": {},
   "outputs": [],
   "source": [
    "# unpacking\n",
    "number,square,cube=my_powers(2)"
   ]
  },
  {
   "cell_type": "markdown",
   "id": "5f4f303e-ff9d-4b06-b81f-93ff3fc5e730",
   "metadata": {},
   "source": [
    "cube만 필요하다?"
   ]
  },
  {
   "cell_type": "code",
   "execution_count": 190,
   "id": "4e1e45dd-3064-45b2-a314-1c5a88390cf1",
   "metadata": {},
   "outputs": [],
   "source": [
    "*_, cube=my_powers(2)"
   ]
  },
  {
   "cell_type": "code",
   "execution_count": 191,
   "id": "81e3f47e-6206-44fb-ad97-bbc11d5d8b6d",
   "metadata": {},
   "outputs": [
    {
     "data": {
      "text/plain": [
       "8"
      ]
     },
     "execution_count": 191,
     "metadata": {},
     "output_type": "execute_result"
    }
   ],
   "source": [
    "cube"
   ]
  },
  {
   "cell_type": "code",
   "execution_count": 192,
   "id": "36218118-51c1-4b15-8e02-13e3651e435f",
   "metadata": {},
   "outputs": [
    {
     "data": {
      "text/plain": [
       "[2, 4]"
      ]
     },
     "execution_count": 192,
     "metadata": {},
     "output_type": "execute_result"
    }
   ],
   "source": [
    "_"
   ]
  },
  {
   "cell_type": "markdown",
   "id": "3abc4828-26a8-4843-a4be-639581f6e66f",
   "metadata": {},
   "source": [
    "이렇게 unpacking할 수도 있음"
   ]
  },
  {
   "cell_type": "markdown",
   "id": "1458ec88-b230-480c-a67a-d0b184b4a6aa",
   "metadata": {},
   "source": [
    "---"
   ]
  },
  {
   "cell_type": "code",
   "execution_count": 193,
   "id": "8b91e189-fcaf-4bf4-87e4-601470df960c",
   "metadata": {},
   "outputs": [],
   "source": [
    "def my_sum(num_list):\n",
    "    total = 0\n",
    "    for num in num_list:\n",
    "        total+=num\n",
    "    return total"
   ]
  },
  {
   "cell_type": "code",
   "execution_count": 194,
   "id": "03116d24-7e87-4c34-96cb-9a73e0ca8422",
   "metadata": {},
   "outputs": [
    {
     "data": {
      "text/plain": [
       "6"
      ]
     },
     "execution_count": 194,
     "metadata": {},
     "output_type": "execute_result"
    }
   ],
   "source": [
    "my_sum([1,2,3])"
   ]
  },
  {
   "cell_type": "code",
   "execution_count": 198,
   "id": "86c35cb7-b47d-48c4-9eb4-977c3f8cdba3",
   "metadata": {},
   "outputs": [],
   "source": [
    "def my_mean(num_list):\n",
    "    s=my_sum(num_list) # 바로 위 셀에서 정의해준 function\n",
    "    N=len(num_list)\n",
    "    return s/N"
   ]
  },
  {
   "cell_type": "code",
   "execution_count": 199,
   "id": "186a32be-11cd-42be-bb4a-69beb163ae5c",
   "metadata": {},
   "outputs": [
    {
     "data": {
      "text/plain": [
       "9.0"
      ]
     },
     "execution_count": 199,
     "metadata": {},
     "output_type": "execute_result"
    }
   ],
   "source": [
    "my_mean([8,10])"
   ]
  }
 ],
 "metadata": {
  "kernelspec": {
   "display_name": "Python 3 (ipykernel)",
   "language": "python",
   "name": "python3"
  },
  "language_info": {
   "codemirror_mode": {
    "name": "ipython",
    "version": 3
   },
   "file_extension": ".py",
   "mimetype": "text/x-python",
   "name": "python",
   "nbconvert_exporter": "python",
   "pygments_lexer": "ipython3",
   "version": "3.8.11"
  }
 },
 "nbformat": 4,
 "nbformat_minor": 5
}
