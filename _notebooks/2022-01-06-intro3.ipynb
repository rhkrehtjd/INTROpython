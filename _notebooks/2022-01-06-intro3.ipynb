{
 "cells": [
  {
   "cell_type": "markdown",
   "id": "2d08cea5-ffb5-403e-9254-d2c369baf7d7",
   "metadata": {},
   "source": [
    "# 2022/01/06/THU"
   ]
  },
  {
   "cell_type": "markdown",
   "id": "musical-tunisia",
   "metadata": {},
   "source": [
    "`-` 예제1: 한줄 띄우기 "
   ]
  },
  {
   "cell_type": "code",
   "execution_count": 4,
   "id": "humanitarian-cattle",
   "metadata": {},
   "outputs": [
    {
     "data": {
      "text/plain": [
       "'나는\\n곽도성'"
      ]
     },
     "execution_count": 4,
     "metadata": {},
     "output_type": "execute_result"
    }
   ],
   "source": [
    "'나는\\n곽도성'"
   ]
  },
  {
   "cell_type": "code",
   "execution_count": 5,
   "id": "considerable-little",
   "metadata": {},
   "outputs": [
    {
     "name": "stdout",
     "output_type": "stream",
     "text": [
      "나는\n",
      "최규빈\n"
     ]
    }
   ],
   "source": [
    "print('나는\\n최규빈')"
   ]
  },
  {
   "cell_type": "markdown",
   "id": "boring-operation",
   "metadata": {},
   "source": [
    "`–` 예제2: 탭 "
   ]
  },
  {
   "cell_type": "code",
   "execution_count": 6,
   "id": "velvet-problem",
   "metadata": {},
   "outputs": [
    {
     "name": "stdout",
     "output_type": "stream",
     "text": [
      "나는\t곽도성\n"
     ]
    }
   ],
   "source": [
    "print('나는\\t곽도성')"
   ]
  },
  {
   "cell_type": "markdown",
   "id": "fifty-cooperation",
   "metadata": {},
   "source": [
    "`-` 예제3: 이스케이프"
   ]
  },
  {
   "cell_type": "markdown",
   "id": "antique-chicago",
   "metadata": {},
   "source": [
    "`나는\\n최규빈` 자체를 출력하고 싶다"
   ]
  },
  {
   "cell_type": "code",
   "execution_count": 8,
   "id": "crazy-representative",
   "metadata": {},
   "outputs": [
    {
     "name": "stdout",
     "output_type": "stream",
     "text": [
      "나는\\n최규빈\n"
     ]
    }
   ],
   "source": [
    "print('나는\\\\n최규빈')"
   ]
  },
  {
   "cell_type": "code",
   "execution_count": 10,
   "id": "historical-millennium",
   "metadata": {},
   "outputs": [
    {
     "name": "stdout",
     "output_type": "stream",
     "text": [
      "\\\n"
     ]
    }
   ],
   "source": [
    "print('\\\\')"
   ]
  },
  {
   "cell_type": "code",
   "execution_count": 11,
   "id": "mental-force",
   "metadata": {},
   "outputs": [
    {
     "name": "stdout",
     "output_type": "stream",
     "text": [
      "나는'최규빈'\n"
     ]
    }
   ],
   "source": [
    "print('나는\\'최규빈\\'')"
   ]
  },
  {
   "cell_type": "code",
   "execution_count": 12,
   "id": "alternate-background",
   "metadata": {},
   "outputs": [
    {
     "name": "stdout",
     "output_type": "stream",
     "text": [
      "나는'최규빈'\n"
     ]
    }
   ],
   "source": [
    "print(\"나는'최규빈'\")"
   ]
  },
  {
   "cell_type": "markdown",
   "id": "demographic-cross",
   "metadata": {},
   "source": [
    "> #### ***`문자열 메소드`***"
   ]
  },
  {
   "cell_type": "markdown",
   "id": "tracked-recovery",
   "metadata": {},
   "source": [
    "`-` 예제1"
   ]
  },
  {
   "cell_type": "code",
   "execution_count": 13,
   "id": "israeli-chess",
   "metadata": {},
   "outputs": [
    {
     "data": {
      "text/plain": [
       "'spaxxy'"
      ]
     },
     "execution_count": 13,
     "metadata": {},
     "output_type": "execute_result"
    }
   ],
   "source": [
    "S = 'spammy'\n",
    "S.replace('mm','xx')"
   ]
  },
  {
   "cell_type": "markdown",
   "id": "chinese-lawrence",
   "metadata": {},
   "source": [
    "`–` 예제2"
   ]
  },
  {
   "cell_type": "code",
   "execution_count": 14,
   "id": "floating-syracuse",
   "metadata": {},
   "outputs": [],
   "source": [
    "S = 'xxxxSPAMxxxxSPAMxxxx'"
   ]
  },
  {
   "cell_type": "code",
   "execution_count": 15,
   "id": "protected-behavior",
   "metadata": {},
   "outputs": [
    {
     "data": {
      "text/plain": [
       "'xxxxEGGSxxxxEGGSxxxx'"
      ]
     },
     "execution_count": 15,
     "metadata": {},
     "output_type": "execute_result"
    }
   ],
   "source": [
    "S.replace('SPAM','EGGS')"
   ]
  },
  {
   "cell_type": "code",
   "execution_count": 16,
   "id": "dated-enemy",
   "metadata": {},
   "outputs": [
    {
     "data": {
      "text/plain": [
       "'xxxxEGGSxxxxSPAMxxxx'"
      ]
     },
     "execution_count": 16,
     "metadata": {},
     "output_type": "execute_result"
    }
   ],
   "source": [
    "S.replace('SPAM','EGGS',1)\n",
    "# 1번만 바꿔라"
   ]
  },
  {
   "cell_type": "markdown",
   "id": "lined-eagle",
   "metadata": {},
   "source": [
    "`–` 예제1"
   ]
  },
  {
   "cell_type": "code",
   "execution_count": 17,
   "id": "lucky-picnic",
   "metadata": {},
   "outputs": [],
   "source": [
    "S = 'xxxxSPAMxxxxSPAMxxxx'"
   ]
  },
  {
   "cell_type": "code",
   "execution_count": 28,
   "id": "quarterly-supplement",
   "metadata": {},
   "outputs": [],
   "source": [
    "where=S.find('A')"
   ]
  },
  {
   "cell_type": "code",
   "execution_count": 29,
   "id": "eedb929c-e4e2-4ac4-a69e-4ff00514b594",
   "metadata": {},
   "outputs": [
    {
     "data": {
      "text/plain": [
       "6"
      ]
     },
     "execution_count": 29,
     "metadata": {},
     "output_type": "execute_result"
    }
   ],
   "source": [
    "where"
   ]
  },
  {
   "cell_type": "code",
   "execution_count": 30,
   "id": "947d5bae-4722-4e2d-8a33-e23808d19a76",
   "metadata": {},
   "outputs": [],
   "source": [
    "a=S.find('SPAM')"
   ]
  },
  {
   "cell_type": "markdown",
   "id": "755d305c-1268-4667-ad73-c72cbc4d3b02",
   "metadata": {},
   "source": [
    "SPAM자체를 찾진 않음"
   ]
  },
  {
   "cell_type": "code",
   "execution_count": 32,
   "id": "81c4658f-89bc-4cf6-8f5b-1a2a8864042e",
   "metadata": {},
   "outputs": [
    {
     "data": {
      "text/plain": [
       "4"
      ]
     },
     "execution_count": 32,
     "metadata": {},
     "output_type": "execute_result"
    }
   ],
   "source": [
    "a"
   ]
  },
  {
   "cell_type": "code",
   "execution_count": 36,
   "id": "ambient-ghana",
   "metadata": {},
   "outputs": [
    {
     "data": {
      "text/plain": [
       "'S'"
      ]
     },
     "execution_count": 36,
     "metadata": {},
     "output_type": "execute_result"
    }
   ],
   "source": [
    "S[a]"
   ]
  },
  {
   "cell_type": "code",
   "execution_count": 38,
   "id": "rational-alliance",
   "metadata": {},
   "outputs": [
    {
     "data": {
      "text/plain": [
       "'xxxxEGGSxxSPAMxxxx'"
      ]
     },
     "execution_count": 38,
     "metadata": {},
     "output_type": "execute_result"
    }
   ],
   "source": [
    "S[:a]+'EGGS'+S[(where+4):]"
   ]
  },
  {
   "cell_type": "markdown",
   "id": "organizational-library",
   "metadata": {},
   "source": [
    "`–` 예제1"
   ]
  },
  {
   "cell_type": "code",
   "execution_count": 58,
   "id": "separated-inspector",
   "metadata": {},
   "outputs": [],
   "source": [
    "S='spammy'"
   ]
  },
  {
   "cell_type": "code",
   "execution_count": 59,
   "id": "pursuant-blame",
   "metadata": {},
   "outputs": [
    {
     "data": {
      "text/plain": [
       "'mm'"
      ]
     },
     "execution_count": 59,
     "metadata": {},
     "output_type": "execute_result"
    }
   ],
   "source": [
    "S[3:5]"
   ]
  },
  {
   "cell_type": "code",
   "execution_count": 60,
   "id": "informational-improvement",
   "metadata": {},
   "outputs": [],
   "source": [
    "# S[3:5]='xx'"
   ]
  },
  {
   "cell_type": "markdown",
   "id": "alternative-wiring",
   "metadata": {},
   "source": [
    "- mm을 xx로 바꾸고 싶은데 `문자열`은 `불변리스트`라서 바꿀 수 없다."
   ]
  },
  {
   "cell_type": "markdown",
   "id": "eastern-firewall",
   "metadata": {},
   "source": [
    "- then 문자열을 잠시 가변객체인 리스트로 바꾼뒤 리스트에서 자유롭게 편집하고 그 다음에 다시 문자열로 만들자."
   ]
  },
  {
   "cell_type": "code",
   "execution_count": 61,
   "id": "confused-correspondence",
   "metadata": {},
   "outputs": [],
   "source": [
    "L=list(S)"
   ]
  },
  {
   "cell_type": "code",
   "execution_count": 62,
   "id": "considerable-pursuit",
   "metadata": {},
   "outputs": [
    {
     "data": {
      "text/plain": [
       "['s', 'p', 'a', 'm', 'm', 'y']"
      ]
     },
     "execution_count": 62,
     "metadata": {},
     "output_type": "execute_result"
    }
   ],
   "source": [
    "L"
   ]
  },
  {
   "cell_type": "code",
   "execution_count": 63,
   "id": "subject-shannon",
   "metadata": {},
   "outputs": [
    {
     "data": {
      "text/plain": [
       "['m', 'm']"
      ]
     },
     "execution_count": 63,
     "metadata": {},
     "output_type": "execute_result"
    }
   ],
   "source": [
    "L[3:5]"
   ]
  },
  {
   "cell_type": "code",
   "execution_count": 64,
   "id": "operating-eclipse",
   "metadata": {},
   "outputs": [],
   "source": [
    "L[3:5]=['x','x']"
   ]
  },
  {
   "cell_type": "code",
   "execution_count": 65,
   "id": "sexual-richards",
   "metadata": {},
   "outputs": [
    {
     "data": {
      "text/plain": [
       "['s', 'p', 'a', 'x', 'x', 'y']"
      ]
     },
     "execution_count": 65,
     "metadata": {},
     "output_type": "execute_result"
    }
   ],
   "source": [
    "L"
   ]
  },
  {
   "cell_type": "markdown",
   "id": "3670a300-dd7f-4a47-accc-c1981986f27a",
   "metadata": {},
   "source": [
    "---"
   ]
  },
  {
   "cell_type": "code",
   "execution_count": 66,
   "id": "9a3c6b94-8939-44e4-832c-52cd0b0a764a",
   "metadata": {},
   "outputs": [
    {
     "data": {
      "text/plain": [
       "'a-b-c'"
      ]
     },
     "execution_count": 66,
     "metadata": {},
     "output_type": "execute_result"
    }
   ],
   "source": [
    "'-'.join(['a','b','c'])"
   ]
  },
  {
   "cell_type": "markdown",
   "id": "ab7777c8-8171-400a-8b0d-44704255d93d",
   "metadata": {},
   "source": [
    "---"
   ]
  },
  {
   "cell_type": "code",
   "execution_count": 67,
   "id": "incorporated-pregnancy",
   "metadata": {},
   "outputs": [],
   "source": [
    "S=''.join(L)"
   ]
  },
  {
   "cell_type": "code",
   "execution_count": 68,
   "id": "stable-salon",
   "metadata": {},
   "outputs": [
    {
     "data": {
      "text/plain": [
       "'spaxxy'"
      ]
     },
     "execution_count": 68,
     "metadata": {},
     "output_type": "execute_result"
    }
   ],
   "source": [
    "S"
   ]
  },
  {
   "cell_type": "markdown",
   "id": "sought-factory",
   "metadata": {},
   "source": [
    "`–` 예제1"
   ]
  },
  {
   "cell_type": "code",
   "execution_count": 69,
   "id": "stuffed-mandate",
   "metadata": {},
   "outputs": [],
   "source": [
    "s='bob,hacker,40'"
   ]
  },
  {
   "cell_type": "code",
   "execution_count": 70,
   "id": "c6cdbe91-fe8e-4590-a28b-1254ae98e936",
   "metadata": {},
   "outputs": [
    {
     "data": {
      "text/plain": [
       "'bob,hacker,40'"
      ]
     },
     "execution_count": 70,
     "metadata": {},
     "output_type": "execute_result"
    }
   ],
   "source": [
    "s"
   ]
  },
  {
   "cell_type": "code",
   "execution_count": 72,
   "id": "later-brush",
   "metadata": {},
   "outputs": [
    {
     "data": {
      "text/plain": [
       "['bob', 'hacker', '40']"
      ]
     },
     "execution_count": 72,
     "metadata": {},
     "output_type": "execute_result"
    }
   ],
   "source": [
    "a=s.split(',')\n",
    "a"
   ]
  },
  {
   "cell_type": "code",
   "execution_count": 73,
   "id": "96da855b-406b-4632-8861-0a970ab66dae",
   "metadata": {},
   "outputs": [
    {
     "data": {
      "text/plain": [
       "list"
      ]
     },
     "execution_count": 73,
     "metadata": {},
     "output_type": "execute_result"
    }
   ],
   "source": [
    "type(a)"
   ]
  },
  {
   "cell_type": "markdown",
   "id": "c380dfaf-2fe6-4b94-babb-4fa546818eb0",
   "metadata": {},
   "source": [
    "list형태임"
   ]
  },
  {
   "cell_type": "markdown",
   "id": "institutional-updating",
   "metadata": {},
   "source": [
    "`–` 예제2"
   ]
  },
  {
   "cell_type": "code",
   "execution_count": 74,
   "id": "liquid-status",
   "metadata": {},
   "outputs": [],
   "source": [
    "s= 'aaa bbb ccc'"
   ]
  },
  {
   "cell_type": "markdown",
   "id": "excess-beast",
   "metadata": {},
   "source": [
    "구분되어 있는 게 스페이스이기 때문에"
   ]
  },
  {
   "cell_type": "markdown",
   "id": "ef01dbfc-2d58-46ff-83d9-1b55a5bc0081",
   "metadata": {},
   "source": [
    "스페이스 기준으로 나눠서 원소만들고 list안에 넣어준다 = split"
   ]
  },
  {
   "cell_type": "code",
   "execution_count": 75,
   "id": "statistical-montreal",
   "metadata": {},
   "outputs": [
    {
     "data": {
      "text/plain": [
       "['aaa', 'bbb', 'ccc']"
      ]
     },
     "execution_count": 75,
     "metadata": {},
     "output_type": "execute_result"
    }
   ],
   "source": [
    "s.split(' ')"
   ]
  },
  {
   "cell_type": "code",
   "execution_count": 77,
   "id": "soviet-central",
   "metadata": {},
   "outputs": [
    {
     "data": {
      "text/plain": [
       "['aaa', 'bbb', 'ccc']"
      ]
     },
     "execution_count": 77,
     "metadata": {},
     "output_type": "execute_result"
    }
   ],
   "source": [
    "# 이렇게 해도 되고\n",
    "s.split()"
   ]
  },
  {
   "cell_type": "markdown",
   "id": "foster-customs",
   "metadata": {},
   "source": [
    "s: 스트링\n",
    "\n",
    "(스트링을 받아서 넣어줌)"
   ]
  },
  {
   "cell_type": "code",
   "execution_count": 94,
   "id": "2a040e41-7a0d-4789-bab0-3f026ffbbacb",
   "metadata": {},
   "outputs": [
    {
     "data": {
      "text/plain": [
       "'age: 35'"
      ]
     },
     "execution_count": 94,
     "metadata": {},
     "output_type": "execute_result"
    }
   ],
   "source": [
    "'age: %s' % '35'"
   ]
  },
  {
   "cell_type": "code",
   "execution_count": 95,
   "id": "8dd5a1b6-b5bf-4a44-bf64-58d93c6b7f2e",
   "metadata": {},
   "outputs": [
    {
     "data": {
      "text/plain": [
       "'age: e'"
      ]
     },
     "execution_count": 95,
     "metadata": {},
     "output_type": "execute_result"
    }
   ],
   "source": [
    "'age: %s' % 'e'"
   ]
  },
  {
   "cell_type": "code",
   "execution_count": 96,
   "id": "chief-aging",
   "metadata": {},
   "outputs": [
    {
     "data": {
      "text/plain": [
       "\"age: 'e'\""
      ]
     },
     "execution_count": 96,
     "metadata": {},
     "output_type": "execute_result"
    }
   ],
   "source": [
    "'age: %a' % 'e'"
   ]
  },
  {
   "cell_type": "markdown",
   "id": "checked-cemetery",
   "metadata": {},
   "source": [
    "d: 정수"
   ]
  },
  {
   "cell_type": "code",
   "execution_count": 97,
   "id": "parliamentary-publication",
   "metadata": {},
   "outputs": [
    {
     "data": {
      "text/plain": [
       "'age: 39'"
      ]
     },
     "execution_count": 97,
     "metadata": {},
     "output_type": "execute_result"
    }
   ],
   "source": [
    "'age: %d' % 39.254"
   ]
  },
  {
   "cell_type": "markdown",
   "id": "classified-gravity",
   "metadata": {},
   "source": [
    "f: 플롯"
   ]
  },
  {
   "cell_type": "code",
   "execution_count": 98,
   "id": "agricultural-swiss",
   "metadata": {},
   "outputs": [
    {
     "data": {
      "text/plain": [
       "'age: 39.000000'"
      ]
     },
     "execution_count": 98,
     "metadata": {},
     "output_type": "execute_result"
    }
   ],
   "source": [
    "'age: %f' % 39"
   ]
  },
  {
   "cell_type": "markdown",
   "id": "intermediate-skill",
   "metadata": {},
   "source": [
    "`-` 예제2"
   ]
  },
  {
   "cell_type": "code",
   "execution_count": 102,
   "id": "thorough-collins",
   "metadata": {},
   "outputs": [
    {
     "data": {
      "text/plain": [
       "'addr: seoul to jeonju'"
      ]
     },
     "execution_count": 102,
     "metadata": {},
     "output_type": "execute_result"
    }
   ],
   "source": [
    "'addr: %s to %s' % ('seoul','jeonju')"
   ]
  },
  {
   "cell_type": "markdown",
   "id": "serious-revelation",
   "metadata": {},
   "source": [
    "꼭 tuple(괄호가 포함된 상태)로 묶어주어야 함"
   ]
  },
  {
   "cell_type": "markdown",
   "id": "d6dfe588-a286-4b07-a0d7-3b28edc9f9dc",
   "metadata": {},
   "source": [
    "----\n",
    "이렇게 사용하면 안 됨\n",
    "```python\n",
    "'addr: %s to %s' % ['seoul','jeonju']\n",
    "```"
   ]
  },
  {
   "cell_type": "markdown",
   "id": "f7ef8575-040b-47e1-9423-acce86f12a9d",
   "metadata": {},
   "source": [
    "```python\n",
    "'addr: %s to %s' % 'seoul','jeonju'\n",
    "```\n",
    "---"
   ]
  },
  {
   "cell_type": "code",
   "execution_count": 104,
   "id": "national-marathon",
   "metadata": {},
   "outputs": [
    {
     "data": {
      "text/plain": [
       "'addr: seoul to jeonju'"
      ]
     },
     "execution_count": 104,
     "metadata": {},
     "output_type": "execute_result"
    }
   ],
   "source": [
    "s = 'addr: %s to %s' \n",
    "s % ('seoul','jeonju')"
   ]
  },
  {
   "cell_type": "markdown",
   "id": "mathematical-reading",
   "metadata": {},
   "source": [
    "#### 딕셔너리 기반 포매팅 "
   ]
  },
  {
   "cell_type": "markdown",
   "id": "comparative-correspondence",
   "metadata": {},
   "source": [
    "`-` 예제1 "
   ]
  },
  {
   "cell_type": "code",
   "execution_count": 105,
   "id": "complex-newport",
   "metadata": {},
   "outputs": [
    {
     "data": {
      "text/plain": [
       "'여기 짜장면 1개, 짬뽕 1개 주문이요'"
      ]
     },
     "execution_count": 105,
     "metadata": {},
     "output_type": "execute_result"
    }
   ],
   "source": [
    "'여기 %(food1)s 1개, %(food2)s 1개 주문이요' % {'food1':'짜장면','food2':'짬뽕'}"
   ]
  },
  {
   "cell_type": "code",
   "execution_count": 106,
   "id": "atmospheric-launch",
   "metadata": {},
   "outputs": [
    {
     "data": {
      "text/plain": [
       "'여기 짜장면 1개, 짬뽕 1개 주문이요, 아.. 아니다. 짜장면은 취소하고 그냥 짬뽕 두개 주세요'"
      ]
     },
     "execution_count": 106,
     "metadata": {},
     "output_type": "execute_result"
    }
   ],
   "source": [
    "'여기 %(food1)s 1개, %(food2)s 1개 주문이요, 아.. 아니다. %(food1)s은 취소하고 그냥 %(food2)s 두개 주세요' % {'food1':'짜장면','food2':'짬뽕'}"
   ]
  },
  {
   "cell_type": "markdown",
   "id": "timely-custom",
   "metadata": {},
   "source": [
    "`-` 예제2"
   ]
  },
  {
   "cell_type": "code",
   "execution_count": 113,
   "id": "concerned-affairs",
   "metadata": {},
   "outputs": [],
   "source": [
    "mail='%(studentname)s 학생 안녕하세요\\n저는 통계학과 xxx 교수 입니다.\\n전공설계과목 지침에 따라 %(studentname)s학생과 2회 상담을 실시해야 합니다.\\n저는 %(day)s에 시간이 괜찮은데 %(studentname)s 학생도 그날 시간이 괜찮을까요?\\n' "
   ]
  },
  {
   "cell_type": "code",
   "execution_count": 115,
   "id": "cordless-radar",
   "metadata": {},
   "outputs": [
    {
     "name": "stdout",
     "output_type": "stream",
     "text": [
      "곽도성 학생 안녕하세요\n",
      "저는 통계학과 xxx 교수 입니다.\n",
      "전공설계과목 지침에 따라 곽도성학생과 2회 상담을 실시해야 합니다.\n",
      "저는 5월31일에 시간이 괜찮은데 곽도성 학생도 그날 시간이 괜찮을까요?\n",
      "\n"
     ]
    }
   ],
   "source": [
    "print(mail % {'studentname':'곽도성', 'day':'5월31일'})"
   ]
  },
  {
   "cell_type": "markdown",
   "id": "eastern-violation",
   "metadata": {},
   "source": [
    "`-` 예제3"
   ]
  },
  {
   "cell_type": "code",
   "execution_count": 137,
   "id": "entertaining-rover",
   "metadata": {},
   "outputs": [
    {
     "data": {
      "text/html": [
       "<div>\n",
       "<style scoped>\n",
       "    .dataframe tbody tr th:only-of-type {\n",
       "        vertical-align: middle;\n",
       "    }\n",
       "\n",
       "    .dataframe tbody tr th {\n",
       "        vertical-align: top;\n",
       "    }\n",
       "\n",
       "    .dataframe thead th {\n",
       "        text-align: right;\n",
       "    }\n",
       "</style>\n",
       "<table border=\"1\" class=\"dataframe\">\n",
       "  <thead>\n",
       "    <tr style=\"text-align: right;\">\n",
       "      <th></th>\n",
       "      <th>studentname</th>\n",
       "      <th>day</th>\n",
       "    </tr>\n",
       "  </thead>\n",
       "  <tbody>\n",
       "    <tr>\n",
       "      <th>0</th>\n",
       "      <td>As</td>\n",
       "      <td>5월31일</td>\n",
       "    </tr>\n",
       "    <tr>\n",
       "      <th>1</th>\n",
       "      <td>Bs</td>\n",
       "      <td>6월3일</td>\n",
       "    </tr>\n",
       "  </tbody>\n",
       "</table>\n",
       "</div>"
      ],
      "text/plain": [
       "  studentname    day\n",
       "0          As  5월31일\n",
       "1          Bs   6월3일"
      ]
     },
     "execution_count": 137,
     "metadata": {},
     "output_type": "execute_result"
    }
   ],
   "source": [
    "import pandas as pd\n",
    "df=pd.DataFrame({'studentname':['As','Bs'],'day':['5월31일','6월3일']})\n",
    "df"
   ]
  },
  {
   "cell_type": "code",
   "execution_count": 138,
   "id": "d48f0a65-669c-4859-9325-160cc7b50e78",
   "metadata": {},
   "outputs": [
    {
     "data": {
      "text/html": [
       "<div>\n",
       "<style scoped>\n",
       "    .dataframe tbody tr th:only-of-type {\n",
       "        vertical-align: middle;\n",
       "    }\n",
       "\n",
       "    .dataframe tbody tr th {\n",
       "        vertical-align: top;\n",
       "    }\n",
       "\n",
       "    .dataframe thead th {\n",
       "        text-align: right;\n",
       "    }\n",
       "</style>\n",
       "<table border=\"1\" class=\"dataframe\">\n",
       "  <thead>\n",
       "    <tr style=\"text-align: right;\">\n",
       "      <th></th>\n",
       "      <th>day</th>\n",
       "    </tr>\n",
       "  </thead>\n",
       "  <tbody>\n",
       "    <tr>\n",
       "      <th>0</th>\n",
       "      <td>5월31일</td>\n",
       "    </tr>\n",
       "    <tr>\n",
       "      <th>1</th>\n",
       "      <td>6월3일</td>\n",
       "    </tr>\n",
       "  </tbody>\n",
       "</table>\n",
       "</div>"
      ],
      "text/plain": [
       "     day\n",
       "0  5월31일\n",
       "1   6월3일"
      ]
     },
     "execution_count": 138,
     "metadata": {},
     "output_type": "execute_result"
    }
   ],
   "source": [
    "df.loc[:,['day']]"
   ]
  },
  {
   "cell_type": "code",
   "execution_count": 139,
   "id": "246cc4b1-3001-4a93-b258-0dc85958f250",
   "metadata": {},
   "outputs": [
    {
     "data": {
      "text/html": [
       "<div>\n",
       "<style scoped>\n",
       "    .dataframe tbody tr th:only-of-type {\n",
       "        vertical-align: middle;\n",
       "    }\n",
       "\n",
       "    .dataframe tbody tr th {\n",
       "        vertical-align: top;\n",
       "    }\n",
       "\n",
       "    .dataframe thead th {\n",
       "        text-align: right;\n",
       "    }\n",
       "</style>\n",
       "<table border=\"1\" class=\"dataframe\">\n",
       "  <thead>\n",
       "    <tr style=\"text-align: right;\">\n",
       "      <th></th>\n",
       "      <th>studentname</th>\n",
       "      <th>day</th>\n",
       "    </tr>\n",
       "  </thead>\n",
       "  <tbody>\n",
       "    <tr>\n",
       "      <th>0</th>\n",
       "      <td>As</td>\n",
       "      <td>5월31일</td>\n",
       "    </tr>\n",
       "  </tbody>\n",
       "</table>\n",
       "</div>"
      ],
      "text/plain": [
       "  studentname    day\n",
       "0          As  5월31일"
      ]
     },
     "execution_count": 139,
     "metadata": {},
     "output_type": "execute_result"
    }
   ],
   "source": [
    "df.iloc[[0]]"
   ]
  },
  {
   "cell_type": "code",
   "execution_count": 140,
   "id": "23c2a2d9-9801-4bbb-8e71-d842186a2f1a",
   "metadata": {},
   "outputs": [
    {
     "data": {
      "text/plain": [
       "{'studentname': 'Bs', 'day': '6월3일'}"
      ]
     },
     "execution_count": 140,
     "metadata": {},
     "output_type": "execute_result"
    }
   ],
   "source": [
    "dict(df.iloc[1])"
   ]
  },
  {
   "cell_type": "code",
   "execution_count": 141,
   "id": "76861cba-d7d6-4fa7-be2b-e3a666944b9a",
   "metadata": {},
   "outputs": [
    {
     "data": {
      "text/plain": [
       "{'studentname': 1    Bs\n",
       " Name: studentname, dtype: object,\n",
       " 'day': 1    6월3일\n",
       " Name: day, dtype: object}"
      ]
     },
     "execution_count": 141,
     "metadata": {},
     "output_type": "execute_result"
    }
   ],
   "source": [
    "dict(df.iloc[[1]])"
   ]
  },
  {
   "cell_type": "code",
   "execution_count": 142,
   "id": "entertaining-terrace",
   "metadata": {},
   "outputs": [
    {
     "name": "stdout",
     "output_type": "stream",
     "text": [
      "As 학생 안녕하세요\n",
      "저는 통계학과 xxx 교수 입니다.\n",
      "전공설계과목 지침에 따라 As학생과 2회 상담을 실시해야 합니다.\n",
      "저는 5월31일에 시간이 괜찮은데 As 학생도 그날 시간이 괜찮을까요?\n",
      "\n",
      "Bs 학생 안녕하세요\n",
      "저는 통계학과 xxx 교수 입니다.\n",
      "전공설계과목 지침에 따라 Bs학생과 2회 상담을 실시해야 합니다.\n",
      "저는 6월3일에 시간이 괜찮은데 Bs 학생도 그날 시간이 괜찮을까요?\n",
      "\n"
     ]
    }
   ],
   "source": [
    "for i in [0,1]:\n",
    "    print(mail % dict(df.iloc[i]))"
   ]
  },
  {
   "cell_type": "markdown",
   "id": "thrown-newman",
   "metadata": {},
   "source": [
    "#### 메서드"
   ]
  },
  {
   "cell_type": "code",
   "execution_count": 143,
   "id": "sorted-brooklyn",
   "metadata": {},
   "outputs": [],
   "source": [
    "mail='{studentname} 학생 안녕하세요\\n저는 통계학과 최규빈 교수 입니다.\\n전공설계과목 지침에 따라 {studentname}학생과 2회 상담을 실시해야 합니다.\\n저는 {day}에 시간이 괜찮은데 {studentname} 학생도 그날 시간이 괜찮을까요?\\n' "
   ]
  },
  {
   "cell_type": "code",
   "execution_count": 144,
   "id": "negative-frontier",
   "metadata": {},
   "outputs": [
    {
     "data": {
      "text/plain": [
       "'박혜원 학생 안녕하세요\\n저는 통계학과 최규빈 교수 입니다.\\n전공설계과목 지침에 따라 박혜원학생과 2회 상담을 실시해야 합니다.\\n저는 6월2일에 시간이 괜찮은데 박혜원 학생도 그날 시간이 괜찮을까요?\\n'"
      ]
     },
     "execution_count": 144,
     "metadata": {},
     "output_type": "execute_result"
    }
   ],
   "source": [
    "mail.format(studentname='박혜원',day='6월2일')"
   ]
  },
  {
   "cell_type": "code",
   "execution_count": 145,
   "id": "directed-reading",
   "metadata": {},
   "outputs": [
    {
     "name": "stdout",
     "output_type": "stream",
     "text": [
      "박혜원 학생 안녕하세요\n",
      "저는 통계학과 최규빈 교수 입니다.\n",
      "전공설계과목 지침에 따라 박혜원학생과 2회 상담을 실시해야 합니다.\n",
      "저는 6월2일에 시간이 괜찮은데 박혜원 학생도 그날 시간이 괜찮을까요?\n",
      "\n"
     ]
    }
   ],
   "source": [
    "print(mail.format(studentname='박혜원',day='6월2일'))"
   ]
  },
  {
   "cell_type": "markdown",
   "id": "involved-helena",
   "metadata": {},
   "source": [
    "`–` 예제2"
   ]
  },
  {
   "cell_type": "code",
   "execution_count": 148,
   "id": "fifth-harassment",
   "metadata": {},
   "outputs": [
    {
     "data": {
      "text/plain": [
       "'이름:곽도성,나이:23,성별:남'"
      ]
     },
     "execution_count": 148,
     "metadata": {},
     "output_type": "execute_result"
    }
   ],
   "source": [
    "'이름:{},나이:{},성별:{}'.format('곽도성','23','남')"
   ]
  },
  {
   "cell_type": "code",
   "execution_count": 151,
   "id": "23928c21-651a-481d-85f6-b7629cfd81d1",
   "metadata": {},
   "outputs": [],
   "source": [
    "df=pd.DataFrame({'a':[1,2,3],'b':[1,2,3]})"
   ]
  },
  {
   "cell_type": "code",
   "execution_count": 152,
   "id": "193c9be6-a09c-4a29-8d27-0eabf8d43f36",
   "metadata": {},
   "outputs": [
    {
     "data": {
      "text/html": [
       "<div>\n",
       "<style scoped>\n",
       "    .dataframe tbody tr th:only-of-type {\n",
       "        vertical-align: middle;\n",
       "    }\n",
       "\n",
       "    .dataframe tbody tr th {\n",
       "        vertical-align: top;\n",
       "    }\n",
       "\n",
       "    .dataframe thead th {\n",
       "        text-align: right;\n",
       "    }\n",
       "</style>\n",
       "<table border=\"1\" class=\"dataframe\">\n",
       "  <thead>\n",
       "    <tr style=\"text-align: right;\">\n",
       "      <th></th>\n",
       "      <th>a</th>\n",
       "      <th>b</th>\n",
       "    </tr>\n",
       "  </thead>\n",
       "  <tbody>\n",
       "    <tr>\n",
       "      <th>0</th>\n",
       "      <td>1</td>\n",
       "      <td>1</td>\n",
       "    </tr>\n",
       "    <tr>\n",
       "      <th>1</th>\n",
       "      <td>2</td>\n",
       "      <td>2</td>\n",
       "    </tr>\n",
       "    <tr>\n",
       "      <th>2</th>\n",
       "      <td>3</td>\n",
       "      <td>3</td>\n",
       "    </tr>\n",
       "  </tbody>\n",
       "</table>\n",
       "</div>"
      ],
      "text/plain": [
       "   a  b\n",
       "0  1  1\n",
       "1  2  2\n",
       "2  3  3"
      ]
     },
     "execution_count": 152,
     "metadata": {},
     "output_type": "execute_result"
    }
   ],
   "source": [
    "df"
   ]
  },
  {
   "cell_type": "code",
   "execution_count": 154,
   "id": "f7330c85-5873-47d9-86cb-5e91d62f187d",
   "metadata": {},
   "outputs": [
    {
     "data": {
      "text/plain": [
       "0    1\n",
       "1    2\n",
       "2    3\n",
       "Name: a, dtype: int64"
      ]
     },
     "execution_count": 154,
     "metadata": {},
     "output_type": "execute_result"
    }
   ],
   "source": [
    "df.a"
   ]
  },
  {
   "cell_type": "code",
   "execution_count": 156,
   "id": "647a4284-83e7-4beb-a548-1e3346c6ae7d",
   "metadata": {},
   "outputs": [
    {
     "data": {
      "text/plain": [
       "0    1\n",
       "1    2\n",
       "2    3\n",
       "Name: a, dtype: int64"
      ]
     },
     "execution_count": 156,
     "metadata": {},
     "output_type": "execute_result"
    }
   ],
   "source": [
    "df['a']"
   ]
  },
  {
   "cell_type": "code",
   "execution_count": 157,
   "id": "4c63a97c-e303-4703-a880-b653cef8e40c",
   "metadata": {},
   "outputs": [
    {
     "data": {
      "text/html": [
       "<div>\n",
       "<style scoped>\n",
       "    .dataframe tbody tr th:only-of-type {\n",
       "        vertical-align: middle;\n",
       "    }\n",
       "\n",
       "    .dataframe tbody tr th {\n",
       "        vertical-align: top;\n",
       "    }\n",
       "\n",
       "    .dataframe thead th {\n",
       "        text-align: right;\n",
       "    }\n",
       "</style>\n",
       "<table border=\"1\" class=\"dataframe\">\n",
       "  <thead>\n",
       "    <tr style=\"text-align: right;\">\n",
       "      <th></th>\n",
       "      <th>a</th>\n",
       "    </tr>\n",
       "  </thead>\n",
       "  <tbody>\n",
       "    <tr>\n",
       "      <th>0</th>\n",
       "      <td>1</td>\n",
       "    </tr>\n",
       "    <tr>\n",
       "      <th>1</th>\n",
       "      <td>2</td>\n",
       "    </tr>\n",
       "    <tr>\n",
       "      <th>2</th>\n",
       "      <td>3</td>\n",
       "    </tr>\n",
       "  </tbody>\n",
       "</table>\n",
       "</div>"
      ],
      "text/plain": [
       "   a\n",
       "0  1\n",
       "1  2\n",
       "2  3"
      ]
     },
     "execution_count": 157,
     "metadata": {},
     "output_type": "execute_result"
    }
   ],
   "source": [
    "df[['a']]"
   ]
  },
  {
   "cell_type": "code",
   "execution_count": 159,
   "id": "4f69901b-5314-47cf-ad8a-446bb0cfd51b",
   "metadata": {},
   "outputs": [
    {
     "data": {
      "text/plain": [
       "a    1\n",
       "b    1\n",
       "Name: 0, dtype: int64"
      ]
     },
     "execution_count": 159,
     "metadata": {},
     "output_type": "execute_result"
    }
   ],
   "source": [
    "df.iloc[0]"
   ]
  },
  {
   "cell_type": "code",
   "execution_count": 160,
   "id": "f2982434-d1a7-4126-b201-09bf20d45684",
   "metadata": {},
   "outputs": [
    {
     "data": {
      "text/plain": [
       "a    3\n",
       "b    3\n",
       "Name: 2, dtype: int64"
      ]
     },
     "execution_count": 160,
     "metadata": {},
     "output_type": "execute_result"
    }
   ],
   "source": [
    "df.loc[2]"
   ]
  },
  {
   "cell_type": "code",
   "execution_count": 162,
   "id": "bd645f98-bcc7-424e-8d53-a7199474b619",
   "metadata": {},
   "outputs": [
    {
     "data": {
      "text/plain": [
       "0    1\n",
       "1    2\n",
       "2    3\n",
       "Name: a, dtype: int64"
      ]
     },
     "execution_count": 162,
     "metadata": {},
     "output_type": "execute_result"
    }
   ],
   "source": [
    "df.iloc[:,0]"
   ]
  },
  {
   "cell_type": "code",
   "execution_count": 164,
   "id": "e6c9949c-3b0d-42a4-aa4d-34cd6f2688af",
   "metadata": {},
   "outputs": [
    {
     "data": {
      "text/plain": [
       "0    1\n",
       "1    2\n",
       "2    3\n",
       "Name: b, dtype: int64"
      ]
     },
     "execution_count": 164,
     "metadata": {},
     "output_type": "execute_result"
    }
   ],
   "source": [
    "df.iloc[:,1]"
   ]
  }
 ],
 "metadata": {
  "kernelspec": {
   "display_name": "Python 3 (ipykernel)",
   "language": "python",
   "name": "python3"
  },
  "language_info": {
   "codemirror_mode": {
    "name": "ipython",
    "version": 3
   },
   "file_extension": ".py",
   "mimetype": "text/x-python",
   "name": "python",
   "nbconvert_exporter": "python",
   "pygments_lexer": "ipython3",
   "version": "3.8.11"
  }
 },
 "nbformat": 4,
 "nbformat_minor": 5
}
