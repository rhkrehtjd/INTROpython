{
 "cells": [
  {
   "cell_type": "markdown",
   "id": "e28c1569-ccab-4a67-a140-d510bc713bbb",
   "metadata": {},
   "source": [
    "# 정규 표현식5"
   ]
  },
  {
   "cell_type": "markdown",
   "id": "811a77df-2713-478a-9c04-c0436702fd9c",
   "metadata": {},
   "source": [
    "- ABC 문자열이 계속해서 반복되는지 조사하는 정규식을 작성하고 싶다고 해보자. 어떻게 해야할까. 지금까지 공부한 내용으로는 위 정규식을 작성할 수 없다. 이럴 때 필요한 것이 바로 그루핑(Grouping)이다.\n",
    "- 위 경우는 아래와 같이 그루핑을 사용하여 작성할 수 있다.\n",
    "- \n",
    "```python\n",
    "(ABC)+\n",
    "```\n",
    "  - 그룹을 만들어주는 메타 문자는 바로 ()이다."
   ]
  },
  {
   "cell_type": "code",
   "execution_count": 1,
   "id": "4e3ca2a0-0ff4-4710-9462-b60f183c6036",
   "metadata": {},
   "outputs": [
    {
     "name": "stdout",
     "output_type": "stream",
     "text": [
      "<re.Match object; span=(0, 9), match='ABCABCABC'>\n",
      "ABCABCABC\n"
     ]
    }
   ],
   "source": [
    "import re\n",
    "p = re.compile('(ABC)+')\n",
    "m = p.search('ABCABCABC OK?')\n",
    "print(m)\n",
    "print(m.group())"
   ]
  },
  {
   "cell_type": "markdown",
   "id": "9655bc25-2992-4d85-bf32-811938900b1a",
   "metadata": {},
   "source": [
    "- 다음 예를 보자"
   ]
  },
  {
   "cell_type": "code",
   "execution_count": 2,
   "id": "3750ed08-2026-4dba-a503-66032e48d322",
   "metadata": {},
   "outputs": [],
   "source": [
    "p = re.compile(r\"\\w+\\s+\\d+[-]\\d+[-]\\d+\")\n",
    "m = p.search(\"park 010-1234-1234\")"
   ]
  },
  {
   "cell_type": "markdown",
   "id": "f7c4267b-51be-4e81-a4fa-9680a43ea3dd",
   "metadata": {},
   "source": [
    "- \\w+\\s+\\d+[-]\\d+[-]\\d+은 이름+\" \"+전화번호 형태의 문자열을 찾는 ㅡ정규식이다. \n",
    "- 그런데 이렇게 매치된 문자열 중에서 이름만 뽑아내고 싶다면 어떻게 해야할까?\n",
    "- 보통 반복되는 문자열을 찾을 때 그룹을 사용하는데, 그룹을 사용하는 보다 큰 이유는 위에서 볼 수 있듯이 매치된 문자열 중에서 특정 부분의 문자열만 뽑아내기 위해서인 경우가 더 많다. \n",
    "- 위 예에서 만약 이름 부분만 뽑아내려 한다면 다음과 같이 할 수 있다."
   ]
  },
  {
   "cell_type": "code",
   "execution_count": 3,
   "id": "f91d198b-57ff-46a3-be92-047d622f2b18",
   "metadata": {},
   "outputs": [
    {
     "name": "stdout",
     "output_type": "stream",
     "text": [
      "park\n"
     ]
    }
   ],
   "source": [
    "p = re.compile(r\"(\\w+)\\s+\\d+[-]\\d+[-]\\d+\")\n",
    "m = p.search(\"park 010-1234-1234\")\n",
    "print(m.group(1))"
   ]
  },
  {
   "cell_type": "markdown",
   "id": "11e30d46-ff2b-4742-b4dc-dddffbe53f8d",
   "metadata": {},
   "source": [
    "- 이름에 해당하는 \\w+ 부분을 그룹 (\\w+)으로 만들면 match 객체의 group(인덱스) 메서드를 사용하여 그루핑된 부분의 문자열만 뽑아낼 수 있다. group 메서드의 인덱스는 다음과 같은 의미를 갖는다.\n",
    "- group(0) : 매치된 전체 문자열\n",
    "- group(1) : 첫 번째 그룹에 해당되는 문자열\n",
    "- group(2) : 두 번째 그룹에 해당되는 문자열\n",
    "- group(3) : n 번째 그룹에 해당되는 문자열"
   ]
  },
  {
   "cell_type": "code",
   "execution_count": 4,
   "id": "ef484c9d-5048-4deb-b898-7fffd62e6a12",
   "metadata": {},
   "outputs": [
    {
     "name": "stdout",
     "output_type": "stream",
     "text": [
      "010-1234-1234\n"
     ]
    }
   ],
   "source": [
    "p = re.compile(r\"(\\w+)\\s+(\\d+[-]\\d+[-]\\d+)\")\n",
    "m = p.search(\"park 010-1234-1234\")\n",
    "print(m.group(2))"
   ]
  },
  {
   "cell_type": "markdown",
   "id": "b4e83dbc-b300-4a79-b245-63b24181b1bf",
   "metadata": {},
   "source": [
    "- 이번에는 전화번호 부분을 추가로 그룹 (\\d+[-]\\d+[-]\\d+)로 만들었다. 이렇게 하면 group(2)처럼 사용하여 전화번호만 뽑아낼 수 있다.\n",
    "- 만약 전화번호 중에서 국번만 뽑아내고 싶으면 어떻게 해야 할까? 다음과 같이 국번 부분을 또 그루핑하면 된다."
   ]
  },
  {
   "cell_type": "code",
   "execution_count": 5,
   "id": "e99d4865-2673-4206-aa46-6d162789e16f",
   "metadata": {},
   "outputs": [
    {
     "name": "stdout",
     "output_type": "stream",
     "text": [
      "010\n"
     ]
    }
   ],
   "source": [
    "p = re.compile(r\"(\\w+)\\s+((\\d+)[-]\\d+[-]\\d+)\")\n",
    "m = p.search(\"park 010-1234-1234\")\n",
    "print(m.group(3))"
   ]
  },
  {
   "cell_type": "markdown",
   "id": "b4a6afe8-6b71-4c0e-aaaa-48d7f04265ac",
   "metadata": {},
   "source": [
    "- 위 예에서 볼 수 있듯이 (\\w+)\\s+((\\d+)[-]\\d+[-]\\d+)처럼 그룹을 중첩되게 사용하는 것도 가능하다. 그룹이 중첩되어 있는 경우는 바깥쪽부터 시작하여 안쪽으로 들어갈수록 인덱스가 증가한다."
   ]
  },
  {
   "cell_type": "markdown",
   "id": "8024ed46-4c9c-4073-ab5b-2f6725f52892",
   "metadata": {},
   "source": [
    "----"
   ]
  },
  {
   "cell_type": "markdown",
   "id": "dd8c0f82-b7b0-4280-a3d8-7ea0b78b59d3",
   "metadata": {},
   "source": [
    "- 그룹의 또 하나 좋은 점은 한 번 그루핑한 문자열을 재참조할 수 있다는 점이다.\n"
   ]
  },
  {
   "cell_type": "code",
   "execution_count": 6,
   "id": "1d0adb1f-5dcd-4960-ade8-cbcbe6a384d9",
   "metadata": {},
   "outputs": [
    {
     "data": {
      "text/plain": [
       "'the the'"
      ]
     },
     "execution_count": 6,
     "metadata": {},
     "output_type": "execute_result"
    }
   ],
   "source": [
    "p = re.compile(r'(\\b\\w+)\\s+\\1')\n",
    "p.search('Paris in the the spring').group()"
   ]
  },
  {
   "cell_type": "markdown",
   "id": "10e91cef-770d-4246-a914-eaf812d10da1",
   "metadata": {},
   "source": [
    "- 정규식 (\\b\\w+)\\s+\\1은 (그룹) + \" \" + 그룹과 동일한 단어와 매치됨을 의미한다. 이렇게 정규식을 만들게 되면 2개의 동일한 단어를 연속적으로 사용해야만 매치된다. 이것을 가능하게 해주는 것이 바로 재참조 메타 문자인 \\1이다. \\1은 정규식의 그룹 중 첫 번째 그룹을 가리킨다.\n",
    "- 두 번째 그룹을 참조하려면 \\2를 사용하면 된다."
   ]
  },
  {
   "cell_type": "markdown",
   "id": "cead8c3f-4be1-4ad5-80c3-ac4cb7d31a40",
   "metadata": {},
   "source": [
    "---"
   ]
  },
  {
   "cell_type": "markdown",
   "id": "49be76d8-e29c-4ae8-8247-231c1ae9e86c",
   "metadata": {},
   "source": [
    "- 정규식 안에 그룹이 무척 많아진다고 가정해보자. 예를 들어 정규식 안에 그룹이 10개 이상만 되어도 매우 혼란스러울 것이다. 거기에 더해 정규식이 수정되면서 그룹이 추가, 삭제되면 그 그룹을 인덱스로 참조한 프로그램도 모두 변경해 주어야 하는 위험도 갖게 된다.\n",
    "- 만약 그룹을 인덱스가 아닌 이름(Named Groups)으로 참조할 수 있다면 어떨까? 그렇다면 이런 문제에서 해방될 수 있을 것이다. \n",
    "- 이러한 이유로 정규식은 그룹을 만들 때 그룹 이름을 지정할 수 있게 했다. 그 방법은 다음과 같다."
   ]
  },
  {
   "cell_type": "markdown",
   "id": "b95fef33-7a6b-4499-8e81-87c2d81bd22a",
   "metadata": {},
   "source": [
    "```python\n",
    "(?P<name>\\w+)\\s+((\\d+)[-]\\d+[-]\\d+)\n",
    "```"
   ]
  },
  {
   "cell_type": "markdown",
   "id": "34af2d7b-2337-42cc-87c8-b45587c42fe6",
   "metadata": {},
   "source": [
    "- 위 정규식은 앞에서 본 이름과 전화번호를 추출하는 정규식이다. \n",
    "- 기존과 달라진 부분은 다음과 같다."
   ]
  },
  {
   "cell_type": "markdown",
   "id": "8e6fc4fb-4fdd-41e3-a174-c783d44981fe",
   "metadata": {},
   "source": [
    "```python\n",
    "(\\w+) --> (?P<name>\\w+)\n",
    "```"
   ]
  },
  {
   "cell_type": "markdown",
   "id": "e7566a54-327c-42f1-9bcd-0ea11c2a157f",
   "metadata": {},
   "source": [
    "-  (\\w+)라는 그룹에 name이라는 이름을 붙인 것에 불과하다. 여기에서 사용한 (?...) 표현식은 정규 표현식의 확장 구문이다. 이 확장 구문을 사용하기 시작하면 가독성이 상당히 떨어지긴 하지만 반면에 강력함을 갖게 된다.\n",
    "- 그룹에 이름을 지어 주려면 다음과 같은 확장 구문을 사용해야 한다."
   ]
  },
  {
   "cell_type": "markdown",
   "id": "587cec7c-1696-4bf5-8b06-f67bdf912d27",
   "metadata": {},
   "source": [
    "```python\n",
    "(?P<그룹명>...)\n",
    "```"
   ]
  },
  {
   "cell_type": "code",
   "execution_count": 7,
   "id": "57621b0f-9fb0-49d8-bdaa-6f6e76dd67ba",
   "metadata": {},
   "outputs": [
    {
     "name": "stdout",
     "output_type": "stream",
     "text": [
      "park\n"
     ]
    }
   ],
   "source": [
    "p = re.compile(r\"(?P<name>\\w+)\\s+((\\d+)[-]\\d+[-]\\d+)\")\n",
    "m = p.search(\"park 010-1234-1234\")\n",
    "print(m.group(\"name\"))"
   ]
  },
  {
   "cell_type": "markdown",
   "id": "24f1550b-8ef0-4cd8-b280-e97d5a733416",
   "metadata": {},
   "source": [
    "- 위 예에서 볼 수 있듯이 name이라는 그룹 이름으로 참조할 수 있다.\n",
    "- 그룹 이름을 사용하면 정규식 안에서 재참조하는 것도 가능하다."
   ]
  },
  {
   "cell_type": "code",
   "execution_count": 8,
   "id": "c628a283-2862-4228-bdda-c86e9bdf3093",
   "metadata": {},
   "outputs": [
    {
     "data": {
      "text/plain": [
       "'the the'"
      ]
     },
     "execution_count": 8,
     "metadata": {},
     "output_type": "execute_result"
    }
   ],
   "source": [
    "p = re.compile(r'(?P<word>\\b\\w+)\\s+(?P=word)')\n",
    "p.search('Paris in the the spring').group()"
   ]
  },
  {
   "cell_type": "markdown",
   "id": "c0ab87a7-2bee-41f4-9144-eb2e2c882910",
   "metadata": {},
   "source": [
    "- 위 예에서 볼 수 있듯이 재참조할 때에는 \n",
    "```python\n",
    "(?P=그룹이름)\n",
    "```\n",
    "이라는 확장 구문을 사용해야 한다."
   ]
  }
 ],
 "metadata": {
  "kernelspec": {
   "display_name": "Python 3 (ipykernel)",
   "language": "python",
   "name": "python3"
  },
  "language_info": {
   "codemirror_mode": {
    "name": "ipython",
    "version": 3
   },
   "file_extension": ".py",
   "mimetype": "text/x-python",
   "name": "python",
   "nbconvert_exporter": "python",
   "pygments_lexer": "ipython3",
   "version": "3.8.11"
  }
 },
 "nbformat": 4,
 "nbformat_minor": 5
}
