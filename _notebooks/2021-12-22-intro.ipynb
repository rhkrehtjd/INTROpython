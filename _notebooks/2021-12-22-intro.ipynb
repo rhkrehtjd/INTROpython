{
 "cells": [
  {
   "cell_type": "markdown",
   "id": "f02f6493-da43-4abe-905d-6bc076e7084e",
   "metadata": {},
   "source": [
    "# 2021/12/22/WED"
   ]
  },
  {
   "cell_type": "markdown",
   "id": "16c0e0d7-b935-46cc-8b7b-e580e37fd0a8",
   "metadata": {
    "tags": []
   },
   "source": [
    "> ### `자료형`"
   ]
  },
  {
   "cell_type": "markdown",
   "id": "fdbebfd5-b14a-454d-af2d-66463da8523d",
   "metadata": {},
   "source": [
    "- 정수(int), 소수(float), 복소수(complex), 참거짓(bool,True,False), 문자(str)"
   ]
  },
  {
   "cell_type": "markdown",
   "id": "a65b28ab-e941-499a-a5e5-9123c8448863",
   "metadata": {},
   "source": [
    "- 문자형(str) > 따옴표 하나 혹은 두개"
   ]
  },
  {
   "cell_type": "code",
   "execution_count": 10,
   "id": "3130f297-1564-4ce2-939b-597fc83cf4c6",
   "metadata": {},
   "outputs": [
    {
     "data": {
      "text/plain": [
       "('a', 'hello')"
      ]
     },
     "execution_count": 10,
     "metadata": {},
     "output_type": "execute_result"
    }
   ],
   "source": [
    "'a',\"hello\"\n",
    "# str이 tuple로 묶여있음"
   ]
  },
  {
   "cell_type": "markdown",
   "id": "dbbd2eb1-2720-489c-b3b2-94340c053bfd",
   "metadata": {},
   "source": [
    "- 자료의 형태를 알고 싶을 때"
   ]
  },
  {
   "cell_type": "code",
   "execution_count": 11,
   "id": "35098561-31a2-4cb9-8a77-fbe68fd82c20",
   "metadata": {},
   "outputs": [
    {
     "data": {
      "text/plain": [
       "bool"
      ]
     },
     "execution_count": 11,
     "metadata": {},
     "output_type": "execute_result"
    }
   ],
   "source": [
    "type(True)"
   ]
  },
  {
   "cell_type": "markdown",
   "id": "48838608-2a4d-48fa-a48d-d2dad37baff2",
   "metadata": {},
   "source": [
    "- 자료형 변환"
   ]
  },
  {
   "cell_type": "code",
   "execution_count": 14,
   "id": "365a0063-9224-464d-bc4c-3298b2eb46c0",
   "metadata": {},
   "outputs": [
    {
     "data": {
      "text/plain": [
       "0"
      ]
     },
     "execution_count": 14,
     "metadata": {},
     "output_type": "execute_result"
    }
   ],
   "source": [
    "int()"
   ]
  },
  {
   "cell_type": "code",
   "execution_count": 15,
   "id": "cff8be2e-f776-4e49-ac54-a3835c99da89",
   "metadata": {},
   "outputs": [
    {
     "data": {
      "text/plain": [
       "''"
      ]
     },
     "execution_count": 15,
     "metadata": {},
     "output_type": "execute_result"
    }
   ],
   "source": [
    "str()"
   ]
  },
  {
   "cell_type": "code",
   "execution_count": 16,
   "id": "c6e49206-bff4-44eb-bb8e-ada944a24dbb",
   "metadata": {},
   "outputs": [
    {
     "data": {
      "text/plain": [
       "False"
      ]
     },
     "execution_count": 16,
     "metadata": {},
     "output_type": "execute_result"
    }
   ],
   "source": [
    "bool()"
   ]
  },
  {
   "cell_type": "code",
   "execution_count": 17,
   "id": "4eca3632-1776-4a03-ab7c-19e50c932873",
   "metadata": {},
   "outputs": [
    {
     "data": {
      "text/plain": [
       "1"
      ]
     },
     "execution_count": 17,
     "metadata": {},
     "output_type": "execute_result"
    }
   ],
   "source": [
    "int(1)"
   ]
  },
  {
   "cell_type": "code",
   "execution_count": 19,
   "id": "2fd9871a-1d91-47d0-b3b8-efdd80c7da76",
   "metadata": {},
   "outputs": [
    {
     "data": {
      "text/plain": [
       "1"
      ]
     },
     "execution_count": 19,
     "metadata": {},
     "output_type": "execute_result"
    }
   ],
   "source": [
    "# 소수점 떼줌\n",
    "int(1.3)"
   ]
  },
  {
   "cell_type": "markdown",
   "id": "af4576d0-cce1-4572-a92b-2dc1b924fe80",
   "metadata": {},
   "source": [
    "- str -> int 또는 float으로 변경 가능"
   ]
  },
  {
   "cell_type": "code",
   "execution_count": 21,
   "id": "cb7d3698-14ca-465b-bc9f-a3f0ea961042",
   "metadata": {},
   "outputs": [
    {
     "data": {
      "text/plain": [
       "1"
      ]
     },
     "execution_count": 21,
     "metadata": {},
     "output_type": "execute_result"
    }
   ],
   "source": [
    "# str -> int\n",
    "int('1')"
   ]
  },
  {
   "cell_type": "code",
   "execution_count": 22,
   "id": "856381a9-d5fd-436a-b6a0-56aec21a5730",
   "metadata": {},
   "outputs": [
    {
     "data": {
      "text/plain": [
       "3.14"
      ]
     },
     "execution_count": 22,
     "metadata": {},
     "output_type": "execute_result"
    }
   ],
   "source": [
    "# str -> float\n",
    "float('3.14') "
   ]
  },
  {
   "cell_type": "code",
   "execution_count": 24,
   "id": "c7fdc2c8-47a9-4dfa-a504-092a7102dde7",
   "metadata": {},
   "outputs": [],
   "source": [
    "# int('3.134') => 이건 ERROR"
   ]
  },
  {
   "cell_type": "code",
   "execution_count": 25,
   "id": "772ce06c-2b4c-4522-8b26-667a323d8592",
   "metadata": {},
   "outputs": [
    {
     "data": {
      "text/plain": [
       "-inf"
      ]
     },
     "execution_count": 25,
     "metadata": {},
     "output_type": "execute_result"
    }
   ],
   "source": [
    "float('-inf')"
   ]
  },
  {
   "cell_type": "code",
   "execution_count": 26,
   "id": "8c1ff8a8-5be3-4b1e-b6b6-92b02777c464",
   "metadata": {},
   "outputs": [
    {
     "data": {
      "text/plain": [
       "(1+0j)"
      ]
     },
     "execution_count": 26,
     "metadata": {},
     "output_type": "execute_result"
    }
   ],
   "source": [
    "complex(1)"
   ]
  },
  {
   "cell_type": "code",
   "execution_count": 27,
   "id": "406d44d9-08ae-45e6-a1fd-683999843015",
   "metadata": {},
   "outputs": [
    {
     "data": {
      "text/plain": [
       "(3+5j)"
      ]
     },
     "execution_count": 27,
     "metadata": {},
     "output_type": "execute_result"
    }
   ],
   "source": [
    "complex(3+5j)"
   ]
  },
  {
   "cell_type": "code",
   "execution_count": 28,
   "id": "30cb30f3-71d2-4b9d-b3de-97eebe19e8ec",
   "metadata": {},
   "outputs": [
    {
     "data": {
      "text/plain": [
       "(3+5.5j)"
      ]
     },
     "execution_count": 28,
     "metadata": {},
     "output_type": "execute_result"
    }
   ],
   "source": [
    "complex(3,5.5)"
   ]
  },
  {
   "cell_type": "code",
   "execution_count": 29,
   "id": "6e474b4a-cdee-4c97-b49d-901182016cd8",
   "metadata": {},
   "outputs": [
    {
     "data": {
      "text/plain": [
       "(1+3j)"
      ]
     },
     "execution_count": 29,
     "metadata": {},
     "output_type": "execute_result"
    }
   ],
   "source": [
    "complex('1+3j')"
   ]
  },
  {
   "cell_type": "code",
   "execution_count": 31,
   "id": "7f8df830-e3d4-4d49-909e-80e7f5ea34c6",
   "metadata": {},
   "outputs": [
    {
     "data": {
      "text/plain": [
       "'1'"
      ]
     },
     "execution_count": 31,
     "metadata": {},
     "output_type": "execute_result"
    }
   ],
   "source": [
    "# int -> str\n",
    "str(1)"
   ]
  },
  {
   "cell_type": "code",
   "execution_count": 41,
   "id": "df073bd7-86ea-4a92-9bf2-c343630f718f",
   "metadata": {},
   "outputs": [
    {
     "data": {
      "text/plain": [
       "'(2+5j)'"
      ]
     },
     "execution_count": 41,
     "metadata": {},
     "output_type": "execute_result"
    }
   ],
   "source": [
    "str(2+5j)\n",
    "# 괄호랑 플러스,j모두 원소 하나하나로 들어감"
   ]
  },
  {
   "cell_type": "code",
   "execution_count": 49,
   "id": "fdd38073-4846-4de6-a46d-1bfba39df730",
   "metadata": {},
   "outputs": [
    {
     "data": {
      "text/plain": [
       "True"
      ]
     },
     "execution_count": 49,
     "metadata": {},
     "output_type": "execute_result"
    }
   ],
   "source": [
    "bool(-0.8)"
   ]
  },
  {
   "cell_type": "code",
   "execution_count": 56,
   "id": "471b7233-d3bc-4252-b990-2180c3a1e075",
   "metadata": {},
   "outputs": [
    {
     "data": {
      "text/plain": [
       "False"
      ]
     },
     "execution_count": 56,
     "metadata": {},
     "output_type": "execute_result"
    }
   ],
   "source": [
    "bool('')"
   ]
  },
  {
   "cell_type": "code",
   "execution_count": 45,
   "id": "16fafa93-591b-4408-a8b9-ea67f760c0e0",
   "metadata": {},
   "outputs": [
    {
     "data": {
      "text/plain": [
       "True"
      ]
     },
     "execution_count": 45,
     "metadata": {},
     "output_type": "execute_result"
    }
   ],
   "source": [
    "bool(123)\n",
    "# 0이 아닌 다른 수는 모두 True"
   ]
  },
  {
   "cell_type": "code",
   "execution_count": 57,
   "id": "ef1c9256-4a85-48f0-b630-36615570652d",
   "metadata": {},
   "outputs": [
    {
     "data": {
      "text/plain": [
       "True"
      ]
     },
     "execution_count": 57,
     "metadata": {},
     "output_type": "execute_result"
    }
   ],
   "source": [
    "bool('aasdss')"
   ]
  },
  {
   "cell_type": "code",
   "execution_count": 46,
   "id": "f8cf79f6-4c10-43e3-946a-4c5952795072",
   "metadata": {},
   "outputs": [
    {
     "data": {
      "text/plain": [
       "False"
      ]
     },
     "execution_count": 46,
     "metadata": {},
     "output_type": "execute_result"
    }
   ],
   "source": [
    "bool(0)"
   ]
  },
  {
   "cell_type": "code",
   "execution_count": 47,
   "id": "7b08742c-7618-4a2f-8fb0-44638c47af86",
   "metadata": {},
   "outputs": [
    {
     "data": {
      "text/plain": [
       "True"
      ]
     },
     "execution_count": 47,
     "metadata": {},
     "output_type": "execute_result"
    }
   ],
   "source": [
    "bool(float('inf'))"
   ]
  },
  {
   "cell_type": "code",
   "execution_count": 50,
   "id": "7aee54ad-858c-4187-8dcc-12015ebb15d9",
   "metadata": {},
   "outputs": [
    {
     "data": {
      "text/plain": [
       "(inf, True, (inf+0j))"
      ]
     },
     "execution_count": 50,
     "metadata": {},
     "output_type": "execute_result"
    }
   ],
   "source": [
    "# int로는 불가\n",
    "float('inf'),bool('-inf'),complex('inf')"
   ]
  },
  {
   "cell_type": "markdown",
   "id": "aa385054-b73c-4ce0-83b1-9167dcf2c1a3",
   "metadata": {},
   "source": [
    "> ### `연산`"
   ]
  },
  {
   "cell_type": "code",
   "execution_count": 58,
   "id": "ff63d8cd-d312-4974-b5f3-80a0576273d8",
   "metadata": {},
   "outputs": [
    {
     "data": {
      "text/plain": [
       "(2, 1, 10, 2.5)"
      ]
     },
     "execution_count": 58,
     "metadata": {},
     "output_type": "execute_result"
    }
   ],
   "source": [
    "1+1,3-2,5*2,5/2"
   ]
  },
  {
   "cell_type": "code",
   "execution_count": 59,
   "id": "a5ad9069-e888-4928-92af-0dacc7bed478",
   "metadata": {},
   "outputs": [
    {
     "data": {
      "text/plain": [
       "2"
      ]
     },
     "execution_count": 59,
     "metadata": {},
     "output_type": "execute_result"
    }
   ],
   "source": [
    "# 몫\n",
    "5//2"
   ]
  },
  {
   "cell_type": "code",
   "execution_count": 60,
   "id": "3c1b137e-2578-4ad8-9818-13e3cced4282",
   "metadata": {},
   "outputs": [
    {
     "data": {
      "text/plain": [
       "1"
      ]
     },
     "execution_count": 60,
     "metadata": {},
     "output_type": "execute_result"
    }
   ],
   "source": [
    "# 나머지\n",
    "5%2"
   ]
  },
  {
   "cell_type": "code",
   "execution_count": 68,
   "id": "cb519757-1898-443e-b2e3-10226312ac9f",
   "metadata": {},
   "outputs": [
    {
     "data": {
      "text/plain": [
       "(1, 2)"
      ]
     },
     "execution_count": 68,
     "metadata": {},
     "output_type": "execute_result"
    }
   ],
   "source": [
    "# 몫과 나머지\n",
    "divmod(5,3)\n",
    "# 원소 2개인 tuple로 들어감"
   ]
  },
  {
   "cell_type": "code",
   "execution_count": 61,
   "id": "b0ef98e0-b9e7-437e-bc55-700e155d7634",
   "metadata": {},
   "outputs": [
    {
     "data": {
      "text/plain": [
       "232"
      ]
     },
     "execution_count": 61,
     "metadata": {},
     "output_type": "execute_result"
    }
   ],
   "source": [
    "#절댓값\n",
    "abs(-232)"
   ]
  },
  {
   "cell_type": "code",
   "execution_count": 69,
   "id": "47411754-6069-483c-8b7f-db68207ba837",
   "metadata": {},
   "outputs": [
    {
     "data": {
      "text/plain": [
       "(625, 625)"
      ]
     },
     "execution_count": 69,
     "metadata": {},
     "output_type": "execute_result"
    }
   ],
   "source": [
    "# 제곱\n",
    "pow(5,4),5**4"
   ]
  },
  {
   "cell_type": "code",
   "execution_count": 73,
   "id": "8b06f7c9-0d2a-4251-ac99-1a70ab6a838c",
   "metadata": {},
   "outputs": [
    {
     "data": {
      "text/plain": [
       "'asdasdasdfeq'"
      ]
     },
     "execution_count": 73,
     "metadata": {},
     "output_type": "execute_result"
    }
   ],
   "source": [
    "# 곱할 순 없음\n",
    "'asdasd'+'asdfeq'"
   ]
  },
  {
   "cell_type": "code",
   "execution_count": 74,
   "id": "559cea32-c6a4-4fff-b296-c4ebd88b14a3",
   "metadata": {},
   "outputs": [
    {
     "data": {
      "text/plain": [
       "'asdasdasdasd'"
      ]
     },
     "execution_count": 74,
     "metadata": {},
     "output_type": "execute_result"
    }
   ],
   "source": [
    "'asdasd'*2"
   ]
  },
  {
   "cell_type": "markdown",
   "id": "1cc4aa7d-1e5f-4600-beb2-4fcaec76f708",
   "metadata": {},
   "source": [
    "- 문자형이 다른 건 더할 수 없음"
   ]
  },
  {
   "cell_type": "code",
   "execution_count": 75,
   "id": "5377f435-69ba-4538-a6d3-c0b0f5215c3d",
   "metadata": {},
   "outputs": [
    {
     "data": {
      "text/plain": [
       "'asdasd235456'"
      ]
     },
     "execution_count": 75,
     "metadata": {},
     "output_type": "execute_result"
    }
   ],
   "source": [
    "'asdasd'+str(235456)"
   ]
  },
  {
   "cell_type": "code",
   "execution_count": 76,
   "id": "21cdb847-5f9f-4fbf-adc0-61acb5e2cf10",
   "metadata": {},
   "outputs": [
    {
     "data": {
      "text/plain": [
       "2"
      ]
     },
     "execution_count": 76,
     "metadata": {},
     "output_type": "execute_result"
    }
   ],
   "source": [
    "True+True"
   ]
  },
  {
   "cell_type": "markdown",
   "id": "10235ccf-22e4-4623-8b26-dceab19fa8ad",
   "metadata": {},
   "source": [
    "- *** `비교 연산 => BOOL형태로 출력됨`"
   ]
  },
  {
   "cell_type": "code",
   "execution_count": 77,
   "id": "a1878c6f-a773-4fdc-befe-1e168087046f",
   "metadata": {},
   "outputs": [
    {
     "data": {
      "text/plain": [
       "False"
      ]
     },
     "execution_count": 77,
     "metadata": {},
     "output_type": "execute_result"
    }
   ],
   "source": [
    "1<0"
   ]
  },
  {
   "cell_type": "code",
   "execution_count": 78,
   "id": "b9a06977-af19-4576-b3f4-f8adc0b5afa0",
   "metadata": {},
   "outputs": [
    {
     "data": {
      "text/plain": [
       "False"
      ]
     },
     "execution_count": 78,
     "metadata": {},
     "output_type": "execute_result"
    }
   ],
   "source": [
    "2==3"
   ]
  },
  {
   "cell_type": "code",
   "execution_count": 79,
   "id": "982e4879-9fd2-4a01-a6ec-e87e76f82e24",
   "metadata": {},
   "outputs": [
    {
     "data": {
      "text/plain": [
       "True"
      ]
     },
     "execution_count": 79,
     "metadata": {},
     "output_type": "execute_result"
    }
   ],
   "source": [
    "1!=3\n",
    "# 틀렸으니 맞다고 나올 것"
   ]
  },
  {
   "cell_type": "code",
   "execution_count": 81,
   "id": "c125bf87-2823-4880-a698-5c94500d3f56",
   "metadata": {},
   "outputs": [],
   "source": [
    "# 3 is 4\n",
    "# False라고 나오긴 함\n",
    "# 그런데 is나 is not은 원래 자료형이 같고 다른지를 물을 때 사용함"
   ]
  },
  {
   "cell_type": "code",
   "execution_count": 82,
   "id": "2cc58cf4-7f93-480c-88ff-1b65fa56e2a5",
   "metadata": {},
   "outputs": [
    {
     "data": {
      "text/plain": [
       "True"
      ]
     },
     "execution_count": 82,
     "metadata": {},
     "output_type": "execute_result"
    }
   ],
   "source": [
    "# 둘이 자료형이 같지 않기 때문에 참으로 출력\n",
    "type('123') is not type(True)"
   ]
  },
  {
   "cell_type": "markdown",
   "id": "c72edda1-3186-4a60-b73a-8a28dd5868f1",
   "metadata": {},
   "source": [
    "---"
   ]
  },
  {
   "cell_type": "code",
   "execution_count": 83,
   "id": "02f39634-14ef-4497-9db3-b86c1e4e2922",
   "metadata": {},
   "outputs": [
    {
     "data": {
      "text/plain": [
       "False"
      ]
     },
     "execution_count": 83,
     "metadata": {},
     "output_type": "execute_result"
    }
   ],
   "source": [
    "True and False"
   ]
  },
  {
   "cell_type": "code",
   "execution_count": 129,
   "id": "7ae584f0-eb7b-4562-af9b-765273b923d3",
   "metadata": {},
   "outputs": [
    {
     "data": {
      "text/plain": [
       "False"
      ]
     },
     "execution_count": 129,
     "metadata": {},
     "output_type": "execute_result"
    }
   ],
   "source": [
    "True and False and True"
   ]
  },
  {
   "cell_type": "markdown",
   "id": "c3187074-76f4-4f19-b0f5-e867fd6fe816",
   "metadata": {},
   "source": [
    "- 거짓이 하나라도 있으면 거짓 처리"
   ]
  },
  {
   "cell_type": "code",
   "execution_count": 131,
   "id": "d330a9b9-1bf0-44f0-acbb-82a6f722234a",
   "metadata": {},
   "outputs": [
    {
     "data": {
      "text/plain": [
       "True"
      ]
     },
     "execution_count": 131,
     "metadata": {},
     "output_type": "execute_result"
    }
   ],
   "source": [
    "True or False"
   ]
  },
  {
   "cell_type": "code",
   "execution_count": 132,
   "id": "6d0b9e50-e66a-4654-8d54-12a051a27667",
   "metadata": {},
   "outputs": [
    {
     "data": {
      "text/plain": [
       "True"
      ]
     },
     "execution_count": 132,
     "metadata": {},
     "output_type": "execute_result"
    }
   ],
   "source": [
    "True or False or False"
   ]
  },
  {
   "cell_type": "markdown",
   "id": "1158d3fd-5308-4bd0-b3e4-50f1a0331b43",
   "metadata": {},
   "source": [
    "- 참이 하나라도 있으면 참 처리"
   ]
  },
  {
   "cell_type": "code",
   "execution_count": 134,
   "id": "71183948-2d18-417f-b8db-99e550c53ae0",
   "metadata": {},
   "outputs": [
    {
     "data": {
      "text/plain": [
       "False"
      ]
     },
     "execution_count": 134,
     "metadata": {},
     "output_type": "execute_result"
    }
   ],
   "source": [
    "not True"
   ]
  },
  {
   "cell_type": "markdown",
   "id": "12653c3d-7745-49f8-9e79-bd0686893461",
   "metadata": {},
   "source": [
    "- 참과 거짓을 반대로 바꿔주는 기능"
   ]
  },
  {
   "cell_type": "code",
   "execution_count": 92,
   "id": "8e1f8ccb-9f87-401d-ad99-7269708b5097",
   "metadata": {},
   "outputs": [
    {
     "data": {
      "text/plain": [
       "5"
      ]
     },
     "execution_count": 92,
     "metadata": {},
     "output_type": "execute_result"
    }
   ],
   "source": [
    "100 and 5"
   ]
  },
  {
   "cell_type": "code",
   "execution_count": 93,
   "id": "9717a793-d12c-4ef9-9232-0077456a44a1",
   "metadata": {},
   "outputs": [
    {
     "data": {
      "text/plain": [
       "3"
      ]
     },
     "execution_count": 93,
     "metadata": {},
     "output_type": "execute_result"
    }
   ],
   "source": [
    "True and 3"
   ]
  },
  {
   "cell_type": "code",
   "execution_count": 95,
   "id": "b9cf7f62-ead1-47ec-adaa-40126b9b3aeb",
   "metadata": {},
   "outputs": [
    {
     "data": {
      "text/plain": [
       "True"
      ]
     },
     "execution_count": 95,
     "metadata": {},
     "output_type": "execute_result"
    }
   ],
   "source": [
    "34 and True"
   ]
  },
  {
   "cell_type": "code",
   "execution_count": 96,
   "id": "b3442e81-5061-4a6f-94ff-15e09521347e",
   "metadata": {},
   "outputs": [
    {
     "data": {
      "text/plain": [
       "2"
      ]
     },
     "execution_count": 96,
     "metadata": {},
     "output_type": "execute_result"
    }
   ],
   "source": [
    "34 and 2"
   ]
  },
  {
   "cell_type": "markdown",
   "id": "20676a8f-9c17-4b21-87f3-16ebfbcfa56e",
   "metadata": {},
   "source": [
    "- 둘다 참일 경우(1이상인 수 혹은 True)일 땐 뒤에 걸 출력하는 것 같음"
   ]
  },
  {
   "cell_type": "code",
   "execution_count": 97,
   "id": "a2de3d47-5bb6-45c2-8e08-e1f015405668",
   "metadata": {},
   "outputs": [
    {
     "data": {
      "text/plain": [
       "False"
      ]
     },
     "execution_count": 97,
     "metadata": {},
     "output_type": "execute_result"
    }
   ],
   "source": [
    "False and 3"
   ]
  },
  {
   "cell_type": "code",
   "execution_count": 98,
   "id": "093d4534-ba48-4d0a-ae8d-9812779654ff",
   "metadata": {},
   "outputs": [
    {
     "data": {
      "text/plain": [
       "0"
      ]
     },
     "execution_count": 98,
     "metadata": {},
     "output_type": "execute_result"
    }
   ],
   "source": [
    "0 and 100\n",
    "# 하나 거짓 -> 거짓 처리"
   ]
  },
  {
   "cell_type": "markdown",
   "id": "e97c4682-4996-4fc0-b772-553e6ad2e116",
   "metadata": {},
   "source": [
    "- 이럴 땐 무조건 False출력"
   ]
  },
  {
   "cell_type": "code",
   "execution_count": 100,
   "id": "82fa3488-ef42-4a9b-a663-d98e65e73576",
   "metadata": {},
   "outputs": [
    {
     "data": {
      "text/plain": [
       "1"
      ]
     },
     "execution_count": 100,
     "metadata": {},
     "output_type": "execute_result"
    }
   ],
   "source": [
    "1 or 100"
   ]
  },
  {
   "cell_type": "code",
   "execution_count": 101,
   "id": "95b9aecd-93d0-4e38-8cdb-e24cf229eec3",
   "metadata": {},
   "outputs": [
    {
     "data": {
      "text/plain": [
       "100"
      ]
     },
     "execution_count": 101,
     "metadata": {},
     "output_type": "execute_result"
    }
   ],
   "source": [
    "100 or 1"
   ]
  },
  {
   "cell_type": "code",
   "execution_count": 102,
   "id": "e462567e-b8bb-4564-86ae-fbc2702b4ec2",
   "metadata": {},
   "outputs": [
    {
     "data": {
      "text/plain": [
       "100"
      ]
     },
     "execution_count": 102,
     "metadata": {},
     "output_type": "execute_result"
    }
   ],
   "source": [
    "100 or 1 or 300"
   ]
  },
  {
   "cell_type": "code",
   "execution_count": 109,
   "id": "c54ea5f2-9041-4d31-9dba-ca32011c67c6",
   "metadata": {},
   "outputs": [
    {
     "data": {
      "text/plain": [
       "3"
      ]
     },
     "execution_count": 109,
     "metadata": {},
     "output_type": "execute_result"
    }
   ],
   "source": [
    "3 or 1 or 45 or 0"
   ]
  },
  {
   "cell_type": "markdown",
   "id": "ae3d3c48-5c31-47a5-a376-f2b0afb6d5d0",
   "metadata": {},
   "source": [
    "- or 사용시엔 하나라도 참이 섞여있으면 그 중 가장 큰 참값을 출력함"
   ]
  },
  {
   "cell_type": "code",
   "execution_count": 106,
   "id": "7ad07cfb-c266-4f18-94e3-ef7366f9a86f",
   "metadata": {},
   "outputs": [
    {
     "data": {
      "text/plain": [
       "0"
      ]
     },
     "execution_count": 106,
     "metadata": {},
     "output_type": "execute_result"
    }
   ],
   "source": [
    "1 and 0 and 100"
   ]
  },
  {
   "cell_type": "markdown",
   "id": "aa74e856-13f6-4fa7-84ac-4500dbc8077b",
   "metadata": {},
   "source": [
    "- 0(False)이 하나 있어서 0 출력"
   ]
  },
  {
   "cell_type": "code",
   "execution_count": 116,
   "id": "99705262-6662-4cee-a900-1c45c5ec5c6a",
   "metadata": {},
   "outputs": [
    {
     "data": {
      "text/plain": [
       "5"
      ]
     },
     "execution_count": 116,
     "metadata": {},
     "output_type": "execute_result"
    }
   ],
   "source": [
    "1 and 5 or 100"
   ]
  },
  {
   "cell_type": "code",
   "execution_count": 119,
   "id": "f3966329-b599-4c04-94d7-2a57046dc6a8",
   "metadata": {},
   "outputs": [
    {
     "data": {
      "text/plain": [
       "5"
      ]
     },
     "execution_count": 119,
     "metadata": {},
     "output_type": "execute_result"
    }
   ],
   "source": [
    "1 and 5 or 100 and 1 or 3 and 100"
   ]
  },
  {
   "cell_type": "markdown",
   "id": "bb5cd151-d03d-4012-8722-48719b16e607",
   "metadata": {},
   "source": [
    "- and 먼저 수행하는 것 같음"
   ]
  },
  {
   "cell_type": "markdown",
   "id": "3330571c-2cfa-4965-a29d-bc0efd74f7f5",
   "metadata": {},
   "source": [
    "> ### `Bitwise : 이진법`"
   ]
  },
  {
   "cell_type": "code",
   "execution_count": 120,
   "id": "79a9b5a8-a4d7-432e-88b7-49811ddc7964",
   "metadata": {},
   "outputs": [
    {
     "data": {
      "text/plain": [
       "2"
      ]
     },
     "execution_count": 120,
     "metadata": {},
     "output_type": "execute_result"
    }
   ],
   "source": [
    "2 #십진법"
   ]
  },
  {
   "cell_type": "code",
   "execution_count": 121,
   "id": "47624450-82ca-49b5-9521-dda06017843b",
   "metadata": {},
   "outputs": [
    {
     "data": {
      "text/plain": [
       "'0b10'"
      ]
     },
     "execution_count": 121,
     "metadata": {},
     "output_type": "execute_result"
    }
   ],
   "source": [
    "bin(2) # 이진법"
   ]
  },
  {
   "cell_type": "code",
   "execution_count": 122,
   "id": "65a8fe27-f79f-484d-a829-1b8f20ebd2d4",
   "metadata": {},
   "outputs": [
    {
     "data": {
      "text/plain": [
       "'0b11'"
      ]
     },
     "execution_count": 122,
     "metadata": {},
     "output_type": "execute_result"
    }
   ],
   "source": [
    "bin(3)"
   ]
  },
  {
   "cell_type": "code",
   "execution_count": 123,
   "id": "b0e70be8-dd90-482e-9e55-df7a3c1db67e",
   "metadata": {},
   "outputs": [
    {
     "data": {
      "text/plain": [
       "'0b1100'"
      ]
     },
     "execution_count": 123,
     "metadata": {},
     "output_type": "execute_result"
    }
   ],
   "source": [
    "bin(12)"
   ]
  },
  {
   "cell_type": "markdown",
   "id": "dd9b2d1b-1a36-41d8-a71e-2aa4d39ff868",
   "metadata": {},
   "source": [
    "> ### `&`"
   ]
  },
  {
   "cell_type": "code",
   "execution_count": 125,
   "id": "2ecd2b3a-0d2f-43af-9c6a-689de3ee73f0",
   "metadata": {},
   "outputs": [
    {
     "data": {
      "text/plain": [
       "2"
      ]
     },
     "execution_count": 125,
     "metadata": {},
     "output_type": "execute_result"
    }
   ],
   "source": [
    "10&6"
   ]
  },
  {
   "cell_type": "markdown",
   "id": "45bb105f-3260-4c62-a2a9-2e5904d33b23",
   "metadata": {},
   "source": [
    "- 10과 6을 2진법으로 처리한 후 겹치는 자리만 뽑아낸 것"
   ]
  },
  {
   "cell_type": "code",
   "execution_count": 126,
   "id": "7631cead-2c96-40fd-9bd5-39f0c0184e6d",
   "metadata": {},
   "outputs": [
    {
     "data": {
      "text/plain": [
       "'0b1010'"
      ]
     },
     "execution_count": 126,
     "metadata": {},
     "output_type": "execute_result"
    }
   ],
   "source": [
    "bin(10)"
   ]
  },
  {
   "cell_type": "code",
   "execution_count": 127,
   "id": "696fe831-9f9d-470f-bce5-84662f0b96f0",
   "metadata": {},
   "outputs": [
    {
     "data": {
      "text/plain": [
       "'0b110'"
      ]
     },
     "execution_count": 127,
     "metadata": {},
     "output_type": "execute_result"
    }
   ],
   "source": [
    "bin(6)"
   ]
  },
  {
   "cell_type": "code",
   "execution_count": 128,
   "id": "3d0b02c4-ff38-4dea-bc79-ac773f1a7db2",
   "metadata": {},
   "outputs": [
    {
     "data": {
      "text/plain": [
       "'0b10'"
      ]
     },
     "execution_count": 128,
     "metadata": {},
     "output_type": "execute_result"
    }
   ],
   "source": [
    "# 겹치는 것만 체크\n",
    "bin(10&6)"
   ]
  },
  {
   "cell_type": "code",
   "execution_count": 131,
   "id": "19d2aa76-2dff-410d-8e31-2ea665b4fbb6",
   "metadata": {},
   "outputs": [
    {
     "data": {
      "text/plain": [
       "14"
      ]
     },
     "execution_count": 131,
     "metadata": {},
     "output_type": "execute_result"
    }
   ],
   "source": [
    "10|6"
   ]
  },
  {
   "cell_type": "code",
   "execution_count": 132,
   "id": "2e603abc-92af-4c03-ad7c-7f538fbd3311",
   "metadata": {},
   "outputs": [
    {
     "data": {
      "text/plain": [
       "'0b1110'"
      ]
     },
     "execution_count": 132,
     "metadata": {},
     "output_type": "execute_result"
    }
   ],
   "source": [
    "# 모두 체크\n",
    "bin(10|6)"
   ]
  },
  {
   "cell_type": "code",
   "execution_count": 133,
   "id": "e2d4fd06-f726-4c19-9a0e-301ad4c96738",
   "metadata": {},
   "outputs": [
    {
     "data": {
      "text/plain": [
       "'0b1100'"
      ]
     },
     "execution_count": 133,
     "metadata": {},
     "output_type": "execute_result"
    }
   ],
   "source": [
    "# 참이 하나인 경우만 체크\n",
    "bin(10^6)"
   ]
  },
  {
   "cell_type": "code",
   "execution_count": 134,
   "id": "c21b21ef-3dfe-4f29-8c43-997098f8fe12",
   "metadata": {},
   "outputs": [
    {
     "data": {
      "text/plain": [
       "'0b11000'"
      ]
     },
     "execution_count": 134,
     "metadata": {},
     "output_type": "execute_result"
    }
   ],
   "source": [
    "# 왼쪽으로 두 자리\n",
    "bin(6<<2)"
   ]
  },
  {
   "cell_type": "code",
   "execution_count": 135,
   "id": "56efc5a8-5638-4990-9b44-3a0cf8fc50ef",
   "metadata": {},
   "outputs": [
    {
     "data": {
      "text/plain": [
       "'0b1'"
      ]
     },
     "execution_count": 135,
     "metadata": {},
     "output_type": "execute_result"
    }
   ],
   "source": [
    "# 오른쪽으로 두 자리\n",
    "bin(6>>2)"
   ]
  },
  {
   "cell_type": "code",
   "execution_count": 136,
   "id": "ac7ec3ea-449d-4653-a1a0-c3b476b3538b",
   "metadata": {},
   "outputs": [
    {
     "data": {
      "text/plain": [
       "1"
      ]
     },
     "execution_count": 136,
     "metadata": {},
     "output_type": "execute_result"
    }
   ],
   "source": [
    "6>>2"
   ]
  },
  {
   "cell_type": "markdown",
   "id": "accce276-a096-4c59-ba48-4b6ba0e01e64",
   "metadata": {},
   "source": [
    "> ### `변수` "
   ]
  },
  {
   "cell_type": "code",
   "execution_count": 137,
   "id": "12977886-4912-4392-aae3-a8b3baa10570",
   "metadata": {},
   "outputs": [
    {
     "data": {
      "text/plain": [
       "1"
      ]
     },
     "execution_count": 137,
     "metadata": {},
     "output_type": "execute_result"
    }
   ],
   "source": [
    "# 자리 중요\n",
    "a=1\n",
    "a"
   ]
  },
  {
   "cell_type": "code",
   "execution_count": 222,
   "id": "e4db37b2-9436-4893-ad92-da02e0b70f46",
   "metadata": {},
   "outputs": [
    {
     "name": "stdout",
     "output_type": "stream",
     "text": [
      "1\n"
     ]
    }
   ],
   "source": [
    "print(a)"
   ]
  },
  {
   "cell_type": "code",
   "execution_count": 138,
   "id": "72e8d953-f9d3-44dc-8285-ae9c4b8e2d4b",
   "metadata": {},
   "outputs": [],
   "source": [
    "b=3.225"
   ]
  },
  {
   "cell_type": "code",
   "execution_count": 139,
   "id": "0e57664a-b743-45d6-888b-00d64b8671db",
   "metadata": {},
   "outputs": [
    {
     "data": {
      "text/plain": [
       "float"
      ]
     },
     "execution_count": 139,
     "metadata": {},
     "output_type": "execute_result"
    }
   ],
   "source": [
    "type(b)"
   ]
  },
  {
   "cell_type": "code",
   "execution_count": 140,
   "id": "6850d504-b0de-4ebb-9689-037c114512c7",
   "metadata": {},
   "outputs": [],
   "source": [
    "b=546548"
   ]
  },
  {
   "cell_type": "code",
   "execution_count": 141,
   "id": "4b381169-5e5c-47e4-9705-bd7bda7ae66f",
   "metadata": {},
   "outputs": [
    {
     "data": {
      "text/plain": [
       "546548"
      ]
     },
     "execution_count": 141,
     "metadata": {},
     "output_type": "execute_result"
    }
   ],
   "source": [
    "b # b의 정의가 업데이트"
   ]
  },
  {
   "cell_type": "code",
   "execution_count": 142,
   "id": "f2ab4c06-a582-44c1-b064-b443f2f878cf",
   "metadata": {},
   "outputs": [],
   "source": [
    "d=True"
   ]
  },
  {
   "cell_type": "code",
   "execution_count": 143,
   "id": "2db7b2c9-1931-4e4d-b6a4-d08c3643e8dc",
   "metadata": {},
   "outputs": [
    {
     "name": "stdout",
     "output_type": "stream",
     "text": [
      "True\n"
     ]
    }
   ],
   "source": [
    "print(d)"
   ]
  },
  {
   "cell_type": "code",
   "execution_count": 144,
   "id": "3431ced6-4650-4c6a-b6d0-6cbae200e70a",
   "metadata": {},
   "outputs": [],
   "source": [
    "b=a"
   ]
  },
  {
   "cell_type": "code",
   "execution_count": 145,
   "id": "81fa0e07-0278-406a-94a5-bb35f0d6179b",
   "metadata": {},
   "outputs": [
    {
     "data": {
      "text/plain": [
       "1"
      ]
     },
     "execution_count": 145,
     "metadata": {},
     "output_type": "execute_result"
    }
   ],
   "source": [
    "b # 다른 변수로 해당 변수를 업데이트 할 수 있음"
   ]
  },
  {
   "cell_type": "code",
   "execution_count": 146,
   "id": "8c6b8823-bab9-4b04-9756-f331d91fe0cc",
   "metadata": {},
   "outputs": [],
   "source": [
    "a=5"
   ]
  },
  {
   "cell_type": "code",
   "execution_count": 147,
   "id": "7f1e460d-bd21-42e3-9673-8238238bcb2b",
   "metadata": {},
   "outputs": [
    {
     "data": {
      "text/plain": [
       "5"
      ]
     },
     "execution_count": 147,
     "metadata": {},
     "output_type": "execute_result"
    }
   ],
   "source": [
    "a"
   ]
  },
  {
   "cell_type": "code",
   "execution_count": 148,
   "id": "32b75c14-50d4-4a18-a909-2da670d5e4b8",
   "metadata": {},
   "outputs": [
    {
     "data": {
      "text/plain": [
       "1"
      ]
     },
     "execution_count": 148,
     "metadata": {},
     "output_type": "execute_result"
    }
   ],
   "source": [
    "b"
   ]
  },
  {
   "cell_type": "markdown",
   "id": "abfd2a5e-ebcb-4d74-a793-306aa6baa628",
   "metadata": {},
   "source": [
    "a가 바뀌어도 a로 업데이트 된 b는 그 전 a의 자료인 1로 그대로 유지 중"
   ]
  },
  {
   "cell_type": "code",
   "execution_count": 149,
   "id": "fb101003-0e9b-4b3a-81cc-e59fbd4ddd15",
   "metadata": {},
   "outputs": [],
   "source": [
    "length=2\n",
    "width=3\n",
    "area=length*width"
   ]
  },
  {
   "cell_type": "code",
   "execution_count": 150,
   "id": "2e982893-f0c8-4480-92b4-1e0bd6ee758e",
   "metadata": {},
   "outputs": [],
   "source": [
    "x=1"
   ]
  },
  {
   "cell_type": "code",
   "execution_count": 151,
   "id": "1c12dac9-71e4-480f-b5ab-1f511ed1e720",
   "metadata": {},
   "outputs": [],
   "source": [
    "y=2*x"
   ]
  },
  {
   "cell_type": "code",
   "execution_count": 152,
   "id": "358cfcb5-cf54-41cc-ad5c-1947b388a05e",
   "metadata": {},
   "outputs": [
    {
     "data": {
      "text/plain": [
       "2"
      ]
     },
     "execution_count": 152,
     "metadata": {},
     "output_type": "execute_result"
    }
   ],
   "source": [
    "y"
   ]
  },
  {
   "cell_type": "code",
   "execution_count": 155,
   "id": "75680250-3ad9-4c1d-bcfe-224031a52335",
   "metadata": {},
   "outputs": [],
   "source": [
    "a=3"
   ]
  },
  {
   "cell_type": "code",
   "execution_count": 156,
   "id": "dd3bf40c-e923-441f-987e-2957ee12770e",
   "metadata": {},
   "outputs": [
    {
     "data": {
      "text/plain": [
       "'0b11'"
      ]
     },
     "execution_count": 156,
     "metadata": {},
     "output_type": "execute_result"
    }
   ],
   "source": [
    "bin(a)"
   ]
  },
  {
   "cell_type": "code",
   "execution_count": 158,
   "id": "4fc6249d-7ff3-40cd-af77-719cac1cc88d",
   "metadata": {},
   "outputs": [
    {
     "data": {
      "text/plain": [
       "2"
      ]
     },
     "execution_count": 158,
     "metadata": {},
     "output_type": "execute_result"
    }
   ],
   "source": [
    "# a라는 변수를 이진법으로 나타냈을 때 필요한 비트의 수\n",
    "a.bit_length()"
   ]
  },
  {
   "cell_type": "code",
   "execution_count": 159,
   "id": "72c19cfa-3183-46c0-b7eb-42c4ab619374",
   "metadata": {},
   "outputs": [],
   "source": [
    "b=10"
   ]
  },
  {
   "cell_type": "code",
   "execution_count": 160,
   "id": "5b0516ea-171e-42be-8140-0efe1a23e2f9",
   "metadata": {},
   "outputs": [
    {
     "data": {
      "text/plain": [
       "'0b1010'"
      ]
     },
     "execution_count": 160,
     "metadata": {},
     "output_type": "execute_result"
    }
   ],
   "source": [
    "bin(b)"
   ]
  },
  {
   "cell_type": "code",
   "execution_count": 161,
   "id": "c56ac514-a43a-4507-bed8-90354c9c5064",
   "metadata": {},
   "outputs": [
    {
     "data": {
      "text/plain": [
       "4"
      ]
     },
     "execution_count": 161,
     "metadata": {},
     "output_type": "execute_result"
    }
   ],
   "source": [
    "b.bit_length()"
   ]
  },
  {
   "cell_type": "code",
   "execution_count": 170,
   "id": "ce677d00-9226-4cc0-9d6d-d72cc761dcd3",
   "metadata": {},
   "outputs": [],
   "source": [
    "c=1+2j"
   ]
  },
  {
   "cell_type": "code",
   "execution_count": 178,
   "id": "7eb41173-4892-45eb-b498-437d91885e8d",
   "metadata": {},
   "outputs": [],
   "source": [
    "# 복소수 부호 변화\n",
    "d=c.conjugate()"
   ]
  },
  {
   "cell_type": "code",
   "execution_count": 179,
   "id": "9276531d-56f1-433b-9763-40f4f2ea5790",
   "metadata": {},
   "outputs": [
    {
     "data": {
      "text/plain": [
       "(1-2j)"
      ]
     },
     "execution_count": 179,
     "metadata": {},
     "output_type": "execute_result"
    }
   ],
   "source": [
    "d"
   ]
  },
  {
   "cell_type": "code",
   "execution_count": 180,
   "id": "b6af7d5e-ddb1-4542-a4a7-05e78fe014ee",
   "metadata": {},
   "outputs": [
    {
     "data": {
      "text/plain": [
       "-2.0"
      ]
     },
     "execution_count": 180,
     "metadata": {},
     "output_type": "execute_result"
    }
   ],
   "source": [
    "d.imag"
   ]
  },
  {
   "cell_type": "code",
   "execution_count": 175,
   "id": "0d768447-624d-4dfa-bb90-8c637c40c2e0",
   "metadata": {},
   "outputs": [
    {
     "data": {
      "text/plain": [
       "(1+2j)"
      ]
     },
     "execution_count": 175,
     "metadata": {},
     "output_type": "execute_result"
    }
   ],
   "source": [
    "c"
   ]
  },
  {
   "cell_type": "code",
   "execution_count": 176,
   "id": "1f87e9e1-db79-4042-ab31-0e520113c8b1",
   "metadata": {},
   "outputs": [
    {
     "data": {
      "text/plain": [
       "1.0"
      ]
     },
     "execution_count": 176,
     "metadata": {},
     "output_type": "execute_result"
    }
   ],
   "source": [
    "c.real # c 안의 실수"
   ]
  },
  {
   "cell_type": "code",
   "execution_count": 177,
   "id": "be957955-f1eb-4aff-bb09-3b7e0ffdac4e",
   "metadata": {},
   "outputs": [
    {
     "data": {
      "text/plain": [
       "2.0"
      ]
     },
     "execution_count": 177,
     "metadata": {},
     "output_type": "execute_result"
    }
   ],
   "source": [
    "c.imag # c 안의 허수"
   ]
  },
  {
   "cell_type": "code",
   "execution_count": 181,
   "id": "a729c3bd-d50d-4a68-a72f-0cb1c19900c4",
   "metadata": {},
   "outputs": [],
   "source": [
    "a=1"
   ]
  },
  {
   "cell_type": "code",
   "execution_count": 182,
   "id": "9600a2e8-04aa-4cdc-9a6d-e6ece6b8620e",
   "metadata": {},
   "outputs": [],
   "source": [
    "a+=1 # a에 있는 값을 1만큼 올려서 저장"
   ]
  },
  {
   "cell_type": "code",
   "execution_count": 183,
   "id": "788a775a-53e3-4169-b97b-84b98bcc8cd3",
   "metadata": {},
   "outputs": [
    {
     "data": {
      "text/plain": [
       "2"
      ]
     },
     "execution_count": 183,
     "metadata": {},
     "output_type": "execute_result"
    }
   ],
   "source": [
    "a"
   ]
  },
  {
   "cell_type": "code",
   "execution_count": 184,
   "id": "64f8e486-15df-43ac-b54b-d27219cc551e",
   "metadata": {},
   "outputs": [],
   "source": [
    "a-=10"
   ]
  },
  {
   "cell_type": "code",
   "execution_count": 185,
   "id": "07694efb-e021-42a0-986e-63497c12d49b",
   "metadata": {},
   "outputs": [
    {
     "data": {
      "text/plain": [
       "-8"
      ]
     },
     "execution_count": 185,
     "metadata": {},
     "output_type": "execute_result"
    }
   ],
   "source": [
    "a"
   ]
  },
  {
   "cell_type": "code",
   "execution_count": 189,
   "id": "298a1292-7135-44be-8eb0-860ee9b626b3",
   "metadata": {},
   "outputs": [],
   "source": [
    "name='tom'"
   ]
  },
  {
   "cell_type": "code",
   "execution_count": 190,
   "id": "042c3af2-b096-405a-972b-738b3298df49",
   "metadata": {},
   "outputs": [
    {
     "data": {
      "text/plain": [
       "'Tom'"
      ]
     },
     "execution_count": 190,
     "metadata": {},
     "output_type": "execute_result"
    }
   ],
   "source": [
    "name.capitalize() # 맨 앞을 대문자 처리"
   ]
  },
  {
   "cell_type": "code",
   "execution_count": 191,
   "id": "0432d07c-3d74-494e-9e70-acf67fca6d9f",
   "metadata": {},
   "outputs": [
    {
     "data": {
      "text/plain": [
       "0"
      ]
     },
     "execution_count": 191,
     "metadata": {},
     "output_type": "execute_result"
    }
   ],
   "source": [
    "name.count('2') #name이라는 변수에 2 몇개?, 대문자 소문자도 구별해서 카운트함"
   ]
  },
  {
   "cell_type": "code",
   "execution_count": 197,
   "id": "050b6e8e-296d-41a1-a535-a3a00776590c",
   "metadata": {},
   "outputs": [
    {
     "data": {
      "text/plain": [
       "1"
      ]
     },
     "execution_count": 197,
     "metadata": {},
     "output_type": "execute_result"
    }
   ],
   "source": [
    "name.count('o')"
   ]
  },
  {
   "cell_type": "code",
   "execution_count": 203,
   "id": "1a74b20b-0a73-4dbd-808c-d01e067e1cc3",
   "metadata": {},
   "outputs": [
    {
     "data": {
      "text/plain": [
       "['t', 'm']"
      ]
     },
     "execution_count": 203,
     "metadata": {},
     "output_type": "execute_result"
    }
   ],
   "source": [
    "name.split('o') \n",
    "# o 없애고 나눠줌\n",
    "# 리스트 형태로 저장됨"
   ]
  },
  {
   "cell_type": "code",
   "execution_count": 204,
   "id": "7f8d887c-8e06-4b9e-8013-55b67dd94c81",
   "metadata": {},
   "outputs": [],
   "source": [
    "a=name.split('o') "
   ]
  },
  {
   "cell_type": "code",
   "execution_count": 206,
   "id": "67d41271-3309-44a9-9336-7ff60e95ae38",
   "metadata": {},
   "outputs": [
    {
     "data": {
      "text/plain": [
       "str"
      ]
     },
     "execution_count": 206,
     "metadata": {},
     "output_type": "execute_result"
    }
   ],
   "source": [
    "type(a[0])"
   ]
  },
  {
   "cell_type": "code",
   "execution_count": 209,
   "id": "d6139aa3-a445-4403-8a0a-0064c5d43250",
   "metadata": {},
   "outputs": [],
   "source": [
    "a[1]='o'"
   ]
  },
  {
   "cell_type": "code",
   "execution_count": 228,
   "id": "27699318-b0c2-4604-be49-ae0ff4549e4d",
   "metadata": {},
   "outputs": [],
   "source": [
    "a.append('m')\n",
    "# str, list에서 가능함"
   ]
  },
  {
   "cell_type": "code",
   "execution_count": 212,
   "id": "44fee0ab-6cc4-4e87-9ff3-8af79bed037d",
   "metadata": {},
   "outputs": [
    {
     "data": {
      "text/plain": [
       "['t', 'o', 'm']"
      ]
     },
     "execution_count": 212,
     "metadata": {},
     "output_type": "execute_result"
    }
   ],
   "source": [
    "a"
   ]
  },
  {
   "cell_type": "code",
   "execution_count": 215,
   "id": "a2cb5559-66fd-4fc7-a11b-a7e1f121da27",
   "metadata": {},
   "outputs": [],
   "source": [
    "# a.split(',')\n",
    "# split은 str에서만 가능한가봄"
   ]
  },
  {
   "cell_type": "code",
   "execution_count": 221,
   "id": "e974f70e-035e-498d-808a-a62ca4a3c88f",
   "metadata": {},
   "outputs": [
    {
     "data": {
      "text/plain": [
       "'Asdasd'"
      ]
     },
     "execution_count": 221,
     "metadata": {},
     "output_type": "execute_result"
    }
   ],
   "source": [
    "'asdasd'.capitalize()"
   ]
  },
  {
   "cell_type": "code",
   "execution_count": 345,
   "id": "0005f411-eb18-4677-b2c0-3d83feea79e7",
   "metadata": {},
   "outputs": [],
   "source": [
    "a='i\\'m student'"
   ]
  },
  {
   "cell_type": "code",
   "execution_count": 348,
   "id": "379772a6-0587-44d3-bb5f-f784182350ee",
   "metadata": {},
   "outputs": [
    {
     "data": {
      "text/plain": [
       "\"i'm student\""
      ]
     },
     "execution_count": 348,
     "metadata": {},
     "output_type": "execute_result"
    }
   ],
   "source": [
    "a"
   ]
  },
  {
   "cell_type": "markdown",
   "id": "92a9c3a2-5605-4f24-b89f-946c34d024ca",
   "metadata": {},
   "source": [
    "- 백 슬러시 \\ 다음에 심볼 적으면 심볼로 인식"
   ]
  },
  {
   "cell_type": "code",
   "execution_count": 231,
   "id": "4fee8ac7-78d5-4fd0-a564-35c2eaa678cd",
   "metadata": {},
   "outputs": [
    {
     "name": "stdin",
     "output_type": "stream",
     "text": [
      "enter:  55\n"
     ]
    },
    {
     "data": {
      "text/plain": [
       "'55'"
      ]
     },
     "execution_count": 231,
     "metadata": {},
     "output_type": "execute_result"
    }
   ],
   "source": [
    "input('enter: ')"
   ]
  },
  {
   "cell_type": "code",
   "execution_count": 232,
   "id": "d453ab82-66f8-4ccd-9ce2-6f15c4845bab",
   "metadata": {},
   "outputs": [
    {
     "name": "stdin",
     "output_type": "stream",
     "text": [
      "enter:  55\n"
     ]
    }
   ],
   "source": [
    "a=input('enter: ')"
   ]
  },
  {
   "cell_type": "code",
   "execution_count": 233,
   "id": "1485890f-0872-4583-9871-b4231c589149",
   "metadata": {},
   "outputs": [
    {
     "data": {
      "text/plain": [
       "'55'"
      ]
     },
     "execution_count": 233,
     "metadata": {},
     "output_type": "execute_result"
    }
   ],
   "source": [
    "a # str으로 저장됨"
   ]
  },
  {
   "cell_type": "code",
   "execution_count": 236,
   "id": "2eaa9db8-f050-4e12-a3e5-093fc09dc603",
   "metadata": {},
   "outputs": [
    {
     "name": "stdin",
     "output_type": "stream",
     "text": [
      "enter your age:  565\n"
     ]
    }
   ],
   "source": [
    "age=int(input('enter your age: '))"
   ]
  },
  {
   "cell_type": "code",
   "execution_count": 237,
   "id": "608747c8-efc3-4098-93c3-039921bc4456",
   "metadata": {},
   "outputs": [
    {
     "data": {
      "text/plain": [
       "565"
      ]
     },
     "execution_count": 237,
     "metadata": {},
     "output_type": "execute_result"
    }
   ],
   "source": [
    "age # int로 저장됨"
   ]
  },
  {
   "cell_type": "markdown",
   "id": "a9368127-c43a-4595-9369-8bd099cd05bc",
   "metadata": {},
   "source": [
    "- enter your age 이 부분은 그냥 user한테 input값 받아올 때 안내문 같은 거고 실제로 저장되는 건 입력값만 str으로 저장됨"
   ]
  },
  {
   "cell_type": "code",
   "execution_count": 238,
   "id": "723b28bf-27f6-4371-836c-1fe27a26009f",
   "metadata": {},
   "outputs": [],
   "source": [
    "del age"
   ]
  },
  {
   "cell_type": "markdown",
   "id": "e40d6f83-60b4-41af-8495-768c1dbad5ac",
   "metadata": {},
   "source": [
    "변수 지우기"
   ]
  },
  {
   "cell_type": "code",
   "execution_count": 239,
   "id": "19e5adaa-0b66-494d-8b51-7f4a7cbc4cbb",
   "metadata": {},
   "outputs": [
    {
     "data": {
      "text/plain": [
       "False"
      ]
     },
     "execution_count": 239,
     "metadata": {},
     "output_type": "execute_result"
    }
   ],
   "source": [
    "a=1\n",
    "b=3\n",
    "a==b"
   ]
  },
  {
   "cell_type": "code",
   "execution_count": 240,
   "id": "e8bb2d9d-246e-4632-8206-97e28315a853",
   "metadata": {},
   "outputs": [
    {
     "data": {
      "text/plain": [
       "False"
      ]
     },
     "execution_count": 240,
     "metadata": {},
     "output_type": "execute_result"
    }
   ],
   "source": [
    "a.__eq__(b) # a==b랑 동일"
   ]
  },
  {
   "cell_type": "code",
   "execution_count": 244,
   "id": "7c92d157-822a-461d-98c0-53ad121e7d20",
   "metadata": {},
   "outputs": [],
   "source": [
    "# 변수 동시 지정\n",
    "a,b=10,134\n",
    "# tuple을 의미하는 건 아님"
   ]
  },
  {
   "cell_type": "code",
   "execution_count": 31,
   "id": "63dffe9c-e558-4764-baf0-9ae53981eeb2",
   "metadata": {},
   "outputs": [],
   "source": [
    "a,b=b,a"
   ]
  },
  {
   "cell_type": "markdown",
   "id": "621a42b6-a497-4249-bf31-8e48bea9cc73",
   "metadata": {},
   "source": [
    "- a와 b 교환"
   ]
  },
  {
   "cell_type": "markdown",
   "id": "78adcf6f-66c3-41eb-ba90-d7fd021ef5f9",
   "metadata": {},
   "source": [
    "----"
   ]
  },
  {
   "cell_type": "code",
   "execution_count": 257,
   "id": "8b3b3431-0731-4cf0-98e1-12ee0fc9d2b4",
   "metadata": {},
   "outputs": [],
   "source": [
    "str=1"
   ]
  },
  {
   "cell_type": "code",
   "execution_count": 258,
   "id": "652e78fb-174e-4ba9-b97b-6d50ffc82071",
   "metadata": {},
   "outputs": [
    {
     "data": {
      "text/plain": [
       "1"
      ]
     },
     "execution_count": 258,
     "metadata": {},
     "output_type": "execute_result"
    }
   ],
   "source": [
    "str"
   ]
  },
  {
   "cell_type": "code",
   "execution_count": 259,
   "id": "98cbdb8b-6a35-47ed-b1a8-9cf2fbd4fbc7",
   "metadata": {},
   "outputs": [],
   "source": [
    "# str(1.3)\n",
    "# error 발생 => 원래 내장 함수인 str이 위셀에서 변수명으로 저장됨으로써 함수기능을 상실함"
   ]
  },
  {
   "cell_type": "markdown",
   "id": "ed2140e3-2e48-432d-848c-de9240fd125b",
   "metadata": {},
   "source": [
    "즉 파이썬과 지원되는 함수와 동일한 변수명 사용하면 안 됨"
   ]
  },
  {
   "cell_type": "code",
   "execution_count": 260,
   "id": "11985fec-c760-49cc-96b7-e6631af5b206",
   "metadata": {},
   "outputs": [],
   "source": [
    "del str"
   ]
  },
  {
   "cell_type": "markdown",
   "id": "af01fec5-79fd-4d9b-a7a0-9e3a300c4ca1",
   "metadata": {},
   "source": [
    "> ### `Container`\n",
    "> ##### list. tuple. set. frozenset. dictionary."
   ]
  },
  {
   "cell_type": "markdown",
   "id": "5b397246-87e2-4f39-946f-458997059e3e",
   "metadata": {},
   "source": [
    "- `list` (수정 가능)"
   ]
  },
  {
   "cell_type": "code",
   "execution_count": 263,
   "id": "8de6f563-3f10-40fc-8e01-c7c25b2408d0",
   "metadata": {},
   "outputs": [],
   "source": [
    "asd=[10,25,'123',True]\n",
    "# 자료형 혼합 가능"
   ]
  },
  {
   "cell_type": "code",
   "execution_count": 267,
   "id": "0a72481b-c029-4278-b46a-c13462b35eea",
   "metadata": {},
   "outputs": [],
   "source": [
    "asdasd=list([10,25,'123',True])\n",
    "# 이 방법으로 list만들 땐 꼭 대괄호로 묶어줘야 함"
   ]
  },
  {
   "cell_type": "markdown",
   "id": "da044bb4-6945-454d-a903-e6b1b0880d5c",
   "metadata": {},
   "source": [
    "- `tuple` (수정 불가)"
   ]
  },
  {
   "cell_type": "code",
   "execution_count": 268,
   "id": "5f2d47f1-7b48-4be6-bc3b-739c84fb3caf",
   "metadata": {},
   "outputs": [],
   "source": [
    "qwe=(12,22.1,'qwe')"
   ]
  },
  {
   "cell_type": "code",
   "execution_count": 269,
   "id": "3175809e-6152-42c8-b82f-4b977fcaee2c",
   "metadata": {},
   "outputs": [
    {
     "data": {
      "text/plain": [
       "(12, 22.1, 'qwe')"
      ]
     },
     "execution_count": 269,
     "metadata": {},
     "output_type": "execute_result"
    }
   ],
   "source": [
    "qwe"
   ]
  },
  {
   "cell_type": "code",
   "execution_count": 272,
   "id": "5800c126-d6af-4e86-9ed7-b41aadca066a",
   "metadata": {},
   "outputs": [],
   "source": [
    "qweqwe=tuple([1,2,3,'asdasd',True])\n",
    "# 대괄호로 묶어줘야함"
   ]
  },
  {
   "cell_type": "code",
   "execution_count": 271,
   "id": "cfeac5f6-47ec-4eb4-a605-90486c8b2c40",
   "metadata": {},
   "outputs": [
    {
     "data": {
      "text/plain": [
       "(1, 2, 3, 'asdasd', True)"
      ]
     },
     "execution_count": 271,
     "metadata": {},
     "output_type": "execute_result"
    }
   ],
   "source": [
    "qweqwe"
   ]
  },
  {
   "cell_type": "markdown",
   "id": "92ec2be3-ce9a-4e00-9794-f6b9752431aa",
   "metadata": {},
   "source": [
    "- `list와 tuple은 sequence자료형`"
   ]
  },
  {
   "cell_type": "code",
   "execution_count": 273,
   "id": "543296cc-d891-4a55-826f-bc894ad5f9e8",
   "metadata": {},
   "outputs": [],
   "source": [
    "vip_names = ['c','d','a']"
   ]
  },
  {
   "cell_type": "code",
   "execution_count": 274,
   "id": "5be674b7-a053-4b2f-9c47-78d2fb0b1177",
   "metadata": {},
   "outputs": [],
   "source": [
    "vip_names[0]='랴차'"
   ]
  },
  {
   "cell_type": "code",
   "execution_count": 275,
   "id": "f71f05fd-e4f8-4fac-895d-262dde981122",
   "metadata": {},
   "outputs": [
    {
     "data": {
      "text/plain": [
       "['랴차', 'd', 'a']"
      ]
     },
     "execution_count": 275,
     "metadata": {},
     "output_type": "execute_result"
    }
   ],
   "source": [
    "vip_names"
   ]
  },
  {
   "cell_type": "markdown",
   "id": "94b54ec0-79e8-46a8-8cf0-ae75055180e4",
   "metadata": {},
   "source": [
    "- 이렇게 list는 자료 수정 가능"
   ]
  },
  {
   "cell_type": "markdown",
   "id": "a37c2719-0d23-435e-8de6-9082e552fc54",
   "metadata": {},
   "source": [
    "> ### `slicing`"
   ]
  },
  {
   "cell_type": "code",
   "execution_count": 276,
   "id": "e77e5587-1fb5-43f4-ad53-a266b97d3689",
   "metadata": {},
   "outputs": [],
   "source": [
    "my_list1=[12,123,123,123,42,14]"
   ]
  },
  {
   "cell_type": "code",
   "execution_count": 277,
   "id": "0a73a956-0151-4703-9d51-571439d9c74a",
   "metadata": {},
   "outputs": [
    {
     "data": {
      "text/plain": [
       "[12, 123]"
      ]
     },
     "execution_count": 277,
     "metadata": {},
     "output_type": "execute_result"
    }
   ],
   "source": [
    "my_list1[0:2] #0,1번 원소 추출"
   ]
  },
  {
   "cell_type": "code",
   "execution_count": 278,
   "id": "985e7288-b37f-4252-b6e7-5df7dec91274",
   "metadata": {},
   "outputs": [
    {
     "data": {
      "text/plain": [
       "[12, 123, 123, 123, 42, 14]"
      ]
     },
     "execution_count": 278,
     "metadata": {},
     "output_type": "execute_result"
    }
   ],
   "source": [
    "my_list1[:] # 모든 자료"
   ]
  },
  {
   "cell_type": "code",
   "execution_count": 279,
   "id": "bc3bfd40-28a5-4727-8f46-b650a26483b4",
   "metadata": {},
   "outputs": [
    {
     "data": {
      "text/plain": [
       "[12, 123, 42]"
      ]
     },
     "execution_count": 279,
     "metadata": {},
     "output_type": "execute_result"
    }
   ],
   "source": [
    "my_list1[::2] # 모든 자료형태에서 2단위로 추출"
   ]
  },
  {
   "cell_type": "code",
   "execution_count": 281,
   "id": "d4cca90d-e066-4530-bb27-0a9a2d5b79f0",
   "metadata": {},
   "outputs": [
    {
     "data": {
      "text/plain": [
       "[12, 123]"
      ]
     },
     "execution_count": 281,
     "metadata": {},
     "output_type": "execute_result"
    }
   ],
   "source": [
    "my_list1[:3:2] # 0,1,2원소를 2단위로 추출"
   ]
  },
  {
   "cell_type": "code",
   "execution_count": 282,
   "id": "83b520c8-bc07-46be-ad64-6f06dcef7606",
   "metadata": {},
   "outputs": [
    {
     "data": {
      "text/plain": [
       "[12, 123, 42]"
      ]
     },
     "execution_count": 282,
     "metadata": {},
     "output_type": "execute_result"
    }
   ],
   "source": [
    "my_list1[::2]"
   ]
  },
  {
   "cell_type": "code",
   "execution_count": 283,
   "id": "244eae44-b1bd-4b37-a906-237f24619ee4",
   "metadata": {},
   "outputs": [
    {
     "data": {
      "text/plain": [
       "14"
      ]
     },
     "execution_count": 283,
     "metadata": {},
     "output_type": "execute_result"
    }
   ],
   "source": [
    "my_list1[-1]"
   ]
  },
  {
   "cell_type": "code",
   "execution_count": 100,
   "id": "64e95cba-d317-43f7-b52a-828877592d69",
   "metadata": {},
   "outputs": [
    {
     "data": {
      "text/plain": [
       "[123, 123, 123, 42]"
      ]
     },
     "execution_count": 100,
     "metadata": {},
     "output_type": "execute_result"
    }
   ],
   "source": [
    "my_list1[-5:-1] # -1값은 해당 X"
   ]
  },
  {
   "cell_type": "code",
   "execution_count": 284,
   "id": "080ef731-fbe1-49f6-8719-45941494bd6c",
   "metadata": {},
   "outputs": [
    {
     "data": {
      "text/plain": [
       "123"
      ]
     },
     "execution_count": 284,
     "metadata": {},
     "output_type": "execute_result"
    }
   ],
   "source": [
    "my_list1[-5]"
   ]
  },
  {
   "cell_type": "code",
   "execution_count": 285,
   "id": "2ce00d22-f33a-4f81-b2c6-bdbe73273b04",
   "metadata": {},
   "outputs": [
    {
     "data": {
      "text/plain": [
       "[14, 42, 123, 123, 123, 12]"
      ]
     },
     "execution_count": 285,
     "metadata": {},
     "output_type": "execute_result"
    }
   ],
   "source": [
    "my_list1[-1::-1] # 뒤에서부터 가져올 땐 단위도 - 붙여줘야 함"
   ]
  },
  {
   "cell_type": "code",
   "execution_count": 290,
   "id": "1c30702a-7037-46a9-b9d0-fc35cce50d78",
   "metadata": {},
   "outputs": [
    {
     "data": {
      "text/plain": [
       "[14, 42, 123]"
      ]
     },
     "execution_count": 290,
     "metadata": {},
     "output_type": "execute_result"
    }
   ],
   "source": [
    "my_list1[-1:2:-1] \n",
    "# 두번째 인덱스 전까지 뒤로 추출\n",
    "# 시작을 -1로 해서 2로 끝났으니 마지막에 호출 단위를 -붙여서 꼭 해줘야함\n",
    "# 호출단위를 안 쓰거나 플러스로 하면 아무것도 출력 안 됨"
   ]
  },
  {
   "cell_type": "code",
   "execution_count": 298,
   "id": "85a63f84-b205-4983-9b1c-1e20b77758c2",
   "metadata": {},
   "outputs": [
    {
     "data": {
      "text/plain": [
       "[14, 42, 123, 123]"
      ]
     },
     "execution_count": 298,
     "metadata": {},
     "output_type": "execute_result"
    }
   ],
   "source": [
    "my_list1[-1:1:-1] # 뒤에서부터 가져오기 뒤로"
   ]
  },
  {
   "cell_type": "code",
   "execution_count": 299,
   "id": "dba73aa2-d0ad-4e56-9bab-2ca0a52e830e",
   "metadata": {},
   "outputs": [
    {
     "data": {
      "text/plain": [
       "[12, 123, 123, 123, 42, 14]"
      ]
     },
     "execution_count": 299,
     "metadata": {},
     "output_type": "execute_result"
    }
   ],
   "source": [
    "my_list1"
   ]
  },
  {
   "cell_type": "code",
   "execution_count": 300,
   "id": "e2c7d7c4-8a49-4ff2-9417-733cfd90215f",
   "metadata": {},
   "outputs": [
    {
     "data": {
      "text/plain": [
       "[123, 123, 42]"
      ]
     },
     "execution_count": 300,
     "metadata": {},
     "output_type": "execute_result"
    }
   ],
   "source": [
    "my_list1[-4:5:1]"
   ]
  },
  {
   "cell_type": "code",
   "execution_count": 302,
   "id": "3ea23812-c0db-420f-90d4-35d2f25c3db2",
   "metadata": {},
   "outputs": [],
   "source": [
    "my_list2 = [[1,2,3,4,5],[1232]]"
   ]
  },
  {
   "cell_type": "code",
   "execution_count": 303,
   "id": "d343d3c6-a765-4387-9638-cec9022226e5",
   "metadata": {},
   "outputs": [],
   "source": [
    "my_list4 = [[1,2,3,4,5],\n",
    "            [1,2,3,4],\n",
    "            \"ㅁㄴㅇㅁㄴㅇ\"]\n",
    "# 이렇게 복잡할 땐 한줄 내려서 입력해도 가능하다"
   ]
  },
  {
   "cell_type": "markdown",
   "id": "7003c211-b6de-42a8-9642-e3f5d20740ac",
   "metadata": {},
   "source": [
    "- 리스트 중첩 가능"
   ]
  },
  {
   "cell_type": "code",
   "execution_count": 304,
   "id": "8a5f0461-33b9-45a3-808b-69dd459be814",
   "metadata": {},
   "outputs": [
    {
     "data": {
      "text/plain": [
       "4"
      ]
     },
     "execution_count": 304,
     "metadata": {},
     "output_type": "execute_result"
    }
   ],
   "source": [
    "my_list4[0][3]"
   ]
  },
  {
   "cell_type": "code",
   "execution_count": 305,
   "id": "0dd867be-c9ac-4f61-91f7-be6b90da9870",
   "metadata": {},
   "outputs": [
    {
     "data": {
      "text/plain": [
       "[1, 3]"
      ]
     },
     "execution_count": 305,
     "metadata": {},
     "output_type": "execute_result"
    }
   ],
   "source": [
    "my_list4[1][::2]"
   ]
  },
  {
   "cell_type": "code",
   "execution_count": 306,
   "id": "3847aa48-03db-484c-a901-aa560367cd84",
   "metadata": {},
   "outputs": [],
   "source": [
    "my_list5 = [ [10,20,[100,200,300]], [40,50,60] ]"
   ]
  },
  {
   "cell_type": "code",
   "execution_count": 307,
   "id": "92c80979-d6ab-4ecb-a6b4-11f0ecbd39db",
   "metadata": {},
   "outputs": [
    {
     "data": {
      "text/plain": [
       "300"
      ]
     },
     "execution_count": 307,
     "metadata": {},
     "output_type": "execute_result"
    }
   ],
   "source": [
    "my_list5[0][2][2] # 리스트 중첩 후 원소 불러오기"
   ]
  },
  {
   "cell_type": "code",
   "execution_count": 308,
   "id": "492d9a0c-1512-462c-80d1-fdafcd4ec066",
   "metadata": {},
   "outputs": [],
   "source": [
    "a=[1,2]\n",
    "b=[123,2323]"
   ]
  },
  {
   "cell_type": "code",
   "execution_count": 309,
   "id": "ad901a2e-c192-496c-a1a8-58dd602e05f3",
   "metadata": {},
   "outputs": [
    {
     "data": {
      "text/plain": [
       "[1, 2, 123, 2323]"
      ]
     },
     "execution_count": 309,
     "metadata": {},
     "output_type": "execute_result"
    }
   ],
   "source": [
    "a+b"
   ]
  },
  {
   "cell_type": "code",
   "execution_count": 310,
   "id": "ac9ca8d1-3059-4cba-969f-2915072f09fa",
   "metadata": {},
   "outputs": [],
   "source": [
    "a=[[1,2],[1,2,3]]"
   ]
  },
  {
   "cell_type": "code",
   "execution_count": 311,
   "id": "822cf6ec-830c-4267-9db5-a7edfc6fa640",
   "metadata": {},
   "outputs": [],
   "source": [
    "b=[[1,2,'s'],[1,2,3]]"
   ]
  },
  {
   "cell_type": "code",
   "execution_count": 312,
   "id": "6f19c99c-5fe5-4f6d-9ead-5e28a49ebb37",
   "metadata": {},
   "outputs": [
    {
     "data": {
      "text/plain": [
       "[[1, 2], [1, 2, 3], [1, 2, 's'], [1, 2, 3]]"
      ]
     },
     "execution_count": 312,
     "metadata": {},
     "output_type": "execute_result"
    }
   ],
   "source": [
    "a+b"
   ]
  },
  {
   "cell_type": "code",
   "execution_count": 313,
   "id": "10700cd5-f9aa-4944-8ff3-a9f18fa2f88d",
   "metadata": {},
   "outputs": [
    {
     "data": {
      "text/plain": [
       "[[1, 2], [1, 2, 3], [1, 2], [1, 2, 3]]"
      ]
     },
     "execution_count": 313,
     "metadata": {},
     "output_type": "execute_result"
    }
   ],
   "source": [
    "a*2"
   ]
  },
  {
   "cell_type": "code",
   "execution_count": 314,
   "id": "ca8201b4-bee4-4258-a53e-1c0623fcd40b",
   "metadata": {},
   "outputs": [],
   "source": [
    "old_a=[1,2,3]"
   ]
  },
  {
   "cell_type": "code",
   "execution_count": 315,
   "id": "4a33aeb5-55b5-4013-94c3-0002deeaba4a",
   "metadata": {},
   "outputs": [],
   "source": [
    "new_a=old_a"
   ]
  },
  {
   "cell_type": "code",
   "execution_count": 316,
   "id": "dde26cca-8db4-4559-adb2-9180ea5c4723",
   "metadata": {},
   "outputs": [],
   "source": [
    "old_a[0]=2"
   ]
  },
  {
   "cell_type": "code",
   "execution_count": 317,
   "id": "40dbd199-cf6e-40ce-889f-63af9b1c60e5",
   "metadata": {},
   "outputs": [
    {
     "data": {
      "text/plain": [
       "2"
      ]
     },
     "execution_count": 317,
     "metadata": {},
     "output_type": "execute_result"
    }
   ],
   "source": [
    "new_a[0]"
   ]
  },
  {
   "cell_type": "markdown",
   "id": "bf3f5be5-47bd-40fa-b09f-c8d4f818a180",
   "metadata": {},
   "source": [
    "- `new_a=old_a`는 같은 메모리를 공유함으로써 new_a 와 old_a 모두 동시 수정됨"
   ]
  },
  {
   "cell_type": "markdown",
   "id": "402fd0b6-c303-45a7-b56e-238e2089adfa",
   "metadata": {},
   "source": [
    "- 대책은?"
   ]
  },
  {
   "cell_type": "code",
   "execution_count": 318,
   "id": "305fe06a-f5a3-40ca-819e-cf760cc19d06",
   "metadata": {},
   "outputs": [],
   "source": [
    "new_a=old_a.copy()"
   ]
  },
  {
   "cell_type": "code",
   "execution_count": 319,
   "id": "870bcdd4-ee0b-4de7-9679-a5ecb303b132",
   "metadata": {},
   "outputs": [],
   "source": [
    "new_a[0]='1'"
   ]
  },
  {
   "cell_type": "code",
   "execution_count": 320,
   "id": "29cf9b8a-d436-4033-ac48-b9e0dc9a2492",
   "metadata": {},
   "outputs": [
    {
     "data": {
      "text/plain": [
       "['1', 2, 3]"
      ]
     },
     "execution_count": 320,
     "metadata": {},
     "output_type": "execute_result"
    }
   ],
   "source": [
    "new_a"
   ]
  },
  {
   "cell_type": "code",
   "execution_count": 321,
   "id": "abbf3b29-f0fb-4c62-8482-35b597f05289",
   "metadata": {},
   "outputs": [
    {
     "data": {
      "text/plain": [
       "[2, 2, 3]"
      ]
     },
     "execution_count": 321,
     "metadata": {},
     "output_type": "execute_result"
    }
   ],
   "source": [
    "old_a"
   ]
  },
  {
   "cell_type": "markdown",
   "id": "275f11e6-2f75-401d-b5b2-ecdcc1b89795",
   "metadata": {},
   "source": [
    "- `extend`"
   ]
  },
  {
   "cell_type": "code",
   "execution_count": 335,
   "id": "c3802171-0524-4faf-9003-29a815d26942",
   "metadata": {},
   "outputs": [],
   "source": [
    "a=[1,2,3]\n",
    "b=[2,3,4]"
   ]
  },
  {
   "cell_type": "code",
   "execution_count": 336,
   "id": "3c075deb-a218-4882-ac91-47af6bdf34af",
   "metadata": {},
   "outputs": [
    {
     "data": {
      "text/plain": [
       "[1, 2, 3, 2, 3, 4]"
      ]
     },
     "execution_count": 336,
     "metadata": {},
     "output_type": "execute_result"
    }
   ],
   "source": [
    "a+b"
   ]
  },
  {
   "cell_type": "code",
   "execution_count": 337,
   "id": "3140cff8-d302-497d-8d72-4296ea3102e6",
   "metadata": {},
   "outputs": [],
   "source": [
    "a.extend(b)"
   ]
  },
  {
   "cell_type": "code",
   "execution_count": 338,
   "id": "8bedb802-d273-4bca-880d-b59a9f629db4",
   "metadata": {},
   "outputs": [
    {
     "data": {
      "text/plain": [
       "[1, 2, 3, 2, 3, 4]"
      ]
     },
     "execution_count": 338,
     "metadata": {},
     "output_type": "execute_result"
    }
   ],
   "source": [
    "a"
   ]
  },
  {
   "cell_type": "code",
   "execution_count": 339,
   "id": "164a9f08-c613-4f2b-8d31-e80e37625251",
   "metadata": {},
   "outputs": [],
   "source": [
    "a=[1,2,3]\n",
    "b=[2,3,4]"
   ]
  },
  {
   "cell_type": "code",
   "execution_count": 340,
   "id": "01430810-c013-4c41-b7cf-07f7786c5517",
   "metadata": {},
   "outputs": [],
   "source": [
    "a+=b"
   ]
  },
  {
   "cell_type": "code",
   "execution_count": 341,
   "id": "e084ad85-70c2-4e79-8071-f927424aa487",
   "metadata": {},
   "outputs": [
    {
     "data": {
      "text/plain": [
       "[1, 2, 3, 2, 3, 4]"
      ]
     },
     "execution_count": 341,
     "metadata": {},
     "output_type": "execute_result"
    }
   ],
   "source": [
    "a"
   ]
  },
  {
   "cell_type": "code",
   "execution_count": 356,
   "id": "0925f249-6577-4fe0-8b09-b03720eb491f",
   "metadata": {},
   "outputs": [],
   "source": [
    "asd=['asds','sdasd','sd']"
   ]
  },
  {
   "cell_type": "markdown",
   "id": "20557fdd-5223-4304-875f-b0531dfc0fa9",
   "metadata": {},
   "source": [
    "- 이 자료에 원소 추가하기"
   ]
  },
  {
   "cell_type": "code",
   "execution_count": 357,
   "id": "48743f81-01b2-4724-ae16-0f155b2ab566",
   "metadata": {},
   "outputs": [],
   "source": [
    "asd.append('e')"
   ]
  },
  {
   "cell_type": "code",
   "execution_count": 358,
   "id": "8597c73d-ac1e-4407-82e5-b960155fc919",
   "metadata": {},
   "outputs": [
    {
     "data": {
      "text/plain": [
       "['asds', 'sdasd', 'sd', 'e']"
      ]
     },
     "execution_count": 358,
     "metadata": {},
     "output_type": "execute_result"
    }
   ],
   "source": [
    "asd"
   ]
  },
  {
   "cell_type": "code",
   "execution_count": 359,
   "id": "d49c7400-f279-494a-a8d3-ab26595bf934",
   "metadata": {},
   "outputs": [],
   "source": [
    "asd.remove('e')"
   ]
  },
  {
   "cell_type": "code",
   "execution_count": 360,
   "id": "7b96a278-cc58-403c-a499-13649b485180",
   "metadata": {},
   "outputs": [
    {
     "data": {
      "text/plain": [
       "['asds', 'sdasd', 'sd']"
      ]
     },
     "execution_count": 360,
     "metadata": {},
     "output_type": "execute_result"
    }
   ],
   "source": [
    "asd"
   ]
  },
  {
   "cell_type": "markdown",
   "id": "9af22827-7f73-4bc4-9725-fd7c0cedfd24",
   "metadata": {},
   "source": [
    "- 인덱스로 원소 지우기 -> pop사용"
   ]
  },
  {
   "cell_type": "code",
   "execution_count": 361,
   "id": "ce2163c3-c6c2-47cc-a64a-fe845fc216ea",
   "metadata": {},
   "outputs": [
    {
     "data": {
      "text/plain": [
       "'sdasd'"
      ]
     },
     "execution_count": 361,
     "metadata": {},
     "output_type": "execute_result"
    }
   ],
   "source": [
    "asd.pop(1)\n",
    "# 'sdasd'가 삭제됨"
   ]
  },
  {
   "cell_type": "code",
   "execution_count": 362,
   "id": "a70ac9e4-9697-4804-aecb-f696a37a3443",
   "metadata": {},
   "outputs": [
    {
     "data": {
      "text/plain": [
       "['asds', 'sd']"
      ]
     },
     "execution_count": 362,
     "metadata": {},
     "output_type": "execute_result"
    }
   ],
   "source": [
    "asd"
   ]
  },
  {
   "cell_type": "markdown",
   "id": "49ad1336-0bd2-4533-88b7-bdd96a4e7a73",
   "metadata": {},
   "source": [
    "- 초기화"
   ]
  },
  {
   "cell_type": "code",
   "execution_count": 365,
   "id": "98a80e7a-218f-4752-9cb1-40f307d03854",
   "metadata": {},
   "outputs": [],
   "source": [
    "asd.clear()"
   ]
  },
  {
   "cell_type": "code",
   "execution_count": 366,
   "id": "7c237427-7477-47f1-80de-9b6bf6ddb3a0",
   "metadata": {},
   "outputs": [
    {
     "data": {
      "text/plain": [
       "[]"
      ]
     },
     "execution_count": 366,
     "metadata": {},
     "output_type": "execute_result"
    }
   ],
   "source": [
    "asd"
   ]
  },
  {
   "cell_type": "code",
   "execution_count": 367,
   "id": "05884b51-87ea-4b6b-8c37-0b62f8659997",
   "metadata": {},
   "outputs": [],
   "source": [
    "asd.insert(0,'sds')"
   ]
  },
  {
   "cell_type": "code",
   "execution_count": 368,
   "id": "81f198ff-3294-4be9-9f6d-30a5f83171f0",
   "metadata": {},
   "outputs": [
    {
     "data": {
      "text/plain": [
       "['sds']"
      ]
     },
     "execution_count": 368,
     "metadata": {},
     "output_type": "execute_result"
    }
   ],
   "source": [
    "asd"
   ]
  },
  {
   "cell_type": "markdown",
   "id": "3574aa17-f260-4330-9be4-f8fc42f5c981",
   "metadata": {},
   "source": [
    "- str에선 append였음\n",
    "- list에선 insert , 사용할 때 5자리에 넣고 싶어도 마지막 자리에 순서대로 추가 됨"
   ]
  },
  {
   "cell_type": "code",
   "execution_count": 369,
   "id": "96bfce73-08e5-47f3-99cd-bdc158c109db",
   "metadata": {},
   "outputs": [
    {
     "data": {
      "text/plain": [
       "0"
      ]
     },
     "execution_count": 369,
     "metadata": {},
     "output_type": "execute_result"
    }
   ],
   "source": [
    "asd.index('sds') # 자리 번호 알기"
   ]
  },
  {
   "cell_type": "code",
   "execution_count": 370,
   "id": "a6ea67f5-56c2-4086-a064-6fa70d0a2448",
   "metadata": {},
   "outputs": [
    {
     "data": {
      "text/plain": [
       "1"
      ]
     },
     "execution_count": 370,
     "metadata": {},
     "output_type": "execute_result"
    }
   ],
   "source": [
    "asd.count('sds') # 몇번 들어가 있는지"
   ]
  },
  {
   "cell_type": "code",
   "execution_count": 371,
   "id": "862249a5-5600-4f94-80d8-53f50120a9cb",
   "metadata": {},
   "outputs": [],
   "source": [
    "a=['a','c','f','b']"
   ]
  },
  {
   "cell_type": "code",
   "execution_count": 373,
   "id": "820da8e2-2950-40c4-93d4-8926c7b5912b",
   "metadata": {},
   "outputs": [],
   "source": [
    "a.sort()\n",
    "# 정렬중"
   ]
  },
  {
   "cell_type": "code",
   "execution_count": 374,
   "id": "f54c62ba-7620-426c-b463-03de96d6726f",
   "metadata": {},
   "outputs": [
    {
     "data": {
      "text/plain": [
       "['a', 'b', 'c', 'f']"
      ]
     },
     "execution_count": 374,
     "metadata": {},
     "output_type": "execute_result"
    }
   ],
   "source": [
    "a # 숫자와, bool도 정렬가능"
   ]
  },
  {
   "cell_type": "code",
   "execution_count": 381,
   "id": "ca1d87af-d61a-41d8-9ac3-eda0f59ac559",
   "metadata": {},
   "outputs": [],
   "source": [
    "a=[2,'False']"
   ]
  },
  {
   "cell_type": "code",
   "execution_count": 384,
   "id": "c4cfa928-41bd-485a-8093-6e7e33397863",
   "metadata": {},
   "outputs": [],
   "source": [
    "# a.sort() \n",
    "# 이렇게 자료형이 섞여있으면 불가능\n",
    "# 지금 False가 bool형태가 아니라 str형태로 들어가있음"
   ]
  },
  {
   "cell_type": "code",
   "execution_count": 385,
   "id": "93ebf873-e012-4171-9932-231f9eaa1daa",
   "metadata": {},
   "outputs": [],
   "source": [
    "asf=[True,123333,0,134]"
   ]
  },
  {
   "cell_type": "code",
   "execution_count": 386,
   "id": "0c644a9d-eb18-43d0-9ab2-24bedd4a26a2",
   "metadata": {},
   "outputs": [],
   "source": [
    "asf.sort()"
   ]
  },
  {
   "cell_type": "code",
   "execution_count": 387,
   "id": "1df89304-2a10-4939-9e8a-6ccf648ca91a",
   "metadata": {},
   "outputs": [
    {
     "data": {
      "text/plain": [
       "[0, True, 134, 123333]"
      ]
     },
     "execution_count": 387,
     "metadata": {},
     "output_type": "execute_result"
    }
   ],
   "source": [
    "asf # 자료형이 안 섞여있으면 가능"
   ]
  },
  {
   "cell_type": "code",
   "execution_count": 388,
   "id": "b2a92ace-1d16-4168-b7ef-196f9b955a57",
   "metadata": {},
   "outputs": [],
   "source": [
    "qwe=[1,2,3]"
   ]
  },
  {
   "cell_type": "code",
   "execution_count": 389,
   "id": "e0545ae0-18fe-4ace-a287-02fdbb52377b",
   "metadata": {},
   "outputs": [],
   "source": [
    "qwe.reverse()"
   ]
  },
  {
   "cell_type": "code",
   "execution_count": 390,
   "id": "df5b80d9-18f9-40bd-8c37-b3f7e106eb5a",
   "metadata": {},
   "outputs": [
    {
     "data": {
      "text/plain": [
       "[3, 2, 1]"
      ]
     },
     "execution_count": 390,
     "metadata": {},
     "output_type": "execute_result"
    }
   ],
   "source": [
    "qwe"
   ]
  },
  {
   "cell_type": "code",
   "execution_count": 391,
   "id": "7cac332e-7425-4ab1-833c-01ffa199272b",
   "metadata": {},
   "outputs": [
    {
     "data": {
      "text/plain": [
       "[1, 2, 3]"
      ]
     },
     "execution_count": 391,
     "metadata": {},
     "output_type": "execute_result"
    }
   ],
   "source": [
    "qwe[-1::-1] # reverse와 동일"
   ]
  },
  {
   "cell_type": "markdown",
   "id": "24b324dc-e3b2-44f9-9154-931765411389",
   "metadata": {},
   "source": [
    "---------------------------"
   ]
  },
  {
   "cell_type": "markdown",
   "id": "aec15bf5-55e7-40ff-abdf-426c58cde797",
   "metadata": {},
   "source": [
    "- set"
   ]
  },
  {
   "cell_type": "code",
   "execution_count": 393,
   "id": "17f10c5f-6858-4317-a28e-c05e4a8e46c8",
   "metadata": {},
   "outputs": [],
   "source": [
    "my_set1={1,2,3}"
   ]
  },
  {
   "cell_type": "code",
   "execution_count": 394,
   "id": "4fe696c9-a584-4404-8174-a7926095b9d5",
   "metadata": {},
   "outputs": [],
   "source": [
    "my_set2={False,5,54}"
   ]
  },
  {
   "cell_type": "code",
   "execution_count": 395,
   "id": "43199cc6-832f-47ec-aa88-844185ecc01a",
   "metadata": {},
   "outputs": [],
   "source": [
    "my_set3={False,5,5}"
   ]
  },
  {
   "cell_type": "code",
   "execution_count": 398,
   "id": "45998ffa-4606-4444-b6ec-4c0b74ed3fe6",
   "metadata": {},
   "outputs": [
    {
     "data": {
      "text/plain": [
       "{False, 5}"
      ]
     },
     "execution_count": 398,
     "metadata": {},
     "output_type": "execute_result"
    }
   ],
   "source": [
    "my_set3 "
   ]
  },
  {
   "cell_type": "markdown",
   "id": "07c824eb-c128-42a7-9474-53a32051757c",
   "metadata": {},
   "source": [
    "집합처럼 중복 원소는 하나로 처리"
   ]
  },
  {
   "cell_type": "markdown",
   "id": "1f996568-b4a7-4323-b9db-a02babe26da9",
   "metadata": {},
   "source": [
    "set은 인덱스를 지원하지 않음"
   ]
  },
  {
   "cell_type": "code",
   "execution_count": 415,
   "id": "ec75cc3f-3689-4d8c-8e3f-194dc122bc15",
   "metadata": {},
   "outputs": [],
   "source": [
    "alist=[2,3,4,1324]"
   ]
  },
  {
   "cell_type": "code",
   "execution_count": 416,
   "id": "d23a35cc-a05a-48b3-ab55-3952b92958f9",
   "metadata": {},
   "outputs": [],
   "source": [
    "my_set32412=set(alist)"
   ]
  },
  {
   "cell_type": "code",
   "execution_count": 417,
   "id": "88aea0ac-b1bc-45d2-944e-3a16594ed865",
   "metadata": {},
   "outputs": [
    {
     "data": {
      "text/plain": [
       "{2, 3, 4, 1324}"
      ]
     },
     "execution_count": 417,
     "metadata": {},
     "output_type": "execute_result"
    }
   ],
   "source": [
    "my_set32412"
   ]
  },
  {
   "cell_type": "code",
   "execution_count": 418,
   "id": "abe6a1d5-7c6f-4203-b0ec-6aa275af1c7c",
   "metadata": {},
   "outputs": [],
   "source": [
    "my_set32412.add(2525)"
   ]
  },
  {
   "cell_type": "code",
   "execution_count": 419,
   "id": "8b1d91bc-59a2-4d32-89a4-9ff4af6833ff",
   "metadata": {},
   "outputs": [
    {
     "data": {
      "text/plain": [
       "{2, 3, 4, 1324, 2525}"
      ]
     },
     "execution_count": 419,
     "metadata": {},
     "output_type": "execute_result"
    }
   ],
   "source": [
    "my_set32412"
   ]
  },
  {
   "cell_type": "code",
   "execution_count": 420,
   "id": "70078cd2-11a4-4d1c-87da-ed6fa57c899a",
   "metadata": {},
   "outputs": [],
   "source": [
    "my_set32412.update([546])"
   ]
  },
  {
   "cell_type": "code",
   "execution_count": 421,
   "id": "55877c6f-649f-474a-b937-0651f7f1063c",
   "metadata": {},
   "outputs": [
    {
     "data": {
      "text/plain": [
       "{2, 3, 4, 546, 1324, 2525}"
      ]
     },
     "execution_count": 421,
     "metadata": {},
     "output_type": "execute_result"
    }
   ],
   "source": [
    "my_set32412"
   ]
  },
  {
   "cell_type": "markdown",
   "id": "a8a03aa0-5a5b-4d1b-8c30-30d97a88d3e1",
   "metadata": {},
   "source": [
    "- 이렇게 순서대로 들어가게 됨"
   ]
  },
  {
   "cell_type": "code",
   "execution_count": 422,
   "id": "9d790501-5447-4bf5-83a2-e3e3b193d2a3",
   "metadata": {},
   "outputs": [],
   "source": [
    "my_set32412.discard(1324)"
   ]
  },
  {
   "cell_type": "code",
   "execution_count": 423,
   "id": "47078a56-d640-458f-8e75-db15209f0de3",
   "metadata": {},
   "outputs": [
    {
     "data": {
      "text/plain": [
       "{2, 3, 4, 546, 2525}"
      ]
     },
     "execution_count": 423,
     "metadata": {},
     "output_type": "execute_result"
    }
   ],
   "source": [
    "my_set32412"
   ]
  },
  {
   "cell_type": "code",
   "execution_count": 424,
   "id": "d59bceb2-8e1d-4eb7-88ac-4a410f045b52",
   "metadata": {},
   "outputs": [],
   "source": [
    "my_set32412.remove(2525)"
   ]
  },
  {
   "cell_type": "code",
   "execution_count": 425,
   "id": "b3a81a3e-5091-4dee-a153-af08967a68a6",
   "metadata": {},
   "outputs": [
    {
     "data": {
      "text/plain": [
       "{2, 3, 4, 546}"
      ]
     },
     "execution_count": 425,
     "metadata": {},
     "output_type": "execute_result"
    }
   ],
   "source": [
    "my_set32412"
   ]
  },
  {
   "cell_type": "markdown",
   "id": "2bb7b0e0-be14-41b1-805c-18cb0d28b7c9",
   "metadata": {},
   "source": [
    "즉 discard와 remove는 동일하나 remove는 이미 없는 값을 또 삭제하려 할 때\n",
    "error메세지를 보여줌"
   ]
  },
  {
   "cell_type": "code",
   "execution_count": 426,
   "id": "90d668f2-87c5-4502-add1-0fbc8106374b",
   "metadata": {},
   "outputs": [],
   "source": [
    "a={1,2,3,5}\n",
    "b={6,5,55,4}"
   ]
  },
  {
   "cell_type": "code",
   "execution_count": 427,
   "id": "0839c582-aea5-445b-b5a8-4eb36e934d48",
   "metadata": {},
   "outputs": [
    {
     "data": {
      "text/plain": [
       "{1, 2, 3, 5}"
      ]
     },
     "execution_count": 427,
     "metadata": {},
     "output_type": "execute_result"
    }
   ],
   "source": [
    "a or b"
   ]
  },
  {
   "cell_type": "code",
   "execution_count": 428,
   "id": "94da953f-61d4-44ea-a704-f54af259bff9",
   "metadata": {},
   "outputs": [
    {
     "data": {
      "text/plain": [
       "{4, 5, 6, 55}"
      ]
     },
     "execution_count": 428,
     "metadata": {},
     "output_type": "execute_result"
    }
   ],
   "source": [
    "b or a"
   ]
  },
  {
   "cell_type": "markdown",
   "id": "3911b0fd-3cee-4e1c-b391-3ca3e88050c2",
   "metadata": {},
   "source": [
    "- 앞에 있는 거 출력"
   ]
  },
  {
   "cell_type": "code",
   "execution_count": 430,
   "id": "309c5049-5f4d-419b-9258-1d6030c839b2",
   "metadata": {},
   "outputs": [
    {
     "data": {
      "text/plain": [
       "6"
      ]
     },
     "execution_count": 430,
     "metadata": {},
     "output_type": "execute_result"
    }
   ],
   "source": [
    "2|4"
   ]
  },
  {
   "cell_type": "markdown",
   "id": "b9c8350d-6607-495f-ab0a-6dc567417f29",
   "metadata": {},
   "source": [
    "이거랑 다른 거"
   ]
  },
  {
   "cell_type": "code",
   "execution_count": 431,
   "id": "71b30590-1ccc-4a57-9ca7-c23e008597bf",
   "metadata": {},
   "outputs": [
    {
     "data": {
      "text/plain": [
       "{1, 2, 3, 4, 5, 6, 55}"
      ]
     },
     "execution_count": 431,
     "metadata": {},
     "output_type": "execute_result"
    }
   ],
   "source": [
    "a|b"
   ]
  },
  {
   "cell_type": "code",
   "execution_count": 432,
   "id": "0a89b960-371e-417a-aef0-ecdd7eb4180b",
   "metadata": {},
   "outputs": [
    {
     "data": {
      "text/plain": [
       "{1, 2, 3, 4, 5, 6, 55}"
      ]
     },
     "execution_count": 432,
     "metadata": {},
     "output_type": "execute_result"
    }
   ],
   "source": [
    "a.union(b)"
   ]
  },
  {
   "cell_type": "code",
   "execution_count": 433,
   "id": "583facd2-8360-4860-8d8b-4a09567e8075",
   "metadata": {},
   "outputs": [
    {
     "data": {
      "text/plain": [
       "{1, 2, 3, 4, 5, 6, 55}"
      ]
     },
     "execution_count": 433,
     "metadata": {},
     "output_type": "execute_result"
    }
   ],
   "source": [
    "b.union(a)"
   ]
  },
  {
   "cell_type": "code",
   "execution_count": 434,
   "id": "7dd539d7-441d-4edc-a552-1159e3af6b8e",
   "metadata": {},
   "outputs": [
    {
     "data": {
      "text/plain": [
       "{5}"
      ]
     },
     "execution_count": 434,
     "metadata": {},
     "output_type": "execute_result"
    }
   ],
   "source": [
    "a&b # 교집합"
   ]
  },
  {
   "cell_type": "code",
   "execution_count": 435,
   "id": "b5a66297-a8bb-49fe-b08a-1d935040422b",
   "metadata": {},
   "outputs": [
    {
     "data": {
      "text/plain": [
       "{5}"
      ]
     },
     "execution_count": 435,
     "metadata": {},
     "output_type": "execute_result"
    }
   ],
   "source": [
    "a.intersection(b)"
   ]
  },
  {
   "cell_type": "code",
   "execution_count": 436,
   "id": "a949847e-59d6-4d78-a3f1-6cb0092151f1",
   "metadata": {},
   "outputs": [
    {
     "data": {
      "text/plain": [
       "{5}"
      ]
     },
     "execution_count": 436,
     "metadata": {},
     "output_type": "execute_result"
    }
   ],
   "source": [
    "b.intersection(a)"
   ]
  },
  {
   "cell_type": "code",
   "execution_count": 437,
   "id": "0c4096bd-6b51-46e0-8e65-4b5d1c301ad5",
   "metadata": {},
   "outputs": [
    {
     "data": {
      "text/plain": [
       "{1, 2, 3}"
      ]
     },
     "execution_count": 437,
     "metadata": {},
     "output_type": "execute_result"
    }
   ],
   "source": [
    "a-b"
   ]
  },
  {
   "cell_type": "code",
   "execution_count": 438,
   "id": "4d9c2313-136c-4b9e-88f7-91040173eb4b",
   "metadata": {},
   "outputs": [
    {
     "data": {
      "text/plain": [
       "{1, 2, 3}"
      ]
     },
     "execution_count": 438,
     "metadata": {},
     "output_type": "execute_result"
    }
   ],
   "source": [
    "a.difference(b)"
   ]
  },
  {
   "cell_type": "code",
   "execution_count": 439,
   "id": "9073a86b-028f-4ced-92e1-7ce9f1c52a31",
   "metadata": {},
   "outputs": [
    {
     "data": {
      "text/plain": [
       "{4, 6, 55}"
      ]
     },
     "execution_count": 439,
     "metadata": {},
     "output_type": "execute_result"
    }
   ],
   "source": [
    "b.difference(a)"
   ]
  },
  {
   "cell_type": "code",
   "execution_count": 440,
   "id": "bcb859c9-f0e8-423f-9db4-f4b6b9c2c06f",
   "metadata": {},
   "outputs": [
    {
     "data": {
      "text/plain": [
       "{1, 2, 3, 4, 6, 55}"
      ]
     },
     "execution_count": 440,
     "metadata": {},
     "output_type": "execute_result"
    }
   ],
   "source": [
    "a^b # 겹치는 거 빼고 출력"
   ]
  },
  {
   "cell_type": "code",
   "execution_count": 441,
   "id": "62142077-88a5-4e18-a4f4-b8f7294ab7fe",
   "metadata": {},
   "outputs": [
    {
     "data": {
      "text/plain": [
       "{1, 2, 3, 4, 6, 55}"
      ]
     },
     "execution_count": 441,
     "metadata": {},
     "output_type": "execute_result"
    }
   ],
   "source": [
    "a.symmetric_difference(b) ## 겹치는 거 빼고 출력"
   ]
  },
  {
   "cell_type": "code",
   "execution_count": 442,
   "id": "0c63dafd-b54a-4656-ab91-e8932f155358",
   "metadata": {},
   "outputs": [
    {
     "data": {
      "text/plain": [
       "{1, 2, 3, 4, 6, 55}"
      ]
     },
     "execution_count": 442,
     "metadata": {},
     "output_type": "execute_result"
    }
   ],
   "source": [
    "b.symmetric_difference(a) # 겹치는 거 빼고 출력"
   ]
  },
  {
   "cell_type": "code",
   "execution_count": 443,
   "id": "aff7b265-2156-4dfa-ac0d-a085c384916b",
   "metadata": {},
   "outputs": [],
   "source": [
    "a={1,2,3,4,5}\n",
    "b={1}"
   ]
  },
  {
   "cell_type": "code",
   "execution_count": 444,
   "id": "6694843c-94b4-46b3-abb6-c359f904ddc4",
   "metadata": {},
   "outputs": [
    {
     "data": {
      "text/plain": [
       "True"
      ]
     },
     "execution_count": 444,
     "metadata": {},
     "output_type": "execute_result"
    }
   ],
   "source": [
    "b.issubset(a)  #b가 a의 부분집합?"
   ]
  },
  {
   "cell_type": "code",
   "execution_count": 445,
   "id": "845e31cd-a7b4-456d-93fc-d28d56fb0cc7",
   "metadata": {},
   "outputs": [
    {
     "data": {
      "text/plain": [
       "False"
      ]
     },
     "execution_count": 445,
     "metadata": {},
     "output_type": "execute_result"
    }
   ],
   "source": [
    "a.issubset(b) # a가 b의 부분집합?"
   ]
  },
  {
   "cell_type": "code",
   "execution_count": 447,
   "id": "919b06c7-3059-40c9-8ef4-e7cc84b11ac9",
   "metadata": {},
   "outputs": [
    {
     "data": {
      "text/plain": [
       "True"
      ]
     },
     "execution_count": 447,
     "metadata": {},
     "output_type": "execute_result"
    }
   ],
   "source": [
    "a.issuperset(b) # a는 b를 포함?"
   ]
  },
  {
   "cell_type": "code",
   "execution_count": 448,
   "id": "8ed70fb1-620b-4e48-8038-d895d98e0694",
   "metadata": {},
   "outputs": [
    {
     "data": {
      "text/plain": [
       "False"
      ]
     },
     "execution_count": 448,
     "metadata": {},
     "output_type": "execute_result"
    }
   ],
   "source": [
    "b.issuperset(a)# b는 a를 포함?"
   ]
  },
  {
   "cell_type": "markdown",
   "id": "aa28fac7-cec0-4b09-b06e-926c9862cc39",
   "metadata": {},
   "source": [
    "---------"
   ]
  },
  {
   "cell_type": "code",
   "execution_count": 449,
   "id": "25ff1b7d-a52d-424c-ba3a-91a4d84180de",
   "metadata": {},
   "outputs": [],
   "source": [
    "a=frozenset([1,2,3,4,5])"
   ]
  },
  {
   "cell_type": "code",
   "execution_count": 450,
   "id": "74c05429-001e-4255-847c-639e07bddbb4",
   "metadata": {},
   "outputs": [],
   "source": [
    "b=frozenset([4,5,6,7,8])"
   ]
  },
  {
   "cell_type": "code",
   "execution_count": 451,
   "id": "c957eee1-ddcf-49ea-990e-7994add72d63",
   "metadata": {},
   "outputs": [
    {
     "data": {
      "text/plain": [
       "frozenset({1, 2, 3, 4, 5, 6, 7, 8})"
      ]
     },
     "execution_count": 451,
     "metadata": {},
     "output_type": "execute_result"
    }
   ],
   "source": [
    "a|b"
   ]
  },
  {
   "cell_type": "code",
   "execution_count": 452,
   "id": "29a044c3-cfaf-4ddb-812e-a4f4216f0991",
   "metadata": {},
   "outputs": [
    {
     "data": {
      "text/plain": [
       "frozenset({4, 5})"
      ]
     },
     "execution_count": 452,
     "metadata": {},
     "output_type": "execute_result"
    }
   ],
   "source": [
    "a&b"
   ]
  },
  {
   "cell_type": "code",
   "execution_count": 454,
   "id": "4fc61484-acd1-41b8-bff7-095b2b095911",
   "metadata": {},
   "outputs": [],
   "source": [
    "# a.add(100) \n",
    "# 추가 불가\n",
    "# frozenset이기 때문에"
   ]
  },
  {
   "cell_type": "code",
   "execution_count": 455,
   "id": "3c359ce0-9049-4a40-8148-b35df80009b8",
   "metadata": {},
   "outputs": [],
   "source": [
    "c=set([1,2,3,4])"
   ]
  },
  {
   "cell_type": "code",
   "execution_count": 456,
   "id": "18c6d968-fb0c-484f-a971-96404e1979ba",
   "metadata": {},
   "outputs": [
    {
     "data": {
      "text/plain": [
       "frozenset({1, 2, 3, 4})"
      ]
     },
     "execution_count": 456,
     "metadata": {},
     "output_type": "execute_result"
    }
   ],
   "source": [
    "a&c "
   ]
  },
  {
   "cell_type": "code",
   "execution_count": 457,
   "id": "22f9e75e-deea-4119-8aba-6327653da8eb",
   "metadata": {},
   "outputs": [],
   "source": [
    "asq=['qw','qwa','qwsd']"
   ]
  },
  {
   "cell_type": "code",
   "execution_count": 458,
   "id": "1ad656b1-52a6-427c-bbf6-455dbfb369e8",
   "metadata": {},
   "outputs": [],
   "source": [
    "door1_list = ['qw']"
   ]
  },
  {
   "cell_type": "code",
   "execution_count": 459,
   "id": "9d1e15c2-48e5-470a-871e-c9f55f8cbc53",
   "metadata": {},
   "outputs": [],
   "source": [
    "door2_list = ['qwa']"
   ]
  },
  {
   "cell_type": "code",
   "execution_count": 468,
   "id": "aac3f997-f535-4a36-865b-5e3490249278",
   "metadata": {},
   "outputs": [
    {
     "data": {
      "text/plain": [
       "False"
      ]
     },
     "execution_count": 468,
     "metadata": {},
     "output_type": "execute_result"
    }
   ],
   "source": [
    "door1_list in asq"
   ]
  },
  {
   "cell_type": "code",
   "execution_count": 469,
   "id": "340c6b83-4d99-4cd8-88b4-904c3315a8b7",
   "metadata": {},
   "outputs": [
    {
     "data": {
      "text/plain": [
       "['qw']"
      ]
     },
     "execution_count": 469,
     "metadata": {},
     "output_type": "execute_result"
    }
   ],
   "source": [
    "door1_list"
   ]
  },
  {
   "cell_type": "markdown",
   "id": "860d3595-ed9c-4324-9ff9-7279f9889a08",
   "metadata": {},
   "source": [
    "- 왜 false?"
   ]
  },
  {
   "cell_type": "code",
   "execution_count": 470,
   "id": "6adefbee-923e-4eb6-bda2-f620e74704f7",
   "metadata": {},
   "outputs": [
    {
     "data": {
      "text/plain": [
       "'qw'"
      ]
     },
     "execution_count": 470,
     "metadata": {},
     "output_type": "execute_result"
    }
   ],
   "source": [
    "door1_list[0]"
   ]
  },
  {
   "cell_type": "code",
   "execution_count": 471,
   "id": "715382d3-6ff6-4e7c-a175-c66b7a8e5688",
   "metadata": {},
   "outputs": [
    {
     "data": {
      "text/plain": [
       "True"
      ]
     },
     "execution_count": 471,
     "metadata": {},
     "output_type": "execute_result"
    }
   ],
   "source": [
    "door1_list[0] in asq"
   ]
  },
  {
   "cell_type": "code",
   "execution_count": 472,
   "id": "1b989767-15ec-4a39-b43a-21ad2df91ad7",
   "metadata": {},
   "outputs": [],
   "source": [
    "all=set(asq)"
   ]
  },
  {
   "cell_type": "code",
   "execution_count": 473,
   "id": "0e6fbc98-af1a-4aa9-a6ec-b9686ab7bf02",
   "metadata": {},
   "outputs": [
    {
     "data": {
      "text/plain": [
       "{'qw', 'qwa', 'qwsd'}"
      ]
     },
     "execution_count": 473,
     "metadata": {},
     "output_type": "execute_result"
    }
   ],
   "source": [
    "all"
   ]
  },
  {
   "cell_type": "code",
   "execution_count": 474,
   "id": "64785951-54e8-481f-992f-cc53ddf5c312",
   "metadata": {},
   "outputs": [],
   "source": [
    "d1=set(door1_list)"
   ]
  },
  {
   "cell_type": "code",
   "execution_count": 475,
   "id": "10e0254a-29d8-4e0b-916f-01b5679f793b",
   "metadata": {},
   "outputs": [],
   "source": [
    "d2=set(door2_list)"
   ]
  },
  {
   "cell_type": "code",
   "execution_count": 476,
   "id": "f41774a3-5ca3-4090-8f18-768abb149af4",
   "metadata": {},
   "outputs": [
    {
     "data": {
      "text/plain": [
       "True"
      ]
     },
     "execution_count": 476,
     "metadata": {},
     "output_type": "execute_result"
    }
   ],
   "source": [
    "d1.issubset(all)"
   ]
  },
  {
   "cell_type": "code",
   "execution_count": 477,
   "id": "91946488-24f2-4793-9e82-e046d4796e8a",
   "metadata": {},
   "outputs": [
    {
     "data": {
      "text/plain": [
       "True"
      ]
     },
     "execution_count": 477,
     "metadata": {},
     "output_type": "execute_result"
    }
   ],
   "source": [
    "d2.issubset(all)"
   ]
  },
  {
   "cell_type": "code",
   "execution_count": 478,
   "id": "75abe092-1ec2-403f-b4fc-1079533c71bf",
   "metadata": {},
   "outputs": [],
   "source": [
    "d_combine=d1 |d2"
   ]
  },
  {
   "cell_type": "code",
   "execution_count": 479,
   "id": "f0eea8af-a199-4582-ab25-7d1efc4ade68",
   "metadata": {},
   "outputs": [
    {
     "data": {
      "text/plain": [
       "{'qw', 'qwa'}"
      ]
     },
     "execution_count": 479,
     "metadata": {},
     "output_type": "execute_result"
    }
   ],
   "source": [
    "d_combine"
   ]
  },
  {
   "cell_type": "code",
   "execution_count": 481,
   "id": "aedcce1f-3682-40f2-956a-6dd46c883357",
   "metadata": {},
   "outputs": [
    {
     "data": {
      "text/plain": [
       "True"
      ]
     },
     "execution_count": 481,
     "metadata": {},
     "output_type": "execute_result"
    }
   ],
   "source": [
    "d_combine.issubset(all) # 부분집합?"
   ]
  },
  {
   "cell_type": "code",
   "execution_count": 482,
   "id": "5695379c-58d6-452a-9339-442eb2a3a21c",
   "metadata": {},
   "outputs": [
    {
     "data": {
      "text/plain": [
       "{'qwsd'}"
      ]
     },
     "execution_count": 482,
     "metadata": {},
     "output_type": "execute_result"
    }
   ],
   "source": [
    "all-d_combine"
   ]
  },
  {
   "cell_type": "markdown",
   "id": "f63e2d58-97aa-42e4-8786-1c452c3633e6",
   "metadata": {},
   "source": [
    "- dic => key,value로 이루어져있다"
   ]
  },
  {
   "cell_type": "markdown",
   "id": "bb7da0f8-3751-4b63-a63f-7f18808a4ebc",
   "metadata": {},
   "source": [
    "- :  이 들어가면서 set이랑은 다름"
   ]
  },
  {
   "cell_type": "code",
   "execution_count": 492,
   "id": "3348f83f-3d9b-4e95-83f5-1bd1c81f4a38",
   "metadata": {},
   "outputs": [
    {
     "data": {
      "text/plain": [
       "dict"
      ]
     },
     "execution_count": 492,
     "metadata": {},
     "output_type": "execute_result"
    }
   ],
   "source": [
    "type(my_dict)"
   ]
  },
  {
   "cell_type": "code",
   "execution_count": 490,
   "id": "5c0aa7a0-fc9e-4989-b4ba-9021758edd28",
   "metadata": {},
   "outputs": [],
   "source": [
    "my_dict={'a':'qewqwe','b':'qewe','c':'qwqwe'}"
   ]
  },
  {
   "cell_type": "code",
   "execution_count": 493,
   "id": "54a2c345-c58f-4624-840b-439e55454cba",
   "metadata": {},
   "outputs": [
    {
     "data": {
      "text/plain": [
       "'qwqwe'"
      ]
     },
     "execution_count": 493,
     "metadata": {},
     "output_type": "execute_result"
    }
   ],
   "source": [
    "my_dict['c']"
   ]
  },
  {
   "cell_type": "markdown",
   "id": "9223f320-834c-4021-82a2-1b4a2581f21f",
   "metadata": {},
   "source": [
    "즉 따라서 순서는 중요하지 않음"
   ]
  },
  {
   "cell_type": "code",
   "execution_count": 494,
   "id": "9e6980b8-04b6-4da9-82c6-1120dbc33f1c",
   "metadata": {},
   "outputs": [],
   "source": [
    "number={'1':'12312123123','asas':'12313','asdad':'12323'}"
   ]
  },
  {
   "cell_type": "code",
   "execution_count": 495,
   "id": "78dd2b17-0a2b-4e82-b152-a8a2663a8ed9",
   "metadata": {},
   "outputs": [
    {
     "data": {
      "text/plain": [
       "'12313'"
      ]
     },
     "execution_count": 495,
     "metadata": {},
     "output_type": "execute_result"
    }
   ],
   "source": [
    "number['asas']"
   ]
  },
  {
   "cell_type": "code",
   "execution_count": 496,
   "id": "ad18b9f9-d45d-4ece-98e9-8174a6c4be5a",
   "metadata": {},
   "outputs": [
    {
     "data": {
      "text/plain": [
       "'12313'"
      ]
     },
     "execution_count": 496,
     "metadata": {},
     "output_type": "execute_result"
    }
   ],
   "source": [
    "number.get('asas')"
   ]
  },
  {
   "cell_type": "code",
   "execution_count": 497,
   "id": "10514053-1911-4d89-867d-f802de777ebf",
   "metadata": {},
   "outputs": [],
   "source": [
    "number['asas']='fucking' # 자료 업데이트"
   ]
  },
  {
   "cell_type": "code",
   "execution_count": 498,
   "id": "0c6c7811-9937-4b41-bdd2-42a883a89738",
   "metadata": {},
   "outputs": [],
   "source": [
    "number.update({'1':'asdasdddd'}) # 자료 업데이트"
   ]
  },
  {
   "cell_type": "code",
   "execution_count": 499,
   "id": "1331d422-1406-40d3-b3fd-be6caed40df2",
   "metadata": {},
   "outputs": [
    {
     "data": {
      "text/plain": [
       "'asdasdddd'"
      ]
     },
     "execution_count": 499,
     "metadata": {},
     "output_type": "execute_result"
    }
   ],
   "source": [
    "number['1']"
   ]
  },
  {
   "cell_type": "code",
   "execution_count": 500,
   "id": "9622ad92-eacd-4771-8f54-10b964ddf73f",
   "metadata": {},
   "outputs": [
    {
     "data": {
      "text/plain": [
       "True"
      ]
     },
     "execution_count": 500,
     "metadata": {},
     "output_type": "execute_result"
    }
   ],
   "source": [
    "'1' in number # key가 들어가있는지 안 들어가 있는지"
   ]
  },
  {
   "cell_type": "code",
   "execution_count": 501,
   "id": "40c36614-20a0-4bb6-b9f5-7319837a3dcf",
   "metadata": {},
   "outputs": [
    {
     "data": {
      "text/plain": [
       "'asdasdddd'"
      ]
     },
     "execution_count": 501,
     "metadata": {},
     "output_type": "execute_result"
    }
   ],
   "source": [
    "number.pop('1') # 삭제"
   ]
  },
  {
   "cell_type": "code",
   "execution_count": 502,
   "id": "0d71289f-a899-44f8-b3ac-6c75008f3134",
   "metadata": {},
   "outputs": [
    {
     "data": {
      "text/plain": [
       "{'asas': 'fucking', 'asdad': '12323'}"
      ]
     },
     "execution_count": 502,
     "metadata": {},
     "output_type": "execute_result"
    }
   ],
   "source": [
    "number"
   ]
  },
  {
   "cell_type": "code",
   "execution_count": 503,
   "id": "b1deca22-3b0b-4b0f-886d-1ecc8a2c9968",
   "metadata": {},
   "outputs": [],
   "source": [
    "number.clear()"
   ]
  },
  {
   "cell_type": "code",
   "execution_count": 504,
   "id": "812e4d5a-6300-4ffa-ba02-d33ef099d1a4",
   "metadata": {},
   "outputs": [
    {
     "data": {
      "text/plain": [
       "{}"
      ]
     },
     "execution_count": 504,
     "metadata": {},
     "output_type": "execute_result"
    }
   ],
   "source": [
    "number"
   ]
  },
  {
   "cell_type": "markdown",
   "id": "f36694f6-70ea-4502-857d-182f75fcabbe",
   "metadata": {},
   "source": [
    "-------------"
   ]
  },
  {
   "cell_type": "code",
   "execution_count": 505,
   "id": "d7ed0a19-4767-4daf-afb5-0e3f1232027d",
   "metadata": {},
   "outputs": [],
   "source": [
    "alist=[1,2,3,4,5]\n",
    "atuple=(1,2,3,4,5)\n",
    "aset={1,2,3,4,5}"
   ]
  },
  {
   "cell_type": "code",
   "execution_count": 507,
   "id": "a4d9840e-c417-47a3-8b61-f416034691d2",
   "metadata": {},
   "outputs": [
    {
     "data": {
      "text/plain": [
       "5"
      ]
     },
     "execution_count": 507,
     "metadata": {},
     "output_type": "execute_result"
    }
   ],
   "source": [
    "len(alist) # 컨테이너의 값 개수를 알 수 있음"
   ]
  },
  {
   "cell_type": "code",
   "execution_count": 508,
   "id": "63a11196-56bd-4857-b68e-39e1580a15a1",
   "metadata": {},
   "outputs": [
    {
     "data": {
      "text/plain": [
       "5"
      ]
     },
     "execution_count": 508,
     "metadata": {},
     "output_type": "execute_result"
    }
   ],
   "source": [
    "max(aset)"
   ]
  },
  {
   "cell_type": "code",
   "execution_count": 509,
   "id": "dbbbe73a-d56f-4d22-87b4-060d50c76308",
   "metadata": {},
   "outputs": [
    {
     "data": {
      "text/plain": [
       "1"
      ]
     },
     "execution_count": 509,
     "metadata": {},
     "output_type": "execute_result"
    }
   ],
   "source": [
    "min(alist)"
   ]
  },
  {
   "cell_type": "code",
   "execution_count": 510,
   "id": "71ff218c-737e-4c7e-956c-1c625739a4dc",
   "metadata": {},
   "outputs": [
    {
     "data": {
      "text/plain": [
       "False"
      ]
     },
     "execution_count": 510,
     "metadata": {},
     "output_type": "execute_result"
    }
   ],
   "source": [
    "6 in atuple # 값 들어가있는지 체크하기"
   ]
  },
  {
   "cell_type": "code",
   "execution_count": 514,
   "id": "d4ae865f-f26f-434c-9ef1-d98f8d0ea26e",
   "metadata": {},
   "outputs": [
    {
     "data": {
      "text/plain": [
       "True"
      ]
     },
     "execution_count": 514,
     "metadata": {},
     "output_type": "execute_result"
    }
   ],
   "source": [
    " 555 not in atuple"
   ]
  },
  {
   "cell_type": "markdown",
   "id": "423aed98-8ad9-4607-a895-f25130506550",
   "metadata": {},
   "source": [
    "-------------"
   ]
  },
  {
   "cell_type": "markdown",
   "id": "3e1bbbc9-80dc-4076-8309-f7dd41113b2f",
   "metadata": {},
   "source": [
    "> ## `list unpacking`"
   ]
  },
  {
   "cell_type": "code",
   "execution_count": 530,
   "id": "54bc8ba2-350c-4d50-86c2-1a3aed2aef28",
   "metadata": {},
   "outputs": [],
   "source": [
    "a=['a',23,'asf']"
   ]
  },
  {
   "cell_type": "code",
   "execution_count": 531,
   "id": "b51aafe0-9801-4355-b65a-9ed60fe6b2a4",
   "metadata": {},
   "outputs": [],
   "source": [
    "name=a[0]"
   ]
  },
  {
   "cell_type": "code",
   "execution_count": 532,
   "id": "f715f1b8-bd1c-4bcf-8159-06322d1ca80e",
   "metadata": {},
   "outputs": [],
   "source": [
    "age=a[1]"
   ]
  },
  {
   "cell_type": "code",
   "execution_count": 533,
   "id": "54b23db9-4d93-4f37-929f-1cca821be30b",
   "metadata": {},
   "outputs": [],
   "source": [
    "lan=a[2]"
   ]
  },
  {
   "cell_type": "markdown",
   "id": "d7a5d0fe-1cd5-4d21-83a4-6c43b60d6617",
   "metadata": {},
   "source": [
    "- 이걸 한 번에 = list unpacking"
   ]
  },
  {
   "cell_type": "code",
   "execution_count": 534,
   "id": "496d0822-c6ba-4c53-bc17-0dd67a4cc360",
   "metadata": {},
   "outputs": [],
   "source": [
    "name,age,lan=a"
   ]
  },
  {
   "cell_type": "markdown",
   "id": "61f4e1c8-a815-44d5-bd01-589681d911cf",
   "metadata": {},
   "source": [
    "- 리스트 a에서 처음 원소만 자료로 받고 나머지는 그에 헤당한 자료형으로 남겨놓고 싶을 때"
   ]
  },
  {
   "cell_type": "code",
   "execution_count": 535,
   "id": "e0a398c0-1c41-46e1-a19a-af590435eadc",
   "metadata": {},
   "outputs": [],
   "source": [
    "name, *rest = a"
   ]
  },
  {
   "cell_type": "markdown",
   "id": "2ca64142-8ea0-4d7a-af21-1bf9a1aae348",
   "metadata": {},
   "source": [
    "응용하면"
   ]
  },
  {
   "cell_type": "code",
   "execution_count": 536,
   "id": "febfd65a-b975-491a-aaa1-301e9fc3d4f5",
   "metadata": {},
   "outputs": [],
   "source": [
    "*rest,name=a"
   ]
  },
  {
   "cell_type": "code",
   "execution_count": 537,
   "id": "5fc9ff3b-0172-4b84-b7d2-81b6a386dc8c",
   "metadata": {},
   "outputs": [
    {
     "data": {
      "text/plain": [
       "'asf'"
      ]
     },
     "execution_count": 537,
     "metadata": {},
     "output_type": "execute_result"
    }
   ],
   "source": [
    "name"
   ]
  },
  {
   "cell_type": "code",
   "execution_count": 538,
   "id": "90923f75-97ce-4e33-a5a3-f5227f2ca2a4",
   "metadata": {},
   "outputs": [],
   "source": [
    "first,second,*rest=a"
   ]
  },
  {
   "cell_type": "code",
   "execution_count": 540,
   "id": "e8e068c0-1412-483e-b9c6-1a3043108774",
   "metadata": {},
   "outputs": [
    {
     "data": {
      "text/plain": [
       "'a'"
      ]
     },
     "execution_count": 540,
     "metadata": {},
     "output_type": "execute_result"
    }
   ],
   "source": [
    "first"
   ]
  },
  {
   "cell_type": "code",
   "execution_count": 541,
   "id": "f35d3523-4d54-420c-a0f6-71546e5c3796",
   "metadata": {},
   "outputs": [
    {
     "data": {
      "text/plain": [
       "23"
      ]
     },
     "execution_count": 541,
     "metadata": {},
     "output_type": "execute_result"
    }
   ],
   "source": [
    "second"
   ]
  },
  {
   "cell_type": "markdown",
   "id": "b0551e24-b7a7-4dd6-9c45-a73345d819e2",
   "metadata": {},
   "source": [
    "-------------"
   ]
  },
  {
   "cell_type": "code",
   "execution_count": 542,
   "id": "69539bfd-1c2e-4568-b161-e0c25751e5ab",
   "metadata": {},
   "outputs": [],
   "source": [
    "a=range(0,21,2) # 20까지임"
   ]
  },
  {
   "cell_type": "code",
   "execution_count": 543,
   "id": "d102f81c-152a-44bf-88e0-4097411311b3",
   "metadata": {},
   "outputs": [
    {
     "data": {
      "text/plain": [
       "range(0, 21, 2)"
      ]
     },
     "execution_count": 543,
     "metadata": {},
     "output_type": "execute_result"
    }
   ],
   "source": [
    "a"
   ]
  },
  {
   "cell_type": "code",
   "execution_count": 549,
   "id": "9c0f5b9e-ea71-42dc-acf0-094e092b2fe8",
   "metadata": {},
   "outputs": [
    {
     "data": {
      "text/plain": [
       "range"
      ]
     },
     "execution_count": 549,
     "metadata": {},
     "output_type": "execute_result"
    }
   ],
   "source": [
    "type(a)"
   ]
  },
  {
   "cell_type": "code",
   "execution_count": 548,
   "id": "e682f35b-fc3a-4a0c-b9ec-f91b871ec032",
   "metadata": {},
   "outputs": [
    {
     "data": {
      "text/plain": [
       "4"
      ]
     },
     "execution_count": 548,
     "metadata": {},
     "output_type": "execute_result"
    }
   ],
   "source": [
    "a[2]"
   ]
  },
  {
   "cell_type": "code",
   "execution_count": 550,
   "id": "c85cab19-671d-47b1-848c-e78cffed431b",
   "metadata": {},
   "outputs": [
    {
     "data": {
      "text/plain": [
       "10"
      ]
     },
     "execution_count": 550,
     "metadata": {},
     "output_type": "execute_result"
    }
   ],
   "source": [
    "a.index(20)"
   ]
  },
  {
   "cell_type": "code",
   "execution_count": 551,
   "id": "aa14fcd6-df63-4c1e-84cc-0a08be96b223",
   "metadata": {},
   "outputs": [
    {
     "data": {
      "text/plain": [
       "20"
      ]
     },
     "execution_count": 551,
     "metadata": {},
     "output_type": "execute_result"
    }
   ],
   "source": [
    "a[10]"
   ]
  },
  {
   "cell_type": "code",
   "execution_count": 556,
   "id": "dfc283ca-b09a-405c-b268-9c6ba7eeb2e2",
   "metadata": {},
   "outputs": [
    {
     "data": {
      "text/plain": [
       "range(0, 10, 2)"
      ]
     },
     "execution_count": 556,
     "metadata": {},
     "output_type": "execute_result"
    }
   ],
   "source": [
    "a[:5]"
   ]
  },
  {
   "cell_type": "code",
   "execution_count": 557,
   "id": "70c4bb4a-0b45-44f8-8227-e4b6ae08d353",
   "metadata": {},
   "outputs": [
    {
     "data": {
      "text/plain": [
       "20"
      ]
     },
     "execution_count": 557,
     "metadata": {},
     "output_type": "execute_result"
    }
   ],
   "source": [
    "a[-1]"
   ]
  },
  {
   "cell_type": "code",
   "execution_count": 558,
   "id": "b9aa0977-2adf-4e95-9b0d-b19616b7fce9",
   "metadata": {},
   "outputs": [
    {
     "data": {
      "text/plain": [
       "[10, 20, 30, 40, 50]"
      ]
     },
     "execution_count": 558,
     "metadata": {},
     "output_type": "execute_result"
    }
   ],
   "source": [
    "list(range(10,51,10))"
   ]
  },
  {
   "cell_type": "code",
   "execution_count": 559,
   "id": "bc8e2864-be5b-4e16-b3dc-8cbf010984b9",
   "metadata": {},
   "outputs": [],
   "source": [
    "# list(range(1,51,1))"
   ]
  },
  {
   "cell_type": "code",
   "execution_count": 560,
   "id": "2f2fd9f5-9449-4183-9594-de7711f716eb",
   "metadata": {},
   "outputs": [
    {
     "name": "stdout",
     "output_type": "stream",
     "text": [
      "0\n",
      "1\n",
      "2\n",
      "3\n",
      "4\n"
     ]
    }
   ],
   "source": [
    "for i in range(5) : print(i)"
   ]
  },
  {
   "cell_type": "code",
   "execution_count": 561,
   "id": "09d9b383-3df3-4f7c-adbc-5101d204b2cd",
   "metadata": {},
   "outputs": [
    {
     "name": "stdout",
     "output_type": "stream",
     "text": [
      "2\n",
      "4\n",
      "6\n",
      "8\n",
      "10\n"
     ]
    }
   ],
   "source": [
    "for i in range(2,11,2) : print(i)"
   ]
  },
  {
   "cell_type": "code",
   "execution_count": 562,
   "id": "ea0ec142-5d02-421c-9fa7-6d21af5c0a86",
   "metadata": {},
   "outputs": [
    {
     "name": "stdout",
     "output_type": "stream",
     "text": [
      "10\n",
      "8\n",
      "6\n",
      "4\n"
     ]
    }
   ],
   "source": [
    "for i in range(10,2,-2) : print(i)"
   ]
  },
  {
   "cell_type": "code",
   "execution_count": 563,
   "id": "afbed526-e17b-4988-a8fe-53c6729e3a19",
   "metadata": {},
   "outputs": [
    {
     "name": "stdout",
     "output_type": "stream",
     "text": [
      "10\n",
      "8\n",
      "6\n",
      "4\n",
      "2\n"
     ]
    }
   ],
   "source": [
    "for i in range(10,1,-2) : print(i)"
   ]
  }
 ],
 "metadata": {
  "kernelspec": {
   "display_name": "Python 3 (ipykernel)",
   "language": "python",
   "name": "python3"
  },
  "language_info": {
   "codemirror_mode": {
    "name": "ipython",
    "version": 3
   },
   "file_extension": ".py",
   "mimetype": "text/x-python",
   "name": "python",
   "nbconvert_exporter": "python",
   "pygments_lexer": "ipython3",
   "version": "3.8.11"
  }
 },
 "nbformat": 4,
 "nbformat_minor": 5
}
