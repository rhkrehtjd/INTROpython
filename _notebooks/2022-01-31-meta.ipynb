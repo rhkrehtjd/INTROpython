{
 "cells": [
  {
   "cell_type": "markdown",
   "id": "89e8e6d7-572d-4b33-b5e4-8d4fbb0ebe02",
   "metadata": {},
   "source": [
    "# 정규 표현식3"
   ]
  },
  {
   "cell_type": "markdown",
   "id": "b64074fe-9941-48e2-bf3a-869f301165fe",
   "metadata": {},
   "source": [
    "- 정규식을 컴파일할 때 다음 옵션을 사용할 수 있다. \n",
    "  - DOTALL(S) - .이 줄바꿈 문자를 포함하여 모든 문자와 매치할 수 있도록 한다. \n",
    "  - IGNORCASE(I) - 대소문자에 관계없이 매치할 수 있도록 한다.\n",
    "  - MULTILINE(M) - 여러줄과 매치할 수 있도록 한다.(^,$ 메타 문자의 사용과 관계거가 있는 옵션이다.)\n",
    "  - VERBOSE (X) - verbose 모드를 사용할 수 있도록 한다. (정규식을 보기 편하게 만들 수 있고 주석 등을 사용할 수 있게 된다.)\n",
    "- 옵션을 사용할 때는 re.DOTALL처럼 전체 옵션 이름을 써도 되고, re.S처럼 약어를 써도 된다. \n",
    "- 위에서 괄호 안에 있는 문자들이 약어이다."
   ]
  },
  {
   "cell_type": "markdown",
   "id": "1ae2b7ac-6ebd-459b-8c85-1d615081e407",
   "metadata": {},
   "source": [
    "---"
   ]
  },
  {
   "cell_type": "markdown",
   "id": "369f810c-bc83-4607-862e-04afaf97c0a7",
   "metadata": {},
   "source": [
    "- DOTALL(S)\n",
    "  - .메타 문자는 줄바꿈 문자(\\n)를 제외한 모든 문자와 매치되는 규칙이 있다. 만약 \\n 문자도 포함하여 매치하고 싶다면 re.DOTALL 또는 re.S 옵션을 사용해 정규식을 컴파일하면 된다."
   ]
  },
  {
   "cell_type": "code",
   "execution_count": 1,
   "id": "6c0696a5-f807-495e-8938-2731c977ae2f",
   "metadata": {},
   "outputs": [
    {
     "name": "stdout",
     "output_type": "stream",
     "text": [
      "None\n"
     ]
    }
   ],
   "source": [
    "import re\n",
    "p = re.compile('a.b')\n",
    "m = p.match('a\\nb')\n",
    "print(m)"
   ]
  },
  {
   "cell_type": "markdown",
   "id": "8866e961-767e-4920-bfb0-74fe85bcb277",
   "metadata": {},
   "source": [
    "- 정규식이 a.b인 경우 문자연 a\\nb는 매치되지 않음을 알 수 있다. 왜냐하면 \\n은 .메타문자와 매치되지 않기 때문이다. \\n 문자와도 매치되게 하려면 다음과 같이 re.DOTALL 옵션을 사용해야 한다."
   ]
  },
  {
   "cell_type": "code",
   "execution_count": 2,
   "id": "fb9a871a-88d6-4f81-9805-b17730de620c",
   "metadata": {},
   "outputs": [
    {
     "name": "stdout",
     "output_type": "stream",
     "text": [
      "<re.Match object; span=(0, 3), match='a\\nb'>\n"
     ]
    }
   ],
   "source": [
    "p = re.compile('a.b',re.DOTALL)\n",
    "m = p.match('a\\nb')\n",
    "print(m)"
   ]
  },
  {
   "cell_type": "markdown",
   "id": "42b5ba46-b19a-479f-a84e-45599e90e1ac",
   "metadata": {},
   "source": [
    "- 보통 re.DOTALL 옵션은 여러 줄로 이루어진 문자열에서 \\n에 상관없이 검색할 때 많이 사용한다."
   ]
  },
  {
   "cell_type": "markdown",
   "id": "a5f9f53b-c877-4c63-95f0-9360d23f4043",
   "metadata": {},
   "source": [
    "---"
   ]
  },
  {
   "cell_type": "markdown",
   "id": "592127ff-d2e2-45da-b73e-7f93d3d3642a",
   "metadata": {},
   "source": [
    "- IGNORECASE(I)\n",
    "  - re.IGNORECASE 또는 re.I 옵션은 대소문자와 구별 없이 매치를 수행할 때 사용하는 옵션이다. "
   ]
  },
  {
   "cell_type": "code",
   "execution_count": 3,
   "id": "5970d37c-a18f-48a0-b694-ae379825acc3",
   "metadata": {},
   "outputs": [
    {
     "data": {
      "text/plain": [
       "<re.Match object; span=(0, 6), match='pYthon'>"
      ]
     },
     "execution_count": 3,
     "metadata": {},
     "output_type": "execute_result"
    }
   ],
   "source": [
    "p = re.compile('[a-z]+',re.I)\n",
    "p.match('python')\n",
    "p.match('Python')\n",
    "p.match('pYthon')"
   ]
  },
  {
   "cell_type": "markdown",
   "id": "e3cfda67-b274-4073-8010-3e691b4efe90",
   "metadata": {},
   "source": [
    "- [a-z]+ 정규식은 소문자만을 의미하지만 re.I 옵션으로 대소문자 구별 없이 매치된다."
   ]
  },
  {
   "cell_type": "markdown",
   "id": "e259b1c8-c9dd-480f-b0f1-04473433b4f5",
   "metadata": {},
   "source": [
    "---"
   ]
  },
  {
   "cell_type": "markdown",
   "id": "ce207c8e-deec-4235-af25-911bdc2797e6",
   "metadata": {},
   "source": [
    "- MULTILINE(M)\n",
    "  - re.MULTILINE 또는 re.M 옵션은 조금 후에 설명할 메타 문자인 `^,$` 와 연관된 옵션이다. 이 메타 문자에 대해 간단히 설명하자면 ^는 문자열의 처음을 의미하고 `$`는 문자열의 마지막을 의미한다. 예를 들어 정규식이 ^python인 경우 문자열의 처음은 항상 python으로 시작해야 매치되고, 만약 정규식이 python$ 이라면 문자열의 마지막은 항상 python으로 끝나야 매치된다는 의미이다."
   ]
  },
  {
   "cell_type": "code",
   "execution_count": 4,
   "id": "02b1a17e-59e4-443c-9c76-bb33fdef4c10",
   "metadata": {},
   "outputs": [
    {
     "name": "stdout",
     "output_type": "stream",
     "text": [
      "['python one']\n"
     ]
    }
   ],
   "source": [
    "import re\n",
    "p = re.compile('^python\\s\\w+')\n",
    "data = \"\"\"python one\n",
    "life is too short\n",
    "python two\n",
    "you need python\n",
    "python three\"\"\"\n",
    "print(p.findall(data))"
   ]
  },
  {
   "cell_type": "markdown",
   "id": "f47b2d88-81b5-44a5-b93a-7bd95e4a99d9",
   "metadata": {},
   "source": [
    "- 정규식 '^python\\s\\w+'은 python이라는 문자열로 시작하고 그 뒤에 whitespace, 그 뒤에 단어가 와야 한다는 의미이다. 검색할 문자열 data는 여러 줄로 이루어져 있다. \n",
    "- 따라서 위와 같은 결과가 반환되는 것이다. \n",
    "- ^ 메타 문자에 의해 python이라는 문자열을 사용한 첫 번째 줄만 매치된 것이다.\n",
    "- 하지만 ^ 메타 문자를 문자열 전체의 처음이 아니라 각 라인의 처음으로 인식시키고 싶은 경우도 있을 것이다. 이럴 때 사용할 수 있는 옵션이 바로 re.MULTILINE 또는 re.M이다."
   ]
  },
  {
   "cell_type": "code",
   "execution_count": 5,
   "id": "61f93414-b752-4397-905a-a369017ad335",
   "metadata": {},
   "outputs": [
    {
     "name": "stdout",
     "output_type": "stream",
     "text": [
      "['python one', 'python two', 'python three']\n"
     ]
    }
   ],
   "source": [
    "import re\n",
    "p = re.compile(\"^python\\s\\w+\", re.MULTILINE)\n",
    "\n",
    "data = \"\"\"python one\n",
    "life is too short\n",
    "python two\n",
    "you need python\n",
    "python three\"\"\"\n",
    "\n",
    "print(p.findall(data))"
   ]
  },
  {
   "cell_type": "markdown",
   "id": "d6b6ab5a-5ef9-4109-8887-e4d8b775bcc8",
   "metadata": {},
   "source": [
    "- re.MULTILINE 옵션으로 인해 ^ 메타 문자가 문자열 전체가 아닌 각 줄의 처음이라는 의미를 갖게 되었다. 이 스크립트를 실행하면 위와 같은 결과가 출력된다.-\n",
    "- 즉 re.MULTILINE 옵션은 ^, $ 메타 문자를 문자열의 각 줄마다 적용해 주는 것이다."
   ]
  },
  {
   "cell_type": "markdown",
   "id": "11b65c3d-9229-4360-b0d2-364389dc52e6",
   "metadata": {},
   "source": [
    "---"
   ]
  },
  {
   "cell_type": "markdown",
   "id": "2f542628-72e0-4bd0-b751-693b04d2cc98",
   "metadata": {},
   "source": [
    "- VERBOSE(X)\n",
    "  - 이해하기 어려운 정규식을 주석 또는 줄 단위로 구분할 수 있다면 얼마나 보기 좋고 이해하기 쉬울 것이다. 이를 위해 re.VERBOSE 또는 re.X 옵션을 사용하면 된다. \n",
    "  - 다음 예를 보자"
   ]
  },
  {
   "cell_type": "code",
   "execution_count": 6,
   "id": "97e8dcc4-d0c9-427a-a907-dd6eecdd0a4f",
   "metadata": {},
   "outputs": [],
   "source": [
    "charref = re.compile(r'&[#](0[0-7]+|[0-9]+|x[0-9a-fA-F]+);')"
   ]
  },
  {
   "cell_type": "markdown",
   "id": "ea1dfda7-4946-4f19-9493-ad8b835dc07f",
   "metadata": {},
   "source": [
    "- 이해하기 어렵다\n",
    "- 다음 예를 보자"
   ]
  },
  {
   "cell_type": "code",
   "execution_count": 7,
   "id": "2af8641b-d995-44b3-8686-86dbd651f0a8",
   "metadata": {},
   "outputs": [],
   "source": [
    "charref = re.compile(r\"\"\"\n",
    " &[#]                # Start of a numeric entity reference\n",
    " (\n",
    "     0[0-7]+         # Octal form\n",
    "   | [0-9]+          # Decimal form\n",
    "   | x[0-9a-fA-F]+   # Hexadecimal form\n",
    " )\n",
    " ;                   # Trailing semicolon\n",
    "\"\"\", re.VERBOSE)"
   ]
  },
  {
   "cell_type": "markdown",
   "id": "0395161f-b78f-40ad-8bc6-036533573edb",
   "metadata": {},
   "source": [
    "- 첫 번째와 두 번째 예를 비교해 보면 컴파일 된 패턴 객체인 charref는 모두 동일한 역할을 한다. 하지만 정규식이 복잡할 경우 두 번째처럼 주석을 적고 여러줄로 표현하는 것이 훨씬 가독성이 좋다는 것을 알 수 있다. \n",
    "- re.VERBOSE 옵션을 사용하면 문자열에 사용된 whitespace는 컴파일할 때 제거된다.(단 []안에 사용된 whitespace는 제외) 그리고 줄 단위로 # 기호를 사용하여 주석문을 작성할 수 있다. "
   ]
  },
  {
   "cell_type": "markdown",
   "id": "cf8408d0-9e42-413f-824e-04c3ec72dfef",
   "metadata": {},
   "source": [
    "---"
   ]
  },
  {
   "cell_type": "markdown",
   "id": "592bde96-913a-4448-9a76-a5c8fbb5eec9",
   "metadata": {},
   "source": [
    "- 백슬래시 issue\n",
    "  - 정규 표현식을 파이썬에서 사용할 때 혼란을 주는 요소가 한 가지 있는데 바로 백슬래시이다.\n",
    "  - 예를 들어보자\n",
    "  - \"\\selection\"문자열을 찾기 위한 정규식을 만든다고 가정해보자\n",
    "  ```python\n",
    "  \\selection\n",
    "  ```\n",
    "  - 이 정규식은 \\s 문자가 whitespace로 해석되어 의도한 대로 매치가 이루어지지 않는다. \n",
    "  - 위 표현은 다음과 동일한 의미이다. \n",
    "  ```python\n",
    "  [\\t\\n\\r\\f\\v]ection\n",
    "  ```\n",
    "  - 의도한 대로 매치하고 싶다면 다음과 같이 변경해야 한다. \n",
    "  ```python\n",
    "  \\\\section\n",
    "  ```\n",
    "  - 즉 위 정규식에서 사용한 \\ 문자가 문자열 자체임을 알려주기 위해 백슬래시 2개를 상요하여 이스케이프 처리를 해야한다 \n",
    "  - 다라서 위 정규식을 컴파일 하려면 다음과 같이 작성하는 것이 올바르다"
   ]
  },
  {
   "cell_type": "code",
   "execution_count": 9,
   "id": "59d29e28-fa2d-43b9-ae15-3de692726845",
   "metadata": {},
   "outputs": [],
   "source": [
    "p = re.compile('\\\\section')"
   ]
  },
  {
   "cell_type": "markdown",
   "id": "98eb0943-fa1a-4713-96bc-61d64ff3a675",
   "metadata": {},
   "source": [
    "- 그러나 이처럼 정규식을 만들어서 컴파일하면 실제 파이썬 정규식 엔진에는 파이썬 문자열 리터럴 규칙에 따라 \\\\이 \\로 변경되어 \\section이 전달된다. \n",
    "- 결국 정규식 엔진에 \\\\문자를 전달하려면 파이썬은 \\\\\\\\처럼 백슬래시를 4개 사용해야한다."
   ]
  },
  {
   "cell_type": "code",
   "execution_count": 10,
   "id": "5c825dab-9a30-4a39-a95c-b3aa0132038b",
   "metadata": {},
   "outputs": [],
   "source": [
    "p = re.compile('\\\\\\\\section')"
   ]
  },
  {
   "cell_type": "markdown",
   "id": "140d0e4e-e603-4d7a-b7fd-a5124e02f1da",
   "metadata": {},
   "source": [
    "- 이렇게 해야만 원하는 결과를 얻을 수 있다.\n",
    "- 상당히 복잡해보이기에 파이썬 정규식에는 Raw String 규칙이 생겨나게 되었다.\n",
    "- 즉 컴파일해야 하는 정규식이 Raw String임을 알려줄 수 있도록 파이썬 문법을 만든 것이다. \n",
    "- 방법은 다음과 같다. "
   ]
  },
  {
   "cell_type": "code",
   "execution_count": 11,
   "id": "3cb59dea-a190-42c2-8450-b711ddac352d",
   "metadata": {},
   "outputs": [],
   "source": [
    "p = re.compile(r'\\\\section')"
   ]
  },
  {
   "cell_type": "markdown",
   "id": "54942598-0663-4bac-89ce-2de245f9bd7e",
   "metadata": {},
   "source": [
    "- 위와 같이 정규식 문자열 앞에  r문자를 삽입하면 이 정규식은 RawString 규칙에 의하여 백슬래시 2개 대신 1개만 써도 2개를 쓴 것과 동일한 의미를 갖게 된다. \n",
    "- 만약 백슬래시를 사용하지 않는 정규식이라면 r의 유무에 상관없이 동일한 정규식이 될 것이다."
   ]
  }
 ],
 "metadata": {
  "kernelspec": {
   "display_name": "Python 3 (ipykernel)",
   "language": "python",
   "name": "python3"
  },
  "language_info": {
   "codemirror_mode": {
    "name": "ipython",
    "version": 3
   },
   "file_extension": ".py",
   "mimetype": "text/x-python",
   "name": "python",
   "nbconvert_exporter": "python",
   "pygments_lexer": "ipython3",
   "version": "3.8.11"
  }
 },
 "nbformat": 4,
 "nbformat_minor": 5
}
