{
 "cells": [
  {
   "cell_type": "markdown",
   "id": "d68198b3-f5de-4353-91a5-1f3683e026f2",
   "metadata": {},
   "source": [
    "# 2022/01/05/WED"
   ]
  },
  {
   "cell_type": "markdown",
   "id": "scenic-decimal",
   "metadata": {},
   "source": [
    "> #### ***`함수도 OBJECT이다`***"
   ]
  },
  {
   "cell_type": "code",
   "execution_count": 1,
   "id": "conventional-focus",
   "metadata": {},
   "outputs": [],
   "source": [
    "def myadd(a,b):\n",
    "    return a+b "
   ]
  },
  {
   "cell_type": "code",
   "execution_count": 2,
   "id": "social-stephen",
   "metadata": {},
   "outputs": [
    {
     "data": {
      "text/plain": [
       "3"
      ]
     },
     "execution_count": 2,
     "metadata": {},
     "output_type": "execute_result"
    }
   ],
   "source": [
    "myadd(1,2)"
   ]
  },
  {
   "cell_type": "code",
   "execution_count": 4,
   "id": "written-belize",
   "metadata": {},
   "outputs": [
    {
     "data": {
      "text/plain": [
       "\u001b[1;31mSignature:\u001b[0m \u001b[0mmyadd\u001b[0m\u001b[1;33m(\u001b[0m\u001b[0ma\u001b[0m\u001b[1;33m,\u001b[0m \u001b[0mb\u001b[0m\u001b[1;33m)\u001b[0m\u001b[1;33m\u001b[0m\u001b[1;33m\u001b[0m\u001b[0m\n",
       "\u001b[1;31mDocstring:\u001b[0m <no docstring>\n",
       "\u001b[1;31mFile:\u001b[0m      c:\\users\\ehfus\\appdata\\local\\temp\\ipykernel_16584\\4154224718.py\n",
       "\u001b[1;31mType:\u001b[0m      function\n"
      ]
     },
     "metadata": {},
     "output_type": "display_data"
    }
   ],
   "source": [
    "myadd?"
   ]
  },
  {
   "cell_type": "markdown",
   "id": "unauthorized-newcastle",
   "metadata": {},
   "source": [
    "`-` Type이 function"
   ]
  },
  {
   "cell_type": "markdown",
   "id": "figured-stock",
   "metadata": {},
   "source": [
    "`-` myadd 는 function class의 instance이다. "
   ]
  },
  {
   "cell_type": "markdown",
   "id": "middle-flour",
   "metadata": {},
   "source": [
    "`-` 결국 myadd 역시 하나의 오브젝트에 불과하다. "
   ]
  },
  {
   "cell_type": "markdown",
   "id": "hungry-groove",
   "metadata": {},
   "source": [
    "> ### higher-order function "
   ]
  },
  {
   "cell_type": "markdown",
   "id": "hydraulic-tuition",
   "metadata": {},
   "source": [
    "myadd의 입력 1,2는 int class의 인스턴스 오브젝트였음. "
   ]
  },
  {
   "cell_type": "markdown",
   "id": "announced-water",
   "metadata": {},
   "source": [
    "즉 문법의 논리로 보면 함수의 입력에 들어갈 수 있는것은 오브젝트이면 된다. "
   ]
  },
  {
   "cell_type": "markdown",
   "id": "covered-casting",
   "metadata": {},
   "source": [
    "그런데 함수 자체도 오브젝트이다 $\\to$ 함수도 함수의 입력으로 쓸 수 있다? "
   ]
  },
  {
   "cell_type": "markdown",
   "id": "native-disclosure",
   "metadata": {},
   "source": [
    "`-` 예제1"
   ]
  },
  {
   "cell_type": "code",
   "execution_count": 8,
   "id": "corrected-injury",
   "metadata": {},
   "outputs": [],
   "source": [
    "def calc(function,a,b):\n",
    "    return function(a,b)"
   ]
  },
  {
   "cell_type": "code",
   "execution_count": 9,
   "id": "peripheral-clear",
   "metadata": {},
   "outputs": [
    {
     "data": {
      "text/plain": [
       "0"
      ]
     },
     "execution_count": 9,
     "metadata": {},
     "output_type": "execute_result"
    }
   ],
   "source": [
    "calc(myadd,-3,3)"
   ]
  },
  {
   "cell_type": "markdown",
   "id": "fitting-proportion",
   "metadata": {},
   "source": [
    "이처럼 함수자체를 입력으로 받거나 출력으로 보내는 함수를 higher-order function이라고 한다. "
   ]
  },
  {
   "cell_type": "markdown",
   "id": "lonely-cabin",
   "metadata": {},
   "source": [
    "`-` 예제2"
   ]
  },
  {
   "cell_type": "markdown",
   "id": "inappropriate-optimum",
   "metadata": {},
   "source": [
    "미분: 아래의 함수 \n",
    "    \n",
    "$$f(x)=3x^2-2x+5$$ \n",
    "\n",
    "에서 $x=2$에의 접선의 기울기는 아래와 같이 대략적으로 구할 수 있다. \n",
    "\n",
    "$$\\frac{f(2+h)-f(2)}{h}, \\quad h=0.0000001$$"
   ]
  },
  {
   "cell_type": "markdown",
   "id": "demographic-civilian",
   "metadata": {},
   "source": [
    "$h$의 값을 더 0에 가깝게 만든다면 접선의 기울기의 정확도는 올라간다. "
   ]
  },
  {
   "cell_type": "markdown",
   "id": "coordinated-browse",
   "metadata": {},
   "source": [
    "미분에 익숙하다면 이론적으로 아래와 같이 $x=2$일때 접선의 기울기를 구할 수 있다. "
   ]
  },
  {
   "cell_type": "markdown",
   "id": "textile-russian",
   "metadata": {},
   "source": [
    "- $f'(x)=6x-2$\n",
    "- $f'(2)=12-2=10$"
   ]
  },
  {
   "cell_type": "markdown",
   "id": "colonial-billy",
   "metadata": {},
   "source": [
    "즉 $x=2$일때 이론적으로 구한 접선의 기울기값은 10이다. "
   ]
  },
  {
   "cell_type": "markdown",
   "id": "tired-least",
   "metadata": {},
   "source": [
    "미분을 계산해주는 코드를 구현하자. "
   ]
  },
  {
   "cell_type": "code",
   "execution_count": 10,
   "id": "removed-cover",
   "metadata": {},
   "outputs": [],
   "source": [
    "def f(x):\n",
    "    return 3*x**2-2*x+5"
   ]
  },
  {
   "cell_type": "code",
   "execution_count": 16,
   "id": "rational-expense",
   "metadata": {},
   "outputs": [],
   "source": [
    "def derivative(fx,x):\n",
    "    h=0.00000001\n",
    "    return (fx(x+h)-fx(x))/h"
   ]
  },
  {
   "cell_type": "code",
   "execution_count": 17,
   "id": "presidential-establishment",
   "metadata": {},
   "outputs": [
    {
     "data": {
      "text/plain": [
       "9.99999993922529"
      ]
     },
     "execution_count": 17,
     "metadata": {},
     "output_type": "execute_result"
    }
   ],
   "source": [
    "derivative(f,2)"
   ]
  },
  {
   "cell_type": "markdown",
   "id": "radio-trigger",
   "metadata": {},
   "source": [
    "`-` $g(x)=x^2$와 같은 함수를 미분하고 싶다면? "
   ]
  },
  {
   "cell_type": "code",
   "execution_count": 18,
   "id": "packed-mirror",
   "metadata": {},
   "outputs": [],
   "source": [
    "def g(x):\n",
    "    return x**2"
   ]
  },
  {
   "cell_type": "code",
   "execution_count": 19,
   "id": "basic-witness",
   "metadata": {},
   "outputs": [
    {
     "data": {
      "text/plain": [
       "1e-08"
      ]
     },
     "execution_count": 19,
     "metadata": {},
     "output_type": "execute_result"
    }
   ],
   "source": [
    "derivative(g,0)"
   ]
  }
 ],
 "metadata": {
  "kernelspec": {
   "display_name": "Python 3 (ipykernel)",
   "language": "python",
   "name": "python3"
  },
  "language_info": {
   "codemirror_mode": {
    "name": "ipython",
    "version": 3
   },
   "file_extension": ".py",
   "mimetype": "text/x-python",
   "name": "python",
   "nbconvert_exporter": "python",
   "pygments_lexer": "ipython3",
   "version": "3.8.11"
  }
 },
 "nbformat": 4,
 "nbformat_minor": 5
}
