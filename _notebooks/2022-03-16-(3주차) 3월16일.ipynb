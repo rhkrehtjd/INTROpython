{
 "cells": [
  {
   "cell_type": "markdown",
   "id": "afb3d19c-2e44-4b98-966c-3dee2e141431",
   "metadata": {
    "tags": []
   },
   "source": [
    "# (3주차) 3월16일\n",
    "> 튜플, 슬기롭게 튜플 사용하기 \n",
    "\n",
    "- toc:true\n",
    "- branch: master\n",
    "- badges: true\n",
    "- comments: true\n",
    "- author: 최규빈"
   ]
  },
  {
   "cell_type": "markdown",
   "id": "c7848e0c-e8e5-49c1-af00-2dc1c0e4237b",
   "metadata": {},
   "source": [
    "### 강의영상 "
   ]
  },
  {
   "cell_type": "markdown",
   "id": "c32e34f0-4f32-4630-9aca-832bd1ce0e95",
   "metadata": {},
   "source": [
    "> youtube: https://youtube.com/playlist?list=PLQqh36zP38-xzkiL-5YCO3U3G93agEjwR"
   ]
  },
  {
   "cell_type": "markdown",
   "id": "c907ecfe-411f-4f52-aa92-b634a87e7571",
   "metadata": {},
   "source": [
    "`-` (1/2) 튜플, 슬기롭게 튜플 사용하기 (1) \n",
    "\n",
    "`-` (2/2) 슬기롭게 튜플 사용하기 (2) "
   ]
  },
  {
   "cell_type": "markdown",
   "id": "6f16e39e-bdda-4877-86fd-28028938c48f",
   "metadata": {},
   "source": [
    "### 튜플 "
   ]
  },
  {
   "cell_type": "markdown",
   "id": "cba3b86b-cc87-408f-a96e-3a46c5fc1b5f",
   "metadata": {},
   "source": [
    "#### 리스트 vs 튜플 "
   ]
  },
  {
   "cell_type": "markdown",
   "id": "c4c4f362-07fc-4914-ae68-01be83319732",
   "metadata": {},
   "source": [
    "`-` 컨테이너형타입이라는 점, 그리고 연산 및 인덱싱을 하는 방법은 리스트와 같음 \n",
    "- 차이점1: [] 대신에 ()를 사용한다. \n",
    "- 차이점2: 불변형이다. (원소의 값을 바꿀 수 없음) \n",
    "- 차이점3: 하나의 원소를 선언할 때는 (1,)와 같이 해야 한다.\n",
    "- 차이점4: 의미가 명확할때는 튜플의 ()를 생략가능하다. "
   ]
  },
  {
   "cell_type": "markdown",
   "id": "b8f288bb-dd11-41a5-978d-ca52f6f2a5e2",
   "metadata": {},
   "source": [
    "`-` 컨테이너형이라는 것이 무슨의미? "
   ]
  },
  {
   "cell_type": "code",
   "execution_count": 8,
   "id": "4bf3c105-dfd2-4739-9d17-19bdb544c2bb",
   "metadata": {},
   "outputs": [],
   "source": [
    "a=(4,6,'pencil', 3.2+4.6j, [3,4]) "
   ]
  },
  {
   "cell_type": "code",
   "execution_count": 9,
   "id": "284d0c8b-55ea-4dce-8ed3-c46f41844037",
   "metadata": {},
   "outputs": [
    {
     "data": {
      "text/plain": [
       "str"
      ]
     },
     "execution_count": 9,
     "metadata": {},
     "output_type": "execute_result"
    }
   ],
   "source": [
    "type(a[2])"
   ]
  },
  {
   "cell_type": "code",
   "execution_count": 10,
   "id": "5eb9e9d1-390a-493f-be9a-eed1810636e0",
   "metadata": {},
   "outputs": [
    {
     "data": {
      "text/plain": [
       "complex"
      ]
     },
     "execution_count": 10,
     "metadata": {},
     "output_type": "execute_result"
    }
   ],
   "source": [
    "type(a[3])"
   ]
  },
  {
   "cell_type": "markdown",
   "id": "f4ef0555-c37c-4a49-869e-4447502cd448",
   "metadata": {},
   "source": [
    "`-` 불변형이라는 것은 무슨의미? "
   ]
  },
  {
   "cell_type": "code",
   "execution_count": 13,
   "id": "1dbe9763-203f-4a48-b041-25d78a59e89f",
   "metadata": {},
   "outputs": [
    {
     "ename": "TypeError",
     "evalue": "'tuple' object does not support item assignment",
     "output_type": "error",
     "traceback": [
      "\u001b[0;31m---------------------------------------------------------------------------\u001b[0m",
      "\u001b[0;31mTypeError\u001b[0m                                 Traceback (most recent call last)",
      "Input \u001b[0;32mIn [13]\u001b[0m, in \u001b[0;36m<cell line: 1>\u001b[0;34m()\u001b[0m\n\u001b[0;32m----> 1\u001b[0m a[\u001b[38;5;241m2\u001b[39m] \u001b[38;5;241m=\u001b[39m \u001b[38;5;124m'\u001b[39m\u001b[38;5;124mPencil\u001b[39m\u001b[38;5;124m'\u001b[39m\n",
      "\u001b[0;31mTypeError\u001b[0m: 'tuple' object does not support item assignment"
     ]
    }
   ],
   "source": [
    "a[2] = 'Pencil'"
   ]
  },
  {
   "cell_type": "markdown",
   "id": "5d32f024-0a1e-4fb1-b4a5-b59771a2ba52",
   "metadata": {},
   "source": [
    "참고로 a를 튜플이 아니라 리스트로 선언하면 값이 잘 바뀐다. "
   ]
  },
  {
   "cell_type": "code",
   "execution_count": 14,
   "id": "30c57909-f68d-49c1-870d-e1b61e98dab2",
   "metadata": {},
   "outputs": [],
   "source": [
    "a=[4,6,'pencil', 3.2+4.6j, [3,4]]"
   ]
  },
  {
   "cell_type": "code",
   "execution_count": 15,
   "id": "33cabb74-ca32-4ee0-ab9d-2df355fc5570",
   "metadata": {},
   "outputs": [
    {
     "data": {
      "text/plain": [
       "'pencil'"
      ]
     },
     "execution_count": 15,
     "metadata": {},
     "output_type": "execute_result"
    }
   ],
   "source": [
    "a[2]"
   ]
  },
  {
   "cell_type": "code",
   "execution_count": 16,
   "id": "170dac78-daec-43ae-b390-043a8003642f",
   "metadata": {},
   "outputs": [],
   "source": [
    "a[2]='Pencil'"
   ]
  },
  {
   "cell_type": "code",
   "execution_count": 17,
   "id": "a7800100-5d5b-4e16-8624-c2ba4324e54f",
   "metadata": {},
   "outputs": [
    {
     "data": {
      "text/plain": [
       "[4, 6, 'Pencil', (3.2+4.6j), [3, 4]]"
      ]
     },
     "execution_count": 17,
     "metadata": {},
     "output_type": "execute_result"
    }
   ],
   "source": [
    "a"
   ]
  },
  {
   "cell_type": "markdown",
   "id": "bd93027e-372c-46d5-9307-eaf818ef4139",
   "metadata": {},
   "source": [
    "`-` 하나의 원소로 이루어진 튜플을 만들때는 쉼표를 붙여야 함. "
   ]
  },
  {
   "cell_type": "code",
   "execution_count": 20,
   "id": "9b67fcf8-ae50-44a2-a1b2-3a1d2dad01a4",
   "metadata": {},
   "outputs": [
    {
     "data": {
      "text/plain": [
       "[1, 2, 3, 4]"
      ]
     },
     "execution_count": 20,
     "metadata": {},
     "output_type": "execute_result"
    }
   ],
   "source": [
    "[1]+[2,3,4]"
   ]
  },
  {
   "cell_type": "code",
   "execution_count": 24,
   "id": "dc8c98c3-b7b0-4e08-8fb4-8b83ca044212",
   "metadata": {},
   "outputs": [
    {
     "data": {
      "text/plain": [
       "(1, 2, 3, 4)"
      ]
     },
     "execution_count": 24,
     "metadata": {},
     "output_type": "execute_result"
    }
   ],
   "source": [
    "(1,)+(2,3,4)"
   ]
  },
  {
   "cell_type": "markdown",
   "id": "3983e8c0-dc7c-43df-a08b-2153f294c11d",
   "metadata": {},
   "source": [
    "`-` 마지막차이점! 의미가 명확할때 튜플의 괄호는 생략가능하다. (이게 중요합니다) "
   ]
  },
  {
   "cell_type": "code",
   "execution_count": 26,
   "id": "00458d41-ce6d-4028-938e-033946f4943b",
   "metadata": {},
   "outputs": [
    {
     "data": {
      "text/plain": [
       "(1, 2)"
      ]
     },
     "execution_count": 26,
     "metadata": {},
     "output_type": "execute_result"
    }
   ],
   "source": [
    "a=1,2\n",
    "a"
   ]
  },
  {
   "cell_type": "markdown",
   "id": "519d29e3-a1c7-4a8e-b83b-31f570cdc994",
   "metadata": {},
   "source": [
    "의미가 명확할때 생략해야함 "
   ]
  },
  {
   "cell_type": "code",
   "execution_count": 33,
   "id": "e729e8a2-035e-4061-b983-d9e4941e658d",
   "metadata": {},
   "outputs": [
    {
     "data": {
      "text/plain": [
       "(1, 5, 4, 5)"
      ]
     },
     "execution_count": 33,
     "metadata": {},
     "output_type": "execute_result"
    }
   ],
   "source": [
    "1,2 + 3,4,5 "
   ]
  },
  {
   "cell_type": "code",
   "execution_count": 34,
   "id": "f089c3f1-946d-4ac4-895a-f623a8d134cb",
   "metadata": {},
   "outputs": [
    {
     "data": {
      "text/plain": [
       "(1, 2, 3, 4, 5)"
      ]
     },
     "execution_count": 34,
     "metadata": {},
     "output_type": "execute_result"
    }
   ],
   "source": [
    "(1,2) + (3,4,5) "
   ]
  },
  {
   "cell_type": "markdown",
   "id": "ab68bd7a-d484-468d-8d60-532b359e5475",
   "metadata": {},
   "source": [
    "#### 선언 "
   ]
  },
  {
   "cell_type": "markdown",
   "id": "1de5749c-4b73-41c5-a276-7bc2314fe754",
   "metadata": {},
   "source": [
    "`-` 소괄호를 이용 "
   ]
  },
  {
   "cell_type": "code",
   "execution_count": 35,
   "id": "af74724d-49db-48f5-a66f-9cea411e5bdc",
   "metadata": {},
   "outputs": [
    {
     "data": {
      "text/plain": [
       "(1, 2, 3)"
      ]
     },
     "execution_count": 35,
     "metadata": {},
     "output_type": "execute_result"
    }
   ],
   "source": [
    "a=(1,2,3)\n",
    "a"
   ]
  },
  {
   "cell_type": "code",
   "execution_count": 36,
   "id": "c3a45884-baf1-43ed-9105-41216844e32b",
   "metadata": {},
   "outputs": [
    {
     "data": {
      "text/plain": [
       "tuple"
      ]
     },
     "execution_count": 36,
     "metadata": {},
     "output_type": "execute_result"
    }
   ],
   "source": [
    "type(a)"
   ]
  },
  {
   "cell_type": "markdown",
   "id": "922f2abc-ddb2-4366-8ee7-fcd697bad8c8",
   "metadata": {},
   "source": [
    "`-` 생략가능하다는 점이 포인트 "
   ]
  },
  {
   "cell_type": "code",
   "execution_count": 37,
   "id": "76c05204-8058-4e80-889e-932d4d7cc223",
   "metadata": {},
   "outputs": [
    {
     "data": {
      "text/plain": [
       "(1, 2, 3)"
      ]
     },
     "execution_count": 37,
     "metadata": {},
     "output_type": "execute_result"
    }
   ],
   "source": [
    "a=1,2,3\n",
    "a"
   ]
  },
  {
   "cell_type": "code",
   "execution_count": 38,
   "id": "ff182eb8-b25e-43e2-ab7d-57195d0eb866",
   "metadata": {},
   "outputs": [
    {
     "data": {
      "text/plain": [
       "tuple"
      ]
     },
     "execution_count": 38,
     "metadata": {},
     "output_type": "execute_result"
    }
   ],
   "source": [
    "type(a)"
   ]
  },
  {
   "cell_type": "markdown",
   "id": "5f1dff87-d403-414b-8f11-fa3c02edda86",
   "metadata": {},
   "source": [
    "`-` 원소가 하나인 튜플을 만들고 싶다면? "
   ]
  },
  {
   "cell_type": "code",
   "execution_count": 39,
   "id": "feec3062-d9d2-4ba1-8696-f310c163144f",
   "metadata": {},
   "outputs": [
    {
     "data": {
      "text/plain": [
       "(1,)"
      ]
     },
     "execution_count": 39,
     "metadata": {},
     "output_type": "execute_result"
    }
   ],
   "source": [
    "a=(1,)\n",
    "a"
   ]
  },
  {
   "cell_type": "markdown",
   "id": "456ef838-d95d-422b-8b89-b94137e303ed",
   "metadata": {},
   "source": [
    "#### 연산 "
   ]
  },
  {
   "cell_type": "markdown",
   "id": "0da3a43c-92ed-422f-8fb2-2e3a154f9d8d",
   "metadata": {},
   "source": [
    "`-` 리스트와 동일 "
   ]
  },
  {
   "cell_type": "code",
   "execution_count": 40,
   "id": "812f9b30-e880-4f2e-a325-96c6ceea15b0",
   "metadata": {},
   "outputs": [
    {
     "data": {
      "text/plain": [
       "(1, 2, 3, 4, 5)"
      ]
     },
     "execution_count": 40,
     "metadata": {},
     "output_type": "execute_result"
    }
   ],
   "source": [
    "(1,2)+(3,4,5)"
   ]
  },
  {
   "cell_type": "code",
   "execution_count": 41,
   "id": "dbfc14af-47de-4918-b464-9d08bd4ec5b8",
   "metadata": {},
   "outputs": [
    {
     "data": {
      "text/plain": [
       "(1, 2, 1, 2)"
      ]
     },
     "execution_count": 41,
     "metadata": {},
     "output_type": "execute_result"
    }
   ],
   "source": [
    "(1,2)*2"
   ]
  },
  {
   "cell_type": "markdown",
   "id": "f409d608-b083-484c-b114-54c10ba3a283",
   "metadata": {},
   "source": [
    "#### 인덱싱 "
   ]
  },
  {
   "cell_type": "markdown",
   "id": "41b921da-3167-4a6d-bae8-65329b71b4ac",
   "metadata": {},
   "source": [
    "`-` 리스트와 동일 "
   ]
  },
  {
   "cell_type": "code",
   "execution_count": 42,
   "id": "43153cdd-f7b4-49c0-94a2-d390f16fc692",
   "metadata": {},
   "outputs": [
    {
     "data": {
      "text/plain": [
       "(1, 2, 3, -4, -5)"
      ]
     },
     "execution_count": 42,
     "metadata": {},
     "output_type": "execute_result"
    }
   ],
   "source": [
    "a=(1,2,3,-4,-5)\n",
    "a"
   ]
  },
  {
   "cell_type": "code",
   "execution_count": 43,
   "id": "6b6fee9e-23c5-4be5-b1be-040a93d7fe02",
   "metadata": {},
   "outputs": [
    {
     "data": {
      "text/plain": [
       "-5"
      ]
     },
     "execution_count": 43,
     "metadata": {},
     "output_type": "execute_result"
    }
   ],
   "source": [
    "a[-1]"
   ]
  },
  {
   "cell_type": "code",
   "execution_count": 44,
   "id": "fa574e65-0ed5-4831-a6b3-a40085163917",
   "metadata": {},
   "outputs": [
    {
     "data": {
      "text/plain": [
       "(3, -4, -5)"
      ]
     },
     "execution_count": 44,
     "metadata": {},
     "output_type": "execute_result"
    }
   ],
   "source": [
    "a[-3:]"
   ]
  },
  {
   "cell_type": "markdown",
   "id": "ff036e79-f50e-4ae3-aeb6-d847167a27ab",
   "metadata": {},
   "source": [
    "### 튜플고급 "
   ]
  },
  {
   "cell_type": "markdown",
   "id": "e4118bbc-bff5-466b-82ac-b6d49fee1688",
   "metadata": {},
   "source": [
    "#### 튜플을 왜 불변형으로 만들었을까? \n",
    "- 책의설명: 실수로 값을 변경할 수 있도록 방지할 수 있다. \n",
    "- shallow copy / deep copy 를 막을 수 있는 무기 "
   ]
  },
  {
   "cell_type": "markdown",
   "id": "2bb2ca40-2ac5-4034-bea7-d874624c775c",
   "metadata": {},
   "source": [
    "#### 튜플을 슬기롭게 사용하는 방법 ($\\star\\star\\star\\star\\star$)"
   ]
  },
  {
   "cell_type": "markdown",
   "id": "1a50f3a9-b838-4436-bf37-a578ef028410",
   "metadata": {},
   "source": [
    "`-` 예제: 여러변수를 동시에 출력하고 싶을 경우 (다중출력?)"
   ]
  },
  {
   "cell_type": "markdown",
   "id": "bab74e15-1093-4f84-a719-35dea64b0421",
   "metadata": {},
   "source": [
    "변수를 아래와 같이 선언하였다고 하자. "
   ]
  },
  {
   "cell_type": "code",
   "execution_count": 45,
   "id": "13da891d-b6b7-41a9-8d34-6089308523e1",
   "metadata": {},
   "outputs": [],
   "source": [
    "a=1\n",
    "b=2\n",
    "c=3 "
   ]
  },
  {
   "cell_type": "markdown",
   "id": "db7a6afa-f861-4a1e-a6da-fc619a78ff7d",
   "metadata": {},
   "source": [
    "선언된 값을 확인하려면? "
   ]
  },
  {
   "cell_type": "code",
   "execution_count": 46,
   "id": "22f5ef39-057c-4911-80a6-55d58e79259c",
   "metadata": {},
   "outputs": [
    {
     "data": {
      "text/plain": [
       "1"
      ]
     },
     "execution_count": 46,
     "metadata": {},
     "output_type": "execute_result"
    }
   ],
   "source": [
    "a"
   ]
  },
  {
   "cell_type": "code",
   "execution_count": 47,
   "id": "a06bf26a-caba-46f5-95c0-1de3033faaf5",
   "metadata": {},
   "outputs": [
    {
     "data": {
      "text/plain": [
       "2"
      ]
     },
     "execution_count": 47,
     "metadata": {},
     "output_type": "execute_result"
    }
   ],
   "source": [
    "b"
   ]
  },
  {
   "cell_type": "code",
   "execution_count": 48,
   "id": "f9294e7f-b209-4790-b6fc-8b22691f8d78",
   "metadata": {},
   "outputs": [
    {
     "data": {
      "text/plain": [
       "3"
      ]
     },
     "execution_count": 48,
     "metadata": {},
     "output_type": "execute_result"
    }
   ],
   "source": [
    "c"
   ]
  },
  {
   "cell_type": "markdown",
   "id": "69e5a98f-cb09-4227-b971-abeba43aeb51",
   "metadata": {},
   "source": [
    "튜플을 이용하면? "
   ]
  },
  {
   "cell_type": "code",
   "execution_count": 51,
   "id": "8c2b89ef-d323-407b-b544-85382a3a0ce5",
   "metadata": {},
   "outputs": [
    {
     "data": {
      "text/plain": [
       "(1, 2, 3)"
      ]
     },
     "execution_count": 51,
     "metadata": {},
     "output_type": "execute_result"
    }
   ],
   "source": [
    "a,b,c # 괄호하나 생략하는것이 이렇게 편하다.."
   ]
  },
  {
   "cell_type": "markdown",
   "id": "b0696bc7-3308-44d2-bd92-732026529ec4",
   "metadata": {},
   "source": [
    "`-` 예제: 다중할당1 (여러개의 변수를 동시에 선언하고 싶을 경우) "
   ]
  },
  {
   "cell_type": "code",
   "execution_count": 52,
   "id": "1c657b9d-3eaf-467a-be18-d52eb84a7b97",
   "metadata": {},
   "outputs": [],
   "source": [
    "name, age, sex, height, weight = 'Tom', 20, 'M', 180, 70 "
   ]
  },
  {
   "cell_type": "code",
   "execution_count": 54,
   "id": "575a2210-955b-4d20-819b-72c7630d2a99",
   "metadata": {},
   "outputs": [
    {
     "data": {
      "text/plain": [
       "('Tom', 20, 'M', 180, 70)"
      ]
     },
     "execution_count": 54,
     "metadata": {},
     "output_type": "execute_result"
    }
   ],
   "source": [
    "name, age, sex, height, weight"
   ]
  },
  {
   "cell_type": "code",
   "execution_count": 56,
   "id": "4ec326a2-53eb-407a-86dd-0024344fe6af",
   "metadata": {},
   "outputs": [
    {
     "data": {
      "text/plain": [
       "180"
      ]
     },
     "execution_count": 56,
     "metadata": {},
     "output_type": "execute_result"
    }
   ],
   "source": [
    "height"
   ]
  },
  {
   "cell_type": "markdown",
   "id": "f02fb558-2cf1-4521-acbe-a94af8e2efe1",
   "metadata": {},
   "source": [
    "`-` 예제: 다중할당2, 위도와 경도"
   ]
  },
  {
   "cell_type": "code",
   "execution_count": 62,
   "id": "c5d1e618-69e9-49fc-ad2a-e1ad996bd853",
   "metadata": {},
   "outputs": [
    {
     "data": {
      "text/plain": [
       "(37, 127)"
      ]
     },
     "execution_count": 62,
     "metadata": {},
     "output_type": "execute_result"
    }
   ],
   "source": [
    "coor = (37,127) # 서울 \n",
    "coor"
   ]
  },
  {
   "cell_type": "code",
   "execution_count": 63,
   "id": "a207cf08-15de-4f88-96e1-33b3134b9cee",
   "metadata": {},
   "outputs": [],
   "source": [
    "lat, long = coor"
   ]
  },
  {
   "cell_type": "code",
   "execution_count": 64,
   "id": "73f26810-b658-457d-8e88-aa71537f422f",
   "metadata": {},
   "outputs": [
    {
     "data": {
      "text/plain": [
       "37"
      ]
     },
     "execution_count": 64,
     "metadata": {},
     "output_type": "execute_result"
    }
   ],
   "source": [
    "lat "
   ]
  },
  {
   "cell_type": "code",
   "execution_count": 65,
   "id": "2633e734-5c0c-4d5d-b5db-ed5769ce639e",
   "metadata": {},
   "outputs": [
    {
     "data": {
      "text/plain": [
       "127"
      ]
     },
     "execution_count": 65,
     "metadata": {},
     "output_type": "execute_result"
    }
   ],
   "source": [
    "long "
   ]
  },
  {
   "cell_type": "markdown",
   "id": "4a1fdac0-29ae-4544-b4ff-fb1eef8ed66d",
   "metadata": {},
   "source": [
    "`-` 잠깐만: 다중할당은 꼭 튜플에서만 가능한가? "
   ]
  },
  {
   "cell_type": "markdown",
   "id": "868b2e58-df6f-47a7-a929-5727e189e2dd",
   "metadata": {},
   "source": [
    "그건 아니다... "
   ]
  },
  {
   "cell_type": "code",
   "execution_count": 70,
   "id": "4eaac7c2-5281-4d0a-840b-5d8321d2cd33",
   "metadata": {},
   "outputs": [
    {
     "data": {
      "text/plain": [
       "(1, 2, 3)"
      ]
     },
     "execution_count": 70,
     "metadata": {},
     "output_type": "execute_result"
    }
   ],
   "source": [
    "[x,y,z] = [1,2,3] \n",
    "x,y,z # 다중출력 "
   ]
  },
  {
   "cell_type": "code",
   "execution_count": 71,
   "id": "b9fe43f7-1c29-4276-99ca-8b9b8bc0192a",
   "metadata": {},
   "outputs": [
    {
     "data": {
      "text/plain": [
       "('h', 'i')"
      ]
     },
     "execution_count": 71,
     "metadata": {},
     "output_type": "execute_result"
    }
   ],
   "source": [
    "[x,y] = 'hi'\n",
    "x,y "
   ]
  },
  {
   "cell_type": "markdown",
   "id": "d64160a7-7cff-48f2-9129-f827d8dc7fab",
   "metadata": {},
   "source": [
    "튜플과 같이 사용하면 가독성이 극대화 (그래서 다중할당은 거의 튜플과 세트로 사용함) "
   ]
  },
  {
   "cell_type": "code",
   "execution_count": 72,
   "id": "a6d7230b-c7c9-49e2-8694-42e2067f9eb4",
   "metadata": {},
   "outputs": [
    {
     "data": {
      "text/plain": [
       "(1, 2, 3)"
      ]
     },
     "execution_count": 72,
     "metadata": {},
     "output_type": "execute_result"
    }
   ],
   "source": [
    "x,y,z = 1,2,3\n",
    "x,y,z # 다중출력 "
   ]
  },
  {
   "cell_type": "code",
   "execution_count": 73,
   "id": "4dab1716-43f6-41b4-bb41-2f768a35cb7c",
   "metadata": {},
   "outputs": [
    {
     "data": {
      "text/plain": [
       "('h', 'i')"
      ]
     },
     "execution_count": 73,
     "metadata": {},
     "output_type": "execute_result"
    }
   ],
   "source": [
    "x,y = 'hi'\n",
    "x,y "
   ]
  },
  {
   "cell_type": "markdown",
   "id": "6145b9d1-e8fe-4ad9-bc66-a3ff541cd0ce",
   "metadata": {},
   "source": [
    "`-` 예제: 임시변수 사용없이 두 변수의 값을 교환 "
   ]
  },
  {
   "cell_type": "code",
   "execution_count": 66,
   "id": "bdeffe29-3d9c-4c95-9efc-01f63591602f",
   "metadata": {},
   "outputs": [],
   "source": [
    "a=10\n",
    "b=20"
   ]
  },
  {
   "cell_type": "code",
   "execution_count": 67,
   "id": "a872720e-577d-4d1e-af4a-25f6ef53e7ba",
   "metadata": {},
   "outputs": [],
   "source": [
    "a,b = b,a "
   ]
  },
  {
   "cell_type": "code",
   "execution_count": 68,
   "id": "082d27a2-8a51-442b-b00a-2fb4f462e861",
   "metadata": {},
   "outputs": [
    {
     "data": {
      "text/plain": [
       "20"
      ]
     },
     "execution_count": 68,
     "metadata": {},
     "output_type": "execute_result"
    }
   ],
   "source": [
    "a"
   ]
  },
  {
   "cell_type": "code",
   "execution_count": 69,
   "id": "33533abc-018f-4088-ba1e-6159636ad5bb",
   "metadata": {},
   "outputs": [
    {
     "data": {
      "text/plain": [
       "10"
      ]
     },
     "execution_count": 69,
     "metadata": {},
     "output_type": "execute_result"
    }
   ],
   "source": [
    "b"
   ]
  },
  {
   "cell_type": "markdown",
   "id": "ee7fac23-e95c-4081-81e6-bf8cac4fbcbd",
   "metadata": {},
   "source": [
    "`-` 예제: for문과 튜플"
   ]
  },
  {
   "cell_type": "code",
   "execution_count": 74,
   "id": "c11cf841-0bee-4af1-8c6c-b91845f133af",
   "metadata": {},
   "outputs": [
    {
     "data": {
      "text/plain": [
       "[['guebin', 202112345, 'M'],\n",
       " ['iu', 202254321, 'F'],\n",
       " ['hodong', 202011223, 'M']]"
      ]
     },
     "execution_count": 74,
     "metadata": {},
     "output_type": "execute_result"
    }
   ],
   "source": [
    "lst = [['guebin', 202112345, 'M'],\n",
    "       ['iu',202254321, 'F'],\n",
    "       ['hodong', 202011223, 'M']]\n",
    "lst"
   ]
  },
  {
   "cell_type": "code",
   "execution_count": 76,
   "id": "0dde0c9e-637d-4229-84a1-2f66cc132eeb",
   "metadata": {},
   "outputs": [
    {
     "name": "stdout",
     "output_type": "stream",
     "text": [
      "['guebin', 202112345, 'M']\n",
      "['iu', 202254321, 'F']\n",
      "['hodong', 202011223, 'M']\n"
     ]
    }
   ],
   "source": [
    "for i in lst: \n",
    "    print(i)"
   ]
  },
  {
   "cell_type": "code",
   "execution_count": 81,
   "id": "8fc42f6a-16ab-4ba1-9e7a-d5540c36e900",
   "metadata": {},
   "outputs": [
    {
     "name": "stdout",
     "output_type": "stream",
     "text": [
      "guebin\n",
      "iu\n",
      "hodong\n"
     ]
    }
   ],
   "source": [
    "for name,studentid,sex in lst: \n",
    "    print(name)"
   ]
  },
  {
   "cell_type": "code",
   "execution_count": 82,
   "id": "73ca2e7e-63f3-4c4a-9f6a-4ae04c30e518",
   "metadata": {},
   "outputs": [
    {
     "name": "stdout",
     "output_type": "stream",
     "text": [
      "guebin M\n",
      "iu F\n",
      "hodong M\n"
     ]
    }
   ],
   "source": [
    "for name,studentid,sex in lst: \n",
    "    print(name,sex)"
   ]
  },
  {
   "cell_type": "markdown",
   "id": "5d55730a-0222-48b6-aef8-a8040f3f9072",
   "metadata": {},
   "source": [
    "`-` 예제: for문과 튜플, dummy variable `_` "
   ]
  },
  {
   "cell_type": "code",
   "execution_count": 84,
   "id": "a34d2a6a-421f-4f64-9beb-58891fbfa28c",
   "metadata": {},
   "outputs": [
    {
     "name": "stdout",
     "output_type": "stream",
     "text": [
      "202112345\n",
      "202254321\n",
      "202011223\n"
     ]
    }
   ],
   "source": [
    "for name,studentid,sex in lst: \n",
    "    print(studentid)"
   ]
  },
  {
   "cell_type": "code",
   "execution_count": 85,
   "id": "83ec34b0-41ee-4c25-9a6c-1342791b7351",
   "metadata": {},
   "outputs": [
    {
     "name": "stdout",
     "output_type": "stream",
     "text": [
      "202112345\n",
      "202254321\n",
      "202011223\n"
     ]
    }
   ],
   "source": [
    "for _,studentid,_ in lst: \n",
    "    print(studentid)"
   ]
  },
  {
   "cell_type": "code",
   "execution_count": 86,
   "id": "283e1d50-3760-4f8e-8278-35a03e425542",
   "metadata": {},
   "outputs": [
    {
     "name": "stdout",
     "output_type": "stream",
     "text": [
      "M\n",
      "F\n",
      "M\n"
     ]
    }
   ],
   "source": [
    "for _,_,sex in lst: \n",
    "    print(sex)"
   ]
  },
  {
   "cell_type": "code",
   "execution_count": 87,
   "id": "48fbce1f-0e96-4ef1-b268-752a2eb9751b",
   "metadata": {},
   "outputs": [
    {
     "name": "stdout",
     "output_type": "stream",
     "text": [
      "guebin M\n",
      "iu F\n",
      "hodong M\n"
     ]
    }
   ],
   "source": [
    "for name,_,sex in lst: \n",
    "    print(name,sex)"
   ]
  },
  {
   "cell_type": "code",
   "execution_count": 88,
   "id": "1ff6fe0b-65f5-418e-b088-11cab154519a",
   "metadata": {},
   "outputs": [
    {
     "ename": "ValueError",
     "evalue": "too many values to unpack (expected 2)",
     "output_type": "error",
     "traceback": [
      "\u001b[0;31m---------------------------------------------------------------------------\u001b[0m",
      "\u001b[0;31mValueError\u001b[0m                                Traceback (most recent call last)",
      "Input \u001b[0;32mIn [88]\u001b[0m, in \u001b[0;36m<cell line: 1>\u001b[0;34m()\u001b[0m\n\u001b[0;32m----> 1\u001b[0m \u001b[38;5;28;01mfor\u001b[39;00m name,_  \u001b[38;5;129;01min\u001b[39;00m lst: \n\u001b[1;32m      2\u001b[0m     \u001b[38;5;28mprint\u001b[39m(name)\n",
      "\u001b[0;31mValueError\u001b[0m: too many values to unpack (expected 2)"
     ]
    }
   ],
   "source": [
    "for name,_  in lst: \n",
    "    print(name)"
   ]
  },
  {
   "cell_type": "code",
   "execution_count": 89,
   "id": "3b09bccb-9aac-4835-8308-8b8f3dc1e28c",
   "metadata": {},
   "outputs": [
    {
     "name": "stdout",
     "output_type": "stream",
     "text": [
      "guebin\n",
      "iu\n",
      "hodong\n"
     ]
    }
   ],
   "source": [
    "for name,*args  in lst: \n",
    "    print(name)"
   ]
  },
  {
   "cell_type": "markdown",
   "id": "c992f687-7367-4f94-9a4e-783d3ea66041",
   "metadata": {},
   "source": [
    "`-` 예제: 튜플과 언패킹연산자 `*` "
   ]
  },
  {
   "cell_type": "code",
   "execution_count": 95,
   "id": "58f6ff04-f04a-4c84-beed-dec4a6022ea0",
   "metadata": {},
   "outputs": [
    {
     "data": {
      "text/plain": [
       "(1, 2, [3, 4, 5, 6, 7, 8, 9, 10])"
      ]
     },
     "execution_count": 95,
     "metadata": {},
     "output_type": "execute_result"
    }
   ],
   "source": [
    "head, body, *tail = range(1,11) \n",
    "head, body, tail"
   ]
  },
  {
   "cell_type": "code",
   "execution_count": 96,
   "id": "25dd535a-0cb1-4a08-8d86-a8ef3c884845",
   "metadata": {},
   "outputs": [
    {
     "data": {
      "text/plain": [
       "(1, 2, [3, 4, 5, 6, 7], 8, 9, 10)"
      ]
     },
     "execution_count": 96,
     "metadata": {},
     "output_type": "execute_result"
    }
   ],
   "source": [
    "head1,head2, *body, tail1,tail2,tail3 = range(1,11) \n",
    "head1,head2, body, tail1,tail2,tail3 "
   ]
  },
  {
   "cell_type": "code",
   "execution_count": 99,
   "id": "17f99c83-d6bd-4810-afe9-ec530e5c5ef7",
   "metadata": {},
   "outputs": [
    {
     "data": {
      "text/plain": [
       "([1, 2, 3, 4, 5, 6, 7, 8], 9, 10)"
      ]
     },
     "execution_count": 99,
     "metadata": {},
     "output_type": "execute_result"
    }
   ],
   "source": [
    "*head, body, tail = range(1,11) \n",
    "head, body, tail"
   ]
  },
  {
   "cell_type": "markdown",
   "id": "beddd8ad-4e26-43b7-b5e7-45bf0549db2e",
   "metadata": {},
   "source": [
    "(관찰) "
   ]
  },
  {
   "cell_type": "markdown",
   "id": "553673bf-b4bb-466f-bf8f-532419f7074c",
   "metadata": {},
   "source": [
    "그러고 보니까.. \n",
    "```python\n",
    "head1,head2, body, tail1,tail2,tail3  = (1, 2, [3,4,5,6,7], 8, 9, 10)\n",
    "head1,head2, *body, tail1,tail2,tail3   = (1, 2, 3,4,5,6,7, 8, 9, 10)\n",
    "```\n",
    "이렇다는 거잖아? "
   ]
  },
  {
   "cell_type": "markdown",
   "id": "a11b994c-ce50-4992-83ff-305cd427a147",
   "metadata": {},
   "source": [
    "`*`를 붙이면 1차원 자료구조가 풀린다..? "
   ]
  },
  {
   "cell_type": "code",
   "execution_count": 103,
   "id": "01c21c6a-ab3a-4e41-a94b-814b155d6647",
   "metadata": {},
   "outputs": [
    {
     "ename": "SyntaxError",
     "evalue": "can't use starred expression here (386627056.py, line 1)",
     "output_type": "error",
     "traceback": [
      "\u001b[0;36m  Input \u001b[0;32mIn [103]\u001b[0;36m\u001b[0m\n\u001b[0;31m    *[1,2,3]\u001b[0m\n\u001b[0m    ^\u001b[0m\n\u001b[0;31mSyntaxError\u001b[0m\u001b[0;31m:\u001b[0m can't use starred expression here\n"
     ]
    }
   ],
   "source": [
    "*[1,2,3]"
   ]
  },
  {
   "cell_type": "code",
   "execution_count": 104,
   "id": "53a248bd-5f86-45fe-a453-12e96a08e784",
   "metadata": {},
   "outputs": [
    {
     "name": "stdout",
     "output_type": "stream",
     "text": [
      "[1, 2, 3]\n"
     ]
    }
   ],
   "source": [
    "print([1,2,3])"
   ]
  },
  {
   "cell_type": "code",
   "execution_count": 106,
   "id": "4a0468d4-3fb6-45a5-a350-573cd9a1902a",
   "metadata": {},
   "outputs": [
    {
     "name": "stdout",
     "output_type": "stream",
     "text": [
      "1 2 3\n"
     ]
    }
   ],
   "source": [
    "print(*[1,2,3]) ## 이런 느낌이란 말이지.."
   ]
  },
  {
   "cell_type": "markdown",
   "id": "2d7b27b6-39ed-4589-9a8f-9c4cc9b6bc3d",
   "metadata": {},
   "source": [
    "`-` 예제: 함수의 입력으로 `*args`를 넣을때 "
   ]
  },
  {
   "cell_type": "markdown",
   "id": "d1634c8d-836a-4518-9399-9881a29c36a7",
   "metadata": {},
   "source": [
    "[예비학습] 함수 벼락치기 "
   ]
  },
  {
   "cell_type": "code",
   "execution_count": 107,
   "id": "14d0875d-888f-4da3-aa68-ff861c8713c1",
   "metadata": {},
   "outputs": [],
   "source": [
    "def myadd(a,b): \n",
    "    return a+b "
   ]
  },
  {
   "cell_type": "code",
   "execution_count": 109,
   "id": "6635f7b6-388b-4100-8eb3-fc3286a40e91",
   "metadata": {},
   "outputs": [
    {
     "data": {
      "text/plain": [
       "0"
      ]
     },
     "execution_count": 109,
     "metadata": {},
     "output_type": "execute_result"
    }
   ],
   "source": [
    "myadd(3,-3)"
   ]
  },
  {
   "cell_type": "markdown",
   "id": "47c97b46-d937-46ef-b292-8c8f8edc5270",
   "metadata": {},
   "source": [
    "벼락치기 끝 "
   ]
  },
  {
   "cell_type": "markdown",
   "id": "ee6232e3-a987-467a-9611-01dcd0e0282d",
   "metadata": {},
   "source": [
    "예제시작: 두점 사이의 거리를 구하는 함수를 만들어 보자. "
   ]
  },
  {
   "cell_type": "markdown",
   "id": "8131bbca-0587-4e34-8d88-fb858ec9aa8e",
   "metadata": {},
   "source": [
    "점 $p=(p_x,p_y)$와 $q=(q_x,q_y)$의 거리는 $\\sqrt{(p_x-q_x)^2+(p_y-q_y)^2}$이다. 이것을 계산하는 프로그램을 만들자. "
   ]
  },
  {
   "cell_type": "code",
   "execution_count": 117,
   "id": "02fd88cb-7c12-4c6d-8ba5-0eb8ed81a52d",
   "metadata": {},
   "outputs": [],
   "source": [
    "import numpy as np \n",
    "def dist(px,py,qx,qy): \n",
    "    return np.sqrt((px-qx)**2 + (py-qy)**2)"
   ]
  },
  {
   "cell_type": "code",
   "execution_count": 119,
   "id": "366bc1d4-4813-4f79-b126-601f9a0809fe",
   "metadata": {},
   "outputs": [
    {
     "ename": "TypeError",
     "evalue": "dist() missing 2 required positional arguments: 'qx' and 'qy'",
     "output_type": "error",
     "traceback": [
      "\u001b[0;31m---------------------------------------------------------------------------\u001b[0m",
      "\u001b[0;31mTypeError\u001b[0m                                 Traceback (most recent call last)",
      "Input \u001b[0;32mIn [119]\u001b[0m, in \u001b[0;36m<cell line: 3>\u001b[0;34m()\u001b[0m\n\u001b[1;32m      1\u001b[0m p\u001b[38;5;241m=\u001b[39m(\u001b[38;5;241m0\u001b[39m,\u001b[38;5;241m3\u001b[39m)\n\u001b[1;32m      2\u001b[0m q\u001b[38;5;241m=\u001b[39m(\u001b[38;5;241m4\u001b[39m,\u001b[38;5;241m0\u001b[39m)\n\u001b[0;32m----> 3\u001b[0m \u001b[43mdist\u001b[49m\u001b[43m(\u001b[49m\u001b[43mp\u001b[49m\u001b[43m,\u001b[49m\u001b[43mq\u001b[49m\u001b[43m)\u001b[49m\n",
      "\u001b[0;31mTypeError\u001b[0m: dist() missing 2 required positional arguments: 'qx' and 'qy'"
     ]
    }
   ],
   "source": [
    "p=(0,3)\n",
    "q=(4,0)\n",
    "dist(p,q)"
   ]
  },
  {
   "cell_type": "markdown",
   "id": "0e96145f-2a13-47ec-acdb-b1dbcc5603b4",
   "metadata": {},
   "source": [
    "(방법1)"
   ]
  },
  {
   "cell_type": "code",
   "execution_count": 121,
   "id": "54868343-5396-44b1-b6eb-ac2cc438c7c1",
   "metadata": {},
   "outputs": [
    {
     "data": {
      "text/plain": [
       "5.0"
      ]
     },
     "execution_count": 121,
     "metadata": {},
     "output_type": "execute_result"
    }
   ],
   "source": [
    "px,py = (0,3)\n",
    "qx,qy = (4,0) \n",
    "dist(px,py,qx,qy)"
   ]
  },
  {
   "cell_type": "markdown",
   "id": "cfba1668-38f7-4472-b481-e8e99faff6ec",
   "metadata": {},
   "source": [
    "(방법2)"
   ]
  },
  {
   "cell_type": "code",
   "execution_count": 128,
   "id": "190a4add-6cfc-47bc-9286-9db71d8fada6",
   "metadata": {},
   "outputs": [],
   "source": [
    "def dist2(p,q):\n",
    "    px,py = p \n",
    "    qx,qy = q \n",
    "    return np.sqrt((px-qx)**2 + (py-qy)**2)\n",
    "\n",
    "### 이건 나쁜 생각이에요.. \n",
    "# def dist2(p,q):\n",
    "#     px=p[0]\n",
    "#     py=p[1]\n",
    "#     qx=q[0]\n",
    "#     qy=q[1]\n",
    "#     return np.sqrt((px-qx)**2 + (py-qy)**2)"
   ]
  },
  {
   "cell_type": "code",
   "execution_count": 129,
   "id": "d9cd7ed8-e9d9-44a8-bd3b-e2f00f4cf424",
   "metadata": {},
   "outputs": [
    {
     "data": {
      "text/plain": [
       "5.0"
      ]
     },
     "execution_count": 129,
     "metadata": {},
     "output_type": "execute_result"
    }
   ],
   "source": [
    "p=(0,3)\n",
    "q=(4,0)\n",
    "dist2(p,q)"
   ]
  },
  {
   "cell_type": "markdown",
   "id": "b1911c99-4df1-4a6f-81bf-b4aa02ef72a6",
   "metadata": {},
   "source": [
    "(방법3)"
   ]
  },
  {
   "cell_type": "code",
   "execution_count": 134,
   "id": "8d7f59ec-7523-4c61-812a-f661201c0055",
   "metadata": {},
   "outputs": [
    {
     "data": {
      "text/plain": [
       "5.0"
      ]
     },
     "execution_count": 134,
     "metadata": {},
     "output_type": "execute_result"
    }
   ],
   "source": [
    "dist(*p,*q) # 입력을 *(px,py), *(qx,qy) 형태로 넣기도하고.. "
   ]
  },
  {
   "cell_type": "code",
   "execution_count": 135,
   "id": "3c0ccd49-e557-4e62-8dd3-c50fdea513ac",
   "metadata": {},
   "outputs": [
    {
     "data": {
      "text/plain": [
       "5.0"
      ]
     },
     "execution_count": 135,
     "metadata": {},
     "output_type": "execute_result"
    }
   ],
   "source": [
    "dist(px,py,qx,qy) # 입력을 px,py,qx,qy 형태로 넣기도하고.. "
   ]
  },
  {
   "cell_type": "markdown",
   "id": "dbe73ecd-d7a3-4e3a-80d1-fb9fca77af13",
   "metadata": {},
   "source": [
    "(숙제) 원소로 자기학번을 포함하는 튜플을 만들어서 제출 (길이가 1인 튜플을 만들어서 제출) "
   ]
  }
 ],
 "metadata": {
  "kernelspec": {
   "display_name": "Python 3 (ipykernel)",
   "language": "python",
   "name": "python3"
  },
  "language_info": {
   "codemirror_mode": {
    "name": "ipython",
    "version": 3
   },
   "file_extension": ".py",
   "mimetype": "text/x-python",
   "name": "python",
   "nbconvert_exporter": "python",
   "pygments_lexer": "ipython3",
   "version": "3.9.10"
  }
 },
 "nbformat": 4,
 "nbformat_minor": 5
}
