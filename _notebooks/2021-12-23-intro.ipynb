{
 "cells": [
  {
   "cell_type": "markdown",
   "id": "cca7d0be-52b1-4ad0-a4e0-7aa1c7c08692",
   "metadata": {},
   "source": [
    "### `2022/12/23/THU`"
   ]
  },
  {
   "cell_type": "code",
   "execution_count": 5,
   "id": "2b923c5b-f1ec-4a47-8a62-54ac69175298",
   "metadata": {},
   "outputs": [],
   "source": [
    "s='''python\n",
    "\n",
    "'''"
   ]
  },
  {
   "cell_type": "code",
   "execution_count": 6,
   "id": "bf84ea23-936c-46fb-8c2e-8096fc25fe83",
   "metadata": {},
   "outputs": [
    {
     "data": {
      "text/plain": [
       "'python\\n\\n'"
      ]
     },
     "execution_count": 6,
     "metadata": {},
     "output_type": "execute_result"
    }
   ],
   "source": [
    "s"
   ]
  },
  {
   "cell_type": "code",
   "execution_count": 7,
   "id": "4449dc06-89a5-4bed-abcf-8f0cf26f4d35",
   "metadata": {},
   "outputs": [
    {
     "name": "stdout",
     "output_type": "stream",
     "text": [
      "python\n",
      "\n",
      "\n"
     ]
    }
   ],
   "source": [
    "print(s)"
   ]
  },
  {
   "cell_type": "markdown",
   "id": "838357fd-ed74-41e8-b9bb-3e38302a8974",
   "metadata": {},
   "source": [
    "> ''' => 긴 str배정, 그리고 \\n\\n은 두줄이 들어갔음을 알려준 것"
   ]
  },
  {
   "cell_type": "code",
   "execution_count": 8,
   "id": "d2f2a356-7844-4196-a826-b9ec2f8e1237",
   "metadata": {},
   "outputs": [],
   "source": [
    "s='python'"
   ]
  },
  {
   "cell_type": "code",
   "execution_count": 10,
   "id": "948d4df1-6c8c-4f13-b58d-14fd0643ac7e",
   "metadata": {},
   "outputs": [
    {
     "data": {
      "text/plain": [
       "'Python'"
      ]
     },
     "execution_count": 10,
     "metadata": {},
     "output_type": "execute_result"
    }
   ],
   "source": [
    "s.capitalize()"
   ]
  },
  {
   "cell_type": "code",
   "execution_count": 11,
   "id": "374260f2-d90c-480e-90d5-a36573f91d05",
   "metadata": {},
   "outputs": [
    {
     "data": {
      "text/plain": [
       "1"
      ]
     },
     "execution_count": 11,
     "metadata": {},
     "output_type": "execute_result"
    }
   ],
   "source": [
    "s.find('y')"
   ]
  },
  {
   "cell_type": "code",
   "execution_count": 12,
   "id": "1dc05288-f154-4712-9283-557a59bd0f63",
   "metadata": {},
   "outputs": [
    {
     "data": {
      "text/plain": [
       "-1"
      ]
     },
     "execution_count": 12,
     "metadata": {},
     "output_type": "execute_result"
    }
   ],
   "source": [
    "# -1은 문자가 존재하지 않을 때\n",
    "s.find('a')"
   ]
  },
  {
   "cell_type": "code",
   "execution_count": 14,
   "id": "f9494930-f1e0-44a3-a587-08425a13e94f",
   "metadata": {},
   "outputs": [
    {
     "ename": "ValueError",
     "evalue": "substring not found",
     "output_type": "error",
     "traceback": [
      "\u001b[1;31m---------------------------------------------------------------------------\u001b[0m",
      "\u001b[1;31mValueError\u001b[0m                                Traceback (most recent call last)",
      "\u001b[1;32m~\\AppData\\Local\\Temp/ipykernel_7636/2338996384.py\u001b[0m in \u001b[0;36m<module>\u001b[1;34m\u001b[0m\n\u001b[0;32m      1\u001b[0m \u001b[1;31m# find와 유사하나 index는 없으면 -1이 아니라 error발생\u001b[0m\u001b[1;33m\u001b[0m\u001b[1;33m\u001b[0m\u001b[1;33m\u001b[0m\u001b[0m\n\u001b[1;32m----> 2\u001b[1;33m \u001b[0ms\u001b[0m\u001b[1;33m.\u001b[0m\u001b[0mindex\u001b[0m\u001b[1;33m(\u001b[0m\u001b[1;34m'a'\u001b[0m\u001b[1;33m)\u001b[0m\u001b[1;33m\u001b[0m\u001b[1;33m\u001b[0m\u001b[0m\n\u001b[0m",
      "\u001b[1;31mValueError\u001b[0m: substring not found"
     ]
    }
   ],
   "source": [
    "# find와 유사하나 index는 없으면 -1이 아니라 error발생\n",
    "s.index('a')"
   ]
  },
  {
   "cell_type": "markdown",
   "id": "84586b30-9271-4084-b40c-3e88bc790384",
   "metadata": {},
   "source": [
    "> index 또는 find 사용시 단어가 중복되면 처음 거 기준 출력"
   ]
  },
  {
   "cell_type": "code",
   "execution_count": 15,
   "id": "8a749e7a-2a03-4e51-a163-ca66003afe7d",
   "metadata": {},
   "outputs": [],
   "source": [
    "a='pyathaon'"
   ]
  },
  {
   "cell_type": "code",
   "execution_count": 16,
   "id": "5f6c908c-3638-4e6c-865f-97b2a0282232",
   "metadata": {},
   "outputs": [
    {
     "data": {
      "text/plain": [
       "2"
      ]
     },
     "execution_count": 16,
     "metadata": {},
     "output_type": "execute_result"
    }
   ],
   "source": [
    "a.find('a')"
   ]
  },
  {
   "cell_type": "code",
   "execution_count": 17,
   "id": "68c88612-a42b-4fe7-8755-3bd757a224b0",
   "metadata": {},
   "outputs": [
    {
     "data": {
      "text/plain": [
       "2"
      ]
     },
     "execution_count": 17,
     "metadata": {},
     "output_type": "execute_result"
    }
   ],
   "source": [
    "a.index('a')"
   ]
  },
  {
   "cell_type": "code",
   "execution_count": 18,
   "id": "8313107d-012a-459f-8a36-80626b581b4c",
   "metadata": {},
   "outputs": [
    {
     "data": {
      "text/plain": [
       "True"
      ]
     },
     "execution_count": 18,
     "metadata": {},
     "output_type": "execute_result"
    }
   ],
   "source": [
    "# a라는 str이 알파벳으로만 이루어졌는지?\n",
    "a.isalpha()"
   ]
  },
  {
   "cell_type": "code",
   "execution_count": 42,
   "id": "3c4c52dc-5d1d-4a26-b38e-8a6b4d15ccff",
   "metadata": {},
   "outputs": [],
   "source": [
    "s='asd3'"
   ]
  },
  {
   "cell_type": "code",
   "execution_count": 48,
   "id": "18a5626a-0006-4bde-b685-52dd05d69e67",
   "metadata": {},
   "outputs": [
    {
     "data": {
      "text/plain": [
       "True"
      ]
     },
     "execution_count": 48,
     "metadata": {},
     "output_type": "execute_result"
    }
   ],
   "source": [
    "# 알파벳 또는 숫자 들어있는지?\n",
    "s.isalnum()"
   ]
  },
  {
   "cell_type": "code",
   "execution_count": 49,
   "id": "cf1a1adf-2ed8-45dc-9e55-4a390621624c",
   "metadata": {},
   "outputs": [],
   "source": [
    "a='python 3'"
   ]
  },
  {
   "cell_type": "code",
   "execution_count": 50,
   "id": "570e94f9-5d58-450d-ad00-fa6ede3d2fc9",
   "metadata": {},
   "outputs": [
    {
     "data": {
      "text/plain": [
       "False"
      ]
     },
     "execution_count": 50,
     "metadata": {},
     "output_type": "execute_result"
    }
   ],
   "source": [
    "# 띄어쓰기 때문에 False라고 출력\n",
    "a.isalnum()"
   ]
  },
  {
   "cell_type": "code",
   "execution_count": 51,
   "id": "72192691-400b-4dcd-87f4-218a26360298",
   "metadata": {},
   "outputs": [],
   "source": [
    "a='python3'"
   ]
  },
  {
   "cell_type": "code",
   "execution_count": 52,
   "id": "10c8310c-c0e4-468a-9aa3-87a63bd46f02",
   "metadata": {},
   "outputs": [
    {
     "data": {
      "text/plain": [
       "True"
      ]
     },
     "execution_count": 52,
     "metadata": {},
     "output_type": "execute_result"
    }
   ],
   "source": [
    "a.isalnum()"
   ]
  },
  {
   "cell_type": "code",
   "execution_count": 56,
   "id": "66776f0e-4527-46f5-8822-d85bebce82f4",
   "metadata": {},
   "outputs": [],
   "source": [
    "s='123'"
   ]
  },
  {
   "cell_type": "code",
   "execution_count": 57,
   "id": "b00b3ff9-12fd-4180-9952-52ae55d29a89",
   "metadata": {},
   "outputs": [
    {
     "data": {
      "text/plain": [
       "True"
      ]
     },
     "execution_count": 57,
     "metadata": {},
     "output_type": "execute_result"
    }
   ],
   "source": [
    "# 0부터9까지의 숫자로만 이루어져?\n",
    "s.isdecimal()"
   ]
  },
  {
   "cell_type": "code",
   "execution_count": 95,
   "id": "9bd90cdd-32b7-4ff1-8e8d-a91744a80f14",
   "metadata": {},
   "outputs": [],
   "source": [
    "s='223311.3'"
   ]
  },
  {
   "cell_type": "code",
   "execution_count": 96,
   "id": "f970cf7c-86af-48c4-81d4-a95ba6488376",
   "metadata": {},
   "outputs": [
    {
     "data": {
      "text/plain": [
       "False"
      ]
     },
     "execution_count": 96,
     "metadata": {},
     "output_type": "execute_result"
    }
   ],
   "source": [
    "# dot때문에 안 됨\n",
    "s.isdecimal()"
   ]
  },
  {
   "cell_type": "code",
   "execution_count": 97,
   "id": "e320315f-0496-47f0-9a22-d83507278f42",
   "metadata": {},
   "outputs": [
    {
     "data": {
      "text/plain": [
       "False"
      ]
     },
     "execution_count": 97,
     "metadata": {},
     "output_type": "execute_result"
    }
   ],
   "source": [
    "# dot 때문에 안 됨\n",
    "s.isdigit()"
   ]
  },
  {
   "cell_type": "code",
   "execution_count": 98,
   "id": "69a9ab4d-ad93-47ef-9bd6-f9127e13db8e",
   "metadata": {},
   "outputs": [
    {
     "data": {
      "text/plain": [
       "False"
      ]
     },
     "execution_count": 98,
     "metadata": {},
     "output_type": "execute_result"
    }
   ],
   "source": [
    "s.isnumeric()"
   ]
  },
  {
   "cell_type": "code",
   "execution_count": 78,
   "id": "66d7d797-338c-47f0-992c-a966ba7276e6",
   "metadata": {},
   "outputs": [],
   "source": [
    "s='123123123'"
   ]
  },
  {
   "cell_type": "code",
   "execution_count": 79,
   "id": "fef4b687-a176-44ce-a876-e4341bf092e2",
   "metadata": {},
   "outputs": [
    {
     "data": {
      "text/plain": [
       "True"
      ]
     },
     "execution_count": 79,
     "metadata": {},
     "output_type": "execute_result"
    }
   ],
   "source": [
    "s.isdecimal()"
   ]
  },
  {
   "cell_type": "code",
   "execution_count": 80,
   "id": "fc40c37c-42a6-46a0-a5a2-4403131d7abf",
   "metadata": {},
   "outputs": [],
   "source": [
    "a='2034'"
   ]
  },
  {
   "cell_type": "code",
   "execution_count": 81,
   "id": "dfcc95e6-ee9a-4636-9f35-247e936f48ff",
   "metadata": {},
   "outputs": [
    {
     "data": {
      "text/plain": [
       "True"
      ]
     },
     "execution_count": 81,
     "metadata": {},
     "output_type": "execute_result"
    }
   ],
   "source": [
    "a.isdigit()"
   ]
  },
  {
   "cell_type": "code",
   "execution_count": 82,
   "id": "f2650198-141a-46bc-8af0-feccbc0b8fbe",
   "metadata": {},
   "outputs": [],
   "source": [
    "#유니코드일 땐 어떨까?\n",
    "a='3\\u00B3' "
   ]
  },
  {
   "cell_type": "code",
   "execution_count": 83,
   "id": "43ffa70c-e145-4624-9fb2-4f503bdb78a2",
   "metadata": {},
   "outputs": [
    {
     "data": {
      "text/plain": [
       "'3³'"
      ]
     },
     "execution_count": 83,
     "metadata": {},
     "output_type": "execute_result"
    }
   ],
   "source": [
    "a"
   ]
  },
  {
   "cell_type": "code",
   "execution_count": 84,
   "id": "f5b963f6-bd9e-436f-86b1-4b488f91347e",
   "metadata": {},
   "outputs": [
    {
     "data": {
      "text/plain": [
       "False"
      ]
     },
     "execution_count": 84,
     "metadata": {},
     "output_type": "execute_result"
    }
   ],
   "source": [
    "# 0~9로만 이루어져야 함\n",
    "a.isdecimal()"
   ]
  },
  {
   "cell_type": "code",
   "execution_count": 86,
   "id": "2593a733-4b53-4a80-af70-13bda570f535",
   "metadata": {},
   "outputs": [
    {
     "data": {
      "text/plain": [
       "True"
      ]
     },
     "execution_count": 86,
     "metadata": {},
     "output_type": "execute_result"
    }
   ],
   "source": [
    "# 이건 가능\n",
    "a.isdigit()"
   ]
  },
  {
   "cell_type": "code",
   "execution_count": 87,
   "id": "2b6f41d8-65a6-4772-bc7c-2cb6c24af5fb",
   "metadata": {},
   "outputs": [
    {
     "data": {
      "text/plain": [
       "True"
      ]
     },
     "execution_count": 87,
     "metadata": {},
     "output_type": "execute_result"
    }
   ],
   "source": [
    "a.isnumeric()"
   ]
  },
  {
   "cell_type": "code",
   "execution_count": 144,
   "id": "9d3c9e1b-edb8-4367-86c4-17da36f53236",
   "metadata": {},
   "outputs": [],
   "source": [
    "a='\\u00BC'"
   ]
  },
  {
   "cell_type": "code",
   "execution_count": 145,
   "id": "df8fe481-7726-4a60-96af-89cee7741824",
   "metadata": {},
   "outputs": [
    {
     "data": {
      "text/plain": [
       "'¼'"
      ]
     },
     "execution_count": 145,
     "metadata": {},
     "output_type": "execute_result"
    }
   ],
   "source": [
    "a"
   ]
  },
  {
   "cell_type": "code",
   "execution_count": 146,
   "id": "9972ccaa-239c-4b21-be76-3b126ef8d526",
   "metadata": {},
   "outputs": [
    {
     "data": {
      "text/plain": [
       "False"
      ]
     },
     "execution_count": 146,
     "metadata": {},
     "output_type": "execute_result"
    }
   ],
   "source": [
    "a.isdecimal()"
   ]
  },
  {
   "cell_type": "code",
   "execution_count": 147,
   "id": "215bfd1d-d7c1-4007-a40d-2c5ae2330429",
   "metadata": {},
   "outputs": [
    {
     "data": {
      "text/plain": [
       "False"
      ]
     },
     "execution_count": 147,
     "metadata": {},
     "output_type": "execute_result"
    }
   ],
   "source": [
    "#숫자로만 이루어지지 않아서 이건 안 됨\n",
    "a.isdigit()"
   ]
  },
  {
   "cell_type": "code",
   "execution_count": 148,
   "id": "315697a3-48a8-4045-9f07-38e742cc19bd",
   "metadata": {},
   "outputs": [
    {
     "data": {
      "text/plain": [
       "True"
      ]
     },
     "execution_count": 148,
     "metadata": {},
     "output_type": "execute_result"
    }
   ],
   "source": [
    "#이건 가능/근데 dot은 안 됨\n",
    "a.isnumeric()"
   ]
  },
  {
   "cell_type": "code",
   "execution_count": 149,
   "id": "4b759d7d-e389-43bb-8e90-9efb87b762ac",
   "metadata": {},
   "outputs": [],
   "source": [
    "a='Python'"
   ]
  },
  {
   "cell_type": "code",
   "execution_count": 150,
   "id": "4c1125c8-1791-41ab-8bf3-e145e6d98008",
   "metadata": {},
   "outputs": [
    {
     "data": {
      "text/plain": [
       "False"
      ]
     },
     "execution_count": 150,
     "metadata": {},
     "output_type": "execute_result"
    }
   ],
   "source": [
    "# 모두 소문자??\n",
    "a.islower()"
   ]
  },
  {
   "cell_type": "code",
   "execution_count": 151,
   "id": "8caa623e-d8d4-4944-a8a1-2908efb479ad",
   "metadata": {},
   "outputs": [
    {
     "data": {
      "text/plain": [
       "False"
      ]
     },
     "execution_count": 151,
     "metadata": {},
     "output_type": "execute_result"
    }
   ],
   "source": [
    "# 모두 대문자??\n",
    "a.isupper()"
   ]
  },
  {
   "cell_type": "code",
   "execution_count": 155,
   "id": "9d9a43f2-9dd7-4a9a-99aa-4562f8ca0739",
   "metadata": {},
   "outputs": [],
   "source": [
    "a='PythonP'"
   ]
  },
  {
   "cell_type": "markdown",
   "id": "c56b1cc9-89a7-437e-b37f-66aa635c8a69",
   "metadata": {},
   "source": [
    "> `중요`"
   ]
  },
  {
   "cell_type": "code",
   "execution_count": 156,
   "id": "8e41b0c8-7219-43b4-86a4-4d0f4f33b099",
   "metadata": {},
   "outputs": [
    {
     "data": {
      "text/plain": [
       "'QythonQ'"
      ]
     },
     "execution_count": 156,
     "metadata": {},
     "output_type": "execute_result"
    }
   ],
   "source": [
    "a.replace('P','Q')"
   ]
  },
  {
   "cell_type": "code",
   "execution_count": 157,
   "id": "2a695cbe-adf2-4422-a5a0-afc083f6e84d",
   "metadata": {},
   "outputs": [],
   "source": [
    "a='I like python'"
   ]
  },
  {
   "cell_type": "markdown",
   "id": "b20f6670-7d29-49bd-804c-50ea137f2c1d",
   "metadata": {},
   "source": [
    "> `중요`"
   ]
  },
  {
   "cell_type": "code",
   "execution_count": 161,
   "id": "7594dc7d-256b-4de8-8a01-9c6365a2ffa0",
   "metadata": {},
   "outputs": [
    {
     "data": {
      "text/plain": [
       "['I', 'like', 'python']"
      ]
     },
     "execution_count": 161,
     "metadata": {},
     "output_type": "execute_result"
    }
   ],
   "source": [
    "# 어떤 문자를 중심으로 나눌것인지?\n",
    "# space 기준으로 나눠서 리스트化\n",
    "a.split(' ')"
   ]
  },
  {
   "cell_type": "code",
   "execution_count": 162,
   "id": "089cbb7c-a6d6-4dc2-8a13-4c1becb757ba",
   "metadata": {},
   "outputs": [],
   "source": [
    "a='I,like,python'"
   ]
  },
  {
   "cell_type": "code",
   "execution_count": 163,
   "id": "3878eb65-c876-495b-b8f0-40763bbffea2",
   "metadata": {},
   "outputs": [
    {
     "data": {
      "text/plain": [
       "['I', 'like', 'python']"
      ]
     },
     "execution_count": 163,
     "metadata": {},
     "output_type": "execute_result"
    }
   ],
   "source": [
    "a.split(',')"
   ]
  },
  {
   "cell_type": "markdown",
   "id": "91060386-ec19-47b4-8258-f2cd5314c015",
   "metadata": {},
   "source": [
    "str에서 다음줄로 내릴 때"
   ]
  },
  {
   "cell_type": "code",
   "execution_count": 164,
   "id": "c8f52df6-6e3e-48aa-b7bb-8c6e6599a376",
   "metadata": {},
   "outputs": [],
   "source": [
    "a='I like python\\nHe likes python\\nfucking python'"
   ]
  },
  {
   "cell_type": "code",
   "execution_count": 165,
   "id": "76fc17ee-5eb6-47ab-a704-f3572c6ee641",
   "metadata": {},
   "outputs": [
    {
     "data": {
      "text/plain": [
       "'I like python\\nHe likes python\\nfucking python'"
      ]
     },
     "execution_count": 165,
     "metadata": {},
     "output_type": "execute_result"
    }
   ],
   "source": [
    "a"
   ]
  },
  {
   "cell_type": "code",
   "execution_count": 166,
   "id": "a1efdfb5-697b-4e16-8151-f4ae76b3c68a",
   "metadata": {},
   "outputs": [
    {
     "name": "stdout",
     "output_type": "stream",
     "text": [
      "I like python\n",
      "He likes python\n",
      "fucking python\n"
     ]
    }
   ],
   "source": [
    "print(a)"
   ]
  },
  {
   "cell_type": "code",
   "execution_count": 168,
   "id": "1f0e2ed2-00b9-43fd-b8a0-6eb844ad0a44",
   "metadata": {},
   "outputs": [
    {
     "data": {
      "text/plain": [
       "['I like python', 'He likes python', 'fucking python']"
      ]
     },
     "execution_count": 168,
     "metadata": {},
     "output_type": "execute_result"
    }
   ],
   "source": [
    "# 라인 기준으로 나눈다\n",
    "a.splitlines()"
   ]
  },
  {
   "cell_type": "code",
   "execution_count": 169,
   "id": "4ff19181-9517-4928-8536-8319a046d0cb",
   "metadata": {},
   "outputs": [],
   "source": [
    "b=a.splitlines()"
   ]
  },
  {
   "cell_type": "code",
   "execution_count": 170,
   "id": "c143a05d-c573-4909-a048-d88c218488b2",
   "metadata": {},
   "outputs": [
    {
     "data": {
      "text/plain": [
       "'I like python'"
      ]
     },
     "execution_count": 170,
     "metadata": {},
     "output_type": "execute_result"
    }
   ],
   "source": [
    "b[0]"
   ]
  },
  {
   "cell_type": "code",
   "execution_count": 172,
   "id": "5b606680-1624-4335-866c-77e7b843fbc2",
   "metadata": {},
   "outputs": [
    {
     "data": {
      "text/plain": [
       "'I LIKE PYTHON'"
      ]
     },
     "execution_count": 172,
     "metadata": {},
     "output_type": "execute_result"
    }
   ],
   "source": [
    "# 다 대문자로 변경시키기\n",
    "b[0].upper()"
   ]
  },
  {
   "cell_type": "code",
   "execution_count": 174,
   "id": "992bccab-ba7b-4bb7-9080-da05f982582e",
   "metadata": {},
   "outputs": [
    {
     "data": {
      "text/plain": [
       "0"
      ]
     },
     "execution_count": 174,
     "metadata": {},
     "output_type": "execute_result"
    }
   ],
   "source": [
    "# 이렇게 띄어쓰기 되어 있으면 띄어쓰기 되어 있기 전까지만 인식해서 카운트함\n",
    "b[0].count('L')"
   ]
  },
  {
   "cell_type": "markdown",
   "id": "8f944081-0270-457c-b3a9-e5cc8588c6e2",
   "metadata": {},
   "source": [
    "---"
   ]
  },
  {
   "cell_type": "code",
   "execution_count": 188,
   "id": "037c3b00-3c4b-432c-8b4c-4144fcbd36b6",
   "metadata": {},
   "outputs": [],
   "source": [
    "s='python'"
   ]
  },
  {
   "cell_type": "code",
   "execution_count": 189,
   "id": "1caee6bf-b35a-4047-b96a-739136eba90e",
   "metadata": {},
   "outputs": [],
   "source": [
    "a=3"
   ]
  },
  {
   "cell_type": "code",
   "execution_count": 190,
   "id": "b767c547-664e-49f3-b655-dfcbced1b301",
   "metadata": {},
   "outputs": [
    {
     "name": "stdout",
     "output_type": "stream",
     "text": [
      "python 3\n"
     ]
    }
   ],
   "source": [
    "print(s,a)"
   ]
  },
  {
   "cell_type": "markdown",
   "id": "2e27993c-2437-4672-80ce-9eecbf864454",
   "metadata": {},
   "source": [
    "> print => 문자로 알아서 프린트함"
   ]
  },
  {
   "cell_type": "markdown",
   "id": "651088af-b587-459f-a4be-6d92c3783784",
   "metadata": {},
   "source": [
    "a는 int니까 str으로 변경해서 ..."
   ]
  },
  {
   "cell_type": "code",
   "execution_count": 197,
   "id": "6fdc8e29-08c5-4536-9b73-cb80f5fdf3bd",
   "metadata": {},
   "outputs": [
    {
     "name": "stdout",
     "output_type": "stream",
     "text": [
      "python 3\n"
     ]
    }
   ],
   "source": [
    "print(s,str(a))"
   ]
  },
  {
   "cell_type": "code",
   "execution_count": 198,
   "id": "cabe55d7-5e6c-4dc4-87a5-edc18f7f0625",
   "metadata": {},
   "outputs": [
    {
     "name": "stdout",
     "output_type": "stream",
     "text": [
      "python3\n"
     ]
    }
   ],
   "source": [
    "print(s+str(a))"
   ]
  },
  {
   "cell_type": "code",
   "execution_count": 199,
   "id": "74141eb3-3b95-4a42-8a9d-79e302bb07ee",
   "metadata": {},
   "outputs": [
    {
     "name": "stdout",
     "output_type": "stream",
     "text": [
      "python 3\n"
     ]
    }
   ],
   "source": [
    "#중간에 스페이스를 넣고싶을 때\n",
    "print(s + ' ' + str(a))"
   ]
  },
  {
   "cell_type": "code",
   "execution_count": 201,
   "id": "70fc9734-fd84-47e5-9d2f-4053bddbc913",
   "metadata": {},
   "outputs": [
    {
     "name": "stdout",
     "output_type": "stream",
     "text": [
      "python 3\n"
     ]
    }
   ],
   "source": [
    "#중간에 스페이스를 넣고싶을 때\n",
    "print(s,str(a))"
   ]
  },
  {
   "cell_type": "markdown",
   "id": "4a7ff9f0-6d8e-499e-b3eb-33a9a6854105",
   "metadata": {},
   "source": [
    "> ## `Format`"
   ]
  },
  {
   "cell_type": "code",
   "execution_count": 203,
   "id": "bc603c34-6386-42f2-882f-0f839cfd5bd7",
   "metadata": {},
   "outputs": [],
   "source": [
    "s='Python {}'"
   ]
  },
  {
   "cell_type": "code",
   "execution_count": 204,
   "id": "7f64643b-da6a-43fe-9893-66b0c21fe0c1",
   "metadata": {},
   "outputs": [
    {
     "data": {
      "text/plain": [
       "'Python 25'"
      ]
     },
     "execution_count": 204,
     "metadata": {},
     "output_type": "execute_result"
    }
   ],
   "source": [
    "s.format(25)"
   ]
  },
  {
   "cell_type": "code",
   "execution_count": 205,
   "id": "29ba1acb-3147-403c-9f4f-45ee1b0c4ef1",
   "metadata": {},
   "outputs": [
    {
     "data": {
      "text/plain": [
       "'Python 6'"
      ]
     },
     "execution_count": 205,
     "metadata": {},
     "output_type": "execute_result"
    }
   ],
   "source": [
    "s.format(1+5)"
   ]
  },
  {
   "cell_type": "code",
   "execution_count": 223,
   "id": "cf24e5ce-5899-4e86-ad6a-146e14d5beb0",
   "metadata": {},
   "outputs": [],
   "source": [
    "s='Python {1} + {0}'"
   ]
  },
  {
   "cell_type": "code",
   "execution_count": 225,
   "id": "943af19c-d884-4ba4-8ed4-52a6d1af44a6",
   "metadata": {},
   "outputs": [
    {
     "data": {
      "text/plain": [
       "'Python asdas + 3'"
      ]
     },
     "execution_count": 225,
     "metadata": {},
     "output_type": "execute_result"
    }
   ],
   "source": [
    "s.format(3,'asdas')"
   ]
  },
  {
   "cell_type": "code",
   "execution_count": 226,
   "id": "030c5f48-098d-4242-b29a-78e677db5f0c",
   "metadata": {},
   "outputs": [],
   "source": [
    "s='Python {0} {1}'"
   ]
  },
  {
   "cell_type": "code",
   "execution_count": 227,
   "id": "7436b629-d57c-4556-b7fc-f33cfec8492f",
   "metadata": {},
   "outputs": [
    {
     "data": {
      "text/plain": [
       "'Python 3 asd'"
      ]
     },
     "execution_count": 227,
     "metadata": {},
     "output_type": "execute_result"
    }
   ],
   "source": [
    "s.format(3,'asd')"
   ]
  },
  {
   "cell_type": "code",
   "execution_count": 228,
   "id": "212938e6-ee9f-4247-9c1f-b3fb28cffceb",
   "metadata": {},
   "outputs": [],
   "source": [
    "s='Python {1} {0}'"
   ]
  },
  {
   "cell_type": "code",
   "execution_count": 229,
   "id": "9390434a-eb7c-4e65-aaa1-649629ee4c30",
   "metadata": {},
   "outputs": [
    {
     "data": {
      "text/plain": [
       "'Python asd 3'"
      ]
     },
     "execution_count": 229,
     "metadata": {},
     "output_type": "execute_result"
    }
   ],
   "source": [
    "s.format(3,'asd')"
   ]
  },
  {
   "cell_type": "code",
   "execution_count": 230,
   "id": "057b9163-ed8d-4d92-ad5b-164ce0a66c56",
   "metadata": {},
   "outputs": [],
   "source": [
    "s= 'My name is {} I am {} years old' "
   ]
  },
  {
   "cell_type": "code",
   "execution_count": 231,
   "id": "0d7f275a-3410-4b79-bd6c-971771ff3f39",
   "metadata": {},
   "outputs": [
    {
     "data": {
      "text/plain": [
       "'My name is asd I am 12 years old'"
      ]
     },
     "execution_count": 231,
     "metadata": {},
     "output_type": "execute_result"
    }
   ],
   "source": [
    "s.format('asd',12)"
   ]
  },
  {
   "cell_type": "code",
   "execution_count": 232,
   "id": "fbf08b3a-7b0c-4c7a-a79f-87ef43822b20",
   "metadata": {},
   "outputs": [
    {
     "name": "stdout",
     "output_type": "stream",
     "text": [
      "python 3.8\n"
     ]
    }
   ],
   "source": [
    "print('python 3.8')"
   ]
  },
  {
   "cell_type": "code",
   "execution_count": 233,
   "id": "12771856-713c-44c8-b1aa-d5a7632eee5c",
   "metadata": {},
   "outputs": [],
   "source": [
    "ver=3.8"
   ]
  },
  {
   "cell_type": "code",
   "execution_count": 236,
   "id": "06b3b19e-49c3-420d-b176-d75925b48c2c",
   "metadata": {},
   "outputs": [
    {
     "name": "stdout",
     "output_type": "stream",
     "text": [
      "python 3.8\n"
     ]
    }
   ],
   "source": [
    "print('python', ver)"
   ]
  },
  {
   "cell_type": "code",
   "execution_count": 237,
   "id": "32d0b656-37f1-4abf-bce6-76fb90e648db",
   "metadata": {},
   "outputs": [
    {
     "name": "stdout",
     "output_type": "stream",
     "text": [
      "python3.8\n"
     ]
    }
   ],
   "source": [
    "print('python' + str(ver))"
   ]
  },
  {
   "cell_type": "code",
   "execution_count": 238,
   "id": "03341808-416c-49e8-a32f-bd7c48105a38",
   "metadata": {},
   "outputs": [
    {
     "name": "stdout",
     "output_type": "stream",
     "text": [
      "python3.8\n"
     ]
    }
   ],
   "source": [
    "print('python{}'.format(ver))"
   ]
  },
  {
   "cell_type": "code",
   "execution_count": 239,
   "id": "fe91f637-2527-4745-bccc-9470217661f7",
   "metadata": {},
   "outputs": [],
   "source": [
    "s='python{}'.format(ver)"
   ]
  },
  {
   "cell_type": "code",
   "execution_count": 240,
   "id": "3e739fb5-7d85-4ac0-bdb5-e69749258d84",
   "metadata": {},
   "outputs": [
    {
     "name": "stdout",
     "output_type": "stream",
     "text": [
      "python3.8\n"
     ]
    }
   ],
   "source": [
    "print(s)"
   ]
  },
  {
   "cell_type": "markdown",
   "id": "634e499b-d4e0-43db-9b36-7e0d6062ea6e",
   "metadata": {},
   "source": [
    "---"
   ]
  },
  {
   "cell_type": "code",
   "execution_count": 245,
   "id": "c131dfc8-0922-41c1-a877-6b079442572b",
   "metadata": {},
   "outputs": [],
   "source": [
    "data=4321.123456"
   ]
  },
  {
   "cell_type": "code",
   "execution_count": 246,
   "id": "2eeb7b57-190e-48c6-9ba3-cbec6efc719d",
   "metadata": {},
   "outputs": [
    {
     "name": "stdout",
     "output_type": "stream",
     "text": [
      "DATA4321.123456\n"
     ]
    }
   ],
   "source": [
    "print('DATA'+str(data))"
   ]
  },
  {
   "cell_type": "code",
   "execution_count": 247,
   "id": "82cbb7e8-f945-4972-a5fb-780cff67f5ee",
   "metadata": {},
   "outputs": [
    {
     "name": "stdout",
     "output_type": "stream",
     "text": [
      "DATA 4321.123456\n"
     ]
    }
   ],
   "source": [
    "print('DATA', data)"
   ]
  },
  {
   "cell_type": "code",
   "execution_count": 248,
   "id": "b7190ed0-9796-4559-a457-eddc58268c76",
   "metadata": {},
   "outputs": [
    {
     "name": "stdout",
     "output_type": "stream",
     "text": [
      "DATA 4321.123456\n"
     ]
    }
   ],
   "source": [
    "print('DATA '+str(data))"
   ]
  },
  {
   "cell_type": "code",
   "execution_count": 249,
   "id": "b918ccfd-c09a-4368-8b4e-4b46b65703fb",
   "metadata": {},
   "outputs": [
    {
     "name": "stdout",
     "output_type": "stream",
     "text": [
      "DATA= 4321.123456\n"
     ]
    }
   ],
   "source": [
    "print('DATA= '+str(data))"
   ]
  },
  {
   "cell_type": "code",
   "execution_count": 250,
   "id": "3100e7be-c717-45b1-9020-83cf3b5e6e53",
   "metadata": {},
   "outputs": [
    {
     "name": "stdout",
     "output_type": "stream",
     "text": [
      "DATA=4321.123456\n"
     ]
    }
   ],
   "source": [
    "print('DATA={}'.format(data))"
   ]
  },
  {
   "cell_type": "markdown",
   "id": "714010a0-5121-4431-8c3f-9878b9fbfe69",
   "metadata": {},
   "source": [
    "> ## `중요`"
   ]
  },
  {
   "cell_type": "markdown",
   "id": "9b9f8811-5acc-44bc-a845-9fc15c1165c1",
   "metadata": {},
   "source": [
    "- {0:<10} => {0} 값을 \":<10\" 10자리로 표현할건데 왼쪽 정렬\n",
    "- {1:>5} =>  {1} 값을 \":>5\" 5자리로 표현할건데 오른쪽 정렬\n",
    "- :^10 = 가운데 정렬"
   ]
  },
  {
   "cell_type": "code",
   "execution_count": 267,
   "id": "76030930-aa3c-4f30-a595-82e20c041b38",
   "metadata": {},
   "outputs": [
    {
     "name": "stdout",
     "output_type": "stream",
     "text": [
      "DATA= 4321.12\n"
     ]
    }
   ],
   "source": [
    "# 소수점 둘째까지만\n",
    "print('DATA= {:.2f}'.format(data))"
   ]
  },
  {
   "cell_type": "code",
   "execution_count": 270,
   "id": "f44945c2-1a2b-46ea-af3f-1526906b6727",
   "metadata": {},
   "outputs": [
    {
     "name": "stdout",
     "output_type": "stream",
     "text": [
      "DATA= 4321\n"
     ]
    }
   ],
   "source": [
    "# 소수점 다 날리기\n",
    "print('DATA= {:.0f}'.format(data))"
   ]
  },
  {
   "cell_type": "code",
   "execution_count": 277,
   "id": "11bec729-503f-40e5-98d7-5f7e02bc7e12",
   "metadata": {},
   "outputs": [
    {
     "name": "stdout",
     "output_type": "stream",
     "text": [
      "DATA=4321\n"
     ]
    }
   ],
   "source": [
    "#:원하는공간,소수점날리기,자료형(f)\n",
    "print('DATA={:4.0f}'.format(data))"
   ]
  },
  {
   "cell_type": "code",
   "execution_count": 278,
   "id": "72e49814-7b60-4c53-8320-67098fcb8daa",
   "metadata": {},
   "outputs": [
    {
     "name": "stdout",
     "output_type": "stream",
     "text": [
      "DATA= 4321\n"
     ]
    }
   ],
   "source": [
    "print('DATA={:5.0f}'.format(data))"
   ]
  },
  {
   "cell_type": "code",
   "execution_count": 279,
   "id": "a08b1d33-a644-44a7-b440-86c61efaa961",
   "metadata": {},
   "outputs": [
    {
     "name": "stdout",
     "output_type": "stream",
     "text": [
      "DATA=  4321\n"
     ]
    }
   ],
   "source": [
    "print('DATA={:6.0f}'.format(data))"
   ]
  },
  {
   "cell_type": "code",
   "execution_count": 280,
   "id": "beda3721-f590-44c5-aac7-afc8bf467a20",
   "metadata": {},
   "outputs": [
    {
     "name": "stdout",
     "output_type": "stream",
     "text": [
      "DATA=   4321\n"
     ]
    }
   ],
   "source": [
    "print('DATA={:7.0f}'.format(data))"
   ]
  },
  {
   "cell_type": "code",
   "execution_count": 281,
   "id": "71343204-70f2-4c6e-8ffb-040107f67a05",
   "metadata": {},
   "outputs": [
    {
     "name": "stdout",
     "output_type": "stream",
     "text": [
      "DATA=4,321.123456\n"
     ]
    }
   ],
   "source": [
    "# ,가 필요한 상황이라면 알아서 넣어줌\n",
    "print('DATA={:,}'.format(data))"
   ]
  },
  {
   "cell_type": "code",
   "execution_count": 286,
   "id": "10816f00-2083-4e34-92c7-e56bea0d80bb",
   "metadata": {},
   "outputs": [],
   "source": [
    "data2=454654456.1213546"
   ]
  },
  {
   "cell_type": "code",
   "execution_count": 287,
   "id": "789f9535-96fd-4502-8c8a-483a12c69248",
   "metadata": {},
   "outputs": [
    {
     "name": "stdout",
     "output_type": "stream",
     "text": [
      "DATA=454,654,456.1213546\n"
     ]
    }
   ],
   "source": [
    "print('DATA={:,}'.format(data2))"
   ]
  },
  {
   "cell_type": "markdown",
   "id": "d50d6e42-cdf3-43c1-8ad0-b1c65a289e56",
   "metadata": {},
   "source": [
    "data자체가 float이라서 d입력하면 오류가 발생"
   ]
  },
  {
   "cell_type": "code",
   "execution_count": 285,
   "id": "f8189039-adf7-427b-b729-02a896724d70",
   "metadata": {},
   "outputs": [
    {
     "ename": "ValueError",
     "evalue": "Precision not allowed in integer format specifier",
     "output_type": "error",
     "traceback": [
      "\u001b[1;31m---------------------------------------------------------------------------\u001b[0m",
      "\u001b[1;31mValueError\u001b[0m                                Traceback (most recent call last)",
      "\u001b[1;32m~\\AppData\\Local\\Temp/ipykernel_7636/488746504.py\u001b[0m in \u001b[0;36m<module>\u001b[1;34m\u001b[0m\n\u001b[1;32m----> 1\u001b[1;33m \u001b[0mprint\u001b[0m\u001b[1;33m(\u001b[0m\u001b[1;34m'DATA={:.4d}'\u001b[0m\u001b[1;33m.\u001b[0m\u001b[0mformat\u001b[0m\u001b[1;33m(\u001b[0m\u001b[0mint\u001b[0m\u001b[1;33m(\u001b[0m\u001b[0mdata\u001b[0m\u001b[1;33m)\u001b[0m\u001b[1;33m)\u001b[0m\u001b[1;33m)\u001b[0m\u001b[1;33m\u001b[0m\u001b[1;33m\u001b[0m\u001b[0m\n\u001b[0m",
      "\u001b[1;31mValueError\u001b[0m: Precision not allowed in integer format specifier"
     ]
    }
   ],
   "source": [
    "print('DATA={:.4d}'.format(int(data)))"
   ]
  },
  {
   "cell_type": "markdown",
   "id": "384ddc4b-479d-4b06-a28c-a2313850fae9",
   "metadata": {},
   "source": [
    "int는 .없으니까 .4d이렇게 입력하면 오류"
   ]
  },
  {
   "cell_type": "code",
   "execution_count": 291,
   "id": "17e218b1-a7ad-46ee-a2f3-cb1134169a7c",
   "metadata": {},
   "outputs": [
    {
     "name": "stdout",
     "output_type": "stream",
     "text": [
      "DATA=4321\n"
     ]
    }
   ],
   "source": [
    "print('DATA={:4d}'.format(int(data)))"
   ]
  },
  {
   "cell_type": "code",
   "execution_count": 292,
   "id": "fe415286-eb8b-4bb8-8dcd-e6ac292c6c8c",
   "metadata": {},
   "outputs": [
    {
     "name": "stdout",
     "output_type": "stream",
     "text": [
      "DATA= 4321\n"
     ]
    }
   ],
   "source": [
    "print('DATA={:5d}'.format(int(data)))"
   ]
  },
  {
   "cell_type": "code",
   "execution_count": 293,
   "id": "e9698bb3-dc2e-46fc-a658-3ee10af3db90",
   "metadata": {},
   "outputs": [
    {
     "name": "stdout",
     "output_type": "stream",
     "text": [
      "DATA=    4321\n"
     ]
    }
   ],
   "source": [
    "print('DATA={:8d}'.format(int(data)))"
   ]
  },
  {
   "cell_type": "markdown",
   "id": "eeb57334-031d-4998-bccb-427de19aed1e",
   "metadata": {},
   "source": [
    "> `scientific notation` : `e라는 것을 사용하여 수를 표현해줌`"
   ]
  },
  {
   "cell_type": "code",
   "execution_count": 305,
   "id": "941f9b91-9618-4d19-8866-9c5a4c547ce2",
   "metadata": {},
   "outputs": [
    {
     "name": "stdout",
     "output_type": "stream",
     "text": [
      "data = 4.321123e+03\n"
     ]
    }
   ],
   "source": [
    "print('data = {:e}'.format(data))"
   ]
  },
  {
   "cell_type": "code",
   "execution_count": 310,
   "id": "daba8911-6771-4ef9-a131-a4ef39b533a4",
   "metadata": {},
   "outputs": [
    {
     "name": "stdout",
     "output_type": "stream",
     "text": [
      "DATA=4321.123456\n"
     ]
    }
   ],
   "source": [
    "print('DATA=%(x)f' % {'x' : data})"
   ]
  },
  {
   "cell_type": "code",
   "execution_count": 311,
   "id": "93a30c79-6461-495f-b9b8-7797551022b9",
   "metadata": {},
   "outputs": [
    {
     "name": "stdout",
     "output_type": "stream",
     "text": [
      "DATA=4321\n"
     ]
    }
   ],
   "source": [
    "print('DATA=%(x).0f' % {'x' : data})"
   ]
  },
  {
   "cell_type": "code",
   "execution_count": 312,
   "id": "f0901b5e-0fad-4afc-923d-f8307693d194",
   "metadata": {},
   "outputs": [
    {
     "name": "stdout",
     "output_type": "stream",
     "text": [
      "DATA=4321.12\n"
     ]
    }
   ],
   "source": [
    "print('DATA=%(x).2f' % {'x' : data})"
   ]
  },
  {
   "cell_type": "code",
   "execution_count": 313,
   "id": "9387bdb3-a7da-4216-b428-d9aeaa17c564",
   "metadata": {},
   "outputs": [
    {
     "name": "stdout",
     "output_type": "stream",
     "text": [
      "DATA=   4321\n"
     ]
    }
   ],
   "source": [
    "print('DATA=%(x)7.0f' % {'x' : data})"
   ]
  },
  {
   "cell_type": "code",
   "execution_count": 314,
   "id": "1a9c17e0-09c8-4032-a2c9-a3ec403f10ef",
   "metadata": {},
   "outputs": [
    {
     "name": "stdout",
     "output_type": "stream",
     "text": [
      "DATA=4321.123\n"
     ]
    }
   ],
   "source": [
    "print('DATA=%(x)8.3f' % {'x' : data})"
   ]
  },
  {
   "cell_type": "code",
   "execution_count": 315,
   "id": "3bf123a8-ab41-4d18-a6ab-d6bcc42a9534",
   "metadata": {},
   "outputs": [
    {
     "name": "stdout",
     "output_type": "stream",
     "text": [
      "DATA=    4321\n"
     ]
    }
   ],
   "source": [
    "print('DATA=%(x)8.0f' % {'x' : data})"
   ]
  },
  {
   "cell_type": "markdown",
   "id": "4e4e8085-6771-4ff1-ab0b-281bc8dfbbc0",
   "metadata": {},
   "source": [
    "----"
   ]
  },
  {
   "cell_type": "code",
   "execution_count": 316,
   "id": "3f9322f3-59b6-48f5-a4c9-e59679f140da",
   "metadata": {},
   "outputs": [],
   "source": [
    "import math"
   ]
  },
  {
   "cell_type": "code",
   "execution_count": 317,
   "id": "ba51ec27-70a6-4468-94c6-6d4947a10b11",
   "metadata": {},
   "outputs": [
    {
     "data": {
      "text/plain": [
       "3.141592653589793"
      ]
     },
     "execution_count": 317,
     "metadata": {},
     "output_type": "execute_result"
    }
   ],
   "source": [
    "math.pi"
   ]
  },
  {
   "cell_type": "code",
   "execution_count": 318,
   "id": "95e0363c-e1fe-40e7-9a37-e2a496f84683",
   "metadata": {},
   "outputs": [
    {
     "data": {
      "text/plain": [
       "inf"
      ]
     },
     "execution_count": 318,
     "metadata": {},
     "output_type": "execute_result"
    }
   ],
   "source": [
    "math.inf"
   ]
  },
  {
   "cell_type": "code",
   "execution_count": 319,
   "id": "d16d061a-ec50-41fc-ac2e-4974d4f700b5",
   "metadata": {},
   "outputs": [
    {
     "data": {
      "text/plain": [
       "nan"
      ]
     },
     "execution_count": 319,
     "metadata": {},
     "output_type": "execute_result"
    }
   ],
   "source": [
    "math.nan #숫자가 아님을 표현할 때"
   ]
  },
  {
   "cell_type": "code",
   "execution_count": 320,
   "id": "21d4bdac-bd4b-4f27-b62a-f49d644cb235",
   "metadata": {},
   "outputs": [
    {
     "data": {
      "text/plain": [
       "2.718281828459045"
      ]
     },
     "execution_count": 320,
     "metadata": {},
     "output_type": "execute_result"
    }
   ],
   "source": [
    "math.e"
   ]
  },
  {
   "cell_type": "code",
   "execution_count": 321,
   "id": "450e0008-3cf8-471b-8a6e-f3ddf4b07a68",
   "metadata": {},
   "outputs": [
    {
     "data": {
      "text/plain": [
       "3"
      ]
     },
     "execution_count": 321,
     "metadata": {},
     "output_type": "execute_result"
    }
   ],
   "source": [
    "#버림\n",
    "math.floor(math.pi)"
   ]
  },
  {
   "cell_type": "code",
   "execution_count": 322,
   "id": "ebae31a7-afd1-40b7-820a-246df4f728a3",
   "metadata": {},
   "outputs": [
    {
     "data": {
      "text/plain": [
       "4"
      ]
     },
     "execution_count": 322,
     "metadata": {},
     "output_type": "execute_result"
    }
   ],
   "source": [
    "#올림\n",
    "math.ceil(math.pi)"
   ]
  },
  {
   "cell_type": "code",
   "execution_count": 323,
   "id": "9cc8cb55-d24e-4c7e-b0e6-aa69ba18597d",
   "metadata": {},
   "outputs": [
    {
     "data": {
      "text/plain": [
       "1.7724538509055159"
      ]
     },
     "execution_count": 323,
     "metadata": {},
     "output_type": "execute_result"
    }
   ],
   "source": [
    "math.sqrt(math.pi)"
   ]
  },
  {
   "cell_type": "code",
   "execution_count": 324,
   "id": "4e8b2e90-7b38-44eb-ac14-4262880f64b9",
   "metadata": {},
   "outputs": [
    {
     "data": {
      "text/plain": [
       "2.302585092994046"
      ]
     },
     "execution_count": 324,
     "metadata": {},
     "output_type": "execute_result"
    }
   ],
   "source": [
    "math.log(10)"
   ]
  },
  {
   "cell_type": "code",
   "execution_count": 325,
   "id": "6932d689-8a5c-481b-9edc-e9044779963f",
   "metadata": {},
   "outputs": [
    {
     "data": {
      "text/plain": [
       "1.0"
      ]
     },
     "execution_count": 325,
     "metadata": {},
     "output_type": "execute_result"
    }
   ],
   "source": [
    "math.log(math.e)"
   ]
  },
  {
   "cell_type": "code",
   "execution_count": 326,
   "id": "38000a24-09e2-4b16-a7fc-9baee8169696",
   "metadata": {},
   "outputs": [
    {
     "data": {
      "text/plain": [
       "1.0"
      ]
     },
     "execution_count": 326,
     "metadata": {},
     "output_type": "execute_result"
    }
   ],
   "source": [
    "math.log10(10)"
   ]
  },
  {
   "cell_type": "code",
   "execution_count": 327,
   "id": "cac26d3e-ae51-450b-9a6e-6a1d46d89cc1",
   "metadata": {},
   "outputs": [],
   "source": [
    "p=math.pi"
   ]
  },
  {
   "cell_type": "code",
   "execution_count": 328,
   "id": "bfdf62b0-3b08-46dc-a798-f47c5d0e5ea7",
   "metadata": {},
   "outputs": [
    {
     "data": {
      "text/plain": [
       "1.0"
      ]
     },
     "execution_count": 328,
     "metadata": {},
     "output_type": "execute_result"
    }
   ],
   "source": [
    "math.sin(p/2)"
   ]
  },
  {
   "cell_type": "code",
   "execution_count": 329,
   "id": "73311a39-ba50-4621-a090-cfb0d7888768",
   "metadata": {},
   "outputs": [
    {
     "data": {
      "text/plain": [
       "-2.4492935982947064e-16"
      ]
     },
     "execution_count": 329,
     "metadata": {},
     "output_type": "execute_result"
    }
   ],
   "source": [
    "math.sin(2*p)"
   ]
  },
  {
   "cell_type": "code",
   "execution_count": 330,
   "id": "15c62620-d0f8-4114-b5c4-1c3c358e869c",
   "metadata": {},
   "outputs": [],
   "source": [
    "x_degree=90"
   ]
  },
  {
   "cell_type": "code",
   "execution_count": 331,
   "id": "05c35d93-2f53-4b9a-b4e6-a6edb679a262",
   "metadata": {},
   "outputs": [],
   "source": [
    "x_radian=x_degree*(math.pi/180)"
   ]
  },
  {
   "cell_type": "code",
   "execution_count": 332,
   "id": "ed537bdc-cb24-4c50-ba2e-70160c349fec",
   "metadata": {},
   "outputs": [
    {
     "data": {
      "text/plain": [
       "1.5707963267948966"
      ]
     },
     "execution_count": 332,
     "metadata": {},
     "output_type": "execute_result"
    }
   ],
   "source": [
    "x_radian #pi/2랑 동일"
   ]
  },
  {
   "cell_type": "code",
   "execution_count": 333,
   "id": "2e27deb0-18cd-4be0-bc19-894e37aec3e6",
   "metadata": {},
   "outputs": [
    {
     "data": {
      "text/plain": [
       "1.5707963267948966"
      ]
     },
     "execution_count": 333,
     "metadata": {},
     "output_type": "execute_result"
    }
   ],
   "source": [
    "math.radians(90)"
   ]
  },
  {
   "cell_type": "code",
   "execution_count": 334,
   "id": "1473f8c0-c6a6-46c4-bb5b-7fc2e0ae7ed7",
   "metadata": {},
   "outputs": [
    {
     "data": {
      "text/plain": [
       "8.0"
      ]
     },
     "execution_count": 334,
     "metadata": {},
     "output_type": "execute_result"
    }
   ],
   "source": [
    "math.pow(2,3)"
   ]
  },
  {
   "cell_type": "code",
   "execution_count": 335,
   "id": "df82809e-7138-44e0-b6ce-2dd1d7a57630",
   "metadata": {},
   "outputs": [
    {
     "data": {
      "text/plain": [
       "8"
      ]
     },
     "execution_count": 335,
     "metadata": {},
     "output_type": "execute_result"
    }
   ],
   "source": [
    "pow(2,3)"
   ]
  },
  {
   "cell_type": "code",
   "execution_count": 337,
   "id": "290bafce-2f6d-4484-a287-9e0010206629",
   "metadata": {},
   "outputs": [
    {
     "data": {
      "text/plain": [
       "8"
      ]
     },
     "execution_count": 337,
     "metadata": {},
     "output_type": "execute_result"
    }
   ],
   "source": [
    "2**3"
   ]
  },
  {
   "cell_type": "code",
   "execution_count": 338,
   "id": "7c315108-c697-4f55-8699-d125119d73e6",
   "metadata": {},
   "outputs": [],
   "source": [
    "x=2"
   ]
  },
  {
   "cell_type": "code",
   "execution_count": 339,
   "id": "6f2d5e3d-0281-4de5-ac4e-c3c484002d61",
   "metadata": {},
   "outputs": [
    {
     "data": {
      "text/plain": [
       "False"
      ]
     },
     "execution_count": 339,
     "metadata": {},
     "output_type": "execute_result"
    }
   ],
   "source": [
    "# 무한대니?\n",
    "math.isinf(x)"
   ]
  },
  {
   "cell_type": "code",
   "execution_count": 343,
   "id": "322b861e-94e1-4cda-8423-432b62dfa898",
   "metadata": {},
   "outputs": [
    {
     "data": {
      "text/plain": [
       "False"
      ]
     },
     "execution_count": 343,
     "metadata": {},
     "output_type": "execute_result"
    }
   ],
   "source": [
    "# nan?\n",
    "math.isnan(x)"
   ]
  },
  {
   "cell_type": "code",
   "execution_count": 345,
   "id": "e807e9b7-1529-4eb8-830e-6ecbe6800396",
   "metadata": {},
   "outputs": [
    {
     "data": {
      "text/plain": [
       "6.0"
      ]
     },
     "execution_count": 345,
     "metadata": {},
     "output_type": "execute_result"
    }
   ],
   "source": [
    "# list에 있는 숫자들을 더해줌\n",
    "math.fsum([1,2,3])"
   ]
  },
  {
   "cell_type": "code",
   "execution_count": 347,
   "id": "9901d10d-9766-43e4-bd4e-676efadd45e3",
   "metadata": {},
   "outputs": [
    {
     "ename": "TypeError",
     "evalue": "must be real number, not str",
     "output_type": "error",
     "traceback": [
      "\u001b[1;31m---------------------------------------------------------------------------\u001b[0m",
      "\u001b[1;31mTypeError\u001b[0m                                 Traceback (most recent call last)",
      "\u001b[1;32m~\\AppData\\Local\\Temp/ipykernel_7636/3003999967.py\u001b[0m in \u001b[0;36m<module>\u001b[1;34m\u001b[0m\n\u001b[1;32m----> 1\u001b[1;33m \u001b[0mmath\u001b[0m\u001b[1;33m.\u001b[0m\u001b[0mfsum\u001b[0m\u001b[1;33m(\u001b[0m\u001b[1;33m[\u001b[0m\u001b[1;36m1\u001b[0m\u001b[1;33m,\u001b[0m\u001b[1;36m2\u001b[0m\u001b[1;33m,\u001b[0m\u001b[1;34m'3'\u001b[0m\u001b[1;33m]\u001b[0m\u001b[1;33m)\u001b[0m\u001b[1;33m\u001b[0m\u001b[1;33m\u001b[0m\u001b[0m\n\u001b[0m",
      "\u001b[1;31mTypeError\u001b[0m: must be real number, not str"
     ]
    }
   ],
   "source": [
    "math.fsum([1,2,'3'])"
   ]
  },
  {
   "cell_type": "markdown",
   "id": "f187455a-8e10-4ed9-afd8-4ea4d909364b",
   "metadata": {},
   "source": [
    "int여야 함"
   ]
  },
  {
   "cell_type": "markdown",
   "id": "c9b9e80b-a7be-4f12-b98a-1c387b8144ba",
   "metadata": {},
   "source": [
    "-------"
   ]
  },
  {
   "cell_type": "markdown",
   "id": "f0dd4b10-82f6-4edd-a957-980679ed0499",
   "metadata": {},
   "source": [
    "file// input output"
   ]
  },
  {
   "cell_type": "code",
   "execution_count": 369,
   "id": "beb7a549-cc33-4cba-8e7b-9dd7e931fcfa",
   "metadata": {},
   "outputs": [],
   "source": [
    "import os"
   ]
  },
  {
   "cell_type": "code",
   "execution_count": 370,
   "id": "594494ca-81ba-44bb-846c-fe72b5cce7ee",
   "metadata": {},
   "outputs": [
    {
     "data": {
      "text/plain": [
       "'c:\\\\'"
      ]
     },
     "execution_count": 370,
     "metadata": {},
     "output_type": "execute_result"
    }
   ],
   "source": [
    "os.getcwd()"
   ]
  },
  {
   "cell_type": "code",
   "execution_count": 371,
   "id": "ebac7c6e-14b5-440d-b317-98f5d9f7022b",
   "metadata": {},
   "outputs": [],
   "source": [
    "os.chdir('c:\\\\test')"
   ]
  },
  {
   "cell_type": "code",
   "execution_count": 360,
   "id": "cb9fc9c3-a57b-4094-8cde-f52f1e0bdb0d",
   "metadata": {},
   "outputs": [],
   "source": [
    "os.mkdir('temp2')"
   ]
  },
  {
   "cell_type": "code",
   "execution_count": 372,
   "id": "6bae7b73-bd63-430f-84ad-c5f4fccd2988",
   "metadata": {},
   "outputs": [],
   "source": [
    "os.chdir('temp2')"
   ]
  },
  {
   "cell_type": "code",
   "execution_count": 373,
   "id": "b14863e5-d681-4456-a0dd-7bc8b856cd59",
   "metadata": {},
   "outputs": [
    {
     "data": {
      "text/plain": [
       "'c:\\\\test\\\\temp2'"
      ]
     },
     "execution_count": 373,
     "metadata": {},
     "output_type": "execute_result"
    }
   ],
   "source": [
    "os.getcwd()"
   ]
  },
  {
   "cell_type": "code",
   "execution_count": 374,
   "id": "f484cb23-9473-494d-bc9b-b5b198f03ab4",
   "metadata": {},
   "outputs": [],
   "source": [
    "os.chdir('..')"
   ]
  },
  {
   "cell_type": "code",
   "execution_count": 375,
   "id": "704b5de4-787e-471a-bff9-e7b4e8c80382",
   "metadata": {},
   "outputs": [
    {
     "data": {
      "text/plain": [
       "'c:\\\\test'"
      ]
     },
     "execution_count": 375,
     "metadata": {},
     "output_type": "execute_result"
    }
   ],
   "source": [
    "os.getcwd()"
   ]
  },
  {
   "cell_type": "code",
   "execution_count": 376,
   "id": "f6906ac8-e7c7-48c3-b2bd-c663422324cf",
   "metadata": {},
   "outputs": [],
   "source": [
    "os.chdir('temp')"
   ]
  },
  {
   "cell_type": "code",
   "execution_count": 377,
   "id": "dfe09524-4244-4422-abdc-5ba00b51cb74",
   "metadata": {},
   "outputs": [
    {
     "data": {
      "text/plain": [
       "'c:\\\\test\\\\temp'"
      ]
     },
     "execution_count": 377,
     "metadata": {},
     "output_type": "execute_result"
    }
   ],
   "source": [
    "os.getcwd()"
   ]
  },
  {
   "cell_type": "code",
   "execution_count": 378,
   "id": "95e81c6d-c227-4e01-9b74-98e48ff9ffdc",
   "metadata": {},
   "outputs": [],
   "source": [
    "os.chdir('.')"
   ]
  },
  {
   "cell_type": "code",
   "execution_count": 379,
   "id": "5c8df5ea-bec0-4b19-9c43-81a9fa446412",
   "metadata": {},
   "outputs": [
    {
     "data": {
      "text/plain": [
       "'c:\\\\test\\\\temp'"
      ]
     },
     "execution_count": 379,
     "metadata": {},
     "output_type": "execute_result"
    }
   ],
   "source": [
    "os.getcwd()"
   ]
  },
  {
   "cell_type": "code",
   "execution_count": 382,
   "id": "c597a597-d70c-42de-b063-a9dfc033bd85",
   "metadata": {},
   "outputs": [],
   "source": [
    "os.mkdir('dir0')"
   ]
  },
  {
   "cell_type": "code",
   "execution_count": 361,
   "id": "98fb2843-db35-4435-9ade-cd74854f4f44",
   "metadata": {},
   "outputs": [],
   "source": [
    "os.mkdir('dir1')"
   ]
  },
  {
   "cell_type": "code",
   "execution_count": 362,
   "id": "d0324331-a925-4e9a-9de8-e7ab04aace52",
   "metadata": {},
   "outputs": [],
   "source": [
    "os.mkdir('dir2')"
   ]
  },
  {
   "cell_type": "code",
   "execution_count": 383,
   "id": "101d526e-1b12-451d-9398-fae8fd699cb4",
   "metadata": {},
   "outputs": [
    {
     "data": {
      "text/plain": [
       "'c:\\\\test\\\\temp'"
      ]
     },
     "execution_count": 383,
     "metadata": {},
     "output_type": "execute_result"
    }
   ],
   "source": [
    "os.getcwd()"
   ]
  },
  {
   "cell_type": "code",
   "execution_count": 384,
   "id": "feaf78ca-80f6-4daa-8dc0-7cdaafe6a8ae",
   "metadata": {},
   "outputs": [
    {
     "data": {
      "text/plain": [
       "['dir0', 'dir1', 'dir2', 'file1.txt', 'file2.txt', 'file3.txt', 'file4.txt']"
      ]
     },
     "execution_count": 384,
     "metadata": {},
     "output_type": "execute_result"
    }
   ],
   "source": [
    "os.listdir()"
   ]
  },
  {
   "cell_type": "code",
   "execution_count": 385,
   "id": "67d93798-2564-4e3f-ae09-f45bf3432840",
   "metadata": {},
   "outputs": [],
   "source": [
    "os.rename('dir0','dir100')"
   ]
  },
  {
   "cell_type": "code",
   "execution_count": 386,
   "id": "544a40ed-b891-4051-b674-1f7f826bd87b",
   "metadata": {},
   "outputs": [
    {
     "data": {
      "text/plain": [
       "['dir1', 'dir100', 'dir2', 'file1.txt', 'file2.txt', 'file3.txt', 'file4.txt']"
      ]
     },
     "execution_count": 386,
     "metadata": {},
     "output_type": "execute_result"
    }
   ],
   "source": [
    "os.listdir()"
   ]
  },
  {
   "cell_type": "code",
   "execution_count": 387,
   "id": "94af65e5-a95c-4000-b0b9-50ed0b689ce1",
   "metadata": {},
   "outputs": [],
   "source": [
    "os.rmdir('dir100')"
   ]
  },
  {
   "cell_type": "code",
   "execution_count": 388,
   "id": "ca1dff5f-bf92-48b7-8548-45c0b8ffc60d",
   "metadata": {},
   "outputs": [
    {
     "data": {
      "text/plain": [
       "['dir1', 'dir2', 'file1.txt', 'file2.txt', 'file3.txt', 'file4.txt']"
      ]
     },
     "execution_count": 388,
     "metadata": {},
     "output_type": "execute_result"
    }
   ],
   "source": [
    "os.listdir()"
   ]
  },
  {
   "cell_type": "code",
   "execution_count": 389,
   "id": "30848b88-43cb-4114-8e09-34136ab0e8f1",
   "metadata": {},
   "outputs": [],
   "source": [
    "import sys"
   ]
  },
  {
   "cell_type": "code",
   "execution_count": 390,
   "id": "8397c3c4-d285-4b1c-bb0f-81c59c5e0792",
   "metadata": {},
   "outputs": [],
   "source": [
    "# sys.modules\n",
    "# 파이썬에서 사용가능한 모듈들을 불러준 것"
   ]
  },
  {
   "cell_type": "code",
   "execution_count": 392,
   "id": "dbce74a1-7a15-4635-bc91-9970d1056017",
   "metadata": {},
   "outputs": [],
   "source": [
    "#나만의 모듈을 만들고 path에 등록을 해두고 사용할 수 있음\n",
    "# sys.path"
   ]
  },
  {
   "cell_type": "code",
   "execution_count": 393,
   "id": "4082a810-ae51-4403-8318-ed2308a8fc53",
   "metadata": {},
   "outputs": [],
   "source": [
    "os.chdir('C:\\\\Users\\\\ehfus\\\\Downloads\\\\python Introduction')"
   ]
  },
  {
   "cell_type": "code",
   "execution_count": 394,
   "id": "3479a5c9-0055-4aec-9cdd-d2298cf1a8e0",
   "metadata": {},
   "outputs": [],
   "source": [
    "os.chdir('c:\\\\test\\\\temp')"
   ]
  },
  {
   "cell_type": "code",
   "execution_count": 395,
   "id": "69a6d185-bd8a-4464-8b9a-b1cd0050f558",
   "metadata": {},
   "outputs": [
    {
     "data": {
      "text/plain": [
       "'c:\\\\test\\\\temp'"
      ]
     },
     "execution_count": 395,
     "metadata": {},
     "output_type": "execute_result"
    }
   ],
   "source": [
    "os.getcwd()"
   ]
  },
  {
   "cell_type": "markdown",
   "id": "0783445b-7761-41d6-95a8-de6064aea689",
   "metadata": {},
   "source": [
    "-------"
   ]
  },
  {
   "cell_type": "code",
   "execution_count": 397,
   "id": "33d098ad-ee9d-4f96-b7dc-ccac7b285150",
   "metadata": {},
   "outputs": [],
   "source": [
    "f=open('file1.txt','w')#파일 작성"
   ]
  },
  {
   "cell_type": "code",
   "execution_count": 398,
   "id": "7ae2c9fa-f880-4a0b-b2a5-da62d2d0c195",
   "metadata": {},
   "outputs": [
    {
     "data": {
      "text/plain": [
       "False"
      ]
     },
     "execution_count": 398,
     "metadata": {},
     "output_type": "execute_result"
    }
   ],
   "source": [
    "f.closed"
   ]
  },
  {
   "cell_type": "code",
   "execution_count": 399,
   "id": "48c4347a-c646-4a2b-9d9c-0e8744014f1d",
   "metadata": {},
   "outputs": [
    {
     "data": {
      "text/plain": [
       "7"
      ]
     },
     "execution_count": 399,
     "metadata": {},
     "output_type": "execute_result"
    }
   ],
   "source": [
    "f.write('fucking')"
   ]
  },
  {
   "cell_type": "code",
   "execution_count": 400,
   "id": "dd6c0a13-10aa-4718-b745-7951a87ff753",
   "metadata": {},
   "outputs": [],
   "source": [
    "f.close()"
   ]
  },
  {
   "cell_type": "code",
   "execution_count": 401,
   "id": "5e3d4e20-c0a1-4d88-a529-40d68a1816aa",
   "metadata": {},
   "outputs": [
    {
     "data": {
      "text/plain": [
       "True"
      ]
     },
     "execution_count": 401,
     "metadata": {},
     "output_type": "execute_result"
    }
   ],
   "source": [
    "f.closed"
   ]
  },
  {
   "cell_type": "code",
   "execution_count": 403,
   "id": "8f2a6b3e-81fd-4037-801b-8021a9d1fc8d",
   "metadata": {},
   "outputs": [],
   "source": [
    "with open('file2.txt','w') as f:\n",
    "    f.write('sibal\\n')\n",
    "    f.write('jotgatne\\n')\n",
    "    f.write('just joke\\n')"
   ]
  },
  {
   "cell_type": "code",
   "execution_count": 404,
   "id": "45edd43e-d53c-4808-b3dd-8952be2451b1",
   "metadata": {},
   "outputs": [
    {
     "data": {
      "text/plain": [
       "True"
      ]
     },
     "execution_count": 404,
     "metadata": {},
     "output_type": "execute_result"
    }
   ],
   "source": [
    "f.closed"
   ]
  },
  {
   "cell_type": "code",
   "execution_count": 405,
   "id": "88f12fd2-3d71-400b-8a64-93a3535af0ee",
   "metadata": {},
   "outputs": [],
   "source": [
    "fid=open('file2.txt','r')"
   ]
  },
  {
   "cell_type": "code",
   "execution_count": 406,
   "id": "62e20dfb-dfd2-4d4a-8ac8-d4fccf93b1f7",
   "metadata": {},
   "outputs": [
    {
     "data": {
      "text/plain": [
       "'sibal\\njotgatne\\njust joke\\n'"
      ]
     },
     "execution_count": 406,
     "metadata": {},
     "output_type": "execute_result"
    }
   ],
   "source": [
    "fid.read()"
   ]
  },
  {
   "cell_type": "code",
   "execution_count": 407,
   "id": "04574f5d-5baf-4fb3-a800-77849e468b83",
   "metadata": {},
   "outputs": [],
   "source": [
    "fid.close()"
   ]
  },
  {
   "cell_type": "code",
   "execution_count": 408,
   "id": "5570ff62-9d3c-4530-9bcb-611af7115849",
   "metadata": {},
   "outputs": [
    {
     "data": {
      "text/plain": [
       "True"
      ]
     },
     "execution_count": 408,
     "metadata": {},
     "output_type": "execute_result"
    }
   ],
   "source": [
    "fid.closed"
   ]
  },
  {
   "cell_type": "code",
   "execution_count": 409,
   "id": "6ca4b0ca-8e37-48dd-88bd-ed4a425030e4",
   "metadata": {},
   "outputs": [],
   "source": [
    "fid=open('file2.txt','r')"
   ]
  },
  {
   "cell_type": "code",
   "execution_count": 410,
   "id": "c0d7c3d9-435d-4d37-ab4e-f3e7463715f2",
   "metadata": {},
   "outputs": [
    {
     "data": {
      "text/plain": [
       "'sibal\\n'"
      ]
     },
     "execution_count": 410,
     "metadata": {},
     "output_type": "execute_result"
    }
   ],
   "source": [
    "fid.readline()"
   ]
  },
  {
   "cell_type": "code",
   "execution_count": 411,
   "id": "104418c5-181b-4fa4-afd8-4693f7f3136f",
   "metadata": {},
   "outputs": [
    {
     "data": {
      "text/plain": [
       "'jotgatne\\n'"
      ]
     },
     "execution_count": 411,
     "metadata": {},
     "output_type": "execute_result"
    }
   ],
   "source": [
    "fid.readline()"
   ]
  },
  {
   "cell_type": "code",
   "execution_count": 412,
   "id": "9ee8b1a2-4bc7-48cb-b7c0-2c8ba7befde4",
   "metadata": {},
   "outputs": [
    {
     "data": {
      "text/plain": [
       "'just joke\\n'"
      ]
     },
     "execution_count": 412,
     "metadata": {},
     "output_type": "execute_result"
    }
   ],
   "source": [
    "fid.readline()"
   ]
  },
  {
   "cell_type": "code",
   "execution_count": 413,
   "id": "69b8ee42-40e9-4b1e-b81f-08070e75c2f7",
   "metadata": {},
   "outputs": [
    {
     "data": {
      "text/plain": [
       "''"
      ]
     },
     "execution_count": 413,
     "metadata": {},
     "output_type": "execute_result"
    }
   ],
   "source": [
    "fid.readline()"
   ]
  },
  {
   "cell_type": "markdown",
   "id": "533e0a74-e45c-4a2d-84e6-4ca8efe22017",
   "metadata": {},
   "source": [
    "한 줄씩 불러옴"
   ]
  },
  {
   "cell_type": "code",
   "execution_count": 414,
   "id": "ceedcbcf-d191-40a5-b7a0-9aa851eabc24",
   "metadata": {},
   "outputs": [],
   "source": [
    "fid.close()"
   ]
  },
  {
   "cell_type": "code",
   "execution_count": 415,
   "id": "9e8fa5b4-b95a-4dbe-a88b-580f744d5d54",
   "metadata": {},
   "outputs": [],
   "source": [
    "fid=open('file2.txt','r')"
   ]
  },
  {
   "cell_type": "code",
   "execution_count": 416,
   "id": "4fa256f6-c128-4c42-9d1e-63c82d59b79a",
   "metadata": {},
   "outputs": [],
   "source": [
    "data=[]"
   ]
  },
  {
   "cell_type": "code",
   "execution_count": 417,
   "id": "4b712055-ea35-48ba-8cd2-f09ba7862a7b",
   "metadata": {},
   "outputs": [],
   "source": [
    "data.append(fid.readline())"
   ]
  },
  {
   "cell_type": "code",
   "execution_count": 418,
   "id": "f9acd4c4-d69b-4019-a953-b1d8aa338d1f",
   "metadata": {},
   "outputs": [],
   "source": [
    "data.append(fid.readline())"
   ]
  },
  {
   "cell_type": "code",
   "execution_count": 419,
   "id": "352a8261-f512-4ab0-a02a-bc86ec2a0a9c",
   "metadata": {},
   "outputs": [],
   "source": [
    "data.append(fid.readline())"
   ]
  },
  {
   "cell_type": "code",
   "execution_count": 420,
   "id": "e1d0edb6-1f80-48e2-b033-732ac4a0ceed",
   "metadata": {},
   "outputs": [
    {
     "data": {
      "text/plain": [
       "['sibal\\n', 'jotgatne\\n', 'just joke\\n']"
      ]
     },
     "execution_count": 420,
     "metadata": {},
     "output_type": "execute_result"
    }
   ],
   "source": [
    "data"
   ]
  },
  {
   "cell_type": "markdown",
   "id": "50ad5f27-1a97-43f9-86e1-f6c85e2de6ee",
   "metadata": {},
   "source": [
    "자동화"
   ]
  },
  {
   "cell_type": "code",
   "execution_count": 421,
   "id": "322aedf1-6358-4844-8ed9-83ab7fd6dfe4",
   "metadata": {},
   "outputs": [],
   "source": [
    "fid=open('file2.txt','r')"
   ]
  },
  {
   "cell_type": "code",
   "execution_count": 422,
   "id": "9ee38e6d-5ab8-4e1c-a77e-f9417f181131",
   "metadata": {},
   "outputs": [],
   "source": [
    "for line in fid:\n",
    "    line"
   ]
  },
  {
   "cell_type": "code",
   "execution_count": 423,
   "id": "3ad46e0b-427f-4c56-b433-b3941d2a9b15",
   "metadata": {},
   "outputs": [],
   "source": [
    "data=['string1','string2','string3']"
   ]
  },
  {
   "cell_type": "code",
   "execution_count": 424,
   "id": "7bec8e08-38b0-48eb-b5c6-2103e1a79bc0",
   "metadata": {},
   "outputs": [],
   "source": [
    "import json"
   ]
  },
  {
   "cell_type": "code",
   "execution_count": 425,
   "id": "25bfdd1d-064c-4afe-a069-95eb7cce81b0",
   "metadata": {},
   "outputs": [],
   "source": [
    "f=open('file3.txt','w')"
   ]
  },
  {
   "cell_type": "code",
   "execution_count": 426,
   "id": "eec2d30a-fab6-488a-b4ed-fca2adc3d4ee",
   "metadata": {},
   "outputs": [],
   "source": [
    "json.dump(data,f)"
   ]
  },
  {
   "cell_type": "code",
   "execution_count": 427,
   "id": "91afc396-9c4a-4342-8638-fbcfed1c9ba2",
   "metadata": {},
   "outputs": [],
   "source": [
    "f.close()"
   ]
  },
  {
   "cell_type": "code",
   "execution_count": 428,
   "id": "20d1e6e5-0680-47b2-b16a-ef398bbca04e",
   "metadata": {},
   "outputs": [],
   "source": [
    "f=open('file3.txt','r')"
   ]
  },
  {
   "cell_type": "code",
   "execution_count": 429,
   "id": "46cf1eb5-795b-4e0b-ba1b-ce08105770b0",
   "metadata": {},
   "outputs": [],
   "source": [
    "x=json.load(f)"
   ]
  },
  {
   "cell_type": "code",
   "execution_count": 430,
   "id": "86269c2c-a5d0-43c4-9d4d-6d900769e9b0",
   "metadata": {},
   "outputs": [
    {
     "data": {
      "text/plain": [
       "['string1', 'string2', 'string3']"
      ]
     },
     "execution_count": 430,
     "metadata": {},
     "output_type": "execute_result"
    }
   ],
   "source": [
    "x"
   ]
  },
  {
   "cell_type": "code",
   "execution_count": 431,
   "id": "3eb19aa7-3258-402a-9cd0-35aefc6dd5a9",
   "metadata": {},
   "outputs": [],
   "source": [
    "f.close()"
   ]
  },
  {
   "cell_type": "code",
   "execution_count": 432,
   "id": "d74780da-0b75-4ead-8d05-f2a15e7d2ef5",
   "metadata": {},
   "outputs": [],
   "source": [
    "import pickle"
   ]
  },
  {
   "cell_type": "code",
   "execution_count": 433,
   "id": "e849e158-4cba-4773-a129-95e920f05948",
   "metadata": {},
   "outputs": [],
   "source": [
    "f=open('file4.txt','wb') # 바이너리로 쓰겠다"
   ]
  },
  {
   "cell_type": "markdown",
   "id": "5ada1c0a-78de-4b89-85c3-60862c1d7ac5",
   "metadata": {},
   "source": [
    "용량을 작게 할 수 있다는 장점이 있음"
   ]
  },
  {
   "cell_type": "code",
   "execution_count": 434,
   "id": "3e49d519-7af7-47ab-9960-9b37f781faaf",
   "metadata": {},
   "outputs": [],
   "source": [
    "pickle.dump(data,f)"
   ]
  },
  {
   "cell_type": "code",
   "execution_count": 435,
   "id": "fff39a25-bc02-40f0-8bbe-bc8002392873",
   "metadata": {},
   "outputs": [],
   "source": [
    "f.close()"
   ]
  },
  {
   "cell_type": "code",
   "execution_count": 436,
   "id": "8683ad7d-a2bb-477c-8d3d-793c81ce2265",
   "metadata": {},
   "outputs": [],
   "source": [
    "f=open('file4.txt','rb') # 바이너리 불러옴"
   ]
  },
  {
   "cell_type": "code",
   "execution_count": 437,
   "id": "52f2bf4d-4879-4388-b9e6-68c7868aab0c",
   "metadata": {},
   "outputs": [],
   "source": [
    "x= pickle.load(f)"
   ]
  },
  {
   "cell_type": "code",
   "execution_count": 438,
   "id": "47e8c0e9-3482-40f6-925a-1947eb11ef25",
   "metadata": {},
   "outputs": [
    {
     "data": {
      "text/plain": [
       "['string1', 'string2', 'string3']"
      ]
     },
     "execution_count": 438,
     "metadata": {},
     "output_type": "execute_result"
    }
   ],
   "source": [
    "x"
   ]
  },
  {
   "cell_type": "code",
   "execution_count": 439,
   "id": "43983357-5746-452c-a079-f618c7ad4f76",
   "metadata": {},
   "outputs": [],
   "source": [
    "f.close()"
   ]
  }
 ],
 "metadata": {
  "kernelspec": {
   "display_name": "Python 3 (ipykernel)",
   "language": "python",
   "name": "python3"
  },
  "language_info": {
   "codemirror_mode": {
    "name": "ipython",
    "version": 3
   },
   "file_extension": ".py",
   "mimetype": "text/x-python",
   "name": "python",
   "nbconvert_exporter": "python",
   "pygments_lexer": "ipython3",
   "version": "3.8.11"
  }
 },
 "nbformat": 4,
 "nbformat_minor": 5
}
