{
 "cells": [
  {
   "cell_type": "markdown",
   "id": "20e82d95-df44-442e-ab61-4dab14e3e92f",
   "metadata": {},
   "source": [
    "# 2021/12/27/MON"
   ]
  },
  {
   "cell_type": "code",
   "execution_count": 1,
   "id": "3516dcac-2dd8-4983-94c8-d315c0a6789c",
   "metadata": {},
   "outputs": [],
   "source": [
    "import numpy as np\n",
    "x_list=[1,2,3]\n",
    "x_tuple=1,2,3\n",
    "x_set={1,2,3}\n",
    "x_dict={'a' : 1,'b' : 2,'c' : 3}\n",
    "x_array=np.array([1,2,3])\n",
    "x_range=range(1,4,1)"
   ]
  },
  {
   "cell_type": "code",
   "execution_count": 2,
   "id": "87e2748f-9ffd-4360-af6d-1556788ee0e0",
   "metadata": {},
   "outputs": [
    {
     "name": "stdout",
     "output_type": "stream",
     "text": [
      "a\n",
      "b\n",
      "c\n"
     ]
    }
   ],
   "source": [
    "for i in x_dict:\n",
    "    print(i)"
   ]
  },
  {
   "cell_type": "markdown",
   "id": "03fbde33-96de-4ade-8dd2-1aa4bab92c68",
   "metadata": {},
   "source": [
    "- key만 나왔음, 후에 부가 설명하겠음"
   ]
  },
  {
   "cell_type": "code",
   "execution_count": 8,
   "id": "d0478162-93c1-4180-beec-8ac79be2438b",
   "metadata": {},
   "outputs": [
    {
     "name": "stdout",
     "output_type": "stream",
     "text": [
      "i=1\n",
      "i=2\n",
      "i=3\n"
     ]
    }
   ],
   "source": [
    "import time\n",
    "for i in [1,2,3]:\n",
    "    print('i=' + str(i))\n",
    "    time.sleep(.5)"
   ]
  },
  {
   "cell_type": "markdown",
   "id": "bdcbea5f-8e02-4a3b-b10e-feebb8ef7fef",
   "metadata": {},
   "source": [
    "- 이때 i는 마지막 값인 3으로 저장될 것"
   ]
  },
  {
   "cell_type": "markdown",
   "id": "84da8194-355a-4c16-8375-b70e8f2de165",
   "metadata": {},
   "source": [
    "---"
   ]
  },
  {
   "cell_type": "markdown",
   "id": "b3eb7743-004e-46c5-bf98-c751d01252f9",
   "metadata": {},
   "source": [
    "1부터 100까지 = range(1,100,1)\n",
    "\n",
    "range(101)은 0부터 100까지임\n",
    "\n",
    "또는 np.linspace(1,100,100)으로도 사용가능"
   ]
  },
  {
   "cell_type": "markdown",
   "id": "d083e79d-bf60-4446-96af-325b00f89b87",
   "metadata": {},
   "source": [
    "---"
   ]
  },
  {
   "cell_type": "markdown",
   "id": "62492fc3-03c4-47af-a0e0-3b1ac2e21bca",
   "metadata": {},
   "source": [
    "iterable object이 str일 땐?"
   ]
  },
  {
   "cell_type": "code",
   "execution_count": 9,
   "id": "f96a75f3-2661-4f03-9abb-529cdf621757",
   "metadata": {},
   "outputs": [
    {
     "name": "stdout",
     "output_type": "stream",
     "text": [
      "1\n",
      "2\n",
      "3\n",
      "4\n",
      "5\n"
     ]
    }
   ],
   "source": [
    "for i in '12345':\n",
    "    print(i)"
   ]
  },
  {
   "cell_type": "code",
   "execution_count": 10,
   "id": "fbc909e5-211e-481f-acd9-67a06c4110f3",
   "metadata": {},
   "outputs": [
    {
     "name": "stdout",
     "output_type": "stream",
     "text": [
      "p\n",
      "y\n",
      "t\n",
      "h\n",
      "o\n",
      "n\n"
     ]
    }
   ],
   "source": [
    "for i in 'python':\n",
    "    print(i)"
   ]
  },
  {
   "cell_type": "code",
   "execution_count": 11,
   "id": "f33fa0ff-9303-4f48-9220-1fa57a9babec",
   "metadata": {},
   "outputs": [
    {
     "name": "stdout",
     "output_type": "stream",
     "text": [
      "1\n",
      "2\n",
      "3\n",
      "4\n",
      "5\n"
     ]
    }
   ],
   "source": [
    "for i in {1,2,3,4,5}:\n",
    "    print(i)"
   ]
  },
  {
   "cell_type": "markdown",
   "id": "ec3975b9-cc24-4d79-b644-55f2d35e09d4",
   "metadata": {},
   "source": [
    "---"
   ]
  },
  {
   "cell_type": "code",
   "execution_count": 12,
   "id": "5170a078-cc88-4fb2-bf3c-c93ef36e5813",
   "metadata": {},
   "outputs": [],
   "source": [
    "d={'P1':11,'P3':31,'P2':13}"
   ]
  },
  {
   "cell_type": "code",
   "execution_count": 17,
   "id": "d1dc8e58-02c7-4e3a-80ed-1704ccb63389",
   "metadata": {},
   "outputs": [
    {
     "data": {
      "text/plain": [
       "dict_items([('P1', 11), ('P3', 31), ('P2', 13)])"
      ]
     },
     "execution_count": 17,
     "metadata": {},
     "output_type": "execute_result"
    }
   ],
   "source": [
    "d.items()"
   ]
  },
  {
   "cell_type": "code",
   "execution_count": 18,
   "id": "10e059fe-6439-4534-a694-428d1412096b",
   "metadata": {},
   "outputs": [
    {
     "data": {
      "text/plain": [
       "dict_keys(['P1', 'P3', 'P2'])"
      ]
     },
     "execution_count": 18,
     "metadata": {},
     "output_type": "execute_result"
    }
   ],
   "source": [
    "d.keys()"
   ]
  },
  {
   "cell_type": "code",
   "execution_count": 19,
   "id": "9acee07a-6963-4ed6-b177-8b7c30f96e6c",
   "metadata": {},
   "outputs": [
    {
     "data": {
      "text/plain": [
       "dict_values([11, 31, 13])"
      ]
     },
     "execution_count": 19,
     "metadata": {},
     "output_type": "execute_result"
    }
   ],
   "source": [
    "d.values()"
   ]
  },
  {
   "cell_type": "markdown",
   "id": "9e535d44-c362-434b-a876-1d2a835523ea",
   "metadata": {},
   "source": [
    "---"
   ]
  },
  {
   "cell_type": "code",
   "execution_count": 20,
   "id": "66ea1bbb-5463-4773-8da1-6260a40e3785",
   "metadata": {},
   "outputs": [
    {
     "name": "stdout",
     "output_type": "stream",
     "text": [
      "('P1', 11)\n",
      "('P3', 31)\n",
      "('P2', 13)\n"
     ]
    }
   ],
   "source": [
    "for i in d.items():\n",
    "    print(i)"
   ]
  },
  {
   "cell_type": "code",
   "execution_count": 21,
   "id": "95655fef-eb93-4ef6-a050-721b7eded4cd",
   "metadata": {},
   "outputs": [
    {
     "name": "stdout",
     "output_type": "stream",
     "text": [
      "P1\n",
      "P3\n",
      "P2\n"
     ]
    }
   ],
   "source": [
    "for i in d.keys():\n",
    "    print(i)"
   ]
  },
  {
   "cell_type": "code",
   "execution_count": 22,
   "id": "58241386-9395-4aad-bb79-79a6b6e79de6",
   "metadata": {},
   "outputs": [
    {
     "name": "stdout",
     "output_type": "stream",
     "text": [
      "11\n",
      "31\n",
      "13\n"
     ]
    }
   ],
   "source": [
    "for i in d.values():\n",
    "    print(i)"
   ]
  },
  {
   "cell_type": "code",
   "execution_count": 23,
   "id": "267dfbd0-d13a-4f48-a10e-b42198751ea8",
   "metadata": {},
   "outputs": [
    {
     "name": "stdout",
     "output_type": "stream",
     "text": [
      "1\n",
      "2\n",
      "3\n"
     ]
    }
   ],
   "source": [
    "for i in np.array([1,2,3]):\n",
    "    print(i)"
   ]
  },
  {
   "cell_type": "markdown",
   "id": "d36bd06a-d395-45b7-ae87-03e946e08b2c",
   "metadata": {},
   "source": [
    "---"
   ]
  },
  {
   "cell_type": "markdown",
   "id": "d646d929-5ce3-4dcc-9bbd-790a81f8421d",
   "metadata": {},
   "source": [
    "> ### `반복문 중첩`"
   ]
  },
  {
   "cell_type": "code",
   "execution_count": 24,
   "id": "31afa990-ec0e-4865-8b2a-d901970ceff9",
   "metadata": {},
   "outputs": [
    {
     "name": "stdout",
     "output_type": "stream",
     "text": [
      "i*j=1*1=1\n",
      "i*j=1*2=2\n",
      "i*j=2*1=2\n",
      "i*j=2*2=4\n",
      "i*j=3*1=3\n",
      "i*j=3*2=6\n"
     ]
    }
   ],
   "source": [
    "for i in range(1,4,1):\n",
    "    for j in [1,2]:\n",
    "        print('i*j={}*{}={}'.format(i,j,i*j))"
   ]
  },
  {
   "cell_type": "markdown",
   "id": "b109b80d-ba3c-483e-97a8-81f30b4c4661",
   "metadata": {},
   "source": [
    "---"
   ]
  },
  {
   "cell_type": "markdown",
   "id": "356c2d7e-3206-48af-b6b3-c521e718bdc0",
   "metadata": {},
   "source": [
    "반복문은 iterable일 때 사용가능, then what is iterable??"
   ]
  },
  {
   "cell_type": "code",
   "execution_count": 34,
   "id": "a997ad48-b655-4c68-95c3-84046d94e297",
   "metadata": {},
   "outputs": [],
   "source": [
    "x_list=[1,2,3]"
   ]
  },
  {
   "cell_type": "code",
   "execution_count": 35,
   "id": "5e11a0fb-2631-416b-bc35-a3103f04dc66",
   "metadata": {},
   "outputs": [],
   "source": [
    "x_iter=iter(x_list)"
   ]
  },
  {
   "cell_type": "code",
   "execution_count": 36,
   "id": "198b230b-d9bd-4885-bd6f-18d34632668f",
   "metadata": {},
   "outputs": [
    {
     "data": {
      "text/plain": [
       "1"
      ]
     },
     "execution_count": 36,
     "metadata": {},
     "output_type": "execute_result"
    }
   ],
   "source": [
    "next(x_iter)\n",
    "# 하나하나 차례로 나올 것, 그리고 마지막엔 오류"
   ]
  },
  {
   "cell_type": "markdown",
   "id": "e82fd754-d5b3-4682-92a5-35ceedaad52d",
   "metadata": {},
   "source": [
    "`값을 하나씩 불러온다는 것만 알아두자`"
   ]
  },
  {
   "cell_type": "markdown",
   "id": "a0efb168-fbcd-40f9-af42-f9ebaf4bdc5f",
   "metadata": {},
   "source": [
    "---\n"
   ]
  },
  {
   "cell_type": "code",
   "execution_count": 42,
   "id": "d4938837-11f9-4a48-8821-bcac02fdd6dc",
   "metadata": {},
   "outputs": [
    {
     "name": "stdout",
     "output_type": "stream",
     "text": [
      "여긴 적용 O\n",
      "여긴 적용 O\n",
      "여긴 적용 O\n",
      "-----------\n",
      "여긴 적용 X\n"
     ]
    }
   ],
   "source": [
    "for i in range(3):\n",
    "    print('여긴 적용 O')\n",
    "    time.sleep(0.2)\n",
    "print('-----------')\n",
    "print('여긴 적용 X')"
   ]
  },
  {
   "cell_type": "markdown",
   "id": "26122bac-7abf-4c16-87f4-f058b03054e8",
   "metadata": {},
   "source": [
    "---"
   ]
  },
  {
   "cell_type": "code",
   "execution_count": 44,
   "id": "bbe2d9e8-8400-4eb2-997e-7dffc736af50",
   "metadata": {},
   "outputs": [],
   "source": [
    "m=np.array([1,2,3])\n",
    "n=['sd','asd','asdd']\n",
    "q={'a':11,'d':22,'c':123}"
   ]
  },
  {
   "cell_type": "code",
   "execution_count": 48,
   "id": "4b3a3873-f365-4eef-b20c-63efb1228644",
   "metadata": {},
   "outputs": [
    {
     "name": "stdout",
     "output_type": "stream",
     "text": [
      "0 sd\n",
      " \n",
      "1 asd\n",
      " \n",
      "2 asdd\n",
      " \n"
     ]
    }
   ],
   "source": [
    "# 인덱싱 번호랑 그 원소랑 짝 지어서!\n",
    "for i,v in enumerate(n):\n",
    "    print(i,v)\n",
    "    print(' ')"
   ]
  },
  {
   "cell_type": "code",
   "execution_count": 49,
   "id": "5d7391cf-b401-483b-88eb-f094f3cf0603",
   "metadata": {},
   "outputs": [
    {
     "data": {
      "text/plain": [
       "{'a': 11, 'd': 22, 'c': 123}"
      ]
     },
     "execution_count": 49,
     "metadata": {},
     "output_type": "execute_result"
    }
   ],
   "source": [
    "q"
   ]
  },
  {
   "cell_type": "code",
   "execution_count": 51,
   "id": "f76ec838-c052-4492-a668-2c2e25b2b225",
   "metadata": {},
   "outputs": [
    {
     "name": "stdout",
     "output_type": "stream",
     "text": [
      "0\n",
      "('a', 11)\n",
      " \n",
      "1\n",
      "('d', 22)\n",
      " \n",
      "2\n",
      "('c', 123)\n",
      " \n"
     ]
    }
   ],
   "source": [
    "for i,v in enumerate(q.items()):\n",
    "    print(i)\n",
    "    print(v)\n",
    "    print(' ')"
   ]
  },
  {
   "cell_type": "markdown",
   "id": "553e9faa-f116-4033-9c51-de4a0de15a93",
   "metadata": {},
   "source": [
    "- 인덱스를 1부터 시작하게 해서 count할 수 있음"
   ]
  },
  {
   "cell_type": "code",
   "execution_count": 52,
   "id": "49950c79-4ac0-4eb2-8d25-53395fdc4fff",
   "metadata": {},
   "outputs": [
    {
     "name": "stdout",
     "output_type": "stream",
     "text": [
      "1\n",
      "1\n",
      " \n",
      "2\n",
      "2\n",
      " \n",
      "3\n",
      "3\n",
      " \n"
     ]
    }
   ],
   "source": [
    "for i,v in enumerate(m,start=1):\n",
    "    print(i)\n",
    "    print(v)\n",
    "    print(' ')"
   ]
  },
  {
   "cell_type": "markdown",
   "id": "8431b750-ca6f-4269-b5c9-ebf480869286",
   "metadata": {},
   "source": [
    "반복문이 3번 실행됐음을 알 수 있다. "
   ]
  },
  {
   "cell_type": "markdown",
   "id": "1d8e8e7d-5eb3-42c1-b46f-d0804e837d89",
   "metadata": {},
   "source": [
    "----"
   ]
  },
  {
   "cell_type": "code",
   "execution_count": 54,
   "id": "6f7ea597-8dc0-44db-9228-4e635e92ef27",
   "metadata": {},
   "outputs": [
    {
     "data": {
      "text/plain": [
       "array([1, 2, 3])"
      ]
     },
     "execution_count": 54,
     "metadata": {},
     "output_type": "execute_result"
    }
   ],
   "source": [
    "m"
   ]
  },
  {
   "cell_type": "code",
   "execution_count": 55,
   "id": "2f7a9dbc-49ff-45bf-a8dc-0ebccc7c0048",
   "metadata": {},
   "outputs": [
    {
     "data": {
      "text/plain": [
       "['sd', 'asd', 'asdd']"
      ]
     },
     "execution_count": 55,
     "metadata": {},
     "output_type": "execute_result"
    }
   ],
   "source": [
    "n"
   ]
  },
  {
   "cell_type": "code",
   "execution_count": 59,
   "id": "43dde01f-989d-444a-a625-af769514838c",
   "metadata": {},
   "outputs": [
    {
     "data": {
      "text/plain": [
       "{'a': 11, 'd': 22, 'c': 123}"
      ]
     },
     "execution_count": 59,
     "metadata": {},
     "output_type": "execute_result"
    }
   ],
   "source": [
    "q"
   ]
  },
  {
   "cell_type": "code",
   "execution_count": 56,
   "id": "d8c7a139-5f6b-40ec-890a-0f54edd86f1a",
   "metadata": {},
   "outputs": [
    {
     "name": "stdout",
     "output_type": "stream",
     "text": [
      "(1, 'sd')\n",
      "(2, 'asd')\n",
      "(3, 'asdd')\n"
     ]
    }
   ],
   "source": [
    "for i in zip(m,n):\n",
    "    print(i)"
   ]
  },
  {
   "cell_type": "code",
   "execution_count": 57,
   "id": "5abed43f-3b81-4e1e-b71c-f876a832ace3",
   "metadata": {},
   "outputs": [
    {
     "name": "stdout",
     "output_type": "stream",
     "text": [
      "[1, 'sd']\n",
      "[2, 'asd']\n",
      "[3, 'asdd']\n"
     ]
    }
   ],
   "source": [
    "for i in zip(m,n):\n",
    "    print(list(i))"
   ]
  },
  {
   "cell_type": "code",
   "execution_count": 58,
   "id": "8cc45cf0-6237-456d-9286-eb1612cd240a",
   "metadata": {},
   "outputs": [
    {
     "name": "stdout",
     "output_type": "stream",
     "text": [
      "[1, 'sd', ('a', 11)]\n",
      "[2, 'asd', ('d', 22)]\n",
      "[3, 'asdd', ('c', 123)]\n"
     ]
    }
   ],
   "source": [
    "for i in zip(m,n,q.items()):\n",
    "    print(list(i))"
   ]
  },
  {
   "cell_type": "markdown",
   "id": "5c53503f-c493-4388-8f8a-236a52e45af9",
   "metadata": {},
   "source": [
    "----"
   ]
  },
  {
   "cell_type": "markdown",
   "id": "44589c02-c106-4843-94a9-323035c0680e",
   "metadata": {},
   "source": [
    "> `반복문 활용 예시`"
   ]
  },
  {
   "cell_type": "code",
   "execution_count": 60,
   "id": "1288c630-09c8-4669-8f14-faf4be6e9e7f",
   "metadata": {},
   "outputs": [
    {
     "name": "stdout",
     "output_type": "stream",
     "text": [
      "♡Best Company♡  Tel: 123-123123\n",
      " \n",
      "♡Best Company♡  Tel: 123-123123\n",
      " \n",
      "♡Best Company♡  Tel: 123-123123\n",
      " \n",
      "♡Best Company♡  Tel: 123-123123\n",
      " \n",
      "♡Best Company♡  Tel: 123-123123\n",
      " \n"
     ]
    }
   ],
   "source": [
    "s='♡Best Company♡  Tel: 123-123123'\n",
    "for i in range(5):\n",
    "    print(s)\n",
    "    print(' ')"
   ]
  },
  {
   "cell_type": "code",
   "execution_count": 62,
   "id": "e07de8e1-2b4e-4ced-b93a-8354bd51a7ed",
   "metadata": {},
   "outputs": [
    {
     "name": "stdout",
     "output_type": "stream",
     "text": [
      "1\n",
      "4\n",
      "9\n",
      "16\n",
      "25\n"
     ]
    }
   ],
   "source": [
    "x=np.array([1,2,3,4,5])\n",
    "for i in x:\n",
    "    print(i**2)\n",
    "    time.sleep(0.5)"
   ]
  },
  {
   "cell_type": "code",
   "execution_count": 65,
   "id": "eba61962-d541-4d9a-ad4b-1383f2be3520",
   "metadata": {},
   "outputs": [
    {
     "name": "stdout",
     "output_type": "stream",
     "text": [
      "1\n",
      "1\n",
      "\n",
      "2\n",
      "2\n",
      "\n",
      "3\n",
      "3\n",
      "\n",
      "4\n",
      "4\n",
      "\n",
      "5\n",
      "5\n",
      "\n"
     ]
    }
   ],
   "source": [
    "x=np.array([1,2,3,4,5])\n",
    "for i,x in enumerate(x,start=1):\n",
    "    print(i)\n",
    "    print(x)\n",
    "    print('')"
   ]
  },
  {
   "cell_type": "code",
   "execution_count": 66,
   "id": "2ec4eccc-31c5-4ccb-8e3a-f314491b6f3e",
   "metadata": {},
   "outputs": [
    {
     "name": "stdout",
     "output_type": "stream",
     "text": [
      "[1. 0. 0. 0. 0.]\n",
      "[1. 4. 0. 0. 0.]\n",
      "[1. 4. 9. 0. 0.]\n",
      "[ 1.  4.  9. 16.  0.]\n",
      "[ 1.  4.  9. 16. 25.]\n"
     ]
    }
   ],
   "source": [
    "x=np.array([1,2,3,4,5])\n",
    "y=np.zeros(x.shape)\n",
    "for i,x in enumerate(x):\n",
    "    y[i]=x**2\n",
    "    print(y)"
   ]
  },
  {
   "cell_type": "markdown",
   "id": "5af1711f-4f55-4a16-9840-15c42b0a68a7",
   "metadata": {},
   "source": [
    "---"
   ]
  },
  {
   "cell_type": "markdown",
   "id": "7c25dd58-93ed-4c23-8f87-7b049990fc89",
   "metadata": {},
   "source": [
    "> 피보나치 수열 : 앞 숫자를 계속 더해주는 수열"
   ]
  },
  {
   "cell_type": "code",
   "execution_count": 71,
   "id": "f21de431-79be-4b9d-b8af-087fb0e08913",
   "metadata": {},
   "outputs": [
    {
     "name": "stdout",
     "output_type": "stream",
     "text": [
      "[0 1 1]\n",
      "[0 1 1 2]\n",
      "[0 1 1 2 3]\n",
      "[0 1 1 2 3 5]\n",
      "[0 1 1 2 3 5 8]\n"
     ]
    }
   ],
   "source": [
    "a=np.array([0,1])\n",
    "for i in range(5):\n",
    "    a=np.append(a,a[-1]+a[-2])\n",
    "    print(a)"
   ]
  },
  {
   "cell_type": "markdown",
   "id": "62775faa-7df5-44de-b238-680d2aefdbf6",
   "metadata": {},
   "source": [
    "---"
   ]
  },
  {
   "cell_type": "markdown",
   "id": "3f2ecd4f-8b34-44bf-b0ee-e58cf93ef31e",
   "metadata": {},
   "source": [
    "- 피보나치 수열의 또 다른 표현"
   ]
  },
  {
   "cell_type": "code",
   "execution_count": 74,
   "id": "f5384a3d-bcde-44f7-ba30-8baa359450fe",
   "metadata": {},
   "outputs": [
    {
     "name": "stdout",
     "output_type": "stream",
     "text": [
      "0\n",
      "1\n",
      "1\n",
      "2\n",
      "3\n"
     ]
    }
   ],
   "source": [
    "a,b=0,1\n",
    "for i in range(5):\n",
    "    print(a)\n",
    "    a,b=b,a+b"
   ]
  },
  {
   "cell_type": "markdown",
   "id": "4fdca4ff-933b-4407-b4dc-7e47d0017259",
   "metadata": {},
   "source": [
    "---"
   ]
  },
  {
   "cell_type": "markdown",
   "id": "caf22e06-04cc-4b03-8e95-851c99f94ec6",
   "metadata": {},
   "source": [
    "> ### `***조건문`"
   ]
  },
  {
   "cell_type": "code",
   "execution_count": 75,
   "id": "4b7558ef-30d2-4e4c-960e-92d0f94428c1",
   "metadata": {},
   "outputs": [
    {
     "name": "stdin",
     "output_type": "stream",
     "text": [
      "Type any number:  564\n"
     ]
    },
    {
     "name": "stdout",
     "output_type": "stream",
     "text": [
      "Result is 565\n"
     ]
    }
   ],
   "source": [
    "x=input('Type any number: ')\n",
    "if x.isdigit():\n",
    "    y=int(x)+1\n",
    "    print('Result is {}'.format(y))\n",
    "else : print('정수 쳐 넣어')"
   ]
  },
  {
   "cell_type": "markdown",
   "id": "78ee8f75-c963-490c-92b8-3115cdc66242",
   "metadata": {},
   "source": [
    "- 첫번째 줄에서 입력되는 것이 숫자인지 문자인지? $\\to$ bool형으로 반환 필요 $\\to$ isdigit을 이용!!"
   ]
  },
  {
   "cell_type": "code",
   "execution_count": 77,
   "id": "82e8d610-be22-4cea-b8bd-983664694f34",
   "metadata": {},
   "outputs": [
    {
     "name": "stdin",
     "output_type": "stream",
     "text": [
      "Type any number:  ㅁㄴㅇ\n",
      "Try again:  ㅁㄴㅇㅁㄴ\n",
      "Try again:  ㅊㅁㅇㅍ\n",
      "Try again:  아니 시\n",
      "Try again:  아하\n",
      "Try again:  fasle나올 때까지 반복할 모양임\n",
      "Try again:  123\n"
     ]
    },
    {
     "name": "stdout",
     "output_type": "stream",
     "text": [
      "Result is 124\n"
     ]
    }
   ],
   "source": [
    "x=input('Type any number: ')\n",
    "while x.isdigit() != True :\n",
    "    x=input('Try again: ')\n",
    "y=int(x)+1\n",
    "print('Result is {}'.format(y))"
   ]
  },
  {
   "cell_type": "markdown",
   "id": "c7519cae-0ce0-435d-abeb-8983143a0793",
   "metadata": {},
   "source": [
    "while문 => 무한 반복(참인 경우에 한해서)"
   ]
  },
  {
   "cell_type": "code",
   "execution_count": 84,
   "id": "0d611909-0673-439a-8f94-7e816b17658c",
   "metadata": {},
   "outputs": [
    {
     "name": "stdin",
     "output_type": "stream",
     "text": [
      "몇살이니? :  15\n"
     ]
    },
    {
     "name": "stdout",
     "output_type": "stream",
     "text": [
      "승인은 가능하겠다\n"
     ]
    }
   ],
   "source": [
    "x=int(input('몇살이니? : '))\n",
    "if x>=18 : \n",
    "    print('면허 딸 수 있겠다')\n",
    "elif x>=15 & x<18 :\n",
    "    print('승인은 가능하겠다')\n",
    "else : \n",
    "    print('나이가 어려서 안 돼')"
   ]
  },
  {
   "cell_type": "code",
   "execution_count": 83,
   "id": "ead206cd-9e50-4d4e-801b-eaef03166649",
   "metadata": {},
   "outputs": [
    {
     "name": "stdin",
     "output_type": "stream",
     "text": [
      "몇살이니? :  15\n"
     ]
    },
    {
     "name": "stdout",
     "output_type": "stream",
     "text": [
      "승인은 가능하겠다\n"
     ]
    }
   ],
   "source": [
    "x=int(input('몇살이니? : '))\n",
    "if x>=18 : \n",
    "    print('면허 딸 수 있겠다')\n",
    "elif x>=15 and x<18 :\n",
    "    print('승인은 가능하겠다')\n",
    "else : \n",
    "    print('나이가 어려서 안 돼')"
   ]
  },
  {
   "cell_type": "markdown",
   "id": "fa082f3c-8cef-4113-8daa-317a35f17019",
   "metadata": {},
   "source": [
    "----"
   ]
  },
  {
   "cell_type": "code",
   "execution_count": 85,
   "id": "64610a35-f549-4d9f-bfce-1958e4e600be",
   "metadata": {},
   "outputs": [
    {
     "name": "stdin",
     "output_type": "stream",
     "text": [
      "please name:  a\n"
     ]
    },
    {
     "name": "stdout",
     "output_type": "stream",
     "text": [
      "어서와 a야\n"
     ]
    }
   ],
   "source": [
    "a=['a','b','c','d']\n",
    "check=input('please name: ')\n",
    "if check in a :\n",
    "    print('어서와' +\" \" + check+'야')\n",
    "else : print('넌 명단에 없네')"
   ]
  },
  {
   "cell_type": "markdown",
   "id": "44a71e55-870e-4cc1-b849-8d19e1861679",
   "metadata": {},
   "source": [
    "----"
   ]
  },
  {
   "cell_type": "markdown",
   "id": "82396bf3-0e53-48ed-83f8-7ab33134bc84",
   "metadata": {},
   "source": [
    "> `While`"
   ]
  },
  {
   "cell_type": "code",
   "execution_count": 86,
   "id": "a7e39dd0-25ab-48c2-a98d-b5588f0c6a53",
   "metadata": {},
   "outputs": [],
   "source": [
    "vip=['a','b','c','d']\n",
    "a=[1,2]\n",
    "a_=[]"
   ]
  },
  {
   "cell_type": "code",
   "execution_count": 87,
   "id": "f23f3c68-6d38-4fc4-ab82-c0c5fb4b0d19",
   "metadata": {},
   "outputs": [
    {
     "data": {
      "text/plain": [
       "True"
      ]
     },
     "execution_count": 87,
     "metadata": {},
     "output_type": "execute_result"
    }
   ],
   "source": [
    "bool(a)"
   ]
  },
  {
   "cell_type": "code",
   "execution_count": 88,
   "id": "dbe66567-f0c2-4d15-b629-9004fba9bf98",
   "metadata": {},
   "outputs": [
    {
     "data": {
      "text/plain": [
       "False"
      ]
     },
     "execution_count": 88,
     "metadata": {},
     "output_type": "execute_result"
    }
   ],
   "source": [
    "bool(a_)"
   ]
  },
  {
   "cell_type": "markdown",
   "id": "93c47085-4bee-4bc0-aace-eb5c0acc4701",
   "metadata": {},
   "source": [
    "while은 참일때만 실행하니까 vip리스트에 하나도 없으면, 즉 FALSE이면 실행 멈출 것"
   ]
  },
  {
   "cell_type": "code",
   "execution_count": 89,
   "id": "01c0b735-e577-4208-851c-795adbacd644",
   "metadata": {},
   "outputs": [
    {
     "name": "stdout",
     "output_type": "stream",
     "text": [
      "a\n",
      "remaining guest #: 3\n",
      "b\n",
      "remaining guest #: 2\n",
      "c\n",
      "remaining guest #: 1\n",
      "d\n",
      "remaining guest #: 0\n"
     ]
    }
   ],
   "source": [
    "while vip:\n",
    "    print(vip.pop(0))\n",
    "    print('remaining guest #: {}'.format(len(vip)))"
   ]
  },
  {
   "cell_type": "code",
   "execution_count": 90,
   "id": "de9d8df5-3578-4c57-b56c-76d347299bab",
   "metadata": {},
   "outputs": [],
   "source": [
    "a=list([1,2,3,4,5])"
   ]
  },
  {
   "cell_type": "code",
   "execution_count": 91,
   "id": "7cbb12bd-129f-4b15-8114-63260a302fa9",
   "metadata": {},
   "outputs": [
    {
     "data": {
      "text/plain": [
       "4"
      ]
     },
     "execution_count": 91,
     "metadata": {},
     "output_type": "execute_result"
    }
   ],
   "source": [
    "a.pop(3)"
   ]
  },
  {
   "cell_type": "code",
   "execution_count": 92,
   "id": "ea5c640c-6dd2-458b-af9d-dada3497cf37",
   "metadata": {},
   "outputs": [
    {
     "data": {
      "text/plain": [
       "[1, 2, 3, 5]"
      ]
     },
     "execution_count": 92,
     "metadata": {},
     "output_type": "execute_result"
    }
   ],
   "source": [
    "a"
   ]
  },
  {
   "cell_type": "markdown",
   "id": "c2e957b8-1dbc-4072-af11-5feb42c458ad",
   "metadata": {},
   "source": [
    "- pop함수 : 해당 인덱스 원소를 삭제하면서 삭제되는 원소도 반환시켜줌"
   ]
  },
  {
   "cell_type": "markdown",
   "id": "c5a1d4f4-cbaa-40c9-83ff-628179ce7b26",
   "metadata": {},
   "source": [
    "---"
   ]
  },
  {
   "cell_type": "code",
   "execution_count": 93,
   "id": "bc80efbc-8a6c-4f76-8e7e-d32f2a290d4a",
   "metadata": {},
   "outputs": [],
   "source": [
    "balance=10000 # 가지고 있는 돈\n",
    "interest=0.05 # 이자율\n",
    "yr=0 # 시작 연도\n",
    "\n",
    "# 통장에 10000원 넣어놓고 몇년이 지나야 20000원이 될까?"
   ]
  },
  {
   "cell_type": "code",
   "execution_count": 94,
   "id": "5a39fc70-67ce-467b-9abe-92c2d9786e55",
   "metadata": {},
   "outputs": [
    {
     "name": "stdout",
     "output_type": "stream",
     "text": [
      "Year: 1\n",
      "Current values= 10500.0\n",
      "Year: 2\n",
      "Current values= 11025.0\n",
      "Year: 3\n",
      "Current values= 11576.25\n",
      "Year: 4\n",
      "Current values= 12155.0625\n",
      "Year: 5\n",
      "Current values= 12762.815625000001\n",
      "Year: 6\n",
      "Current values= 13400.956406250001\n",
      "Year: 7\n",
      "Current values= 14071.004226562502\n",
      "Year: 8\n",
      "Current values= 14774.554437890627\n",
      "Year: 9\n",
      "Current values= 15513.28215978516\n",
      "Year: 10\n",
      "Current values= 16288.946267774418\n",
      "Year: 11\n",
      "Current values= 17103.393581163138\n",
      "Year: 12\n",
      "Current values= 17958.563260221297\n",
      "Year: 13\n",
      "Current values= 18856.491423232364\n",
      "Year: 14\n",
      "Current values= 19799.315994393983\n",
      "Year: 15\n",
      "Current values= 20789.281794113682\n"
     ]
    }
   ],
   "source": [
    "while balance < 20000:\n",
    "    balance=balance*(1+interest)\n",
    "    yr+=1\n",
    "    print('Year: {}'.format(yr))\n",
    "    print('Current values= {}'.format(balance))"
   ]
  },
  {
   "cell_type": "markdown",
   "id": "864a8eb3-2b33-48a3-8d22-6e386812e96a",
   "metadata": {},
   "source": [
    "---"
   ]
  },
  {
   "cell_type": "markdown",
   "id": "0eead053-1e64-4476-8fe8-763c9b96ff5e",
   "metadata": {},
   "source": [
    "즉 15년까지 while이 진행됐다는 건 15년째 20000을 넘었기 때문에 다음 16이 진행 안 된 것 ,\n",
    "\n",
    "따라서 15년때 20000을 넘은 것을 알 수 있음"
   ]
  },
  {
   "cell_type": "markdown",
   "id": "8d5e2cf2-9e7e-4b76-b66a-85c7dd0d9503",
   "metadata": {},
   "source": [
    "---\n"
   ]
  },
  {
   "cell_type": "code",
   "execution_count": 95,
   "id": "6cf829d5-4949-41b1-a347-a419ce95fb5e",
   "metadata": {},
   "outputs": [
    {
     "name": "stdout",
     "output_type": "stream",
     "text": [
      "0\n",
      "1\n",
      "2\n",
      "3\n"
     ]
    }
   ],
   "source": [
    "for i in range(5):\n",
    "    print(i)\n",
    "    if i ==3 : break"
   ]
  },
  {
   "cell_type": "code",
   "execution_count": 96,
   "id": "20c12d19-7964-4806-821d-398825ce5789",
   "metadata": {},
   "outputs": [
    {
     "name": "stdout",
     "output_type": "stream",
     "text": [
      "# of Year : 1\n",
      "Current values= 10500.0\n",
      "# of Year : 2\n",
      "Current values= 11025.0\n",
      "# of Year : 3\n",
      "Current values= 11576.25\n",
      "# of Year : 4\n",
      "Current values= 12155.0625\n",
      "# of Year : 5\n",
      "Current values= 12762.815625000001\n",
      "# of Year : 6\n",
      "Current values= 13400.956406250001\n",
      "# of Year : 7\n",
      "Current values= 14071.004226562502\n",
      "# of Year : 8\n",
      "Current values= 14774.554437890627\n",
      "# of Year : 9\n",
      "Current values= 15513.28215978516\n",
      "# of Year : 10\n",
      "Current values= 16288.946267774418\n",
      "# of Year : 11\n",
      "Current values= 17103.393581163138\n",
      "# of Year : 12\n",
      "Current values= 17958.563260221297\n",
      "# of Year : 13\n",
      "Current values= 18856.491423232364\n",
      "# of Year : 14\n",
      "Current values= 19799.315994393983\n",
      "# of Year : 15\n",
      "Current values= 20789.281794113682\n"
     ]
    }
   ],
   "source": [
    "balance=10000 # 가지고 있는 돈\n",
    "interest=0.05 # 이자율\n",
    "yr=0 # 시작 연도\n",
    "\n",
    "for i in range(10000):\n",
    "    balance=balance*(1+interest)\n",
    "    yr+=1\n",
    "    print('# of Year : {}'.format(yr))\n",
    "    print('Current values= {}'.format(balance))\n",
    "    if balance >20000 : break"
   ]
  },
  {
   "cell_type": "markdown",
   "id": "f1a61280-c2d8-474b-9c36-7e34d503c134",
   "metadata": {},
   "source": [
    "> 즉 15는 20000을 넘어서 break된 것을 알 수 있음"
   ]
  },
  {
   "cell_type": "markdown",
   "id": "ff16e066-c846-40a4-aa91-53e9f6adcc61",
   "metadata": {},
   "source": [
    "----"
   ]
  },
  {
   "cell_type": "code",
   "execution_count": 97,
   "id": "8d88e0ff-3fad-40c5-909e-2b7c9993876f",
   "metadata": {},
   "outputs": [],
   "source": [
    "for i in range(5):\n",
    "    continue\n",
    "    print(i)"
   ]
  },
  {
   "cell_type": "markdown",
   "id": "77a12a24-48ad-4dba-87b0-57ba0cbf6f82",
   "metadata": {},
   "source": [
    "왜 아무것도 출력 X ?\n",
    "\n",
    "- 반복문은 다섯번 반복됐으나 그럴 때마다 continue를 만나서 다시 위로 올라가서 반복했기 때문"
   ]
  },
  {
   "cell_type": "markdown",
   "id": "dcef7c92-0827-4847-987a-8e1fa7418ed8",
   "metadata": {},
   "source": [
    "- 이런 기능을 가진 continue를 이렇게 활용해보자"
   ]
  },
  {
   "cell_type": "code",
   "execution_count": 98,
   "id": "21b627fa-f7d1-4e60-8f7b-d71cdf6a0551",
   "metadata": {},
   "outputs": [
    {
     "name": "stdout",
     "output_type": "stream",
     "text": [
      "0\n",
      "1\n",
      "3\n",
      "4\n"
     ]
    }
   ],
   "source": [
    "for i in range(5):\n",
    "    if i==2 : continue\n",
    "    print(i)"
   ]
  },
  {
   "cell_type": "markdown",
   "id": "dfb3c260-bae0-4871-976e-c8a636fe6a53",
   "metadata": {},
   "source": [
    "---"
   ]
  },
  {
   "cell_type": "code",
   "execution_count": 99,
   "id": "85d9a5a6-1952-486b-ad06-3f8e95b4202d",
   "metadata": {},
   "outputs": [],
   "source": [
    "temp=[18,19,20,-10,-20,-30]"
   ]
  },
  {
   "cell_type": "code",
   "execution_count": 100,
   "id": "81be4614-c4c7-422c-8800-100adbce97f0",
   "metadata": {},
   "outputs": [
    {
     "name": "stdout",
     "output_type": "stream",
     "text": [
      "T=18\n",
      "T=19\n",
      "T=20\n",
      "T=-10\n",
      "T=-20\n",
      "T=-30\n"
     ]
    }
   ],
   "source": [
    "for t in temp:\n",
    "    print('T={}'.format(t))"
   ]
  },
  {
   "cell_type": "markdown",
   "id": "fcc336a7-c0df-4455-b3bb-eca0481771f8",
   "metadata": {},
   "source": [
    "- continue 이렇게 활용하자!\n",
    "\n",
    "- 이때 -값은 오류라고 생각하고 print하고 싶지 않을 땐?"
   ]
  },
  {
   "cell_type": "code",
   "execution_count": 102,
   "id": "7ce5f656-5d05-43f6-9477-4338045f94da",
   "metadata": {},
   "outputs": [
    {
     "name": "stdout",
     "output_type": "stream",
     "text": [
      "T=18\n",
      "T=19\n",
      "T=20\n"
     ]
    }
   ],
   "source": [
    "for t in temp:\n",
    "    if t<0 :\n",
    "        continue\n",
    "    print('T={}'.format(t))"
   ]
  },
  {
   "cell_type": "markdown",
   "id": "80bda75a-2a8c-4448-81ca-82f015c56062",
   "metadata": {},
   "source": [
    "---"
   ]
  },
  {
   "cell_type": "code",
   "execution_count": 103,
   "id": "7d0380b6-b508-4603-b8a9-6f00582caedf",
   "metadata": {},
   "outputs": [],
   "source": [
    "for x in range(5):\n",
    "    pass\n",
    "x=1"
   ]
  },
  {
   "cell_type": "code",
   "execution_count": 104,
   "id": "c66cd612-c38b-4662-bd01-c3d3836b7689",
   "metadata": {},
   "outputs": [
    {
     "data": {
      "text/plain": [
       "1"
      ]
     },
     "execution_count": 104,
     "metadata": {},
     "output_type": "execute_result"
    }
   ],
   "source": [
    "x"
   ]
  },
  {
   "cell_type": "code",
   "execution_count": 105,
   "id": "2e3292cd-61c7-4836-b380-ee81278ceb80",
   "metadata": {},
   "outputs": [],
   "source": [
    "if True:\n",
    "    pass\n",
    "x=1"
   ]
  },
  {
   "cell_type": "code",
   "execution_count": 106,
   "id": "132a0a94-b629-46f1-b46f-d0abaac9e988",
   "metadata": {},
   "outputs": [
    {
     "data": {
      "text/plain": [
       "1"
      ]
     },
     "execution_count": 106,
     "metadata": {},
     "output_type": "execute_result"
    }
   ],
   "source": [
    "x"
   ]
  },
  {
   "cell_type": "code",
   "execution_count": 107,
   "id": "6fa190d1-9017-4524-b291-a4046a93aa51",
   "metadata": {},
   "outputs": [],
   "source": [
    "def myfun():\n",
    "    pass\n",
    "a=23"
   ]
  },
  {
   "cell_type": "code",
   "execution_count": 108,
   "id": "9d5904be-75ea-432f-a2a0-2a94742a1116",
   "metadata": {},
   "outputs": [
    {
     "data": {
      "text/plain": [
       "23"
      ]
     },
     "execution_count": 108,
     "metadata": {},
     "output_type": "execute_result"
    }
   ],
   "source": [
    "a"
   ]
  },
  {
   "cell_type": "markdown",
   "id": "1281d516-b3e1-4465-ac6f-db68260b1c53",
   "metadata": {},
   "source": [
    "그냥 일단 패스시켜놓고 나중에 완성 시키고 싶을 때"
   ]
  },
  {
   "cell_type": "markdown",
   "id": "6e93e782-7073-4c34-8b2a-d380b2652280",
   "metadata": {},
   "source": [
    "---"
   ]
  },
  {
   "cell_type": "markdown",
   "id": "2273dac6-d20d-4a8f-9496-3d45a3c63d11",
   "metadata": {},
   "source": [
    "> 예외처리?"
   ]
  },
  {
   "cell_type": "code",
   "execution_count": 109,
   "id": "dff61605-b0b9-4e5b-a5c5-3f2f0611ef76",
   "metadata": {},
   "outputs": [
    {
     "name": "stdin",
     "output_type": "stream",
     "text": [
      "몇살이니?:  5645\n"
     ]
    },
    {
     "name": "stdout",
     "output_type": "stream",
     "text": [
      "Age=5645\n"
     ]
    }
   ],
   "source": [
    "age=int(input('몇살이니?: '))\n",
    "print('Age={}'.format(age))"
   ]
  },
  {
   "cell_type": "markdown",
   "id": "06c9975e-aa14-4ca0-a02a-c07d8bf2960c",
   "metadata": {},
   "source": [
    "- 만약 여기서 숫자가 아닌 문자를 넣으면 value error가 발생할 것"
   ]
  },
  {
   "cell_type": "code",
   "execution_count": 111,
   "id": "e26fc99a-00b3-498e-8c88-95013fac1e8e",
   "metadata": {},
   "outputs": [
    {
     "name": "stdin",
     "output_type": "stream",
     "text": [
      "몇살이니?:  ㅁㄴ\n"
     ]
    },
    {
     "name": "stdout",
     "output_type": "stream",
     "text": [
      "숫자를 입력해주세요\n"
     ]
    },
    {
     "name": "stdin",
     "output_type": "stream",
     "text": [
      "몇살이니?:  ㅁㅇ\n"
     ]
    },
    {
     "name": "stdout",
     "output_type": "stream",
     "text": [
      "숫자를 입력해주세요\n"
     ]
    },
    {
     "name": "stdin",
     "output_type": "stream",
     "text": [
      "몇살이니?:  56\n"
     ]
    },
    {
     "name": "stdout",
     "output_type": "stream",
     "text": [
      "Age=56\n"
     ]
    }
   ],
   "source": [
    "while True:\n",
    "    try:\n",
    "        age=int(input('몇살이니?: '))\n",
    "        print('Age={}'.format(age))\n",
    "        break\n",
    "    except ValueError:\n",
    "        print('숫자를 입력해주세요')"
   ]
  },
  {
   "cell_type": "markdown",
   "id": "a2617a5b-4b14-4783-b8ce-0074709213a2",
   "metadata": {},
   "source": [
    "숫자를 입력할 때까지 while문이 실행될 것"
   ]
  },
  {
   "cell_type": "code",
   "execution_count": 120,
   "id": "0e60c045-084a-4ba5-8015-5b8c67bec407",
   "metadata": {},
   "outputs": [],
   "source": [
    "a=np.array([10,20,30,40,50,-80])\n",
    "num_max=np.NINF # 음의 무한대를 의미함\n",
    "for i in a:\n",
    "    num_curr = i\n",
    "    if num_max < num_curr:\n",
    "        num_max=num_curr"
   ]
  },
  {
   "cell_type": "code",
   "execution_count": 121,
   "id": "1a36147a-fc1b-478c-959f-53cfacfac6d0",
   "metadata": {},
   "outputs": [
    {
     "data": {
      "text/plain": [
       "50"
      ]
     },
     "execution_count": 121,
     "metadata": {},
     "output_type": "execute_result"
    }
   ],
   "source": [
    "num_max"
   ]
  },
  {
   "cell_type": "markdown",
   "id": "35bfc5db-6616-4f64-bf4f-db5dabc3d3cd",
   "metadata": {},
   "source": [
    "-80은 실행 X"
   ]
  },
  {
   "cell_type": "markdown",
   "id": "b34efd2c-3d5e-4436-bddc-1477f8773ee3",
   "metadata": {},
   "source": [
    "---"
   ]
  },
  {
   "cell_type": "code",
   "execution_count": 122,
   "id": "5c7f3579-a92b-497f-b413-a7519a88a82e",
   "metadata": {},
   "outputs": [
    {
     "name": "stdout",
     "output_type": "stream",
     "text": [
      "1는 홀수\n",
      "2는 짝수\n",
      "3는 홀수\n",
      "4는 짝수\n",
      "5는 홀수\n",
      "6는 짝수\n"
     ]
    }
   ],
   "source": [
    "a=np.array([1,2,3,4,5,6])\n",
    "for i in a:\n",
    "    if i%2==0:\n",
    "        print('{}는 짝수'.format(i))\n",
    "    else : print('{}는 홀수'.format(i))"
   ]
  },
  {
   "cell_type": "markdown",
   "id": "ed507d8d-2b5c-43e8-8271-d901a362edf1",
   "metadata": {},
   "source": [
    "---"
   ]
  },
  {
   "cell_type": "markdown",
   "id": "bec4e058-5b98-4f83-bd7d-969c248d785b",
   "metadata": {},
   "source": [
    "> User Interface Example/ `UI`"
   ]
  },
  {
   "cell_type": "code",
   "execution_count": 123,
   "id": "9fb4f246-667b-4731-8dc0-5c90fe6c1194",
   "metadata": {},
   "outputs": [
    {
     "name": "stdin",
     "output_type": "stream",
     "text": [
      "ID:  45\n",
      "PW:  45\n"
     ]
    },
    {
     "name": "stdout",
     "output_type": "stream",
     "text": [
      "\n",
      "까먹음? 다시 시도 ㄱㄱ\n",
      "2 번 더 시도 가능\n"
     ]
    },
    {
     "name": "stdin",
     "output_type": "stream",
     "text": [
      "ID:  45\n",
      "PW:  45\n"
     ]
    },
    {
     "name": "stdout",
     "output_type": "stream",
     "text": [
      "\n",
      "까먹음? 다시 시도 ㄱㄱ\n",
      "1 번 더 시도 가능\n"
     ]
    },
    {
     "name": "stdin",
     "output_type": "stream",
     "text": [
      "ID:  45\n",
      "PW:  45\n"
     ]
    },
    {
     "name": "stdout",
     "output_type": "stream",
     "text": [
      "\n",
      "까먹음? 다시 시도 ㄱㄱ\n",
      "0 번 더 시도 가능\n"
     ]
    }
   ],
   "source": [
    "db={'a':'a1','b':'b1','c':'c1'}\n",
    "password_attemps=3\n",
    "while password_attemps > 0 :\n",
    "    user_id = input('ID: ')\n",
    "    user_ps = input('PW: ')\n",
    "    if user_id in db.keys() and \\\n",
    "    user_ps in db.values() :\n",
    "        print('\\nLog in Successful!')\n",
    "        break\n",
    "    else:\n",
    "        password_attemps-=1\n",
    "        print('\\n까먹음? 다시 시도 ㄱㄱ')\n",
    "        print('{} 번 더 시도 가능'.format(password_attemps))"
   ]
  },
  {
   "cell_type": "markdown",
   "id": "d235bbd8-ec3e-461e-ad5e-f867e0e85bdb",
   "metadata": {},
   "source": [
    "> 여기서는 구현하지 않았지만 import getpass 기능을 이용해서 password입력 할 때 해당 PW를 안 보이게 해줄 수 있음"
   ]
  },
  {
   "cell_type": "markdown",
   "id": "6517975f-18c9-4ff0-b533-14a91d828153",
   "metadata": {},
   "source": [
    "---"
   ]
  },
  {
   "cell_type": "code",
   "execution_count": 127,
   "id": "b208178c-a8b4-4125-8fd5-0894ea3c0deb",
   "metadata": {},
   "outputs": [],
   "source": [
    "my_str='python'\n",
    "my_str2=[]\n",
    "for letter in my_str:\n",
    "    my_str2.append(letter)"
   ]
  },
  {
   "cell_type": "code",
   "execution_count": 128,
   "id": "a3dc57d5-e63f-4022-9548-3cdef9843516",
   "metadata": {},
   "outputs": [
    {
     "data": {
      "text/plain": [
       "'python'"
      ]
     },
     "execution_count": 128,
     "metadata": {},
     "output_type": "execute_result"
    }
   ],
   "source": [
    "my_str"
   ]
  },
  {
   "cell_type": "code",
   "execution_count": 129,
   "id": "4878c52e-2d74-41f4-adbe-5bdb69e115cf",
   "metadata": {},
   "outputs": [
    {
     "data": {
      "text/plain": [
       "['p', 'y', 't', 'h', 'o', 'n']"
      ]
     },
     "execution_count": 129,
     "metadata": {},
     "output_type": "execute_result"
    }
   ],
   "source": [
    "my_str2"
   ]
  },
  {
   "cell_type": "markdown",
   "id": "d50f9edb-9a2c-454c-bc6a-8375c8c020f6",
   "metadata": {},
   "source": [
    "$\\to$ 이걸 한 줄로 가능하게 하는 것이 List Comprehension"
   ]
  },
  {
   "cell_type": "code",
   "execution_count": 130,
   "id": "116e5970-5b70-4b6c-986d-8916bf5141c3",
   "metadata": {},
   "outputs": [
    {
     "data": {
      "text/plain": [
       "['p', 'y', 't', 'h', 'o', 'n']"
      ]
     },
     "execution_count": 130,
     "metadata": {},
     "output_type": "execute_result"
    }
   ],
   "source": [
    "my_str3=[letter for letter in my_str]\n",
    "my_str3"
   ]
  },
  {
   "cell_type": "markdown",
   "id": "8b022838-a9ab-424a-b4b0-3c0c588b1710",
   "metadata": {},
   "source": [
    "> `list comprehension` $+$ `조건`"
   ]
  },
  {
   "cell_type": "code",
   "execution_count": 131,
   "id": "a00676f3-0390-4ac8-868e-50234d24cf45",
   "metadata": {},
   "outputs": [],
   "source": [
    "num=[a for a in range(20) if a%2==0]"
   ]
  },
  {
   "cell_type": "code",
   "execution_count": 132,
   "id": "70dc3143-223f-45e8-86df-a6294600b0bf",
   "metadata": {},
   "outputs": [
    {
     "data": {
      "text/plain": [
       "[0, 2, 4, 6, 8, 10, 12, 14, 16, 18]"
      ]
     },
     "execution_count": 132,
     "metadata": {},
     "output_type": "execute_result"
    }
   ],
   "source": [
    "num"
   ]
  },
  {
   "cell_type": "code",
   "execution_count": 133,
   "id": "f19203de-a629-464d-ae45-953a45e37eff",
   "metadata": {},
   "outputs": [],
   "source": [
    "num=[a for a in range(20) if a%2!=0]"
   ]
  },
  {
   "cell_type": "code",
   "execution_count": 134,
   "id": "a8255383-2e0a-4c6d-84cb-92499832afae",
   "metadata": {},
   "outputs": [
    {
     "data": {
      "text/plain": [
       "[1, 3, 5, 7, 9, 11, 13, 15, 17, 19]"
      ]
     },
     "execution_count": 134,
     "metadata": {},
     "output_type": "execute_result"
    }
   ],
   "source": [
    "num"
   ]
  },
  {
   "cell_type": "code",
   "execution_count": 135,
   "id": "1e2f10a1-2e74-405b-898e-006dfdc1d961",
   "metadata": {},
   "outputs": [],
   "source": [
    "num=[a for a in range(50) if a%5==0 and a%2==0]"
   ]
  },
  {
   "cell_type": "code",
   "execution_count": 136,
   "id": "439b8d5d-9b8a-47a2-a0e5-715a44821727",
   "metadata": {},
   "outputs": [
    {
     "data": {
      "text/plain": [
       "[0, 10, 20, 30, 40]"
      ]
     },
     "execution_count": 136,
     "metadata": {},
     "output_type": "execute_result"
    }
   ],
   "source": [
    "num"
   ]
  },
  {
   "cell_type": "markdown",
   "id": "b4688b65-ca16-4eeb-8282-1d9db8f51b51",
   "metadata": {},
   "source": [
    "또는"
   ]
  },
  {
   "cell_type": "code",
   "execution_count": 137,
   "id": "01dfa7d7-dd8b-42cf-a688-646b63f3bdf2",
   "metadata": {},
   "outputs": [],
   "source": [
    "num=[a for a in range(50) if a%5==0\n",
    "     if a%2==0]"
   ]
  },
  {
   "cell_type": "code",
   "execution_count": 138,
   "id": "ec6e83cf-d816-40db-ab42-0044e3072d66",
   "metadata": {},
   "outputs": [
    {
     "data": {
      "text/plain": [
       "[0, 10, 20, 30, 40]"
      ]
     },
     "execution_count": 138,
     "metadata": {},
     "output_type": "execute_result"
    }
   ],
   "source": [
    "num"
   ]
  },
  {
   "cell_type": "markdown",
   "id": "4bdea602-8970-4d60-8d70-57d1af47e748",
   "metadata": {},
   "source": [
    "---"
   ]
  },
  {
   "cell_type": "markdown",
   "id": "5902cb86-e1ca-4659-825f-4110432ffaa1",
   "metadata": {},
   "source": [
    "차이점!!!"
   ]
  },
  {
   "cell_type": "code",
   "execution_count": 143,
   "id": "2168f2c6-8e1d-4553-b186-3f3e152708c5",
   "metadata": {},
   "outputs": [],
   "source": [
    "num=[a for a in range(50) if a%5==0 and a%2==0]"
   ]
  },
  {
   "cell_type": "code",
   "execution_count": 144,
   "id": "3544a8cb-93bb-48d6-a03d-9f2ab7ded42b",
   "metadata": {},
   "outputs": [
    {
     "data": {
      "text/plain": [
       "[0, 10, 20, 30, 40]"
      ]
     },
     "execution_count": 144,
     "metadata": {},
     "output_type": "execute_result"
    }
   ],
   "source": [
    "num"
   ]
  },
  {
   "cell_type": "code",
   "execution_count": 149,
   "id": "1301fbda-e5a0-4550-b98e-d0fe30a6a64f",
   "metadata": {},
   "outputs": [],
   "source": [
    "num=[a for a in range(50) if a%5==0 if a%2==0]"
   ]
  },
  {
   "cell_type": "code",
   "execution_count": 150,
   "id": "c630641c-d02c-41a4-bdb1-e1025269405c",
   "metadata": {},
   "outputs": [
    {
     "data": {
      "text/plain": [
       "[0, 10, 20, 30, 40]"
      ]
     },
     "execution_count": 150,
     "metadata": {},
     "output_type": "execute_result"
    }
   ],
   "source": [
    "num"
   ]
  },
  {
   "cell_type": "code",
   "execution_count": 151,
   "id": "b010ab42-28a9-4e0c-b1bd-64b5ae4037c6",
   "metadata": {},
   "outputs": [],
   "source": [
    "num=[a for a in range(50) if a%5==0 & a%2==0]"
   ]
  },
  {
   "cell_type": "code",
   "execution_count": 152,
   "id": "c2bee0c2-f6d6-4d86-8ee2-1bc956815ede",
   "metadata": {},
   "outputs": [
    {
     "data": {
      "text/plain": [
       "[0, 5, 10, 15, 20, 25, 30, 35, 40, 45]"
      ]
     },
     "execution_count": 152,
     "metadata": {},
     "output_type": "execute_result"
    }
   ],
   "source": [
    "num"
   ]
  },
  {
   "cell_type": "markdown",
   "id": "1e2ea9eb-ae5d-4856-9695-4aaf78a99a4f",
   "metadata": {},
   "source": [
    "차이점 꼭!!!!!! "
   ]
  },
  {
   "cell_type": "markdown",
   "id": "bdc1c189-f4bf-4bbf-9b7d-38b4c2f76a8f",
   "metadata": {},
   "source": [
    "----"
   ]
  },
  {
   "cell_type": "code",
   "execution_count": 153,
   "id": "2c586958-b9d4-4192-a776-4ab3694a0b3c",
   "metadata": {},
   "outputs": [],
   "source": [
    "aaa=['짝수'if i%2==0 else '홀수' for i in range(10)]"
   ]
  },
  {
   "cell_type": "code",
   "execution_count": 154,
   "id": "dd3bd0a1-3f59-4697-b569-3cb64fb7d2af",
   "metadata": {},
   "outputs": [
    {
     "data": {
      "text/plain": [
       "['짝수', '홀수', '짝수', '홀수', '짝수', '홀수', '짝수', '홀수', '짝수', '홀수']"
      ]
     },
     "execution_count": 154,
     "metadata": {},
     "output_type": "execute_result"
    }
   ],
   "source": [
    "aaa"
   ]
  },
  {
   "cell_type": "markdown",
   "id": "99a01946-5f69-4d9d-a794-fc96ac3dbb1d",
   "metadata": {},
   "source": [
    "---"
   ]
  },
  {
   "cell_type": "markdown",
   "id": "78312be8-2057-4cda-acc3-c87b7ab7adfe",
   "metadata": {},
   "source": [
    "> `dict comprehension`"
   ]
  },
  {
   "cell_type": "code",
   "execution_count": 155,
   "id": "73bbcdb5-cc89-4701-858a-500a91dd2f6f",
   "metadata": {},
   "outputs": [
    {
     "data": {
      "text/plain": [
       "{0: 0, 1: 1, 2: 4, 3: 9, 4: 16, 5: 25}"
      ]
     },
     "execution_count": 155,
     "metadata": {},
     "output_type": "execute_result"
    }
   ],
   "source": [
    "a={i:i**2 for i in range(6)}\n",
    "a"
   ]
  },
  {
   "cell_type": "markdown",
   "id": "1783f5c0-1bb6-4ba1-835a-af4c3bda1b11",
   "metadata": {},
   "source": [
    "---"
   ]
  },
  {
   "cell_type": "code",
   "execution_count": 156,
   "id": "efa650bb-4ecd-440d-bc4d-18b79392d73d",
   "metadata": {},
   "outputs": [],
   "source": [
    "import sys,os"
   ]
  },
  {
   "cell_type": "code",
   "execution_count": 157,
   "id": "503daac6-cbb5-4c88-b729-86022ed263e0",
   "metadata": {},
   "outputs": [
    {
     "name": "stdout",
     "output_type": "stream",
     "text": [
      "C:\\Users\\ehfus\\Downloads\\python Introduction\n"
     ]
    }
   ],
   "source": [
    "print(os.getcwd())"
   ]
  },
  {
   "cell_type": "code",
   "execution_count": 276,
   "id": "1c9bb449-344d-4080-a2ca-e1ec133d1418",
   "metadata": {},
   "outputs": [],
   "source": [
    "os.mkdir('my_dir')\n",
    "# 현재 있는 위치에서 my_dir을 하나 만듦"
   ]
  },
  {
   "cell_type": "code",
   "execution_count": 277,
   "id": "99b1ccc6-b518-4202-8a9f-7e0c39cfa485",
   "metadata": {},
   "outputs": [],
   "source": [
    "os.chdir('.\\my_dir')"
   ]
  },
  {
   "cell_type": "markdown",
   "id": "60a8d181-8786-416f-863c-e9a51807e623",
   "metadata": {},
   "source": [
    "파일 100개 만들어보자"
   ]
  },
  {
   "cell_type": "code",
   "execution_count": 279,
   "id": "e1bd0615-289f-4a00-a280-abd5a524e123",
   "metadata": {},
   "outputs": [],
   "source": [
    "for i in range(100):\n",
    "    f=open('NewFile'+str(i),'w') # 파일을 쓸 거니까 'w'\n",
    "    f.close()"
   ]
  },
  {
   "cell_type": "markdown",
   "id": "7142b84e-d46c-4fad-b06d-5f038c121457",
   "metadata": {},
   "source": [
    "100개의 파일에 뭘 쓰진 않았음. 이제 파일의 이름을 바꿔보자"
   ]
  },
  {
   "cell_type": "markdown",
   "id": "bb0cf041-d1c6-4e0c-a891-6084ffcec951",
   "metadata": {},
   "source": [
    "반복문을 통해 100개의 파일 이름을 바꾸기 전에 100개 파일의 이름을 일단 받아오자"
   ]
  },
  {
   "cell_type": "code",
   "execution_count": 281,
   "id": "3d8d3873-d50e-4785-a770-a4f23c4a604b",
   "metadata": {},
   "outputs": [],
   "source": [
    "flist=os.listdir('.')"
   ]
  },
  {
   "cell_type": "code",
   "execution_count": 282,
   "id": "598610ae-f756-44a1-a2aa-f529e392e271",
   "metadata": {},
   "outputs": [
    {
     "data": {
      "text/plain": [
       "['NewFile0',\n",
       " 'NewFile1',\n",
       " 'NewFile10',\n",
       " 'NewFile11',\n",
       " 'NewFile12',\n",
       " 'NewFile13',\n",
       " 'NewFile14',\n",
       " 'NewFile15',\n",
       " 'NewFile16',\n",
       " 'NewFile17',\n",
       " 'NewFile18',\n",
       " 'NewFile19',\n",
       " 'NewFile2',\n",
       " 'NewFile20',\n",
       " 'NewFile21',\n",
       " 'NewFile22',\n",
       " 'NewFile23',\n",
       " 'NewFile24',\n",
       " 'NewFile25',\n",
       " 'NewFile26',\n",
       " 'NewFile27',\n",
       " 'NewFile28',\n",
       " 'NewFile29',\n",
       " 'NewFile3',\n",
       " 'NewFile30',\n",
       " 'NewFile31',\n",
       " 'NewFile32',\n",
       " 'NewFile33',\n",
       " 'NewFile34',\n",
       " 'NewFile35',\n",
       " 'NewFile36',\n",
       " 'NewFile37',\n",
       " 'NewFile38',\n",
       " 'NewFile39',\n",
       " 'NewFile4',\n",
       " 'NewFile40',\n",
       " 'NewFile41',\n",
       " 'NewFile42',\n",
       " 'NewFile43',\n",
       " 'NewFile44',\n",
       " 'NewFile45',\n",
       " 'NewFile46',\n",
       " 'NewFile47',\n",
       " 'NewFile48',\n",
       " 'NewFile49',\n",
       " 'NewFile5',\n",
       " 'NewFile50',\n",
       " 'NewFile51',\n",
       " 'NewFile52',\n",
       " 'NewFile53',\n",
       " 'NewFile54',\n",
       " 'NewFile55',\n",
       " 'NewFile56',\n",
       " 'NewFile57',\n",
       " 'NewFile58',\n",
       " 'NewFile59',\n",
       " 'NewFile6',\n",
       " 'NewFile60',\n",
       " 'NewFile61',\n",
       " 'NewFile62',\n",
       " 'NewFile63',\n",
       " 'NewFile64',\n",
       " 'NewFile65',\n",
       " 'NewFile66',\n",
       " 'NewFile67',\n",
       " 'NewFile68',\n",
       " 'NewFile69',\n",
       " 'NewFile7',\n",
       " 'NewFile70',\n",
       " 'NewFile71',\n",
       " 'NewFile72',\n",
       " 'NewFile73',\n",
       " 'NewFile74',\n",
       " 'NewFile75',\n",
       " 'NewFile76',\n",
       " 'NewFile77',\n",
       " 'NewFile78',\n",
       " 'NewFile79',\n",
       " 'NewFile8',\n",
       " 'NewFile80',\n",
       " 'NewFile81',\n",
       " 'NewFile82',\n",
       " 'NewFile83',\n",
       " 'NewFile84',\n",
       " 'NewFile85',\n",
       " 'NewFile86',\n",
       " 'NewFile87',\n",
       " 'NewFile88',\n",
       " 'NewFile89',\n",
       " 'NewFile9',\n",
       " 'NewFile90',\n",
       " 'NewFile91',\n",
       " 'NewFile92',\n",
       " 'NewFile93',\n",
       " 'NewFile94',\n",
       " 'NewFile95',\n",
       " 'NewFile96',\n",
       " 'NewFile97',\n",
       " 'NewFile98',\n",
       " 'NewFile99']"
      ]
     },
     "execution_count": 282,
     "metadata": {},
     "output_type": "execute_result"
    }
   ],
   "source": [
    "flist"
   ]
  },
  {
   "cell_type": "code",
   "execution_count": 283,
   "id": "f8e58a64-8a39-4c82-9e17-bdab5761a080",
   "metadata": {},
   "outputs": [],
   "source": [
    "for fid in flist:\n",
    "    f_name=fid[0:7]\n",
    "    f_num=fid[7::]\n",
    "    if int(f_num)<50:\n",
    "        os.replace(fid,'2019_'+fid)\n",
    "    else:\n",
    "        os.replace(fid,'2020_'+fid)"
   ]
  },
  {
   "cell_type": "markdown",
   "id": "43ee4390-d3b8-4c3c-a0e1-acf3e28f60c3",
   "metadata": {},
   "source": [
    "2019년도 파일 2020년도 파일을 두개의 디렉토리에 각각 넣어보자"
   ]
  },
  {
   "cell_type": "code",
   "execution_count": 284,
   "id": "ddf407eb-c38d-4384-87d0-380938eb75f9",
   "metadata": {},
   "outputs": [],
   "source": [
    "os.mkdir('2019_data')\n",
    "os.mkdir('2020_data')"
   ]
  },
  {
   "cell_type": "code",
   "execution_count": 287,
   "id": "7364d2e6-5f11-45c3-8cbc-24134dd9953d",
   "metadata": {},
   "outputs": [],
   "source": [
    "flist=os.listdir('.')"
   ]
  },
  {
   "cell_type": "code",
   "execution_count": 310,
   "id": "8af33473-9315-402c-aafa-e2f6b83e11f5",
   "metadata": {},
   "outputs": [
    {
     "data": {
      "text/plain": [
       "['2019_data',\n",
       " '2019_NewFile0',\n",
       " '2019_NewFile1',\n",
       " '2019_NewFile10',\n",
       " '2019_NewFile11',\n",
       " '2019_NewFile12',\n",
       " '2019_NewFile13',\n",
       " '2019_NewFile14',\n",
       " '2019_NewFile15',\n",
       " '2019_NewFile16',\n",
       " '2019_NewFile17',\n",
       " '2019_NewFile18',\n",
       " '2019_NewFile19',\n",
       " '2019_NewFile2',\n",
       " '2019_NewFile20',\n",
       " '2019_NewFile21',\n",
       " '2019_NewFile22',\n",
       " '2019_NewFile23',\n",
       " '2019_NewFile24',\n",
       " '2019_NewFile25',\n",
       " '2019_NewFile26',\n",
       " '2019_NewFile27',\n",
       " '2019_NewFile28',\n",
       " '2019_NewFile29',\n",
       " '2019_NewFile3',\n",
       " '2019_NewFile30',\n",
       " '2019_NewFile31',\n",
       " '2019_NewFile32',\n",
       " '2019_NewFile33',\n",
       " '2019_NewFile34',\n",
       " '2019_NewFile35',\n",
       " '2019_NewFile36',\n",
       " '2019_NewFile37',\n",
       " '2019_NewFile38',\n",
       " '2019_NewFile39',\n",
       " '2019_NewFile4',\n",
       " '2019_NewFile40',\n",
       " '2019_NewFile41',\n",
       " '2019_NewFile42',\n",
       " '2019_NewFile43',\n",
       " '2019_NewFile44',\n",
       " '2019_NewFile45',\n",
       " '2019_NewFile46',\n",
       " '2019_NewFile47',\n",
       " '2019_NewFile48',\n",
       " '2019_NewFile49',\n",
       " '2019_NewFile5',\n",
       " '2019_NewFile6',\n",
       " '2019_NewFile7',\n",
       " '2019_NewFile8',\n",
       " '2019_NewFile9',\n",
       " '2020_data',\n",
       " '2020_NewFile50',\n",
       " '2020_NewFile51',\n",
       " '2020_NewFile52',\n",
       " '2020_NewFile53',\n",
       " '2020_NewFile54',\n",
       " '2020_NewFile55',\n",
       " '2020_NewFile56',\n",
       " '2020_NewFile57',\n",
       " '2020_NewFile58',\n",
       " '2020_NewFile59',\n",
       " '2020_NewFile60',\n",
       " '2020_NewFile61',\n",
       " '2020_NewFile62',\n",
       " '2020_NewFile63',\n",
       " '2020_NewFile64',\n",
       " '2020_NewFile65',\n",
       " '2020_NewFile66',\n",
       " '2020_NewFile67',\n",
       " '2020_NewFile68',\n",
       " '2020_NewFile69',\n",
       " '2020_NewFile70',\n",
       " '2020_NewFile71',\n",
       " '2020_NewFile72',\n",
       " '2020_NewFile73',\n",
       " '2020_NewFile74',\n",
       " '2020_NewFile75',\n",
       " '2020_NewFile76',\n",
       " '2020_NewFile77',\n",
       " '2020_NewFile78',\n",
       " '2020_NewFile79',\n",
       " '2020_NewFile80',\n",
       " '2020_NewFile81',\n",
       " '2020_NewFile82',\n",
       " '2020_NewFile83',\n",
       " '2020_NewFile84',\n",
       " '2020_NewFile85',\n",
       " '2020_NewFile86',\n",
       " '2020_NewFile87',\n",
       " '2020_NewFile88',\n",
       " '2020_NewFile89',\n",
       " '2020_NewFile90',\n",
       " '2020_NewFile91',\n",
       " '2020_NewFile92',\n",
       " '2020_NewFile93',\n",
       " '2020_NewFile94',\n",
       " '2020_NewFile95',\n",
       " '2020_NewFile96',\n",
       " '2020_NewFile97',\n",
       " '2020_NewFile98',\n",
       " '2020_NewFile99']"
      ]
     },
     "execution_count": 310,
     "metadata": {},
     "output_type": "execute_result"
    }
   ],
   "source": [
    "flist"
   ]
  },
  {
   "cell_type": "code",
   "execution_count": 311,
   "id": "1caab35b-9fe4-430c-a45d-b97bd1c0e98d",
   "metadata": {},
   "outputs": [],
   "source": [
    "from itertools import compress"
   ]
  },
  {
   "cell_type": "code",
   "execution_count": 312,
   "id": "54e9e47b-9e5d-4cca-ba7f-dabd1f3a87a7",
   "metadata": {},
   "outputs": [],
   "source": [
    "idx = list(map(lambda x:'File' in x, flist))\n",
    "flist2 = list(compress(flist,idx))"
   ]
  },
  {
   "cell_type": "code",
   "execution_count": 313,
   "id": "9fc8cc4c-f110-4db8-b36a-61b5117c4779",
   "metadata": {},
   "outputs": [
    {
     "data": {
      "text/plain": [
       "['2019_NewFile0',\n",
       " '2019_NewFile1',\n",
       " '2019_NewFile10',\n",
       " '2019_NewFile11',\n",
       " '2019_NewFile12',\n",
       " '2019_NewFile13',\n",
       " '2019_NewFile14',\n",
       " '2019_NewFile15',\n",
       " '2019_NewFile16',\n",
       " '2019_NewFile17',\n",
       " '2019_NewFile18',\n",
       " '2019_NewFile19',\n",
       " '2019_NewFile2',\n",
       " '2019_NewFile20',\n",
       " '2019_NewFile21',\n",
       " '2019_NewFile22',\n",
       " '2019_NewFile23',\n",
       " '2019_NewFile24',\n",
       " '2019_NewFile25',\n",
       " '2019_NewFile26',\n",
       " '2019_NewFile27',\n",
       " '2019_NewFile28',\n",
       " '2019_NewFile29',\n",
       " '2019_NewFile3',\n",
       " '2019_NewFile30',\n",
       " '2019_NewFile31',\n",
       " '2019_NewFile32',\n",
       " '2019_NewFile33',\n",
       " '2019_NewFile34',\n",
       " '2019_NewFile35',\n",
       " '2019_NewFile36',\n",
       " '2019_NewFile37',\n",
       " '2019_NewFile38',\n",
       " '2019_NewFile39',\n",
       " '2019_NewFile4',\n",
       " '2019_NewFile40',\n",
       " '2019_NewFile41',\n",
       " '2019_NewFile42',\n",
       " '2019_NewFile43',\n",
       " '2019_NewFile44',\n",
       " '2019_NewFile45',\n",
       " '2019_NewFile46',\n",
       " '2019_NewFile47',\n",
       " '2019_NewFile48',\n",
       " '2019_NewFile49',\n",
       " '2019_NewFile5',\n",
       " '2019_NewFile6',\n",
       " '2019_NewFile7',\n",
       " '2019_NewFile8',\n",
       " '2019_NewFile9',\n",
       " '2020_NewFile50',\n",
       " '2020_NewFile51',\n",
       " '2020_NewFile52',\n",
       " '2020_NewFile53',\n",
       " '2020_NewFile54',\n",
       " '2020_NewFile55',\n",
       " '2020_NewFile56',\n",
       " '2020_NewFile57',\n",
       " '2020_NewFile58',\n",
       " '2020_NewFile59',\n",
       " '2020_NewFile60',\n",
       " '2020_NewFile61',\n",
       " '2020_NewFile62',\n",
       " '2020_NewFile63',\n",
       " '2020_NewFile64',\n",
       " '2020_NewFile65',\n",
       " '2020_NewFile66',\n",
       " '2020_NewFile67',\n",
       " '2020_NewFile68',\n",
       " '2020_NewFile69',\n",
       " '2020_NewFile70',\n",
       " '2020_NewFile71',\n",
       " '2020_NewFile72',\n",
       " '2020_NewFile73',\n",
       " '2020_NewFile74',\n",
       " '2020_NewFile75',\n",
       " '2020_NewFile76',\n",
       " '2020_NewFile77',\n",
       " '2020_NewFile78',\n",
       " '2020_NewFile79',\n",
       " '2020_NewFile80',\n",
       " '2020_NewFile81',\n",
       " '2020_NewFile82',\n",
       " '2020_NewFile83',\n",
       " '2020_NewFile84',\n",
       " '2020_NewFile85',\n",
       " '2020_NewFile86',\n",
       " '2020_NewFile87',\n",
       " '2020_NewFile88',\n",
       " '2020_NewFile89',\n",
       " '2020_NewFile90',\n",
       " '2020_NewFile91',\n",
       " '2020_NewFile92',\n",
       " '2020_NewFile93',\n",
       " '2020_NewFile94',\n",
       " '2020_NewFile95',\n",
       " '2020_NewFile96',\n",
       " '2020_NewFile97',\n",
       " '2020_NewFile98',\n",
       " '2020_NewFile99']"
      ]
     },
     "execution_count": 313,
     "metadata": {},
     "output_type": "execute_result"
    }
   ],
   "source": [
    "flist2"
   ]
  },
  {
   "cell_type": "markdown",
   "id": "a96da506-9f00-4b62-baae-b559ae9f3c3d",
   "metadata": {},
   "source": [
    "dir이름은 없고 파일이름만 뽑아온 것"
   ]
  },
  {
   "cell_type": "markdown",
   "id": "a7e565e1-12a8-4a81-8286-65ad287ebdce",
   "metadata": {},
   "source": [
    "두번째 방법"
   ]
  },
  {
   "cell_type": "code",
   "execution_count": 314,
   "id": "2860ec2c-eda9-4310-a44c-3bc020639407",
   "metadata": {},
   "outputs": [],
   "source": [
    "flist3=list(filter(lambda x: 'File' in x, flist))"
   ]
  },
  {
   "cell_type": "code",
   "execution_count": 316,
   "id": "144ffea3-1bba-4259-9d7b-7b97f4399bf6",
   "metadata": {},
   "outputs": [
    {
     "data": {
      "text/plain": [
       "['2019_NewFile0',\n",
       " '2019_NewFile1',\n",
       " '2019_NewFile10',\n",
       " '2019_NewFile11',\n",
       " '2019_NewFile12',\n",
       " '2019_NewFile13',\n",
       " '2019_NewFile14',\n",
       " '2019_NewFile15',\n",
       " '2019_NewFile16',\n",
       " '2019_NewFile17',\n",
       " '2019_NewFile18',\n",
       " '2019_NewFile19',\n",
       " '2019_NewFile2',\n",
       " '2019_NewFile20',\n",
       " '2019_NewFile21',\n",
       " '2019_NewFile22',\n",
       " '2019_NewFile23',\n",
       " '2019_NewFile24',\n",
       " '2019_NewFile25',\n",
       " '2019_NewFile26',\n",
       " '2019_NewFile27',\n",
       " '2019_NewFile28',\n",
       " '2019_NewFile29',\n",
       " '2019_NewFile3',\n",
       " '2019_NewFile30',\n",
       " '2019_NewFile31',\n",
       " '2019_NewFile32',\n",
       " '2019_NewFile33',\n",
       " '2019_NewFile34',\n",
       " '2019_NewFile35',\n",
       " '2019_NewFile36',\n",
       " '2019_NewFile37',\n",
       " '2019_NewFile38',\n",
       " '2019_NewFile39',\n",
       " '2019_NewFile4',\n",
       " '2019_NewFile40',\n",
       " '2019_NewFile41',\n",
       " '2019_NewFile42',\n",
       " '2019_NewFile43',\n",
       " '2019_NewFile44',\n",
       " '2019_NewFile45',\n",
       " '2019_NewFile46',\n",
       " '2019_NewFile47',\n",
       " '2019_NewFile48',\n",
       " '2019_NewFile49',\n",
       " '2019_NewFile5',\n",
       " '2019_NewFile6',\n",
       " '2019_NewFile7',\n",
       " '2019_NewFile8',\n",
       " '2019_NewFile9',\n",
       " '2020_NewFile50',\n",
       " '2020_NewFile51',\n",
       " '2020_NewFile52',\n",
       " '2020_NewFile53',\n",
       " '2020_NewFile54',\n",
       " '2020_NewFile55',\n",
       " '2020_NewFile56',\n",
       " '2020_NewFile57',\n",
       " '2020_NewFile58',\n",
       " '2020_NewFile59',\n",
       " '2020_NewFile60',\n",
       " '2020_NewFile61',\n",
       " '2020_NewFile62',\n",
       " '2020_NewFile63',\n",
       " '2020_NewFile64',\n",
       " '2020_NewFile65',\n",
       " '2020_NewFile66',\n",
       " '2020_NewFile67',\n",
       " '2020_NewFile68',\n",
       " '2020_NewFile69',\n",
       " '2020_NewFile70',\n",
       " '2020_NewFile71',\n",
       " '2020_NewFile72',\n",
       " '2020_NewFile73',\n",
       " '2020_NewFile74',\n",
       " '2020_NewFile75',\n",
       " '2020_NewFile76',\n",
       " '2020_NewFile77',\n",
       " '2020_NewFile78',\n",
       " '2020_NewFile79',\n",
       " '2020_NewFile80',\n",
       " '2020_NewFile81',\n",
       " '2020_NewFile82',\n",
       " '2020_NewFile83',\n",
       " '2020_NewFile84',\n",
       " '2020_NewFile85',\n",
       " '2020_NewFile86',\n",
       " '2020_NewFile87',\n",
       " '2020_NewFile88',\n",
       " '2020_NewFile89',\n",
       " '2020_NewFile90',\n",
       " '2020_NewFile91',\n",
       " '2020_NewFile92',\n",
       " '2020_NewFile93',\n",
       " '2020_NewFile94',\n",
       " '2020_NewFile95',\n",
       " '2020_NewFile96',\n",
       " '2020_NewFile97',\n",
       " '2020_NewFile98',\n",
       " '2020_NewFile99']"
      ]
     },
     "execution_count": 316,
     "metadata": {},
     "output_type": "execute_result"
    }
   ],
   "source": [
    "flist3"
   ]
  },
  {
   "cell_type": "markdown",
   "id": "83ad26c6-1055-4bb8-99f9-f4eb25846882",
   "metadata": {},
   "source": [
    "세번째 방법"
   ]
  },
  {
   "cell_type": "code",
   "execution_count": 318,
   "id": "164e0d5d-37bf-47c8-bc54-9a3a4b229b41",
   "metadata": {},
   "outputs": [],
   "source": [
    "file4=[x for x in flist if 'File' in x]"
   ]
  },
  {
   "cell_type": "markdown",
   "id": "b7bae622-bbb0-4f1d-886a-3413edabf639",
   "metadata": {},
   "source": [
    "네번째 방법"
   ]
  },
  {
   "cell_type": "code",
   "execution_count": 321,
   "id": "c1d95294-c8f5-4b5b-ab70-81d0f84a5493",
   "metadata": {},
   "outputs": [
    {
     "data": {
      "text/plain": [
       "['2020_NewFile50',\n",
       " '2020_NewFile51',\n",
       " '2020_NewFile52',\n",
       " '2020_NewFile53',\n",
       " '2020_NewFile54',\n",
       " '2020_NewFile55',\n",
       " '2020_NewFile56',\n",
       " '2020_NewFile57',\n",
       " '2020_NewFile58',\n",
       " '2020_NewFile59',\n",
       " '2020_NewFile60',\n",
       " '2020_NewFile61',\n",
       " '2020_NewFile62',\n",
       " '2020_NewFile63',\n",
       " '2020_NewFile64',\n",
       " '2020_NewFile65',\n",
       " '2020_NewFile66',\n",
       " '2020_NewFile67',\n",
       " '2020_NewFile68',\n",
       " '2020_NewFile69',\n",
       " '2020_NewFile70',\n",
       " '2020_NewFile71',\n",
       " '2020_NewFile72',\n",
       " '2020_NewFile73',\n",
       " '2020_NewFile74',\n",
       " '2020_NewFile75',\n",
       " '2020_NewFile76',\n",
       " '2020_NewFile77',\n",
       " '2020_NewFile78',\n",
       " '2020_NewFile79',\n",
       " '2020_NewFile80',\n",
       " '2020_NewFile81',\n",
       " '2020_NewFile82',\n",
       " '2020_NewFile83',\n",
       " '2020_NewFile84',\n",
       " '2020_NewFile85',\n",
       " '2020_NewFile86',\n",
       " '2020_NewFile87',\n",
       " '2020_NewFile88',\n",
       " '2020_NewFile89',\n",
       " '2020_NewFile90',\n",
       " '2020_NewFile91',\n",
       " '2020_NewFile92',\n",
       " '2020_NewFile93',\n",
       " '2020_NewFile94',\n",
       " '2020_NewFile95',\n",
       " '2020_NewFile96',\n",
       " '2020_NewFile97',\n",
       " '2020_NewFile98',\n",
       " '2020_NewFile99']"
      ]
     },
     "execution_count": 321,
     "metadata": {},
     "output_type": "execute_result"
    }
   ],
   "source": [
    "import glob\n",
    "glob.glob('2020_NewFile??')"
   ]
  },
  {
   "cell_type": "markdown",
   "id": "0b5f7d6a-a3b8-465e-98cf-b24d4cdc3d5e",
   "metadata": {},
   "source": [
    "이런식으로"
   ]
  },
  {
   "cell_type": "code",
   "execution_count": 325,
   "id": "eb032163-04cb-47b0-8f98-fbb907180e4a",
   "metadata": {},
   "outputs": [],
   "source": [
    "file5=glob.glob('*File*')"
   ]
  },
  {
   "cell_type": "markdown",
   "id": "1ae2a06e-c066-4f01-a231-90a936a22a65",
   "metadata": {},
   "source": [
    "----"
   ]
  },
  {
   "cell_type": "markdown",
   "id": "fb74d32c-4ffd-43c0-aabc-70c6784567f7",
   "metadata": {},
   "source": [
    "> 이제 파일들을 각 년도 dir에 넣어보자"
   ]
  },
  {
   "cell_type": "code",
   "execution_count": 327,
   "id": "36a5c519-aba8-4074-a631-ec41a5845194",
   "metadata": {},
   "outputs": [],
   "source": [
    "import shutil"
   ]
  },
  {
   "cell_type": "code",
   "execution_count": 330,
   "id": "74df0856-36ef-4fdb-b7cd-ab5361519904",
   "metadata": {},
   "outputs": [],
   "source": [
    "for f_curr in file5:\n",
    "    f_name = f_curr[0:12]\n",
    "    f_num = f_curr[12::]\n",
    "    if int(f_num) < 50:\n",
    "        shutil.move(f_curr,'.\\\\2019_data')\n",
    "    else:\n",
    "        shutil.move(f_curr,'.\\\\2020_data')"
   ]
  },
  {
   "cell_type": "markdown",
   "id": "fc8f8e9f-e2ac-4408-a052-c321c5ded467",
   "metadata": {},
   "source": [
    "dir에 파일들이 각각 들어갔음"
   ]
  }
 ],
 "metadata": {
  "kernelspec": {
   "display_name": "Python 3 (ipykernel)",
   "language": "python",
   "name": "python3"
  },
  "language_info": {
   "codemirror_mode": {
    "name": "ipython",
    "version": 3
   },
   "file_extension": ".py",
   "mimetype": "text/x-python",
   "name": "python",
   "nbconvert_exporter": "python",
   "pygments_lexer": "ipython3",
   "version": "3.8.11"
  }
 },
 "nbformat": 4,
 "nbformat_minor": 5
}
