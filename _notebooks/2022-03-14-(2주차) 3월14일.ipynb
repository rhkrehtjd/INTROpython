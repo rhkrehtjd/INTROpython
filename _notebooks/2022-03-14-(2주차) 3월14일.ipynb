{
 "cells": [
  {
   "cell_type": "markdown",
   "id": "f1c4149c-9606-4139-81b1-c402bcff2cb7",
   "metadata": {},
   "source": [
    "# (2주차) 3월14일\n",
    "> 리스트 - 선언, 연산, 컨테이너형 객체, 가변객체, 메소드, 중첩리스트, 컴프리헨션 \n",
    "\n",
    "- toc:true\n",
    "- branch: master\n",
    "- badges: true\n",
    "- comments: true\n",
    "- author: 최규빈"
   ]
  },
  {
   "cell_type": "markdown",
   "id": "791189b7-291a-485c-9139-0d85ca3cd44b",
   "metadata": {},
   "source": [
    "### 강의영상 "
   ]
  },
  {
   "cell_type": "markdown",
   "id": "51caf026-98db-40db-9b12-6b569750a98c",
   "metadata": {},
   "source": [
    "> youtube: https://youtube.com/playlist?list=PLQqh36zP38-wW76mxmUAXYte6KcUZRpTE"
   ]
  },
  {
   "cell_type": "markdown",
   "id": "c8593199-1b54-4ed0-9d85-e5696cf0caf6",
   "metadata": {},
   "source": [
    "`-` (1/8) 리스트의 선언 및 연산 (1) \n",
    "\n",
    "`-` (2/8) 리스트의 선언 및 연산 (2) ; 넘파이패키지\n",
    "\n",
    "`-` (3/8) 컨테이너형객체, 가변객체 \n",
    "\n",
    "`-` (4/8) 리스트자료형의 메소드 \n",
    "\n",
    "`-` (5/8) 중첩리스트; for문 (1)\n",
    "\n",
    "`-` (6/8) for문 (2) \n",
    "\n",
    "`-` (7/8) 리스트컴프리헨션 \n",
    "\n",
    "`-` (8/8) 숙제설명 "
   ]
  },
  {
   "cell_type": "markdown",
   "id": "1605b44f-1ba1-40b6-bddf-e0d3a5401bb6",
   "metadata": {},
   "source": [
    "### list "
   ]
  },
  {
   "cell_type": "markdown",
   "id": "501fa65b-70b8-40ae-beb4-a3ed23707105",
   "metadata": {},
   "source": [
    "#### 선언 "
   ]
  },
  {
   "cell_type": "markdown",
   "id": "9d8a8a0d-e6c8-4d5b-bff2-9364aed362ca",
   "metadata": {},
   "source": [
    "`-` 리스트의 선언"
   ]
  },
  {
   "cell_type": "code",
   "execution_count": 1,
   "id": "b3dc6980-1775-4603-bff0-f749d7d88b6f",
   "metadata": {},
   "outputs": [
    {
     "data": {
      "text/plain": [
       "[11, 22]"
      ]
     },
     "execution_count": 1,
     "metadata": {},
     "output_type": "execute_result"
    }
   ],
   "source": [
    "a=[11,22]\n",
    "a"
   ]
  },
  {
   "cell_type": "code",
   "execution_count": 2,
   "id": "b87c14c5-73e1-4f1e-afad-681f0b8ff5ed",
   "metadata": {},
   "outputs": [
    {
     "data": {
      "text/plain": [
       "list"
      ]
     },
     "execution_count": 2,
     "metadata": {},
     "output_type": "execute_result"
    }
   ],
   "source": [
    "type(a)"
   ]
  },
  {
   "cell_type": "markdown",
   "id": "99e9b464-cb8f-40e1-a101-402330ba7fa3",
   "metadata": {},
   "source": [
    "`-` 비어있는 리스트의 선언 "
   ]
  },
  {
   "cell_type": "code",
   "execution_count": 3,
   "id": "428a7eed-209f-45a7-89d7-e0605b86dc20",
   "metadata": {},
   "outputs": [
    {
     "data": {
      "text/plain": [
       "[]"
      ]
     },
     "execution_count": 3,
     "metadata": {},
     "output_type": "execute_result"
    }
   ],
   "source": [
    "a=[] # 방법1\n",
    "a"
   ]
  },
  {
   "cell_type": "code",
   "execution_count": 4,
   "id": "d01814b2-0e60-4b43-81dc-643618d0637a",
   "metadata": {},
   "outputs": [
    {
     "data": {
      "text/plain": [
       "[]"
      ]
     },
     "execution_count": 4,
     "metadata": {},
     "output_type": "execute_result"
    }
   ],
   "source": [
    "a=list() # 방법2\n",
    "a"
   ]
  },
  {
   "cell_type": "markdown",
   "id": "2943a8db-bae9-4b52-92c4-5c4b3deee421",
   "metadata": {},
   "source": [
    "#### 연산 "
   ]
  },
  {
   "cell_type": "markdown",
   "id": "307e6ae1-3644-4c48-82b7-b2152924ab12",
   "metadata": {},
   "source": [
    "`-` 더하기연산 "
   ]
  },
  {
   "cell_type": "code",
   "execution_count": 5,
   "id": "91d3298a-5453-40b2-a6a7-6ff7fb6f95af",
   "metadata": {},
   "outputs": [],
   "source": [
    "a=[11,12]\n",
    "b=[12,13]"
   ]
  },
  {
   "cell_type": "code",
   "execution_count": 6,
   "id": "2b0c828e-a3d1-433f-a66f-27695f10648a",
   "metadata": {},
   "outputs": [
    {
     "data": {
      "text/plain": [
       "[11, 12]"
      ]
     },
     "execution_count": 6,
     "metadata": {},
     "output_type": "execute_result"
    }
   ],
   "source": [
    "a"
   ]
  },
  {
   "cell_type": "code",
   "execution_count": 7,
   "id": "a08ae035-c854-4637-8d06-7c40848052bf",
   "metadata": {},
   "outputs": [
    {
     "data": {
      "text/plain": [
       "[12, 13]"
      ]
     },
     "execution_count": 7,
     "metadata": {},
     "output_type": "execute_result"
    }
   ],
   "source": [
    "b"
   ]
  },
  {
   "cell_type": "code",
   "execution_count": 8,
   "id": "5ecf6ed2-e162-4531-9686-d6fff77739a5",
   "metadata": {},
   "outputs": [
    {
     "data": {
      "text/plain": [
       "[11, 12, 12, 13]"
      ]
     },
     "execution_count": 8,
     "metadata": {},
     "output_type": "execute_result"
    }
   ],
   "source": [
    "a+b"
   ]
  },
  {
   "cell_type": "markdown",
   "id": "12983c4e-e5fd-457a-bcc6-ac94a4486af2",
   "metadata": {},
   "source": [
    "- 우리의 예상과 다른 결과가 나옴 $\\to$ 파이썬은 R처럼 자체적으로 좋은 계산기능을 내장하고 있지 않음. "
   ]
  },
  {
   "cell_type": "markdown",
   "id": "ea35cc37-dbd8-42bb-9eff-5eec19590250",
   "metadata": {},
   "source": [
    "`-` 브로드캐스팅과 같이 R에서는 당연히 가능했던 기능을 사용할 수 없음. "
   ]
  },
  {
   "cell_type": "code",
   "execution_count": 9,
   "id": "c37ce7de-221e-49e7-956a-4b6f71f379e7",
   "metadata": {},
   "outputs": [
    {
     "ename": "TypeError",
     "evalue": "can only concatenate list (not \"int\") to list",
     "output_type": "error",
     "traceback": [
      "\u001b[0;31m---------------------------------------------------------------------------\u001b[0m",
      "\u001b[0;31mTypeError\u001b[0m                                 Traceback (most recent call last)",
      "Input \u001b[0;32mIn [9]\u001b[0m, in \u001b[0;36m<module>\u001b[0;34m\u001b[0m\n\u001b[1;32m      1\u001b[0m a\u001b[38;5;241m=\u001b[39m[\u001b[38;5;241m1\u001b[39m,\u001b[38;5;241m2\u001b[39m,\u001b[38;5;241m3\u001b[39m]\n\u001b[1;32m      2\u001b[0m b\u001b[38;5;241m=\u001b[39m\u001b[38;5;241m1\u001b[39m\n\u001b[0;32m----> 3\u001b[0m \u001b[43ma\u001b[49m\u001b[38;5;241;43m+\u001b[39;49m\u001b[43mb\u001b[49m\n",
      "\u001b[0;31mTypeError\u001b[0m: can only concatenate list (not \"int\") to list"
     ]
    }
   ],
   "source": [
    "a=[1,2,3]\n",
    "b=1\n",
    "a+b"
   ]
  },
  {
   "cell_type": "markdown",
   "id": "7df2b703-71b3-4a72-b99d-f6ffe72332a7",
   "metadata": {},
   "source": [
    "`-` 뺄셈은 정의되지 않음 "
   ]
  },
  {
   "cell_type": "code",
   "execution_count": 10,
   "id": "7e30cb3b-f18e-4e8d-93fd-c5a4533c9bd2",
   "metadata": {},
   "outputs": [
    {
     "ename": "TypeError",
     "evalue": "unsupported operand type(s) for -: 'list' and 'list'",
     "output_type": "error",
     "traceback": [
      "\u001b[0;31m---------------------------------------------------------------------------\u001b[0m",
      "\u001b[0;31mTypeError\u001b[0m                                 Traceback (most recent call last)",
      "Input \u001b[0;32mIn [10]\u001b[0m, in \u001b[0;36m<module>\u001b[0;34m\u001b[0m\n\u001b[1;32m      1\u001b[0m a\u001b[38;5;241m=\u001b[39m[\u001b[38;5;241m1\u001b[39m,\u001b[38;5;241m2\u001b[39m]\n\u001b[1;32m      2\u001b[0m b\u001b[38;5;241m=\u001b[39m[\u001b[38;5;241m1\u001b[39m,\u001b[38;5;241m2\u001b[39m]\n\u001b[0;32m----> 3\u001b[0m \u001b[43ma\u001b[49m\u001b[38;5;241;43m-\u001b[39;49m\u001b[43mb\u001b[49m\n",
      "\u001b[0;31mTypeError\u001b[0m: unsupported operand type(s) for -: 'list' and 'list'"
     ]
    }
   ],
   "source": [
    "a=[1,2]\n",
    "b=[1,2]\n",
    "a-b"
   ]
  },
  {
   "cell_type": "markdown",
   "id": "6c18b309-f589-4e8f-a6cd-b912c2bb431b",
   "metadata": {},
   "source": [
    "`-` 곱하기는 정의가능 "
   ]
  },
  {
   "cell_type": "code",
   "execution_count": 11,
   "id": "f683f5b8-60b1-4c1a-b468-a49418ad12d4",
   "metadata": {},
   "outputs": [],
   "source": [
    "a=[1,2]"
   ]
  },
  {
   "cell_type": "code",
   "execution_count": 12,
   "id": "6efa9357-c6a8-4e1d-9aa3-71ace5013a14",
   "metadata": {},
   "outputs": [
    {
     "data": {
      "text/plain": [
       "[1, 2, 1, 2]"
      ]
     },
     "execution_count": 12,
     "metadata": {},
     "output_type": "execute_result"
    }
   ],
   "source": [
    "2*a # a+a "
   ]
  },
  {
   "cell_type": "markdown",
   "id": "3727aef9-68dc-44a1-8191-182cc8900902",
   "metadata": {},
   "source": [
    "`-` 나눗셈은 정의되지 않음 "
   ]
  },
  {
   "cell_type": "code",
   "execution_count": 13,
   "id": "b4aa5740-884a-408c-b9e7-147c7ec58d71",
   "metadata": {},
   "outputs": [
    {
     "ename": "TypeError",
     "evalue": "unsupported operand type(s) for /: 'list' and 'int'",
     "output_type": "error",
     "traceback": [
      "\u001b[0;31m---------------------------------------------------------------------------\u001b[0m",
      "\u001b[0;31mTypeError\u001b[0m                                 Traceback (most recent call last)",
      "Input \u001b[0;32mIn [13]\u001b[0m, in \u001b[0;36m<module>\u001b[0;34m\u001b[0m\n\u001b[1;32m      1\u001b[0m a\u001b[38;5;241m=\u001b[39m[\u001b[38;5;241m1\u001b[39m,\u001b[38;5;241m2\u001b[39m,\u001b[38;5;241m1\u001b[39m,\u001b[38;5;241m2\u001b[39m]\n\u001b[0;32m----> 2\u001b[0m \u001b[43ma\u001b[49m\u001b[38;5;241;43m/\u001b[39;49m\u001b[38;5;241;43m2\u001b[39;49m\n",
      "\u001b[0;31mTypeError\u001b[0m: unsupported operand type(s) for /: 'list' and 'int'"
     ]
    }
   ],
   "source": [
    "a=[1,2,1,2]\n",
    "a/2"
   ]
  },
  {
   "cell_type": "markdown",
   "id": "babd62df-2757-44f4-ae61-2698c9355fbe",
   "metadata": {},
   "source": [
    "`-` 더하기와 곱하기는 원소의 추가와 반복추가를 의미하지만 그렇다고 해서 뺄셈과 나눗셈이 원소의 삭제를 의미하는것은 아님"
   ]
  },
  {
   "cell_type": "code",
   "execution_count": 14,
   "id": "7d867d0b-461b-4162-a1a1-23c3bf60fbc5",
   "metadata": {},
   "outputs": [
    {
     "ename": "TypeError",
     "evalue": "unsupported operand type(s) for -: 'list' and 'list'",
     "output_type": "error",
     "traceback": [
      "\u001b[0;31m---------------------------------------------------------------------------\u001b[0m",
      "\u001b[0;31mTypeError\u001b[0m                                 Traceback (most recent call last)",
      "Input \u001b[0;32mIn [14]\u001b[0m, in \u001b[0;36m<module>\u001b[0;34m\u001b[0m\n\u001b[1;32m      1\u001b[0m a\u001b[38;5;241m=\u001b[39m[\u001b[38;5;241m1\u001b[39m,\u001b[38;5;241m2\u001b[39m,\u001b[38;5;241m3\u001b[39m]\n\u001b[0;32m----> 2\u001b[0m \u001b[43ma\u001b[49m\u001b[38;5;241;43m-\u001b[39;49m\u001b[43m[\u001b[49m\u001b[38;5;241;43m3\u001b[39;49m\u001b[43m]\u001b[49m\n",
      "\u001b[0;31mTypeError\u001b[0m: unsupported operand type(s) for -: 'list' and 'list'"
     ]
    }
   ],
   "source": [
    "a=[1,2,3]\n",
    "a-[3] # 이런건 없다"
   ]
  },
  {
   "cell_type": "code",
   "execution_count": 15,
   "id": "e57ffafa-db06-4ae4-b977-d53ada2e7a2f",
   "metadata": {},
   "outputs": [
    {
     "ename": "TypeError",
     "evalue": "unsupported operand type(s) for /: 'list' and 'int'",
     "output_type": "error",
     "traceback": [
      "\u001b[0;31m---------------------------------------------------------------------------\u001b[0m",
      "\u001b[0;31mTypeError\u001b[0m                                 Traceback (most recent call last)",
      "Input \u001b[0;32mIn [15]\u001b[0m, in \u001b[0;36m<module>\u001b[0;34m\u001b[0m\n\u001b[1;32m      1\u001b[0m a\u001b[38;5;241m=\u001b[39m[\u001b[38;5;241m1\u001b[39m,\u001b[38;5;241m2\u001b[39m,\u001b[38;5;241m1\u001b[39m,\u001b[38;5;241m2\u001b[39m,\u001b[38;5;241m1\u001b[39m,\u001b[38;5;241m2\u001b[39m]\n\u001b[0;32m----> 2\u001b[0m \u001b[43ma\u001b[49m\u001b[38;5;241;43m/\u001b[39;49m\u001b[38;5;241;43m3\u001b[39;49m\n",
      "\u001b[0;31mTypeError\u001b[0m: unsupported operand type(s) for /: 'list' and 'int'"
     ]
    }
   ],
   "source": [
    "a=[1,2,1,2,1,2]\n",
    "a/3 # 이런건 없다"
   ]
  },
  {
   "cell_type": "markdown",
   "id": "097ff9a1-7795-4d70-a729-78d24f4e902b",
   "metadata": {},
   "source": [
    "`-` 더하기와 곱하기가 원소의 추가와 반복추가를 의미하여 편리할때도 있긴하지만, 우리는 산술적인 `+`, `*` 를 원하는 경우도 있다. 이럴 경우는 어떻게 할 수 있을까?"
   ]
  },
  {
   "cell_type": "markdown",
   "id": "9520a98b-2d25-4fd1-b0a8-f659f66c437a",
   "metadata": {},
   "source": [
    "(예제)"
   ]
  },
  {
   "cell_type": "code",
   "execution_count": 16,
   "id": "4414e237-0435-482c-9d15-44b4e2298464",
   "metadata": {},
   "outputs": [],
   "source": [
    "a=[1,2]\n",
    "b=[3,4]"
   ]
  },
  {
   "cell_type": "markdown",
   "id": "bff8ed60-77cb-4468-bf06-d24cfcf81f1f",
   "metadata": {},
   "source": [
    "a+b = [4,6] 이 되도록 하려면? "
   ]
  },
  {
   "cell_type": "markdown",
   "id": "109155b3-d917-4332-b53e-bf422256438a",
   "metadata": {},
   "source": [
    "(풀이1)"
   ]
  },
  {
   "cell_type": "code",
   "execution_count": 67,
   "id": "f8c03a76-3ee2-4726-be1b-ed0fa2377d28",
   "metadata": {},
   "outputs": [
    {
     "data": {
      "text/plain": [
       "4"
      ]
     },
     "execution_count": 67,
     "metadata": {},
     "output_type": "execute_result"
    }
   ],
   "source": [
    "a[0]+b[0] # a의 첫번째 원소를 추출, b의 첫번째 원소를 추출, 둘을 더함 "
   ]
  },
  {
   "cell_type": "code",
   "execution_count": 18,
   "id": "8c41f66e-3c30-40dd-bedb-ab2e9e139899",
   "metadata": {},
   "outputs": [
    {
     "data": {
      "text/plain": [
       "6"
      ]
     },
     "execution_count": 18,
     "metadata": {},
     "output_type": "execute_result"
    }
   ],
   "source": [
    "a[1]+b[1] # a의 두번째 원소를 추출, b의 두번째 원소를 추출, 둘을 더함 "
   ]
  },
  {
   "cell_type": "code",
   "execution_count": 19,
   "id": "3253095b-09e5-45f4-afe5-23fe075c85a4",
   "metadata": {},
   "outputs": [
    {
     "data": {
      "text/plain": [
       "[4, 6]"
      ]
     },
     "execution_count": 19,
     "metadata": {},
     "output_type": "execute_result"
    }
   ],
   "source": [
    "[a[0]+b[0],a[1]+b[1]]"
   ]
  },
  {
   "cell_type": "markdown",
   "id": "6005f804-b418-4418-9ff7-28062d8b8c68",
   "metadata": {},
   "source": [
    "풀이가 가능한 이유? a,b는 리스트이지만 a[0], a[1], b[0], b[1] 은 각각 인트형임. 인트형은 + 연산이 가능했음. "
   ]
  },
  {
   "cell_type": "markdown",
   "id": "21ff93d6-65d7-4260-b0c6-1fb569dc429a",
   "metadata": {},
   "source": [
    "(풀이2)"
   ]
  },
  {
   "cell_type": "markdown",
   "id": "0480bf91-1c4e-4a84-93b0-d981850772a2",
   "metadata": {},
   "source": [
    "numpy 패키지 (파이썬의 여러 수치연산들을 담당하는 라이브러리)\n",
    "- 이러한 벡터연산은 누구나 필요로 하는 연산임.\n",
    "- 내가 아니더라도 누군가가 프로그램화 해놓았을 것임.\n",
    "- 그 누군가가 자신이 만든 코드를 잘 정리하여 무료로 배포했을 수도 있음. (패키지를 배포한다고 표현) \n",
    "- 그 패키지를 우리는 가져와서 설치한뒤 사용하기만 하면된다. \n",
    "\n",
    "패키지를 설치하는 방법 \n",
    "- `!pip install numpy` # 최신버전을 설치함 \n",
    "- `!conda install -c conda-forge numpy -y` # 안전한 버전을 설치함 \n",
    "\n",
    "설치된 패키지를 사용하는 방법\n",
    "- `import numpy` 한뒤에 `numpy.??`로 기능을 사용 \n",
    "- `import numpy as np` 한뒤에 `np.??`로 기능을 사용 "
   ]
  },
  {
   "cell_type": "code",
   "execution_count": 29,
   "id": "e8743267-19df-46f4-9c7e-a27861a5e029",
   "metadata": {},
   "outputs": [],
   "source": [
    "import numpy ## 설치한패키지를 쓰겠다고 선언함 "
   ]
  },
  {
   "cell_type": "code",
   "execution_count": 30,
   "id": "b6dea072-b40e-4016-9ef6-207bb8e5a196",
   "metadata": {},
   "outputs": [],
   "source": [
    "a=[1,2]\n",
    "b=[3,4]"
   ]
  },
  {
   "cell_type": "code",
   "execution_count": 47,
   "id": "ebf918c7-0347-4087-9952-b1818fc139ab",
   "metadata": {},
   "outputs": [],
   "source": [
    "aa=numpy.array(a) \n",
    "bb=numpy.array(b)\n",
    "# aa,bb는 리스트가 아니라 넘파이 어레이,\n",
    "# numpy.array()는 numpy패키지에서 제공하는 array함수를 쓰겠다는 의미. "
   ]
  },
  {
   "cell_type": "code",
   "execution_count": 52,
   "id": "712a932b-c6cf-4df6-83d8-4e8c2b2a8619",
   "metadata": {},
   "outputs": [
    {
     "data": {
      "text/plain": [
       "array([4, 6])"
      ]
     },
     "execution_count": 52,
     "metadata": {},
     "output_type": "execute_result"
    }
   ],
   "source": [
    "aa+bb"
   ]
  },
  {
   "cell_type": "markdown",
   "id": "c8673aca-4c1f-4ea6-95d1-64540d7c763e",
   "metadata": {},
   "source": [
    "이런것도 가능 "
   ]
  },
  {
   "cell_type": "code",
   "execution_count": 55,
   "id": "80554316-8838-47ed-9ecf-f7e282ea21a5",
   "metadata": {},
   "outputs": [
    {
     "data": {
      "text/plain": [
       "array([2, 4])"
      ]
     },
     "execution_count": 55,
     "metadata": {},
     "output_type": "execute_result"
    }
   ],
   "source": [
    "2*aa"
   ]
  },
  {
   "cell_type": "code",
   "execution_count": 57,
   "id": "58ab8950-a27b-42e3-9d16-dec09cabd3d5",
   "metadata": {},
   "outputs": [
    {
     "data": {
      "text/plain": [
       "array([3, 5])"
      ]
     },
     "execution_count": 57,
     "metadata": {},
     "output_type": "execute_result"
    }
   ],
   "source": [
    "2*aa+1"
   ]
  },
  {
   "cell_type": "code",
   "execution_count": 59,
   "id": "310688ed-ae21-4bf2-8686-c9e8c95b8911",
   "metadata": {},
   "outputs": [
    {
     "data": {
      "text/plain": [
       "array([6, 9])"
      ]
     },
     "execution_count": 59,
     "metadata": {},
     "output_type": "execute_result"
    }
   ],
   "source": [
    "2*aa+1+bb"
   ]
  },
  {
   "cell_type": "markdown",
   "id": "f1183904-1fb2-4f8b-91db-6ff4e69cc3e7",
   "metadata": {},
   "source": [
    "(풀이3)"
   ]
  },
  {
   "cell_type": "code",
   "execution_count": 61,
   "id": "af14491b-acbb-4c5c-b034-e951d33a2765",
   "metadata": {},
   "outputs": [],
   "source": [
    "import numpy as np ## 설치한 numpy라는 패키지를 쓰겠음. 그런데 numpy말고 np라는 이름으로 쓰겠음"
   ]
  },
  {
   "cell_type": "code",
   "execution_count": 64,
   "id": "d1d2dd4f-6c96-4902-8f35-a53b512d11c9",
   "metadata": {},
   "outputs": [
    {
     "data": {
      "text/plain": [
       "array([4, 6])"
      ]
     },
     "execution_count": 64,
     "metadata": {},
     "output_type": "execute_result"
    }
   ],
   "source": [
    "a=[1,2]\n",
    "b=[3,4]\n",
    "np.array(a)+np.array(b)"
   ]
  },
  {
   "cell_type": "markdown",
   "id": "0eed1b64-6672-48a8-afdd-a4fad787699e",
   "metadata": {},
   "source": [
    "#### 인덱싱 "
   ]
  },
  {
   "cell_type": "markdown",
   "id": "49cb621e-be01-437c-a5d6-914012d7022c",
   "metadata": {},
   "source": [
    "`-` str형과 동일한 방식"
   ]
  },
  {
   "cell_type": "code",
   "execution_count": 77,
   "id": "759def0a-ddbc-4ba0-968d-5d41ee8ac5d5",
   "metadata": {},
   "outputs": [],
   "source": [
    "a=[11,22,33,44,55] # 0 -4 -3 -2 -1"
   ]
  },
  {
   "cell_type": "code",
   "execution_count": 76,
   "id": "c0648faf-6a93-42b8-ac86-7156642ab52e",
   "metadata": {},
   "outputs": [
    {
     "data": {
      "text/plain": [
       "[44, 55]"
      ]
     },
     "execution_count": 76,
     "metadata": {},
     "output_type": "execute_result"
    }
   ],
   "source": [
    "a[-2:] # 끝의 2개의 원소를 뽑음 "
   ]
  },
  {
   "cell_type": "markdown",
   "id": "0d742892-cbf7-4b66-9c27-c937a4661971",
   "metadata": {},
   "source": [
    "### list 고급"
   ]
  },
  {
   "cell_type": "markdown",
   "id": "dfeadf16-a414-4f15-9767-27b310712224",
   "metadata": {},
   "source": [
    "#### 콘테이너형 객체, 가변객체 "
   ]
  },
  {
   "cell_type": "markdown",
   "id": "5419467d-8638-4bdd-b609-910e86aa2658",
   "metadata": {},
   "source": [
    "`-` 리스트의 원소는 int, float 따위만 가능한 것이 아니다. (리스트는 컨테이너형 객체이므로)"
   ]
  },
  {
   "cell_type": "code",
   "execution_count": 78,
   "id": "51a0a911-98ed-46d0-a357-06a962709de5",
   "metadata": {},
   "outputs": [],
   "source": [
    "lst = [1,3.14,True,'a',[1,2], \n",
    "       (1,2),{'name':'iu','age':27},{1,2,3}]"
   ]
  },
  {
   "cell_type": "code",
   "execution_count": 79,
   "id": "94d0986d-4a9c-4aeb-afda-90931d6f1d11",
   "metadata": {},
   "outputs": [
    {
     "data": {
      "text/plain": [
       "[1, 3.14, True, 'a', [1, 2], (1, 2), {'name': 'iu', 'age': 27}, {1, 2, 3}]"
      ]
     },
     "execution_count": 79,
     "metadata": {},
     "output_type": "execute_result"
    }
   ],
   "source": [
    "lst"
   ]
  },
  {
   "cell_type": "markdown",
   "id": "ac1716f6-5545-4640-8997-4f4a587a84e9",
   "metadata": {},
   "source": [
    "각 원소의 타입을 알아보자. "
   ]
  },
  {
   "cell_type": "code",
   "execution_count": 80,
   "id": "9157a75c-970e-4b2e-8ce7-99ccc9e01acd",
   "metadata": {},
   "outputs": [
    {
     "data": {
      "text/plain": [
       "int"
      ]
     },
     "execution_count": 80,
     "metadata": {},
     "output_type": "execute_result"
    }
   ],
   "source": [
    "type(lst[0])"
   ]
  },
  {
   "cell_type": "code",
   "execution_count": 81,
   "id": "09631694-24e1-43f1-a782-90fc4058ad3d",
   "metadata": {},
   "outputs": [
    {
     "data": {
      "text/plain": [
       "float"
      ]
     },
     "execution_count": 81,
     "metadata": {},
     "output_type": "execute_result"
    }
   ],
   "source": [
    "type(lst[1])"
   ]
  },
  {
   "cell_type": "code",
   "execution_count": 82,
   "id": "d26c7080-e048-4402-b899-9c80a1a3d162",
   "metadata": {},
   "outputs": [
    {
     "data": {
      "text/plain": [
       "bool"
      ]
     },
     "execution_count": 82,
     "metadata": {},
     "output_type": "execute_result"
    }
   ],
   "source": [
    "type(lst[2])"
   ]
  },
  {
   "cell_type": "code",
   "execution_count": 83,
   "id": "58c3cd1c-783e-4c2d-9ee7-1c6fd75bce41",
   "metadata": {},
   "outputs": [
    {
     "data": {
      "text/plain": [
       "str"
      ]
     },
     "execution_count": 83,
     "metadata": {},
     "output_type": "execute_result"
    }
   ],
   "source": [
    "type(lst[3])"
   ]
  },
  {
   "cell_type": "code",
   "execution_count": 84,
   "id": "dcfa9cf5-5f8b-45ca-8bff-84167b800eef",
   "metadata": {},
   "outputs": [
    {
     "data": {
      "text/plain": [
       "list"
      ]
     },
     "execution_count": 84,
     "metadata": {},
     "output_type": "execute_result"
    }
   ],
   "source": [
    "type(lst[4])"
   ]
  },
  {
   "cell_type": "code",
   "execution_count": 85,
   "id": "8fb57097-ad5d-43bb-887e-0f9162e84188",
   "metadata": {},
   "outputs": [
    {
     "data": {
      "text/plain": [
       "tuple"
      ]
     },
     "execution_count": 85,
     "metadata": {},
     "output_type": "execute_result"
    }
   ],
   "source": [
    "type(lst[5])"
   ]
  },
  {
   "cell_type": "code",
   "execution_count": 86,
   "id": "05e2c517-36e4-4f2f-9744-0c4831ebf558",
   "metadata": {},
   "outputs": [
    {
     "data": {
      "text/plain": [
       "dict"
      ]
     },
     "execution_count": 86,
     "metadata": {},
     "output_type": "execute_result"
    }
   ],
   "source": [
    "type(lst[6])"
   ]
  },
  {
   "cell_type": "code",
   "execution_count": 87,
   "id": "45409a6c-36c8-42b0-bd17-a7f1a7f1053f",
   "metadata": {},
   "outputs": [
    {
     "data": {
      "text/plain": [
       "set"
      ]
     },
     "execution_count": 87,
     "metadata": {},
     "output_type": "execute_result"
    }
   ],
   "source": [
    "type(lst[7])"
   ]
  },
  {
   "cell_type": "markdown",
   "id": "e93fdb75-3e46-4e7b-bac3-b59293db7fa3",
   "metadata": {},
   "source": [
    "`-` str은 컨테이너형이 아니다. "
   ]
  },
  {
   "cell_type": "code",
   "execution_count": 93,
   "id": "e37d5698-93dd-4c9c-9f72-e550d52c1d99",
   "metadata": {},
   "outputs": [
    {
     "data": {
      "text/plain": [
       "'c'"
      ]
     },
     "execution_count": 93,
     "metadata": {},
     "output_type": "execute_result"
    }
   ],
   "source": [
    "'abcd'[2]"
   ]
  },
  {
   "cell_type": "markdown",
   "id": "4680e6a6-bfce-42b5-957a-59ed16fd3037",
   "metadata": {},
   "source": [
    "- str의 모든 원소는 문자임 "
   ]
  },
  {
   "cell_type": "markdown",
   "id": "04dc1abf-11b3-492d-a3bc-9e4820939880",
   "metadata": {},
   "source": [
    "`-` 리스트의 원소를 수정할 수 있다. (리스트는 가변객체이므로)"
   ]
  },
  {
   "cell_type": "code",
   "execution_count": 96,
   "id": "bce48f3e-26af-4670-985e-bd6b157c28e6",
   "metadata": {},
   "outputs": [
    {
     "data": {
      "text/plain": [
       "[11, 22, 33]"
      ]
     },
     "execution_count": 96,
     "metadata": {},
     "output_type": "execute_result"
    }
   ],
   "source": [
    "a=[11,22,33]\n",
    "a"
   ]
  },
  {
   "cell_type": "code",
   "execution_count": 97,
   "id": "dd7c9ebf-9f83-4421-96c1-b0380bb00e4d",
   "metadata": {},
   "outputs": [
    {
     "data": {
      "text/plain": [
       "11"
      ]
     },
     "execution_count": 97,
     "metadata": {},
     "output_type": "execute_result"
    }
   ],
   "source": [
    "a[0]"
   ]
  },
  {
   "cell_type": "code",
   "execution_count": 98,
   "id": "cec98ea4-ac7a-414c-ae46-4882bd700ded",
   "metadata": {},
   "outputs": [],
   "source": [
    "a[0]=111"
   ]
  },
  {
   "cell_type": "code",
   "execution_count": 99,
   "id": "dae4ed07-fc68-439a-bc59-24442394c318",
   "metadata": {},
   "outputs": [
    {
     "data": {
      "text/plain": [
       "[111, 22, 33]"
      ]
     },
     "execution_count": 99,
     "metadata": {},
     "output_type": "execute_result"
    }
   ],
   "source": [
    "a"
   ]
  },
  {
   "cell_type": "markdown",
   "id": "f5dc7407-2783-4054-aca5-28d4e399689b",
   "metadata": {},
   "source": [
    "`-` 원소수정은 당연한 기능같은데 이것이 불가능한 경우도 있다. "
   ]
  },
  {
   "cell_type": "markdown",
   "id": "b895b320-4d42-4b89-816a-d6297ee4d27b",
   "metadata": {},
   "source": [
    "(가능한경우) "
   ]
  },
  {
   "cell_type": "code",
   "execution_count": 103,
   "id": "e5a0e3f9-a6a1-4b43-b29c-d94386061a92",
   "metadata": {},
   "outputs": [
    {
     "data": {
      "text/plain": [
       "['g', 'u', 'e', 'b', 'i', 'n']"
      ]
     },
     "execution_count": 103,
     "metadata": {},
     "output_type": "execute_result"
    }
   ],
   "source": [
    "a=['g','u','e','b','i','n']\n",
    "a"
   ]
  },
  {
   "cell_type": "code",
   "execution_count": 104,
   "id": "7ace1643-b175-4b62-8440-5c66b6926637",
   "metadata": {},
   "outputs": [
    {
     "data": {
      "text/plain": [
       "'g'"
      ]
     },
     "execution_count": 104,
     "metadata": {},
     "output_type": "execute_result"
    }
   ],
   "source": [
    "a[0]"
   ]
  },
  {
   "cell_type": "code",
   "execution_count": 105,
   "id": "82315206-0bd8-4383-b317-006c20839a8e",
   "metadata": {},
   "outputs": [],
   "source": [
    "a[0]='G'"
   ]
  },
  {
   "cell_type": "code",
   "execution_count": 106,
   "id": "77289409-0297-42dd-9199-4d21b75e2e22",
   "metadata": {},
   "outputs": [
    {
     "data": {
      "text/plain": [
       "['G', 'u', 'e', 'b', 'i', 'n']"
      ]
     },
     "execution_count": 106,
     "metadata": {},
     "output_type": "execute_result"
    }
   ],
   "source": [
    "a"
   ]
  },
  {
   "cell_type": "markdown",
   "id": "4fa6a35d-c538-40da-8f86-92f43fd8ebfa",
   "metadata": {},
   "source": [
    "(불가능한경우) "
   ]
  },
  {
   "cell_type": "code",
   "execution_count": 107,
   "id": "dafdfee9-3d2e-49ff-a9cf-70fb2fb02a57",
   "metadata": {},
   "outputs": [
    {
     "data": {
      "text/plain": [
       "'guebin'"
      ]
     },
     "execution_count": 107,
     "metadata": {},
     "output_type": "execute_result"
    }
   ],
   "source": [
    "a='guebin'\n",
    "a"
   ]
  },
  {
   "cell_type": "code",
   "execution_count": 108,
   "id": "53c2c3b7-a5bb-4faf-9f70-83213b267e98",
   "metadata": {},
   "outputs": [
    {
     "data": {
      "text/plain": [
       "'g'"
      ]
     },
     "execution_count": 108,
     "metadata": {},
     "output_type": "execute_result"
    }
   ],
   "source": [
    "a[0]"
   ]
  },
  {
   "cell_type": "code",
   "execution_count": 109,
   "id": "accd39de-02f3-483a-9659-365c3faf99d1",
   "metadata": {},
   "outputs": [
    {
     "ename": "TypeError",
     "evalue": "'str' object does not support item assignment",
     "output_type": "error",
     "traceback": [
      "\u001b[0;31m---------------------------------------------------------------------------\u001b[0m",
      "\u001b[0;31mTypeError\u001b[0m                                 Traceback (most recent call last)",
      "Input \u001b[0;32mIn [109]\u001b[0m, in \u001b[0;36m<module>\u001b[0;34m\u001b[0m\n\u001b[0;32m----> 1\u001b[0m a[\u001b[38;5;241m0\u001b[39m]\u001b[38;5;241m=\u001b[39m\u001b[38;5;124m'\u001b[39m\u001b[38;5;124mG\u001b[39m\u001b[38;5;124m'\u001b[39m\n",
      "\u001b[0;31mTypeError\u001b[0m: 'str' object does not support item assignment"
     ]
    }
   ],
   "source": [
    "a[0]='G'"
   ]
  },
  {
   "cell_type": "markdown",
   "id": "ec1f952c-5c2d-4631-b7b7-be5bc6694fd0",
   "metadata": {},
   "source": [
    "`-` 리스트 원소 삭제 "
   ]
  },
  {
   "cell_type": "markdown",
   "id": "f53427d8-f978-40c9-9987-6472a33e7421",
   "metadata": {},
   "source": [
    "(예제)"
   ]
  },
  {
   "cell_type": "markdown",
   "id": "e4b89c7e-6377-41b1-b7f8-20a749cd1069",
   "metadata": {},
   "source": [
    "아래와 같이 문자로 된 리스트를 선언하자. "
   ]
  },
  {
   "cell_type": "code",
   "execution_count": 118,
   "id": "213ae342-2b4a-41d4-88a8-4e6d45f6122f",
   "metadata": {},
   "outputs": [
    {
     "data": {
      "text/plain": [
       "['g', 'u', 'e', 'b', 'i', 'n']"
      ]
     },
     "execution_count": 118,
     "metadata": {},
     "output_type": "execute_result"
    }
   ],
   "source": [
    "a=['g','u','e','b','i','n']\n",
    "a"
   ]
  },
  {
   "cell_type": "markdown",
   "id": "93806577-ef51-4c9b-8baf-019485a836df",
   "metadata": {},
   "source": [
    "사실 더 쉽게 선언할 수 있음 "
   ]
  },
  {
   "cell_type": "code",
   "execution_count": 120,
   "id": "d27333ee-6e0d-4691-8cd8-120c1b36b7da",
   "metadata": {},
   "outputs": [
    {
     "data": {
      "text/plain": [
       "['g', 'u', 'e', 'b', 'i', 'n']"
      ]
     },
     "execution_count": 120,
     "metadata": {},
     "output_type": "execute_result"
    }
   ],
   "source": [
    "a= 'guebin' # string으로 a를 선언\n",
    "a= list(a) # list(a)를 통하여 str을 ㅣist로 변환 -> 그 결과를 a에 다시 저장\n",
    "a"
   ]
  },
  {
   "cell_type": "markdown",
   "id": "e552a516-2b3d-4ec7-b70c-3c2d1cae21a4",
   "metadata": {},
   "source": [
    "첫번째 원소를 삭제하고 싶다면? "
   ]
  },
  {
   "cell_type": "code",
   "execution_count": 121,
   "id": "2bd47506-ecdc-4a75-9e9c-c813a2493ae8",
   "metadata": {},
   "outputs": [],
   "source": [
    "del a[0]"
   ]
  },
  {
   "cell_type": "code",
   "execution_count": 122,
   "id": "81ef68ba-e9f3-4c74-8da2-d26ddbf28370",
   "metadata": {},
   "outputs": [
    {
     "data": {
      "text/plain": [
       "['u', 'e', 'b', 'i', 'n']"
      ]
     },
     "execution_count": 122,
     "metadata": {},
     "output_type": "execute_result"
    }
   ],
   "source": [
    "a"
   ]
  },
  {
   "cell_type": "markdown",
   "id": "743b2f2f-2202-4d8d-8ca5-cefbb0099c57",
   "metadata": {},
   "source": [
    "이 상태에서 다시 첫번쨰 원소를 삭제한다면? "
   ]
  },
  {
   "cell_type": "code",
   "execution_count": 123,
   "id": "a82e4e13-0fbd-446d-885f-46b0a5e63a33",
   "metadata": {},
   "outputs": [],
   "source": [
    "del a[0]"
   ]
  },
  {
   "cell_type": "code",
   "execution_count": 124,
   "id": "bd2750c4-e07f-4e46-955f-2c280861f828",
   "metadata": {},
   "outputs": [
    {
     "data": {
      "text/plain": [
       "['e', 'b', 'i', 'n']"
      ]
     },
     "execution_count": 124,
     "metadata": {},
     "output_type": "execute_result"
    }
   ],
   "source": [
    "a"
   ]
  },
  {
   "cell_type": "markdown",
   "id": "01eeb800-59c5-4f6c-ade6-eac437eea557",
   "metadata": {},
   "source": [
    "`-` 리스트의 원소 추가 "
   ]
  },
  {
   "cell_type": "markdown",
   "id": "c169c019-8e6f-4199-b409-50a3b11389b5",
   "metadata": {},
   "source": [
    "(예제) 비어있는 리스트를 만들고 원소 0,1,2를 차례로 추가하여 보자. "
   ]
  },
  {
   "cell_type": "markdown",
   "id": "ba613d43-224c-44da-b407-bb011251d0f4",
   "metadata": {},
   "source": [
    "(풀이1)"
   ]
  },
  {
   "cell_type": "code",
   "execution_count": 130,
   "id": "aa9e86a8-a1d6-4723-b9fc-a7f60efad7fe",
   "metadata": {},
   "outputs": [
    {
     "data": {
      "text/plain": [
       "[]"
      ]
     },
     "execution_count": 130,
     "metadata": {},
     "output_type": "execute_result"
    }
   ],
   "source": [
    "a=[]\n",
    "a"
   ]
  },
  {
   "cell_type": "code",
   "execution_count": 131,
   "id": "09bd64e3-dfe3-4ad7-8a38-3d9fb0d93319",
   "metadata": {},
   "outputs": [
    {
     "data": {
      "text/plain": [
       "[0]"
      ]
     },
     "execution_count": 131,
     "metadata": {},
     "output_type": "execute_result"
    }
   ],
   "source": [
    "a= a + [0] \n",
    "a"
   ]
  },
  {
   "cell_type": "code",
   "execution_count": 132,
   "id": "efeb3313-78de-445e-bd4a-0b8ea576c606",
   "metadata": {},
   "outputs": [
    {
     "data": {
      "text/plain": [
       "[0, 1]"
      ]
     },
     "execution_count": 132,
     "metadata": {},
     "output_type": "execute_result"
    }
   ],
   "source": [
    "a= a + [1]\n",
    "a"
   ]
  },
  {
   "cell_type": "code",
   "execution_count": 133,
   "id": "08fcee5d-c95c-4043-b43d-96746fbc3fd3",
   "metadata": {},
   "outputs": [
    {
     "data": {
      "text/plain": [
       "[0, 1, 2]"
      ]
     },
     "execution_count": 133,
     "metadata": {},
     "output_type": "execute_result"
    }
   ],
   "source": [
    "a= a + [2]\n",
    "a"
   ]
  },
  {
   "cell_type": "markdown",
   "id": "9ab3e6d3-bb21-4d9e-9f60-28353f8eeba6",
   "metadata": {},
   "source": [
    "(풀이2)"
   ]
  },
  {
   "cell_type": "code",
   "execution_count": 134,
   "id": "91f281cb-f87b-4202-b8d3-0bd40ad04e6a",
   "metadata": {},
   "outputs": [
    {
     "data": {
      "text/plain": [
       "[]"
      ]
     },
     "execution_count": 134,
     "metadata": {},
     "output_type": "execute_result"
    }
   ],
   "source": [
    "a=[]\n",
    "a"
   ]
  },
  {
   "cell_type": "code",
   "execution_count": 135,
   "id": "88c132d4-bf39-40e9-9bf4-b281c7d529f1",
   "metadata": {},
   "outputs": [
    {
     "data": {
      "text/plain": [
       "[0]"
      ]
     },
     "execution_count": 135,
     "metadata": {},
     "output_type": "execute_result"
    }
   ],
   "source": [
    "a += [0] \n",
    "a"
   ]
  },
  {
   "cell_type": "code",
   "execution_count": 136,
   "id": "c7f7fb4b-7556-4cc4-a8ce-f682703ff2d8",
   "metadata": {},
   "outputs": [
    {
     "data": {
      "text/plain": [
       "[0, 1]"
      ]
     },
     "execution_count": 136,
     "metadata": {},
     "output_type": "execute_result"
    }
   ],
   "source": [
    "a += [1]\n",
    "a"
   ]
  },
  {
   "cell_type": "code",
   "execution_count": 137,
   "id": "0e97718c-acc9-4459-b440-82fcdb54d2fa",
   "metadata": {},
   "outputs": [
    {
     "data": {
      "text/plain": [
       "[0, 1, 2]"
      ]
     },
     "execution_count": 137,
     "metadata": {},
     "output_type": "execute_result"
    }
   ],
   "source": [
    "a += [2]\n",
    "a"
   ]
  },
  {
   "cell_type": "markdown",
   "id": "043dbbac-09cf-45f9-a4ac-005e70be3789",
   "metadata": {},
   "source": [
    "- 암기법: 중복되는 변수를 지우고 연산자의 순서를 바꾼다. "
   ]
  },
  {
   "cell_type": "markdown",
   "id": "64ee7e70-2f95-42ef-ada9-e86642f6e46e",
   "metadata": {},
   "source": [
    "(풀이3) 리스트 특화기능(=메소드)를 이용 "
   ]
  },
  {
   "cell_type": "code",
   "execution_count": 142,
   "id": "dd1f6546-747e-42b0-9e5c-191a6e5cb522",
   "metadata": {},
   "outputs": [
    {
     "data": {
      "text/plain": [
       "[]"
      ]
     },
     "execution_count": 142,
     "metadata": {},
     "output_type": "execute_result"
    }
   ],
   "source": [
    "a=[]\n",
    "a"
   ]
  },
  {
   "cell_type": "code",
   "execution_count": 146,
   "id": "9d2946a5-30ee-4efd-aed9-bebe0c3781be",
   "metadata": {},
   "outputs": [
    {
     "data": {
      "text/plain": [
       "[0]"
      ]
     },
     "execution_count": 146,
     "metadata": {},
     "output_type": "execute_result"
    }
   ],
   "source": [
    "a.append(0)\n",
    "a"
   ]
  },
  {
   "cell_type": "code",
   "execution_count": 147,
   "id": "897d2e95-7daf-44e6-a46e-61a6adcdb385",
   "metadata": {},
   "outputs": [
    {
     "data": {
      "text/plain": [
       "[0, 1]"
      ]
     },
     "execution_count": 147,
     "metadata": {},
     "output_type": "execute_result"
    }
   ],
   "source": [
    "a.append(1)\n",
    "a"
   ]
  },
  {
   "cell_type": "code",
   "execution_count": 148,
   "id": "3b94efa5-b789-4fa8-a86e-017e475a24ce",
   "metadata": {},
   "outputs": [
    {
     "data": {
      "text/plain": [
       "[0, 1, 2]"
      ]
     },
     "execution_count": 148,
     "metadata": {},
     "output_type": "execute_result"
    }
   ],
   "source": [
    "a.append(2)\n",
    "a"
   ]
  },
  {
   "cell_type": "markdown",
   "id": "b0cc413f-1930-499a-b140-d4308b49e714",
   "metadata": {},
   "source": [
    "`-` `a+[4]`와 `a.append(4)`의 차이점은? "
   ]
  },
  {
   "cell_type": "markdown",
   "id": "b96e9b0a-0377-4708-af7e-92bea5573592",
   "metadata": {},
   "source": [
    "(관찰1)"
   ]
  },
  {
   "cell_type": "code",
   "execution_count": 149,
   "id": "997a183c-9e32-4eb9-b663-db1896e50001",
   "metadata": {},
   "outputs": [
    {
     "data": {
      "text/plain": [
       "[1, 2, 3, 4]"
      ]
     },
     "execution_count": 149,
     "metadata": {},
     "output_type": "execute_result"
    }
   ],
   "source": [
    "a=[1,2,3]\n",
    "a+[4] ## 리스트 a와 리스트 [4]의 연산결과를 알려줘 "
   ]
  },
  {
   "cell_type": "code",
   "execution_count": 151,
   "id": "ac0df778-b33b-4e0b-ad91-b668823f7fc4",
   "metadata": {},
   "outputs": [
    {
     "data": {
      "text/plain": [
       "[1, 2, 3]"
      ]
     },
     "execution_count": 151,
     "metadata": {},
     "output_type": "execute_result"
    }
   ],
   "source": [
    "a ## a는 그대로임. 변화없음 "
   ]
  },
  {
   "cell_type": "markdown",
   "id": "404c769e-bd71-41d6-bbc7-89b70bd5aaa6",
   "metadata": {},
   "source": [
    "(관찰2)"
   ]
  },
  {
   "cell_type": "code",
   "execution_count": 152,
   "id": "41163378-82e0-45b0-9a4c-3ff2a26524e2",
   "metadata": {},
   "outputs": [],
   "source": [
    "a=[1,2,3]\n",
    "a.append(4)"
   ]
  },
  {
   "cell_type": "code",
   "execution_count": 154,
   "id": "1c338ee4-5226-4d3c-a8c1-331ee904259b",
   "metadata": {},
   "outputs": [
    {
     "data": {
      "text/plain": [
       "[1, 2, 3, 4]"
      ]
     },
     "execution_count": 154,
     "metadata": {},
     "output_type": "execute_result"
    }
   ],
   "source": [
    "a ## a자체가 변화함 "
   ]
  },
  {
   "cell_type": "markdown",
   "id": "e28661c1-f42f-4214-93ca-ffa396e5b5e7",
   "metadata": {},
   "source": [
    "비슷해보이지만 굉장히 미묘한 차이가 있음 "
   ]
  },
  {
   "cell_type": "markdown",
   "id": "f0bed062-9a30-42aa-a780-8f615d990caf",
   "metadata": {},
   "source": [
    "`a.append(4)`: `a`에 4를 append하라 $\\to$ `a`가 변함\n",
    "\n",
    "`a+[4]`: `a`와 4를 연산하라 "
   ]
  },
  {
   "cell_type": "markdown",
   "id": "c91b72c1-0a17-402f-bab4-4d1def3aeda8",
   "metadata": {},
   "source": [
    "#### 메소드 (리스트 자료형에 특화된 특수한 함수들)"
   ]
  },
  {
   "cell_type": "markdown",
   "id": "363193e4-135b-4921-bfde-956f661ff3de",
   "metadata": {},
   "source": [
    "**(append)**"
   ]
  },
  {
   "cell_type": "code",
   "execution_count": 162,
   "id": "49824f0d-fdde-4e13-a3ab-bd41e88e3f7d",
   "metadata": {},
   "outputs": [
    {
     "data": {
      "text/plain": [
       "\u001b[0;31mSignature:\u001b[0m \u001b[0ma\u001b[0m\u001b[0;34m.\u001b[0m\u001b[0mappend\u001b[0m\u001b[0;34m(\u001b[0m\u001b[0mobject\u001b[0m\u001b[0;34m,\u001b[0m \u001b[0;34m/\u001b[0m\u001b[0;34m)\u001b[0m\u001b[0;34m\u001b[0m\u001b[0;34m\u001b[0m\u001b[0m\n",
       "\u001b[0;31mDocstring:\u001b[0m Append object to the end of the list.\n",
       "\u001b[0;31mType:\u001b[0m      builtin_function_or_method\n"
      ]
     },
     "metadata": {},
     "output_type": "display_data"
    }
   ],
   "source": [
    "a=[1,2,3,4]\n",
    "a.append?"
   ]
  },
  {
   "cell_type": "code",
   "execution_count": 163,
   "id": "04dcbe29-3769-41aa-934e-2f7b51eeeb36",
   "metadata": {},
   "outputs": [
    {
     "data": {
      "text/plain": [
       "[1, 2, 3, 4, 5]"
      ]
     },
     "execution_count": 163,
     "metadata": {},
     "output_type": "execute_result"
    }
   ],
   "source": [
    "a.append(5)\n",
    "a"
   ]
  },
  {
   "cell_type": "markdown",
   "id": "b253a325-e34b-4dcd-9327-3893b8cd3640",
   "metadata": {},
   "source": [
    "**(clear)**"
   ]
  },
  {
   "cell_type": "code",
   "execution_count": 166,
   "id": "89257c4f-c59a-4d33-9298-a828b4bf3e30",
   "metadata": {},
   "outputs": [
    {
     "data": {
      "text/plain": [
       "\u001b[0;31mSignature:\u001b[0m \u001b[0ma\u001b[0m\u001b[0;34m.\u001b[0m\u001b[0mclear\u001b[0m\u001b[0;34m(\u001b[0m\u001b[0;34m)\u001b[0m\u001b[0;34m\u001b[0m\u001b[0;34m\u001b[0m\u001b[0m\n",
       "\u001b[0;31mDocstring:\u001b[0m Remove all items from list.\n",
       "\u001b[0;31mType:\u001b[0m      builtin_function_or_method\n"
      ]
     },
     "metadata": {},
     "output_type": "display_data"
    }
   ],
   "source": [
    "a=[1,2,3,4]\n",
    "a.clear?"
   ]
  },
  {
   "cell_type": "code",
   "execution_count": 168,
   "id": "87f6e5a9-01d9-4cf5-90e2-20b5139cc3bf",
   "metadata": {},
   "outputs": [
    {
     "data": {
      "text/plain": [
       "[]"
      ]
     },
     "execution_count": 168,
     "metadata": {},
     "output_type": "execute_result"
    }
   ],
   "source": [
    "a.clear()\n",
    "a"
   ]
  },
  {
   "cell_type": "markdown",
   "id": "d1420e76-35fd-48fb-bd1d-84690c89b566",
   "metadata": {},
   "source": [
    "**(copy)**"
   ]
  },
  {
   "cell_type": "code",
   "execution_count": 170,
   "id": "24d708bd-6e05-4945-bfc0-d021e2f08aa5",
   "metadata": {},
   "outputs": [
    {
     "data": {
      "text/plain": [
       "\u001b[0;31mSignature:\u001b[0m \u001b[0ma\u001b[0m\u001b[0;34m.\u001b[0m\u001b[0mcopy\u001b[0m\u001b[0;34m(\u001b[0m\u001b[0;34m)\u001b[0m\u001b[0;34m\u001b[0m\u001b[0;34m\u001b[0m\u001b[0m\n",
       "\u001b[0;31mDocstring:\u001b[0m Return a shallow copy of the list.\n",
       "\u001b[0;31mType:\u001b[0m      builtin_function_or_method\n"
      ]
     },
     "metadata": {},
     "output_type": "display_data"
    }
   ],
   "source": [
    "a=[1,2,3,4]\n",
    "a.copy?"
   ]
  },
  {
   "cell_type": "code",
   "execution_count": 171,
   "id": "7ff079c3-82c0-47bb-b78c-87a8285108e0",
   "metadata": {},
   "outputs": [
    {
     "data": {
      "text/plain": [
       "[1, 2, 3, 4]"
      ]
     },
     "execution_count": 171,
     "metadata": {},
     "output_type": "execute_result"
    }
   ],
   "source": [
    "b=a.copy()\n",
    "b"
   ]
  },
  {
   "cell_type": "markdown",
   "id": "56fbf2cd-27ad-4583-a2f3-6223ba6b8d2e",
   "metadata": {},
   "source": [
    "**(count)**"
   ]
  },
  {
   "cell_type": "code",
   "execution_count": 179,
   "id": "020f300e-153b-492e-8b47-ee236bc1643b",
   "metadata": {},
   "outputs": [
    {
     "data": {
      "text/plain": [
       "\u001b[0;31mSignature:\u001b[0m \u001b[0ma\u001b[0m\u001b[0;34m.\u001b[0m\u001b[0mcount\u001b[0m\u001b[0;34m(\u001b[0m\u001b[0mvalue\u001b[0m\u001b[0;34m,\u001b[0m \u001b[0;34m/\u001b[0m\u001b[0;34m)\u001b[0m\u001b[0;34m\u001b[0m\u001b[0;34m\u001b[0m\u001b[0m\n",
       "\u001b[0;31mDocstring:\u001b[0m Return number of occurrences of value.\n",
       "\u001b[0;31mType:\u001b[0m      builtin_function_or_method\n"
      ]
     },
     "metadata": {},
     "output_type": "display_data"
    }
   ],
   "source": [
    "a=[1,1,2,3,3,4,4,4]\n",
    "a.count?"
   ]
  },
  {
   "cell_type": "code",
   "execution_count": 181,
   "id": "1190c96e-5367-4334-b5bd-555a2905c41a",
   "metadata": {},
   "outputs": [
    {
     "data": {
      "text/plain": [
       "2"
      ]
     },
     "execution_count": 181,
     "metadata": {},
     "output_type": "execute_result"
    }
   ],
   "source": [
    "a.count(1)"
   ]
  },
  {
   "cell_type": "code",
   "execution_count": 182,
   "id": "9946295e-1fb9-4367-bb18-a95ab1a5cb2f",
   "metadata": {},
   "outputs": [
    {
     "data": {
      "text/plain": [
       "1"
      ]
     },
     "execution_count": 182,
     "metadata": {},
     "output_type": "execute_result"
    }
   ],
   "source": [
    "a.count(2)"
   ]
  },
  {
   "cell_type": "code",
   "execution_count": 183,
   "id": "7129e31b-90ec-4897-9ed9-25bfa66287d9",
   "metadata": {},
   "outputs": [
    {
     "data": {
      "text/plain": [
       "2"
      ]
     },
     "execution_count": 183,
     "metadata": {},
     "output_type": "execute_result"
    }
   ],
   "source": [
    "a.count(3)"
   ]
  },
  {
   "cell_type": "code",
   "execution_count": 184,
   "id": "5f3ec28b-5eda-48eb-b7e8-1efcd4af7445",
   "metadata": {},
   "outputs": [
    {
     "data": {
      "text/plain": [
       "3"
      ]
     },
     "execution_count": 184,
     "metadata": {},
     "output_type": "execute_result"
    }
   ],
   "source": [
    "a.count(4)"
   ]
  },
  {
   "cell_type": "markdown",
   "id": "1147283b-df0e-441d-b726-b9f87190a149",
   "metadata": {},
   "source": [
    "**(extend)**"
   ]
  },
  {
   "cell_type": "code",
   "execution_count": 198,
   "id": "06f2cdf3-18df-4a24-a40f-9116cd0f28bb",
   "metadata": {},
   "outputs": [],
   "source": [
    "a=[1,2,3,4]\n",
    "b=[-1,-2,-3,-4]"
   ]
  },
  {
   "cell_type": "code",
   "execution_count": 199,
   "id": "fcb645fc-8290-4269-8034-a659ea6aeb27",
   "metadata": {},
   "outputs": [
    {
     "data": {
      "text/plain": [
       "[1, 2, 3, 4, -1, -2, -3, -4]"
      ]
     },
     "execution_count": 199,
     "metadata": {},
     "output_type": "execute_result"
    }
   ],
   "source": [
    "a.extend(b)\n",
    "a"
   ]
  },
  {
   "cell_type": "code",
   "execution_count": 200,
   "id": "c4230b5f-1bda-417a-934d-62e60b1f0a9a",
   "metadata": {},
   "outputs": [],
   "source": [
    "a=[1,2,3,4]\n",
    "b=[-1,-2,-3,-4]"
   ]
  },
  {
   "cell_type": "code",
   "execution_count": 201,
   "id": "55f82bd0-dd30-4cc6-b845-e4fd23622690",
   "metadata": {},
   "outputs": [],
   "source": [
    "a.append(b)"
   ]
  },
  {
   "cell_type": "code",
   "execution_count": 202,
   "id": "914c9884-5c9a-484b-b2ad-3e7610021847",
   "metadata": {},
   "outputs": [
    {
     "data": {
      "text/plain": [
       "[1, 2, 3, 4, [-1, -2, -3, -4]]"
      ]
     },
     "execution_count": 202,
     "metadata": {},
     "output_type": "execute_result"
    }
   ],
   "source": [
    "a"
   ]
  },
  {
   "cell_type": "markdown",
   "id": "59414e3c-d0c7-42ff-b2ba-0771c6b00493",
   "metadata": {},
   "source": [
    "**(index)**"
   ]
  },
  {
   "cell_type": "code",
   "execution_count": 236,
   "id": "85157418-ba90-43f0-ba97-226295fabb86",
   "metadata": {},
   "outputs": [
    {
     "data": {
      "text/plain": [
       "\u001b[0;31mSignature:\u001b[0m \u001b[0ma\u001b[0m\u001b[0;34m.\u001b[0m\u001b[0mindex\u001b[0m\u001b[0;34m(\u001b[0m\u001b[0mvalue\u001b[0m\u001b[0;34m,\u001b[0m \u001b[0mstart\u001b[0m\u001b[0;34m=\u001b[0m\u001b[0;36m0\u001b[0m\u001b[0;34m,\u001b[0m \u001b[0mstop\u001b[0m\u001b[0;34m=\u001b[0m\u001b[0;36m9223372036854775807\u001b[0m\u001b[0;34m,\u001b[0m \u001b[0;34m/\u001b[0m\u001b[0;34m)\u001b[0m\u001b[0;34m\u001b[0m\u001b[0;34m\u001b[0m\u001b[0m\n",
       "\u001b[0;31mDocstring:\u001b[0m\n",
       "Return first index of value.\n",
       "\n",
       "Raises ValueError if the value is not present.\n",
       "\u001b[0;31mType:\u001b[0m      builtin_function_or_method\n"
      ]
     },
     "metadata": {},
     "output_type": "display_data"
    }
   ],
   "source": [
    "a=[11,22,'a',True, 22,'a']\n",
    "a.index?"
   ]
  },
  {
   "cell_type": "code",
   "execution_count": 237,
   "id": "b401d6a1-f1d5-4238-ad66-b5b622560346",
   "metadata": {},
   "outputs": [
    {
     "data": {
      "text/plain": [
       "0"
      ]
     },
     "execution_count": 237,
     "metadata": {},
     "output_type": "execute_result"
    }
   ],
   "source": [
    "a.index(11)"
   ]
  },
  {
   "cell_type": "code",
   "execution_count": 238,
   "id": "4da34aec-a5c5-4a7f-a0e2-ff6bbff046ac",
   "metadata": {},
   "outputs": [
    {
     "data": {
      "text/plain": [
       "1"
      ]
     },
     "execution_count": 238,
     "metadata": {},
     "output_type": "execute_result"
    }
   ],
   "source": [
    "a.index(22)"
   ]
  },
  {
   "cell_type": "code",
   "execution_count": 239,
   "id": "38098ace-df30-4459-8b15-46288c8153c2",
   "metadata": {},
   "outputs": [
    {
     "data": {
      "text/plain": [
       "2"
      ]
     },
     "execution_count": 239,
     "metadata": {},
     "output_type": "execute_result"
    }
   ],
   "source": [
    "a.index('a')"
   ]
  },
  {
   "cell_type": "code",
   "execution_count": 240,
   "id": "7522379f-ddcd-4c3e-a1ae-0011254e15f1",
   "metadata": {},
   "outputs": [
    {
     "data": {
      "text/plain": [
       "3"
      ]
     },
     "execution_count": 240,
     "metadata": {},
     "output_type": "execute_result"
    }
   ],
   "source": [
    "a.index(True)"
   ]
  },
  {
   "cell_type": "markdown",
   "id": "2b56c9fe-34fa-48be-b9cb-7fd6b3ef6b2d",
   "metadata": {},
   "source": [
    "**(insert)**"
   ]
  },
  {
   "cell_type": "code",
   "execution_count": 242,
   "id": "48790d24-476c-4ac9-b18c-5fa08f8b2272",
   "metadata": {},
   "outputs": [
    {
     "data": {
      "text/plain": [
       "\u001b[0;31mSignature:\u001b[0m \u001b[0ma\u001b[0m\u001b[0;34m.\u001b[0m\u001b[0minsert\u001b[0m\u001b[0;34m(\u001b[0m\u001b[0mindex\u001b[0m\u001b[0;34m,\u001b[0m \u001b[0mobject\u001b[0m\u001b[0;34m,\u001b[0m \u001b[0;34m/\u001b[0m\u001b[0;34m)\u001b[0m\u001b[0;34m\u001b[0m\u001b[0;34m\u001b[0m\u001b[0m\n",
       "\u001b[0;31mDocstring:\u001b[0m Insert object before index.\n",
       "\u001b[0;31mType:\u001b[0m      builtin_function_or_method\n"
      ]
     },
     "metadata": {},
     "output_type": "display_data"
    }
   ],
   "source": [
    "a=[1,2,3]\n",
    "a.insert?"
   ]
  },
  {
   "cell_type": "code",
   "execution_count": 243,
   "id": "432a54e7-e006-46d8-a444-b147640116c9",
   "metadata": {},
   "outputs": [
    {
     "data": {
      "text/plain": [
       "[1, 88, 2, 3]"
      ]
     },
     "execution_count": 243,
     "metadata": {},
     "output_type": "execute_result"
    }
   ],
   "source": [
    "a.insert(1,88) \n",
    "a"
   ]
  },
  {
   "cell_type": "markdown",
   "id": "cbad0d32-e460-4e74-9343-3140672dac30",
   "metadata": {},
   "source": [
    "**(pop)**"
   ]
  },
  {
   "cell_type": "code",
   "execution_count": 250,
   "id": "2dd3c813-6a54-4fdc-8591-8750473a0d32",
   "metadata": {},
   "outputs": [
    {
     "data": {
      "text/plain": [
       "\u001b[0;31mSignature:\u001b[0m \u001b[0ma\u001b[0m\u001b[0;34m.\u001b[0m\u001b[0mpop\u001b[0m\u001b[0;34m(\u001b[0m\u001b[0mindex\u001b[0m\u001b[0;34m=\u001b[0m\u001b[0;34m-\u001b[0m\u001b[0;36m1\u001b[0m\u001b[0;34m,\u001b[0m \u001b[0;34m/\u001b[0m\u001b[0;34m)\u001b[0m\u001b[0;34m\u001b[0m\u001b[0;34m\u001b[0m\u001b[0m\n",
       "\u001b[0;31mDocstring:\u001b[0m\n",
       "Remove and return item at index (default last).\n",
       "\n",
       "Raises IndexError if list is empty or index is out of range.\n",
       "\u001b[0;31mType:\u001b[0m      builtin_function_or_method\n"
      ]
     },
     "metadata": {},
     "output_type": "display_data"
    }
   ],
   "source": [
    "a=['a',1,2,'d']\n",
    "a.pop?"
   ]
  },
  {
   "cell_type": "code",
   "execution_count": 251,
   "id": "27708f6f-fef5-4b82-953b-88ea59cfa235",
   "metadata": {},
   "outputs": [
    {
     "data": {
      "text/plain": [
       "'d'"
      ]
     },
     "execution_count": 251,
     "metadata": {},
     "output_type": "execute_result"
    }
   ],
   "source": [
    "a.pop() # index=-1 이므로 마지막원소가 나타남"
   ]
  },
  {
   "cell_type": "code",
   "execution_count": 252,
   "id": "695b43c8-2401-4967-bae6-8fcbcca45e73",
   "metadata": {},
   "outputs": [
    {
     "data": {
      "text/plain": [
       "['a', 1, 2]"
      ]
     },
     "execution_count": 252,
     "metadata": {},
     "output_type": "execute_result"
    }
   ],
   "source": [
    "a # a는 마지막 원소가 사라진 상태"
   ]
  },
  {
   "cell_type": "code",
   "execution_count": 253,
   "id": "7d56ca17-abea-404b-a799-19cf9eaf09e0",
   "metadata": {},
   "outputs": [
    {
     "data": {
      "text/plain": [
       "'a'"
      ]
     },
     "execution_count": 253,
     "metadata": {},
     "output_type": "execute_result"
    }
   ],
   "source": [
    "a.pop(0) # index=0 이므로 첫번쨰 원소가 나타남"
   ]
  },
  {
   "cell_type": "code",
   "execution_count": 254,
   "id": "80f85fcc-fa1d-4f5e-b85d-c04df23ab19f",
   "metadata": {},
   "outputs": [
    {
     "data": {
      "text/plain": [
       "[1, 2]"
      ]
     },
     "execution_count": 254,
     "metadata": {},
     "output_type": "execute_result"
    }
   ],
   "source": [
    "a # a에는 첫번째 원소가 사라진 상태"
   ]
  },
  {
   "cell_type": "markdown",
   "id": "2f987daf-232d-4d3d-be9a-9a2a047c12b0",
   "metadata": {},
   "source": [
    "**(remove)**"
   ]
  },
  {
   "cell_type": "code",
   "execution_count": 255,
   "id": "40a2f96e-b0d0-4e30-93b4-d9b7235f6732",
   "metadata": {},
   "outputs": [
    {
     "data": {
      "text/plain": [
       "\u001b[0;31mSignature:\u001b[0m \u001b[0ma\u001b[0m\u001b[0;34m.\u001b[0m\u001b[0mremove\u001b[0m\u001b[0;34m(\u001b[0m\u001b[0mvalue\u001b[0m\u001b[0;34m,\u001b[0m \u001b[0;34m/\u001b[0m\u001b[0;34m)\u001b[0m\u001b[0;34m\u001b[0m\u001b[0;34m\u001b[0m\u001b[0m\n",
       "\u001b[0;31mDocstring:\u001b[0m\n",
       "Remove first occurrence of value.\n",
       "\n",
       "Raises ValueError if the value is not present.\n",
       "\u001b[0;31mType:\u001b[0m      builtin_function_or_method\n"
      ]
     },
     "metadata": {},
     "output_type": "display_data"
    }
   ],
   "source": [
    "a=['a',2,3,'d']\n",
    "a.remove?"
   ]
  },
  {
   "cell_type": "code",
   "execution_count": 256,
   "id": "540464a0-01ca-462b-8ab2-595b92a70fa5",
   "metadata": {},
   "outputs": [],
   "source": [
    "a.remove('d')"
   ]
  },
  {
   "cell_type": "code",
   "execution_count": 257,
   "id": "b75e8b4c-65cb-4524-b2cc-4459e658f6f9",
   "metadata": {},
   "outputs": [
    {
     "data": {
      "text/plain": [
       "['a', 2, 3]"
      ]
     },
     "execution_count": 257,
     "metadata": {},
     "output_type": "execute_result"
    }
   ],
   "source": [
    "a"
   ]
  },
  {
   "cell_type": "code",
   "execution_count": 259,
   "id": "0478fda4-8bf7-4c78-b80c-724c5ad94f21",
   "metadata": {},
   "outputs": [],
   "source": [
    "a.remove('a')"
   ]
  },
  {
   "cell_type": "code",
   "execution_count": 260,
   "id": "f067588f-3a29-4d68-837b-6fe09d30869d",
   "metadata": {},
   "outputs": [
    {
     "data": {
      "text/plain": [
       "[2, 3]"
      ]
     },
     "execution_count": 260,
     "metadata": {},
     "output_type": "execute_result"
    }
   ],
   "source": [
    "a"
   ]
  },
  {
   "cell_type": "markdown",
   "id": "e94af33b-dad8-4116-bcd1-12595d159a21",
   "metadata": {},
   "source": [
    "**(reverse)**"
   ]
  },
  {
   "cell_type": "code",
   "execution_count": 262,
   "id": "ac656986-fb00-4d0d-ae8e-61b38283d142",
   "metadata": {},
   "outputs": [
    {
     "data": {
      "text/plain": [
       "\u001b[0;31mSignature:\u001b[0m \u001b[0ma\u001b[0m\u001b[0;34m.\u001b[0m\u001b[0mreverse\u001b[0m\u001b[0;34m(\u001b[0m\u001b[0;34m)\u001b[0m\u001b[0;34m\u001b[0m\u001b[0;34m\u001b[0m\u001b[0m\n",
       "\u001b[0;31mDocstring:\u001b[0m Reverse *IN PLACE*.\n",
       "\u001b[0;31mType:\u001b[0m      builtin_function_or_method\n"
      ]
     },
     "metadata": {},
     "output_type": "display_data"
    }
   ],
   "source": [
    "a=[1,2,3,4]\n",
    "a.reverse?"
   ]
  },
  {
   "cell_type": "code",
   "execution_count": 263,
   "id": "91a23506-111f-4d45-90ad-1911113c12e3",
   "metadata": {},
   "outputs": [
    {
     "data": {
      "text/plain": [
       "[4, 3, 2, 1]"
      ]
     },
     "execution_count": 263,
     "metadata": {},
     "output_type": "execute_result"
    }
   ],
   "source": [
    "a.reverse()\n",
    "a"
   ]
  },
  {
   "cell_type": "markdown",
   "id": "257a7ddf-6a53-49e0-a206-627c6b382426",
   "metadata": {},
   "source": [
    "**(sort)**"
   ]
  },
  {
   "cell_type": "code",
   "execution_count": 265,
   "id": "e0660f48-f226-4465-8c2f-2b0ef3c90c3c",
   "metadata": {},
   "outputs": [
    {
     "data": {
      "text/plain": [
       "\u001b[0;31mSignature:\u001b[0m \u001b[0ma\u001b[0m\u001b[0;34m.\u001b[0m\u001b[0msort\u001b[0m\u001b[0;34m(\u001b[0m\u001b[0;34m*\u001b[0m\u001b[0;34m,\u001b[0m \u001b[0mkey\u001b[0m\u001b[0;34m=\u001b[0m\u001b[0;32mNone\u001b[0m\u001b[0;34m,\u001b[0m \u001b[0mreverse\u001b[0m\u001b[0;34m=\u001b[0m\u001b[0;32mFalse\u001b[0m\u001b[0;34m)\u001b[0m\u001b[0;34m\u001b[0m\u001b[0;34m\u001b[0m\u001b[0m\n",
       "\u001b[0;31mDocstring:\u001b[0m\n",
       "Sort the list in ascending order and return None.\n",
       "\n",
       "The sort is in-place (i.e. the list itself is modified) and stable (i.e. the\n",
       "order of two equal elements is maintained).\n",
       "\n",
       "If a key function is given, apply it once to each list item and sort them,\n",
       "ascending or descending, according to their function values.\n",
       "\n",
       "The reverse flag can be set to sort in descending order.\n",
       "\u001b[0;31mType:\u001b[0m      builtin_function_or_method\n"
      ]
     },
     "metadata": {},
     "output_type": "display_data"
    }
   ],
   "source": [
    "a=[1,3,2,4]\n",
    "a.sort?"
   ]
  },
  {
   "cell_type": "code",
   "execution_count": 266,
   "id": "522023d2-1591-40be-bf40-f0fcba475d26",
   "metadata": {},
   "outputs": [
    {
     "data": {
      "text/plain": [
       "[1, 2, 3, 4]"
      ]
     },
     "execution_count": 266,
     "metadata": {},
     "output_type": "execute_result"
    }
   ],
   "source": [
    "a.sort()\n",
    "a"
   ]
  },
  {
   "cell_type": "markdown",
   "id": "810ac0f2-76f4-4ead-afec-c813ec199202",
   "metadata": {},
   "source": [
    "(다른예제들)"
   ]
  },
  {
   "cell_type": "code",
   "execution_count": 271,
   "id": "ede1c787-88b3-446c-8f57-d4c5811833aa",
   "metadata": {},
   "outputs": [
    {
     "data": {
      "text/plain": [
       "['g', 'u', 'e', 'b', 'i', 'n']"
      ]
     },
     "execution_count": 271,
     "metadata": {},
     "output_type": "execute_result"
    }
   ],
   "source": [
    "a=list('guebin')\n",
    "a"
   ]
  },
  {
   "cell_type": "code",
   "execution_count": 272,
   "id": "a20cd5b3-576d-44fc-936c-5368612ed874",
   "metadata": {},
   "outputs": [
    {
     "data": {
      "text/plain": [
       "['b', 'e', 'g', 'i', 'n', 'u']"
      ]
     },
     "execution_count": 272,
     "metadata": {},
     "output_type": "execute_result"
    }
   ],
   "source": [
    "a.sort()\n",
    "a"
   ]
  },
  {
   "cell_type": "code",
   "execution_count": 274,
   "id": "e489fd3f-8570-4baa-8547-6a60d3a57d8c",
   "metadata": {},
   "outputs": [
    {
     "data": {
      "text/plain": [
       "['u', 'n', 'i', 'g', 'e', 'b']"
      ]
     },
     "execution_count": 274,
     "metadata": {},
     "output_type": "execute_result"
    }
   ],
   "source": [
    "a.sort(reverse=True)\n",
    "a"
   ]
  },
  {
   "cell_type": "markdown",
   "id": "c7f7c141-d9a7-451e-9569-9979363597ea",
   "metadata": {},
   "source": [
    "#### 중첩리스트 "
   ]
  },
  {
   "cell_type": "code",
   "execution_count": 275,
   "id": "d3b0dff4-6e5a-4141-88cd-48387113d441",
   "metadata": {},
   "outputs": [
    {
     "data": {
      "text/plain": [
       "[[1, 2, 3], [4, 5, 6], [7, 8, 9]]"
      ]
     },
     "execution_count": 275,
     "metadata": {},
     "output_type": "execute_result"
    }
   ],
   "source": [
    "A=[[1,2,3],[4,5,6],[7,8,9]]\n",
    "A"
   ]
  },
  {
   "cell_type": "markdown",
   "id": "2ba213cd-465b-4cca-8309-4c3424f326e1",
   "metadata": {},
   "source": [
    "`-` A는 아래와 같은 매트릭스로 이해할 수 있다"
   ]
  },
  {
   "cell_type": "markdown",
   "id": "97bb4be3-a61f-45d8-8607-d33ff833cb6e",
   "metadata": {},
   "source": [
    "$\n",
    "\\bf{A}=\\begin{bmatrix}\n",
    "1 & 2 & 3 \\\\ \n",
    "4 & 5 & 6 \\\\ \n",
    "7 & 8 & 9 \n",
    "\\end{bmatrix}\n",
    "$"
   ]
  },
  {
   "cell_type": "markdown",
   "id": "583586fb-4b74-49da-86ab-812fa1f46b9a",
   "metadata": {},
   "source": [
    "`-` A에서 (2,1)의 원소를 뽑고싶다 = 4를 뽑고싶다 "
   ]
  },
  {
   "cell_type": "code",
   "execution_count": 279,
   "id": "40a941d7-4846-47b8-97ef-b8446fdcfdfd",
   "metadata": {},
   "outputs": [
    {
     "ename": "TypeError",
     "evalue": "list indices must be integers or slices, not tuple",
     "output_type": "error",
     "traceback": [
      "\u001b[0;31m---------------------------------------------------------------------------\u001b[0m",
      "\u001b[0;31mTypeError\u001b[0m                                 Traceback (most recent call last)",
      "Input \u001b[0;32mIn [279]\u001b[0m, in \u001b[0;36m<module>\u001b[0;34m\u001b[0m\n\u001b[0;32m----> 1\u001b[0m \u001b[43mA\u001b[49m\u001b[43m[\u001b[49m\u001b[38;5;241;43m1\u001b[39;49m\u001b[43m,\u001b[49m\u001b[38;5;241;43m0\u001b[39;49m\u001b[43m]\u001b[49m\n",
      "\u001b[0;31mTypeError\u001b[0m: list indices must be integers or slices, not tuple"
     ]
    }
   ],
   "source": [
    "A[1,0]"
   ]
  },
  {
   "cell_type": "markdown",
   "id": "ba8ea4f2-56a6-47d7-b232-65971fe80089",
   "metadata": {},
   "source": [
    "- 실패"
   ]
  },
  {
   "cell_type": "code",
   "execution_count": 278,
   "id": "d8284d84-94fc-4110-b721-3bf271ceb6e2",
   "metadata": {},
   "outputs": [
    {
     "data": {
      "text/plain": [
       "4"
      ]
     },
     "execution_count": 278,
     "metadata": {},
     "output_type": "execute_result"
    }
   ],
   "source": [
    "A[1][0]"
   ]
  },
  {
   "cell_type": "markdown",
   "id": "16a75d44-0563-416a-8f45-f3b0f9896754",
   "metadata": {},
   "source": [
    "- 성공 "
   ]
  },
  {
   "cell_type": "markdown",
   "id": "fcf0b61d-a712-4b03-a777-8ea9db348e10",
   "metadata": {},
   "source": [
    "`-` 성공의 이유를 분석해보자. "
   ]
  },
  {
   "cell_type": "code",
   "execution_count": 285,
   "id": "39af50c2-efae-4e55-98e5-31e4e5a024ff",
   "metadata": {},
   "outputs": [
    {
     "data": {
      "text/plain": [
       "[[1, 2, 3], [4, 5, 6], [7, 8, 9]]"
      ]
     },
     "execution_count": 285,
     "metadata": {},
     "output_type": "execute_result"
    }
   ],
   "source": [
    "A"
   ]
  },
  {
   "cell_type": "code",
   "execution_count": 286,
   "id": "8262f461-7e02-4758-a9cd-e0e0db149a73",
   "metadata": {},
   "outputs": [
    {
     "data": {
      "text/plain": [
       "[4, 5, 6]"
      ]
     },
     "execution_count": 286,
     "metadata": {},
     "output_type": "execute_result"
    }
   ],
   "source": [
    "A[1]"
   ]
  },
  {
   "cell_type": "code",
   "execution_count": 287,
   "id": "a30cd724-dd70-4b3b-8797-8d7f092fb936",
   "metadata": {},
   "outputs": [
    {
     "data": {
      "text/plain": [
       "4"
      ]
     },
     "execution_count": 287,
     "metadata": {},
     "output_type": "execute_result"
    }
   ],
   "source": [
    "A[1][0]"
   ]
  },
  {
   "cell_type": "markdown",
   "id": "d6299202-10ac-4c6a-b82f-b54a313f51d1",
   "metadata": {},
   "source": [
    "`-` 매트릭스는 아니지만 매트릭스 같음!\n",
    "- 1차원 배열을 다차원 배열로 확장할 수 있는 기본 아이디어를 제공함 "
   ]
  },
  {
   "cell_type": "markdown",
   "id": "9cfa054d-314e-4efb-931e-6733f55d3bd8",
   "metadata": {},
   "source": [
    "#### 리스트컴프리헨션($\\star\\star\\star$)"
   ]
  },
  {
   "cell_type": "markdown",
   "id": "cae3d0ac-6531-44c7-b954-951102e91a61",
   "metadata": {},
   "source": [
    "`-` 리스트 컴프리헨션을 이해하기 전에 for문에 대하여 알아보자. "
   ]
  },
  {
   "cell_type": "markdown",
   "id": "54cc8d24-881d-4bd8-8327-87d283d3f484",
   "metadata": {},
   "source": [
    "[예비학습] `for`문 벼락치기"
   ]
  },
  {
   "cell_type": "markdown",
   "id": "99e5c0fb-e3f8-4b39-82c5-b29b5e1698c2",
   "metadata": {},
   "source": [
    "프로그램안에서 반복해서 무엇인가를 하고싶다 $\\to$ for "
   ]
  },
  {
   "cell_type": "code",
   "execution_count": 371,
   "id": "adea33c4-5896-48d4-b243-dc55b99702cf",
   "metadata": {},
   "outputs": [
    {
     "name": "stdout",
     "output_type": "stream",
     "text": [
      "0\n",
      "1\n",
      "2\n",
      "3\n"
     ]
    }
   ],
   "source": [
    "for i in [0,1,2,3]: ## 반복실행계획\n",
    "    print(i) ## 반복실행할내용, 탭을이용하여 들여쓰기해야한다. "
   ]
  },
  {
   "cell_type": "markdown",
   "id": "5cc1d5d5-531f-4ef1-b9da-3738cd84fc39",
   "metadata": {},
   "source": [
    "(예제) 1,2,3,4의 합을 for문을 이용하여 구해보자. "
   ]
  },
  {
   "cell_type": "code",
   "execution_count": 360,
   "id": "af2be2ae-26c4-462a-96b9-4e1f7a4c005f",
   "metadata": {},
   "outputs": [],
   "source": [
    "_sum = 0\n",
    "for i in [1,2,3,4]: \n",
    "    _sum = _sum + i "
   ]
  },
  {
   "cell_type": "code",
   "execution_count": 361,
   "id": "29c4b0fc-c7a4-4441-a1e4-a4272e88837d",
   "metadata": {},
   "outputs": [
    {
     "data": {
      "text/plain": [
       "10"
      ]
     },
     "execution_count": 361,
     "metadata": {},
     "output_type": "execute_result"
    }
   ],
   "source": [
    "_sum"
   ]
  },
  {
   "cell_type": "code",
   "execution_count": 364,
   "id": "2c91462f-b4b8-4245-9b58-782cb6adb0f3",
   "metadata": {},
   "outputs": [],
   "source": [
    "_sum = 0\n",
    "i=1 \n",
    "_sum = _sum + i ## 1 <= 0+1\n",
    "i=2\n",
    "_sum = _sum + i ## 3 <= 1+2 \n",
    "i=3 \n",
    "_sum = _sum + i ## 6 <= 3+3\n",
    "i=4\n",
    "_sum = _sum + i ## 10 <= 6+4 "
   ]
  },
  {
   "cell_type": "code",
   "execution_count": 365,
   "id": "d81ed258-ae1a-40b0-9540-4c2df8e0bd58",
   "metadata": {},
   "outputs": [
    {
     "data": {
      "text/plain": [
       "10"
      ]
     },
     "execution_count": 365,
     "metadata": {},
     "output_type": "execute_result"
    }
   ],
   "source": [
    "_sum"
   ]
  },
  {
   "cell_type": "markdown",
   "id": "a31a74f8-6808-4201-b460-e1a2a758457d",
   "metadata": {},
   "source": [
    "예비학습끝"
   ]
  },
  {
   "cell_type": "markdown",
   "id": "c044f254-72fa-43c8-9aac-910bf69ca60e",
   "metadata": {},
   "source": [
    "`-` 예제: $2^0, 2^1, 2^2, 2^3$를 원소로 가지는 리스트를 생성하라. "
   ]
  },
  {
   "cell_type": "markdown",
   "id": "f4a0b405-9a8f-4df4-85b2-5cc0d1784a7f",
   "metadata": {},
   "source": [
    "(풀이1) 직접입력"
   ]
  },
  {
   "cell_type": "code",
   "execution_count": 386,
   "id": "36439f36-af5d-4a3c-a55c-d87ca06a2bba",
   "metadata": {},
   "outputs": [
    {
     "data": {
      "text/plain": [
       "[1, 2, 4, 8]"
      ]
     },
     "execution_count": 386,
     "metadata": {},
     "output_type": "execute_result"
    }
   ],
   "source": [
    "x= [2**0, 2**1, 2**2, 2**3] \n",
    "x"
   ]
  },
  {
   "cell_type": "markdown",
   "id": "12818bdc-b691-4650-b1ff-8a7197412840",
   "metadata": {},
   "source": [
    "(풀이2) for문을 이용함 "
   ]
  },
  {
   "cell_type": "code",
   "execution_count": 388,
   "id": "fa7a0843-fbb8-42a0-b0ea-f9a49db8ee05",
   "metadata": {},
   "outputs": [],
   "source": [
    "x=[] \n",
    "for i in [0,1,2,3]:\n",
    "    x.append(2**i) "
   ]
  },
  {
   "cell_type": "code",
   "execution_count": 389,
   "id": "50075ce9-fd97-4976-ba9f-1aabd93c9bfc",
   "metadata": {},
   "outputs": [
    {
     "data": {
      "text/plain": [
       "[1, 2, 4, 8]"
      ]
     },
     "execution_count": 389,
     "metadata": {},
     "output_type": "execute_result"
    }
   ],
   "source": [
    "x"
   ]
  },
  {
   "cell_type": "markdown",
   "id": "cbabba1b-af12-403a-9f5a-60d8e6571c0a",
   "metadata": {},
   "source": [
    "(풀이3) for문을 이용함 "
   ]
  },
  {
   "cell_type": "code",
   "execution_count": 390,
   "id": "2b100fe4-92d9-458b-938e-c6b8ca869b2b",
   "metadata": {},
   "outputs": [],
   "source": [
    "x=[] \n",
    "for i in [0,1,2,3]:\n",
    "    x = x+[2**i]"
   ]
  },
  {
   "cell_type": "code",
   "execution_count": 391,
   "id": "a2d2f6d9-b31b-4ba1-ab56-03ef83996198",
   "metadata": {},
   "outputs": [
    {
     "data": {
      "text/plain": [
       "[1, 2, 4, 8]"
      ]
     },
     "execution_count": 391,
     "metadata": {},
     "output_type": "execute_result"
    }
   ],
   "source": [
    "x"
   ]
  },
  {
   "cell_type": "markdown",
   "id": "be1cd274-e8d2-4ccc-b173-3bec472a6d40",
   "metadata": {},
   "source": [
    "(풀이4) for문을 이용함 "
   ]
  },
  {
   "cell_type": "code",
   "execution_count": 392,
   "id": "30c29c75-0927-4bcc-9b5a-3da0a2493281",
   "metadata": {},
   "outputs": [],
   "source": [
    "x=[] \n",
    "for i in [0,1,2,3]:\n",
    "    x += [2**i]"
   ]
  },
  {
   "cell_type": "code",
   "execution_count": 393,
   "id": "3a2b3f57-3662-44db-b50e-0a4e63fdb253",
   "metadata": {},
   "outputs": [
    {
     "data": {
      "text/plain": [
       "[1, 2, 4, 8]"
      ]
     },
     "execution_count": 393,
     "metadata": {},
     "output_type": "execute_result"
    }
   ],
   "source": [
    "x"
   ]
  },
  {
   "cell_type": "markdown",
   "id": "9cca486e-ea2a-4e1f-92bf-808c7bd8f8aa",
   "metadata": {},
   "source": [
    "(풀이5) 리스트컴프리헨션을 이용한 풀이 "
   ]
  },
  {
   "cell_type": "code",
   "execution_count": 394,
   "id": "562674cd-e615-4c80-8652-698ec25e4f6c",
   "metadata": {},
   "outputs": [
    {
     "data": {
      "text/plain": [
       "[1, 2, 4, 8]"
      ]
     },
     "execution_count": 394,
     "metadata": {},
     "output_type": "execute_result"
    }
   ],
   "source": [
    "x= [2**i for i in [0,1,2,3]] \n",
    "x"
   ]
  },
  {
   "cell_type": "markdown",
   "id": "1c7a4136-45c5-4c8a-8df7-2b46a1ffc702",
   "metadata": {},
   "source": [
    "`-` 리스트컴프리헨션의 문법 암기방법 \n",
    "- 집합에서 조건제시법을 연상 \n",
    "- $\\{2^0,2^1,2^2,2^3\\}=\\{2^i: i \\in \\{0,1,2,3\\} \\}$"
   ]
  },
  {
   "cell_type": "markdown",
   "id": "c0571d24-dd6f-4308-8d16-a941139499bb",
   "metadata": {},
   "source": [
    "`-` 리스트컴프리헨션이란? \n",
    "- 리스트를 매우 효율적으로 만드는 테크닉 \n",
    "- for문에 비하여 가지고 있는 장점: (1) 코드가 간결하다 (2) 빠르다 "
   ]
  },
  {
   "cell_type": "markdown",
   "id": "9866d3da-cc97-459c-8f9d-9150e1d7c775",
   "metadata": {},
   "source": [
    "`-` 예제: 리스트 컴프리헨션을 이용하여 아래와 같은 리스트를 만들어라. "
   ]
  },
  {
   "cell_type": "code",
   "execution_count": 396,
   "id": "ba6a64d0-e752-4811-ae99-3ecf6ab2be22",
   "metadata": {},
   "outputs": [
    {
     "data": {
      "text/plain": [
       "['SSSS', 'PPPP', 'AAAA', 'MMMM']"
      ]
     },
     "execution_count": 396,
     "metadata": {},
     "output_type": "execute_result"
    }
   ],
   "source": [
    "['SSSS','PPPP','AAAA','MMMM']"
   ]
  },
  {
   "cell_type": "markdown",
   "id": "54f48e2a-62af-49a2-b29d-4ad4aeaf747f",
   "metadata": {},
   "source": [
    "(풀이)"
   ]
  },
  {
   "cell_type": "code",
   "execution_count": 397,
   "id": "eac9c70e-aa57-49b8-a29c-646fc8598075",
   "metadata": {},
   "outputs": [
    {
     "data": {
      "text/plain": [
       "['SSSS', 'PPPP', 'AAAA', 'MMMM']"
      ]
     },
     "execution_count": 397,
     "metadata": {},
     "output_type": "execute_result"
    }
   ],
   "source": [
    "[i*4 for i in 'SPAM']"
   ]
  },
  {
   "cell_type": "markdown",
   "id": "083c0d60-1d10-4572-a217-db08cb95f0f4",
   "metadata": {},
   "source": [
    "`-` 예제: 리스트컴프리헨션을 이용하여 아래와 같은 리스트를 만들어라. "
   ]
  },
  {
   "cell_type": "code",
   "execution_count": 401,
   "id": "f99f24bb-a086-4ea9-a70a-34f8446b1698",
   "metadata": {},
   "outputs": [
    {
     "data": {
      "text/plain": [
       "['X1', 'X2', 'X3', 'Y1', 'Y2', 'Y3']"
      ]
     },
     "execution_count": 401,
     "metadata": {},
     "output_type": "execute_result"
    }
   ],
   "source": [
    "['X1','X2','X3','Y1','Y2','Y3']"
   ]
  },
  {
   "cell_type": "markdown",
   "id": "f8a9a6ff-5636-4f5f-ad28-eba64bba0e3f",
   "metadata": {},
   "source": [
    "(풀이) "
   ]
  },
  {
   "cell_type": "code",
   "execution_count": 405,
   "id": "3da54082-417b-4515-92e2-168004bdfcf2",
   "metadata": {},
   "outputs": [
    {
     "data": {
      "text/plain": [
       "['X1', 'X2', 'X3', 'Y1', 'Y2', 'Y3']"
      ]
     },
     "execution_count": 405,
     "metadata": {},
     "output_type": "execute_result"
    }
   ],
   "source": [
    "[i+j for i in 'XY' for j in '123']"
   ]
  },
  {
   "cell_type": "markdown",
   "id": "178c663e-11e7-4022-bfec-160c380f0b8f",
   "metadata": {},
   "source": [
    "`-` 예제: 리스트컴프리헨션을 이용하여 통계1,...,통계5,수학1,...,수학5를 만들어라. "
   ]
  },
  {
   "cell_type": "markdown",
   "id": "0478c3d0-13c5-443e-8f24-babe9353f825",
   "metadata": {},
   "source": [
    "(풀이) "
   ]
  },
  {
   "cell_type": "code",
   "execution_count": 407,
   "id": "fbbc0b7c-88a2-4296-b6e5-209c4d4f4dd1",
   "metadata": {},
   "outputs": [
    {
     "data": {
      "text/plain": [
       "['stat1',\n",
       " 'stat2',\n",
       " 'stat3',\n",
       " 'stat4',\n",
       " 'stat5',\n",
       " 'math1',\n",
       " 'math2',\n",
       " 'math3',\n",
       " 'math4',\n",
       " 'math5']"
      ]
     },
     "execution_count": 407,
     "metadata": {},
     "output_type": "execute_result"
    }
   ],
   "source": [
    "[x+y for x in ['stat','math'] for y in '12345'] "
   ]
  },
  {
   "cell_type": "markdown",
   "id": "60044c6b-8729-43cd-a83d-c3eb4f79b824",
   "metadata": {},
   "source": [
    "- $\\{xy : x \\in \\{stat,math\\}, y \\in \\{1,2,3,4,5\\} \\}$ "
   ]
  },
  {
   "cell_type": "markdown",
   "id": "8b388e88-008d-472e-b2d4-b2aa0bb151ee",
   "metadata": {},
   "source": [
    "(다른풀이) 참고로 for문을 쓰면 좀 복잡해진다. "
   ]
  },
  {
   "cell_type": "code",
   "execution_count": 409,
   "id": "d6baaac1-5b50-48b2-89e2-3b889c55466b",
   "metadata": {},
   "outputs": [],
   "source": [
    "_lst = [] \n",
    "for x in ['stat','math']: \n",
    "    for y in '12345': \n",
    "        _lst = _lst + [x+y] "
   ]
  },
  {
   "cell_type": "code",
   "execution_count": 410,
   "id": "cb383d45-55d1-4942-b37b-b9b402d16763",
   "metadata": {},
   "outputs": [
    {
     "data": {
      "text/plain": [
       "['stat1',\n",
       " 'stat2',\n",
       " 'stat3',\n",
       " 'stat4',\n",
       " 'stat5',\n",
       " 'math1',\n",
       " 'math2',\n",
       " 'math3',\n",
       " 'math4',\n",
       " 'math5']"
      ]
     },
     "execution_count": 410,
     "metadata": {},
     "output_type": "execute_result"
    }
   ],
   "source": [
    "_lst "
   ]
  },
  {
   "cell_type": "markdown",
   "id": "c93d8040-6f1b-4da7-a5ed-6a41e7574082",
   "metadata": {},
   "source": [
    "`-` 예제: 'jbnu'를 이용하여 아래와 같은 리스트를 만들어라. (리스트컴프리헨션을 이용할것) "
   ]
  },
  {
   "cell_type": "code",
   "execution_count": 412,
   "id": "a110fc88-7777-4a73-81e7-64b60a43aa3d",
   "metadata": {},
   "outputs": [
    {
     "data": {
      "text/plain": [
       "['j', 'b', 'n', 'u']"
      ]
     },
     "execution_count": 412,
     "metadata": {},
     "output_type": "execute_result"
    }
   ],
   "source": [
    "['j','b','n','u']"
   ]
  },
  {
   "cell_type": "markdown",
   "id": "64801526-a19e-4375-8bc6-b5e8c896a057",
   "metadata": {},
   "source": [
    "(다른풀이) 아래와 같이 풀면 된다는것은 알고 있음  "
   ]
  },
  {
   "cell_type": "code",
   "execution_count": 415,
   "id": "fd331c91-b095-41bd-981b-1a7b7e800ff2",
   "metadata": {},
   "outputs": [
    {
     "data": {
      "text/plain": [
       "['j', 'b', 'n', 'u']"
      ]
     },
     "execution_count": 415,
     "metadata": {},
     "output_type": "execute_result"
    }
   ],
   "source": [
    "list('jbnu')"
   ]
  },
  {
   "cell_type": "markdown",
   "id": "f2265173-f314-491f-96b7-44d72b7ab6a5",
   "metadata": {},
   "source": [
    "(풀이) "
   ]
  },
  {
   "cell_type": "code",
   "execution_count": 418,
   "id": "75ab3236-18a6-44ec-b6c0-c9ab0ed20e45",
   "metadata": {},
   "outputs": [
    {
     "data": {
      "text/plain": [
       "['j', 'b', 'n', 'u']"
      ]
     },
     "execution_count": 418,
     "metadata": {},
     "output_type": "execute_result"
    }
   ],
   "source": [
    "[x for x in 'jbnu']"
   ]
  },
  {
   "cell_type": "markdown",
   "id": "6683b36e-c55a-4e40-8151-e280a2e47e96",
   "metadata": {},
   "source": [
    "`-` 예제: x에는 무엇이 있을까? "
   ]
  },
  {
   "cell_type": "markdown",
   "id": "d73e7a69-a90b-40c1-87d5-c27784cd3418",
   "metadata": {},
   "source": [
    "(경우1)"
   ]
  },
  {
   "cell_type": "code",
   "execution_count": 423,
   "id": "9679c5b1-7cbf-44ca-a8e5-784ec2f128e8",
   "metadata": {},
   "outputs": [
    {
     "data": {
      "text/plain": [
       "['j', 'b', 'n', 'u']"
      ]
     },
     "execution_count": 423,
     "metadata": {},
     "output_type": "execute_result"
    }
   ],
   "source": [
    "x=1 \n",
    "lst = [] \n",
    "for x in 'jbnu': \n",
    "    lst = lst + [x]\n",
    "lst    "
   ]
  },
  {
   "cell_type": "code",
   "execution_count": 424,
   "id": "8efed6f7-27a2-43da-9517-f68bca527e82",
   "metadata": {},
   "outputs": [
    {
     "data": {
      "text/plain": [
       "'u'"
      ]
     },
     "execution_count": 424,
     "metadata": {},
     "output_type": "execute_result"
    }
   ],
   "source": [
    "x "
   ]
  },
  {
   "cell_type": "markdown",
   "id": "c5d3be37-9bd1-45df-bb66-1e9cfdfba3bc",
   "metadata": {},
   "source": [
    "(경우2)"
   ]
  },
  {
   "cell_type": "code",
   "execution_count": 425,
   "id": "ad05ba69-d091-4589-8965-0fa0be3e2794",
   "metadata": {},
   "outputs": [
    {
     "data": {
      "text/plain": [
       "['j', 'b', 'n', 'u']"
      ]
     },
     "execution_count": 425,
     "metadata": {},
     "output_type": "execute_result"
    }
   ],
   "source": [
    "x=1 \n",
    "lst = [x for x in 'jbnu'] \n",
    "lst "
   ]
  },
  {
   "cell_type": "code",
   "execution_count": 426,
   "id": "f40c72fa-3475-4030-8830-93c1fe5e56ce",
   "metadata": {},
   "outputs": [
    {
     "data": {
      "text/plain": [
       "1"
      ]
     },
     "execution_count": 426,
     "metadata": {},
     "output_type": "execute_result"
    }
   ],
   "source": [
    "x"
   ]
  },
  {
   "cell_type": "markdown",
   "id": "95a5dec8-7625-4b67-8da0-dc5f66fdda81",
   "metadata": {},
   "source": [
    "- 진짜 미묘하게 다르죠? "
   ]
  },
  {
   "cell_type": "markdown",
   "id": "d192851b-4618-4c13-913a-696e59bbe8c0",
   "metadata": {},
   "source": [
    "`-` 예제: [X1,X2,X3,...,X100]와 같은 리스트를 만들어보라. "
   ]
  },
  {
   "cell_type": "markdown",
   "id": "31b15ab1-6f9c-4557-b43f-9428f87b2baa",
   "metadata": {},
   "source": [
    "(풀이) "
   ]
  },
  {
   "cell_type": "code",
   "execution_count": 431,
   "id": "305eb10c-e103-41db-8141-fd5ba209eabe",
   "metadata": {},
   "outputs": [
    {
     "data": {
      "text/plain": [
       "['X1', 'X2', 'X3', 'X4']"
      ]
     },
     "execution_count": 431,
     "metadata": {},
     "output_type": "execute_result"
    }
   ],
   "source": [
    "['X'+str(i) for i in [1,2,3,4]] ## 이걸 4까지가 아니라 100까지 써야함"
   ]
  },
  {
   "cell_type": "code",
   "execution_count": 432,
   "id": "7f9d0738-3a20-4c07-a8b3-cc5c415b7385",
   "metadata": {},
   "outputs": [
    {
     "ename": "SyntaxError",
     "evalue": "invalid syntax (<ipython-input-432-4555f37f5468>, line 1)",
     "output_type": "error",
     "traceback": [
      "\u001b[0;36m  Input \u001b[0;32mIn [432]\u001b[0;36m\u001b[0m\n\u001b[0;31m    ['X'+str(i) for i in 1:100]\u001b[0m\n\u001b[0m                          ^\u001b[0m\n\u001b[0;31mSyntaxError\u001b[0m\u001b[0;31m:\u001b[0m invalid syntax\n"
     ]
    }
   ],
   "source": [
    "['X'+str(i) for i in 1:100]"
   ]
  },
  {
   "cell_type": "markdown",
   "id": "b53f6f94-7f39-49f7-9dac-67674745b16f",
   "metadata": {},
   "source": [
    "[예비학습]"
   ]
  },
  {
   "cell_type": "code",
   "execution_count": 434,
   "id": "443c1f4f-5830-4183-a92b-a7cfbb4b66ed",
   "metadata": {},
   "outputs": [
    {
     "data": {
      "text/plain": [
       "range(0, 10)"
      ]
     },
     "execution_count": 434,
     "metadata": {},
     "output_type": "execute_result"
    }
   ],
   "source": [
    "range(0,10)"
   ]
  },
  {
   "cell_type": "markdown",
   "id": "c1f141cb-ca33-4984-870f-ae8088cf64e3",
   "metadata": {},
   "source": [
    "- 이게뭐야? "
   ]
  },
  {
   "cell_type": "code",
   "execution_count": 438,
   "id": "7e35d574-875c-4baa-9fcd-bbc72c22a892",
   "metadata": {},
   "outputs": [
    {
     "data": {
      "text/plain": [
       "\u001b[0;31mType:\u001b[0m        range\n",
       "\u001b[0;31mString form:\u001b[0m range(0, 10)\n",
       "\u001b[0;31mLength:\u001b[0m      10\n",
       "\u001b[0;31mDocstring:\u001b[0m  \n",
       "range(stop) -> range object\n",
       "range(start, stop[, step]) -> range object\n",
       "\n",
       "Return an object that produces a sequence of integers from start (inclusive)\n",
       "to stop (exclusive) by step.  range(i, j) produces i, i+1, i+2, ..., j-1.\n",
       "start defaults to 0, and stop is omitted!  range(4) produces 0, 1, 2, 3.\n",
       "These are exactly the valid indices for a list of 4 elements.\n",
       "When step is given, it specifies the increment (or decrement).\n"
      ]
     },
     "metadata": {},
     "output_type": "display_data"
    }
   ],
   "source": [
    "_tmp = range(0,10)\n",
    "_tmp?"
   ]
  },
  {
   "cell_type": "markdown",
   "id": "19105cfb-da01-4766-8a42-056176d2185d",
   "metadata": {},
   "source": [
    "- 우리가 아는 범위에서는 모르겠음.. 이런게 있나보다 하고 넘어가야 하겠음 "
   ]
  },
  {
   "cell_type": "code",
   "execution_count": 448,
   "id": "e7400e99-6339-42c9-974a-2d4a897ef2f0",
   "metadata": {},
   "outputs": [
    {
     "data": {
      "text/plain": [
       "[0, 1, 2, 3, 4, 5, 6, 7, 8, 9]"
      ]
     },
     "execution_count": 448,
     "metadata": {},
     "output_type": "execute_result"
    }
   ],
   "source": [
    "list(range(0,10)) # 0을 포함, 10을 미포함 "
   ]
  },
  {
   "cell_type": "markdown",
   "id": "774a89f2-927e-4ef0-aa5f-4ad11d303698",
   "metadata": {},
   "source": [
    "- 이게 중요한것임. range(0,10)를 리스트화시키면 [0,1,2,...,9] 와 같은 리스트를 얻을 수 있음.  "
   ]
  },
  {
   "cell_type": "code",
   "execution_count": 453,
   "id": "e3bd6404-823f-45ef-8689-19dee1b5bd10",
   "metadata": {},
   "outputs": [
    {
     "data": {
      "text/plain": [
       "[0, 1, 2, 3, 4, 5, 6, 7, 8, 9]"
      ]
     },
     "execution_count": 453,
     "metadata": {},
     "output_type": "execute_result"
    }
   ],
   "source": [
    "list(range(10)) # 0은 생략가능"
   ]
  },
  {
   "cell_type": "code",
   "execution_count": 452,
   "id": "210a52cc-d940-4a51-bb2f-83e838cabc37",
   "metadata": {},
   "outputs": [
    {
     "data": {
      "text/plain": [
       "[2, 3, 4, 5, 6, 7, 8, 9]"
      ]
     },
     "execution_count": 452,
     "metadata": {},
     "output_type": "execute_result"
    }
   ],
   "source": [
    "list(range(2,10)) # 2는 포함, 10은 미포함 "
   ]
  },
  {
   "cell_type": "code",
   "execution_count": 455,
   "id": "cab08a9d-3d89-48e3-a517-71c21b037c6e",
   "metadata": {},
   "outputs": [
    {
     "data": {
      "text/plain": [
       "[1, 3, 5, 7, 9]"
      ]
     },
     "execution_count": 455,
     "metadata": {},
     "output_type": "execute_result"
    }
   ],
   "source": [
    "list(range(1,10,2)) # 2는 포함, 10은 미포함 "
   ]
  },
  {
   "cell_type": "markdown",
   "id": "86646a38-f618-4aa3-a9a5-afab32c9f12e",
   "metadata": {},
   "source": [
    "예비학습 끝 "
   ]
  },
  {
   "cell_type": "code",
   "execution_count": 460,
   "id": "2cdebd70-6e01-4248-895d-0e6d426cb1fb",
   "metadata": {},
   "outputs": [
    {
     "data": {
      "text/plain": [
       "['X1', 'X2', 'X3', 'X4', 'X5', 'X6', 'X7', 'X8', 'X9', 'X10', 'X11', 'X12']"
      ]
     },
     "execution_count": 460,
     "metadata": {},
     "output_type": "execute_result"
    }
   ],
   "source": [
    "['X'+str(i) for i in list(range(1,13))] ## 출력결과가 너무 기니까 101대신에 13으로 변경 "
   ]
  },
  {
   "cell_type": "markdown",
   "id": "04720c20-fe7b-4a98-8fd5-37eb752ad758",
   "metadata": {},
   "source": [
    "(아래와 같은 풀이도 가능) "
   ]
  },
  {
   "cell_type": "code",
   "execution_count": 466,
   "id": "2b32ee14-c072-4b3c-a7d0-37691316ba11",
   "metadata": {},
   "outputs": [
    {
     "data": {
      "text/plain": [
       "['X1', 'X2', 'X3', 'X4', 'X5', 'X6', 'X7', 'X8', 'X9', 'X10', 'X11', 'X12']"
      ]
     },
     "execution_count": 466,
     "metadata": {},
     "output_type": "execute_result"
    }
   ],
   "source": [
    "['X'+str(i) for i in range(1,13)] ## 출력결과가 너무 기니까 101대신에 13으로 변경 "
   ]
  },
  {
   "cell_type": "markdown",
   "id": "fc5200dd-a5ab-4199-b4e7-4ea819a2792d",
   "metadata": {},
   "source": [
    "(딴생각) 생각해보니까 for문 뒤에 올수 있는것이 무엇인지 생각하는것도 흥미로울듯 "
   ]
  },
  {
   "cell_type": "code",
   "execution_count": 467,
   "id": "41d4ba9b-e3a0-43e8-90ab-54968306a8c9",
   "metadata": {},
   "outputs": [
    {
     "name": "stdout",
     "output_type": "stream",
     "text": [
      "1\n",
      "2\n",
      "3\n",
      "4\n"
     ]
    }
   ],
   "source": [
    "for i in '1234':\n",
    "    print(i)"
   ]
  },
  {
   "cell_type": "code",
   "execution_count": 468,
   "id": "ae176f2e-1f21-4a2b-889f-df8179cbcf3e",
   "metadata": {},
   "outputs": [
    {
     "name": "stdout",
     "output_type": "stream",
     "text": [
      "1\n",
      "2\n",
      "3\n",
      "4\n"
     ]
    }
   ],
   "source": [
    "for i in [1,2,3,4]:\n",
    "    print(i)"
   ]
  },
  {
   "cell_type": "code",
   "execution_count": 470,
   "id": "2a9a0658-2628-4978-9101-7530956500bd",
   "metadata": {},
   "outputs": [
    {
     "name": "stdout",
     "output_type": "stream",
     "text": [
      "1\n",
      "2\n",
      "3\n",
      "4\n"
     ]
    }
   ],
   "source": [
    "for i in (1,2,3,4): # (1,2,3,4)는 튜플\n",
    "    print(i)"
   ]
  },
  {
   "cell_type": "code",
   "execution_count": 474,
   "id": "b99fd953-70f6-46ec-8824-0ead2fa70e78",
   "metadata": {},
   "outputs": [
    {
     "name": "stdout",
     "output_type": "stream",
     "text": [
      "1\n",
      "2\n",
      "3\n",
      "4\n"
     ]
    }
   ],
   "source": [
    "for i in {1,2,3,4}: # {1,2,3,4}는 set \n",
    "    print(i)"
   ]
  },
  {
   "cell_type": "code",
   "execution_count": 476,
   "id": "5148a64e-fb53-40e8-b96b-fc0b59912b4c",
   "metadata": {},
   "outputs": [
    {
     "name": "stdout",
     "output_type": "stream",
     "text": [
      "name\n",
      "age\n"
     ]
    }
   ],
   "source": [
    "for i in {'name':'iu','age':28}: #{'name':'iu','age':28} 는 딕셔너리\n",
    "    print(i)"
   ]
  },
  {
   "cell_type": "code",
   "execution_count": 479,
   "id": "f0fac81c-a22e-43c9-9efd-a67b400ac1d7",
   "metadata": {},
   "outputs": [
    {
     "name": "stdout",
     "output_type": "stream",
     "text": [
      "1\n",
      "2\n",
      "3\n",
      "4\n"
     ]
    }
   ],
   "source": [
    "for i in range(1,5): \n",
    "    print(i)"
   ]
  },
  {
   "cell_type": "markdown",
   "id": "b55ddf7b-fb83-4024-9d49-8211ba107279",
   "metadata": {},
   "source": [
    "(숙제) "
   ]
  },
  {
   "cell_type": "markdown",
   "id": "e8f0e2c4-046f-485c-89ab-db85747a8943",
   "metadata": {},
   "source": [
    "리스트컴프리헨션을 이용하여 아래와 같은 리스트를 만들어라. "
   ]
  },
  {
   "cell_type": "code",
   "execution_count": 481,
   "id": "6eb3d149-c18b-4958-adc3-234c8c08b149",
   "metadata": {},
   "outputs": [
    {
     "data": {
      "text/plain": [
       "['X1', 'X2X2', 'X3X3X3', 'X4X4X4X4', 'X5X5X5X5X5']"
      ]
     },
     "execution_count": 481,
     "metadata": {},
     "output_type": "execute_result"
    }
   ],
   "source": [
    "['X1','X2X2','X3X3X3','X4X4X4X4','X5X5X5X5X5']"
   ]
  }
 ],
 "metadata": {
  "kernelspec": {
   "display_name": "Python 3 (ipykernel)",
   "language": "python",
   "name": "python3"
  },
  "language_info": {
   "codemirror_mode": {
    "name": "ipython",
    "version": 3
   },
   "file_extension": ".py",
   "mimetype": "text/x-python",
   "name": "python",
   "nbconvert_exporter": "python",
   "pygments_lexer": "ipython3",
   "version": "3.9.10"
  }
 },
 "nbformat": 4,
 "nbformat_minor": 5
}
