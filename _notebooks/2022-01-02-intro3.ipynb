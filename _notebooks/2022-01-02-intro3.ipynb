{
 "cells": [
  {
   "cell_type": "markdown",
   "id": "6b446411-e2ae-4d66-8dc9-1d64c53c7981",
   "metadata": {},
   "source": [
    "# 2022/01/02/SUN"
   ]
  },
  {
   "cell_type": "markdown",
   "id": "incident-advisory",
   "metadata": {},
   "source": [
    "> ### ***`Class 고급`***"
   ]
  },
  {
   "cell_type": "markdown",
   "id": "diverse-prerequisite",
   "metadata": {},
   "source": [
    "`-` 오브젝트\n",
    "- 클래스 오브젝트\n",
    "- 인스턴스 오브젝트 "
   ]
  },
  {
   "cell_type": "markdown",
   "id": "natural-extent",
   "metadata": {},
   "source": [
    "`-` 클래스 (=클래스 오브젝트)"
   ]
  },
  {
   "cell_type": "markdown",
   "id": "metallic-piece",
   "metadata": {},
   "source": [
    "`-` 인스턴스 (=인스턴스 오브젝트)"
   ]
  },
  {
   "cell_type": "markdown",
   "id": "competent-canal",
   "metadata": {},
   "source": [
    "### ***클래스 속성 vs 인스턴스 속성***"
   ]
  },
  {
   "cell_type": "markdown",
   "id": "drawn-recruitment",
   "metadata": {},
   "source": [
    "### 예제1"
   ]
  },
  {
   "cell_type": "code",
   "execution_count": 24,
   "id": "outdoor-corpus",
   "metadata": {},
   "outputs": [],
   "source": [
    "class Testclass1: \n",
    "    x=0 \n",
    "    y=0\n",
    "    def my_print(self):\n",
    "        self.x += 1 \n",
    "        Testclass1.y +=1 \n",
    "        print(\"현재 인스턴스에서 %s 회 출력\" % self.x)\n",
    "        print(\"전체 인스턴스에서 총 %s 회 출력\" % self.y)"
   ]
  },
  {
   "cell_type": "code",
   "execution_count": 5,
   "id": "unknown-nightlife",
   "metadata": {},
   "outputs": [],
   "source": [
    "f=Testclass1"
   ]
  },
  {
   "cell_type": "code",
   "execution_count": 3,
   "id": "oriental-nickname",
   "metadata": {},
   "outputs": [],
   "source": [
    "a=Testclass1()"
   ]
  },
  {
   "cell_type": "code",
   "execution_count": 6,
   "id": "dutch-therapy",
   "metadata": {},
   "outputs": [],
   "source": [
    "b=f()"
   ]
  },
  {
   "cell_type": "code",
   "execution_count": 28,
   "id": "dutch-guyana",
   "metadata": {},
   "outputs": [
    {
     "name": "stdout",
     "output_type": "stream",
     "text": [
      "현재 인스턴스에서 1 회 출력\n",
      "전체 인스턴스에서 총 1 회 출력\n"
     ]
    }
   ],
   "source": [
    "a.my_print()"
   ]
  },
  {
   "cell_type": "code",
   "execution_count": 29,
   "id": "ceramic-origin",
   "metadata": {},
   "outputs": [
    {
     "name": "stdout",
     "output_type": "stream",
     "text": [
      "현재 인스턴스에서 1 회 출력\n",
      "전체 인스턴스에서 총 2 회 출력\n"
     ]
    }
   ],
   "source": [
    "b.my_print()"
   ]
  },
  {
   "cell_type": "code",
   "execution_count": 30,
   "id": "logical-fitting",
   "metadata": {},
   "outputs": [
    {
     "name": "stdout",
     "output_type": "stream",
     "text": [
      "현재 인스턴스에서 2 회 출력\n",
      "전체 인스턴스에서 총 3 회 출력\n"
     ]
    }
   ],
   "source": [
    "b.my_print()"
   ]
  },
  {
   "cell_type": "code",
   "execution_count": 31,
   "id": "quality-george",
   "metadata": {},
   "outputs": [
    {
     "name": "stdout",
     "output_type": "stream",
     "text": [
      "현재 인스턴스에서 2 회 출력\n",
      "전체 인스턴스에서 총 4 회 출력\n"
     ]
    }
   ],
   "source": [
    "a.my_print()"
   ]
  },
  {
   "cell_type": "code",
   "execution_count": 32,
   "id": "needed-director",
   "metadata": {},
   "outputs": [
    {
     "name": "stdout",
     "output_type": "stream",
     "text": [
      "현재 인스턴스에서 3 회 출력\n",
      "전체 인스턴스에서 총 5 회 출력\n"
     ]
    }
   ],
   "source": [
    "a.my_print()"
   ]
  },
  {
   "cell_type": "markdown",
   "id": "specified-ocean",
   "metadata": {},
   "source": [
    "`-` 신기한점: 각 인스턴스에서 instance.my_print()를 실행한 횟수를 서로 공유하는 듯 하다. "
   ]
  },
  {
   "cell_type": "markdown",
   "id": "spiritual-pickup",
   "metadata": {},
   "source": [
    "### ***`분석`***"
   ]
  },
  {
   "cell_type": "markdown",
   "id": "opponent-opinion",
   "metadata": {},
   "source": [
    "`-` 코드를 시점별로 분석해보자. "
   ]
  },
  {
   "cell_type": "markdown",
   "id": "talented-harvey",
   "metadata": {},
   "source": [
    "`-` 분석을 위해서 커널을 재시작한다. "
   ]
  },
  {
   "cell_type": "markdown",
   "id": "sapphire-decrease",
   "metadata": {},
   "source": [
    "#### `[시점1]` : Testclass1를 선언하는 시점"
   ]
  },
  {
   "cell_type": "code",
   "execution_count": 1,
   "id": "better-groove",
   "metadata": {},
   "outputs": [],
   "source": [
    "class Testclass1: \n",
    "    x=0 \n",
    "    y=0\n",
    "    def my_print(self):\n",
    "        self.x += 1 \n",
    "        Testclass1.y +=1 \n",
    "        print(\"현재 인스턴스에서 %s 회 출력\" % self.x)\n",
    "        print(\"전체 인스턴스에서 총 %s 회 출력\" % self.y)"
   ]
  },
  {
   "cell_type": "code",
   "execution_count": 2,
   "id": "informal-cassette",
   "metadata": {},
   "outputs": [
    {
     "data": {
      "text/plain": [
       "['__class__',\n",
       " '__delattr__',\n",
       " '__dict__',\n",
       " '__dir__',\n",
       " '__doc__',\n",
       " '__eq__',\n",
       " '__format__',\n",
       " '__ge__',\n",
       " '__getattribute__',\n",
       " '__gt__',\n",
       " '__hash__',\n",
       " '__init__',\n",
       " '__init_subclass__',\n",
       " '__le__',\n",
       " '__lt__',\n",
       " '__module__',\n",
       " '__ne__',\n",
       " '__new__',\n",
       " '__reduce__',\n",
       " '__reduce_ex__',\n",
       " '__repr__',\n",
       " '__setattr__',\n",
       " '__sizeof__',\n",
       " '__str__',\n",
       " '__subclasshook__',\n",
       " '__weakref__',\n",
       " 'my_print',\n",
       " 'x',\n",
       " 'y']"
      ]
     },
     "execution_count": 2,
     "metadata": {},
     "output_type": "execute_result"
    }
   ],
   "source": [
    "dir(Testclass1)"
   ]
  },
  {
   "cell_type": "code",
   "execution_count": 11,
   "id": "787f5d62-6cfc-4ba4-942d-59ea2420bf2d",
   "metadata": {},
   "outputs": [],
   "source": [
    "# dir(a)\n",
    "# dir(b)\n",
    "# 이 둘은 아직 존재 X"
   ]
  },
  {
   "cell_type": "markdown",
   "id": "mechanical-pressing",
   "metadata": {},
   "source": [
    "`–` 이 시점에는 Testclass1만이 존재한다. Testclass1를 바로 클래스 오브젝트라고 부름. "
   ]
  },
  {
   "cell_type": "code",
   "execution_count": 12,
   "id": "marked-style",
   "metadata": {},
   "outputs": [
    {
     "data": {
      "text/plain": [
       "0"
      ]
     },
     "execution_count": 12,
     "metadata": {},
     "output_type": "execute_result"
    }
   ],
   "source": [
    "Testclass1.x"
   ]
  },
  {
   "cell_type": "code",
   "execution_count": 13,
   "id": "little-memphis",
   "metadata": {},
   "outputs": [
    {
     "data": {
      "text/plain": [
       "0"
      ]
     },
     "execution_count": 13,
     "metadata": {},
     "output_type": "execute_result"
    }
   ],
   "source": [
    "Testclass1.y"
   ]
  },
  {
   "cell_type": "markdown",
   "id": "north-movie",
   "metadata": {},
   "source": [
    "`–` 현재시점에서는 클래스 오브젝트의 수 1개, 인스턴스 오브젝트의 수 0개, 따라서 총 오브젝트 수는 1개임. "
   ]
  },
  {
   "cell_type": "markdown",
   "id": "unexpected-international",
   "metadata": {},
   "source": [
    "#### `[시점2]` 클래스에 별칭을 지정하는 시점 "
   ]
  },
  {
   "cell_type": "code",
   "execution_count": 14,
   "id": "married-criterion",
   "metadata": {},
   "outputs": [],
   "source": [
    "f=Testclass1"
   ]
  },
  {
   "cell_type": "code",
   "execution_count": 15,
   "id": "silver-screw",
   "metadata": {},
   "outputs": [
    {
     "data": {
      "text/plain": [
       "0"
      ]
     },
     "execution_count": 15,
     "metadata": {},
     "output_type": "execute_result"
    }
   ],
   "source": [
    "f.x"
   ]
  },
  {
   "cell_type": "code",
   "execution_count": 16,
   "id": "fatty-opera",
   "metadata": {},
   "outputs": [
    {
     "data": {
      "text/plain": [
       "0"
      ]
     },
     "execution_count": 16,
     "metadata": {},
     "output_type": "execute_result"
    }
   ],
   "source": [
    "f.y"
   ]
  },
  {
   "cell_type": "code",
   "execution_count": 17,
   "id": "colored-outline",
   "metadata": {},
   "outputs": [
    {
     "data": {
      "text/plain": [
       "0"
      ]
     },
     "execution_count": 17,
     "metadata": {},
     "output_type": "execute_result"
    }
   ],
   "source": [
    "Testclass1.x"
   ]
  },
  {
   "cell_type": "code",
   "execution_count": 18,
   "id": "foreign-registrar",
   "metadata": {},
   "outputs": [
    {
     "data": {
      "text/plain": [
       "0"
      ]
     },
     "execution_count": 18,
     "metadata": {},
     "output_type": "execute_result"
    }
   ],
   "source": [
    "Testclass1.y"
   ]
  },
  {
   "cell_type": "markdown",
   "id": "charged-kruger",
   "metadata": {},
   "source": [
    "`–` 이 시점에서 클래스 오브젝트는 2개가 있는 것 처럼 보인다. "
   ]
  },
  {
   "cell_type": "markdown",
   "id": "fossil-soldier",
   "metadata": {},
   "source": [
    "`-` 그렇다면 이 2개의 클래스 오브젝트는 컴퓨터의 어딘가에 저장이 되어 있을 것이다. "
   ]
  },
  {
   "cell_type": "markdown",
   "id": "elect-assembly",
   "metadata": {},
   "source": [
    "`-` 구체적으로는 메모리에 저장되어있을것. "
   ]
  },
  {
   "cell_type": "markdown",
   "id": "british-aircraft",
   "metadata": {},
   "source": [
    "`-` 2개의 클래스오브젝트는 서로 다른 메모리 공간에 저장되어 있을것이다."
   ]
  },
  {
   "cell_type": "markdown",
   "id": "manual-consideration",
   "metadata": {},
   "source": [
    "`-` 진짜인가? 확인해보자. `id()`는 오브젝트(클래스 오브젝트, 인스턴스 오브젝트)가 저장된 메모리 주소를 확인하는 명령어이다. "
   ]
  },
  {
   "cell_type": "code",
   "execution_count": 19,
   "id": "fitting-thirty",
   "metadata": {},
   "outputs": [
    {
     "data": {
      "text/plain": [
       "2274923570048"
      ]
     },
     "execution_count": 19,
     "metadata": {},
     "output_type": "execute_result"
    }
   ],
   "source": [
    "id(f)"
   ]
  },
  {
   "cell_type": "markdown",
   "id": "wound-anime",
   "metadata": {},
   "source": [
    "`–` f라는 오브젝트는 93967322676384 메모리에 저장되어 있다. "
   ]
  },
  {
   "cell_type": "code",
   "execution_count": 20,
   "id": "massive-saying",
   "metadata": {},
   "outputs": [
    {
     "data": {
      "text/plain": [
       "2274923570048"
      ]
     },
     "execution_count": 20,
     "metadata": {},
     "output_type": "execute_result"
    }
   ],
   "source": [
    "id(Testclass1)"
   ]
  },
  {
   "cell_type": "markdown",
   "id": "maritime-bedroom",
   "metadata": {},
   "source": [
    "`-` 어? 그런데 Testclass1의 오브젝트 역시 93967322676384 메모리에 저장되어 있다. "
   ]
  },
  {
   "cell_type": "markdown",
   "id": "active-freeze",
   "metadata": {},
   "source": [
    "`-` 추론: 사실 93967322676384라는 메모리공간에 저장된 어떠한 것은 동일한데, 그것을 어떤사람은 `Testclass1` 이라고 부르고 어떤사람은 `f`라고 부른다. "
   ]
  },
  {
   "cell_type": "markdown",
   "id": "indoor-jacket",
   "metadata": {},
   "source": [
    "`-` 이는 마치 별명이랑 비슷하다. 나라는 오브젝트를 어떤사람은 `최규빈`이라고 부르고, 어떤사람은 `팬더`라고 부른다. 부르는 이름이 2개라고 해서 나라는 오브젝트가 2개가 있는것은 아니다. "
   ]
  },
  {
   "cell_type": "markdown",
   "id": "aggressive-karaoke",
   "metadata": {},
   "source": [
    "`-` 결국 이 시점에서 클래스 오브젝트의 수는 여전히 1개라고 볼 수 있다. (인스턴스 오브젝트의 수는 0개)"
   ]
  },
  {
   "cell_type": "markdown",
   "id": "twenty-vegetable",
   "metadata": {},
   "source": [
    "#### `[시점3]` : 클래스 오브젝트로부터 인스턴스 오브젝트를 만드는 시점"
   ]
  },
  {
   "cell_type": "code",
   "execution_count": 21,
   "id": "excellent-detection",
   "metadata": {},
   "outputs": [],
   "source": [
    "a=Testclass1() # 인스턴스 object 만듦\n",
    "b=f() # 인스턴스 object 만듦"
   ]
  },
  {
   "cell_type": "code",
   "execution_count": 22,
   "id": "flexible-beijing",
   "metadata": {},
   "outputs": [
    {
     "data": {
      "text/plain": [
       "(2274923570048, 2274923570048, 2274938585920, 2274938586544)"
      ]
     },
     "execution_count": 22,
     "metadata": {},
     "output_type": "execute_result"
    }
   ],
   "source": [
    "id(Testclass1),id(f),id(a),id(b)"
   ]
  },
  {
   "cell_type": "markdown",
   "id": "developed-damages",
   "metadata": {},
   "source": [
    "`–` 이 순간에는 클래스 오브젝트 1개, 인스턴스 오브젝트 2개 존재한다. 즉 총 3개의 오브젝트가 존재한다. "
   ]
  },
  {
   "cell_type": "markdown",
   "id": "tracked-stick",
   "metadata": {},
   "source": [
    "`-` 메모리주소 93967322676384 에 존재하는 오브젝트는 클래스 오브젝트이며 Testclass1 또는 f 라고 불린다. "
   ]
  },
  {
   "cell_type": "markdown",
   "id": "light-preference",
   "metadata": {},
   "source": [
    "`-` 메모리주소 139694857660688 에 존재하는 오브젝트는 인스턴스 오브젝트이며 a라고 불린다. "
   ]
  },
  {
   "cell_type": "markdown",
   "id": "every-victoria",
   "metadata": {},
   "source": [
    "`-` 메모리주소 139694848860656 에 존재하는 오브젝트는 인스턴스 오브젝트이며 b라고 불린다. "
   ]
  },
  {
   "cell_type": "markdown",
   "id": "f2307c93-3e69-4703-8146-8dec5570743d",
   "metadata": {},
   "source": [
    "---"
   ]
  },
  {
   "cell_type": "code",
   "execution_count": 25,
   "id": "be5c123c-03f8-4201-b113-7b0f17ae766a",
   "metadata": {},
   "outputs": [
    {
     "data": {
      "text/plain": [
       "(0, 0)"
      ]
     },
     "execution_count": 25,
     "metadata": {},
     "output_type": "execute_result"
    }
   ],
   "source": [
    "Testclass1.x, Testclass1.y"
   ]
  },
  {
   "cell_type": "code",
   "execution_count": 24,
   "id": "foster-pattern",
   "metadata": {},
   "outputs": [
    {
     "data": {
      "text/plain": [
       "(0, 0)"
      ]
     },
     "execution_count": 24,
     "metadata": {},
     "output_type": "execute_result"
    }
   ],
   "source": [
    "f.x,f.y"
   ]
  },
  {
   "cell_type": "markdown",
   "id": "75ed04aa-24ce-44b2-a7b9-c212f052b589",
   "metadata": {},
   "source": [
    "---"
   ]
  },
  {
   "cell_type": "code",
   "execution_count": 26,
   "id": "corresponding-chosen",
   "metadata": {},
   "outputs": [
    {
     "data": {
      "text/plain": [
       "(0, 0)"
      ]
     },
     "execution_count": 26,
     "metadata": {},
     "output_type": "execute_result"
    }
   ],
   "source": [
    "a.x,a.y"
   ]
  },
  {
   "cell_type": "code",
   "execution_count": 27,
   "id": "running-country",
   "metadata": {},
   "outputs": [
    {
     "data": {
      "text/plain": [
       "(0, 0)"
      ]
     },
     "execution_count": 27,
     "metadata": {},
     "output_type": "execute_result"
    }
   ],
   "source": [
    "b.x,b.y"
   ]
  },
  {
   "cell_type": "markdown",
   "id": "closing-accommodation",
   "metadata": {},
   "source": [
    "#### `[시점4]`"
   ]
  },
  {
   "cell_type": "code",
   "execution_count": 28,
   "id": "divine-heading",
   "metadata": {},
   "outputs": [
    {
     "name": "stdout",
     "output_type": "stream",
     "text": [
      "현재 인스턴스에서 1 회 출력\n",
      "전체 인스턴스에서 총 1 회 출력\n"
     ]
    }
   ],
   "source": [
    "a.my_print()"
   ]
  },
  {
   "cell_type": "code",
   "execution_count": 29,
   "id": "saving-birmingham",
   "metadata": {},
   "outputs": [
    {
     "data": {
      "text/plain": [
       "((0, 1), (1, 1), (0, 1))"
      ]
     },
     "execution_count": 29,
     "metadata": {},
     "output_type": "execute_result"
    }
   ],
   "source": [
    "(f.x,f.y),(a.x,a.y),(b.x,b.y)"
   ]
  },
  {
   "cell_type": "markdown",
   "id": "renewable-revelation",
   "metadata": {},
   "source": [
    "`-` 특징 \n",
    " - a.my_print()를 실행하면 a.x 의 값이 1이 증가한다. \n",
    " - a.my_print()를 실행하면 f.y, a.y, b.y 의 값이 동시에 1이 증가한다. (공유가 되는 느낌)"
   ]
  },
  {
   "cell_type": "markdown",
   "id": "encouraging-action",
   "metadata": {},
   "source": [
    "#### `[시점5]`"
   ]
  },
  {
   "cell_type": "code",
   "execution_count": 30,
   "id": "subject-privacy",
   "metadata": {},
   "outputs": [
    {
     "name": "stdout",
     "output_type": "stream",
     "text": [
      "현재 인스턴스에서 1 회 출력\n",
      "전체 인스턴스에서 총 2 회 출력\n"
     ]
    }
   ],
   "source": [
    "b.my_print()"
   ]
  },
  {
   "cell_type": "code",
   "execution_count": 31,
   "id": "exotic-mason",
   "metadata": {},
   "outputs": [
    {
     "data": {
      "text/plain": [
       "((0, 2), (1, 2), (1, 2))"
      ]
     },
     "execution_count": 31,
     "metadata": {},
     "output_type": "execute_result"
    }
   ],
   "source": [
    "(f.x,f.y),(a.x,a.y),(b.x,b.y)"
   ]
  },
  {
   "cell_type": "markdown",
   "id": "independent-diameter",
   "metadata": {},
   "source": [
    "#### `[시점6]`"
   ]
  },
  {
   "cell_type": "code",
   "execution_count": 32,
   "id": "thirty-bristol",
   "metadata": {},
   "outputs": [
    {
     "name": "stdout",
     "output_type": "stream",
     "text": [
      "현재 인스턴스에서 2 회 출력\n",
      "전체 인스턴스에서 총 3 회 출력\n"
     ]
    }
   ],
   "source": [
    "b.my_print()"
   ]
  },
  {
   "cell_type": "code",
   "execution_count": 33,
   "id": "assured-chocolate",
   "metadata": {},
   "outputs": [
    {
     "data": {
      "text/plain": [
       "((0, 3), (1, 3), (2, 3))"
      ]
     },
     "execution_count": 33,
     "metadata": {},
     "output_type": "execute_result"
    }
   ],
   "source": [
    "(f.x,f.y),(a.x,a.y),(b.x,b.y)"
   ]
  },
  {
   "cell_type": "markdown",
   "id": "changing-leadership",
   "metadata": {},
   "source": [
    "#### `[시점7]`"
   ]
  },
  {
   "cell_type": "code",
   "execution_count": 34,
   "id": "terminal-technique",
   "metadata": {},
   "outputs": [
    {
     "name": "stdout",
     "output_type": "stream",
     "text": [
      "현재 인스턴스에서 2 회 출력\n",
      "전체 인스턴스에서 총 4 회 출력\n"
     ]
    }
   ],
   "source": [
    "a.my_print()"
   ]
  },
  {
   "cell_type": "code",
   "execution_count": 35,
   "id": "parallel-christianity",
   "metadata": {},
   "outputs": [
    {
     "data": {
      "text/plain": [
       "((0, 4), (2, 4), (2, 4))"
      ]
     },
     "execution_count": 35,
     "metadata": {},
     "output_type": "execute_result"
    }
   ],
   "source": [
    "(f.x,f.y),(a.x,a.y),(b.x,b.y)"
   ]
  },
  {
   "cell_type": "markdown",
   "id": "restricted-relief",
   "metadata": {},
   "source": [
    "#### `[시점8]`"
   ]
  },
  {
   "cell_type": "code",
   "execution_count": 36,
   "id": "juvenile-sharing",
   "metadata": {},
   "outputs": [
    {
     "name": "stdout",
     "output_type": "stream",
     "text": [
      "현재 인스턴스에서 3 회 출력\n",
      "전체 인스턴스에서 총 5 회 출력\n"
     ]
    }
   ],
   "source": [
    "a.my_print()"
   ]
  },
  {
   "cell_type": "code",
   "execution_count": 37,
   "id": "selective-basement",
   "metadata": {},
   "outputs": [
    {
     "data": {
      "text/plain": [
       "((0, 5), (3, 5), (2, 5))"
      ]
     },
     "execution_count": 37,
     "metadata": {},
     "output_type": "execute_result"
    }
   ],
   "source": [
    "(f.x,f.y),(a.x,a.y),(b.x,b.y)"
   ]
  },
  {
   "cell_type": "markdown",
   "id": "strategic-facility",
   "metadata": {},
   "source": [
    "### 예제2"
   ]
  },
  {
   "cell_type": "markdown",
   "id": "casual-scott",
   "metadata": {},
   "source": [
    "`-` 아래처럼 코드를 바꿔도 잘 동작할것 같다. "
   ]
  },
  {
   "cell_type": "code",
   "execution_count": 46,
   "id": "compressed-discretion",
   "metadata": {},
   "outputs": [],
   "source": [
    "class Testclass2: \n",
    "    def __init__(self): # 클래스가 생성되는 시점에서는 실행되지 않고, 인스턴스가 생성되는 시점에서 실행될 것\n",
    "        self.x=0\n",
    "        self.y=0\n",
    "    def my_print(self):\n",
    "        self.x += 1 \n",
    "        Testclass2.y +=1 \n",
    "        print(\"현재 인스턴스에서 %s 회 출력\" % self.x)\n",
    "        print(\"전체 인스턴스에서 총 %s 회 출력\" % self.y)"
   ]
  },
  {
   "cell_type": "code",
   "execution_count": 40,
   "id": "visible-decimal",
   "metadata": {},
   "outputs": [],
   "source": [
    "c=Testclass2()\n",
    "# 인스턴스 object 생성"
   ]
  },
  {
   "cell_type": "code",
   "execution_count": 42,
   "id": "legendary-employment",
   "metadata": {},
   "outputs": [],
   "source": [
    "# c.my_print()"
   ]
  },
  {
   "cell_type": "markdown",
   "id": "fallen-adoption",
   "metadata": {},
   "source": [
    "`–` 왜 에러가 나는가? "
   ]
  },
  {
   "cell_type": "code",
   "execution_count": 43,
   "id": "floating-malaysia",
   "metadata": {},
   "outputs": [
    {
     "data": {
      "text/plain": [
       "['__class__',\n",
       " '__delattr__',\n",
       " '__dict__',\n",
       " '__dir__',\n",
       " '__doc__',\n",
       " '__eq__',\n",
       " '__format__',\n",
       " '__ge__',\n",
       " '__getattribute__',\n",
       " '__gt__',\n",
       " '__hash__',\n",
       " '__init__',\n",
       " '__init_subclass__',\n",
       " '__le__',\n",
       " '__lt__',\n",
       " '__module__',\n",
       " '__ne__',\n",
       " '__new__',\n",
       " '__reduce__',\n",
       " '__reduce_ex__',\n",
       " '__repr__',\n",
       " '__setattr__',\n",
       " '__sizeof__',\n",
       " '__str__',\n",
       " '__subclasshook__',\n",
       " '__weakref__',\n",
       " 'my_print']"
      ]
     },
     "execution_count": 43,
     "metadata": {},
     "output_type": "execute_result"
    }
   ],
   "source": [
    "dir(Testclass2)"
   ]
  },
  {
   "cell_type": "code",
   "execution_count": 44,
   "id": "funded-checklist",
   "metadata": {},
   "outputs": [
    {
     "data": {
      "text/plain": [
       "['__class__',\n",
       " '__delattr__',\n",
       " '__dict__',\n",
       " '__dir__',\n",
       " '__doc__',\n",
       " '__eq__',\n",
       " '__format__',\n",
       " '__ge__',\n",
       " '__getattribute__',\n",
       " '__gt__',\n",
       " '__hash__',\n",
       " '__init__',\n",
       " '__init_subclass__',\n",
       " '__le__',\n",
       " '__lt__',\n",
       " '__module__',\n",
       " '__ne__',\n",
       " '__new__',\n",
       " '__reduce__',\n",
       " '__reduce_ex__',\n",
       " '__repr__',\n",
       " '__setattr__',\n",
       " '__sizeof__',\n",
       " '__str__',\n",
       " '__subclasshook__',\n",
       " '__weakref__',\n",
       " 'my_print',\n",
       " 'x',\n",
       " 'y']"
      ]
     },
     "execution_count": 44,
     "metadata": {},
     "output_type": "execute_result"
    }
   ],
   "source": [
    "dir(Testclass1)"
   ]
  },
  {
   "cell_type": "markdown",
   "id": "standard-twins",
   "metadata": {},
   "source": [
    "`-` 관찰1: Testclass2에서는 Testclass1과는 다르게 x,y가 없다. "
   ]
  },
  {
   "cell_type": "code",
   "execution_count": 45,
   "id": "dutch-approach",
   "metadata": {},
   "outputs": [
    {
     "data": {
      "text/plain": [
       "['__class__',\n",
       " '__delattr__',\n",
       " '__dict__',\n",
       " '__dir__',\n",
       " '__doc__',\n",
       " '__eq__',\n",
       " '__format__',\n",
       " '__ge__',\n",
       " '__getattribute__',\n",
       " '__gt__',\n",
       " '__hash__',\n",
       " '__init__',\n",
       " '__init_subclass__',\n",
       " '__le__',\n",
       " '__lt__',\n",
       " '__module__',\n",
       " '__ne__',\n",
       " '__new__',\n",
       " '__reduce__',\n",
       " '__reduce_ex__',\n",
       " '__repr__',\n",
       " '__setattr__',\n",
       " '__sizeof__',\n",
       " '__str__',\n",
       " '__subclasshook__',\n",
       " '__weakref__',\n",
       " 'my_print',\n",
       " 'x',\n",
       " 'y']"
      ]
     },
     "execution_count": 45,
     "metadata": {},
     "output_type": "execute_result"
    }
   ],
   "source": [
    "dir(c)"
   ]
  },
  {
   "cell_type": "markdown",
   "id": "correct-saying",
   "metadata": {},
   "source": [
    "`–` 관찰2: 그런데 `c`라는 인스턴스 오브젝트에서는 x,y가 있다. "
   ]
  },
  {
   "cell_type": "markdown",
   "id": "attended-parking",
   "metadata": {},
   "source": [
    "`-` 추론: `__init__`함수는 클래스 오브젝트가 만들어지는 시점에서는 실행되지 않고, 인스텐스 오브젝트가 만들어지는 시점에 실행된다."
   ]
  },
  {
   "cell_type": "markdown",
   "id": "cognitive-withdrawal",
   "metadata": {},
   "source": [
    "`-` 결국 `__init__` 함수의 역할은 클래스 오브젝트에서 인스턴스 오브젝트를 만든후에 초기화를 위해서 실행하는 어떠한 일련의 명령들을 묶어놓은 것에 불과하다. "
   ]
  },
  {
   "cell_type": "markdown",
   "id": "third-reference",
   "metadata": {},
   "source": [
    "`–` 즉 위의 코드는 굳이 따지면 아래를 실행한 것과 동일하다. "
   ]
  },
  {
   "cell_type": "code",
   "execution_count": 47,
   "id": "frequent-brazil",
   "metadata": {},
   "outputs": [],
   "source": [
    "class Testclass2: \n",
    "#     def __init__(self):\n",
    "#         self.x=0\n",
    "#         self.y=0\n",
    "    def my_print(self):\n",
    "        self.x += 1 \n",
    "        Testclass2.y +=1 \n",
    "        print(\"현재 인스턴스에서 %s 회 출력\" % self.x)\n",
    "        print(\"전체 인스턴스에서 총 %s 회 출력\" % self.y)"
   ]
  },
  {
   "cell_type": "code",
   "execution_count": 48,
   "id": "offshore-fighter",
   "metadata": {},
   "outputs": [],
   "source": [
    "c=Testclass2()"
   ]
  },
  {
   "cell_type": "code",
   "execution_count": 49,
   "id": "certified-freight",
   "metadata": {},
   "outputs": [],
   "source": [
    "c.x=0\n",
    "c.y=0"
   ]
  },
  {
   "cell_type": "markdown",
   "id": "humanitarian-optics",
   "metadata": {},
   "source": [
    "`-` 이 상황에서 \n",
    "```python\n",
    "c.my_print()\n",
    "```\n",
    "를 실행하면\n",
    "```python\n",
    "c.x += 1 \n",
    "Testclass2.y +=1 \n",
    "print(\"현재 인스턴스에서 %s 회 출력\" % c.x)\n",
    "print(\"전체 인스턴스에서 총 %s 회 출력\" % c.y)\n",
    "```\n",
    "이 실행되는데, 이때 Testclass2.y 이 정의되어 있지 않으므로 \n",
    "```python\n",
    "Testclass2.y +=1 \n",
    "```\n",
    "에서 에러가 난다. "
   ]
  },
  {
   "cell_type": "markdown",
   "id": "loaded-sydney",
   "metadata": {},
   "source": [
    "### 예제 3"
   ]
  },
  {
   "cell_type": "markdown",
   "id": "through-thanksgiving",
   "metadata": {},
   "source": [
    "`-` 그렇다면 아래와 같이 수정하면 어떨까? "
   ]
  },
  {
   "cell_type": "code",
   "execution_count": 51,
   "id": "sonic-tower",
   "metadata": {},
   "outputs": [],
   "source": [
    "class Testclass3: \n",
    "    def __init__(self):\n",
    "        self.x=0\n",
    "        Testclass3.y=0\n",
    "    def my_print(self):\n",
    "        self.x += 1 \n",
    "        Testclass3.y +=1 \n",
    "        print(\"현재 인스턴스에서 %s 회 출력\" % self.x)\n",
    "        print(\"전체 인스턴스에서 총 %s 회 출력\" % self.y)"
   ]
  },
  {
   "cell_type": "code",
   "execution_count": 52,
   "id": "3fb46ed6-7d17-4506-8af6-bae8c81e33e1",
   "metadata": {},
   "outputs": [],
   "source": [
    "# class Testclass2: \n",
    "#     def __init__(self): # 클래스가 생성되는 시점에서는 실행되지 않고, 인스턴스가 생성되는 시점에서 실행될 것\n",
    "#         self.x=0\n",
    "#         self.y=0\n",
    "#     def my_print(self):\n",
    "#         self.x += 1 \n",
    "#         Testclass2.y +=1 \n",
    "#         print(\"현재 인스턴스에서 %s 회 출력\" % self.x)\n",
    "#         print(\"전체 인스턴스에서 총 %s 회 출력\" % self.y)"
   ]
  },
  {
   "cell_type": "code",
   "execution_count": 53,
   "id": "artificial-greece",
   "metadata": {},
   "outputs": [],
   "source": [
    "a=Testclass3()\n",
    "b=Testclass3()"
   ]
  },
  {
   "cell_type": "code",
   "execution_count": 54,
   "id": "vertical-jacket",
   "metadata": {},
   "outputs": [
    {
     "name": "stdout",
     "output_type": "stream",
     "text": [
      "현재 인스턴스에서 1 회 출력\n",
      "전체 인스턴스에서 총 1 회 출력\n"
     ]
    }
   ],
   "source": [
    "a.my_print()"
   ]
  },
  {
   "cell_type": "code",
   "execution_count": 55,
   "id": "palestinian-clearing",
   "metadata": {},
   "outputs": [
    {
     "name": "stdout",
     "output_type": "stream",
     "text": [
      "현재 인스턴스에서 1 회 출력\n",
      "전체 인스턴스에서 총 2 회 출력\n"
     ]
    }
   ],
   "source": [
    "b.my_print()"
   ]
  },
  {
   "cell_type": "code",
   "execution_count": 56,
   "id": "chronic-frontier",
   "metadata": {},
   "outputs": [
    {
     "name": "stdout",
     "output_type": "stream",
     "text": [
      "현재 인스턴스에서 2 회 출력\n",
      "전체 인스턴스에서 총 3 회 출력\n"
     ]
    }
   ],
   "source": [
    "a.my_print()"
   ]
  },
  {
   "cell_type": "code",
   "execution_count": 57,
   "id": "primary-shelf",
   "metadata": {},
   "outputs": [
    {
     "name": "stdout",
     "output_type": "stream",
     "text": [
      "현재 인스턴스에서 3 회 출력\n",
      "전체 인스턴스에서 총 4 회 출력\n"
     ]
    }
   ],
   "source": [
    "a.my_print()"
   ]
  },
  {
   "cell_type": "code",
   "execution_count": 58,
   "id": "velvet-match",
   "metadata": {},
   "outputs": [
    {
     "name": "stdout",
     "output_type": "stream",
     "text": [
      "현재 인스턴스에서 2 회 출력\n",
      "전체 인스턴스에서 총 5 회 출력\n"
     ]
    }
   ],
   "source": [
    "b.my_print()"
   ]
  },
  {
   "cell_type": "code",
   "execution_count": 59,
   "id": "seeing-humanity",
   "metadata": {},
   "outputs": [
    {
     "name": "stdout",
     "output_type": "stream",
     "text": [
      "현재 인스턴스에서 3 회 출력\n",
      "전체 인스턴스에서 총 6 회 출력\n"
     ]
    }
   ],
   "source": [
    "b.my_print()"
   ]
  },
  {
   "cell_type": "markdown",
   "id": "constitutional-macro",
   "metadata": {},
   "source": [
    "`–` Testclass1과 동일한 기능이 수행되는것 같다. "
   ]
  },
  {
   "cell_type": "markdown",
   "id": "mental-short",
   "metadata": {},
   "source": [
    "`-` 그런데 조금만 생각해보면 엉터리라는 것을 알 수 있다. 아래의 코드를 관찰하여보자. "
   ]
  },
  {
   "cell_type": "code",
   "execution_count": 61,
   "id": "interior-pottery",
   "metadata": {},
   "outputs": [
    {
     "name": "stdout",
     "output_type": "stream",
     "text": [
      "현재 인스턴스에서 1 회 출력\n",
      "전체 인스턴스에서 총 1 회 출력\n",
      "현재 인스턴스에서 2 회 출력\n",
      "전체 인스턴스에서 총 2 회 출력\n",
      "현재 인스턴스에서 1 회 출력\n",
      "전체 인스턴스에서 총 1 회 출력\n"
     ]
    }
   ],
   "source": [
    "class Testclass3: \n",
    "    def __init__(self):\n",
    "        self.x=0\n",
    "        Testclass3.y=0\n",
    "    def my_print(self):\n",
    "        self.x += 1 \n",
    "        Testclass3.y +=1 \n",
    "        print(\"현재 인스턴스에서 %s 회 출력\" % self.x)\n",
    "        print(\"전체 인스턴스에서 총 %s 회 출력\" % self.y)\n",
    "        \n",
    "a=Testclass3()\n",
    "a.my_print()\n",
    "a.my_print()\n",
    "b=Testclass3() # 초기화\n",
    "b.my_print()"
   ]
  },
  {
   "cell_type": "markdown",
   "id": "compliant-education",
   "metadata": {},
   "source": [
    "`-` Testclass3는 인스턴스를 생성할때마다 `y=0`이 설정된다. 그래서 \n",
    "```python\n",
    "b=Testclass3()\n",
    "```\n",
    "이 시점에서 의도하지 않게 '전체 인스턴스에서 출력된 횟수'를 의미하는 `y`가 초기화되었다. "
   ]
  },
  {
   "cell_type": "markdown",
   "id": "therapeutic-christmas",
   "metadata": {},
   "source": [
    "`-` 코드는 엉터리이지만, Testclass3은 의외로 분석할만한 가치가 있다. 특히 위의 실행결과를 시점별로 Testclass1과 비교해보면 재미있다. "
   ]
  },
  {
   "cell_type": "markdown",
   "id": "narrative-engagement",
   "metadata": {},
   "source": [
    "`-` Testclass1"
   ]
  },
  {
   "cell_type": "markdown",
   "id": "enabling-survival",
   "metadata": {},
   "source": [
    "```python\n",
    "### Testclass1 \n",
    "## 시점1: 클래스 오브젝트 생성 \n",
    "class Testclass1: \n",
    "    x=0 \n",
    "    y=0\n",
    "    def my_print(self):\n",
    "        self.x += 1 \n",
    "        Testclass1.y +=1 \n",
    "        print(\"현재 인스턴스에서 %s 회 출력\" % self.x)\n",
    "        print(\"전체 인스턴스에서 총 %s 회 출력\" % self.y)\n",
    "## 시점2: 인스턴스 오브젝트 a를 생성 \n",
    "a=Testclass1()\n",
    "## 시점3: a에서 메소드 실행 \n",
    "a.my_print()\n",
    "## 시점4: a에서 메소드를 한번 더 실행 \n",
    "a.my_print()\n",
    "## 시점5: 인스턴스 오브젝트 b를 생성\n",
    "b=Testclass1()\n",
    "## 시점6: b에서 메소드를 실행\n",
    "b.my_print()\n",
    "```"
   ]
  },
  {
   "cell_type": "markdown",
   "id": "possible-international",
   "metadata": {},
   "source": [
    "```\n",
    "현재 인스턴스에서 1 회 출력\n",
    "전체 인스턴스에서 총 1 회 출력\n",
    "현재 인스턴스에서 2 회 출력\n",
    "전체 인스턴스에서 총 2 회 출력\n",
    "현재 인스턴스에서 1 회 출력\n",
    "전체 인스턴스에서 총 3 회 출력\n",
    "```"
   ]
  },
  {
   "cell_type": "markdown",
   "id": "running-tsunami",
   "metadata": {},
   "source": [
    "| |시점1 |시점2 |시점3 | 시점4 | 시점5| 시점6|\n",
    "|:-:|:-:|:-:|:-:|:-:|:-:|:-:|\n",
    "|Testclass1.x|0| 0| 0| 0| 0| 0|\n",
    "|Testclass1.y|0| 0| 1| 2| 2 | 3|\n",
    "|a.x| 값없음     | 0| 1| 2| 2| 2|\n",
    "|a.y| 값없음     | 0| 1| 2| 2| 3|\n",
    "|b.x| 값없음|     값없음| 값없음| 값없음| 0| 1|\n",
    "|b.y| 값없음|     값없음| 값없음| 값없음| 2| 3|"
   ]
  },
  {
   "cell_type": "markdown",
   "id": "dietary-single",
   "metadata": {},
   "source": [
    "`–` Testclass3"
   ]
  },
  {
   "cell_type": "markdown",
   "id": "humanitarian-pavilion",
   "metadata": {},
   "source": [
    "```python\n",
    "#### Testclass3\n",
    "## 시점1: 클래스 오브젝트 생성 \n",
    "class Testclass3: \n",
    "    def __init__(self):\n",
    "        self.x=0\n",
    "        Testclass3.y=0\n",
    "    def my_print(self):\n",
    "        self.x += 1 \n",
    "        Testclass3.y +=1 \n",
    "        print(\"현재 인스턴스에서 %s 회 출력\" % self.x)\n",
    "        print(\"전체 인스턴스에서 총 %s 회 출력\" % self.y)\n",
    "## 시점2: 인스턴스 오브젝트 a를 생성 \n",
    "a=Testclass3()\n",
    "## 시점3: a에서 메소드 실행 \n",
    "a.my_print()\n",
    "## 시점4: a에서 메소드를 한번 더 실행 \n",
    "a.my_print()\n",
    "## 시점5: 인스턴스 오브젝트 b를 생성\n",
    "b=Testclass3()\n",
    "## 시점6: b에서 메소드를 실행\n",
    "b.my_print()\n",
    "```"
   ]
  },
  {
   "cell_type": "markdown",
   "id": "together-princeton",
   "metadata": {},
   "source": [
    "```\n",
    "현재 인스턴스에서 1 회 출력\n",
    "전체 인스턴스에서 총 1 회 출력\n",
    "현재 인스턴스에서 2 회 출력\n",
    "전체 인스턴스에서 총 2 회 출력\n",
    "현재 인스턴스에서 1 회 출력\n",
    "전체 인스턴스에서 총 1 회 출력\n",
    "```"
   ]
  },
  {
   "cell_type": "markdown",
   "id": "optimum-alloy",
   "metadata": {},
   "source": [
    "| |시점1 |시점2 |시점3 | 시점4 | 시점5| 시점6|\n",
    "|:-:|:-:|:-:|:-:|:-:|:-:|:-:|\n",
    "|Testclass3.x|값없음| 값없음| 값없음| 값없음| 값없음| 값없음|\n",
    "|Testclass3.y|값없음| 0| 1| 2| 0 | 1|\n",
    "|a.x| 값없음     | 0| 1| 2| 2| 2|\n",
    "|a.y| 값없음     | 0| 1| 2| 0| 1|\n",
    "|b.x| 값없음|     값없음| 값없음| 값없음| 0| 1|\n",
    "|b.y| 값없음|     값없음| 값없음| 값없음| 0| 1|"
   ]
  },
  {
   "cell_type": "markdown",
   "id": "extended-pharmacology",
   "metadata": {},
   "source": [
    "`–` Testclass3.y가 업데이트 되면 a.y, b.y도 자동으로 업데이트 된다. "
   ]
  },
  {
   "cell_type": "markdown",
   "id": "planned-substitute",
   "metadata": {},
   "source": [
    "> ### ***`네임스페이스`***"
   ]
  },
  {
   "cell_type": "markdown",
   "id": "vocational-schema",
   "metadata": {},
   "source": [
    "### 예제1"
   ]
  },
  {
   "cell_type": "code",
   "execution_count": 62,
   "id": "molecular-nothing",
   "metadata": {},
   "outputs": [],
   "source": [
    "class Testclass1: \n",
    "    x=0"
   ]
  },
  {
   "cell_type": "code",
   "execution_count": 63,
   "id": "pacific-species",
   "metadata": {},
   "outputs": [
    {
     "data": {
      "text/plain": [
       "0"
      ]
     },
     "execution_count": 63,
     "metadata": {},
     "output_type": "execute_result"
    }
   ],
   "source": [
    "Testclass1.x"
   ]
  },
  {
   "cell_type": "code",
   "execution_count": 64,
   "id": "grave-holocaust",
   "metadata": {},
   "outputs": [],
   "source": [
    "a=Testclass1()\n",
    "# 인스턴스"
   ]
  },
  {
   "cell_type": "code",
   "execution_count": 65,
   "id": "expensive-pioneer",
   "metadata": {},
   "outputs": [
    {
     "data": {
      "text/plain": [
       "0"
      ]
     },
     "execution_count": 65,
     "metadata": {},
     "output_type": "execute_result"
    }
   ],
   "source": [
    "a.x"
   ]
  },
  {
   "cell_type": "markdown",
   "id": "lonely-subject",
   "metadata": {},
   "source": [
    "`–` Testclass1.x를 수정하면 a.x가 강제로 수정된다. "
   ]
  },
  {
   "cell_type": "code",
   "execution_count": 66,
   "id": "comfortable-qualification",
   "metadata": {},
   "outputs": [],
   "source": [
    "Testclass1.x=100"
   ]
  },
  {
   "cell_type": "code",
   "execution_count": 67,
   "id": "indie-bridge",
   "metadata": {},
   "outputs": [
    {
     "data": {
      "text/plain": [
       "100"
      ]
     },
     "execution_count": 67,
     "metadata": {},
     "output_type": "execute_result"
    }
   ],
   "source": [
    "a.x"
   ]
  },
  {
   "cell_type": "markdown",
   "id": "handy-tribute",
   "metadata": {},
   "source": [
    "`-` a.x를 수정한다고 하여 Testclass1.x가 강제로 수정되는 것은 아님"
   ]
  },
  {
   "cell_type": "code",
   "execution_count": 68,
   "id": "unlike-arizona",
   "metadata": {},
   "outputs": [],
   "source": [
    "a.x=200"
   ]
  },
  {
   "cell_type": "code",
   "execution_count": 69,
   "id": "affiliated-comedy",
   "metadata": {},
   "outputs": [
    {
     "data": {
      "text/plain": [
       "100"
      ]
     },
     "execution_count": 69,
     "metadata": {},
     "output_type": "execute_result"
    }
   ],
   "source": [
    "Testclass1.x"
   ]
  },
  {
   "cell_type": "code",
   "execution_count": 70,
   "id": "altered-mapping",
   "metadata": {},
   "outputs": [
    {
     "data": {
      "text/plain": [
       "200"
      ]
     },
     "execution_count": 70,
     "metadata": {},
     "output_type": "execute_result"
    }
   ],
   "source": [
    "a.x"
   ]
  },
  {
   "cell_type": "markdown",
   "id": "acknowledged-assets",
   "metadata": {},
   "source": [
    "`-` 이건 왜이러지?"
   ]
  },
  {
   "cell_type": "code",
   "execution_count": 71,
   "id": "available-chambers",
   "metadata": {},
   "outputs": [],
   "source": [
    "Testclass1.x=300"
   ]
  },
  {
   "cell_type": "code",
   "execution_count": 72,
   "id": "congressional-insured",
   "metadata": {
    "tags": []
   },
   "outputs": [
    {
     "data": {
      "text/plain": [
       "200"
      ]
     },
     "execution_count": 72,
     "metadata": {},
     "output_type": "execute_result"
    }
   ],
   "source": [
    "a.x"
   ]
  },
  {
   "cell_type": "markdown",
   "id": "respected-genetics",
   "metadata": {},
   "source": [
    "`-` 아래의 상황과 비슷하다. "
   ]
  },
  {
   "cell_type": "code",
   "execution_count": 78,
   "id": "improving-lancaster",
   "metadata": {},
   "outputs": [
    {
     "name": "stdout",
     "output_type": "stream",
     "text": [
      "39 40\n"
     ]
    }
   ],
   "source": [
    "## [code1]\n",
    "x=39\n",
    "def nextyear():\n",
    "    y=x+1\n",
    "    print(x,y)\n",
    "nextyear()"
   ]
  },
  {
   "cell_type": "code",
   "execution_count": 79,
   "id": "36acec3c-7f59-459c-8d6a-9339014d0c13",
   "metadata": {},
   "outputs": [
    {
     "data": {
      "text/plain": [
       "39"
      ]
     },
     "execution_count": 79,
     "metadata": {},
     "output_type": "execute_result"
    }
   ],
   "source": [
    "x"
   ]
  },
  {
   "cell_type": "code",
   "execution_count": 75,
   "id": "vital-cleaning",
   "metadata": {},
   "outputs": [],
   "source": [
    "## [code2]\n",
    "# x=39\n",
    "# def nextyear():\n",
    "#     y=x+1\n",
    "#     print(x,y)\n",
    "#     x=0\n",
    "# nextyear()"
   ]
  },
  {
   "cell_type": "markdown",
   "id": "waiting-runner",
   "metadata": {},
   "source": [
    "`-` [code2]와 [code1]의 차이점은 x=0이라는 코드가 추가로 포함되었는지 유무다. "
   ]
  },
  {
   "cell_type": "markdown",
   "id": "adapted-shelter",
   "metadata": {},
   "source": [
    "`-` code1에서는 x는 global variable, code2에서는 x가 local variable 이라서 생기는 문제점이다. "
   ]
  },
  {
   "cell_type": "code",
   "execution_count": 80,
   "id": "domestic-excitement",
   "metadata": {},
   "outputs": [
    {
     "name": "stdout",
     "output_type": "stream",
     "text": [
      "0 1\n"
     ]
    }
   ],
   "source": [
    "## [code2]\n",
    "x=39\n",
    "def nextyear():\n",
    "    x=0\n",
    "    y=x+1\n",
    "    print(x,y)\n",
    "nextyear()"
   ]
  },
  {
   "cell_type": "code",
   "execution_count": 81,
   "id": "confident-globe",
   "metadata": {},
   "outputs": [
    {
     "data": {
      "text/plain": [
       "39"
      ]
     },
     "execution_count": 81,
     "metadata": {},
     "output_type": "execute_result"
    }
   ],
   "source": [
    "x"
   ]
  },
  {
   "cell_type": "markdown",
   "id": "behavioral-discrimination",
   "metadata": {},
   "source": [
    "`–` 다시 우리의 예제로 돌아오자.\n",
    "```python\n",
    "### 시점1\n",
    "class Testclass1: \n",
    "    x=0\n",
    "### 시점2\n",
    "a=Testclass1()\n",
    "### 시점3\n",
    "Testclass1.x=100\n",
    "### 시점4\n",
    "a.x=200  `이 순간 a.x의 속성이 instance로 변함`\n",
    "### 시점5\n",
    "Testclass1.x=300\n",
    "```"
   ]
  },
  {
   "cell_type": "markdown",
   "id": "vulnerable-string",
   "metadata": {},
   "source": [
    "| |시점1 |시점2 |시점3 | 시점4 | 시점5|\n",
    "|:-:|:-:|:-:|:-:|:-:|:-:|\n",
    "|Testclass1.x|0| 0| 100| 100| 300|\n",
    "|a.x| 값없음     | 0| 100| 200| 200|\n",
    "|a.x의 속성| -     | class| class| instance | instance|"
   ]
  },
  {
   "cell_type": "markdown",
   "id": "hourly-despite",
   "metadata": {},
   "source": [
    "`–` a.x가 클래스로부터 물려받은 속성인지 (그래서 클래스와 연결되어있는지) 아니면 instance가 독자적으로 가지고 있는 속성인지 어떻게 알 수 있을까? "
   ]
  },
  {
   "cell_type": "code",
   "execution_count": 82,
   "id": "hidden-conspiracy",
   "metadata": {},
   "outputs": [
    {
     "name": "stdout",
     "output_type": "stream",
     "text": [
      "시점1 0\n",
      "시점2 0 0 {}\n",
      "시점3 100 100 {}\n",
      "시점4 100 200 {'x': 200}\n",
      "시점5 300 200 {'x': 200}\n"
     ]
    }
   ],
   "source": [
    "### 시점1\n",
    "class Testclass1: \n",
    "    x=0\n",
    "print('시점1',Testclass1.x)\n",
    "### 시점2\n",
    "a=Testclass1()\n",
    "print('시점2',Testclass1.x,a.x,a.__dict__)\n",
    "### 시점3\n",
    "Testclass1.x=100\n",
    "print('시점3',Testclass1.x,a.x,a.__dict__)\n",
    "### 시점4\n",
    "a.x=200\n",
    "print('시점4',Testclass1.x,a.x,a.__dict__)\n",
    "# 이젠 독자성을 지님\n",
    "### 시점5\n",
    "Testclass1.x=300\n",
    "print('시점5',Testclass1.x,a.x,a.__dict__)"
   ]
  },
  {
   "cell_type": "markdown",
   "id": "c50c26d6-ab58-4038-b5d8-e9f81e787f4d",
   "metadata": {},
   "source": [
    "참고 :  _dict__ 용도? 클래스 객체의 속성 정보를 확인하기 위해 사용. 객체가 가진 여러가지 속성들을 딕셔너리 형태로 편하게 확인할 수 있다."
   ]
  },
  {
   "cell_type": "markdown",
   "id": "sophisticated-firewall",
   "metadata": {},
   "source": [
    "### 예제2"
   ]
  },
  {
   "cell_type": "code",
   "execution_count": 96,
   "id": "geological-north",
   "metadata": {},
   "outputs": [],
   "source": [
    "x=11 ## 전역변수 ... A\n",
    "\n",
    "def f():\n",
    "    x=22 ## 함수 f안에 설정된 지역변수 \n",
    "    print(x) ## 전역에 x=11 있지만 함수안에 x=22가 있으므로 x=22를 사용. --> 22출력됨 \n",
    "\n",
    "def g():\n",
    "    print(x) ## 함수 g안에 x를 찾아봤는데 없음 --> 전역에서 x를 찾음 --> x=11 --> 11출력함. \n",
    "\n",
    "class Testclass2: \n",
    "    x=33 ## 클래스 변수 ... B\n",
    "    def m1(self):\n",
    "        x=44 ## 메소드 변수 ... C\n",
    "    def m2(self):\n",
    "        self.x=44 ## 인스턴스 변수 ... D "
   ]
  },
  {
   "cell_type": "markdown",
   "id": "roman-commercial",
   "metadata": {},
   "source": [
    "`-` 결과를 관찰하고 해석해보자. "
   ]
  },
  {
   "cell_type": "code",
   "execution_count": 97,
   "id": "peripheral-equity",
   "metadata": {},
   "outputs": [
    {
     "name": "stdout",
     "output_type": "stream",
     "text": [
      "11\n"
     ]
    }
   ],
   "source": [
    "print(x)"
   ]
  },
  {
   "cell_type": "markdown",
   "id": "crazy-director",
   "metadata": {},
   "source": [
    "> Note: 전역변수 출력"
   ]
  },
  {
   "cell_type": "code",
   "execution_count": 98,
   "id": "welsh-lafayette",
   "metadata": {},
   "outputs": [
    {
     "name": "stdout",
     "output_type": "stream",
     "text": [
      "22\n"
     ]
    }
   ],
   "source": [
    "f()"
   ]
  },
  {
   "cell_type": "markdown",
   "id": "adjacent-south",
   "metadata": {},
   "source": [
    "> Note: $f$ 에서 설정된 지역변수 22가 출력됨"
   ]
  },
  {
   "cell_type": "code",
   "execution_count": 99,
   "id": "robust-minister",
   "metadata": {},
   "outputs": [
    {
     "data": {
      "text/plain": [
       "11"
      ]
     },
     "execution_count": 99,
     "metadata": {},
     "output_type": "execute_result"
    }
   ],
   "source": [
    "x"
   ]
  },
  {
   "cell_type": "markdown",
   "id": "diagnostic-emperor",
   "metadata": {},
   "source": [
    "> Note: $f$ 내의 지역변수를 사용하여도 전역변수는 변하지 않음. (함수내부에서 선언된 x=22는 함수외부에 영향을 주지못함)"
   ]
  },
  {
   "cell_type": "code",
   "execution_count": 100,
   "id": "vital-contemporary",
   "metadata": {},
   "outputs": [
    {
     "name": "stdout",
     "output_type": "stream",
     "text": [
      "11\n"
     ]
    }
   ],
   "source": [
    "g()"
   ]
  },
  {
   "cell_type": "markdown",
   "id": "adjustable-cisco",
   "metadata": {},
   "source": [
    "> Note: g에서 설정된 지역변수가 따로 없으므로 전역변수 출력"
   ]
  },
  {
   "cell_type": "code",
   "execution_count": 101,
   "id": "addressed-facility",
   "metadata": {},
   "outputs": [
    {
     "data": {
      "text/plain": [
       "(11, 33)"
      ]
     },
     "execution_count": 101,
     "metadata": {},
     "output_type": "execute_result"
    }
   ],
   "source": [
    "x,Testclass2.x"
   ]
  },
  {
   "cell_type": "markdown",
   "id": "naughty-sympathy",
   "metadata": {},
   "source": [
    "> Note: 전역변수 x와 클래스오브젝트에 설정된 변수 x "
   ]
  },
  {
   "cell_type": "code",
   "execution_count": 102,
   "id": "independent-cargo",
   "metadata": {},
   "outputs": [
    {
     "data": {
      "text/plain": [
       "((11, 33, 33), {})"
      ]
     },
     "execution_count": 102,
     "metadata": {},
     "output_type": "execute_result"
    }
   ],
   "source": [
    "a=Testclass2()\n",
    "(x,Testclass2.x,a.x),a.__dict__"
   ]
  },
  {
   "cell_type": "markdown",
   "id": "united-trade",
   "metadata": {},
   "source": [
    "> Note: 전역변수, 클래스 오브젝트내의 변수, 인스턴스내의 변수(`a.__dict__`의 결과로 보아 인스턴스내의 변수는 클래스 오브젝트내의 변수를 빌려쓰고 있다. ). "
   ]
  },
  {
   "cell_type": "code",
   "execution_count": 103,
   "id": "dress-catch",
   "metadata": {},
   "outputs": [
    {
     "data": {
      "text/plain": [
       "((11, 200, 200), {})"
      ]
     },
     "execution_count": 103,
     "metadata": {},
     "output_type": "execute_result"
    }
   ],
   "source": [
    "Testclass2.x=200\n",
    "(x,Testclass2.x,a.x),a.__dict__"
   ]
  },
  {
   "cell_type": "markdown",
   "id": "pleased-memorial",
   "metadata": {},
   "source": [
    "> Note: 클래스오브젝트에서 변수를 고치면 인스턴스에 영향을 미침, 아직 인스턴스가 독자성을 갖지 않음"
   ]
  },
  {
   "cell_type": "code",
   "execution_count": 104,
   "id": "hazardous-chancellor",
   "metadata": {},
   "outputs": [
    {
     "data": {
      "text/plain": [
       "((11, 200, 200), {})"
      ]
     },
     "execution_count": 104,
     "metadata": {},
     "output_type": "execute_result"
    }
   ],
   "source": [
    "a.m1()\n",
    "(x,Testclass2.x,a.x),a.__dict__"
   ]
  },
  {
   "cell_type": "markdown",
   "id": "unique-modern",
   "metadata": {},
   "source": [
    "> Note: 메소드 `m1`내에서 선언된 x=44라는 선언은 아무것도 변화시킬수 없음. "
   ]
  },
  {
   "cell_type": "code",
   "execution_count": 106,
   "id": "casual-removal",
   "metadata": {},
   "outputs": [
    {
     "data": {
      "text/plain": [
       "((11, 200, 44), {'x': 44})"
      ]
     },
     "execution_count": 106,
     "metadata": {},
     "output_type": "execute_result"
    }
   ],
   "source": [
    "a.m2()\n",
    "(x,Testclass2.x,a.x),a.__dict__ # 독자성을 갖는 것"
   ]
  },
  {
   "cell_type": "markdown",
   "id": "processed-modern",
   "metadata": {},
   "source": [
    "> Note: 메소드 `m2`에 있는 self.x는 결국 a.x라는 의미이고, 이 선언은 클래스오브젝트 내의 변수와 독립적으로 인스턴스오브젝트 내에서 통용되는 변수를 선언하는 것임. 이 선언의 결과는 `a.__dict__`의 출력결과에서도 확인가능."
   ]
  },
  {
   "cell_type": "code",
   "execution_count": 107,
   "id": "meaningful-innocent",
   "metadata": {},
   "outputs": [
    {
     "data": {
      "text/plain": [
       "((11, 300, 44), {'x': 44})"
      ]
     },
     "execution_count": 107,
     "metadata": {},
     "output_type": "execute_result"
    }
   ],
   "source": [
    "Testclass2.x=300\n",
    "(x,Testclass2.x,a.x),a.__dict__"
   ]
  },
  {
   "cell_type": "markdown",
   "id": "continuous-brazil",
   "metadata": {},
   "source": [
    "> Note: 이제는 a.x와 Testclass2.x 는 분리된 상태이므로, Testclass2.x의 값을 바꾸어도 a.x에는 값의 변화가 없음. "
   ]
  },
  {
   "cell_type": "markdown",
   "id": "quiet-singapore",
   "metadata": {},
   "source": [
    "전역변수(A), 클래스 변수(B), 메소드 변수(C), 인스턴스 변수(D)\n",
    "    \n",
    "A>B>D>C"
   ]
  },
  {
   "cell_type": "markdown",
   "id": "interested-refund",
   "metadata": {},
   "source": [
    "> ### ***`연산자 오버로딩`***"
   ]
  },
  {
   "cell_type": "markdown",
   "id": "copyrighted-selection",
   "metadata": {},
   "source": [
    "`-` 아래의 코드를 관찰하자. "
   ]
  },
  {
   "cell_type": "code",
   "execution_count": 108,
   "id": "hispanic-religion",
   "metadata": {},
   "outputs": [
    {
     "data": {
      "text/plain": [
       "2"
      ]
     },
     "execution_count": 108,
     "metadata": {},
     "output_type": "execute_result"
    }
   ],
   "source": [
    "1+1"
   ]
  },
  {
   "cell_type": "markdown",
   "id": "front-november",
   "metadata": {},
   "source": [
    "`-` 생각해보니까 `1`은 int class 에서 생성된 인스턴스이다. \n",
    "\n",
    "`-` 코드를 관찰하니 instance와 instance를 `+`라는 연산이 연결하는 형태임. "
   ]
  },
  {
   "cell_type": "code",
   "execution_count": 120,
   "id": "signal-swaziland",
   "metadata": {},
   "outputs": [],
   "source": [
    "class Student: \n",
    "    def __init__(self,age=20.0,semester=1):\n",
    "        self.age=age\n",
    "        self.semester=semester\n",
    "    def __add__(self,val):\n",
    "        # val==0: 휴학 \n",
    "        # val==1: 등록\n",
    "        if val==0: \n",
    "            self.age=self.age +0.5 \n",
    "        elif val==1: \n",
    "            self.age=self.age+0.5\n",
    "            self.semester=self.semester+1\n",
    "        return self\n",
    "    def __repr__(self):\n",
    "        return '나이: %s \\n학기: %s' % (self.age,self.semester)"
   ]
  },
  {
   "cell_type": "code",
   "execution_count": 121,
   "id": "optional-equity",
   "metadata": {},
   "outputs": [],
   "source": [
    "guebin=Student()"
   ]
  },
  {
   "cell_type": "code",
   "execution_count": 122,
   "id": "productive-thong",
   "metadata": {},
   "outputs": [
    {
     "data": {
      "text/plain": [
       "20.0"
      ]
     },
     "execution_count": 122,
     "metadata": {},
     "output_type": "execute_result"
    }
   ],
   "source": [
    "guebin.age"
   ]
  },
  {
   "cell_type": "code",
   "execution_count": 123,
   "id": "identical-courage",
   "metadata": {},
   "outputs": [
    {
     "data": {
      "text/plain": [
       "1"
      ]
     },
     "execution_count": 123,
     "metadata": {},
     "output_type": "execute_result"
    }
   ],
   "source": [
    "guebin.semester"
   ]
  },
  {
   "cell_type": "code",
   "execution_count": 124,
   "id": "occupied-rabbit",
   "metadata": {},
   "outputs": [
    {
     "data": {
      "text/plain": [
       "나이: 20.0 \n",
       "학기: 1"
      ]
     },
     "execution_count": 124,
     "metadata": {},
     "output_type": "execute_result"
    }
   ],
   "source": [
    "guebin"
   ]
  },
  {
   "cell_type": "code",
   "execution_count": 125,
   "id": "happy-palace",
   "metadata": {},
   "outputs": [
    {
     "data": {
      "text/plain": [
       "나이: 20.5 \n",
       "학기: 2"
      ]
     },
     "execution_count": 125,
     "metadata": {},
     "output_type": "execute_result"
    }
   ],
   "source": [
    "guebin+1"
   ]
  },
  {
   "cell_type": "code",
   "execution_count": 126,
   "id": "neutral-match",
   "metadata": {},
   "outputs": [
    {
     "data": {
      "text/plain": [
       "나이: 21.0 \n",
       "학기: 2"
      ]
     },
     "execution_count": 126,
     "metadata": {},
     "output_type": "execute_result"
    }
   ],
   "source": [
    "guebin+0"
   ]
  },
  {
   "cell_type": "code",
   "execution_count": 127,
   "id": "capital-circumstances",
   "metadata": {},
   "outputs": [
    {
     "data": {
      "text/plain": [
       "나이: 24.5 \n",
       "학기: 4"
      ]
     },
     "execution_count": 127,
     "metadata": {},
     "output_type": "execute_result"
    }
   ],
   "source": [
    "guebin+0+0+0+0+1+0+1"
   ]
  },
  {
   "cell_type": "markdown",
   "id": "dramatic-jewelry",
   "metadata": {},
   "source": [
    "`-` 연산자 오버로드 핵심아이디어 \n",
    "- 클래스가 일반적인 파이썬 연산을 재정의하는 것, 즉 가로채는 것이라고 생각해도 됨  \n",
    "- 여기에서 연산은 단순히 덧셈, 뺄셈을 의미하는게 아니라, `print()`, `+`, `[0]`(인덱싱) 와 같은 파이썬 내장문법을 모두 포괄하는 개념이라 이해하는 것이 옳다."
   ]
  },
  {
   "cell_type": "code",
   "execution_count": 128,
   "id": "efficient-glucose",
   "metadata": {},
   "outputs": [],
   "source": [
    "class Student2(Student):\n",
    "    def __getitem__(self,index):\n",
    "        return [self.age,self.semester][index]"
   ]
  },
  {
   "cell_type": "code",
   "execution_count": 129,
   "id": "occasional-floor",
   "metadata": {},
   "outputs": [],
   "source": [
    "hynn=Student2()"
   ]
  },
  {
   "cell_type": "code",
   "execution_count": 130,
   "id": "deadly-relevance",
   "metadata": {},
   "outputs": [
    {
     "data": {
      "text/plain": [
       "나이: 22.0 \n",
       "학기: 3"
      ]
     },
     "execution_count": 130,
     "metadata": {},
     "output_type": "execute_result"
    }
   ],
   "source": [
    "hynn+1+1+0+0"
   ]
  },
  {
   "cell_type": "code",
   "execution_count": 131,
   "id": "behind-divide",
   "metadata": {},
   "outputs": [
    {
     "data": {
      "text/plain": [
       "22.0"
      ]
     },
     "execution_count": 131,
     "metadata": {},
     "output_type": "execute_result"
    }
   ],
   "source": [
    "hynn[0]"
   ]
  },
  {
   "cell_type": "code",
   "execution_count": 132,
   "id": "dynamic-research",
   "metadata": {},
   "outputs": [
    {
     "data": {
      "text/plain": [
       "3"
      ]
     },
     "execution_count": 132,
     "metadata": {},
     "output_type": "execute_result"
    }
   ],
   "source": [
    "hynn[1]"
   ]
  },
  {
   "cell_type": "code",
   "execution_count": 133,
   "id": "driven-roulette",
   "metadata": {},
   "outputs": [
    {
     "data": {
      "text/plain": [
       "[22.0, 3]"
      ]
     },
     "execution_count": 133,
     "metadata": {},
     "output_type": "execute_result"
    }
   ],
   "source": [
    "hynn[:]"
   ]
  },
  {
   "cell_type": "markdown",
   "id": "historical-tulsa",
   "metadata": {},
   "source": [
    "## 도움말 작성방법 "
   ]
  },
  {
   "cell_type": "markdown",
   "id": "hidden-effort",
   "metadata": {},
   "source": [
    "`-` 넘파이의 경우 아래와 같이 도움말이 잘 작성되어 있다. "
   ]
  },
  {
   "cell_type": "code",
   "execution_count": 138,
   "id": "married-climb",
   "metadata": {},
   "outputs": [],
   "source": [
    "import numpy as np\n",
    "a=np.array([1,2,3])\n",
    "# a?"
   ]
  },
  {
   "cell_type": "markdown",
   "id": "expired-french",
   "metadata": {},
   "source": [
    "`-` 하지만 우리는? "
   ]
  },
  {
   "cell_type": "code",
   "execution_count": 139,
   "id": "dressed-morris",
   "metadata": {},
   "outputs": [
    {
     "data": {
      "text/plain": [
       "\u001b[1;31mType:\u001b[0m        Student2\n",
       "\u001b[1;31mString form:\u001b[0m\n",
       "나이: 22.0 \n",
       "학기: 3\n",
       "\u001b[1;31mDocstring:\u001b[0m   <no docstring>\n"
      ]
     },
     "metadata": {},
     "output_type": "display_data"
    }
   ],
   "source": [
    "hynn?"
   ]
  },
  {
   "cell_type": "markdown",
   "id": "guided-toolbox",
   "metadata": {},
   "source": [
    "`-` 우리도 도움말을 작성하고 싶다. "
   ]
  },
  {
   "cell_type": "code",
   "execution_count": 140,
   "id": "sunrise-cabin",
   "metadata": {},
   "outputs": [],
   "source": [
    "class Student2(Student):\n",
    "    '''\n",
    "    Student2는 Student의 개선 \n",
    "    \n",
    "    # Student 클래스의 기능 \n",
    "    1. 출력기능 (__repr__)\n",
    "    2. 연산기능 (__add__): 학기와 나이를 카운트 \n",
    "    Examples\n",
    "    --------\n",
    "    >>> hynn=Student2()\n",
    "    >>> hynn+1\n",
    "    나이: 20.5 \n",
    "    학기: 2\n",
    "    \n",
    "    # Student2에서 추가된 기능 \n",
    "    1. 인덱싱\n",
    "    '''\n",
    "    def __getitem__(self,index):\n",
    "        return [self.age,self.semester][index]"
   ]
  },
  {
   "cell_type": "code",
   "execution_count": 141,
   "id": "informal-plaza",
   "metadata": {},
   "outputs": [],
   "source": [
    "hynn=Student2()"
   ]
  },
  {
   "cell_type": "code",
   "execution_count": 142,
   "id": "mechanical-toilet",
   "metadata": {},
   "outputs": [
    {
     "data": {
      "text/plain": [
       "\u001b[1;31mType:\u001b[0m        Student2\n",
       "\u001b[1;31mString form:\u001b[0m\n",
       "나이: 20.0 \n",
       "학기: 1\n",
       "\u001b[1;31mDocstring:\u001b[0m  \n",
       "Student2는 Student의 개선 \n",
       "\n",
       "# Student 클래스의 기능 \n",
       "1. 출력기능 (__repr__)\n",
       "2. 연산기능 (__add__): 학기와 나이를 카운트 \n",
       "Examples\n",
       "--------\n",
       ">>> hynn=Student2()\n",
       ">>> hynn+1\n",
       "나이: 20.5 \n",
       "학기: 2\n",
       "\n",
       "# Student2에서 추가된 기능 \n",
       "1. 인덱싱\n"
      ]
     },
     "metadata": {},
     "output_type": "display_data"
    }
   ],
   "source": [
    "hynn?"
   ]
  },
  {
   "cell_type": "code",
   "execution_count": 143,
   "id": "charming-asian",
   "metadata": {},
   "outputs": [],
   "source": [
    "hynn=Student2(21,1)"
   ]
  },
  {
   "cell_type": "code",
   "execution_count": 144,
   "id": "certain-convention",
   "metadata": {},
   "outputs": [
    {
     "data": {
      "text/plain": [
       "나이: 21 \n",
       "학기: 1"
      ]
     },
     "execution_count": 144,
     "metadata": {},
     "output_type": "execute_result"
    }
   ],
   "source": [
    "hynn"
   ]
  },
  {
   "cell_type": "code",
   "execution_count": 145,
   "id": "psychological-message",
   "metadata": {},
   "outputs": [
    {
     "data": {
      "text/plain": [
       "\u001b[1;31mType:\u001b[0m        Student2\n",
       "\u001b[1;31mString form:\u001b[0m\n",
       "나이: 21 \n",
       "학기: 1\n",
       "\u001b[1;31mDocstring:\u001b[0m  \n",
       "Student2는 Student의 개선 \n",
       "\n",
       "# Student 클래스의 기능 \n",
       "1. 출력기능 (__repr__)\n",
       "2. 연산기능 (__add__): 학기와 나이를 카운트 \n",
       "Examples\n",
       "--------\n",
       ">>> hynn=Student2()\n",
       ">>> hynn+1\n",
       "나이: 20.5 \n",
       "학기: 2\n",
       "\n",
       "# Student2에서 추가된 기능 \n",
       "1. 인덱싱\n"
      ]
     },
     "metadata": {},
     "output_type": "display_data"
    }
   ],
   "source": [
    "hynn?"
   ]
  },
  {
   "cell_type": "markdown",
   "id": "duplicate-water",
   "metadata": {},
   "source": [
    "## self에 대한 진실"
   ]
  },
  {
   "cell_type": "markdown",
   "id": "quality-release",
   "metadata": {},
   "source": [
    "`–` 사실 이름이 self가 아니어도 된다. "
   ]
  },
  {
   "cell_type": "markdown",
   "id": "royal-completion",
   "metadata": {},
   "source": [
    "`-`클래스의 첫번째 인자는 굳이 self가 아니라 임의로 a라고 명명해도 됨"
   ]
  },
  {
   "cell_type": "code",
   "execution_count": 147,
   "id": "intended-sight",
   "metadata": {},
   "outputs": [],
   "source": [
    "class MooYaHo: \n",
    "    '''\n",
    "    201821994\n",
    "    '''\n",
    "    def __init__(a):\n",
    "        a.text='mooyaho'"
   ]
  },
  {
   "cell_type": "code",
   "execution_count": 148,
   "id": "adolescent-basics",
   "metadata": {},
   "outputs": [],
   "source": [
    "moo1=MooYaHo()"
   ]
  },
  {
   "cell_type": "code",
   "execution_count": 149,
   "id": "bibliographic-handy",
   "metadata": {},
   "outputs": [
    {
     "data": {
      "text/plain": [
       "\u001b[1;31mType:\u001b[0m        MooYaHo\n",
       "\u001b[1;31mString form:\u001b[0m <__main__.MooYaHo object at 0x00000211AF1B7C10>\n",
       "\u001b[1;31mDocstring:\u001b[0m   201821994\n"
      ]
     },
     "metadata": {},
     "output_type": "display_data"
    }
   ],
   "source": [
    "moo1?"
   ]
  },
  {
   "cell_type": "code",
   "execution_count": 150,
   "id": "raised-means",
   "metadata": {},
   "outputs": [],
   "source": [
    "moo1=MooYaHo()"
   ]
  },
  {
   "cell_type": "code",
   "execution_count": 214,
   "id": "coated-athens",
   "metadata": {},
   "outputs": [
    {
     "data": {
      "text/plain": [
       "'mooyaho'"
      ]
     },
     "execution_count": 214,
     "metadata": {},
     "output_type": "execute_result"
    }
   ],
   "source": [
    "moo1.text"
   ]
  },
  {
   "cell_type": "markdown",
   "id": "committed-blink",
   "metadata": {},
   "source": [
    "`–` 그런데 self를 많이 쓴다. "
   ]
  },
  {
   "cell_type": "markdown",
   "id": "familiar-outside",
   "metadata": {},
   "source": [
    "숙제: MooYaHo class의 도움말에 학번을 넣고 출력 "
   ]
  }
 ],
 "metadata": {
  "kernelspec": {
   "display_name": "Python 3 (ipykernel)",
   "language": "python",
   "name": "python3"
  },
  "language_info": {
   "codemirror_mode": {
    "name": "ipython",
    "version": 3
   },
   "file_extension": ".py",
   "mimetype": "text/x-python",
   "name": "python",
   "nbconvert_exporter": "python",
   "pygments_lexer": "ipython3",
   "version": "3.8.11"
  }
 },
 "nbformat": 4,
 "nbformat_minor": 5
}
