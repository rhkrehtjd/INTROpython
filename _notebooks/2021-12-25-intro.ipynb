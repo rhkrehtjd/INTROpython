{
 "cells": [
  {
   "cell_type": "markdown",
   "id": "3b43eb2b-6be7-47d4-b387-01a511e96210",
   "metadata": {},
   "source": [
    "# 2021-12-25-SAT"
   ]
  },
  {
   "cell_type": "code",
   "execution_count": 2,
   "id": "52896322-8782-4c3b-9f48-a3c6ca15de71",
   "metadata": {},
   "outputs": [],
   "source": [
    "import numpy as np"
   ]
  },
  {
   "cell_type": "code",
   "execution_count": 3,
   "id": "23f09db9-8b63-4556-a2b4-e32613618d29",
   "metadata": {},
   "outputs": [],
   "source": [
    "a=np.array([100.,101.,102.,103.])"
   ]
  },
  {
   "cell_type": "code",
   "execution_count": 5,
   "id": "72e10d0e-cce7-47f3-ba60-a4b7e1da7793",
   "metadata": {},
   "outputs": [
    {
     "data": {
      "text/plain": [
       "(4,)"
      ]
     },
     "execution_count": 5,
     "metadata": {},
     "output_type": "execute_result"
    }
   ],
   "source": [
    "a.shape # 1차원 4개 요소"
   ]
  },
  {
   "cell_type": "code",
   "execution_count": 6,
   "id": "ebd5f071-603e-496a-8096-1ba27879264c",
   "metadata": {},
   "outputs": [
    {
     "data": {
      "text/plain": [
       "1"
      ]
     },
     "execution_count": 6,
     "metadata": {},
     "output_type": "execute_result"
    }
   ],
   "source": [
    "a.ndim"
   ]
  },
  {
   "cell_type": "code",
   "execution_count": 7,
   "id": "6d4391a7-dcbe-44f3-869e-e0093cfeab81",
   "metadata": {},
   "outputs": [
    {
     "data": {
      "text/plain": [
       "100.0"
      ]
     },
     "execution_count": 7,
     "metadata": {},
     "output_type": "execute_result"
    }
   ],
   "source": [
    "a[0]"
   ]
  },
  {
   "cell_type": "code",
   "execution_count": 8,
   "id": "5a7f4cc8-9ecc-488c-9bb3-baa02751e15c",
   "metadata": {},
   "outputs": [
    {
     "data": {
      "text/plain": [
       "101.0"
      ]
     },
     "execution_count": 8,
     "metadata": {},
     "output_type": "execute_result"
    }
   ],
   "source": [
    "a[1]"
   ]
  },
  {
   "cell_type": "code",
   "execution_count": 9,
   "id": "eb78ee9b-2ce8-4235-8500-be0ad00d232a",
   "metadata": {},
   "outputs": [
    {
     "data": {
      "text/plain": [
       "103.0"
      ]
     },
     "execution_count": 9,
     "metadata": {},
     "output_type": "execute_result"
    }
   ],
   "source": [
    "a[-1]"
   ]
  },
  {
   "cell_type": "code",
   "execution_count": 12,
   "id": "e01033bf-591b-4d98-aa7a-ba68497b5cab",
   "metadata": {},
   "outputs": [
    {
     "data": {
      "text/plain": [
       "array([101., 103.])"
      ]
     },
     "execution_count": 12,
     "metadata": {},
     "output_type": "execute_result"
    }
   ],
   "source": [
    "# index를list형식으로\n",
    "a[[1,3]]"
   ]
  },
  {
   "cell_type": "code",
   "execution_count": 13,
   "id": "0916ea7a-fb38-407e-b348-3601a2e7e06d",
   "metadata": {},
   "outputs": [
    {
     "data": {
      "text/plain": [
       "array([101., 102.])"
      ]
     },
     "execution_count": 13,
     "metadata": {},
     "output_type": "execute_result"
    }
   ],
   "source": [
    "# slicing\n",
    "a[-3:-1]"
   ]
  },
  {
   "cell_type": "code",
   "execution_count": 14,
   "id": "61391742-c4ca-46b5-8d70-a5436b65caf8",
   "metadata": {},
   "outputs": [
    {
     "data": {
      "text/plain": [
       "array([101., 102., 103.])"
      ]
     },
     "execution_count": 14,
     "metadata": {},
     "output_type": "execute_result"
    }
   ],
   "source": [
    "a[1:4:1]"
   ]
  },
  {
   "cell_type": "code",
   "execution_count": 15,
   "id": "33ac35b0-f1d8-4930-80c6-530b5d6e287e",
   "metadata": {},
   "outputs": [
    {
     "data": {
      "text/plain": [
       "array([101., 102., 103.])"
      ]
     },
     "execution_count": 15,
     "metadata": {},
     "output_type": "execute_result"
    }
   ],
   "source": [
    "a[1:4]"
   ]
  },
  {
   "cell_type": "code",
   "execution_count": 16,
   "id": "678d8999-5227-4aa6-8df4-6318348f9930",
   "metadata": {},
   "outputs": [
    {
     "data": {
      "text/plain": [
       "array([101., 103.])"
      ]
     },
     "execution_count": 16,
     "metadata": {},
     "output_type": "execute_result"
    }
   ],
   "source": [
    "a[1:4:2]"
   ]
  },
  {
   "cell_type": "code",
   "execution_count": 19,
   "id": "3cda0c63-34db-4a13-952b-eb9b69c233c6",
   "metadata": {},
   "outputs": [
    {
     "data": {
      "text/plain": [
       "array([100., 101., 102., 103.])"
      ]
     },
     "execution_count": 19,
     "metadata": {},
     "output_type": "execute_result"
    }
   ],
   "source": [
    "a[:]"
   ]
  },
  {
   "cell_type": "code",
   "execution_count": 21,
   "id": "d30b0c6b-623e-4d9f-a882-b8a7a5d37e18",
   "metadata": {},
   "outputs": [
    {
     "data": {
      "text/plain": [
       "array([100., 102.])"
      ]
     },
     "execution_count": 21,
     "metadata": {},
     "output_type": "execute_result"
    }
   ],
   "source": [
    "# 모든 값을 불러올 건데 2단위로\n",
    "a[::2]"
   ]
  },
  {
   "cell_type": "code",
   "execution_count": 22,
   "id": "6d99197e-2a30-4c30-bc67-2b049998d082",
   "metadata": {},
   "outputs": [
    {
     "data": {
      "text/plain": [
       "array([103., 101.])"
      ]
     },
     "execution_count": 22,
     "metadata": {},
     "output_type": "execute_result"
    }
   ],
   "source": [
    "a[::-2]"
   ]
  },
  {
   "cell_type": "code",
   "execution_count": 24,
   "id": "6b65da20-ee68-4f14-8e34-37210158040f",
   "metadata": {},
   "outputs": [],
   "source": [
    "a2=np.array([[11,12],[23 ,34]])"
   ]
  },
  {
   "cell_type": "code",
   "execution_count": 25,
   "id": "c0498e55-edc5-4c7d-9ad4-af537c4a0414",
   "metadata": {},
   "outputs": [
    {
     "data": {
      "text/plain": [
       "(2, 2)"
      ]
     },
     "execution_count": 25,
     "metadata": {},
     "output_type": "execute_result"
    }
   ],
   "source": [
    "a2.shape"
   ]
  },
  {
   "cell_type": "code",
   "execution_count": 27,
   "id": "4205929c-4875-4041-befe-b9779947c8e0",
   "metadata": {},
   "outputs": [
    {
     "data": {
      "text/plain": [
       "2"
      ]
     },
     "execution_count": 27,
     "metadata": {},
     "output_type": "execute_result"
    }
   ],
   "source": [
    "a2.ndim"
   ]
  },
  {
   "cell_type": "code",
   "execution_count": 29,
   "id": "2ca1fcb3-7792-4e66-a01f-a4a2c558e44d",
   "metadata": {},
   "outputs": [
    {
     "data": {
      "text/plain": [
       "12"
      ]
     },
     "execution_count": 29,
     "metadata": {},
     "output_type": "execute_result"
    }
   ],
   "source": [
    "a2[0][1] # 겉차원 -> 속차원"
   ]
  },
  {
   "cell_type": "code",
   "execution_count": 30,
   "id": "e810f9a6-1740-4561-aad1-39b5fa0cde18",
   "metadata": {},
   "outputs": [
    {
     "data": {
      "text/plain": [
       "12"
      ]
     },
     "execution_count": 30,
     "metadata": {},
     "output_type": "execute_result"
    }
   ],
   "source": [
    "# 이렇게도 가능\n",
    "a2[0,1]"
   ]
  },
  {
   "cell_type": "code",
   "execution_count": 32,
   "id": "ec384349-3c2a-4615-b7c8-30832a05bdd0",
   "metadata": {},
   "outputs": [
    {
     "data": {
      "text/plain": [
       "array([[11, 12],\n",
       "       [23, 34]])"
      ]
     },
     "execution_count": 32,
     "metadata": {},
     "output_type": "execute_result"
    }
   ],
   "source": [
    "a2[:]"
   ]
  },
  {
   "cell_type": "code",
   "execution_count": 33,
   "id": "d60dcd38-76c9-4318-b6e3-0ebcb36e2a75",
   "metadata": {},
   "outputs": [
    {
     "data": {
      "text/plain": [
       "array([[11, 12],\n",
       "       [23, 34]])"
      ]
     },
     "execution_count": 33,
     "metadata": {},
     "output_type": "execute_result"
    }
   ],
   "source": [
    "a2[:,:]"
   ]
  },
  {
   "cell_type": "code",
   "execution_count": 35,
   "id": "57c918e3-12e3-4315-8191-56f2db3ce12b",
   "metadata": {},
   "outputs": [
    {
     "data": {
      "text/plain": [
       "array([11, 12])"
      ]
     },
     "execution_count": 35,
     "metadata": {},
     "output_type": "execute_result"
    }
   ],
   "source": [
    "a2[0,:]"
   ]
  },
  {
   "cell_type": "code",
   "execution_count": 36,
   "id": "c5335ecb-769f-4ef4-ad1c-39d1bebfd192",
   "metadata": {},
   "outputs": [
    {
     "data": {
      "text/plain": [
       "array([23, 34])"
      ]
     },
     "execution_count": 36,
     "metadata": {},
     "output_type": "execute_result"
    }
   ],
   "source": [
    "a2[1,:]"
   ]
  },
  {
   "cell_type": "code",
   "execution_count": 44,
   "id": "4f3ffe92-04e5-4c8d-a93e-ad97937472ea",
   "metadata": {},
   "outputs": [],
   "source": [
    "b=a2[:,0]"
   ]
  },
  {
   "cell_type": "code",
   "execution_count": 46,
   "id": "6752ff4e-fa58-4a55-82a3-8eed05968a0a",
   "metadata": {},
   "outputs": [
    {
     "data": {
      "text/plain": [
       "array([11, 23])"
      ]
     },
     "execution_count": 46,
     "metadata": {},
     "output_type": "execute_result"
    }
   ],
   "source": [
    "b"
   ]
  },
  {
   "cell_type": "code",
   "execution_count": 47,
   "id": "2b0ccada-2a21-48b8-9e78-ed1c411bd8b4",
   "metadata": {},
   "outputs": [
    {
     "data": {
      "text/plain": [
       "(2,)"
      ]
     },
     "execution_count": 47,
     "metadata": {},
     "output_type": "execute_result"
    }
   ],
   "source": [
    "b.shape"
   ]
  },
  {
   "cell_type": "code",
   "execution_count": 48,
   "id": "d2674910-21b4-447c-8273-a9473b953a33",
   "metadata": {},
   "outputs": [
    {
     "data": {
      "text/plain": [
       "1"
      ]
     },
     "execution_count": 48,
     "metadata": {},
     "output_type": "execute_result"
    }
   ],
   "source": [
    "b.ndim"
   ]
  },
  {
   "cell_type": "code",
   "execution_count": 51,
   "id": "87064e84-55b4-4b2c-aa49-ae854584439a",
   "metadata": {},
   "outputs": [],
   "source": [
    "b_=b[:,np.newaxis]"
   ]
  },
  {
   "cell_type": "code",
   "execution_count": 52,
   "id": "1fa576a1-da22-4ec1-8ed1-1fe428017b9e",
   "metadata": {},
   "outputs": [
    {
     "data": {
      "text/plain": [
       "array([[11],\n",
       "       [23]])"
      ]
     },
     "execution_count": 52,
     "metadata": {},
     "output_type": "execute_result"
    }
   ],
   "source": [
    "b_"
   ]
  },
  {
   "cell_type": "code",
   "execution_count": 53,
   "id": "52b9344f-cff3-4493-9cb7-e6fb91dbfe05",
   "metadata": {},
   "outputs": [
    {
     "data": {
      "text/plain": [
       "(2, 1)"
      ]
     },
     "execution_count": 53,
     "metadata": {},
     "output_type": "execute_result"
    }
   ],
   "source": [
    "b_.shape"
   ]
  },
  {
   "cell_type": "code",
   "execution_count": 55,
   "id": "f7268248-4d44-4fc5-9ced-4a5c9f209cbd",
   "metadata": {},
   "outputs": [
    {
     "data": {
      "text/plain": [
       "1"
      ]
     },
     "execution_count": 55,
     "metadata": {},
     "output_type": "execute_result"
    }
   ],
   "source": [
    "b.ndim"
   ]
  },
  {
   "cell_type": "markdown",
   "id": "77b961b6-95bd-43a4-b157-bcc1768409b4",
   "metadata": {},
   "source": [
    "또는"
   ]
  },
  {
   "cell_type": "code",
   "execution_count": 57,
   "id": "17e35b27-1980-4993-b6ec-528463615e37",
   "metadata": {},
   "outputs": [],
   "source": [
    "b.shape=(1,2)"
   ]
  },
  {
   "cell_type": "code",
   "execution_count": 58,
   "id": "5299c6d6-8425-477c-b9a6-b40b0237c6c5",
   "metadata": {},
   "outputs": [
    {
     "data": {
      "text/plain": [
       "array([[11, 23]])"
      ]
     },
     "execution_count": 58,
     "metadata": {},
     "output_type": "execute_result"
    }
   ],
   "source": [
    "b"
   ]
  },
  {
   "cell_type": "code",
   "execution_count": 61,
   "id": "56baa4bc-59a8-43bf-9c60-67fdb09ad0e7",
   "metadata": {},
   "outputs": [],
   "source": [
    "a3=np.array([[[ 1,2],[3,4 ],[5,6 ],[7,8 ],[9,10]]])"
   ]
  },
  {
   "cell_type": "code",
   "execution_count": 62,
   "id": "48659f6b-380e-4892-a948-1e53845d860c",
   "metadata": {},
   "outputs": [
    {
     "data": {
      "text/plain": [
       "array([[[ 1,  2],\n",
       "        [ 3,  4],\n",
       "        [ 5,  6],\n",
       "        [ 7,  8],\n",
       "        [ 9, 10]]])"
      ]
     },
     "execution_count": 62,
     "metadata": {},
     "output_type": "execute_result"
    }
   ],
   "source": [
    "a3"
   ]
  },
  {
   "cell_type": "code",
   "execution_count": 66,
   "id": "ded8722f-8c85-4f59-9624-6c48a010f73d",
   "metadata": {},
   "outputs": [
    {
     "data": {
      "text/plain": [
       "(1, 5, 2)"
      ]
     },
     "execution_count": 66,
     "metadata": {},
     "output_type": "execute_result"
    }
   ],
   "source": [
    "a3.shape\n",
    "# 큰 덩어리 1개, 작은 덩어리 5개, 그 안에 요소 2개씩"
   ]
  },
  {
   "cell_type": "code",
   "execution_count": 67,
   "id": "46f06092-15a6-450a-82ae-db606308e368",
   "metadata": {},
   "outputs": [
    {
     "data": {
      "text/plain": [
       "3"
      ]
     },
     "execution_count": 67,
     "metadata": {},
     "output_type": "execute_result"
    }
   ],
   "source": [
    "a3.ndim #3차원"
   ]
  },
  {
   "cell_type": "code",
   "execution_count": 68,
   "id": "c119727b-18c3-4781-a6c1-c9e278d42f98",
   "metadata": {},
   "outputs": [
    {
     "data": {
      "text/plain": [
       "4"
      ]
     },
     "execution_count": 68,
     "metadata": {},
     "output_type": "execute_result"
    }
   ],
   "source": [
    "a3[0,1,1]"
   ]
  },
  {
   "cell_type": "code",
   "execution_count": 79,
   "id": "25e2d89b-b00e-458f-a90a-53a9348f8e86",
   "metadata": {},
   "outputs": [],
   "source": [
    "# 당연히 없을 것\n",
    "# 큰 덩어리는 하나임\n",
    "# a3[1]"
   ]
  },
  {
   "cell_type": "code",
   "execution_count": 80,
   "id": "6a8b1b90-1e33-42ca-bf26-70be0848924d",
   "metadata": {},
   "outputs": [],
   "source": [
    "x=np.array([12,34,14])"
   ]
  },
  {
   "cell_type": "code",
   "execution_count": 81,
   "id": "4feab59c-2de4-42fd-aa81-ac7f5b3deb56",
   "metadata": {},
   "outputs": [],
   "source": [
    "idx=np.where(x==34)"
   ]
  },
  {
   "cell_type": "code",
   "execution_count": 82,
   "id": "ff3878fc-e72a-4dc6-bb68-00e2ce0e8f6c",
   "metadata": {},
   "outputs": [
    {
     "data": {
      "text/plain": [
       "(array([1], dtype=int64),)"
      ]
     },
     "execution_count": 82,
     "metadata": {},
     "output_type": "execute_result"
    }
   ],
   "source": [
    "idx # 0번째 아니고 1번째 있다"
   ]
  },
  {
   "cell_type": "code",
   "execution_count": 83,
   "id": "35fa4f3f-6549-4929-84f9-f373a13c821b",
   "metadata": {},
   "outputs": [
    {
     "data": {
      "text/plain": [
       "array([34])"
      ]
     },
     "execution_count": 83,
     "metadata": {},
     "output_type": "execute_result"
    }
   ],
   "source": [
    "x[idx]"
   ]
  },
  {
   "cell_type": "code",
   "execution_count": 84,
   "id": "26f9ac77-ddc3-4a20-8a6c-8fd9c46c1455",
   "metadata": {},
   "outputs": [],
   "source": [
    "idx=(x==14)"
   ]
  },
  {
   "cell_type": "code",
   "execution_count": 85,
   "id": "067b6906-0ae2-4f8c-a019-f92e3385ea6a",
   "metadata": {},
   "outputs": [
    {
     "data": {
      "text/plain": [
       "array([False, False,  True])"
      ]
     },
     "execution_count": 85,
     "metadata": {},
     "output_type": "execute_result"
    }
   ],
   "source": [
    "idx"
   ]
  },
  {
   "cell_type": "code",
   "execution_count": 86,
   "id": "df324d01-db7a-4730-91a1-05af3197483c",
   "metadata": {},
   "outputs": [
    {
     "data": {
      "text/plain": [
       "array([14])"
      ]
     },
     "execution_count": 86,
     "metadata": {},
     "output_type": "execute_result"
    }
   ],
   "source": [
    "x[idx]"
   ]
  },
  {
   "cell_type": "code",
   "execution_count": 88,
   "id": "7860022e-b38c-4efb-8416-4c967ede0e1b",
   "metadata": {},
   "outputs": [
    {
     "data": {
      "text/plain": [
       "array([12])"
      ]
     },
     "execution_count": 88,
     "metadata": {},
     "output_type": "execute_result"
    }
   ],
   "source": [
    "x[np.where(x==12)]"
   ]
  },
  {
   "cell_type": "code",
   "execution_count": 89,
   "id": "eb996c54-cdb4-48df-aabe-5313ef05f925",
   "metadata": {},
   "outputs": [
    {
     "data": {
      "text/plain": [
       "array([34])"
      ]
     },
     "execution_count": 89,
     "metadata": {},
     "output_type": "execute_result"
    }
   ],
   "source": [
    "x[np.nonzero(x==34)]"
   ]
  },
  {
   "cell_type": "markdown",
   "id": "d618687b-a6e0-4407-b366-973b4706a834",
   "metadata": {},
   "source": [
    "> image processing시, 논리연산을 통한 idexing 중요"
   ]
  },
  {
   "cell_type": "markdown",
   "id": "be8187a6-ceb7-4e57-9e7e-36a0adb4b5af",
   "metadata": {},
   "source": [
    "대충 적용해보자"
   ]
  },
  {
   "cell_type": "code",
   "execution_count": 91,
   "id": "a9f5355e-4ae8-4911-b51c-1d89d24647b1",
   "metadata": {},
   "outputs": [],
   "source": [
    "image=np.array([[255,0,255],\n",
    "              [255,0,255],\n",
    "              [255,0,255]])"
   ]
  },
  {
   "cell_type": "code",
   "execution_count": 96,
   "id": "59c8d980-3ab2-402b-b090-b7712e7377be",
   "metadata": {},
   "outputs": [
    {
     "data": {
      "text/plain": [
       "(3, 3)"
      ]
     },
     "execution_count": 96,
     "metadata": {},
     "output_type": "execute_result"
    }
   ],
   "source": [
    "image.shape \n",
    "# 2차원, 큰덩어리 세개, 그 안에 요소 3개"
   ]
  },
  {
   "cell_type": "code",
   "execution_count": 97,
   "id": "00c8c882-1c1a-4202-bfaa-817754f4f2cc",
   "metadata": {},
   "outputs": [],
   "source": [
    "idx=np.where(image==255)"
   ]
  },
  {
   "cell_type": "code",
   "execution_count": 98,
   "id": "bb56e286-3bd3-4b11-a167-40eb681c1f13",
   "metadata": {},
   "outputs": [],
   "source": [
    "image[idx]=0"
   ]
  },
  {
   "cell_type": "code",
   "execution_count": 102,
   "id": "d6fbd507-fb56-4434-bebc-8b355f0c2700",
   "metadata": {},
   "outputs": [
    {
     "data": {
      "text/plain": [
       "array([[0, 0, 0],\n",
       "       [0, 0, 0],\n",
       "       [0, 0, 0]])"
      ]
     },
     "execution_count": 102,
     "metadata": {},
     "output_type": "execute_result"
    }
   ],
   "source": [
    "image"
   ]
  },
  {
   "cell_type": "markdown",
   "id": "7d54c516-e76a-4be9-9ff7-b9bbf0897842",
   "metadata": {},
   "source": [
    "이런식으로 논리연산을 통한 indexing으로 다 검정색을 만들어버림"
   ]
  },
  {
   "cell_type": "markdown",
   "id": "b3e20dc8-4d3f-4c61-bf66-165732b36d56",
   "metadata": {},
   "source": [
    "---"
   ]
  },
  {
   "cell_type": "code",
   "execution_count": 104,
   "id": "b66759ab-653f-471e-956a-e93d145e247e",
   "metadata": {},
   "outputs": [],
   "source": [
    "a=np.array([[10,20],[30,40]])\n",
    "b=np.array([[1,2],[3,4]])"
   ]
  },
  {
   "cell_type": "code",
   "execution_count": 106,
   "id": "5b045f74-b53f-4a11-b60d-7612634850e6",
   "metadata": {},
   "outputs": [
    {
     "data": {
      "text/plain": [
       "array([[ 10,  40],\n",
       "       [ 90, 160]])"
      ]
     },
     "execution_count": 106,
     "metadata": {},
     "output_type": "execute_result"
    }
   ],
   "source": [
    "# 동일한 자리끼리 multiply\n",
    "a * b"
   ]
  },
  {
   "cell_type": "code",
   "execution_count": 113,
   "id": "1e6360ba-924d-401a-b532-6703f14c9049",
   "metadata": {},
   "outputs": [
    {
     "data": {
      "text/plain": [
       "array([[ 70, 100],\n",
       "       [150, 220]])"
      ]
     },
     "execution_count": 113,
     "metadata": {},
     "output_type": "execute_result"
    }
   ],
   "source": [
    "a @ b\n",
    "#행렬 연산"
   ]
  },
  {
   "cell_type": "code",
   "execution_count": 114,
   "id": "09ca4c49-05d6-44bb-a949-f02446dd2a1c",
   "metadata": {},
   "outputs": [
    {
     "data": {
      "text/plain": [
       "array([[ 70, 100],\n",
       "       [150, 220]])"
      ]
     },
     "execution_count": 114,
     "metadata": {},
     "output_type": "execute_result"
    }
   ],
   "source": [
    "a.dot(b)\n",
    "#행렬 연산"
   ]
  },
  {
   "cell_type": "code",
   "execution_count": 115,
   "id": "35b3860a-21ec-4f34-9e8d-0ec373965951",
   "metadata": {},
   "outputs": [],
   "source": [
    "a=np.zeros((3,3))"
   ]
  },
  {
   "cell_type": "code",
   "execution_count": 116,
   "id": "1ba658ba-5fd5-4a87-8608-a1e843acf8a2",
   "metadata": {},
   "outputs": [],
   "source": [
    "b=np.ones((3,3))"
   ]
  },
  {
   "cell_type": "code",
   "execution_count": 120,
   "id": "73848b8e-8aaa-435f-a527-ab7d2275b1ea",
   "metadata": {},
   "outputs": [],
   "source": [
    "# 대각합\n",
    "c=np.trace(a)"
   ]
  },
  {
   "cell_type": "markdown",
   "id": "c7fd0830-5803-4fa3-b5e6-8a0292932d93",
   "metadata": {},
   "source": [
    "> $x@a=y$ 에서 a행렬 구해보기"
   ]
  },
  {
   "cell_type": "code",
   "execution_count": 123,
   "id": "8b1895a3-e5fc-490b-8623-9a811049bb82",
   "metadata": {},
   "outputs": [],
   "source": [
    "x=np.array([[1,-3],[2,4]])\n",
    "y=np.array([[1],[3]])"
   ]
  },
  {
   "cell_type": "code",
   "execution_count": 124,
   "id": "0db0e47c-b2c2-41cd-b690-a8d97b447ba2",
   "metadata": {},
   "outputs": [],
   "source": [
    "x_inverse=np.linalg.inv(x)"
   ]
  },
  {
   "cell_type": "code",
   "execution_count": 125,
   "id": "f3f5a9ba-4343-49d6-8ec0-7893fa52d3e6",
   "metadata": {},
   "outputs": [],
   "source": [
    "a=x_inverse@y"
   ]
  },
  {
   "cell_type": "code",
   "execution_count": 126,
   "id": "d8f9080a-c424-4508-a102-c52138aa303f",
   "metadata": {},
   "outputs": [
    {
     "data": {
      "text/plain": [
       "array([[1.3],\n",
       "       [0.1]])"
      ]
     },
     "execution_count": 126,
     "metadata": {},
     "output_type": "execute_result"
    }
   ],
   "source": [
    "a"
   ]
  },
  {
   "cell_type": "markdown",
   "id": "7a2a7a3c-a071-4293-9f7a-96abed0e15d2",
   "metadata": {},
   "source": [
    "혹은"
   ]
  },
  {
   "cell_type": "code",
   "execution_count": 129,
   "id": "3af37558-523b-4b12-88b8-8392c8b55ff7",
   "metadata": {},
   "outputs": [],
   "source": [
    "a=np.linalg.solve(x,y)"
   ]
  },
  {
   "cell_type": "code",
   "execution_count": 130,
   "id": "a1da52a6-78df-49b0-be85-ad8107793053",
   "metadata": {},
   "outputs": [
    {
     "data": {
      "text/plain": [
       "array([[1.3],\n",
       "       [0.1]])"
      ]
     },
     "execution_count": 130,
     "metadata": {},
     "output_type": "execute_result"
    }
   ],
   "source": [
    "a"
   ]
  },
  {
   "cell_type": "markdown",
   "id": "36f629a4-5e3d-4f1f-a19e-6f5052d65971",
   "metadata": {},
   "source": [
    "이렇게도 해결 가능하다"
   ]
  },
  {
   "cell_type": "markdown",
   "id": "41e00b22-45d7-4b60-8ef9-bfeac61c5062",
   "metadata": {},
   "source": [
    "> 그 외에도 고유벡터, 고유값, 특이값 분해도 np에서 함수사용할 수 있다"
   ]
  },
  {
   "cell_type": "code",
   "execution_count": 135,
   "id": "d32be429-9707-404d-9db2-4b9b01885c38",
   "metadata": {},
   "outputs": [],
   "source": [
    "a=np.zeros((5,5))\n",
    "np.fill_diagonal(a,12)"
   ]
  },
  {
   "cell_type": "code",
   "execution_count": 137,
   "id": "78e13883-a205-4dc6-9332-05d1daa13f7a",
   "metadata": {},
   "outputs": [
    {
     "data": {
      "text/plain": [
       "array([[12.,  0.,  0.,  0.,  0.],\n",
       "       [ 0., 12.,  0.,  0.,  0.],\n",
       "       [ 0.,  0., 12.,  0.,  0.],\n",
       "       [ 0.,  0.,  0., 12.,  0.],\n",
       "       [ 0.,  0.,  0.,  0., 12.]])"
      ]
     },
     "execution_count": 137,
     "metadata": {},
     "output_type": "execute_result"
    }
   ],
   "source": [
    "a#대각원소만 12로 변경"
   ]
  },
  {
   "cell_type": "code",
   "execution_count": 147,
   "id": "9f03b17d-44fc-4652-bbfd-b718fc8f7c56",
   "metadata": {},
   "outputs": [],
   "source": [
    "a=np.array([[1,2,3],[3,4,4],[5,43,6]])"
   ]
  },
  {
   "cell_type": "code",
   "execution_count": 148,
   "id": "96fe9d54-743c-437d-ae9b-ea5e09876417",
   "metadata": {},
   "outputs": [],
   "source": [
    "b=np.array([[1],[2],[3]])"
   ]
  },
  {
   "cell_type": "code",
   "execution_count": 149,
   "id": "36b4a6ad-2bb8-4679-9246-deb30fc18f45",
   "metadata": {},
   "outputs": [],
   "source": [
    "# axis=1 방향으로 3번씩 반복해주자\n",
    "b=b.repeat(3,axis=1)"
   ]
  },
  {
   "cell_type": "code",
   "execution_count": 150,
   "id": "07a38b38-3a36-4e56-bdae-04f18463ba6c",
   "metadata": {},
   "outputs": [
    {
     "data": {
      "text/plain": [
       "array([[1, 1, 1],\n",
       "       [2, 2, 2],\n",
       "       [3, 3, 3]])"
      ]
     },
     "execution_count": 150,
     "metadata": {},
     "output_type": "execute_result"
    }
   ],
   "source": [
    "b"
   ]
  },
  {
   "attachments": {
    "a3cd60f9-dec9-4a1b-8748-5d3583f0e995.png": {
     "image/png": "[encoded data removed]"
    }
   },
   "cell_type": "markdown",
   "id": "59bcaf77-305a-4fd1-9865-17c90f1673a9",
   "metadata": {},
   "source": [
    "![image.png](attachment:a3cd60f9-dec9-4a1b-8748-5d3583f0e995.png)"
   ]
  },
  {
   "cell_type": "markdown",
   "id": "eb530afa-0fa2-4f25-9650-6fe6549c8877",
   "metadata": {},
   "source": [
    "- 이제 원소대 원소 곱해주면 된다"
   ]
  },
  {
   "cell_type": "code",
   "execution_count": 151,
   "id": "e96bdf42-03dc-4711-980c-a0b69f1e1007",
   "metadata": {},
   "outputs": [],
   "source": [
    "c=a*b"
   ]
  },
  {
   "cell_type": "code",
   "execution_count": 152,
   "id": "47be6ff4-9d2a-42ed-be90-2d5e6b9ffe2a",
   "metadata": {},
   "outputs": [
    {
     "data": {
      "text/plain": [
       "array([[  1,   2,   3],\n",
       "       [  6,   8,   8],\n",
       "       [ 15, 129,  18]])"
      ]
     },
     "execution_count": 152,
     "metadata": {},
     "output_type": "execute_result"
    }
   ],
   "source": [
    "c  "
   ]
  },
  {
   "cell_type": "markdown",
   "id": "0fabaee0-5085-4360-b26e-c40fe0e25063",
   "metadata": {},
   "source": [
    "> broadcasting : size알아서 처리해주는 기능"
   ]
  },
  {
   "cell_type": "code",
   "execution_count": 155,
   "id": "b2c36b46-834b-43d6-8465-1a9cd0a66a82",
   "metadata": {},
   "outputs": [
    {
     "data": {
      "text/plain": [
       "array([[ 1,  2,  3],\n",
       "       [ 3,  4,  4],\n",
       "       [ 5, 43,  6]])"
      ]
     },
     "execution_count": 155,
     "metadata": {},
     "output_type": "execute_result"
    }
   ],
   "source": [
    "a"
   ]
  },
  {
   "cell_type": "code",
   "execution_count": 156,
   "id": "94dc57f4-053c-4253-ad70-b110bdb04c15",
   "metadata": {},
   "outputs": [],
   "source": [
    "b=np.array([[1],[2],[3]])"
   ]
  },
  {
   "cell_type": "code",
   "execution_count": 158,
   "id": "81362628-db48-49f0-9538-02eb5e612f7b",
   "metadata": {},
   "outputs": [
    {
     "data": {
      "text/plain": [
       "array([[  1,   2,   3],\n",
       "       [  6,   8,   8],\n",
       "       [ 15, 129,  18]])"
      ]
     },
     "execution_count": 158,
     "metadata": {},
     "output_type": "execute_result"
    }
   ],
   "source": [
    "a*b"
   ]
  },
  {
   "cell_type": "markdown",
   "id": "f600d0d9-da03-4ddc-9aee-00cb432d7170",
   "metadata": {},
   "source": [
    "또는"
   ]
  },
  {
   "cell_type": "code",
   "execution_count": 164,
   "id": "36e36953-d300-42a8-8231-80b52f82ea19",
   "metadata": {},
   "outputs": [],
   "source": [
    "def f(x,y):\n",
    "    return x*y"
   ]
  },
  {
   "cell_type": "code",
   "execution_count": 165,
   "id": "19863bcc-4361-479c-9832-9ab1c626c3e6",
   "metadata": {},
   "outputs": [],
   "source": [
    "# (5,4)=shape\n",
    "b=np.fromfunction(f,(5,4),dtype=int)"
   ]
  },
  {
   "cell_type": "code",
   "execution_count": 166,
   "id": "db3a62fc-89c2-4294-8668-8fdf8bb7998d",
   "metadata": {},
   "outputs": [
    {
     "data": {
      "text/plain": [
       "array([[ 0,  0,  0,  0],\n",
       "       [ 0,  1,  2,  3],\n",
       "       [ 0,  2,  4,  6],\n",
       "       [ 0,  3,  6,  9],\n",
       "       [ 0,  4,  8, 12]])"
      ]
     },
     "execution_count": 166,
     "metadata": {},
     "output_type": "execute_result"
    }
   ],
   "source": [
    "b #이건 그냥 임의의 행렬만 만들어준 것"
   ]
  },
  {
   "cell_type": "markdown",
   "id": "08b0d473-5081-4fe5-8beb-bd91770b920d",
   "metadata": {},
   "source": [
    "---"
   ]
  },
  {
   "cell_type": "code",
   "execution_count": 167,
   "id": "df2ab929-b905-4cdf-8852-e340547d4ddf",
   "metadata": {},
   "outputs": [],
   "source": [
    "a=np.array([10,20,30,40,50])\n",
    "b=np.array([30,50])"
   ]
  },
  {
   "cell_type": "code",
   "execution_count": 169,
   "id": "9d334ef8-ba85-427e-b288-626b55f84871",
   "metadata": {},
   "outputs": [
    {
     "data": {
      "text/plain": [
       "array([10, 20, 40])"
      ]
     },
     "execution_count": 169,
     "metadata": {},
     "output_type": "execute_result"
    }
   ],
   "source": [
    "# 교차하는 거 빼고\n",
    "np.setdiff1d(a,b)"
   ]
  },
  {
   "cell_type": "markdown",
   "id": "e8baca14-1fe9-47f8-8cc8-4c6d5d1ce174",
   "metadata": {},
   "source": [
    "---"
   ]
  },
  {
   "cell_type": "code",
   "execution_count": 188,
   "id": "b10fd2e1-3c7b-4abb-9000-9f700092684e",
   "metadata": {},
   "outputs": [],
   "source": [
    "a=np.random.randint(100)"
   ]
  },
  {
   "cell_type": "code",
   "execution_count": 198,
   "id": "d207b451-ffe8-47bc-b58c-e1dcd3a25fa4",
   "metadata": {},
   "outputs": [
    {
     "data": {
      "text/plain": [
       "2"
      ]
     },
     "execution_count": 198,
     "metadata": {},
     "output_type": "execute_result"
    }
   ],
   "source": [
    "a# 0부터99까지에서 하나 random으로 get"
   ]
  },
  {
   "cell_type": "markdown",
   "id": "19661b48-2beb-4a1a-85b3-b3f7ec159075",
   "metadata": {},
   "source": [
    "----"
   ]
  },
  {
   "cell_type": "code",
   "execution_count": 206,
   "id": "a6fac542-1320-43b0-99ee-45a298c212aa",
   "metadata": {},
   "outputs": [],
   "source": [
    "import matplotlib.pyplot as plt\n",
    "%matplotlib inline"
   ]
  },
  {
   "cell_type": "code",
   "execution_count": 207,
   "id": "5460edc1-5422-4af7-9bce-6eee04090a4a",
   "metadata": {},
   "outputs": [],
   "source": [
    "y=np.array([10,20,30])"
   ]
  },
  {
   "cell_type": "code",
   "execution_count": 213,
   "id": "61bf02ab-ca3b-4591-83d5-b8ab795be7b4",
   "metadata": {},
   "outputs": [
    {
     "data": {
      "text/plain": [
       "[<matplotlib.lines.Line2D at 0x1d56dcc9f40>]"
      ]
     },
     "execution_count": 213,
     "metadata": {},
     "output_type": "execute_result"
    },
    {
     "data": {
      "image/png": "[encoded data removed]",
      "text/plain": [
       "<Figure size 432x288 with 1 Axes>"
      ]
     },
     "metadata": {
      "needs_background": "light"
     },
     "output_type": "display_data"
    }
   ],
   "source": [
    "plt.plot(y)"
   ]
  },
  {
   "cell_type": "code",
   "execution_count": 214,
   "id": "1544a462-8f71-425b-8e5f-44436178dcfe",
   "metadata": {},
   "outputs": [],
   "source": [
    "x=np.array([123,413,555])"
   ]
  },
  {
   "cell_type": "code",
   "execution_count": 222,
   "id": "780a6a72-62c1-401a-a86e-be3cdefe7d05",
   "metadata": {},
   "outputs": [
    {
     "data": {
      "text/plain": [
       "[<matplotlib.lines.Line2D at 0x1d56dfbc370>]"
      ]
     },
     "execution_count": 222,
     "metadata": {},
     "output_type": "execute_result"
    },
    {
     "data": {
      "image/png": "[encoded data removed]",
      "text/plain": [
       "<Figure size 432x288 with 1 Axes>"
      ]
     },
     "metadata": {
      "needs_background": "light"
     },
     "output_type": "display_data"
    }
   ],
   "source": [
    "plt.plot(x,y,'r--.')\n",
    "#data가 들어간 곳에 dot으로 표시"
   ]
  },
  {
   "cell_type": "code",
   "execution_count": 226,
   "id": "44229b3e-e0fa-4621-8ab8-a68c01394876",
   "metadata": {},
   "outputs": [
    {
     "data": {
      "text/plain": [
       "<matplotlib.legend.Legend at 0x1d56f28e1c0>"
      ]
     },
     "execution_count": 226,
     "metadata": {},
     "output_type": "execute_result"
    },
    {
     "data": {
      "image/png": "[encoded data removed]",
      "text/plain": [
       "<Figure size 432x288 with 1 Axes>"
      ]
     },
     "metadata": {
      "needs_background": "light"
     },
     "output_type": "display_data"
    }
   ],
   "source": [
    "plt.plot(x,y,'b-o',label='fuck')\n",
    "plt.ylabel('sd')\n",
    "plt.xlabel('SD')\n",
    "plt.legend()"
   ]
  },
  {
   "cell_type": "code",
   "execution_count": 230,
   "id": "d66b8f02-e22c-4957-b0cf-3a62993c4dd0",
   "metadata": {},
   "outputs": [
    {
     "data": {
      "text/plain": [
       "[<matplotlib.lines.Line2D at 0x1d56f3b10d0>]"
      ]
     },
     "execution_count": 230,
     "metadata": {},
     "output_type": "execute_result"
    },
    {
     "data": {
      "image/png": "[encoded data removed]",
      "text/plain": [
       "<Figure size 432x288 with 1 Axes>"
      ]
     },
     "metadata": {
      "needs_background": "light"
     },
     "output_type": "display_data"
    }
   ],
   "source": [
    "hf=plt.figure() # 도화지\n",
    "ha = hf.add_axes([0,0,1,1])\n",
    "ha.plot(x,y)"
   ]
  },
  {
   "cell_type": "code",
   "execution_count": 244,
   "id": "9a0f1fb1-0810-4347-bcc1-26efe5202069",
   "metadata": {},
   "outputs": [
    {
     "data": {
      "image/png": "[encoded data removed]",
      "text/plain": [
       "<Figure size 432x288 with 1 Axes>"
      ]
     },
     "metadata": {
      "needs_background": "light"
     },
     "output_type": "display_data"
    }
   ],
   "source": [
    "aa,bb=plt.subplots()\n",
    "hong,=bb.plot(x,y)\n",
    "# 이렇게 aa,bb는 임의로 지명 가능"
   ]
  },
  {
   "cell_type": "markdown",
   "id": "11418d83-55dd-4b3a-9d50-d5acd9468d20",
   "metadata": {},
   "source": [
    "> 위에 있는 그래프를 update해보자"
   ]
  },
  {
   "cell_type": "code",
   "execution_count": 253,
   "id": "6b71da20-1e62-4973-bf4f-7eae569685cd",
   "metadata": {},
   "outputs": [
    {
     "data": {
      "image/png": "[encoded data removed]",
      "text/plain": [
       "<Figure size 432x288 with 1 Axes>"
      ]
     },
     "execution_count": 253,
     "metadata": {},
     "output_type": "execute_result"
    }
   ],
   "source": [
    "a_new=np.array([200,331,335])\n",
    "b_new=np.array([10,50,10])\n",
    "hong.set_data(a_new,b_new)\n",
    "aa"
   ]
  },
  {
   "cell_type": "markdown",
   "id": "448948fa-4dbd-4a7c-bafd-2e88b09c58b9",
   "metadata": {},
   "source": [
    "> `그런데 주의해야 할 점에 애초에 aa라는 도화지에 정해진 축이 있기 때문에 그 축에서 너무 멀어지는 값들을 넣어주면 aa라는 도화지에 보이지 않을 수 있음`"
   ]
  },
  {
   "cell_type": "code",
   "execution_count": 257,
   "id": "57b0eb62-21e6-4e1a-bc9d-4dd4b370c967",
   "metadata": {},
   "outputs": [
    {
     "data": {
      "image/png": "[encoded data removed]",
      "text/plain": [
       "<Figure size 432x288 with 1 Axes>"
      ]
     },
     "execution_count": 257,
     "metadata": {},
     "output_type": "execute_result"
    }
   ],
   "source": [
    "PLUS=1.5\n",
    "a_new=np.array([200,331,335])\n",
    "b_new=np.array([10,50,10])\n",
    "hong.set_data(a_new,PLUS*b_new)\n",
    "aa"
   ]
  },
  {
   "cell_type": "markdown",
   "id": "6680d710-43aa-4789-9283-c01bf5d5aa5f",
   "metadata": {},
   "source": [
    "그래프가 올라간 것을 확인할 수 있음"
   ]
  },
  {
   "cell_type": "code",
   "execution_count": 271,
   "id": "1bc49938-8243-49c6-84d8-8c5d297c66dc",
   "metadata": {},
   "outputs": [
    {
     "data": {
      "text/plain": [
       "Text(0.5, 1.0, 'GRAPH')"
      ]
     },
     "execution_count": 271,
     "metadata": {},
     "output_type": "execute_result"
    },
    {
     "data": {
      "image/png": "[encoded data removed]",
      "text/plain": [
       "<Figure size 432x288 with 1 Axes>"
      ]
     },
     "metadata": {
      "needs_background": "light"
     },
     "output_type": "display_data"
    }
   ],
   "source": [
    "a=np.linspace(0,2,100)\n",
    "y1=0.5*a\n",
    "y2=0.5*a**2\n",
    "y3=0.5*a**3\n",
    "plt.plot(a,y1,label='1D')\n",
    "plt.plot(a,y2,label='2D')\n",
    "plt.plot(a,y3,label='3D')\n",
    "plt.legend()\n",
    "plt.xlabel('X')\n",
    "plt.ylabel('Y')\n",
    "plt.title('GRAPH')"
   ]
  },
  {
   "cell_type": "code",
   "execution_count": 274,
   "id": "460e200c-91e5-4028-adc5-84905ff7ef65",
   "metadata": {},
   "outputs": [
    {
     "data": {
      "text/plain": [
       "<matplotlib.legend.Legend at 0x1d570be0d90>"
      ]
     },
     "execution_count": 274,
     "metadata": {},
     "output_type": "execute_result"
    },
    {
     "data": {
      "image/png": "[encoded data removed]",
      "text/plain": [
       "<Figure size 432x288 with 1 Axes>"
      ]
     },
     "metadata": {
      "needs_background": "light"
     },
     "output_type": "display_data"
    }
   ],
   "source": [
    "fig,ax=plt.subplots()\n",
    "ax1,=ax.plot(a,y1) # 여기서 ax1 후에 comma입력해주는 이유가 속성을 나중에 다 받아오기 위해서\n",
    "ax2,=ax.plot(a,y2)\n",
    "ax3,=ax.plot(a,y3)\n",
    "ax.set_xlabel('X') # plt가 아닐 땐 set을 입력해줘야 함\n",
    "ax.set_ylabel('Y')\n",
    "ax1.set_label('1')\n",
    "ax2.set_label('2')\n",
    "ax3.set_label('3')\n",
    "ax.legend()"
   ]
  },
  {
   "cell_type": "code",
   "execution_count": 277,
   "id": "d1c6a14a-3179-44f2-98d1-cceb9d22badd",
   "metadata": {},
   "outputs": [
    {
     "data": {
      "image/png": "[encoded data removed]",
      "text/plain": [
       "<Figure size 432x288 with 1 Axes>"
      ]
     },
     "execution_count": 277,
     "metadata": {},
     "output_type": "execute_result"
    }
   ],
   "source": [
    "ax1.set_color('k')\n",
    "ax2.set_color('b')\n",
    "ax3.set_color('r')\n",
    "ax.grid()\n",
    "ax.legend()\n",
    "fig"
   ]
  },
  {
   "cell_type": "markdown",
   "id": "12b99324-c3ad-4349-9088-8df5fb111fe0",
   "metadata": {},
   "source": [
    "> decay sin "
   ]
  },
  {
   "cell_type": "code",
   "execution_count": 285,
   "id": "4b4d07ee-5f14-470d-9c3c-99af724b4711",
   "metadata": {},
   "outputs": [
    {
     "data": {
      "text/plain": [
       "<matplotlib.legend.Legend at 0x1d571e860d0>"
      ]
     },
     "execution_count": 285,
     "metadata": {},
     "output_type": "execute_result"
    },
    {
     "data": {
      "image/png": "[encoded data removed]",
      "text/plain": [
       "<Figure size 432x288 with 1 Axes>"
      ]
     },
     "metadata": {
      "needs_background": "light"
     },
     "output_type": "display_data"
    }
   ],
   "source": [
    "t=np.linspace(0,100,1000)\n",
    "tau= 60\n",
    "y=np.sin(t)*np.exp(-t/tau)\n",
    "plt.plot(t,y,label='Decay Oscillating Response')\n",
    "plt.ylabel('y[m]')\n",
    "plt.xlabel('t[s]')\n",
    "plt.legend()"
   ]
  },
  {
   "cell_type": "markdown",
   "id": "eef36df2-c67e-4db3-bac9-116fac835e44",
   "metadata": {},
   "source": [
    "t가 커질수록 진폭이 천천히 줄어들게 됨"
   ]
  },
  {
   "cell_type": "markdown",
   "id": "c7042df7-1fd6-4112-bd5a-b172bf539c78",
   "metadata": {},
   "source": [
    "> Euler eq"
   ]
  },
  {
   "cell_type": "code",
   "execution_count": 289,
   "id": "92ac0f2b-54fc-4814-a31d-1dd932eee15f",
   "metadata": {},
   "outputs": [
    {
     "data": {
      "text/plain": [
       "<matplotlib.legend.Legend at 0x1d5720b8640>"
      ]
     },
     "execution_count": 289,
     "metadata": {},
     "output_type": "execute_result"
    },
    {
     "data": {
      "image/png": "[encoded data removed]",
      "text/plain": [
       "<Figure size 432x288 with 1 Axes>"
      ]
     },
     "metadata": {
      "needs_background": "light"
     },
     "output_type": "display_data"
    }
   ],
   "source": [
    "t=np.linspace(0,1,100)\n",
    "f= 1 # 주파수\n",
    "y_euler=np.exp(1j*2*np.pi**f*t)\n",
    "y_cos = np.real(y_euler)\n",
    "y_sin=np.imag(y_euler)\n",
    "fig,ax=plt.subplots()\n",
    "ax.plot(t,y_cos,'-r',label='cos')\n",
    "ax.plot(t,y_sin,'--b',label='sin')\n",
    "ax.grid()\n",
    "ax.legend()"
   ]
  },
  {
   "cell_type": "code",
   "execution_count": 290,
   "id": "f9ebf677-7de1-4615-ae2f-2472137b46f1",
   "metadata": {},
   "outputs": [
    {
     "data": {
      "text/plain": [
       "<matplotlib.legend.Legend at 0x1d572190dc0>"
      ]
     },
     "execution_count": 290,
     "metadata": {},
     "output_type": "execute_result"
    },
    {
     "data": {
      "image/png": "[encoded data removed]",
      "text/plain": [
       "<Figure size 432x288 with 2 Axes>"
      ]
     },
     "metadata": {
      "needs_background": "light"
     },
     "output_type": "display_data"
    }
   ],
   "source": [
    "fig,ax=plt.subplots(2,)\n",
    "ax[0].plot(t,y_cos,'-r',label='cos')\n",
    "ax[1].plot(t,y_sin,'--b',label='sin')\n",
    "ax[0].grid()\n",
    "ax[0].legend()\n",
    "ax[1].grid()\n",
    "ax[1].legend()"
   ]
  },
  {
   "cell_type": "markdown",
   "id": "68b18525-4d37-4eb6-85cf-bf414713118c",
   "metadata": {},
   "source": [
    "> Histogram"
   ]
  },
  {
   "cell_type": "code",
   "execution_count": 302,
   "id": "48240b3b-e24b-49a4-a6f7-21fb3caee00c",
   "metadata": {},
   "outputs": [
    {
     "data": {
      "text/plain": [
       "<matplotlib.legend.Legend at 0x1d572746820>"
      ]
     },
     "execution_count": 302,
     "metadata": {},
     "output_type": "execute_result"
    },
    {
     "data": {
      "image/png": "[encoded data removed]",
      "text/plain": [
       "<Figure size 432x288 with 1 Axes>"
      ]
     },
     "metadata": {
      "needs_background": "light"
     },
     "output_type": "display_data"
    }
   ],
   "source": [
    "data=np.random.randn(500000)\n",
    "plt.hist(data,100,density=True) # 100개의 막대로 나누겠다, 확률밀도함수로 그리겠다\n",
    "x=np.linspace(-4,4,100)\n",
    "sigma=1\n",
    "mean=0\n",
    "nd=(1/(sigma*np.sqrt(2*np.pi)))*np.exp(-0.5*((x-mean)/sigma)**2)\n",
    "plt.plot(x,nd,'r',label='Std Normal Dist')\n",
    "plt.ylabel('PSD')\n",
    "plt.xlabel('X')\n",
    "plt.legend()"
   ]
  },
  {
   "cell_type": "markdown",
   "id": "3814d4a3-30be-45c9-a964-99c13686c418",
   "metadata": {},
   "source": [
    "> 3D plot"
   ]
  },
  {
   "cell_type": "code",
   "execution_count": 308,
   "id": "1297fe2f-a4ae-4751-836b-f41225cc2ba9",
   "metadata": {},
   "outputs": [
    {
     "name": "stderr",
     "output_type": "stream",
     "text": [
      "C:\\Users\\ehfus\\AppData\\Local\\Temp/ipykernel_7852/1177705184.py:6: MatplotlibDeprecationWarning: Calling gca() with keyword arguments was deprecated in Matplotlib 3.4. Starting two minor releases later, gca() will take no keyword arguments. The gca() function should only be used to get the current axes, or if no axes exist, create new axes with default keyword arguments. To create a new axes with non-default arguments, use plt.axes() or plt.subplot().\n",
      "  ax=fig.gca(projection='3d') # Get Current Axis=gca\n"
     ]
    },
    {
     "data": {
      "text/plain": [
       "Text(0.5, 0, 'z')"
      ]
     },
     "execution_count": 308,
     "metadata": {},
     "output_type": "execute_result"
    },
    {
     "data": {
      "image/png": "[encoded data removed]",
      "text/plain": [
       "<Figure size 432x288 with 1 Axes>"
      ]
     },
     "metadata": {
      "needs_background": "light"
     },
     "output_type": "display_data"
    }
   ],
   "source": [
    "x=np.linspace(0,2*np.pi,10)\n",
    "y=np.linspace(0,2*np.pi,10)\n",
    "grid_x,grid_y=np.meshgrid(x,y) # 1차원 array를 통해 2차원 grid를 만들어줌\n",
    "z=np.sin(grid_x)*np.sin(grid_y)\n",
    "fig=plt.figure()\n",
    "ax=fig.gca(projection='3d') # Get Current Axis=gca\n",
    "ax.plot_surface(grid_x,grid_y,z,cmap='jet')\n",
    "ax.set_xlabel('x')\n",
    "ax.set_ylabel('y')\n",
    "ax.set_zlabel('z')"
   ]
  },
  {
   "cell_type": "markdown",
   "id": "f0432857-2025-4d77-96bb-2638c513faf3",
   "metadata": {},
   "source": [
    "> Animation "
   ]
  },
  {
   "cell_type": "code",
   "execution_count": 326,
   "id": "2a46e68b-58a3-462d-b1a2-e6fc8d910f21",
   "metadata": {},
   "outputs": [
    {
     "data": {
      "image/png": "[encoded data removed]",
      "text/plain": [
       "<Figure size 432x288 with 1 Axes>"
      ]
     },
     "metadata": {
      "needs_background": "light"
     },
     "output_type": "display_data"
    }
   ],
   "source": [
    "fig,ax=plt.subplots()\n",
    "x=np.array([1,2,3,4,5])\n",
    "y=np.array([1,1,1,1,1])\n",
    "ax1, = ax.plot(x,y)\n",
    "ax.set_ybound([0,11])\n",
    "for i in range(0,11,1):\n",
    "    ax1.set_ydata(i*y)\n",
    "    plt.pause(0.3)\n",
    "# 원래는 animation기능으로 움직여야 함"
   ]
  }
 ],
 "metadata": {
  "kernelspec": {
   "display_name": "Python 3 (ipykernel)",
   "language": "python",
   "name": "python3"
  },
  "language_info": {
   "codemirror_mode": {
    "name": "ipython",
    "version": 3
   },
   "file_extension": ".py",
   "mimetype": "text/x-python",
   "name": "python",
   "nbconvert_exporter": "python",
   "pygments_lexer": "ipython3",
   "version": "3.8.11"
  }
 },
 "nbformat": 4,
 "nbformat_minor": 5
}
