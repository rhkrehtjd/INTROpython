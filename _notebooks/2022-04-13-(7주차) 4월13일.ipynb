{
 "cells": [
  {
   "cell_type": "markdown",
   "id": "ef00d682-f337-479d-882c-4f4ea0555c33",
   "metadata": {
    "tags": []
   },
   "source": [
    "# (7주차) 4월13일\n",
    "> numpy (rand, randn, randint, choice, 통계분포, np.where/np.argwhere, 인덱싱고급, np.ix_)\n",
    "\n",
    "- toc:true\n",
    "- branch: master\n",
    "- badges: true\n",
    "- comments: true\n",
    "- author: 최규빈"
   ]
  },
  {
   "cell_type": "markdown",
   "id": "fff614b4-0eea-4ee0-8029-c9a2eaba5030",
   "metadata": {},
   "source": [
    "### 강의영상 \n"
   ]
  },
  {
   "cell_type": "markdown",
   "id": "787aba76-c3cd-4b26-8877-8ea72a262619",
   "metadata": {},
   "source": [
    "> youtube: https://youtube.com/playlist?list=PLQqh36zP38-yPErl_8ayWONJ_f-XH6MuR"
   ]
  },
  {
   "cell_type": "markdown",
   "id": "cd29f16b-ef30-4d94-a58f-b88141212af4",
   "metadata": {},
   "source": [
    "`-` (1/3) rand, randn\n",
    "\n",
    "`-` (2/3) randint \n",
    "\n",
    "`-` (3/3) choice, 통계분포, np.where/np.argwhere, 인덱싱고급, np.ix_ "
   ]
  },
  {
   "cell_type": "markdown",
   "id": "2556b462-0a41-4b22-8b19-8b4a0e19afac",
   "metadata": {},
   "source": [
    "### import "
   ]
  },
  {
   "cell_type": "code",
   "execution_count": 3,
   "id": "70cc611b-be15-4631-b055-3162f7dde99f",
   "metadata": {},
   "outputs": [],
   "source": [
    "import numpy as np"
   ]
  },
  {
   "cell_type": "markdown",
   "id": "af5675ba-59d2-4939-8062-5964c883b735",
   "metadata": {},
   "source": [
    "### numpy공부 5단계: 랜덤모듈 "
   ]
  },
  {
   "cell_type": "markdown",
   "id": "842ad62d-a380-436a-af86-4f4bb11776af",
   "metadata": {},
   "source": [
    "#### np.random.rand()"
   ]
  },
  {
   "cell_type": "markdown",
   "id": "8f0b6bac-fb76-48d7-aaeb-e718b62842ee",
   "metadata": {},
   "source": [
    "`-` 0~1사이에서 10개의 난수 생성 "
   ]
  },
  {
   "cell_type": "code",
   "execution_count": 5,
   "id": "e8199018-8966-446c-a33f-6e424124ae74",
   "metadata": {},
   "outputs": [
    {
     "data": {
      "text/plain": [
       "array([0.9762396 , 0.62290682, 0.65602078, 0.22890413, 0.01139937,\n",
       "       0.71156552, 0.22585515, 0.98642156, 0.20169783, 0.52544263])"
      ]
     },
     "execution_count": 5,
     "metadata": {},
     "output_type": "execute_result"
    }
   ],
   "source": [
    "np.random.rand(10)"
   ]
  },
  {
   "cell_type": "markdown",
   "id": "f2e23611-dd2f-4706-9c90-7c2542fda478",
   "metadata": {},
   "source": [
    "`-` 0~2사이에서 10개의 난수 생성 "
   ]
  },
  {
   "cell_type": "code",
   "execution_count": 6,
   "id": "0bfed0b9-041f-461b-ab21-e674d5e761c7",
   "metadata": {},
   "outputs": [
    {
     "data": {
      "text/plain": [
       "array([0.19486166, 1.31320638, 1.75920753, 0.03976132, 0.65443053,\n",
       "       0.98238346, 0.81586536, 1.26374209, 0.05189084, 1.53713552])"
      ]
     },
     "execution_count": 6,
     "metadata": {},
     "output_type": "execute_result"
    }
   ],
   "source": [
    "np.random.rand(10)*2 "
   ]
  },
  {
   "cell_type": "markdown",
   "id": "485cac81-1c10-4765-af05-d9c00ba42c7d",
   "metadata": {},
   "source": [
    "`-` 1~2사이에서 10개의 난수 생성 "
   ]
  },
  {
   "cell_type": "code",
   "execution_count": 7,
   "id": "8e2aa612-ddd1-4f2c-aff2-b334ab39e2e7",
   "metadata": {},
   "outputs": [
    {
     "data": {
      "text/plain": [
       "array([1.14697821, 1.52687013, 1.10827739, 1.87820387, 1.81630002,\n",
       "       1.93842216, 1.30725718, 1.21386634, 1.9331912 , 1.29694134])"
      ]
     },
     "execution_count": 7,
     "metadata": {},
     "output_type": "execute_result"
    }
   ],
   "source": [
    "np.random.rand(10)+1"
   ]
  },
  {
   "cell_type": "markdown",
   "id": "d6168da0-2b1a-4a72-8067-f49a59580763",
   "metadata": {},
   "source": [
    "`-` 1~3사이에서 10개의 난수 생성 "
   ]
  },
  {
   "cell_type": "code",
   "execution_count": 8,
   "id": "18bcee9c-8908-4538-b537-11ed2aafc415",
   "metadata": {},
   "outputs": [
    {
     "data": {
      "text/plain": [
       "array([2.10122574, 2.67412063, 2.70573365, 1.49312813, 2.72674064,\n",
       "       2.20040351, 2.26697979, 1.07834112, 2.6602285 , 1.60157633])"
      ]
     },
     "execution_count": 8,
     "metadata": {},
     "output_type": "execute_result"
    }
   ],
   "source": [
    "np.random.rand(10)*2+1 # 1~3"
   ]
  },
  {
   "cell_type": "markdown",
   "id": "950a9b4e-6d18-4b39-8a47-c31ddc41c7c9",
   "metadata": {},
   "source": [
    "#### np.random.randn()"
   ]
  },
  {
   "cell_type": "markdown",
   "id": "0dd13a27-9baa-4e1d-af76-c7aa389c6152",
   "metadata": {},
   "source": [
    "`-` N(0,1)에서 10개 추출 "
   ]
  },
  {
   "cell_type": "code",
   "execution_count": 10,
   "id": "fc32496b-6889-4994-81bb-1450b8266a9e",
   "metadata": {},
   "outputs": [
    {
     "data": {
      "text/plain": [
       "array([-0.40371384,  0.56295305, -1.03454983, -0.67628805, -0.89951532,\n",
       "       -0.1925445 ,  1.43684725,  0.34022492,  0.96763699, -2.0699127 ])"
      ]
     },
     "execution_count": 10,
     "metadata": {},
     "output_type": "execute_result"
    }
   ],
   "source": [
    "np.random.randn(10) # 표준정규분포에서 10개의 샘플 추출 "
   ]
  },
  {
   "cell_type": "markdown",
   "id": "a212116e-30df-4f55-bc3c-8a7fdedf6763",
   "metadata": {},
   "source": [
    "`-` N(1,1)에서 10개 추출 "
   ]
  },
  {
   "cell_type": "code",
   "execution_count": 11,
   "id": "4681c691-9ebc-4042-8e53-14b1805d75c0",
   "metadata": {},
   "outputs": [
    {
     "data": {
      "text/plain": [
       "array([ 0.69440765, -0.58892798,  1.86823224,  1.50473088,  1.56127732,\n",
       "        1.53295801, -0.44982257,  0.41660235,  0.50013233,  3.07135415])"
      ]
     },
     "execution_count": 11,
     "metadata": {},
     "output_type": "execute_result"
    }
   ],
   "source": [
    "np.random.randn(10)+1 "
   ]
  },
  {
   "cell_type": "markdown",
   "id": "d3db59ea-76d9-498f-92f3-07867595eb4c",
   "metadata": {},
   "source": [
    "`-` N(0,4)에서 10개 추출 (평균이 0이고 분산이 4인 분포)"
   ]
  },
  {
   "cell_type": "code",
   "execution_count": 12,
   "id": "0a98e957-ebb4-41e2-8aa6-b4b23da20a3c",
   "metadata": {},
   "outputs": [
    {
     "data": {
      "text/plain": [
       "array([ 0.48765347, -2.686622  ,  6.03529241,  0.52181081,  5.31070099,\n",
       "       -1.02246697, -0.3058778 ,  0.16147941, -2.11923353, -2.55772141])"
      ]
     },
     "execution_count": 12,
     "metadata": {},
     "output_type": "execute_result"
    }
   ],
   "source": [
    "np.random.randn(10)*2"
   ]
  },
  {
   "cell_type": "markdown",
   "id": "9b742570-d97a-4f9e-832a-3d8c02045dbd",
   "metadata": {},
   "source": [
    "`-` N(3,4)에서 10개 추출 "
   ]
  },
  {
   "cell_type": "code",
   "execution_count": 14,
   "id": "21e612f9-9f29-4eb3-9d05-ab0e83d3aca5",
   "metadata": {},
   "outputs": [
    {
     "data": {
      "text/plain": [
       "array([6.20706555, 3.95308508, 7.02954382, 2.57838168, 3.40580485,\n",
       "       4.37254926, 3.94572032, 2.32058837, 3.74756129, 4.81608642])"
      ]
     },
     "execution_count": 14,
     "metadata": {},
     "output_type": "execute_result"
    }
   ],
   "source": [
    "np.random.randn(10)*2+3 "
   ]
  },
  {
   "cell_type": "markdown",
   "id": "67eb0153-671d-4a4f-a0e5-5675c2ddf119",
   "metadata": {},
   "source": [
    "#### np.random.randint() "
   ]
  },
  {
   "cell_type": "markdown",
   "id": "7e30ecfb-3632-4200-8164-4e4fff8863aa",
   "metadata": {},
   "source": [
    "`-` [0,7)의 범위에서 하나의 정수를 랜덤으로 생성 "
   ]
  },
  {
   "cell_type": "code",
   "execution_count": 32,
   "id": "7de4247d-6543-4d42-860f-c2c3d94402d1",
   "metadata": {},
   "outputs": [
    {
     "data": {
      "text/plain": [
       "2"
      ]
     },
     "execution_count": 32,
     "metadata": {},
     "output_type": "execute_result"
    }
   ],
   "source": [
    "np.random.randint(7) # [0,7)의 범위에서 하나의 정수 생성 "
   ]
  },
  {
   "cell_type": "markdown",
   "id": "f8b12bdc-f880-4daf-9f6b-dd49656566b8",
   "metadata": {},
   "source": [
    "`-` [0,7)의 범위에서 20개의 정수를 랜덤으로 생성 "
   ]
  },
  {
   "cell_type": "code",
   "execution_count": 34,
   "id": "fbb91152-abb1-4eb3-9cf5-c637410694d3",
   "metadata": {},
   "outputs": [
    {
     "data": {
      "text/plain": [
       "array([5, 6, 6, 0, 6, 6, 2, 0, 3, 6, 2, 3, 2, 2, 6, 6, 5, 2, 3, 2])"
      ]
     },
     "execution_count": 34,
     "metadata": {},
     "output_type": "execute_result"
    }
   ],
   "source": [
    "np.random.randint(7,size=(20,)) # [0,7)의 범위에서 20개의 정수 생성 "
   ]
  },
  {
   "cell_type": "markdown",
   "id": "3212092f-8316-4734-ac26-3e6bcc2c4b57",
   "metadata": {},
   "source": [
    "`-` [0,7)의 범위에서 (2,2) shape 으로 정수를 랜덤으로 생성"
   ]
  },
  {
   "cell_type": "code",
   "execution_count": 53,
   "id": "378c7c89-13fd-4a1c-9ecd-cfae3f7288cf",
   "metadata": {},
   "outputs": [
    {
     "data": {
      "text/plain": [
       "array([[6, 4],\n",
       "       [3, 1]])"
      ]
     },
     "execution_count": 53,
     "metadata": {},
     "output_type": "execute_result"
    }
   ],
   "source": [
    "np.random.randint(7,size=(2,2)) # [0,7)의 범위에서 (2,2) shape의 정수 생성 "
   ]
  },
  {
   "cell_type": "markdown",
   "id": "35b79073-dbd3-4f2e-b919-ff8b886b94da",
   "metadata": {},
   "source": [
    "`-` 위와 같은 코드를 아래와 같이 구현가능 "
   ]
  },
  {
   "cell_type": "code",
   "execution_count": 58,
   "id": "c8e25e14-6942-4ea8-8101-b97835fbbaf5",
   "metadata": {},
   "outputs": [
    {
     "data": {
      "text/plain": [
       "array([[4, 1, 2, 0, 4],\n",
       "       [5, 0, 1, 1, 3],\n",
       "       [2, 1, 4, 6, 6],\n",
       "       [4, 1, 6, 1, 5],\n",
       "       [4, 2, 1, 3, 4]])"
      ]
     },
     "execution_count": 58,
     "metadata": {},
     "output_type": "execute_result"
    }
   ],
   "source": [
    "np.random.randint(low=7,size=(5,5)) # [0,7)의 범위에서 (5,5) shape의 정수 생성 "
   ]
  },
  {
   "cell_type": "markdown",
   "id": "c896004a-cfdc-40b2-941a-60172d0abe0f",
   "metadata": {},
   "source": [
    "`-` [10,20) 의 범위에서 (5,5) shape 정수를 랜덤으로 생성 "
   ]
  },
  {
   "cell_type": "code",
   "execution_count": 49,
   "id": "c2ed9839-407b-4fd4-a362-c7390d62b283",
   "metadata": {},
   "outputs": [
    {
     "data": {
      "text/plain": [
       "array([[10, 13, 11, 15, 17],\n",
       "       [10, 16, 15, 15, 11],\n",
       "       [15, 14, 11, 19, 11],\n",
       "       [10, 13, 13, 13, 14],\n",
       "       [14, 19, 17, 13, 19]])"
      ]
     },
     "execution_count": 49,
     "metadata": {},
     "output_type": "execute_result"
    }
   ],
   "source": [
    "np.random.randint(low=10,high=20,size=(5,5)) # [10,20)의 범위에서 (5,5)shape의 정수생성 "
   ]
  },
  {
   "cell_type": "markdown",
   "id": "092d9c15-44b4-4079-b5e5-a03efa850d29",
   "metadata": {},
   "source": [
    "`-` 의문: `np.random.randint(low=7,size=(5,5))` 가 좀 이상하다. 사실 `np.random.randint(high=7,size=(5,5))`가 되어야 맞지 않는가? \n",
    "\n",
    "-> 저도 그렇게 생각하긴 하는데요, 구현이 이렇게 되어있습니다. 도움말 확인!\n",
    "```\n",
    "Return random integers from the \"discrete uniform\" distribution of the specified dtype in the \"half-open\" interval [`low`, `high`). If `high` is None (the default), then results are from [0, `low`).\n",
    "```"
   ]
  },
  {
   "cell_type": "markdown",
   "id": "7cd87d65-7229-47b9-a76c-8c82aeb40153",
   "metadata": {},
   "source": [
    "#### np.random.choice()"
   ]
  },
  {
   "cell_type": "markdown",
   "id": "ddaa3f20-40bc-4f70-a7bb-d804eb50da62",
   "metadata": {},
   "source": [
    "`-` ver1 "
   ]
  },
  {
   "cell_type": "code",
   "execution_count": 72,
   "id": "e754d703-cbb5-448f-8720-1a2babb6c756",
   "metadata": {},
   "outputs": [
    {
     "data": {
      "text/plain": [
       "array([1, 1, 4, 3, 0, 2, 4, 4, 4, 4, 0, 4, 2, 2, 2, 2, 2, 1, 4, 1])"
      ]
     },
     "execution_count": 72,
     "metadata": {},
     "output_type": "execute_result"
    }
   ],
   "source": [
    "np.random.choice(5,20) # [0,5)에서 20개를 뽑음, 중복허용 "
   ]
  },
  {
   "cell_type": "markdown",
   "id": "00b6aade-ec68-495d-b6c6-afb553bf69ba",
   "metadata": {},
   "source": [
    "- 이것은 np.random.randint(5,size=(20,)) 와 같은 코드임 "
   ]
  },
  {
   "cell_type": "markdown",
   "id": "00f558b4-4aca-4047-9cee-32a265247a08",
   "metadata": {},
   "source": [
    "`-` ver2 "
   ]
  },
  {
   "cell_type": "code",
   "execution_count": 73,
   "id": "886f0d61-d528-43fb-b3ce-7bc2abb709c2",
   "metadata": {},
   "outputs": [
    {
     "data": {
      "text/plain": [
       "array([1, 0, 0, 1, 3, 3, 0, 1, 0, 0, 3, 3, 0, 1, 2, 3, 2, 1, 2, 3])"
      ]
     },
     "execution_count": 73,
     "metadata": {},
     "output_type": "execute_result"
    }
   ],
   "source": [
    "np.random.choice([0,1,2,3],20) # [0,1,2,3]에서 20개를 뽑음, 중복허용"
   ]
  },
  {
   "cell_type": "code",
   "execution_count": 74,
   "id": "3ce3191c-b672-4b73-b5ef-053c9f3bfcaf",
   "metadata": {},
   "outputs": [
    {
     "data": {
      "text/plain": [
       "array(['orange', 'orange', 'orange', 'apple', 'orange', 'apple', 'apple',\n",
       "       'apple', 'orange', 'orange', 'orange', 'apple', 'apple', 'banana',\n",
       "       'banana', 'orange', 'orange', 'orange', 'orange', 'banana'],\n",
       "      dtype='<U6')"
      ]
     },
     "execution_count": 74,
     "metadata": {},
     "output_type": "execute_result"
    }
   ],
   "source": [
    "np.random.choice([\"apple\",\"orange\",\"banana\"],20)"
   ]
  },
  {
   "cell_type": "code",
   "execution_count": 94,
   "id": "1c755ec0-c41d-4787-b137-d4c7c6cfae8d",
   "metadata": {},
   "outputs": [
    {
     "data": {
      "text/plain": [
       "array(['banana', 'orange'], dtype='<U6')"
      ]
     },
     "execution_count": 94,
     "metadata": {},
     "output_type": "execute_result"
    }
   ],
   "source": [
    "np.random.choice([\"apple\",\"orange\",\"banana\"],2,replace=False) # 중복허용 X "
   ]
  },
  {
   "cell_type": "markdown",
   "id": "177c46c9-f797-4dca-9858-e391fbec978c",
   "metadata": {},
   "source": [
    "#### 통계분포 "
   ]
  },
  {
   "cell_type": "code",
   "execution_count": 98,
   "id": "2aebb388-3a2a-4112-a1db-0c2ecbd1656f",
   "metadata": {},
   "outputs": [
    {
     "data": {
      "text/plain": [
       "array([0, 1, 4, 1, 3])"
      ]
     },
     "execution_count": 98,
     "metadata": {},
     "output_type": "execute_result"
    }
   ],
   "source": [
    "np.random.binomial(n=10,p=0.2,size=(5,)) # X1, ..., X5 ~ B(10,0.2) "
   ]
  },
  {
   "cell_type": "code",
   "execution_count": 99,
   "id": "5e1cb48d-35ff-4623-874b-3b71cb8c97f7",
   "metadata": {},
   "outputs": [
    {
     "data": {
      "text/plain": [
       "array([ 8.33296606,  7.28476525, 10.53464049,  8.70471009,  8.54969039])"
      ]
     },
     "execution_count": 99,
     "metadata": {},
     "output_type": "execute_result"
    }
   ],
   "source": [
    "np.random.normal(loc=10,scale=2,size=(5,)) # X1, ..., X5 ~ N(10,4) "
   ]
  },
  {
   "cell_type": "markdown",
   "id": "0ef1965d-5c3f-4640-90f0-3d6a821a78c5",
   "metadata": {},
   "source": [
    "- `np.radom.randn(5)*2 + 10 `와 같은코드"
   ]
  },
  {
   "cell_type": "code",
   "execution_count": 100,
   "id": "e13ab761-69a7-4b5a-9b7f-bb3e739fba59",
   "metadata": {},
   "outputs": [
    {
     "data": {
      "text/plain": [
       "array([3.77048793, 2.5993732 , 2.93630494, 2.43154214, 3.63709163])"
      ]
     },
     "execution_count": 100,
     "metadata": {},
     "output_type": "execute_result"
    }
   ],
   "source": [
    "np.random.uniform(low=2,high=4,size=(5,)) # X1, ..., X5 ~ U(2,4) "
   ]
  },
  {
   "cell_type": "markdown",
   "id": "35aeb99e-ec43-4f69-a663-a28328c26f19",
   "metadata": {},
   "source": [
    "- `np.random.rand(5)*2+2 `와 같은 코드 "
   ]
  },
  {
   "cell_type": "code",
   "execution_count": 107,
   "id": "91b29588-19c2-4d89-a882-2fc7294e4d68",
   "metadata": {},
   "outputs": [
    {
     "data": {
      "text/plain": [
       "array([4, 9, 4, 5, 0])"
      ]
     },
     "execution_count": 107,
     "metadata": {},
     "output_type": "execute_result"
    }
   ],
   "source": [
    "np.random.poisson(lam=5,size=(5,)) # X1,...,X5 ~ Poi(5) "
   ]
  },
  {
   "cell_type": "markdown",
   "id": "58163524-4d2b-4781-889a-5342c50bf40c",
   "metadata": {},
   "source": [
    "### numpy공부 6단계: 기타 유용한 기본기능들 "
   ]
  },
  {
   "cell_type": "markdown",
   "id": "b166e24e-11fc-4299-a73b-a9e66e1734b7",
   "metadata": {},
   "source": [
    "#### np.where, np.argwhere "
   ]
  },
  {
   "cell_type": "markdown",
   "id": "94175aac-230c-4d8b-8b48-b7434a6ee68b",
   "metadata": {},
   "source": [
    "`-` 1차원 "
   ]
  },
  {
   "cell_type": "code",
   "execution_count": 109,
   "id": "beb597f6-caa8-4345-932a-147d2c8dfc05",
   "metadata": {},
   "outputs": [
    {
     "data": {
      "text/plain": [
       "array([0, 0, 0, 1, 0])"
      ]
     },
     "execution_count": 109,
     "metadata": {},
     "output_type": "execute_result"
    }
   ],
   "source": [
    "a=np.array([0,0,0,1,0])\n",
    "a"
   ]
  },
  {
   "cell_type": "code",
   "execution_count": 115,
   "id": "7662502d-c8ed-461c-a49d-dbe637d5c636",
   "metadata": {},
   "outputs": [
    {
     "data": {
      "text/plain": [
       "(array([3]),)"
      ]
     },
     "execution_count": 115,
     "metadata": {},
     "output_type": "execute_result"
    }
   ],
   "source": [
    "np.where(a==1) # 조건 a==1을 만족하는 인덱스를 출력하라!"
   ]
  },
  {
   "cell_type": "code",
   "execution_count": 116,
   "id": "e7174574-5db3-464f-9909-a305669600c1",
   "metadata": {},
   "outputs": [
    {
     "data": {
      "text/plain": [
       "array([[3]])"
      ]
     },
     "execution_count": 116,
     "metadata": {},
     "output_type": "execute_result"
    }
   ],
   "source": [
    "np.argwhere(a==1)"
   ]
  },
  {
   "cell_type": "markdown",
   "id": "2b1c453b-5cbc-477c-acc1-80ba5b4528bb",
   "metadata": {},
   "source": [
    "`-` 2차원 "
   ]
  },
  {
   "cell_type": "code",
   "execution_count": 123,
   "id": "a70ffb02-7af2-4b4c-b4c8-41d080a8c332",
   "metadata": {},
   "outputs": [
    {
     "data": {
      "text/plain": [
       "array([[ 0.38342049,  1.0841745 ,  1.14277825,  0.30789368],\n",
       "       [ 0.23778744,  0.35595116, -1.66307542, -1.38277318],\n",
       "       [-1.92684484, -1.4862163 ,  0.00692519, -0.03488725]])"
      ]
     },
     "execution_count": 123,
     "metadata": {},
     "output_type": "execute_result"
    }
   ],
   "source": [
    "np.random.seed(43052)\n",
    "a=np.random.randn(12).reshape(3,4)\n",
    "a"
   ]
  },
  {
   "cell_type": "code",
   "execution_count": 125,
   "id": "0d98efc9-ae58-4a1c-9ec8-ef7194ce7f86",
   "metadata": {},
   "outputs": [
    {
     "data": {
      "text/plain": [
       "(array([1, 1, 2, 2, 2]), array([2, 3, 0, 1, 3]))"
      ]
     },
     "execution_count": 125,
     "metadata": {},
     "output_type": "execute_result"
    }
   ],
   "source": [
    "np.where(a<0) # 조건을 만족하는 인덱스가 (1,2), (1,3), (2,0), (2,1), (2,3) 이라는 의미"
   ]
  },
  {
   "cell_type": "code",
   "execution_count": 128,
   "id": "8fa7394c-99d6-4bcc-a1ff-0c236a7ff88a",
   "metadata": {},
   "outputs": [
    {
     "data": {
      "text/plain": [
       "array([[1, 2],\n",
       "       [1, 3],\n",
       "       [2, 0],\n",
       "       [2, 1],\n",
       "       [2, 3]])"
      ]
     },
     "execution_count": 128,
     "metadata": {},
     "output_type": "execute_result"
    }
   ],
   "source": [
    "np.argwhere(a<0) # 조건을 만족하는 인덱스가 (1,2), (1,3), (2,0), (2,1), (2,3) 이라는 의미"
   ]
  },
  {
   "cell_type": "code",
   "execution_count": 132,
   "id": "cdbce049-1bcb-46f9-9acc-291698b7bdae",
   "metadata": {},
   "outputs": [
    {
     "data": {
      "text/plain": [
       "array([-1.66307542, -1.38277318, -1.92684484, -1.4862163 , -0.03488725])"
      ]
     },
     "execution_count": 132,
     "metadata": {},
     "output_type": "execute_result"
    }
   ],
   "source": [
    "a[np.where(a<0)] # 조건을 만족하는 인덱스가 모두 출력 => 1차원 array로 출력 "
   ]
  },
  {
   "cell_type": "code",
   "execution_count": 133,
   "id": "d6c4ea7b-a332-4f29-9799-73e1466f3b74",
   "metadata": {},
   "outputs": [
    {
     "ename": "IndexError",
     "evalue": "index 3 is out of bounds for axis 0 with size 3",
     "output_type": "error",
     "traceback": [
      "\u001b[0;31m---------------------------------------------------------------------------\u001b[0m",
      "\u001b[0;31mIndexError\u001b[0m                                Traceback (most recent call last)",
      "Input \u001b[0;32mIn [133]\u001b[0m, in \u001b[0;36m<cell line: 1>\u001b[0;34m()\u001b[0m\n\u001b[0;32m----> 1\u001b[0m \u001b[43ma\u001b[49m\u001b[43m[\u001b[49m\u001b[43mnp\u001b[49m\u001b[38;5;241;43m.\u001b[39;49m\u001b[43margwhere\u001b[49m\u001b[43m(\u001b[49m\u001b[43ma\u001b[49m\u001b[38;5;241;43m<\u001b[39;49m\u001b[38;5;241;43m0\u001b[39;49m\u001b[43m)\u001b[49m\u001b[43m]\u001b[49m\n",
      "\u001b[0;31mIndexError\u001b[0m: index 3 is out of bounds for axis 0 with size 3"
     ]
    }
   ],
   "source": [
    "a[np.argwhere(a<0)] # 출력불가능"
   ]
  },
  {
   "cell_type": "code",
   "execution_count": 139,
   "id": "ddbe5bdc-babd-4b6b-b18e-511bddf466d8",
   "metadata": {},
   "outputs": [
    {
     "data": {
      "text/plain": [
       "-1.6630754187023522"
      ]
     },
     "execution_count": 139,
     "metadata": {},
     "output_type": "execute_result"
    }
   ],
   "source": [
    "a[np.argwhere(a<0)[0][0],np.argwhere(a<0)[0][1]] # 어거지로 출력할수는 있음 "
   ]
  },
  {
   "cell_type": "markdown",
   "id": "a457bdde-03e7-440a-ba3b-4742f44cd7b7",
   "metadata": {},
   "source": [
    "`-` np.where의 특수기능 "
   ]
  },
  {
   "cell_type": "code",
   "execution_count": 142,
   "id": "85b65f99-3647-44fb-b427-07913f5d83bd",
   "metadata": {},
   "outputs": [
    {
     "data": {
      "text/plain": [
       "array([[ 0.38342049,  1.0841745 ,  1.14277825,  0.30789368],\n",
       "       [ 0.23778744,  0.35595116, -1.66307542, -1.38277318],\n",
       "       [-1.92684484, -1.4862163 ,  0.00692519, -0.03488725]])"
      ]
     },
     "execution_count": 142,
     "metadata": {},
     "output_type": "execute_result"
    }
   ],
   "source": [
    "np.random.seed(43052) \n",
    "a=np.random.randn(12).reshape(3,4) \n",
    "a"
   ]
  },
  {
   "cell_type": "code",
   "execution_count": 145,
   "id": "09b01dad-1839-4c5f-a888-1b2d12150ce0",
   "metadata": {},
   "outputs": [
    {
     "data": {
      "text/plain": [
       "array([[0.38342049, 1.0841745 , 1.14277825, 0.30789368],\n",
       "       [0.23778744, 0.35595116, 0.        , 0.        ],\n",
       "       [0.        , 0.        , 0.00692519, 0.        ]])"
      ]
     },
     "execution_count": 145,
     "metadata": {},
     "output_type": "execute_result"
    }
   ],
   "source": [
    "np.where(a<0,0,a) # a<0을 체크 => 조건에 맞으면 0 => 조건에 안맞으면 a "
   ]
  },
  {
   "cell_type": "code",
   "execution_count": 147,
   "id": "09873b98-9599-4615-b465-ea0eaf6d523d",
   "metadata": {},
   "outputs": [
    {
     "data": {
      "text/plain": [
       "array([[1, 1, 1, 1],\n",
       "       [1, 1, 0, 0],\n",
       "       [0, 0, 1, 0]])"
      ]
     },
     "execution_count": 147,
     "metadata": {},
     "output_type": "execute_result"
    }
   ],
   "source": [
    "np.where(a<0,0,1) # a<0을 체크 => 조건에 맞으면 0 => 조건에 안맞으면 1"
   ]
  },
  {
   "cell_type": "markdown",
   "id": "4a093d9a-cb96-47e2-bc9c-873825b445ad",
   "metadata": {},
   "source": [
    "`-` 요약 \n",
    "- np.where: 인덱스의 좌표를 읽는 가독성은 떨어짐. 그런데 조건에 맞는 원소를 출력하거나 처리하는 (특수기능) 목적으로는 좋은 함수  \n",
    "- np.argwhere: 인덱스의 좌표를 읽는 가독성은 좋은 편임. 그런데 조건에 맞는 원소를 출력하거나 처리하는 기능은 떨어짐"
   ]
  },
  {
   "cell_type": "markdown",
   "id": "796fae6c-b991-4116-b2b6-67c41aa6109f",
   "metadata": {},
   "source": [
    "#### 인덱싱고급 "
   ]
  },
  {
   "cell_type": "markdown",
   "id": "71ee8794-fb9b-4e10-a479-5aa61723ef71",
   "metadata": {},
   "source": [
    "`-` 원래 a는 2d array"
   ]
  },
  {
   "cell_type": "code",
   "execution_count": 150,
   "id": "4a1016e9-bb73-4400-9eda-16f86857da06",
   "metadata": {},
   "outputs": [
    {
     "data": {
      "text/plain": [
       "array([[ 0,  1,  2,  3],\n",
       "       [ 4,  5,  6,  7],\n",
       "       [ 8,  9, 10, 11]])"
      ]
     },
     "execution_count": 150,
     "metadata": {},
     "output_type": "execute_result"
    }
   ],
   "source": [
    "a=np.arange(12).reshape(3,4)\n",
    "a"
   ]
  },
  {
   "cell_type": "markdown",
   "id": "729ef069-0ab5-41fb-abad-e7a62cbe6e50",
   "metadata": {},
   "source": [
    "`-` 경우1: 인덱싱 결과가 1d array로 나올수 있음 "
   ]
  },
  {
   "cell_type": "code",
   "execution_count": 158,
   "id": "ba256ad2-e22d-487e-8e82-4f4e78194fc6",
   "metadata": {},
   "outputs": [
    {
     "data": {
      "text/plain": [
       "array([0, 1, 2, 3])"
      ]
     },
     "execution_count": 158,
     "metadata": {},
     "output_type": "execute_result"
    }
   ],
   "source": [
    "a[0,:] # 인덱싱의 결과 축의 갯수가 바뀐다! 2d array -> 1d array"
   ]
  },
  {
   "cell_type": "markdown",
   "id": "00c13394-5494-4c6e-a12c-a890dc6e377a",
   "metadata": {},
   "source": [
    "`-` 경우2: 물론 인덱싱 결과가 2d array로 나올 수도 있음 "
   ]
  },
  {
   "cell_type": "code",
   "execution_count": 159,
   "id": "160a2821-0c35-4fcc-85bc-1654b7c796ea",
   "metadata": {},
   "outputs": [
    {
     "data": {
      "text/plain": [
       "array([[0, 1, 2, 3],\n",
       "       [4, 5, 6, 7]])"
      ]
     },
     "execution_count": 159,
     "metadata": {},
     "output_type": "execute_result"
    }
   ],
   "source": [
    "a[[0,1],:] # 이것은 축의 숫자가 유지된다. 2d array -> 2d array "
   ]
  },
  {
   "cell_type": "markdown",
   "id": "9f099130-0c0d-4634-ab2b-3078191779bb",
   "metadata": {},
   "source": [
    "`-` 경우1의 상황에서도 축의 갯수를 유지하면서 인덱싱하려면? "
   ]
  },
  {
   "cell_type": "code",
   "execution_count": 161,
   "id": "672d4264-ebd0-4b29-b218-3b14614cfa2b",
   "metadata": {},
   "outputs": [
    {
     "data": {
      "text/plain": [
       "array([[0, 1, 2, 3]])"
      ]
     },
     "execution_count": 161,
     "metadata": {},
     "output_type": "execute_result"
    }
   ],
   "source": [
    "a[[0],:] # 이번에는 인덱싱의 결과 축의 갯수가 유지된다! 2d array -> 2d array"
   ]
  },
  {
   "cell_type": "code",
   "execution_count": 163,
   "id": "64ed1c56-ab51-4f8d-a436-8a84fcba2e47",
   "metadata": {},
   "outputs": [
    {
     "data": {
      "text/plain": [
       "array([[0],\n",
       "       [4],\n",
       "       [8]])"
      ]
     },
     "execution_count": 163,
     "metadata": {},
     "output_type": "execute_result"
    }
   ],
   "source": [
    "a[:,[0]] #"
   ]
  },
  {
   "cell_type": "markdown",
   "id": "171a74c9-6eea-45c1-bbf9-53f0dda89f9d",
   "metadata": {},
   "source": [
    "`-` 미묘한 차이를 이해할것 "
   ]
  },
  {
   "cell_type": "code",
   "execution_count": 164,
   "id": "a4508f40-23a0-496e-9109-6a11455922a3",
   "metadata": {},
   "outputs": [
    {
     "data": {
      "text/plain": [
       "(array([0, 1, 2, 3]), array([[0, 1, 2, 3]]))"
      ]
     },
     "execution_count": 164,
     "metadata": {},
     "output_type": "execute_result"
    }
   ],
   "source": [
    "a[0,:], a[[0],:]"
   ]
  },
  {
   "cell_type": "code",
   "execution_count": 165,
   "id": "304809f5-aa48-4d1b-9046-c082d26c5220",
   "metadata": {},
   "outputs": [
    {
     "data": {
      "text/plain": [
       "(array([0, 4, 8]),\n",
       " array([[0],\n",
       "        [4],\n",
       "        [8]]))"
      ]
     },
     "execution_count": 165,
     "metadata": {},
     "output_type": "execute_result"
    }
   ],
   "source": [
    "a[:,0], a[:,[0]]"
   ]
  },
  {
   "cell_type": "markdown",
   "id": "9e92da2b-c145-43bc-84b9-d99eee5023a0",
   "metadata": {},
   "source": [
    "#### np.ix_ "
   ]
  },
  {
   "cell_type": "markdown",
   "id": "878e7c9b-b01f-4407-9fb2-bdb506882385",
   "metadata": {},
   "source": [
    "`-` 아래의 인덱싱을 비교하자. "
   ]
  },
  {
   "cell_type": "code",
   "execution_count": 166,
   "id": "8bb1a7a5-c148-49b1-b48b-470a3d6dfb69",
   "metadata": {},
   "outputs": [
    {
     "data": {
      "text/plain": [
       "array([[ 0,  1,  2,  3],\n",
       "       [ 4,  5,  6,  7],\n",
       "       [ 8,  9, 10, 11]])"
      ]
     },
     "execution_count": 166,
     "metadata": {},
     "output_type": "execute_result"
    }
   ],
   "source": [
    "a=np.arange(12).reshape(3,4)\n",
    "a"
   ]
  },
  {
   "cell_type": "code",
   "execution_count": 167,
   "id": "d0de3ad7-9e24-4ebc-985b-77d16b56cab1",
   "metadata": {},
   "outputs": [
    {
     "data": {
      "text/plain": [
       "array([[0, 1],\n",
       "       [4, 5]])"
      ]
     },
     "execution_count": 167,
     "metadata": {},
     "output_type": "execute_result"
    }
   ],
   "source": [
    "a[0:2,0:2]"
   ]
  },
  {
   "cell_type": "code",
   "execution_count": 168,
   "id": "d3dcaad7-5c4d-463d-89ad-96e0b46d4dcb",
   "metadata": {},
   "outputs": [
    {
     "data": {
      "text/plain": [
       "array([[0, 1],\n",
       "       [4, 5]])"
      ]
     },
     "execution_count": 168,
     "metadata": {},
     "output_type": "execute_result"
    }
   ],
   "source": [
    "a[[0,1],0:2]"
   ]
  },
  {
   "cell_type": "code",
   "execution_count": 169,
   "id": "42c98364-8424-4b16-b53c-38f10cc42a0f",
   "metadata": {},
   "outputs": [
    {
     "data": {
      "text/plain": [
       "array([[0, 1],\n",
       "       [4, 5]])"
      ]
     },
     "execution_count": 169,
     "metadata": {},
     "output_type": "execute_result"
    }
   ],
   "source": [
    "a[0:2,[0,1]]"
   ]
  },
  {
   "cell_type": "markdown",
   "id": "640c0038-d5bf-4a35-b88d-17a3b46e1988",
   "metadata": {},
   "source": [
    "`-` 언뜻 생각하면 위의 결과와 `a[[0,1],[0,1]]`는 결과가 동일할 것 같다.  "
   ]
  },
  {
   "cell_type": "code",
   "execution_count": 170,
   "id": "1949cb85-7356-4b60-9635-4f7816d7fc41",
   "metadata": {},
   "outputs": [
    {
     "data": {
      "text/plain": [
       "array([0, 5])"
      ]
     },
     "execution_count": 170,
     "metadata": {},
     "output_type": "execute_result"
    }
   ],
   "source": [
    "a[[0,1],[0,1]]"
   ]
  },
  {
   "cell_type": "markdown",
   "id": "4d361f24-4a30-4f78-b5e1-47f0f9a888e7",
   "metadata": {},
   "source": [
    "- 실제로는 [a[0,0],a[1,1]]이 array로 나옴 "
   ]
  },
  {
   "cell_type": "markdown",
   "id": "76ac3bce-fd28-448f-a141-4b7a79a41fa4",
   "metadata": {},
   "source": [
    "`-` 사실 np.where에서 이미 관찰하였음 "
   ]
  },
  {
   "cell_type": "code",
   "execution_count": 172,
   "id": "5616c1b3-a020-4039-8e54-c7d9da37658c",
   "metadata": {},
   "outputs": [
    {
     "data": {
      "text/plain": [
       "array([[ 0,  1,  2,  3],\n",
       "       [ 4,  5,  6,  7],\n",
       "       [ 8,  9, 10, 11]])"
      ]
     },
     "execution_count": 172,
     "metadata": {},
     "output_type": "execute_result"
    }
   ],
   "source": [
    "a"
   ]
  },
  {
   "cell_type": "code",
   "execution_count": 171,
   "id": "9727584b-9bbb-4947-b614-990919374f69",
   "metadata": {},
   "outputs": [
    {
     "data": {
      "text/plain": [
       "(array([0, 1, 2]), array([0, 1, 2]))"
      ]
     },
     "execution_count": 171,
     "metadata": {},
     "output_type": "execute_result"
    }
   ],
   "source": [
    "np.where(a % 5 ==0)"
   ]
  },
  {
   "cell_type": "code",
   "execution_count": 173,
   "id": "fe014785-f515-4fda-9206-0b4c2b462f1f",
   "metadata": {},
   "outputs": [
    {
     "data": {
      "text/plain": [
       "array([ 0,  5, 10])"
      ]
     },
     "execution_count": 173,
     "metadata": {},
     "output_type": "execute_result"
    }
   ],
   "source": [
    "a[np.where(a % 5 ==0)]"
   ]
  },
  {
   "cell_type": "code",
   "execution_count": 175,
   "id": "28cd4621-257e-4c97-938b-516362a7f2f5",
   "metadata": {},
   "outputs": [
    {
     "data": {
      "text/plain": [
       "array([ 0,  5, 10])"
      ]
     },
     "execution_count": 175,
     "metadata": {},
     "output_type": "execute_result"
    }
   ],
   "source": [
    "a[[0, 1, 2],[0, 1, 2]]"
   ]
  },
  {
   "cell_type": "markdown",
   "id": "9245d0e9-6808-459c-a0b4-5512dd13e15b",
   "metadata": {},
   "source": [
    "`-` a[[0,1],[0,1]]이 a[0:2,0:2]를 의미하게 하려면 아래와 같이 하면 된다. "
   ]
  },
  {
   "cell_type": "code",
   "execution_count": 178,
   "id": "0aca0974-5be9-419b-b8f9-9a0f3082900b",
   "metadata": {},
   "outputs": [
    {
     "data": {
      "text/plain": [
       "array([[0, 1],\n",
       "       [4, 5]])"
      ]
     },
     "execution_count": 178,
     "metadata": {},
     "output_type": "execute_result"
    }
   ],
   "source": [
    "a[np.ix_([0,1],[0,1])] # 유용해보이지만 생각보다 잘 쓰이는건 아님 "
   ]
  },
  {
   "cell_type": "markdown",
   "id": "24352f64-be93-4440-9d44-8f96ee458e64",
   "metadata": {},
   "source": [
    "### 숙제"
   ]
  },
  {
   "cell_type": "code",
   "execution_count": 180,
   "id": "357b6f63-9bd5-41ed-ac61-a7feab42a71a",
   "metadata": {},
   "outputs": [
    {
     "data": {
      "text/plain": [
       "array([1.42531485, 1.54567744, 1.44735207, 1.33217747, 1.48856969,\n",
       "       1.47329978, 1.38976795, 1.30469965, 1.66634909, 1.65330027])"
      ]
     },
     "execution_count": 180,
     "metadata": {},
     "output_type": "execute_result"
    }
   ],
   "source": [
    "np.random.uniform(low=1.3,high=1.7,size=(10,))"
   ]
  },
  {
   "cell_type": "markdown",
   "id": "32e5cfab-7f5c-450b-8ae4-c06a91bec73f",
   "metadata": {},
   "source": [
    "위와 같은코드를 np.random.rand()를 이용하여 구현하라. "
   ]
  }
 ],
 "metadata": {
  "kernelspec": {
   "display_name": "Python 3 (ipykernel)",
   "language": "python",
   "name": "python3"
  },
  "language_info": {
   "codemirror_mode": {
    "name": "ipython",
    "version": 3
   },
   "file_extension": ".py",
   "mimetype": "text/x-python",
   "name": "python",
   "nbconvert_exporter": "python",
   "pygments_lexer": "ipython3",
   "version": "3.9.10"
  }
 },
 "nbformat": 4,
 "nbformat_minor": 5
}
