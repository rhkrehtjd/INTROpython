{
 "cells": [
  {
   "cell_type": "markdown",
   "id": "7b4f9ff8-38f1-4d78-838e-a530dd0b59d4",
   "metadata": {},
   "source": [
    "# 정규 표현식4"
   ]
  },
  {
   "cell_type": "markdown",
   "id": "ac157bac-c080-4e13-9a2b-4dc55b68a45b",
   "metadata": {},
   "source": [
    "- 새로운 부류의 메타 문자를 살펴보자. 앞에서 살펴본 +,*,[],{}등의 메타문자는 매치가 진행될 때 현재 매치되고 있는 문자열의 위치가 변경된다.(보통 소비된다고 표현한다.) 하지만 이와 달리 문자열을 소비시키지 않는 메타 문자도 있다. 이번에는 이런 문자열 소비가 없는 메타 문자에 대해 살펴보자."
   ]
  },
  {
   "cell_type": "markdown",
   "id": "1c36333e-ab27-4cf8-886a-9289e28f22c5",
   "metadata": {},
   "source": [
    "----"
   ]
  },
  {
   "cell_type": "markdown",
   "id": "32e3f494-4d8a-4f55-8ab4-af4509f0249d",
   "metadata": {},
   "source": [
    "- | \n",
    "  - | 메타 문자는 or과 동일한 의미로 사용된다. A|B라는 정규식이 있다면 A또는 B라는 의미가 된다. "
   ]
  },
  {
   "cell_type": "code",
   "execution_count": 2,
   "id": "2d4dc597-0ab3-49dd-afa9-ab0ac921dac6",
   "metadata": {},
   "outputs": [
    {
     "name": "stdout",
     "output_type": "stream",
     "text": [
      "<re.Match object; span=(0, 4), match='Crow'>\n"
     ]
    }
   ],
   "source": [
    "import re\n",
    "p = re.compile('Crow|Servo')\n",
    "m = p.match('CrowHello')\n",
    "print(m)"
   ]
  },
  {
   "cell_type": "markdown",
   "id": "ba31c278-80f4-4b63-86a4-7a92225d89e6",
   "metadata": {},
   "source": [
    "---"
   ]
  },
  {
   "cell_type": "markdown",
   "id": "2cd01267-f2fa-4853-a6ec-369833c13351",
   "metadata": {},
   "source": [
    "- ^\n",
    "  - ^ 메타 문자는 문자열의 맨 처음과 일치함을 의미한다. 앞에서 살펴본 컴파일 옵션 re.MULTILINE을 사용할 경우에는 여러 줄의 문자열일 때 각 줄의 처음과 일치하게 된다."
   ]
  },
  {
   "cell_type": "code",
   "execution_count": 3,
   "id": "4875225b-00e8-43c7-8e9c-dd3e7ba36e86",
   "metadata": {},
   "outputs": [
    {
     "name": "stdout",
     "output_type": "stream",
     "text": [
      "<re.Match object; span=(0, 4), match='Life'>\n",
      "None\n"
     ]
    }
   ],
   "source": [
    "print(re.search('^Life','Life is too short'))\n",
    "print(re.search('^Life','My Life'))"
   ]
  },
  {
   "cell_type": "markdown",
   "id": "937bfe96-3411-410c-8096-e1881e274e3e",
   "metadata": {},
   "source": [
    "- ^Life 정규식은 Life 문자열이 처음에 온 경우에는 매치하지만 처음 위치가 아닌 경우에는 매치되지 않음을 알 수 있다."
   ]
  },
  {
   "cell_type": "markdown",
   "id": "557a9945-8aa8-4e92-b3a0-ca594cc7bc70",
   "metadata": {},
   "source": [
    "---"
   ]
  },
  {
   "cell_type": "markdown",
   "id": "ebc8d029-70a3-48bc-ad78-2dea1a82d041",
   "metadata": {},
   "source": [
    "- `$`\n",
    "  - `$` 메타 문자는 ^메타 문자와 반대의 경우이다. 즉 $는 문자열의 끝과 매치함을 의미한다."
   ]
  },
  {
   "cell_type": "code",
   "execution_count": 4,
   "id": "1112304e-e760-4da0-8191-d93a745daebc",
   "metadata": {},
   "outputs": [
    {
     "name": "stdout",
     "output_type": "stream",
     "text": [
      "<re.Match object; span=(12, 17), match='short'>\n",
      "None\n"
     ]
    }
   ],
   "source": [
    "print(re.search('short$','Life is too short'))\n",
    "print(re.search('short$','Life is too short, you need python'))"
   ]
  },
  {
   "cell_type": "markdown",
   "id": "334d1373-c797-4abf-9f20-e70901acc897",
   "metadata": {},
   "source": [
    "- short\\$ 정규식은 검색할 문자열이 short로 끝난 경우에는 매치되지만 그 이외의 경우에는 매치되지 않음을 알 수 있다.\n",
    "- ^또는 \\$ 메타 문자는 메타 문자가 아닌 문자 그 자체로 매치하고 싶은 경우에는 각각 앞에 백슬러시를 붙여주면 된다. "
   ]
  },
  {
   "cell_type": "markdown",
   "id": "2055a6ee-35d7-4edc-b47d-6e5007abab86",
   "metadata": {},
   "source": [
    "---"
   ]
  },
  {
   "cell_type": "markdown",
   "id": "612fcad1-e942-44ab-8492-9830e39f6d95",
   "metadata": {},
   "source": [
    "- \\A\n",
    "  - 문자열의 처음과 매치됨을 의미한다. ^ 메타 문자와 동일한 의미이지만 re.MULTILINE 옵션을 사용할 경우에는 다르게 해석된다. re.MULTILINE 옵션을 사용할 경우 ^은 각 줄의 문자열의 처음과 매치되지만 \\A는 줄과 상관없이 전체 문자열의 처음하고만 매치된다.\n",
    "- \\Z\n",
    "  - 문자열의 끝과 매치됨을 의미한다. 이것 역시 \\A와 동일하게 re.MULTILINE 옵션을 사용할 경우 \\$ 메타 문자와는 달리 전체 문자열의 끝과 매치된다. \n",
    "- \\b\n",
    "  - 단어 구분자(word boundary)이다. 보통 단어는 whitespace에 의해 구분된다."
   ]
  },
  {
   "cell_type": "code",
   "execution_count": 5,
   "id": "3f9f324d-442f-4956-a028-90d61dca4d06",
   "metadata": {},
   "outputs": [
    {
     "name": "stdout",
     "output_type": "stream",
     "text": [
      "<re.Match object; span=(3, 8), match='class'>\n"
     ]
    }
   ],
   "source": [
    "p = re.compile(r'\\bclass\\b')\n",
    "print(p.search('no class at all'))"
   ]
  },
  {
   "cell_type": "markdown",
   "id": "081cb25a-b9ab-4517-a312-5b5c0c8fc256",
   "metadata": {},
   "source": [
    "- \\bclass\\b 정규식으느 앞뒤가 whitespace로 구분된 class라는 단어와 매치됨을 의미한다. 따라서 no class at all의 class 단어와 매치됨을 확인할 수 있다. "
   ]
  },
  {
   "cell_type": "code",
   "execution_count": 6,
   "id": "87242b57-c622-4559-9316-eda73b56f7fe",
   "metadata": {},
   "outputs": [
    {
     "name": "stdout",
     "output_type": "stream",
     "text": [
      "None\n"
     ]
    }
   ],
   "source": [
    "print(p.search('one subclass is'))"
   ]
  },
  {
   "cell_type": "markdown",
   "id": "4d053cf0-a53d-46c3-ad48-b597909f164f",
   "metadata": {},
   "source": [
    "- subclass 문자열 역시 class 앞에 sub 문자열이 더해져 있으므로 매치되지 않음을 알 수 있다.\n",
    "- \\b 메타 문자를 사용할 때 주의해야 할 점이 있다. \\b는 파이썬 리터럴 규칙에 의하면 백스페이스를 의미하므로 백스페이스가 아닌 단어 구분자임을 알려주기 위해 r'\\bclass\\b'처럼 Raw string임을 알려주는 기호 r을 반드시 붙여 주어야 한다."
   ]
  },
  {
   "cell_type": "markdown",
   "id": "98c488c4-a4b3-448f-b4e0-04cc4998d11c",
   "metadata": {},
   "source": [
    "---"
   ]
  },
  {
   "cell_type": "markdown",
   "id": "d03d45a8-8ab3-4042-957a-acdb3821d215",
   "metadata": {},
   "source": [
    "- \\B\n",
    "  - \\b 메타 문자와 반대의 경우이다. 즉 whitespace로 구분된 단어가 아닌 경우에만 매치된다. "
   ]
  },
  {
   "cell_type": "code",
   "execution_count": null,
   "id": "7f6ec469-f98b-4aaf-b68e-b78e2aa1dd39",
   "metadata": {},
   "outputs": [],
   "source": [
    "p = re.compile(r'\\Bclass\\B')\n",
    "print(p.search('no class at all'))  \n",
    "print(p.search('the declassified algorithm'))\n",
    "re.Match object; span=(6, 11), match='class'>\n",
    ">>>print(p.search('one subclass is'))\n",
    "None"
   ]
  }
 ],
 "metadata": {
  "kernelspec": {
   "display_name": "Python 3 (ipykernel)",
   "language": "python",
   "name": "python3"
  },
  "language_info": {
   "codemirror_mode": {
    "name": "ipython",
    "version": 3
   },
   "file_extension": ".py",
   "mimetype": "text/x-python",
   "name": "python",
   "nbconvert_exporter": "python",
   "pygments_lexer": "ipython3",
   "version": "3.8.11"
  }
 },
 "nbformat": 4,
 "nbformat_minor": 5
}
