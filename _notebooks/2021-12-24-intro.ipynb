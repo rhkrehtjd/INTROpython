{
 "cells": [
  {
   "cell_type": "markdown",
   "id": "09d244e9-5f64-4a5b-a5ce-9baeae2e014a",
   "metadata": {},
   "source": [
    "# 2022/12/24/FRI"
   ]
  },
  {
   "cell_type": "code",
   "execution_count": 3,
   "id": "bcf739cf-bbb1-41fd-b717-b030ec7c284f",
   "metadata": {},
   "outputs": [],
   "source": [
    "import numpy as np"
   ]
  },
  {
   "cell_type": "code",
   "execution_count": 9,
   "id": "59a6121c-4935-46aa-8de3-670bd2819ab9",
   "metadata": {},
   "outputs": [
    {
     "data": {
      "text/plain": [
       "array([0., 1., 2., 3., 4.])"
      ]
     },
     "execution_count": 9,
     "metadata": {},
     "output_type": "execute_result"
    }
   ],
   "source": [
    "np.linspace(0,4,5)\n",
    "# 0부터 4까지 다섯개로 쪼갠다"
   ]
  },
  {
   "cell_type": "code",
   "execution_count": 11,
   "id": "bd1d3410-7b1e-4bd6-97a0-6a42eaf75661",
   "metadata": {},
   "outputs": [
    {
     "data": {
      "text/plain": [
       "array([0, 1, 2, 3, 4, 5, 6, 7, 8, 9])"
      ]
     },
     "execution_count": 11,
     "metadata": {},
     "output_type": "execute_result"
    }
   ],
   "source": [
    "np.arange(10)\n",
    "# 0부터 10개의 숫자"
   ]
  },
  {
   "cell_type": "code",
   "execution_count": 12,
   "id": "0bdc27e5-e2ff-4b32-b0ba-e6063f15eb2c",
   "metadata": {},
   "outputs": [],
   "source": [
    "a=np.array([10,20,3])"
   ]
  },
  {
   "cell_type": "code",
   "execution_count": 13,
   "id": "e83f8610-96ad-4177-9a6d-2b0490ea7157",
   "metadata": {},
   "outputs": [
    {
     "data": {
      "text/plain": [
       "(3,)"
      ]
     },
     "execution_count": 13,
     "metadata": {},
     "output_type": "execute_result"
    }
   ],
   "source": [
    "a.shape \n",
    "# 1차원 행렬에 방 세개"
   ]
  },
  {
   "cell_type": "code",
   "execution_count": 15,
   "id": "e35fe972-f9ca-46de-82e6-183e9d02e647",
   "metadata": {},
   "outputs": [
    {
     "data": {
      "text/plain": [
       "1"
      ]
     },
     "execution_count": 15,
     "metadata": {},
     "output_type": "execute_result"
    }
   ],
   "source": [
    "a.ndim\n",
    "# 1차원"
   ]
  },
  {
   "cell_type": "code",
   "execution_count": 16,
   "id": "f43a7d6a-b7eb-414a-b062-2d7401208ec8",
   "metadata": {},
   "outputs": [
    {
     "data": {
      "text/plain": [
       "dtype('int32')"
      ]
     },
     "execution_count": 16,
     "metadata": {},
     "output_type": "execute_result"
    }
   ],
   "source": [
    "a.dtype # array에 들어간 숫자들이 어떤 형식으로?"
   ]
  },
  {
   "cell_type": "code",
   "execution_count": 17,
   "id": "68b29550-b792-4fc6-95d8-c8ec607e17d8",
   "metadata": {},
   "outputs": [
    {
     "data": {
      "text/plain": [
       "3"
      ]
     },
     "execution_count": 17,
     "metadata": {},
     "output_type": "execute_result"
    }
   ],
   "source": [
    "a.size # 몇개 들어가 있니"
   ]
  },
  {
   "cell_type": "code",
   "execution_count": 18,
   "id": "63beffef-07cb-4886-a3e6-eb88f7294eb1",
   "metadata": {},
   "outputs": [
    {
     "data": {
      "text/plain": [
       "numpy.ndarray"
      ]
     },
     "execution_count": 18,
     "metadata": {},
     "output_type": "execute_result"
    }
   ],
   "source": [
    "type(a) #몇차원이고 될 수 있음, nd=ndimension"
   ]
  },
  {
   "cell_type": "markdown",
   "id": "edad8c0a-a17d-4b8d-a8e0-94896ffb5418",
   "metadata": {},
   "source": [
    "- np.array도 sequence 타입 => index,slicing가능"
   ]
  },
  {
   "cell_type": "code",
   "execution_count": 19,
   "id": "b84dbbfa-d8a9-4111-9b6e-7347ad0452c2",
   "metadata": {},
   "outputs": [
    {
     "data": {
      "text/plain": [
       "3"
      ]
     },
     "execution_count": 19,
     "metadata": {},
     "output_type": "execute_result"
    }
   ],
   "source": [
    "a[2]"
   ]
  },
  {
   "cell_type": "code",
   "execution_count": 20,
   "id": "f73a7872-2ebf-47cd-ac1d-996d8dd2f59b",
   "metadata": {},
   "outputs": [],
   "source": [
    "a[2]=30.8"
   ]
  },
  {
   "cell_type": "code",
   "execution_count": 21,
   "id": "3acbc7ba-7453-42f0-9a93-8aca8e136642",
   "metadata": {},
   "outputs": [
    {
     "data": {
      "text/plain": [
       "array([10, 20, 30])"
      ]
     },
     "execution_count": 21,
     "metadata": {},
     "output_type": "execute_result"
    }
   ],
   "source": [
    "a"
   ]
  },
  {
   "cell_type": "markdown",
   "id": "960e1e1a-bf79-4108-a931-9da284c31b72",
   "metadata": {},
   "source": [
    "> `소수점 날라가고 30으로 저장됨` "
   ]
  },
  {
   "cell_type": "code",
   "execution_count": 22,
   "id": "688eb6aa-54d5-45c4-83ba-2572526b8669",
   "metadata": {},
   "outputs": [
    {
     "data": {
      "text/plain": [
       "dtype('int32')"
      ]
     },
     "execution_count": 22,
     "metadata": {},
     "output_type": "execute_result"
    }
   ],
   "source": [
    "a.dtype"
   ]
  },
  {
   "cell_type": "code",
   "execution_count": 23,
   "id": "64c91bb6-1c3b-494f-9539-ef5e91aea3e1",
   "metadata": {},
   "outputs": [],
   "source": [
    "a=a.astype('float64')"
   ]
  },
  {
   "cell_type": "code",
   "execution_count": 24,
   "id": "e0050d8a-242b-4662-870a-6c914f0e0d50",
   "metadata": {},
   "outputs": [],
   "source": [
    "a[2]=30.865"
   ]
  },
  {
   "cell_type": "code",
   "execution_count": 25,
   "id": "883bd2d8-7291-4425-82f7-65d08765ae17",
   "metadata": {},
   "outputs": [
    {
     "data": {
      "text/plain": [
       "array([10.   , 20.   , 30.865])"
      ]
     },
     "execution_count": 25,
     "metadata": {},
     "output_type": "execute_result"
    }
   ],
   "source": [
    "a"
   ]
  },
  {
   "cell_type": "code",
   "execution_count": 26,
   "id": "f116ec58-79d7-425b-a5cd-dd7a3dac63bd",
   "metadata": {},
   "outputs": [
    {
     "data": {
      "text/plain": [
       "dtype('float64')"
      ]
     },
     "execution_count": 26,
     "metadata": {},
     "output_type": "execute_result"
    }
   ],
   "source": [
    "a.dtype"
   ]
  },
  {
   "cell_type": "markdown",
   "id": "cd9ffdd6-de5c-431f-9bd6-00f05981f9c8",
   "metadata": {},
   "source": [
    "- `소수점도 가능한 자료형으로 변경해줬음`"
   ]
  },
  {
   "cell_type": "code",
   "execution_count": 27,
   "id": "d30d68f6-726a-4061-8173-a7d178cfcc63",
   "metadata": {},
   "outputs": [],
   "source": [
    "b=np.array([10.,20.,30.])"
   ]
  },
  {
   "cell_type": "code",
   "execution_count": 31,
   "id": "7c9b68d5-ae5d-446b-b885-37cd353093f6",
   "metadata": {},
   "outputs": [
    {
     "data": {
      "text/plain": [
       "dtype('float64')"
      ]
     },
     "execution_count": 31,
     "metadata": {},
     "output_type": "execute_result"
    }
   ],
   "source": [
    "b.dtype"
   ]
  },
  {
   "cell_type": "markdown",
   "id": "baf09322-7c69-45ec-b3bf-cd47e78e439b",
   "metadata": {},
   "source": [
    "- `애초에 이렇게 dot을 지정해주고 들어가면 float으로 활용가능`"
   ]
  },
  {
   "cell_type": "code",
   "execution_count": 32,
   "id": "d5dc1a24-f635-4d8c-a61d-671b7f604646",
   "metadata": {},
   "outputs": [],
   "source": [
    "c=np.array([10.2,20.3,50.58],'int32')"
   ]
  },
  {
   "cell_type": "code",
   "execution_count": 33,
   "id": "cce49e6f-e4fd-4770-bad9-5435ec36d59f",
   "metadata": {},
   "outputs": [
    {
     "data": {
      "text/plain": [
       "array([10, 20, 50])"
      ]
     },
     "execution_count": 33,
     "metadata": {},
     "output_type": "execute_result"
    }
   ],
   "source": [
    "c"
   ]
  },
  {
   "cell_type": "markdown",
   "id": "a07bf1a5-7e7e-4956-bf27-9f052b5ba99b",
   "metadata": {},
   "source": [
    "- 이렇게 'int32'로 지정해줄 수 있음"
   ]
  },
  {
   "cell_type": "code",
   "execution_count": 34,
   "id": "19c490fb-c303-4d0d-bda8-9e2f43caf5c8",
   "metadata": {},
   "outputs": [],
   "source": [
    "x=np.array([7,9,11])\n",
    "y=x/2"
   ]
  },
  {
   "cell_type": "code",
   "execution_count": 35,
   "id": "47672236-c42a-4717-a76e-30083226f927",
   "metadata": {},
   "outputs": [
    {
     "data": {
      "text/plain": [
       "array([3.5, 4.5, 5.5])"
      ]
     },
     "execution_count": 35,
     "metadata": {},
     "output_type": "execute_result"
    }
   ],
   "source": [
    "y"
   ]
  },
  {
   "cell_type": "code",
   "execution_count": 36,
   "id": "3b602568-c671-420b-b326-8d8c7b52bcc2",
   "metadata": {},
   "outputs": [
    {
     "data": {
      "text/plain": [
       "dtype('int32')"
      ]
     },
     "execution_count": 36,
     "metadata": {},
     "output_type": "execute_result"
    }
   ],
   "source": [
    "x.dtype"
   ]
  },
  {
   "cell_type": "code",
   "execution_count": 37,
   "id": "f027dfe8-2383-4b57-8a09-349d9b25a1d3",
   "metadata": {},
   "outputs": [
    {
     "data": {
      "text/plain": [
       "dtype('float64')"
      ]
     },
     "execution_count": 37,
     "metadata": {},
     "output_type": "execute_result"
    }
   ],
   "source": [
    "y.dtype"
   ]
  },
  {
   "cell_type": "markdown",
   "id": "0a0a1200-c07e-4374-b771-73528a8d542c",
   "metadata": {},
   "source": [
    "- x가 정수로 시작했어도 y는 divide를 사용하고 있기에 알아서 np에서 float64로 지정함"
   ]
  },
  {
   "cell_type": "markdown",
   "id": "e61e2c77-b309-426c-9e61-f4f832dcfbdc",
   "metadata": {},
   "source": [
    "##### `int32` $vs$ `int64`"
   ]
  },
  {
   "cell_type": "code",
   "execution_count": 38,
   "id": "a566d549-0371-4798-bd82-1d0000e063c3",
   "metadata": {},
   "outputs": [],
   "source": [
    "x=np.array([0])"
   ]
  },
  {
   "cell_type": "code",
   "execution_count": 39,
   "id": "e0c2f76f-fdba-44f5-82d1-6c4814a2af2b",
   "metadata": {},
   "outputs": [],
   "source": [
    "x[0]=2147483647"
   ]
  },
  {
   "cell_type": "code",
   "execution_count": 40,
   "id": "495923b2-3e58-4968-ad88-545d8eceaeb2",
   "metadata": {},
   "outputs": [
    {
     "data": {
      "text/plain": [
       "array([2147483647])"
      ]
     },
     "execution_count": 40,
     "metadata": {},
     "output_type": "execute_result"
    }
   ],
   "source": [
    "x"
   ]
  },
  {
   "cell_type": "code",
   "execution_count": 41,
   "id": "42c791ce-e40f-4f8f-b8e0-5b8fc9683267",
   "metadata": {},
   "outputs": [
    {
     "name": "stderr",
     "output_type": "stream",
     "text": [
      "C:\\Users\\ehfus\\AppData\\Local\\Temp/ipykernel_11580/4237261130.py:1: RuntimeWarning: overflow encountered in long_scalars\n",
      "  x[0]=x[0]+1\n"
     ]
    }
   ],
   "source": [
    "x[0]=x[0]+1"
   ]
  },
  {
   "cell_type": "markdown",
   "id": "b01f459b-7a9b-4a9f-8978-f67802d81c15",
   "metadata": {},
   "source": [
    "- 2147483647은 int32에서 수용할 수 있는 최대의 숫자임, 따라서 여기서 1만 더해주더라도 수용하지 못하게 됨"
   ]
  },
  {
   "cell_type": "code",
   "execution_count": 42,
   "id": "943ee508-3ba6-41b2-87f2-3656ab449757",
   "metadata": {},
   "outputs": [],
   "source": [
    "x=np.array([0],'int64')"
   ]
  },
  {
   "cell_type": "code",
   "execution_count": 43,
   "id": "d797b61a-c763-421d-8fbe-588b3b3d6585",
   "metadata": {},
   "outputs": [],
   "source": [
    "x[0]=2147483647"
   ]
  },
  {
   "cell_type": "code",
   "execution_count": 44,
   "id": "0164b931-e5cb-4f22-981f-1ec93aef7513",
   "metadata": {},
   "outputs": [
    {
     "data": {
      "text/plain": [
       "2147483648"
      ]
     },
     "execution_count": 44,
     "metadata": {},
     "output_type": "execute_result"
    }
   ],
   "source": [
    "x[0]+1"
   ]
  },
  {
   "cell_type": "markdown",
   "id": "2e1bef18-b1c9-4a92-954f-b0664cb56c37",
   "metadata": {},
   "source": [
    "- dtype을 int64로 바꿨기 때문에 int32에서 최대였던 것보다 더 수용할 수 있게 됨"
   ]
  },
  {
   "cell_type": "code",
   "execution_count": 45,
   "id": "bd8580bb-9956-45f4-b119-ac43bdb13116",
   "metadata": {},
   "outputs": [],
   "source": [
    "a=np.array([10,'abc',20]) # 꼭 list형태로 줘야 함    "
   ]
  },
  {
   "cell_type": "code",
   "execution_count": 46,
   "id": "33613caf-2f1a-44eb-8e06-972b8e884f65",
   "metadata": {},
   "outputs": [
    {
     "data": {
      "text/plain": [
       "dtype('<U11')"
      ]
     },
     "execution_count": 46,
     "metadata": {},
     "output_type": "execute_result"
    }
   ],
   "source": [
    "a.dtype #섞여있음"
   ]
  },
  {
   "cell_type": "code",
   "execution_count": 48,
   "id": "b9d69a92-5836-4621-a515-f78041e863c7",
   "metadata": {},
   "outputs": [],
   "source": [
    "# a*2"
   ]
  },
  {
   "cell_type": "markdown",
   "id": "61d47b3b-aca0-45c1-b3e1-e72017a835ad",
   "metadata": {},
   "source": [
    "- 섞여있으면 이런 연산은 불가"
   ]
  },
  {
   "cell_type": "code",
   "execution_count": 49,
   "id": "5f9bef9f-b1db-4658-9ad3-834f43d4e5e5",
   "metadata": {},
   "outputs": [],
   "source": [
    "a=np.array([[10,20,30],[40,50,60]])"
   ]
  },
  {
   "cell_type": "code",
   "execution_count": 50,
   "id": "4516f6cb-df5d-452d-b0c1-780abc668039",
   "metadata": {},
   "outputs": [
    {
     "data": {
      "text/plain": [
       "array([[10, 20, 30],\n",
       "       [40, 50, 60]])"
      ]
     },
     "execution_count": 50,
     "metadata": {},
     "output_type": "execute_result"
    }
   ],
   "source": [
    "a # 2차원"
   ]
  },
  {
   "cell_type": "code",
   "execution_count": 51,
   "id": "c3acc6c8-4549-4659-86c2-6463b8d6fe96",
   "metadata": {},
   "outputs": [
    {
     "data": {
      "text/plain": [
       "(2, 3)"
      ]
     },
     "execution_count": 51,
     "metadata": {},
     "output_type": "execute_result"
    }
   ],
   "source": [
    "a.shape # 2x3행렬로 해석해도 될듯"
   ]
  },
  {
   "cell_type": "code",
   "execution_count": 53,
   "id": "f3d6263a-ab54-4b83-8464-1bd5d6317835",
   "metadata": {},
   "outputs": [
    {
     "data": {
      "text/plain": [
       "6"
      ]
     },
     "execution_count": 53,
     "metadata": {},
     "output_type": "execute_result"
    }
   ],
   "source": [
    "a.size"
   ]
  },
  {
   "cell_type": "code",
   "execution_count": 54,
   "id": "cf29e1e7-33b8-4997-8dd5-a53b6d3c4e14",
   "metadata": {},
   "outputs": [],
   "source": [
    "a=np.array([[10,20,30],[40,50,60],[5,6,8]])"
   ]
  },
  {
   "cell_type": "code",
   "execution_count": 55,
   "id": "92c83f10-74c6-4e6f-9074-5155d2fb00a8",
   "metadata": {},
   "outputs": [
    {
     "data": {
      "text/plain": [
       "array([[10, 20, 30],\n",
       "       [40, 50, 60],\n",
       "       [ 5,  6,  8]])"
      ]
     },
     "execution_count": 55,
     "metadata": {},
     "output_type": "execute_result"
    }
   ],
   "source": [
    "a"
   ]
  },
  {
   "cell_type": "code",
   "execution_count": 56,
   "id": "cb9ff494-e855-4bb2-90fb-3d65acbe2aef",
   "metadata": {},
   "outputs": [
    {
     "data": {
      "text/plain": [
       "9"
      ]
     },
     "execution_count": 56,
     "metadata": {},
     "output_type": "execute_result"
    }
   ],
   "source": [
    "a.size"
   ]
  },
  {
   "cell_type": "code",
   "execution_count": 57,
   "id": "4970c292-4784-4c6f-b2d4-9f32ec3916b0",
   "metadata": {},
   "outputs": [],
   "source": [
    "a=np.array([[10,20,30],\n",
    "            [40,50,60],\n",
    "           [55,54,88]\n",
    "            ,[112,123,41]])"
   ]
  },
  {
   "cell_type": "code",
   "execution_count": 58,
   "id": "4ccbaf2b-f8ae-4dca-a337-e3113cb1a943",
   "metadata": {},
   "outputs": [
    {
     "data": {
      "text/plain": [
       "array([[ 10,  20,  30],\n",
       "       [ 40,  50,  60],\n",
       "       [ 55,  54,  88],\n",
       "       [112, 123,  41]])"
      ]
     },
     "execution_count": 58,
     "metadata": {},
     "output_type": "execute_result"
    }
   ],
   "source": [
    "a"
   ]
  },
  {
   "cell_type": "code",
   "execution_count": 59,
   "id": "625d961f-7146-41b0-b928-31529c7ba0a1",
   "metadata": {},
   "outputs": [
    {
     "data": {
      "text/plain": [
       "2"
      ]
     },
     "execution_count": 59,
     "metadata": {},
     "output_type": "execute_result"
    }
   ],
   "source": [
    "a.ndim"
   ]
  },
  {
   "cell_type": "code",
   "execution_count": 60,
   "id": "6b775821-ffef-4ef1-b6a6-b33dd910e557",
   "metadata": {},
   "outputs": [
    {
     "data": {
      "text/plain": [
       "(4, 3)"
      ]
     },
     "execution_count": 60,
     "metadata": {},
     "output_type": "execute_result"
    }
   ],
   "source": [
    "a.shape"
   ]
  },
  {
   "cell_type": "code",
   "execution_count": 61,
   "id": "098e23d4-5049-4ca0-9099-6e8c2f0f6c7d",
   "metadata": {},
   "outputs": [],
   "source": [
    "a=np.array([10+10j,10+60j])"
   ]
  },
  {
   "cell_type": "code",
   "execution_count": 62,
   "id": "901d552d-acc4-41d5-9a27-e5815c13bbda",
   "metadata": {},
   "outputs": [
    {
     "data": {
      "text/plain": [
       "array([10.+10.j, 10.+60.j])"
      ]
     },
     "execution_count": 62,
     "metadata": {},
     "output_type": "execute_result"
    }
   ],
   "source": [
    "a"
   ]
  },
  {
   "cell_type": "code",
   "execution_count": 63,
   "id": "9b6c4766-2383-45d0-89bc-b3f230c9ac86",
   "metadata": {},
   "outputs": [],
   "source": [
    "a=np.array([10,20],'complex')"
   ]
  },
  {
   "cell_type": "code",
   "execution_count": 64,
   "id": "c23d6433-a552-487a-90b6-c77c86e568e4",
   "metadata": {},
   "outputs": [
    {
     "data": {
      "text/plain": [
       "array([10.+0.j, 20.+0.j])"
      ]
     },
     "execution_count": 64,
     "metadata": {},
     "output_type": "execute_result"
    }
   ],
   "source": [
    "a"
   ]
  },
  {
   "cell_type": "markdown",
   "id": "7db11dc8-fb7a-461c-9340-6402681db03a",
   "metadata": {},
   "source": [
    "---"
   ]
  },
  {
   "cell_type": "code",
   "execution_count": 65,
   "id": "477a8806-932c-4a53-8f7e-59f1ba60cccf",
   "metadata": {},
   "outputs": [],
   "source": [
    "a=np.array([10,20])"
   ]
  },
  {
   "cell_type": "code",
   "execution_count": 66,
   "id": "4e86964f-10c9-4d25-9681-dec51ece0a0c",
   "metadata": {},
   "outputs": [],
   "source": [
    "b=np.matrix([10,20])"
   ]
  },
  {
   "cell_type": "code",
   "execution_count": 67,
   "id": "7f1f4b6f-59f8-459d-abcd-65d7c69296e1",
   "metadata": {},
   "outputs": [
    {
     "data": {
      "text/plain": [
       "1"
      ]
     },
     "execution_count": 67,
     "metadata": {},
     "output_type": "execute_result"
    }
   ],
   "source": [
    "a.ndim"
   ]
  },
  {
   "cell_type": "code",
   "execution_count": 68,
   "id": "76d8051a-f9c7-4dfc-986c-a146ecd2c85c",
   "metadata": {},
   "outputs": [
    {
     "data": {
      "text/plain": [
       "2"
      ]
     },
     "execution_count": 68,
     "metadata": {},
     "output_type": "execute_result"
    }
   ],
   "source": [
    "b.ndim"
   ]
  },
  {
   "cell_type": "code",
   "execution_count": 69,
   "id": "1213b54b-4925-459c-a9fb-747b9e06b875",
   "metadata": {},
   "outputs": [],
   "source": [
    "# b=np.matrix([[[10]]])\n",
    "# error = > matrix는 2차원만 가능"
   ]
  },
  {
   "cell_type": "code",
   "execution_count": 70,
   "id": "f17ec37a-4799-4a04-9f98-bdccb2876725",
   "metadata": {},
   "outputs": [],
   "source": [
    "a=np.array([10,20,30])"
   ]
  },
  {
   "cell_type": "code",
   "execution_count": 71,
   "id": "c41aa5cb-8e48-4524-bacd-f890a5f01109",
   "metadata": {},
   "outputs": [],
   "source": [
    "a=np.insert(a,2,5)\n",
    "# a라는 np.array의 2번째 인덱스에 5를 넣어라"
   ]
  },
  {
   "cell_type": "code",
   "execution_count": 72,
   "id": "f41edaeb-37c3-46d3-b228-2fe8e01c546e",
   "metadata": {},
   "outputs": [
    {
     "data": {
      "text/plain": [
       "array([10, 20,  5, 30])"
      ]
     },
     "execution_count": 72,
     "metadata": {},
     "output_type": "execute_result"
    }
   ],
   "source": [
    "a"
   ]
  },
  {
   "cell_type": "code",
   "execution_count": 75,
   "id": "af876e0f-4ef4-452c-8e09-35cc5b21e69e",
   "metadata": {},
   "outputs": [],
   "source": [
    "a=np.delete(a,2)"
   ]
  },
  {
   "cell_type": "code",
   "execution_count": 76,
   "id": "a5e8512f-5cf6-4aaf-8db9-3da5f6ff6bed",
   "metadata": {},
   "outputs": [
    {
     "data": {
      "text/plain": [
       "array([10, 20, 30])"
      ]
     },
     "execution_count": 76,
     "metadata": {},
     "output_type": "execute_result"
    }
   ],
   "source": [
    "a # 두번째 인덱스 삭제"
   ]
  },
  {
   "cell_type": "code",
   "execution_count": 77,
   "id": "7fe18e27-ec12-483b-8616-ee65cadce2f7",
   "metadata": {},
   "outputs": [],
   "source": [
    "a=np.array([1,2,3])"
   ]
  },
  {
   "cell_type": "code",
   "execution_count": 89,
   "id": "9dd68e54-80dc-455c-bafb-00b8e8367cd9",
   "metadata": {},
   "outputs": [],
   "source": [
    "a=np.arange(3)"
   ]
  },
  {
   "cell_type": "code",
   "execution_count": 90,
   "id": "1895ba94-c554-433a-a99c-516584ead383",
   "metadata": {},
   "outputs": [
    {
     "data": {
      "text/plain": [
       "array([0, 1, 2])"
      ]
     },
     "execution_count": 90,
     "metadata": {},
     "output_type": "execute_result"
    }
   ],
   "source": [
    "a # 0부터 시작해서 숫자 3개를 채워줌"
   ]
  },
  {
   "cell_type": "code",
   "execution_count": 91,
   "id": "fb63d8a8-8388-4381-a288-18283b0818fa",
   "metadata": {},
   "outputs": [],
   "source": [
    "a=np.zeros(2)"
   ]
  },
  {
   "cell_type": "code",
   "execution_count": 92,
   "id": "e05777db-58d3-45a2-befc-5d0dbf5c601b",
   "metadata": {},
   "outputs": [
    {
     "data": {
      "text/plain": [
       "array([0., 0.])"
      ]
     },
     "execution_count": 92,
     "metadata": {},
     "output_type": "execute_result"
    }
   ],
   "source": [
    "a"
   ]
  },
  {
   "cell_type": "code",
   "execution_count": 93,
   "id": "854ffa32-940d-4bec-831c-25b72c11b7e7",
   "metadata": {},
   "outputs": [],
   "source": [
    "a=np.zeros((2,3))"
   ]
  },
  {
   "cell_type": "code",
   "execution_count": 94,
   "id": "383cbcb9-7b99-409a-a07e-6518bed1f8b7",
   "metadata": {},
   "outputs": [
    {
     "data": {
      "text/plain": [
       "array([[0., 0., 0.],\n",
       "       [0., 0., 0.]])"
      ]
     },
     "execution_count": 94,
     "metadata": {},
     "output_type": "execute_result"
    }
   ],
   "source": [
    "a"
   ]
  },
  {
   "cell_type": "code",
   "execution_count": 95,
   "id": "c6c4970c-153f-43c2-8818-a9bda8a544f7",
   "metadata": {},
   "outputs": [],
   "source": [
    "a=np.ones((2,3))"
   ]
  },
  {
   "cell_type": "code",
   "execution_count": 96,
   "id": "2dbdc55b-dba4-4ebf-9045-1acbc356e643",
   "metadata": {},
   "outputs": [
    {
     "data": {
      "text/plain": [
       "array([[1., 1., 1.],\n",
       "       [1., 1., 1.]])"
      ]
     },
     "execution_count": 96,
     "metadata": {},
     "output_type": "execute_result"
    }
   ],
   "source": [
    "a"
   ]
  },
  {
   "cell_type": "code",
   "execution_count": 99,
   "id": "947b12fe-2cb0-4b08-a531-269c60c90626",
   "metadata": {},
   "outputs": [],
   "source": [
    "a=np.logspace(0,5,4) # log scale로!"
   ]
  },
  {
   "cell_type": "code",
   "execution_count": 101,
   "id": "6dd92c14-d772-4b99-a468-31a5f457f0d9",
   "metadata": {},
   "outputs": [
    {
     "data": {
      "text/plain": [
       "array([1.00000000e+00, 4.64158883e+01, 2.15443469e+03, 1.00000000e+05])"
      ]
     },
     "execution_count": 101,
     "metadata": {},
     "output_type": "execute_result"
    }
   ],
   "source": [
    "a"
   ]
  },
  {
   "cell_type": "markdown",
   "id": "e242bbf1-819b-4c9e-8aac-01ec855d79f9",
   "metadata": {},
   "source": [
    "---"
   ]
  },
  {
   "cell_type": "code",
   "execution_count": 102,
   "id": "990c33cd-df76-4058-91b9-3e5ab08023b8",
   "metadata": {},
   "outputs": [],
   "source": [
    "a=np.array([10,20,30])\n",
    "b=np.array([1,2,3])"
   ]
  },
  {
   "cell_type": "code",
   "execution_count": 103,
   "id": "c4412409-8aee-4a5f-9ec2-856e8e3564f7",
   "metadata": {},
   "outputs": [
    {
     "data": {
      "text/plain": [
       "array([11, 22, 33])"
      ]
     },
     "execution_count": 103,
     "metadata": {},
     "output_type": "execute_result"
    }
   ],
   "source": [
    "a+b"
   ]
  },
  {
   "cell_type": "code",
   "execution_count": 104,
   "id": "58964757-fde3-469a-a85e-8008f5fcb4f3",
   "metadata": {},
   "outputs": [
    {
     "data": {
      "text/plain": [
       "array([ 9, 18, 27])"
      ]
     },
     "execution_count": 104,
     "metadata": {},
     "output_type": "execute_result"
    }
   ],
   "source": [
    "a-b"
   ]
  },
  {
   "cell_type": "code",
   "execution_count": 105,
   "id": "ac3093c7-011a-42f2-b0e6-22a0d6ef342b",
   "metadata": {},
   "outputs": [
    {
     "data": {
      "text/plain": [
       "array([ -9, -18, -27])"
      ]
     },
     "execution_count": 105,
     "metadata": {},
     "output_type": "execute_result"
    }
   ],
   "source": [
    "b-a"
   ]
  },
  {
   "cell_type": "code",
   "execution_count": 106,
   "id": "ceb178dc-81cc-4f05-b148-8eedf01f0019",
   "metadata": {},
   "outputs": [
    {
     "data": {
      "text/plain": [
       "array([10, 40, 90])"
      ]
     },
     "execution_count": 106,
     "metadata": {},
     "output_type": "execute_result"
    }
   ],
   "source": [
    "a*b"
   ]
  },
  {
   "cell_type": "code",
   "execution_count": 107,
   "id": "6cdc6ee8-2ea2-4604-a9fb-c7a8f2074309",
   "metadata": {},
   "outputs": [
    {
     "data": {
      "text/plain": [
       "array([10., 10., 10.])"
      ]
     },
     "execution_count": 107,
     "metadata": {},
     "output_type": "execute_result"
    }
   ],
   "source": [
    "a/b"
   ]
  },
  {
   "cell_type": "code",
   "execution_count": 108,
   "id": "8d82bd6f-da71-433e-93bb-b51a1ef2e46b",
   "metadata": {},
   "outputs": [],
   "source": [
    "c=a**2"
   ]
  },
  {
   "cell_type": "code",
   "execution_count": 109,
   "id": "3ad9dc72-efcb-4c8c-a3d2-f83db9d861b7",
   "metadata": {},
   "outputs": [
    {
     "data": {
      "text/plain": [
       "array([100, 400, 900], dtype=int32)"
      ]
     },
     "execution_count": 109,
     "metadata": {},
     "output_type": "execute_result"
    }
   ],
   "source": [
    "c"
   ]
  },
  {
   "cell_type": "code",
   "execution_count": 110,
   "id": "88544bf0-bb54-48a9-b24f-9e477af12126",
   "metadata": {},
   "outputs": [],
   "source": [
    "idx=a<20"
   ]
  },
  {
   "cell_type": "code",
   "execution_count": 111,
   "id": "d9b7115b-982f-452e-bd8a-a417cbe22421",
   "metadata": {},
   "outputs": [
    {
     "data": {
      "text/plain": [
       "array([ True, False, False])"
      ]
     },
     "execution_count": 111,
     "metadata": {},
     "output_type": "execute_result"
    }
   ],
   "source": [
    "idx"
   ]
  },
  {
   "cell_type": "code",
   "execution_count": 112,
   "id": "9a12e671-ce3f-42e9-a074-2858a919f8af",
   "metadata": {},
   "outputs": [],
   "source": [
    "a=a+1"
   ]
  },
  {
   "cell_type": "code",
   "execution_count": 113,
   "id": "5be51a9f-d9f9-4047-ae1b-613278f67ee8",
   "metadata": {},
   "outputs": [
    {
     "data": {
      "text/plain": [
       "array([11, 21, 31])"
      ]
     },
     "execution_count": 113,
     "metadata": {},
     "output_type": "execute_result"
    }
   ],
   "source": [
    "a"
   ]
  },
  {
   "cell_type": "code",
   "execution_count": 114,
   "id": "7272926a-5a2b-4cf0-a800-660e54333922",
   "metadata": {},
   "outputs": [],
   "source": [
    "a+=1"
   ]
  },
  {
   "cell_type": "code",
   "execution_count": 115,
   "id": "fed6db5b-0345-4ab2-be70-aa07337f3833",
   "metadata": {},
   "outputs": [
    {
     "data": {
      "text/plain": [
       "array([12, 22, 32])"
      ]
     },
     "execution_count": 115,
     "metadata": {},
     "output_type": "execute_result"
    }
   ],
   "source": [
    "a"
   ]
  },
  {
   "cell_type": "code",
   "execution_count": 116,
   "id": "1c9243fe-d05b-4a16-8927-3d6dfbccedc3",
   "metadata": {},
   "outputs": [],
   "source": [
    "a*=2"
   ]
  },
  {
   "cell_type": "code",
   "execution_count": 117,
   "id": "b11e4558-2a34-4df3-b39d-669595a91861",
   "metadata": {},
   "outputs": [
    {
     "data": {
      "text/plain": [
       "array([24, 44, 64])"
      ]
     },
     "execution_count": 117,
     "metadata": {},
     "output_type": "execute_result"
    }
   ],
   "source": [
    "a"
   ]
  },
  {
   "cell_type": "code",
   "execution_count": 118,
   "id": "c7ba3d37-cbd0-4d7b-9cf7-03c559bde387",
   "metadata": {},
   "outputs": [],
   "source": [
    "a=a*2"
   ]
  },
  {
   "cell_type": "code",
   "execution_count": 119,
   "id": "4143580c-731d-442d-904c-8a9eaaf9793d",
   "metadata": {},
   "outputs": [
    {
     "data": {
      "text/plain": [
       "array([ 48,  88, 128])"
      ]
     },
     "execution_count": 119,
     "metadata": {},
     "output_type": "execute_result"
    }
   ],
   "source": [
    "a"
   ]
  },
  {
   "cell_type": "code",
   "execution_count": 125,
   "id": "11d60bcc-69cf-45e7-a740-38238fcc337b",
   "metadata": {},
   "outputs": [],
   "source": [
    "a=np.array([10,50,9]) # int\n",
    "b=np.array([50.,5.,8.]) #float"
   ]
  },
  {
   "cell_type": "code",
   "execution_count": 126,
   "id": "1409b2a8-dc44-47e1-bb47-fb3d61b6beda",
   "metadata": {},
   "outputs": [],
   "source": [
    "a=a+b"
   ]
  },
  {
   "cell_type": "code",
   "execution_count": 127,
   "id": "9ce26827-2adb-4306-a8e8-4c49b9524ff2",
   "metadata": {},
   "outputs": [
    {
     "data": {
      "text/plain": [
       "array([60., 55., 17.])"
      ]
     },
     "execution_count": 127,
     "metadata": {},
     "output_type": "execute_result"
    }
   ],
   "source": [
    "a"
   ]
  },
  {
   "cell_type": "code",
   "execution_count": 129,
   "id": "d4b88509-dfb4-4297-b2c4-15a4033d7ca3",
   "metadata": {},
   "outputs": [],
   "source": [
    "# a+=b\n",
    "# a에b를 더해서 a를 업데이트 하는 건 자료형이 달라서 안 된다고 함\n",
    "# 되게 하려면 자료형을 맞춰주면 됨"
   ]
  },
  {
   "cell_type": "code",
   "execution_count": 130,
   "id": "238a6ef6-66f5-4ed5-9d1e-5bf853b52f49",
   "metadata": {},
   "outputs": [],
   "source": [
    "c=a+b # 이건 됨"
   ]
  },
  {
   "cell_type": "code",
   "execution_count": 131,
   "id": "75031025-5794-4b2f-a2dd-95c2f64c7518",
   "metadata": {},
   "outputs": [
    {
     "data": {
      "text/plain": [
       "array([110.,  60.,  25.])"
      ]
     },
     "execution_count": 131,
     "metadata": {},
     "output_type": "execute_result"
    }
   ],
   "source": [
    "c"
   ]
  },
  {
   "cell_type": "markdown",
   "id": "d77dc585-a042-451f-b77e-09cdad34dadf",
   "metadata": {},
   "source": [
    "----"
   ]
  },
  {
   "cell_type": "code",
   "execution_count": 132,
   "id": "d1ca4fcf-872f-4ae7-acb1-f932687b3085",
   "metadata": {},
   "outputs": [],
   "source": [
    "a=np.array([10,50,9]) \n",
    "b=np.array([50,5,8]) "
   ]
  },
  {
   "cell_type": "code",
   "execution_count": 133,
   "id": "e3ad718b-7b80-4ba1-8a98-ddca52568ce8",
   "metadata": {},
   "outputs": [
    {
     "data": {
      "text/plain": [
       "array([60, 55, 17])"
      ]
     },
     "execution_count": 133,
     "metadata": {},
     "output_type": "execute_result"
    }
   ],
   "source": [
    "np.add(a,b)"
   ]
  },
  {
   "cell_type": "code",
   "execution_count": 134,
   "id": "366e011e-60d4-417e-849b-d65e9e231c99",
   "metadata": {},
   "outputs": [
    {
     "data": {
      "text/plain": [
       "array([-40,  45,   1])"
      ]
     },
     "execution_count": 134,
     "metadata": {},
     "output_type": "execute_result"
    }
   ],
   "source": [
    "np.subtract(a,b)"
   ]
  },
  {
   "cell_type": "code",
   "execution_count": 135,
   "id": "972fdf14-ba4b-47a3-aa89-7e4bd136378a",
   "metadata": {},
   "outputs": [
    {
     "data": {
      "text/plain": [
       "array([ 0.2  , 10.   ,  1.125])"
      ]
     },
     "execution_count": 135,
     "metadata": {},
     "output_type": "execute_result"
    }
   ],
   "source": [
    "np.divide(a,b)"
   ]
  },
  {
   "cell_type": "code",
   "execution_count": 136,
   "id": "0ec88a02-06b5-45a7-977a-2af1cb359ab2",
   "metadata": {},
   "outputs": [
    {
     "data": {
      "text/plain": [
       "array([500, 250,  72])"
      ]
     },
     "execution_count": 136,
     "metadata": {},
     "output_type": "execute_result"
    }
   ],
   "source": [
    "np.multiply(a,b)"
   ]
  },
  {
   "cell_type": "code",
   "execution_count": 139,
   "id": "8fd89a0c-715a-4fe3-9a7d-61b2d4b2c838",
   "metadata": {},
   "outputs": [
    {
     "data": {
      "text/plain": [
       "(array([[0, 2, 0],\n",
       "        [0, 0, 0]], dtype=int32),\n",
       " array([[ 0,  0,  1],\n",
       "        [10,  0,  1]], dtype=int32))"
      ]
     },
     "execution_count": 139,
     "metadata": {},
     "output_type": "execute_result"
    }
   ],
   "source": [
    "np.divmod(a,b) # 몫과 나머지 "
   ]
  },
  {
   "cell_type": "code",
   "execution_count": 140,
   "id": "9817c2f5-65da-4ca1-9342-c344934c40be",
   "metadata": {},
   "outputs": [
    {
     "data": {
      "text/plain": [
       "array([5.18470553e+21, 1.48413159e+02, 2.98095799e+03])"
      ]
     },
     "execution_count": 140,
     "metadata": {},
     "output_type": "execute_result"
    }
   ],
   "source": [
    "np.exp(b)"
   ]
  },
  {
   "cell_type": "code",
   "execution_count": 141,
   "id": "cc41e1c2-81d4-4c89-b25f-cecc731f61d0",
   "metadata": {},
   "outputs": [
    {
     "data": {
      "text/plain": [
       "array([[0.        , 3.16227766, 1.        ],\n",
       "       [3.16227766, 0.        , 1.        ]])"
      ]
     },
     "execution_count": 141,
     "metadata": {},
     "output_type": "execute_result"
    }
   ],
   "source": [
    "np.sqrt(a)"
   ]
  },
  {
   "cell_type": "markdown",
   "id": "5d41ff0e-5e75-47c5-a6a0-8aac6535ecc3",
   "metadata": {},
   "source": [
    "----"
   ]
  },
  {
   "cell_type": "code",
   "execution_count": 142,
   "id": "fd7488f8-df9b-4428-aead-ac52ebade30e",
   "metadata": {},
   "outputs": [],
   "source": [
    "a=np.array([10,20,3])"
   ]
  },
  {
   "cell_type": "code",
   "execution_count": 150,
   "id": "6da3a3c7-ed5c-4851-aed4-6cf4d9d66aae",
   "metadata": {},
   "outputs": [
    {
     "data": {
      "text/plain": [
       "11.0"
      ]
     },
     "execution_count": 150,
     "metadata": {},
     "output_type": "execute_result"
    }
   ],
   "source": [
    "np.mean(a)"
   ]
  },
  {
   "cell_type": "code",
   "execution_count": 151,
   "id": "b9e090a9-0bf1-46e4-8300-efb38c6ba3bb",
   "metadata": {},
   "outputs": [
    {
     "data": {
      "text/plain": [
       "11.0"
      ]
     },
     "execution_count": 151,
     "metadata": {},
     "output_type": "execute_result"
    }
   ],
   "source": [
    "a.mean()"
   ]
  },
  {
   "cell_type": "code",
   "execution_count": 152,
   "id": "cba806cc-37b6-47ff-bbe2-7895b301595e",
   "metadata": {},
   "outputs": [
    {
     "data": {
      "text/plain": [
       "11.0"
      ]
     },
     "execution_count": 152,
     "metadata": {},
     "output_type": "execute_result"
    }
   ],
   "source": [
    "# 가중치 줘서 평균 구할 때 사용\n",
    "np.average(a)"
   ]
  },
  {
   "cell_type": "code",
   "execution_count": 153,
   "id": "35fd4e79-c95d-4466-a879-ff56379af459",
   "metadata": {},
   "outputs": [
    {
     "data": {
      "text/plain": [
       "11.0"
      ]
     },
     "execution_count": 153,
     "metadata": {},
     "output_type": "execute_result"
    }
   ],
   "source": [
    "# 머신러닝 학습시 가중치 주는 법\n",
    "np.average(a,weights=[1,1,1])"
   ]
  },
  {
   "cell_type": "code",
   "execution_count": 154,
   "id": "5c561cad-9cea-4903-8f9d-e1375982ed80",
   "metadata": {},
   "outputs": [
    {
     "data": {
      "text/plain": [
       "15.0"
      ]
     },
     "execution_count": 154,
     "metadata": {},
     "output_type": "execute_result"
    }
   ],
   "source": [
    "np.average(a,weights=[1,1,0])"
   ]
  },
  {
   "cell_type": "code",
   "execution_count": 155,
   "id": "728e070d-ebec-4dd1-a959-e95d2fafb4da",
   "metadata": {},
   "outputs": [
    {
     "data": {
      "text/plain": [
       "11.5"
      ]
     },
     "execution_count": 155,
     "metadata": {},
     "output_type": "execute_result"
    }
   ],
   "source": [
    "np.average(a,weights=[0,1,1])"
   ]
  },
  {
   "cell_type": "code",
   "execution_count": 156,
   "id": "0b3701ae-f71d-46ed-bf89-a9b5731e9998",
   "metadata": {},
   "outputs": [
    {
     "data": {
      "text/plain": [
       "10.0"
      ]
     },
     "execution_count": 156,
     "metadata": {},
     "output_type": "execute_result"
    }
   ],
   "source": [
    "np.median(a)"
   ]
  },
  {
   "cell_type": "code",
   "execution_count": 157,
   "id": "5ee9f694-635c-4502-9376-24891e4c211a",
   "metadata": {},
   "outputs": [
    {
     "data": {
      "text/plain": [
       "array([10, 30, 33], dtype=int32)"
      ]
     },
     "execution_count": 157,
     "metadata": {},
     "output_type": "execute_result"
    }
   ],
   "source": [
    "np.cumsum(a)\n",
    "# 앞에 있는 숫자들을 더해주는 것"
   ]
  },
  {
   "cell_type": "code",
   "execution_count": 159,
   "id": "57911709-bae0-42db-9168-19046c256357",
   "metadata": {},
   "outputs": [
    {
     "data": {
      "text/plain": [
       "array(73.)"
      ]
     },
     "execution_count": 159,
     "metadata": {},
     "output_type": "execute_result"
    }
   ],
   "source": [
    "# 공분산\n",
    "np.cov(a)"
   ]
  },
  {
   "cell_type": "code",
   "execution_count": 160,
   "id": "0cb967a2-a85c-41e1-8c04-d44884d0bc7b",
   "metadata": {},
   "outputs": [
    {
     "data": {
      "text/plain": [
       "6.97614984548545"
      ]
     },
     "execution_count": 160,
     "metadata": {},
     "output_type": "execute_result"
    }
   ],
   "source": [
    "# 표준편차\n",
    "np.std(a)"
   ]
  },
  {
   "cell_type": "code",
   "execution_count": 162,
   "id": "ab217fff-e13e-4004-9d7c-29b68d0ad114",
   "metadata": {},
   "outputs": [
    {
     "data": {
      "text/plain": [
       "48.666666666666664"
      ]
     },
     "execution_count": 162,
     "metadata": {},
     "output_type": "execute_result"
    }
   ],
   "source": [
    "# 분산\n",
    "np.var(a)"
   ]
  },
  {
   "cell_type": "code",
   "execution_count": 163,
   "id": "9950944e-66be-4ef6-88bf-6780dc2771ee",
   "metadata": {},
   "outputs": [],
   "source": [
    "x=np.array([10,20,30])"
   ]
  },
  {
   "cell_type": "code",
   "execution_count": 164,
   "id": "f65535bd-d708-4510-8b2b-7bbfd2a40956",
   "metadata": {},
   "outputs": [
    {
     "data": {
      "text/plain": [
       "60"
      ]
     },
     "execution_count": 164,
     "metadata": {},
     "output_type": "execute_result"
    }
   ],
   "source": [
    "x.sum()"
   ]
  },
  {
   "cell_type": "code",
   "execution_count": 165,
   "id": "1442caa6-640d-49c6-b62b-aa1fee308fb2",
   "metadata": {},
   "outputs": [],
   "source": [
    "x=np.array([10.,40.,20.,5.,15.])"
   ]
  },
  {
   "cell_type": "code",
   "execution_count": 166,
   "id": "c6f1d6bf-3888-4812-84cb-86e36d7fdcd2",
   "metadata": {},
   "outputs": [
    {
     "data": {
      "text/plain": [
       "5.0"
      ]
     },
     "execution_count": 166,
     "metadata": {},
     "output_type": "execute_result"
    }
   ],
   "source": [
    "x.min()"
   ]
  },
  {
   "cell_type": "code",
   "execution_count": 167,
   "id": "bb5fc437-ca84-41e0-86d4-d378abf05390",
   "metadata": {},
   "outputs": [
    {
     "data": {
      "text/plain": [
       "40.0"
      ]
     },
     "execution_count": 167,
     "metadata": {},
     "output_type": "execute_result"
    }
   ],
   "source": [
    "x.max()"
   ]
  },
  {
   "cell_type": "code",
   "execution_count": 168,
   "id": "e590c028-ff3e-4078-80c8-82e7707cbc37",
   "metadata": {},
   "outputs": [
    {
     "data": {
      "text/plain": [
       "3"
      ]
     },
     "execution_count": 168,
     "metadata": {},
     "output_type": "execute_result"
    }
   ],
   "source": [
    "x.argmin() \n",
    "# index 0에 최솟값이 존재함"
   ]
  },
  {
   "cell_type": "code",
   "execution_count": 169,
   "id": "b639d36f-78cb-42ab-8751-9ead5aafb682",
   "metadata": {},
   "outputs": [],
   "source": [
    "# 최솟값과 최솟값의 자릿값을 한 번에 알아보기a\n",
    "x_min,x_min_idx=x.min(),x.argmin()"
   ]
  },
  {
   "cell_type": "code",
   "execution_count": 170,
   "id": "296ec19a-c9bd-436c-8abd-ff9fcca59006",
   "metadata": {},
   "outputs": [
    {
     "data": {
      "text/plain": [
       "35.0"
      ]
     },
     "execution_count": 170,
     "metadata": {},
     "output_type": "execute_result"
    }
   ],
   "source": [
    "# ptp= peak-to-peak\n",
    "# 최솟값과 최댓값의 차이\n",
    "x.ptp()"
   ]
  },
  {
   "cell_type": "code",
   "execution_count": 171,
   "id": "97bfdb3f-84ab-416c-9c6a-e43c1da1e2da",
   "metadata": {},
   "outputs": [],
   "source": [
    "y=np.sort(x)"
   ]
  },
  {
   "cell_type": "code",
   "execution_count": 172,
   "id": "e4dc85de-bbbb-4700-acf0-6b69494f3bc5",
   "metadata": {},
   "outputs": [
    {
     "data": {
      "text/plain": [
       "array([ 5., 10., 15., 20., 40.])"
      ]
     },
     "execution_count": 172,
     "metadata": {},
     "output_type": "execute_result"
    }
   ],
   "source": [
    "y"
   ]
  },
  {
   "cell_type": "code",
   "execution_count": 173,
   "id": "f4fb62d3-0857-4662-8e8c-4c8996da3204",
   "metadata": {},
   "outputs": [],
   "source": [
    "idx = np.argsort(x)"
   ]
  },
  {
   "cell_type": "code",
   "execution_count": 174,
   "id": "5f834a87-605d-40dc-b214-72891765145d",
   "metadata": {},
   "outputs": [
    {
     "data": {
      "text/plain": [
       "array([3, 0, 4, 2, 1], dtype=int64)"
      ]
     },
     "execution_count": 174,
     "metadata": {},
     "output_type": "execute_result"
    }
   ],
   "source": [
    "idx"
   ]
  },
  {
   "cell_type": "code",
   "execution_count": 175,
   "id": "97f2e7fc-83f8-4534-8797-be0f471df412",
   "metadata": {},
   "outputs": [
    {
     "data": {
      "text/plain": [
       "array([ 5., 10., 15., 20., 40.])"
      ]
     },
     "execution_count": 175,
     "metadata": {},
     "output_type": "execute_result"
    }
   ],
   "source": [
    "y"
   ]
  },
  {
   "cell_type": "markdown",
   "id": "16a612e7-ee98-4fde-8210-0c43326e8cc4",
   "metadata": {},
   "source": [
    "- sort된 값들이 원래 어디에 위치해 있었는지"
   ]
  },
  {
   "cell_type": "code",
   "execution_count": 176,
   "id": "135d5fa0-72e4-47dd-aa63-520756be2bdd",
   "metadata": {},
   "outputs": [
    {
     "data": {
      "text/plain": [
       "array([ 5., 10., 15., 20., 40.])"
      ]
     },
     "execution_count": 176,
     "metadata": {},
     "output_type": "execute_result"
    }
   ],
   "source": [
    "x[idx]"
   ]
  },
  {
   "cell_type": "code",
   "execution_count": 177,
   "id": "34c2ff73-0b55-4788-983e-4b62a6b7b700",
   "metadata": {},
   "outputs": [],
   "source": [
    "y=x[idx]"
   ]
  },
  {
   "cell_type": "code",
   "execution_count": 178,
   "id": "2f76fa29-2ce2-481c-a46e-407c5a97cdf4",
   "metadata": {},
   "outputs": [
    {
     "data": {
      "text/plain": [
       "array([ 5., 10., 15., 20., 40.])"
      ]
     },
     "execution_count": 178,
     "metadata": {},
     "output_type": "execute_result"
    }
   ],
   "source": [
    "y"
   ]
  },
  {
   "cell_type": "code",
   "execution_count": 179,
   "id": "ce79e6de-0bfa-4af1-9920-9abb9489eb22",
   "metadata": {},
   "outputs": [],
   "source": [
    "a=np.array([20,10,30])\n",
    "b=np.array([-5,25])"
   ]
  },
  {
   "cell_type": "code",
   "execution_count": 180,
   "id": "9f28e7bb-18fa-48f2-9d27-e9146bf72410",
   "metadata": {},
   "outputs": [
    {
     "data": {
      "text/plain": [
       "array([0, 2], dtype=int64)"
      ]
     },
     "execution_count": 180,
     "metadata": {},
     "output_type": "execute_result"
    }
   ],
   "source": [
    "# b를 a에 넣을 때 어느 자리에 넣어야 sorting이 유지가 되는지?\n",
    "np.searchsorted(a,b)"
   ]
  },
  {
   "cell_type": "code",
   "execution_count": 181,
   "id": "d713b4d5-e039-47d6-b9f7-8629252372a3",
   "metadata": {},
   "outputs": [],
   "source": [
    "d=np.arange(1,7,1)"
   ]
  },
  {
   "cell_type": "code",
   "execution_count": 182,
   "id": "f7eedde9-7402-42db-ad12-53b07603b674",
   "metadata": {},
   "outputs": [
    {
     "data": {
      "text/plain": [
       "array([1, 2, 3, 4, 5, 6])"
      ]
     },
     "execution_count": 182,
     "metadata": {},
     "output_type": "execute_result"
    }
   ],
   "source": [
    "d"
   ]
  },
  {
   "cell_type": "code",
   "execution_count": 183,
   "id": "5b687d15-1420-4f5b-84ae-982ed67ceaa8",
   "metadata": {},
   "outputs": [
    {
     "data": {
      "text/plain": [
       "(6,)"
      ]
     },
     "execution_count": 183,
     "metadata": {},
     "output_type": "execute_result"
    }
   ],
   "source": [
    "d.shape"
   ]
  },
  {
   "cell_type": "code",
   "execution_count": 184,
   "id": "ce80fff0-3e19-4b89-bfa0-7581229e03cc",
   "metadata": {},
   "outputs": [
    {
     "data": {
      "text/plain": [
       "array([[1, 2, 3],\n",
       "       [4, 5, 6]])"
      ]
     },
     "execution_count": 184,
     "metadata": {},
     "output_type": "execute_result"
    }
   ],
   "source": [
    "d.reshape(2,3)"
   ]
  },
  {
   "cell_type": "code",
   "execution_count": 186,
   "id": "6f51c462-4033-4d84-8acf-c662a53612ab",
   "metadata": {},
   "outputs": [
    {
     "data": {
      "text/plain": [
       "array([[1],\n",
       "       [2],\n",
       "       [3],\n",
       "       [4],\n",
       "       [5],\n",
       "       [6]])"
      ]
     },
     "execution_count": 186,
     "metadata": {},
     "output_type": "execute_result"
    }
   ],
   "source": [
    "d.reshape(-1,1)"
   ]
  },
  {
   "cell_type": "code",
   "execution_count": 187,
   "id": "47d25f14-2b67-4d38-a529-36b4325bbcce",
   "metadata": {},
   "outputs": [
    {
     "data": {
      "text/plain": [
       "array([[1, 2],\n",
       "       [3, 4],\n",
       "       [5, 6]])"
      ]
     },
     "execution_count": 187,
     "metadata": {},
     "output_type": "execute_result"
    }
   ],
   "source": [
    "d.reshape(-1,2)"
   ]
  },
  {
   "cell_type": "code",
   "execution_count": 188,
   "id": "9a687d21-d938-4c02-9ad9-6bd33e35526b",
   "metadata": {},
   "outputs": [
    {
     "data": {
      "text/plain": [
       "array([[1, 2, 3, 4, 5, 6]])"
      ]
     },
     "execution_count": 188,
     "metadata": {},
     "output_type": "execute_result"
    }
   ],
   "source": [
    "d.reshape(1,-1)"
   ]
  },
  {
   "cell_type": "code",
   "execution_count": 193,
   "id": "4bc4a992-a07d-4076-b331-0bfb9e2b9011",
   "metadata": {},
   "outputs": [
    {
     "data": {
      "text/plain": [
       "array([[1, 2, 3],\n",
       "       [4, 5, 6]])"
      ]
     },
     "execution_count": 193,
     "metadata": {},
     "output_type": "execute_result"
    }
   ],
   "source": [
    "d.reshape(2,-1)"
   ]
  },
  {
   "cell_type": "markdown",
   "id": "96e148fc-b384-450e-b868-0d03e328dffc",
   "metadata": {},
   "source": [
    "- d 자체를 바꿔주는 건 아님"
   ]
  },
  {
   "cell_type": "code",
   "execution_count": 194,
   "id": "b67b215e-1134-4f62-9bad-53ea10091b25",
   "metadata": {},
   "outputs": [],
   "source": [
    "e=d.reshape(2,3)"
   ]
  },
  {
   "cell_type": "code",
   "execution_count": 195,
   "id": "317848be-9203-4bbc-8ab4-811b10321dde",
   "metadata": {},
   "outputs": [],
   "source": [
    "f=np.linspace(1,10,10)"
   ]
  },
  {
   "cell_type": "code",
   "execution_count": 196,
   "id": "b7c2c98a-4dc6-4c8f-9f8d-1d1c71b4fadc",
   "metadata": {},
   "outputs": [
    {
     "data": {
      "text/plain": [
       "array([ 1.,  2.,  3.,  4.,  5.,  6.,  7.,  8.,  9., 10.])"
      ]
     },
     "execution_count": 196,
     "metadata": {},
     "output_type": "execute_result"
    }
   ],
   "source": [
    "f"
   ]
  },
  {
   "cell_type": "code",
   "execution_count": 197,
   "id": "eea7bd8b-22e6-4594-a307-f5fe21ed5285",
   "metadata": {},
   "outputs": [],
   "source": [
    "g=np.linspace(1,10,10).reshape(2,5)"
   ]
  },
  {
   "cell_type": "code",
   "execution_count": 198,
   "id": "67eabfc3-2d2f-4b64-9997-d14eb1e91df7",
   "metadata": {},
   "outputs": [
    {
     "data": {
      "text/plain": [
       "array([[ 1.,  2.,  3.,  4.,  5.],\n",
       "       [ 6.,  7.,  8.,  9., 10.]])"
      ]
     },
     "execution_count": 198,
     "metadata": {},
     "output_type": "execute_result"
    }
   ],
   "source": [
    "g"
   ]
  },
  {
   "cell_type": "code",
   "execution_count": 199,
   "id": "8552de72-e3a1-4eed-9db6-8a69a59c48be",
   "metadata": {},
   "outputs": [],
   "source": [
    "a=np.array([[1,2],[3,4]])#2차원"
   ]
  },
  {
   "cell_type": "code",
   "execution_count": 200,
   "id": "9e0b9e11-8a60-4d4c-b408-c0f91cd15a2a",
   "metadata": {},
   "outputs": [
    {
     "data": {
      "text/plain": [
       "array([[1, 2],\n",
       "       [3, 4]])"
      ]
     },
     "execution_count": 200,
     "metadata": {},
     "output_type": "execute_result"
    }
   ],
   "source": [
    "a"
   ]
  },
  {
   "cell_type": "code",
   "execution_count": 201,
   "id": "b46c1201-1326-4760-954e-8bb35d666ec5",
   "metadata": {},
   "outputs": [
    {
     "data": {
      "text/plain": [
       "array([1, 1, 2, 2, 3, 3, 4, 4])"
      ]
     },
     "execution_count": 201,
     "metadata": {},
     "output_type": "execute_result"
    }
   ],
   "source": [
    "np.repeat(a,2)"
   ]
  },
  {
   "cell_type": "code",
   "execution_count": 205,
   "id": "4421af48-086f-4137-a8c8-1b341690abd1",
   "metadata": {},
   "outputs": [
    {
     "data": {
      "text/plain": [
       "array([[1, 2],\n",
       "       [1, 2],\n",
       "       [3, 4],\n",
       "       [3, 4]])"
      ]
     },
     "execution_count": 205,
     "metadata": {},
     "output_type": "execute_result"
    }
   ],
   "source": [
    "np.repeat(a,2,axis=0)"
   ]
  },
  {
   "cell_type": "code",
   "execution_count": 206,
   "id": "e78f6015-7b2f-4aa0-9448-e1a648036120",
   "metadata": {},
   "outputs": [
    {
     "data": {
      "text/plain": [
       "array([[1, 1, 2, 2],\n",
       "       [3, 3, 4, 4]])"
      ]
     },
     "execution_count": 206,
     "metadata": {},
     "output_type": "execute_result"
    }
   ],
   "source": [
    "np.repeat(a,2,axis=1)"
   ]
  },
  {
   "cell_type": "code",
   "execution_count": 207,
   "id": "d9861167-3300-47fe-9015-c1b2ba16fc85",
   "metadata": {},
   "outputs": [
    {
     "data": {
      "text/plain": [
       "array([[1, 2],\n",
       "       [3, 4],\n",
       "       [3, 4]])"
      ]
     },
     "execution_count": 207,
     "metadata": {},
     "output_type": "execute_result"
    }
   ],
   "source": [
    "#첫번째 줄은 한 번 반복하고 두번째 줄이 두 번 반복하라\n",
    "np.repeat(a,[1,2],axis=0)"
   ]
  },
  {
   "cell_type": "code",
   "execution_count": 208,
   "id": "9be84234-9b2f-4b21-a6f7-6715e79fb710",
   "metadata": {},
   "outputs": [
    {
     "data": {
      "text/plain": [
       "array([[1, 2],\n",
       "       [1, 2],\n",
       "       [1, 2],\n",
       "       [3, 4]])"
      ]
     },
     "execution_count": 208,
     "metadata": {},
     "output_type": "execute_result"
    }
   ],
   "source": [
    "np.repeat(a,[3,1],axis=0)"
   ]
  },
  {
   "cell_type": "code",
   "execution_count": 209,
   "id": "3975ec73-67aa-4916-83c6-fb4852f96fad",
   "metadata": {},
   "outputs": [
    {
     "data": {
      "text/plain": [
       "array([[1, 2, 2],\n",
       "       [3, 4, 4]])"
      ]
     },
     "execution_count": 209,
     "metadata": {},
     "output_type": "execute_result"
    }
   ],
   "source": [
    "np.repeat(a,[1,2],axis=1)"
   ]
  },
  {
   "cell_type": "code",
   "execution_count": 210,
   "id": "4931530a-ded8-4c29-93df-b94c86a08b02",
   "metadata": {},
   "outputs": [
    {
     "data": {
      "text/plain": [
       "array([[1, 1, 1, 2],\n",
       "       [3, 3, 3, 4]])"
      ]
     },
     "execution_count": 210,
     "metadata": {},
     "output_type": "execute_result"
    }
   ],
   "source": [
    "np.repeat(a,[3,1],axis=1)"
   ]
  },
  {
   "cell_type": "code",
   "execution_count": 211,
   "id": "c6116586-9631-419c-8ea9-c0a6b39b2506",
   "metadata": {},
   "outputs": [],
   "source": [
    "a=np.array([[1],[2],[3]])\n",
    "b=np.array([[4],[5],[6]])"
   ]
  },
  {
   "cell_type": "code",
   "execution_count": 214,
   "id": "53f31e3f-1dcd-469b-b1b0-e81561fb2e57",
   "metadata": {},
   "outputs": [
    {
     "data": {
      "text/plain": [
       "(3, 1)"
      ]
     },
     "execution_count": 214,
     "metadata": {},
     "output_type": "execute_result"
    }
   ],
   "source": [
    "a.shape"
   ]
  },
  {
   "cell_type": "code",
   "execution_count": 215,
   "id": "0db7d4c1-03da-4066-b379-d6517e761935",
   "metadata": {},
   "outputs": [
    {
     "data": {
      "text/plain": [
       "(3, 1)"
      ]
     },
     "execution_count": 215,
     "metadata": {},
     "output_type": "execute_result"
    }
   ],
   "source": [
    "b.shape"
   ]
  },
  {
   "cell_type": "markdown",
   "id": "430fb8e3-4a73-4a4d-9d29-490f3dd33755",
   "metadata": {},
   "source": [
    "- 둘다 차원은 2차원"
   ]
  },
  {
   "cell_type": "code",
   "execution_count": 217,
   "id": "035560ee-87c5-4ce0-9a4c-c0602b5a3c00",
   "metadata": {},
   "outputs": [
    {
     "data": {
      "text/plain": [
       "array([[1],\n",
       "       [2],\n",
       "       [3],\n",
       "       [4],\n",
       "       [5],\n",
       "       [6]])"
      ]
     },
     "execution_count": 217,
     "metadata": {},
     "output_type": "execute_result"
    }
   ],
   "source": [
    "np.concatenate((a,b),axis=0) # array 두개 연결"
   ]
  },
  {
   "cell_type": "code",
   "execution_count": 218,
   "id": "2189ad2d-55d4-437d-be27-5dc7a24b92d7",
   "metadata": {},
   "outputs": [
    {
     "data": {
      "text/plain": [
       "array([[1, 4],\n",
       "       [2, 5],\n",
       "       [3, 6]])"
      ]
     },
     "execution_count": 218,
     "metadata": {},
     "output_type": "execute_result"
    }
   ],
   "source": [
    "np.concatenate((a,b),axis=1)"
   ]
  },
  {
   "cell_type": "markdown",
   "id": "8d455fd9-69b2-4d2d-9272-08f79ee87fe0",
   "metadata": {},
   "source": [
    "- (a,b)이렇게 tuple 형태로 입력해줘야 함"
   ]
  },
  {
   "cell_type": "code",
   "execution_count": 219,
   "id": "53ce7dba-c2aa-451d-8260-e7857e500bdd",
   "metadata": {},
   "outputs": [],
   "source": [
    "a=np.array([10,20,30])\n",
    "b=np.array([40,50,60])"
   ]
  },
  {
   "cell_type": "code",
   "execution_count": 220,
   "id": "fc8bbfc6-5870-40d6-af59-dcf679e7f775",
   "metadata": {},
   "outputs": [
    {
     "data": {
      "text/plain": [
       "array([[10, 20, 30],\n",
       "       [40, 50, 60]])"
      ]
     },
     "execution_count": 220,
     "metadata": {},
     "output_type": "execute_result"
    }
   ],
   "source": [
    "# vertical stack\n",
    "np.vstack((a,b))"
   ]
  },
  {
   "cell_type": "code",
   "execution_count": 221,
   "id": "100a77d0-9312-4244-8ce6-268f37c83ae8",
   "metadata": {},
   "outputs": [
    {
     "data": {
      "text/plain": [
       "array([10, 20, 30, 40, 50, 60])"
      ]
     },
     "execution_count": 221,
     "metadata": {},
     "output_type": "execute_result"
    }
   ],
   "source": [
    "# 가로로 연결\n",
    "np.hstack((a,b))"
   ]
  },
  {
   "cell_type": "code",
   "execution_count": 222,
   "id": "b81fd3e3-f185-40f9-8c69-95de234e8215",
   "metadata": {},
   "outputs": [],
   "source": [
    "a=np.array([[10,20,30],[40,50,60]])"
   ]
  },
  {
   "cell_type": "code",
   "execution_count": 223,
   "id": "77d28f22-e279-4023-a0d3-e908ecf3802a",
   "metadata": {},
   "outputs": [
    {
     "data": {
      "text/plain": [
       "array([[10, 20, 30],\n",
       "       [40, 50, 60]])"
      ]
     },
     "execution_count": 223,
     "metadata": {},
     "output_type": "execute_result"
    }
   ],
   "source": [
    "a"
   ]
  },
  {
   "cell_type": "code",
   "execution_count": 226,
   "id": "ce05ddbe-28ff-4321-8830-24dee5ad65bd",
   "metadata": {},
   "outputs": [],
   "source": [
    "# np.hsplit(a,2)\n",
    "# 오류 발생, 왜? 세로 방향으로 2개로 나눌 수가 없어서"
   ]
  },
  {
   "cell_type": "code",
   "execution_count": 227,
   "id": "27ebf605-d503-4c81-8957-79b46e42462f",
   "metadata": {},
   "outputs": [],
   "source": [
    "a=np.hsplit(a,3)"
   ]
  },
  {
   "cell_type": "code",
   "execution_count": 228,
   "id": "9ea6f81f-fb7c-480f-b37c-698212feb36d",
   "metadata": {},
   "outputs": [
    {
     "data": {
      "text/plain": [
       "[array([[10],\n",
       "        [40]]),\n",
       " array([[20],\n",
       "        [50]]),\n",
       " array([[30],\n",
       "        [60]])]"
      ]
     },
     "execution_count": 228,
     "metadata": {},
     "output_type": "execute_result"
    }
   ],
   "source": [
    "a"
   ]
  },
  {
   "cell_type": "code",
   "execution_count": 57,
   "id": "db7ef568-b105-4fa6-b4d0-4b68a65a7a48",
   "metadata": {},
   "outputs": [
    {
     "data": {
      "text/plain": [
       "array([[10],\n",
       "       [40]])"
      ]
     },
     "execution_count": 57,
     "metadata": {},
     "output_type": "execute_result"
    }
   ],
   "source": [
    "a[0]"
   ]
  },
  {
   "cell_type": "code",
   "execution_count": 224,
   "id": "4e0d5269-b15f-4fe3-b78a-de61061cce25",
   "metadata": {},
   "outputs": [],
   "source": [
    "a=np.array([[10,20,30],[40,50,60]])"
   ]
  },
  {
   "cell_type": "code",
   "execution_count": 225,
   "id": "de7154f8-01ee-4e13-b972-d7d36c0a4006",
   "metadata": {},
   "outputs": [
    {
     "data": {
      "text/plain": [
       "[array([[10, 20, 30]]), array([[40, 50, 60]])]"
      ]
     },
     "execution_count": 225,
     "metadata": {},
     "output_type": "execute_result"
    }
   ],
   "source": [
    "np.vsplit(a,2)"
   ]
  },
  {
   "cell_type": "markdown",
   "id": "f74316d3-2110-4c38-b0d8-4508f377af80",
   "metadata": {},
   "source": [
    "이것또한 list로 저장 됨\n",
    "\n",
    "어레이를 조각조각내서 리스트 안에 넣어줬기 때문에\n",
    "\n",
    "그 조각을 살펴보면 np.array 형태이고 \n",
    "\n",
    "그 조각들을 list안에 넣어준 것"
   ]
  },
  {
   "cell_type": "code",
   "execution_count": 230,
   "id": "a3606ae2-2278-4389-a603-23f3f387a1b8",
   "metadata": {},
   "outputs": [],
   "source": [
    "a=np.array([[10,20,30],[40,50,60]])"
   ]
  },
  {
   "cell_type": "code",
   "execution_count": 231,
   "id": "ee484d9d-61a8-4014-a2e4-2411ec25b889",
   "metadata": {},
   "outputs": [
    {
     "data": {
      "text/plain": [
       "array([[10, 20, 30],\n",
       "       [40, 50, 60]])"
      ]
     },
     "execution_count": 231,
     "metadata": {},
     "output_type": "execute_result"
    }
   ],
   "source": [
    "a"
   ]
  },
  {
   "cell_type": "code",
   "execution_count": 233,
   "id": "fc082260-163c-452e-83d6-c2a7ef3cb387",
   "metadata": {},
   "outputs": [
    {
     "data": {
      "text/plain": [
       "array([[10, 40],\n",
       "       [20, 50],\n",
       "       [30, 60]])"
      ]
     },
     "execution_count": 233,
     "metadata": {},
     "output_type": "execute_result"
    }
   ],
   "source": [
    "# 전치행렬\n",
    "a.transpose()"
   ]
  },
  {
   "cell_type": "markdown",
   "id": "1d9f2604-5f6f-40fc-a0be-99181f050043",
   "metadata": {},
   "source": [
    "- 2차원의 array를 1차원의 array로 변경해보자"
   ]
  },
  {
   "cell_type": "code",
   "execution_count": 234,
   "id": "e8f0efcc-a3d6-4da5-80ca-f61cd6ff4085",
   "metadata": {},
   "outputs": [
    {
     "data": {
      "text/plain": [
       "array([[10, 20, 30],\n",
       "       [40, 50, 60]])"
      ]
     },
     "execution_count": 234,
     "metadata": {},
     "output_type": "execute_result"
    }
   ],
   "source": [
    "a"
   ]
  },
  {
   "cell_type": "code",
   "execution_count": 235,
   "id": "6f6195ae-5db4-44e1-a941-8fec6d12c12d",
   "metadata": {},
   "outputs": [
    {
     "data": {
      "text/plain": [
       "array([10, 20, 30, 40, 50, 60])"
      ]
     },
     "execution_count": 235,
     "metadata": {},
     "output_type": "execute_result"
    }
   ],
   "source": [
    "a.ravel()"
   ]
  },
  {
   "cell_type": "code",
   "execution_count": 238,
   "id": "52c3df59-04be-4d7f-8822-af7701191685",
   "metadata": {},
   "outputs": [
    {
     "data": {
      "text/plain": [
       "array([10, 20, 30, 40, 50, 60])"
      ]
     },
     "execution_count": 238,
     "metadata": {},
     "output_type": "execute_result"
    }
   ],
   "source": [
    "a.reshape(-1)"
   ]
  },
  {
   "cell_type": "code",
   "execution_count": 243,
   "id": "ba8a06f3-494d-4f3d-9625-f7ea29dc32eb",
   "metadata": {},
   "outputs": [
    {
     "data": {
      "text/plain": [
       "array([10, 20, 30, 40, 50, 60])"
      ]
     },
     "execution_count": 243,
     "metadata": {},
     "output_type": "execute_result"
    }
   ],
   "source": [
    "a.ravel(order='C')   "
   ]
  },
  {
   "cell_type": "code",
   "execution_count": 244,
   "id": "dbd157bd-b5ed-49cb-9e9a-938e1e64e085",
   "metadata": {},
   "outputs": [
    {
     "data": {
      "text/plain": [
       "array([10, 40, 20, 50, 30, 60])"
      ]
     },
     "execution_count": 244,
     "metadata": {},
     "output_type": "execute_result"
    }
   ],
   "source": [
    "a.ravel(order='F')   "
   ]
  },
  {
   "cell_type": "code",
   "execution_count": 245,
   "id": "2130a8fc-2d20-4564-82a1-556e26163b20",
   "metadata": {},
   "outputs": [
    {
     "data": {
      "text/plain": [
       "array([10, 20, 30, 40, 50, 60])"
      ]
     },
     "execution_count": 245,
     "metadata": {},
     "output_type": "execute_result"
    }
   ],
   "source": [
    "a.flatten()"
   ]
  },
  {
   "cell_type": "code",
   "execution_count": 258,
   "id": "f43b5aa1-0451-4dc8-9533-8668e9c69da0",
   "metadata": {},
   "outputs": [],
   "source": [
    "a=np.array([[1],[2],[3]]) # 2차원 형태로 넣어줌"
   ]
  },
  {
   "cell_type": "code",
   "execution_count": 259,
   "id": "883e8ea3-1a34-40da-b3a6-225d7c8ae5d8",
   "metadata": {},
   "outputs": [
    {
     "data": {
      "text/plain": [
       "array([[1],\n",
       "       [2],\n",
       "       [3]])"
      ]
     },
     "execution_count": 259,
     "metadata": {},
     "output_type": "execute_result"
    }
   ],
   "source": [
    "a"
   ]
  },
  {
   "cell_type": "code",
   "execution_count": 262,
   "id": "e59c64a5-f7c3-4a2e-99d8-f147fea143f9",
   "metadata": {},
   "outputs": [],
   "source": [
    "a_=np.array([[1,2,3]])"
   ]
  },
  {
   "cell_type": "code",
   "execution_count": 264,
   "id": "4bf4908e-d405-426a-a54d-38475fb464c6",
   "metadata": {},
   "outputs": [
    {
     "data": {
      "text/plain": [
       "array([[1, 2, 3]])"
      ]
     },
     "execution_count": 264,
     "metadata": {},
     "output_type": "execute_result"
    }
   ],
   "source": [
    "a_"
   ]
  },
  {
   "cell_type": "code",
   "execution_count": 265,
   "id": "08595137-214f-47a0-b46e-e864a9bead7c",
   "metadata": {},
   "outputs": [],
   "source": [
    "a__=np.array([1,2,3]) # 1차원 형태로 넣어줌"
   ]
  },
  {
   "cell_type": "code",
   "execution_count": 266,
   "id": "37a839a9-5172-487e-9551-38a46e542c23",
   "metadata": {},
   "outputs": [
    {
     "data": {
      "text/plain": [
       "array([1, 2, 3])"
      ]
     },
     "execution_count": 266,
     "metadata": {},
     "output_type": "execute_result"
    }
   ],
   "source": [
    "a__"
   ]
  },
  {
   "cell_type": "markdown",
   "id": "ffebb75e-8521-4761-8f73-4e59c0c6ebb0",
   "metadata": {},
   "source": [
    "> ### `차이점`"
   ]
  },
  {
   "cell_type": "code",
   "execution_count": 267,
   "id": "411aedc1-9506-4b8d-89e7-bc2d0553f64f",
   "metadata": {},
   "outputs": [
    {
     "data": {
      "text/plain": [
       "array([1, 2, 3])"
      ]
     },
     "execution_count": 267,
     "metadata": {},
     "output_type": "execute_result"
    }
   ],
   "source": [
    "a_[0]"
   ]
  },
  {
   "cell_type": "code",
   "execution_count": 268,
   "id": "fd0c8aeb-562b-4777-a658-4bf16a01107b",
   "metadata": {},
   "outputs": [
    {
     "data": {
      "text/plain": [
       "1"
      ]
     },
     "execution_count": 268,
     "metadata": {},
     "output_type": "execute_result"
    }
   ],
   "source": [
    "a[0][0]"
   ]
  },
  {
   "cell_type": "markdown",
   "id": "6063a317-5e9f-478c-93ce-a24abe63835b",
   "metadata": {},
   "source": [
    "----"
   ]
  },
  {
   "cell_type": "code",
   "execution_count": 269,
   "id": "73fa20d7-74d1-44a2-af41-b693c0b0fc05",
   "metadata": {},
   "outputs": [
    {
     "data": {
      "text/plain": [
       "2"
      ]
     },
     "execution_count": 269,
     "metadata": {},
     "output_type": "execute_result"
    }
   ],
   "source": [
    "a.ndim"
   ]
  },
  {
   "cell_type": "code",
   "execution_count": 271,
   "id": "f388d0b7-7a49-47ad-bb26-77181a6fd800",
   "metadata": {},
   "outputs": [
    {
     "data": {
      "text/plain": [
       "(3, 1)"
      ]
     },
     "execution_count": 271,
     "metadata": {},
     "output_type": "execute_result"
    }
   ],
   "source": [
    "a.shape"
   ]
  },
  {
   "cell_type": "code",
   "execution_count": 272,
   "id": "04f75817-ba20-4238-80cf-07e7768c7031",
   "metadata": {},
   "outputs": [
    {
     "data": {
      "text/plain": [
       "(1, 3)"
      ]
     },
     "execution_count": 272,
     "metadata": {},
     "output_type": "execute_result"
    }
   ],
   "source": [
    "a_.shape"
   ]
  },
  {
   "cell_type": "code",
   "execution_count": 273,
   "id": "572baf03-c23d-4179-a2d1-1183fa1f7f7e",
   "metadata": {},
   "outputs": [
    {
     "data": {
      "text/plain": [
       "(3,)"
      ]
     },
     "execution_count": 273,
     "metadata": {},
     "output_type": "execute_result"
    }
   ],
   "source": [
    "a__.shape"
   ]
  },
  {
   "cell_type": "code",
   "execution_count": 274,
   "id": "f13458a5-4d44-4393-9890-cad824462ea6",
   "metadata": {},
   "outputs": [
    {
     "data": {
      "text/plain": [
       "array([[1],\n",
       "       [2],\n",
       "       [3]])"
      ]
     },
     "execution_count": 274,
     "metadata": {},
     "output_type": "execute_result"
    }
   ],
   "source": [
    "a"
   ]
  },
  {
   "cell_type": "markdown",
   "id": "bac291f3-b5df-4e7f-932a-25956afd2b85",
   "metadata": {},
   "source": [
    "2차원에서 1차원으로 줄이자"
   ]
  },
  {
   "cell_type": "code",
   "execution_count": 276,
   "id": "ecc87ab3-c62b-4549-9fc2-9d47e6913ba7",
   "metadata": {},
   "outputs": [],
   "source": [
    "b=a.squeeze()"
   ]
  },
  {
   "cell_type": "code",
   "execution_count": 277,
   "id": "ebffd837-e2a3-46dc-b24a-5bb025435d98",
   "metadata": {},
   "outputs": [
    {
     "data": {
      "text/plain": [
       "array([1, 2, 3])"
      ]
     },
     "execution_count": 277,
     "metadata": {},
     "output_type": "execute_result"
    }
   ],
   "source": [
    "b"
   ]
  },
  {
   "cell_type": "code",
   "execution_count": 278,
   "id": "808641b0-81ab-4a9e-96de-7221e8ccadfe",
   "metadata": {},
   "outputs": [
    {
     "data": {
      "text/plain": [
       "1"
      ]
     },
     "execution_count": 278,
     "metadata": {},
     "output_type": "execute_result"
    }
   ],
   "source": [
    "b.ndim"
   ]
  },
  {
   "cell_type": "code",
   "execution_count": 279,
   "id": "2bcedb78-8497-4284-852f-1b9903836357",
   "metadata": {},
   "outputs": [
    {
     "data": {
      "text/plain": [
       "(3,)"
      ]
     },
     "execution_count": 279,
     "metadata": {},
     "output_type": "execute_result"
    }
   ],
   "source": [
    "b.shape"
   ]
  },
  {
   "cell_type": "code",
   "execution_count": 280,
   "id": "de1f75d6-a1bc-4927-b52a-9fc66266ac2a",
   "metadata": {},
   "outputs": [],
   "source": [
    "a=np.array([[[1,2]],[[3,4]],[[5,6]]])"
   ]
  },
  {
   "cell_type": "code",
   "execution_count": 281,
   "id": "e9e7a003-ff88-4e7c-ac1f-c4de216640b1",
   "metadata": {},
   "outputs": [
    {
     "data": {
      "text/plain": [
       "array([[[1, 2]],\n",
       "\n",
       "       [[3, 4]],\n",
       "\n",
       "       [[5, 6]]])"
      ]
     },
     "execution_count": 281,
     "metadata": {},
     "output_type": "execute_result"
    }
   ],
   "source": [
    "a"
   ]
  },
  {
   "cell_type": "code",
   "execution_count": 282,
   "id": "c5adcda2-9a52-4cec-8d97-b176b3f20830",
   "metadata": {},
   "outputs": [
    {
     "data": {
      "text/plain": [
       "(3, 1, 2)"
      ]
     },
     "execution_count": 282,
     "metadata": {},
     "output_type": "execute_result"
    }
   ],
   "source": [
    "a.shape"
   ]
  },
  {
   "cell_type": "code",
   "execution_count": 283,
   "id": "5a4c45a2-e00d-49cc-8221-45d838589bc5",
   "metadata": {},
   "outputs": [
    {
     "data": {
      "text/plain": [
       "3"
      ]
     },
     "execution_count": 283,
     "metadata": {},
     "output_type": "execute_result"
    }
   ],
   "source": [
    "a.ndim"
   ]
  },
  {
   "cell_type": "code",
   "execution_count": 284,
   "id": "caeaf5b7-1be9-47d5-814f-52f6beb8c57e",
   "metadata": {},
   "outputs": [],
   "source": [
    "b=a.squeeze()"
   ]
  },
  {
   "cell_type": "code",
   "execution_count": 285,
   "id": "0b72258b-0153-4433-a3fb-aa1be076a057",
   "metadata": {},
   "outputs": [
    {
     "data": {
      "text/plain": [
       "array([[1, 2],\n",
       "       [3, 4],\n",
       "       [5, 6]])"
      ]
     },
     "execution_count": 285,
     "metadata": {},
     "output_type": "execute_result"
    }
   ],
   "source": [
    "b"
   ]
  },
  {
   "cell_type": "code",
   "execution_count": 286,
   "id": "5d912f8a-4808-42cf-81cb-572e5922eb02",
   "metadata": {},
   "outputs": [
    {
     "data": {
      "text/plain": [
       "(3, 2)"
      ]
     },
     "execution_count": 286,
     "metadata": {},
     "output_type": "execute_result"
    }
   ],
   "source": [
    "b.shape"
   ]
  },
  {
   "cell_type": "code",
   "execution_count": 287,
   "id": "c9896c28-bda9-4ef0-8bb4-f5a4aa915b84",
   "metadata": {},
   "outputs": [],
   "source": [
    "a=np.array([1,2,3])\n",
    "b=np.array([4,5,6])"
   ]
  },
  {
   "cell_type": "code",
   "execution_count": 292,
   "id": "239bd9c1-6035-46db-9eff-5920c1c8468b",
   "metadata": {},
   "outputs": [
    {
     "data": {
      "text/plain": [
       "array([1, 2, 3])"
      ]
     },
     "execution_count": 292,
     "metadata": {},
     "output_type": "execute_result"
    }
   ],
   "source": [
    "a"
   ]
  },
  {
   "cell_type": "code",
   "execution_count": 288,
   "id": "ecc7afe0-217f-4151-b614-c6f9e5d93f6a",
   "metadata": {},
   "outputs": [
    {
     "data": {
      "text/plain": [
       "(3,)"
      ]
     },
     "execution_count": 288,
     "metadata": {},
     "output_type": "execute_result"
    }
   ],
   "source": [
    "a.shape"
   ]
  },
  {
   "cell_type": "code",
   "execution_count": 289,
   "id": "5e9257c4-c9ae-41bb-887a-1f84536e0b71",
   "metadata": {},
   "outputs": [],
   "source": [
    "a_=a[:,np.newaxis]\n",
    "b_=b[:,np.newaxis]\n",
    "# 차원 하나 추가"
   ]
  },
  {
   "cell_type": "code",
   "execution_count": 290,
   "id": "17a8f37e-254f-4ad0-9067-ba216ac8049d",
   "metadata": {},
   "outputs": [
    {
     "data": {
      "text/plain": [
       "(3, 1)"
      ]
     },
     "execution_count": 290,
     "metadata": {},
     "output_type": "execute_result"
    }
   ],
   "source": [
    "a_.shape"
   ]
  },
  {
   "cell_type": "code",
   "execution_count": 291,
   "id": "74f410d7-3468-433d-93c5-a6ea8ceb97d4",
   "metadata": {},
   "outputs": [
    {
     "data": {
      "text/plain": [
       "array([[1],\n",
       "       [2],\n",
       "       [3]])"
      ]
     },
     "execution_count": 291,
     "metadata": {},
     "output_type": "execute_result"
    }
   ],
   "source": [
    "a_"
   ]
  },
  {
   "cell_type": "code",
   "execution_count": 293,
   "id": "dcb8902b-88c5-4ae2-9f90-63347c4f7c31",
   "metadata": {},
   "outputs": [
    {
     "data": {
      "text/plain": [
       "array([[1],\n",
       "       [2],\n",
       "       [3],\n",
       "       [4],\n",
       "       [5],\n",
       "       [6]])"
      ]
     },
     "execution_count": 293,
     "metadata": {},
     "output_type": "execute_result"
    }
   ],
   "source": [
    "np.concatenate((a_,b_),axis=0)"
   ]
  },
  {
   "cell_type": "code",
   "execution_count": 294,
   "id": "1c72bb7d-87f5-4609-b89a-891962d28318",
   "metadata": {},
   "outputs": [
    {
     "data": {
      "text/plain": [
       "array([[1, 4],\n",
       "       [2, 5],\n",
       "       [3, 6]])"
      ]
     },
     "execution_count": 294,
     "metadata": {},
     "output_type": "execute_result"
    }
   ],
   "source": [
    "np.concatenate((a_,b_),axis=1)"
   ]
  },
  {
   "cell_type": "code",
   "execution_count": 295,
   "id": "d584bd27-3bed-464b-b79d-36c7bc60d6ab",
   "metadata": {},
   "outputs": [
    {
     "data": {
      "text/plain": [
       "array([[1, 2, 3],\n",
       "       [4, 5, 6]])"
      ]
     },
     "execution_count": 295,
     "metadata": {},
     "output_type": "execute_result"
    }
   ],
   "source": [
    "np.vstack((a,b))"
   ]
  },
  {
   "cell_type": "code",
   "execution_count": 296,
   "id": "52f9aec6-6ea2-42a0-a1e5-75b23c80425a",
   "metadata": {},
   "outputs": [
    {
     "data": {
      "text/plain": [
       "array([[1, 4],\n",
       "       [2, 5],\n",
       "       [3, 6]])"
      ]
     },
     "execution_count": 296,
     "metadata": {},
     "output_type": "execute_result"
    }
   ],
   "source": [
    "np.vstack((a,b)).transpose()"
   ]
  },
  {
   "cell_type": "code",
   "execution_count": 297,
   "id": "1281de7e-cd70-4470-ad24-507d1e7c7658",
   "metadata": {},
   "outputs": [
    {
     "data": {
      "text/plain": [
       "array([[1, 4],\n",
       "       [2, 5],\n",
       "       [3, 6]])"
      ]
     },
     "execution_count": 297,
     "metadata": {},
     "output_type": "execute_result"
    }
   ],
   "source": [
    "np.hstack((a,b)).reshape((2,3)).transpose()"
   ]
  },
  {
   "cell_type": "markdown",
   "id": "f4e6d20e-43af-4731-8e96-556959c4af04",
   "metadata": {},
   "source": [
    "> ### ***`shallow copy & deep copy`***"
   ]
  },
  {
   "cell_type": "code",
   "execution_count": 298,
   "id": "00653008-67e1-4ae5-ae0e-39a18657305d",
   "metadata": {},
   "outputs": [],
   "source": [
    "a=np.array([10,20,30])"
   ]
  },
  {
   "cell_type": "code",
   "execution_count": 299,
   "id": "3a8aab99-e683-4785-9809-7c8294e9b706",
   "metadata": {},
   "outputs": [],
   "source": [
    "b=a"
   ]
  },
  {
   "cell_type": "code",
   "execution_count": 300,
   "id": "9bbb9dcf-d642-4fdc-9622-d9ee40707775",
   "metadata": {},
   "outputs": [
    {
     "data": {
      "text/plain": [
       "array([10, 20, 30])"
      ]
     },
     "execution_count": 300,
     "metadata": {},
     "output_type": "execute_result"
    }
   ],
   "source": [
    "b"
   ]
  },
  {
   "cell_type": "code",
   "execution_count": 301,
   "id": "a3222e95-ab8b-423d-a33d-ee880e86eb9b",
   "metadata": {},
   "outputs": [],
   "source": [
    "b[0]=909"
   ]
  },
  {
   "cell_type": "code",
   "execution_count": 302,
   "id": "41fcea0e-ba59-47fb-9bb7-3381b5f37c8b",
   "metadata": {},
   "outputs": [
    {
     "data": {
      "text/plain": [
       "array([909,  20,  30])"
      ]
     },
     "execution_count": 302,
     "metadata": {},
     "output_type": "execute_result"
    }
   ],
   "source": [
    "b"
   ]
  },
  {
   "cell_type": "code",
   "execution_count": 303,
   "id": "8fe3e160-9a9d-4fa6-ba30-dba37a992aa0",
   "metadata": {},
   "outputs": [
    {
     "data": {
      "text/plain": [
       "array([909,  20,  30])"
      ]
     },
     "execution_count": 303,
     "metadata": {},
     "output_type": "execute_result"
    }
   ],
   "source": [
    "a"
   ]
  },
  {
   "cell_type": "code",
   "execution_count": 304,
   "id": "c4ab740c-df78-4e04-ac81-668d0c215ce5",
   "metadata": {},
   "outputs": [
    {
     "data": {
      "text/plain": [
       "True"
      ]
     },
     "execution_count": 304,
     "metadata": {},
     "output_type": "execute_result"
    }
   ],
   "source": [
    "b is a"
   ]
  },
  {
   "cell_type": "markdown",
   "id": "b73e7a2b-48f1-4de1-9c84-b9b9be814d30",
   "metadata": {},
   "source": [
    "- 즉 같은 메모리에 이름만 다르게 저장된 것"
   ]
  },
  {
   "cell_type": "code",
   "execution_count": 305,
   "id": "1754f57c-c85f-498d-921b-a5dbfb8bc68f",
   "metadata": {},
   "outputs": [],
   "source": [
    "a=np.array([1,2,3,4])"
   ]
  },
  {
   "cell_type": "code",
   "execution_count": 306,
   "id": "7cda6da5-9d42-47c3-acd9-a50021c8ad5a",
   "metadata": {},
   "outputs": [],
   "source": [
    "b=a.view()"
   ]
  },
  {
   "cell_type": "code",
   "execution_count": 307,
   "id": "e76be82d-b032-4f03-b0c2-86b913110b27",
   "metadata": {},
   "outputs": [
    {
     "data": {
      "text/plain": [
       "array([1, 2, 3, 4])"
      ]
     },
     "execution_count": 307,
     "metadata": {},
     "output_type": "execute_result"
    }
   ],
   "source": [
    "b"
   ]
  },
  {
   "cell_type": "code",
   "execution_count": 308,
   "id": "ca424d9b-f44d-4329-8a71-61c1d8829334",
   "metadata": {},
   "outputs": [
    {
     "data": {
      "text/plain": [
       "False"
      ]
     },
     "execution_count": 308,
     "metadata": {},
     "output_type": "execute_result"
    }
   ],
   "source": [
    "b is a"
   ]
  },
  {
   "cell_type": "markdown",
   "id": "1c4c2daf-9045-406b-bcc9-f5c9457fa46f",
   "metadata": {},
   "source": [
    "- 일단 메모리는 달라졌음"
   ]
  },
  {
   "cell_type": "code",
   "execution_count": 311,
   "id": "a0eb6f5e-0f29-4a6a-92c8-68dfa6da3d3b",
   "metadata": {},
   "outputs": [],
   "source": [
    "b[0]=123123"
   ]
  },
  {
   "cell_type": "code",
   "execution_count": 312,
   "id": "95db4432-72cb-4e19-92ca-d87780d9908a",
   "metadata": {},
   "outputs": [
    {
     "data": {
      "text/plain": [
       "array([123123,      2,      3,      4])"
      ]
     },
     "execution_count": 312,
     "metadata": {},
     "output_type": "execute_result"
    }
   ],
   "source": [
    "a"
   ]
  },
  {
   "cell_type": "code",
   "execution_count": 313,
   "id": "842cb34a-cb55-4802-aa27-6a0e72f9f014",
   "metadata": {},
   "outputs": [
    {
     "data": {
      "text/plain": [
       "array([123123,      2,      3,      4])"
      ]
     },
     "execution_count": 313,
     "metadata": {},
     "output_type": "execute_result"
    }
   ],
   "source": [
    "b"
   ]
  },
  {
   "cell_type": "markdown",
   "id": "2f8e0993-d6c8-46b6-8613-bd1d111de933",
   "metadata": {},
   "source": [
    "- `shallow copy`를 했음에도 같이 업데이트 되어버림"
   ]
  },
  {
   "cell_type": "code",
   "execution_count": 314,
   "id": "e3ae832f-1b39-474d-a5a2-fcb73b1ccc16",
   "metadata": {},
   "outputs": [],
   "source": [
    "b.shape=(2,2)"
   ]
  },
  {
   "cell_type": "code",
   "execution_count": 315,
   "id": "6b1d99ec-27be-4d07-ba71-c044f39b5dec",
   "metadata": {},
   "outputs": [
    {
     "data": {
      "text/plain": [
       "array([[123123,      2],\n",
       "       [     3,      4]])"
      ]
     },
     "execution_count": 315,
     "metadata": {},
     "output_type": "execute_result"
    }
   ],
   "source": [
    "b"
   ]
  },
  {
   "cell_type": "code",
   "execution_count": 316,
   "id": "c7355bde-927a-4241-a1ca-b34198ba0e9c",
   "metadata": {},
   "outputs": [],
   "source": [
    "b[0][1]=111"
   ]
  },
  {
   "cell_type": "code",
   "execution_count": 317,
   "id": "5287bf10-8191-4444-ae81-e95ab578d5a5",
   "metadata": {},
   "outputs": [
    {
     "data": {
      "text/plain": [
       "array([[123123,    111],\n",
       "       [     3,      4]])"
      ]
     },
     "execution_count": 317,
     "metadata": {},
     "output_type": "execute_result"
    }
   ],
   "source": [
    "b"
   ]
  },
  {
   "cell_type": "code",
   "execution_count": 318,
   "id": "828f0993-7c99-4b27-8034-5c71f59241a7",
   "metadata": {},
   "outputs": [
    {
     "data": {
      "text/plain": [
       "array([123123,    111,      3,      4])"
      ]
     },
     "execution_count": 318,
     "metadata": {},
     "output_type": "execute_result"
    }
   ],
   "source": [
    "a"
   ]
  },
  {
   "cell_type": "markdown",
   "id": "90ce040f-1133-437c-9913-61a32390a85a",
   "metadata": {},
   "source": [
    "- 즉 shallow copy란 메모리 상에 data는 같이 공유하지만 array의 shape은 공유 X"
   ]
  },
  {
   "cell_type": "markdown",
   "id": "432f6217-7ed9-4703-942b-7c89510d960b",
   "metadata": {},
   "source": [
    "- 그렇다면 deep copy?"
   ]
  },
  {
   "cell_type": "code",
   "execution_count": 319,
   "id": "b4825765-0148-49be-b5d7-30c19c062450",
   "metadata": {},
   "outputs": [],
   "source": [
    "a=np.array([10,20,30,40])"
   ]
  },
  {
   "cell_type": "code",
   "execution_count": 320,
   "id": "c1000ad5-674d-45ba-a4ff-28123c9f9c58",
   "metadata": {},
   "outputs": [],
   "source": [
    "b=a.copy()"
   ]
  },
  {
   "cell_type": "code",
   "execution_count": 321,
   "id": "94e41dcb-52df-4d7c-8b53-a567ec4b640f",
   "metadata": {},
   "outputs": [],
   "source": [
    "b[0]=8999"
   ]
  },
  {
   "cell_type": "code",
   "execution_count": 322,
   "id": "f6960e5c-c16b-43a1-97dd-f8ea8df25c13",
   "metadata": {},
   "outputs": [
    {
     "data": {
      "text/plain": [
       "array([10, 20, 30, 40])"
      ]
     },
     "execution_count": 322,
     "metadata": {},
     "output_type": "execute_result"
    }
   ],
   "source": [
    "a"
   ]
  },
  {
   "cell_type": "code",
   "execution_count": 323,
   "id": "891381fb-a5ed-40b6-a3eb-afe7657ed4a1",
   "metadata": {},
   "outputs": [
    {
     "data": {
      "text/plain": [
       "array([8999,   20,   30,   40])"
      ]
     },
     "execution_count": 323,
     "metadata": {},
     "output_type": "execute_result"
    }
   ],
   "source": [
    "b"
   ]
  },
  {
   "cell_type": "code",
   "execution_count": 324,
   "id": "cf80f998-82da-409f-b680-e7b07bee1758",
   "metadata": {},
   "outputs": [
    {
     "data": {
      "text/plain": [
       "False"
      ]
     },
     "execution_count": 324,
     "metadata": {},
     "output_type": "execute_result"
    }
   ],
   "source": [
    "a is b"
   ]
  },
  {
   "cell_type": "code",
   "execution_count": 325,
   "id": "d53c00ce-88d7-4653-8716-8a1f8d0bf6c7",
   "metadata": {},
   "outputs": [
    {
     "data": {
      "text/plain": [
       "False"
      ]
     },
     "execution_count": 325,
     "metadata": {},
     "output_type": "execute_result"
    }
   ],
   "source": [
    "b.base is a"
   ]
  },
  {
   "cell_type": "markdown",
   "id": "338fe35f-0395-4efb-9fbc-6837605b7421",
   "metadata": {},
   "source": [
    "> `즉 b만의 온전한 데이터를 만들 수 있음`"
   ]
  },
  {
   "cell_type": "markdown",
   "id": "766c27fc-7af3-4f5e-aa21-78b16b7ea3b4",
   "metadata": {},
   "source": [
    "----"
   ]
  },
  {
   "cell_type": "code",
   "execution_count": 326,
   "id": "34414e18-0d08-40fc-9522-66671dd78aca",
   "metadata": {},
   "outputs": [],
   "source": [
    "a=np.array([55,0,12,3,4])"
   ]
  },
  {
   "cell_type": "code",
   "execution_count": 327,
   "id": "d7cbe043-8613-45d8-bdd8-965e4262ae67",
   "metadata": {},
   "outputs": [
    {
     "data": {
      "text/plain": [
       "False"
      ]
     },
     "execution_count": 327,
     "metadata": {},
     "output_type": "execute_result"
    }
   ],
   "source": [
    "# a의 모든 값이 참?\n",
    "# 여기선 0, 즉 FALSE값이 들어있기 때문에 FALSE로 나올 것\n",
    "a.all()"
   ]
  },
  {
   "cell_type": "code",
   "execution_count": 328,
   "id": "ac6359dc-e4e7-47f3-914e-dd0d62917fa2",
   "metadata": {},
   "outputs": [
    {
     "data": {
      "text/plain": [
       "True"
      ]
     },
     "execution_count": 328,
     "metadata": {},
     "output_type": "execute_result"
    }
   ],
   "source": [
    "# 하나라도 참이 들어있는지?\n",
    "a.any()"
   ]
  },
  {
   "cell_type": "code",
   "execution_count": 329,
   "id": "62239c29-0434-4677-8950-3c222d4b1bab",
   "metadata": {},
   "outputs": [
    {
     "data": {
      "text/plain": [
       "(array([0, 2, 3, 4], dtype=int64),)"
      ]
     },
     "execution_count": 329,
     "metadata": {},
     "output_type": "execute_result"
    }
   ],
   "source": [
    "# 0이 아닌 값들의 index를 알 수 있음\n",
    "a.nonzero()"
   ]
  },
  {
   "cell_type": "code",
   "execution_count": 330,
   "id": "861020e7-9842-4f0f-85ef-753d5756cac4",
   "metadata": {},
   "outputs": [
    {
     "data": {
      "text/plain": [
       "(array([0, 2, 3, 4], dtype=int64),)"
      ]
     },
     "execution_count": 330,
     "metadata": {},
     "output_type": "execute_result"
    }
   ],
   "source": [
    "# 0보다 큰 거 어디? index로 알려줄 것\n",
    "np.where(a>0)"
   ]
  },
  {
   "cell_type": "code",
   "execution_count": 331,
   "id": "9b88e356-04b6-44fd-800c-b8712ee2a190",
   "metadata": {},
   "outputs": [
    {
     "data": {
      "text/plain": [
       "(array([1], dtype=int64),)"
      ]
     },
     "execution_count": 331,
     "metadata": {},
     "output_type": "execute_result"
    }
   ],
   "source": [
    "np.where(a==0)"
   ]
  },
  {
   "cell_type": "code",
   "execution_count": 332,
   "id": "f8685d41-99ec-4786-8419-602d46a49c72",
   "metadata": {},
   "outputs": [
    {
     "data": {
      "text/plain": [
       "(array([0, 2, 3, 4], dtype=int64),)"
      ]
     },
     "execution_count": 332,
     "metadata": {},
     "output_type": "execute_result"
    }
   ],
   "source": [
    "np.where(a!=0)"
   ]
  }
 ],
 "metadata": {
  "kernelspec": {
   "display_name": "Python 3 (ipykernel)",
   "language": "python",
   "name": "python3"
  },
  "language_info": {
   "codemirror_mode": {
    "name": "ipython",
    "version": 3
   },
   "file_extension": ".py",
   "mimetype": "text/x-python",
   "name": "python",
   "nbconvert_exporter": "python",
   "pygments_lexer": "ipython3",
   "version": "3.8.11"
  }
 },
 "nbformat": 4,
 "nbformat_minor": 5
}
