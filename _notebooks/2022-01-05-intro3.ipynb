{
 "cells": [
  {
   "cell_type": "markdown",
   "id": "studied-python",
   "metadata": {},
   "source": [
    "### if 문 "
   ]
  },
  {
   "cell_type": "markdown",
   "id": "suspected-burton",
   "metadata": {},
   "source": [
    "`-` 예제1"
   ]
  },
  {
   "cell_type": "code",
   "execution_count": 2,
   "id": "capable-korean",
   "metadata": {},
   "outputs": [
    {
     "name": "stdout",
     "output_type": "stream",
     "text": [
      "a=11,12,13,....\n"
     ]
    }
   ],
   "source": [
    "a=11\n",
    "if a<5: \n",
    "    print('a=....1,2,3,4')\n",
    "elif a>10: \n",
    "    print('a=11,12,13,....')\n",
    "else: \n",
    "    print('a=5,6,7,...,10')"
   ]
  },
  {
   "cell_type": "markdown",
   "id": "included-triangle",
   "metadata": {},
   "source": [
    "`-` 예제2"
   ]
  },
  {
   "cell_type": "code",
   "execution_count": 4,
   "id": "touched-stomach",
   "metadata": {},
   "outputs": [
    {
     "name": "stdout",
     "output_type": "stream",
     "text": [
      "a<b\n"
     ]
    }
   ],
   "source": [
    "a,b=2,3 \n",
    "if a==b:\n",
    "    print('a=b')\n",
    "else: \n",
    "    if a<b: \n",
    "        print('a<b')\n",
    "    else:\n",
    "        print('a>b')"
   ]
  },
  {
   "cell_type": "markdown",
   "id": "numerous-radical",
   "metadata": {},
   "source": [
    "`-` 예제3"
   ]
  },
  {
   "cell_type": "code",
   "execution_count": 5,
   "id": "racial-feeling",
   "metadata": {},
   "outputs": [],
   "source": [
    "a=2\n",
    "if a==1: \n",
    "    print('a=1')"
   ]
  },
  {
   "cell_type": "markdown",
   "id": "together-techno",
   "metadata": {},
   "source": [
    "`2이면 뭐 하라고 한 적 없으니까 그냥 아무것도 실행하지 않음`"
   ]
  },
  {
   "cell_type": "markdown",
   "id": "requested-petroleum",
   "metadata": {},
   "source": [
    "### for 문 "
   ]
  },
  {
   "cell_type": "markdown",
   "id": "united-dividend",
   "metadata": {},
   "source": [
    "`-` 예제1-리스트!"
   ]
  },
  {
   "cell_type": "code",
   "execution_count": 6,
   "id": "alpha-reduction",
   "metadata": {},
   "outputs": [
    {
     "name": "stdout",
     "output_type": "stream",
     "text": [
      "1\n",
      "2\n",
      "3\n",
      "4\n"
     ]
    }
   ],
   "source": [
    "for i in [1,2,3,4]:\n",
    "    print(i)"
   ]
  },
  {
   "cell_type": "code",
   "execution_count": 7,
   "id": "f36d8cea-5eec-4904-aeeb-d701940d66e9",
   "metadata": {},
   "outputs": [
    {
     "data": {
      "text/plain": [
       "4"
      ]
     },
     "execution_count": 7,
     "metadata": {},
     "output_type": "execute_result"
    }
   ],
   "source": [
    "i"
   ]
  },
  {
   "cell_type": "markdown",
   "id": "24b43860-9f15-47f4-b67c-5f3d2cd5bb51",
   "metadata": {},
   "source": [
    "i는 4로 저장되고 종료"
   ]
  },
  {
   "cell_type": "markdown",
   "id": "governmental-alfred",
   "metadata": {},
   "source": [
    "`-` 예제2-  튜플!"
   ]
  },
  {
   "cell_type": "code",
   "execution_count": 8,
   "id": "anticipated-means",
   "metadata": {},
   "outputs": [
    {
     "name": "stdout",
     "output_type": "stream",
     "text": [
      "1\n",
      "2\n",
      "3\n",
      "4\n"
     ]
    }
   ],
   "source": [
    "for i in (1,2,3,4):\n",
    "    print(i)"
   ]
  },
  {
   "cell_type": "markdown",
   "id": "subsequent-thong",
   "metadata": {},
   "source": [
    "`-` 예제3-스트링!"
   ]
  },
  {
   "cell_type": "code",
   "execution_count": 9,
   "id": "naval-imaging",
   "metadata": {},
   "outputs": [
    {
     "name": "stdout",
     "output_type": "stream",
     "text": [
      "1\n",
      "2\n",
      "3\n",
      "4\n"
     ]
    }
   ],
   "source": [
    "for i in '1234':\n",
    "    print(i)"
   ]
  },
  {
   "cell_type": "markdown",
   "id": "mounted-missile",
   "metadata": {},
   "source": [
    "`-` 의문 \n",
    "```python\n",
    "for i in ???: \n",
    "    print(i)\n",
    "```\n",
    "에서 물음표 자리에 올 수 있는 것이 무엇일까? "
   ]
  },
  {
   "cell_type": "markdown",
   "id": "homeless-saturday",
   "metadata": {},
   "source": [
    "`-` 예제4 "
   ]
  },
  {
   "cell_type": "markdown",
   "id": "7cac0dd6-41e2-43cc-9688-e7480544822b",
   "metadata": {},
   "source": [
    "```python\n",
    "a=5 \n",
    "for i in a:\n",
    "    print(i)\n",
    "```\n",
    "\n",
    "이렇게 입력하면 에러 발생"
   ]
  },
  {
   "cell_type": "markdown",
   "id": "introductory-photograph",
   "metadata": {},
   "source": [
    "`5`라고 출력될 줄 알았는데 아니었다. "
   ]
  },
  {
   "cell_type": "markdown",
   "id": "congressional-migration",
   "metadata": {},
   "source": [
    "무슨 차이인가? "
   ]
  },
  {
   "cell_type": "markdown",
   "id": "innovative-creature",
   "metadata": {},
   "source": [
    "`1차원 이상의 자료에서 for문 정의가 가능하다`"
   ]
  },
  {
   "cell_type": "markdown",
   "id": "serial-hostel",
   "metadata": {},
   "source": [
    "`-` 예제5"
   ]
  },
  {
   "cell_type": "code",
   "execution_count": 13,
   "id": "informative-postage",
   "metadata": {},
   "outputs": [],
   "source": [
    "L=[[1,2,3],[3,4,5]]"
   ]
  },
  {
   "cell_type": "code",
   "execution_count": 14,
   "id": "biological-caution",
   "metadata": {},
   "outputs": [
    {
     "name": "stdout",
     "output_type": "stream",
     "text": [
      "[1, 2, 3]\n",
      "[3, 4, 5]\n"
     ]
    }
   ],
   "source": [
    "for i in L:\n",
    "    print(i)"
   ]
  },
  {
   "cell_type": "code",
   "execution_count": 15,
   "id": "cognitive-manhattan",
   "metadata": {},
   "outputs": [],
   "source": [
    "import pandas as pd\n",
    "df=pd.DataFrame(L)"
   ]
  },
  {
   "cell_type": "code",
   "execution_count": 18,
   "id": "eb14d56d-1edc-48b6-b832-b370f71f12de",
   "metadata": {},
   "outputs": [
    {
     "data": {
      "text/html": [
       "<div>\n",
       "<style scoped>\n",
       "    .dataframe tbody tr th:only-of-type {\n",
       "        vertical-align: middle;\n",
       "    }\n",
       "\n",
       "    .dataframe tbody tr th {\n",
       "        vertical-align: top;\n",
       "    }\n",
       "\n",
       "    .dataframe thead th {\n",
       "        text-align: right;\n",
       "    }\n",
       "</style>\n",
       "<table border=\"1\" class=\"dataframe\">\n",
       "  <thead>\n",
       "    <tr style=\"text-align: right;\">\n",
       "      <th></th>\n",
       "      <th>0</th>\n",
       "      <th>1</th>\n",
       "      <th>2</th>\n",
       "    </tr>\n",
       "  </thead>\n",
       "  <tbody>\n",
       "    <tr>\n",
       "      <th>0</th>\n",
       "      <td>1</td>\n",
       "      <td>2</td>\n",
       "      <td>3</td>\n",
       "    </tr>\n",
       "    <tr>\n",
       "      <th>1</th>\n",
       "      <td>3</td>\n",
       "      <td>4</td>\n",
       "      <td>5</td>\n",
       "    </tr>\n",
       "  </tbody>\n",
       "</table>\n",
       "</div>"
      ],
      "text/plain": [
       "   0  1  2\n",
       "0  1  2  3\n",
       "1  3  4  5"
      ]
     },
     "execution_count": 18,
     "metadata": {},
     "output_type": "execute_result"
    }
   ],
   "source": [
    "df"
   ]
  },
  {
   "cell_type": "code",
   "execution_count": 20,
   "id": "compact-company",
   "metadata": {},
   "outputs": [
    {
     "name": "stdout",
     "output_type": "stream",
     "text": [
      "0\n",
      "1\n",
      "2\n"
     ]
    }
   ],
   "source": [
    "for i in df:\n",
    "    print(i)"
   ]
  },
  {
   "cell_type": "markdown",
   "id": "97a39742-84dd-4128-b911-d415671a3bfb",
   "metadata": {},
   "source": [
    "column명 불러오는 건가?"
   ]
  },
  {
   "cell_type": "code",
   "execution_count": 23,
   "id": "explicit-trash",
   "metadata": {},
   "outputs": [],
   "source": [
    "import numpy as np \n",
    "ndr=np.array(L)"
   ]
  },
  {
   "cell_type": "code",
   "execution_count": 24,
   "id": "718b4999-29f2-41e3-9325-b6d82dc38050",
   "metadata": {},
   "outputs": [
    {
     "data": {
      "text/plain": [
       "array([[1, 2, 3],\n",
       "       [3, 4, 5]])"
      ]
     },
     "execution_count": 24,
     "metadata": {},
     "output_type": "execute_result"
    }
   ],
   "source": [
    "ndr"
   ]
  },
  {
   "cell_type": "code",
   "execution_count": 25,
   "id": "corrected-australia",
   "metadata": {},
   "outputs": [
    {
     "name": "stdout",
     "output_type": "stream",
     "text": [
      "[1 2 3]\n",
      "[3 4 5]\n"
     ]
    }
   ],
   "source": [
    "for i in ndr: \n",
    "    print(i)"
   ]
  },
  {
   "cell_type": "code",
   "execution_count": 26,
   "id": "6f81b3d0-8770-4187-9f0d-57137c9b1f51",
   "metadata": {},
   "outputs": [
    {
     "data": {
      "text/plain": [
       "array([3, 4, 5])"
      ]
     },
     "execution_count": 26,
     "metadata": {},
     "output_type": "execute_result"
    }
   ],
   "source": [
    "i"
   ]
  },
  {
   "cell_type": "markdown",
   "id": "authorized-lover",
   "metadata": {},
   "source": [
    "### for문의 동작원리 "
   ]
  },
  {
   "cell_type": "markdown",
   "id": "88df955f-3d8d-4c20-8186-0440e8b7dca2",
   "metadata": {},
   "source": [
    "```python\n",
    "for i in ???: \n",
    "    print(i)\n",
    "```"
   ]
  },
  {
   "cell_type": "markdown",
   "id": "adolescent-swedish",
   "metadata": {},
   "source": [
    "??? 자리에 올 수 있는 것은 dir()하여 `__iter__()`라는 메서드가 있는 object이다. "
   ]
  },
  {
   "cell_type": "markdown",
   "id": "quarterly-native",
   "metadata": {},
   "source": [
    "`이러한 오브젝트를 iterable한 object라 한다`"
   ]
  },
  {
   "cell_type": "code",
   "execution_count": 28,
   "id": "suspended-athletics",
   "metadata": {},
   "outputs": [],
   "source": [
    "a=1"
   ]
  },
  {
   "cell_type": "code",
   "execution_count": 29,
   "id": "bibliographic-wrapping",
   "metadata": {},
   "outputs": [
    {
     "data": {
      "text/plain": [
       "['__abs__',\n",
       " '__add__',\n",
       " '__and__',\n",
       " '__bool__',\n",
       " '__ceil__',\n",
       " '__class__',\n",
       " '__delattr__',\n",
       " '__dir__',\n",
       " '__divmod__',\n",
       " '__doc__',\n",
       " '__eq__',\n",
       " '__float__',\n",
       " '__floor__',\n",
       " '__floordiv__',\n",
       " '__format__',\n",
       " '__ge__',\n",
       " '__getattribute__',\n",
       " '__getnewargs__',\n",
       " '__gt__',\n",
       " '__hash__',\n",
       " '__index__',\n",
       " '__init__',\n",
       " '__init_subclass__',\n",
       " '__int__',\n",
       " '__invert__',\n",
       " '__le__',\n",
       " '__lshift__',\n",
       " '__lt__',\n",
       " '__mod__',\n",
       " '__mul__',\n",
       " '__ne__',\n",
       " '__neg__',\n",
       " '__new__',\n",
       " '__or__',\n",
       " '__pos__',\n",
       " '__pow__',\n",
       " '__radd__',\n",
       " '__rand__',\n",
       " '__rdivmod__',\n",
       " '__reduce__',\n",
       " '__reduce_ex__',\n",
       " '__repr__',\n",
       " '__rfloordiv__',\n",
       " '__rlshift__',\n",
       " '__rmod__',\n",
       " '__rmul__',\n",
       " '__ror__',\n",
       " '__round__',\n",
       " '__rpow__',\n",
       " '__rrshift__',\n",
       " '__rshift__',\n",
       " '__rsub__',\n",
       " '__rtruediv__',\n",
       " '__rxor__',\n",
       " '__setattr__',\n",
       " '__sizeof__',\n",
       " '__str__',\n",
       " '__sub__',\n",
       " '__subclasshook__',\n",
       " '__truediv__',\n",
       " '__trunc__',\n",
       " '__xor__',\n",
       " 'as_integer_ratio',\n",
       " 'bit_length',\n",
       " 'conjugate',\n",
       " 'denominator',\n",
       " 'from_bytes',\n",
       " 'imag',\n",
       " 'numerator',\n",
       " 'real',\n",
       " 'to_bytes']"
      ]
     },
     "execution_count": 29,
     "metadata": {},
     "output_type": "execute_result"
    }
   ],
   "source": [
    "dir(a)"
   ]
  },
  {
   "cell_type": "markdown",
   "id": "sporting-experiment",
   "metadata": {},
   "source": [
    "예상대로 int클래스의 인스턴스는 `__iter__()`가 없다. "
   ]
  },
  {
   "cell_type": "markdown",
   "id": "elect-reservoir",
   "metadata": {},
   "source": [
    "`-` 위에서 정의한 L(list), df, ndr(ndarray) 는 모두 `__iter__()` 함수가 있다. 따라서 iterable한 오브젝트이다."
   ]
  },
  {
   "cell_type": "markdown",
   "id": "vulnerable-newman",
   "metadata": {},
   "source": [
    "iterable한 오브젝트는 iterator로 만들 수 있는 특징이 있다. "
   ]
  },
  {
   "cell_type": "markdown",
   "id": "balanced-district",
   "metadata": {},
   "source": [
    "iterable한 오브젝트를 어떻게 iterator로 만드는가? "
   ]
  },
  {
   "cell_type": "code",
   "execution_count": 44,
   "id": "06bd891a-3a53-4f2a-8420-64c035ec1baa",
   "metadata": {},
   "outputs": [
    {
     "data": {
      "text/html": [
       "<div>\n",
       "<style scoped>\n",
       "    .dataframe tbody tr th:only-of-type {\n",
       "        vertical-align: middle;\n",
       "    }\n",
       "\n",
       "    .dataframe tbody tr th {\n",
       "        vertical-align: top;\n",
       "    }\n",
       "\n",
       "    .dataframe thead th {\n",
       "        text-align: right;\n",
       "    }\n",
       "</style>\n",
       "<table border=\"1\" class=\"dataframe\">\n",
       "  <thead>\n",
       "    <tr style=\"text-align: right;\">\n",
       "      <th></th>\n",
       "      <th>0</th>\n",
       "      <th>1</th>\n",
       "      <th>2</th>\n",
       "    </tr>\n",
       "  </thead>\n",
       "  <tbody>\n",
       "    <tr>\n",
       "      <th>0</th>\n",
       "      <td>1</td>\n",
       "      <td>2</td>\n",
       "      <td>3</td>\n",
       "    </tr>\n",
       "    <tr>\n",
       "      <th>1</th>\n",
       "      <td>3</td>\n",
       "      <td>4</td>\n",
       "      <td>5</td>\n",
       "    </tr>\n",
       "  </tbody>\n",
       "</table>\n",
       "</div>"
      ],
      "text/plain": [
       "   0  1  2\n",
       "0  1  2  3\n",
       "1  3  4  5"
      ]
     },
     "execution_count": 44,
     "metadata": {},
     "output_type": "execute_result"
    }
   ],
   "source": [
    "df"
   ]
  },
  {
   "cell_type": "code",
   "execution_count": 45,
   "id": "exclusive-remains",
   "metadata": {},
   "outputs": [],
   "source": [
    "### 방법1\n",
    "dfiter1=df.__iter__()"
   ]
  },
  {
   "cell_type": "code",
   "execution_count": 46,
   "id": "acting-rocket",
   "metadata": {},
   "outputs": [],
   "source": [
    "### 방법2\n",
    "dfiter2=iter(df)"
   ]
  },
  {
   "cell_type": "code",
   "execution_count": 47,
   "id": "greater-surgeon",
   "metadata": {},
   "outputs": [
    {
     "data": {
      "text/plain": [
       "\u001b[1;31mType:\u001b[0m        generator\n",
       "\u001b[1;31mString form:\u001b[0m <generator object RangeIndex.__iter__ at 0x0000028645753270>\n",
       "\u001b[1;31mDocstring:\u001b[0m   <no docstring>\n"
      ]
     },
     "metadata": {},
     "output_type": "display_data"
    }
   ],
   "source": [
    "dfiter1?"
   ]
  },
  {
   "cell_type": "markdown",
   "id": "iraqi-disabled",
   "metadata": {},
   "source": [
    "`-` dfiter1은 generator라는 클래스에서 만들어진 인스턴스 오브젝트이다. "
   ]
  },
  {
   "cell_type": "code",
   "execution_count": 48,
   "id": "packed-mongolia",
   "metadata": {},
   "outputs": [
    {
     "data": {
      "text/plain": [
       "['__class__',\n",
       " '__del__',\n",
       " '__delattr__',\n",
       " '__dir__',\n",
       " '__doc__',\n",
       " '__eq__',\n",
       " '__format__',\n",
       " '__ge__',\n",
       " '__getattribute__',\n",
       " '__gt__',\n",
       " '__hash__',\n",
       " '__init__',\n",
       " '__init_subclass__',\n",
       " '__iter__',\n",
       " '__le__',\n",
       " '__lt__',\n",
       " '__name__',\n",
       " '__ne__',\n",
       " '__new__',\n",
       " '__next__',\n",
       " '__qualname__',\n",
       " '__reduce__',\n",
       " '__reduce_ex__',\n",
       " '__repr__',\n",
       " '__setattr__',\n",
       " '__sizeof__',\n",
       " '__str__',\n",
       " '__subclasshook__',\n",
       " 'close',\n",
       " 'gi_code',\n",
       " 'gi_frame',\n",
       " 'gi_running',\n",
       " 'gi_yieldfrom',\n",
       " 'send',\n",
       " 'throw']"
      ]
     },
     "execution_count": 48,
     "metadata": {},
     "output_type": "execute_result"
    }
   ],
   "source": [
    "dir(dfiter1)"
   ]
  },
  {
   "cell_type": "code",
   "execution_count": 50,
   "id": "wired-spelling",
   "metadata": {},
   "outputs": [
    {
     "data": {
      "text/plain": [
       "1"
      ]
     },
     "execution_count": 50,
     "metadata": {},
     "output_type": "execute_result"
    }
   ],
   "source": [
    "dfiter1.__next__()"
   ]
  },
  {
   "cell_type": "markdown",
   "id": "placed-latino",
   "metadata": {},
   "source": [
    "`next 메소드? 카운트 느낌!\n",
    "`, BUT 영구적인 것은 아니고 STOP하게 됨"
   ]
  },
  {
   "cell_type": "markdown",
   "id": "ffa4f2a4-dca7-45af-ab24-53cbe29e25dd",
   "metadata": {},
   "source": [
    "-----"
   ]
  },
  {
   "cell_type": "markdown",
   "id": "minimal-newman",
   "metadata": {},
   "source": [
    "`–` for 문의 작동원리 \n",
    "\n",
    "```python\n",
    "for i in L:\n",
    "    print(i)\n",
    "```\n",
    "\n",
    "(1) iter함수를 사용해서 L이라는 오브젝트를 iterator로 만든다. L이라는 오브젝트가 이터러블하기 때문에 가능\n",
    "\n",
    "(2) iterator에서 `.__next__()`함수를 호출하고 결과를 i에 저장한뒤에 for문 블락안에 있는 내용(들여쓰기 된 내용)을 실행한다. \n",
    "\n",
    "(3) StopIteration 에러가 발생하면 for 문을 멈춘다. \n",
    "\n",
    "이런 원리로 for문이 돌아가는 듯!\n",
    "\n",
    "------"
   ]
  },
  {
   "cell_type": "code",
   "execution_count": 55,
   "id": "baking-triple",
   "metadata": {},
   "outputs": [],
   "source": [
    "Liter=iter(L)"
   ]
  },
  {
   "cell_type": "code",
   "execution_count": 56,
   "id": "dynamic-scale",
   "metadata": {},
   "outputs": [
    {
     "data": {
      "text/plain": [
       "[1, 2, 3]"
      ]
     },
     "execution_count": 56,
     "metadata": {},
     "output_type": "execute_result"
    }
   ],
   "source": [
    "Liter.__next__()"
   ]
  },
  {
   "cell_type": "markdown",
   "id": "authorized-doubt",
   "metadata": {},
   "source": [
    "`123나오고 345 나오고 STOP\n",
    "`"
   ]
  },
  {
   "cell_type": "code",
   "execution_count": 57,
   "id": "racial-conservative",
   "metadata": {},
   "outputs": [],
   "source": [
    "ndriter=iter(ndr)"
   ]
  },
  {
   "cell_type": "code",
   "execution_count": 58,
   "id": "accredited-fields",
   "metadata": {},
   "outputs": [
    {
     "name": "stdout",
     "output_type": "stream",
     "text": [
      "[1 2 3]\n"
     ]
    }
   ],
   "source": [
    "print(ndriter.__next__())"
   ]
  },
  {
   "cell_type": "markdown",
   "id": "reduced-paper",
   "metadata": {},
   "source": [
    "> ### ***`range()`***"
   ]
  },
  {
   "cell_type": "markdown",
   "id": "going-assessment",
   "metadata": {},
   "source": [
    "`-` for문의 정석은 아래와 같이 range()를 사용하는 것이다. "
   ]
  },
  {
   "cell_type": "code",
   "execution_count": 59,
   "id": "wanted-quality",
   "metadata": {},
   "outputs": [
    {
     "name": "stdout",
     "output_type": "stream",
     "text": [
      "0\n",
      "1\n",
      "2\n",
      "3\n",
      "4\n"
     ]
    }
   ],
   "source": [
    "for i in range(5):\n",
    "    print(i)"
   ]
  },
  {
   "cell_type": "markdown",
   "id": "progressive-parish",
   "metadata": {},
   "source": [
    "in 다음애는 iterable만 가능"
   ]
  },
  {
   "cell_type": "markdown",
   "id": "designed-plant",
   "metadata": {},
   "source": [
    "`-` `range(5)`의 정체는 그냥 iterable object이다. "
   ]
  },
  {
   "cell_type": "code",
   "execution_count": 60,
   "id": "understanding-director",
   "metadata": {},
   "outputs": [],
   "source": [
    "a=range(5)"
   ]
  },
  {
   "cell_type": "markdown",
   "id": "dominican-dietary",
   "metadata": {},
   "source": [
    "`-` 그래서 언제든지 iterator로 바꿀 수 있다. "
   ]
  },
  {
   "cell_type": "code",
   "execution_count": 61,
   "id": "bottom-target",
   "metadata": {},
   "outputs": [],
   "source": [
    "aiter=iter(a)"
   ]
  },
  {
   "cell_type": "code",
   "execution_count": 66,
   "id": "based-mouse",
   "metadata": {},
   "outputs": [
    {
     "data": {
      "text/plain": [
       "4"
      ]
     },
     "execution_count": 66,
     "metadata": {},
     "output_type": "execute_result"
    }
   ],
   "source": [
    "aiter.__next__()"
   ]
  },
  {
   "cell_type": "markdown",
   "id": "configured-signature",
   "metadata": {},
   "source": [
    "`0~4까지 출력 후 error 출력`"
   ]
  },
  {
   "cell_type": "markdown",
   "id": "transparent-religion",
   "metadata": {},
   "source": [
    "#### 이터레이터의 개념은 디버깅에 응용가능 "
   ]
  },
  {
   "cell_type": "code",
   "execution_count": 67,
   "id": "dental-morrison",
   "metadata": {},
   "outputs": [
    {
     "name": "stdout",
     "output_type": "stream",
     "text": [
      "(1, 'a')\n",
      "(2, 'b')\n",
      "(3, 'c')\n"
     ]
    }
   ],
   "source": [
    "for i in zip([1,2,3],'abc'):\n",
    "    print(i)"
   ]
  },
  {
   "cell_type": "code",
   "execution_count": 68,
   "id": "constant-phenomenon",
   "metadata": {},
   "outputs": [
    {
     "data": {
      "text/plain": [
       "<zip at 0x28645783d80>"
      ]
     },
     "execution_count": 68,
     "metadata": {},
     "output_type": "execute_result"
    }
   ],
   "source": [
    "zip([1,2,3],'abc')"
   ]
  },
  {
   "cell_type": "markdown",
   "id": "ranking-ecuador",
   "metadata": {},
   "source": [
    "어차피 `for i in ????:` ????의 자리는 iterable object 자리이다. "
   ]
  },
  {
   "cell_type": "code",
   "execution_count": 69,
   "id": "bound-farmer",
   "metadata": {},
   "outputs": [],
   "source": [
    "z=zip([1,2,3],'abc')"
   ]
  },
  {
   "cell_type": "code",
   "execution_count": 73,
   "id": "geographic-horizon",
   "metadata": {},
   "outputs": [
    {
     "data": {
      "text/plain": [
       "['__class__',\n",
       " '__delattr__',\n",
       " '__dir__',\n",
       " '__doc__',\n",
       " '__eq__',\n",
       " '__format__',\n",
       " '__ge__',\n",
       " '__getattribute__',\n",
       " '__gt__',\n",
       " '__hash__',\n",
       " '__init__',\n",
       " '__init_subclass__',\n",
       " '__iter__',\n",
       " '__le__',\n",
       " '__lt__',\n",
       " '__ne__',\n",
       " '__new__',\n",
       " '__next__',\n",
       " '__reduce__',\n",
       " '__reduce_ex__',\n",
       " '__repr__',\n",
       " '__setattr__',\n",
       " '__sizeof__',\n",
       " '__str__',\n",
       " '__subclasshook__']"
      ]
     },
     "execution_count": 73,
     "metadata": {},
     "output_type": "execute_result"
    }
   ],
   "source": [
    "dir(z)"
   ]
  },
  {
   "cell_type": "markdown",
   "id": "sacred-fiber",
   "metadata": {},
   "source": [
    "`-` `__next__()`함수가 있음 $\\to$ z자체가 iterator였다. (iterable object 이면서)"
   ]
  },
  {
   "cell_type": "code",
   "execution_count": 75,
   "id": "chief-disease",
   "metadata": {},
   "outputs": [
    {
     "data": {
      "text/plain": [
       "(2, 'b')"
      ]
     },
     "execution_count": 75,
     "metadata": {},
     "output_type": "execute_result"
    }
   ],
   "source": [
    "z.__next__()"
   ]
  },
  {
   "cell_type": "markdown",
   "id": "varied-literature",
   "metadata": {},
   "source": [
    "첫번째, 두번째, 세번째 그리고 마지막엔 에러"
   ]
  },
  {
   "cell_type": "markdown",
   "id": "5a165228-cc54-436f-8bb1-b260684cc538",
   "metadata": {},
   "source": [
    "```python\n",
    "for i in ???: \n",
    "    print(i)\n",
    "```"
   ]
  },
  {
   "cell_type": "markdown",
   "id": "advanced-hospital",
   "metadata": {},
   "source": [
    "`-` ??? 자리에 iterator 자체가와도 무방한 듯!!!"
   ]
  },
  {
   "cell_type": "markdown",
   "id": "remarkable-geometry",
   "metadata": {},
   "source": [
    "`-` 확인"
   ]
  },
  {
   "cell_type": "code",
   "execution_count": 76,
   "id": "outstanding-istanbul",
   "metadata": {},
   "outputs": [
    {
     "name": "stdout",
     "output_type": "stream",
     "text": [
      "1\n",
      "2\n",
      "3\n",
      "4\n"
     ]
    }
   ],
   "source": [
    "L=iter([1,2,3,4])\n",
    "for i in L:\n",
    "    print(i)"
   ]
  },
  {
   "cell_type": "code",
   "execution_count": 77,
   "id": "c0ffc04b-2077-4e93-91af-334139829dde",
   "metadata": {},
   "outputs": [
    {
     "data": {
      "text/plain": [
       "4"
      ]
     },
     "execution_count": 77,
     "metadata": {},
     "output_type": "execute_result"
    }
   ],
   "source": [
    "i"
   ]
  }
 ],
 "metadata": {
  "kernelspec": {
   "display_name": "Python 3 (ipykernel)",
   "language": "python",
   "name": "python3"
  },
  "language_info": {
   "codemirror_mode": {
    "name": "ipython",
    "version": 3
   },
   "file_extension": ".py",
   "mimetype": "text/x-python",
   "name": "python",
   "nbconvert_exporter": "python",
   "pygments_lexer": "ipython3",
   "version": "3.8.11"
  }
 },
 "nbformat": 4,
 "nbformat_minor": 5
}
