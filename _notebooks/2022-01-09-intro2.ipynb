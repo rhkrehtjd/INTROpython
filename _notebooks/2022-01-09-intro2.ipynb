{
 "cells": [
  {
   "cell_type": "markdown",
   "id": "4134bb24-1ce0-438e-bc25-6cd946e45a0c",
   "metadata": {},
   "source": [
    "# 2022/01/09/SUN"
   ]
  },
  {
   "cell_type": "code",
   "execution_count": 7,
   "id": "40e33db1-97df-42fa-8128-ef6da2870054",
   "metadata": {
    "id": "40e33db1-97df-42fa-8128-ef6da2870054",
    "outputId": "4fae3e79-e3ba-4472-9614-ef2245dfd3d6"
   },
   "outputs": [
    {
     "data": {
      "text/html": [
       "<div>\n",
       "<style scoped>\n",
       "    .dataframe tbody tr th:only-of-type {\n",
       "        vertical-align: middle;\n",
       "    }\n",
       "\n",
       "    .dataframe tbody tr th {\n",
       "        vertical-align: top;\n",
       "    }\n",
       "\n",
       "    .dataframe thead th {\n",
       "        text-align: right;\n",
       "    }\n",
       "</style>\n",
       "<table border=\"1\" class=\"dataframe\">\n",
       "  <thead>\n",
       "    <tr style=\"text-align: right;\">\n",
       "      <th></th>\n",
       "      <th>X1</th>\n",
       "      <th>X2</th>\n",
       "      <th>X3</th>\n",
       "      <th>X4</th>\n",
       "      <th>X5</th>\n",
       "      <th>X6</th>\n",
       "    </tr>\n",
       "  </thead>\n",
       "  <tbody>\n",
       "    <tr>\n",
       "      <th>0</th>\n",
       "      <td>1.624345</td>\n",
       "      <td>-2.301539</td>\n",
       "      <td>1.462108</td>\n",
       "      <td>-1.099891</td>\n",
       "      <td>-1.100619</td>\n",
       "      <td>-0.683728</td>\n",
       "    </tr>\n",
       "    <tr>\n",
       "      <th>1</th>\n",
       "      <td>-0.611756</td>\n",
       "      <td>1.744812</td>\n",
       "      <td>-2.060141</td>\n",
       "      <td>-0.172428</td>\n",
       "      <td>1.144724</td>\n",
       "      <td>-0.122890</td>\n",
       "    </tr>\n",
       "    <tr>\n",
       "      <th>2</th>\n",
       "      <td>-0.528172</td>\n",
       "      <td>-0.761207</td>\n",
       "      <td>-0.322417</td>\n",
       "      <td>-0.877858</td>\n",
       "      <td>0.901591</td>\n",
       "      <td>-0.935769</td>\n",
       "    </tr>\n",
       "    <tr>\n",
       "      <th>3</th>\n",
       "      <td>-1.072969</td>\n",
       "      <td>0.319039</td>\n",
       "      <td>-0.384054</td>\n",
       "      <td>0.042214</td>\n",
       "      <td>0.502494</td>\n",
       "      <td>-0.267888</td>\n",
       "    </tr>\n",
       "    <tr>\n",
       "      <th>4</th>\n",
       "      <td>0.865408</td>\n",
       "      <td>-0.249370</td>\n",
       "      <td>1.133769</td>\n",
       "      <td>0.582815</td>\n",
       "      <td>0.900856</td>\n",
       "      <td>0.530355</td>\n",
       "    </tr>\n",
       "  </tbody>\n",
       "</table>\n",
       "</div>"
      ],
      "text/plain": [
       "         X1        X2        X3        X4        X5        X6\n",
       "0  1.624345 -2.301539  1.462108 -1.099891 -1.100619 -0.683728\n",
       "1 -0.611756  1.744812 -2.060141 -0.172428  1.144724 -0.122890\n",
       "2 -0.528172 -0.761207 -0.322417 -0.877858  0.901591 -0.935769\n",
       "3 -1.072969  0.319039 -0.384054  0.042214  0.502494 -0.267888\n",
       "4  0.865408 -0.249370  1.133769  0.582815  0.900856  0.530355"
      ]
     },
     "execution_count": 7,
     "metadata": {},
     "output_type": "execute_result"
    }
   ],
   "source": [
    "import numpy as np\n",
    "import pandas as pd\n",
    "np.random.seed(1)\n",
    "dic= {'X1':np.random.normal(0,1,5), \n",
    "      'X2':np.random.normal(0,1,5), \n",
    "      'X3':np.random.normal(0,1,5), \n",
    "      'X4':np.random.normal(0,1,5), \n",
    "      'X5':np.random.normal(0,1,5), \n",
    "      'X6':np.random.normal(0,1,5)}\n",
    "df1=pd.DataFrame(dic) # 딕셔너리도 데이터프레임으로 만들 수 있음\n",
    "df1"
   ]
  },
  {
   "cell_type": "markdown",
   "id": "040e7c25-f6d1-418a-bb92-21e7584d488d",
   "metadata": {},
   "source": [
    "- 행 추출"
   ]
  },
  {
   "cell_type": "code",
   "execution_count": 11,
   "id": "815a7386-9745-478c-a7e5-9fe2a2ca4b30",
   "metadata": {},
   "outputs": [],
   "source": [
    "# df1.iloc[0]\n",
    "# df1.iloc[[0]]\n",
    "# df1.iloc[[0],:]\n",
    "# df1.iloc[0,:]"
   ]
  },
  {
   "cell_type": "code",
   "execution_count": 12,
   "id": "8744a523-75a5-4a28-87f1-2b4d1d49448a",
   "metadata": {
    "id": "8744a523-75a5-4a28-87f1-2b4d1d49448a",
    "outputId": "e455fdb8-87a7-47a9-94cb-b6a5694e0488"
   },
   "outputs": [],
   "source": [
    "# df1.loc[0]\n",
    "# df1.loc[[0]]\n",
    "# df1.loc[[0],:]\n",
    "# df1.loc[0,:]"
   ]
  },
  {
   "cell_type": "markdown",
   "id": "bef2f220-a9e9-429a-a380-0b50ff4c82c0",
   "metadata": {},
   "source": [
    "- 대괄호 두개 처리"
   ]
  },
  {
   "cell_type": "code",
   "execution_count": 15,
   "id": "444bf4f2-e206-496e-b8c4-11062e6e41c4",
   "metadata": {
    "id": "444bf4f2-e206-496e-b8c4-11062e6e41c4",
    "outputId": "609d4265-bee6-4614-acb2-b5765383ca49"
   },
   "outputs": [],
   "source": [
    "# df1.loc[[True,False,False,False,False],:]\n",
    "# df1.loc[[True,False,False,False,False]]\n",
    "# df1.iloc[[True,False,False,False,False],:]\n",
    "# df1.iloc[[True,False,False,False,False]]"
   ]
  },
  {
   "cell_type": "markdown",
   "id": "33bfb63b-1c66-4db5-90c2-40ab905210aa",
   "metadata": {},
   "source": [
    "- 대괄호 두개 처리!"
   ]
  },
  {
   "cell_type": "code",
   "execution_count": 18,
   "id": "2e041006-bb61-4385-b6d9-5f429fef71b8",
   "metadata": {
    "id": "2e041006-bb61-4385-b6d9-5f429fef71b8",
    "outputId": "23d41f19-b8fd-4c07-f5d3-d42ec48d7c1a"
   },
   "outputs": [],
   "source": [
    "# df1.iloc[[0,2],:] # 1,3행 선택\n",
    "# df1.loc[[0,2],:] # 1,3행 선택"
   ]
  },
  {
   "cell_type": "markdown",
   "id": "e8b59728-ea0b-40e6-8f90-63d1f22b4823",
   "metadata": {
    "id": "e8b59728-ea0b-40e6-8f90-63d1f22b4823"
   },
   "source": [
    "### `loc` vs `iloc`"
   ]
  },
  {
   "cell_type": "code",
   "execution_count": 21,
   "id": "9b8fc4f0-113e-4af1-9729-7e00095d754d",
   "metadata": {
    "id": "9b8fc4f0-113e-4af1-9729-7e00095d754d",
    "outputId": "c74a1e1a-dcec-4807-f2de-a142a204ebe5"
   },
   "outputs": [
    {
     "data": {
      "text/html": [
       "<div>\n",
       "<style scoped>\n",
       "    .dataframe tbody tr th:only-of-type {\n",
       "        vertical-align: middle;\n",
       "    }\n",
       "\n",
       "    .dataframe tbody tr th {\n",
       "        vertical-align: top;\n",
       "    }\n",
       "\n",
       "    .dataframe thead th {\n",
       "        text-align: right;\n",
       "    }\n",
       "</style>\n",
       "<table border=\"1\" class=\"dataframe\">\n",
       "  <thead>\n",
       "    <tr style=\"text-align: right;\">\n",
       "      <th></th>\n",
       "      <th>A</th>\n",
       "      <th>B</th>\n",
       "    </tr>\n",
       "  </thead>\n",
       "  <tbody>\n",
       "    <tr>\n",
       "      <th>a</th>\n",
       "      <td>1</td>\n",
       "      <td>4</td>\n",
       "    </tr>\n",
       "    <tr>\n",
       "      <th>b</th>\n",
       "      <td>2</td>\n",
       "      <td>5</td>\n",
       "    </tr>\n",
       "    <tr>\n",
       "      <th>c</th>\n",
       "      <td>3</td>\n",
       "      <td>6</td>\n",
       "    </tr>\n",
       "    <tr>\n",
       "      <th>d</th>\n",
       "      <td>4</td>\n",
       "      <td>7</td>\n",
       "    </tr>\n",
       "  </tbody>\n",
       "</table>\n",
       "</div>"
      ],
      "text/plain": [
       "   A  B\n",
       "a  1  4\n",
       "b  2  5\n",
       "c  3  6\n",
       "d  4  7"
      ]
     },
     "execution_count": 21,
     "metadata": {},
     "output_type": "execute_result"
    }
   ],
   "source": [
    "_df= pd.DataFrame({'A':[1,2,3,4],'B':[4,5,6,7]},index=list('abcd')) # 인덱스는 형태가 list!\n",
    "_df"
   ]
  },
  {
   "cell_type": "markdown",
   "id": "cfc89429-2fc9-411a-a762-a94422e24c53",
   "metadata": {},
   "source": [
    "- 연속 추출은 대괄호 생략 가능"
   ]
  },
  {
   "cell_type": "code",
   "execution_count": 29,
   "id": "48b09e4f-cc00-44dd-afa9-3fe4f4632c2f",
   "metadata": {},
   "outputs": [],
   "source": [
    "# _df.loc[['a','c'],:]\n",
    "# _df.loc['a':'c',:]\n",
    "# _df.iloc[0:3,:]   =>  0,1,2행\n",
    "# _df.iloc[[0,2],:]  =>  0,2행"
   ]
  },
  {
   "cell_type": "code",
   "execution_count": 31,
   "id": "572437b9-9300-4b7f-9849-559a038dad99",
   "metadata": {},
   "outputs": [
    {
     "data": {
      "text/plain": [
       "array([[-1.37311732,  0.31515939,  0.84616065, -0.85951594],\n",
       "       [ 0.35054598, -1.31228341, -0.03869551, -1.61577235],\n",
       "       [ 1.12141771,  0.40890054, -0.02461696, -0.77516162],\n",
       "       [ 1.27375593,  1.96710175, -1.85798186,  1.23616403],\n",
       "       [ 1.62765075,  0.3380117 , -1.19926803,  0.86334532],\n",
       "       [-0.1809203 , -0.60392063, -1.23005814,  0.5505375 ],\n",
       "       [ 0.79280687, -0.62353073,  0.52057634, -1.14434139],\n",
       "       [ 0.80186103,  0.0465673 , -0.18656977, -0.10174587],\n",
       "       [ 0.86888616,  0.75041164,  0.52946532,  0.13770121],\n",
       "       [ 0.07782113,  0.61838026,  0.23249456,  0.68255141],\n",
       "       [-0.31011677, -2.43483776,  1.0388246 ,  2.18697965],\n",
       "       [ 0.44136444, -0.10015523, -0.13644474, -0.11905419],\n",
       "       [ 0.01740941, -1.12201873, -0.51709446, -0.99702683],\n",
       "       [ 0.24879916, -0.29664115,  0.49521132, -0.17470316],\n",
       "       [ 0.98633519,  0.2135339 ,  2.19069973, -1.89636092],\n",
       "       [-0.64691669,  0.90148689,  2.52832571, -0.24863478],\n",
       "       [ 0.04366899, -0.22631424,  1.33145711, -0.28730786],\n",
       "       [ 0.68006984, -0.3198016 , -1.27255876,  0.31354772],\n",
       "       [ 0.50318481,  1.29322588, -0.11044703, -0.61736206],\n",
       "       [ 0.5627611 ,  0.24073709,  0.28066508, -0.0731127 ]])"
      ]
     },
     "execution_count": 31,
     "metadata": {},
     "output_type": "execute_result"
    }
   ],
   "source": [
    "np.random.normal(size=(20,4))"
   ]
  },
  {
   "cell_type": "code",
   "execution_count": 32,
   "id": "e53ce502-a186-4cfd-92a8-89daa6ff65d2",
   "metadata": {
    "id": "e53ce502-a186-4cfd-92a8-89daa6ff65d2",
    "outputId": "9846e00b-0a1e-4dc9-8a4a-b30dbbcfabc0"
   },
   "outputs": [
    {
     "data": {
      "text/html": [
       "<div>\n",
       "<style scoped>\n",
       "    .dataframe tbody tr th:only-of-type {\n",
       "        vertical-align: middle;\n",
       "    }\n",
       "\n",
       "    .dataframe tbody tr th {\n",
       "        vertical-align: top;\n",
       "    }\n",
       "\n",
       "    .dataframe thead th {\n",
       "        text-align: right;\n",
       "    }\n",
       "</style>\n",
       "<table border=\"1\" class=\"dataframe\">\n",
       "  <thead>\n",
       "    <tr style=\"text-align: right;\">\n",
       "      <th></th>\n",
       "      <th>A</th>\n",
       "      <th>B</th>\n",
       "      <th>C</th>\n",
       "      <th>D</th>\n",
       "    </tr>\n",
       "  </thead>\n",
       "  <tbody>\n",
       "    <tr>\n",
       "      <th>2020-12-25</th>\n",
       "      <td>1.624345</td>\n",
       "      <td>-0.611756</td>\n",
       "      <td>-0.528172</td>\n",
       "      <td>-1.072969</td>\n",
       "    </tr>\n",
       "    <tr>\n",
       "      <th>2020-12-26</th>\n",
       "      <td>0.865408</td>\n",
       "      <td>-2.301539</td>\n",
       "      <td>1.744812</td>\n",
       "      <td>-0.761207</td>\n",
       "    </tr>\n",
       "    <tr>\n",
       "      <th>2020-12-27</th>\n",
       "      <td>0.319039</td>\n",
       "      <td>-0.249370</td>\n",
       "      <td>1.462108</td>\n",
       "      <td>-2.060141</td>\n",
       "    </tr>\n",
       "    <tr>\n",
       "      <th>2020-12-28</th>\n",
       "      <td>-0.322417</td>\n",
       "      <td>-0.384054</td>\n",
       "      <td>1.133769</td>\n",
       "      <td>-1.099891</td>\n",
       "    </tr>\n",
       "    <tr>\n",
       "      <th>2020-12-29</th>\n",
       "      <td>-0.172428</td>\n",
       "      <td>-0.877858</td>\n",
       "      <td>0.042214</td>\n",
       "      <td>0.582815</td>\n",
       "    </tr>\n",
       "    <tr>\n",
       "      <th>2020-12-30</th>\n",
       "      <td>-1.100619</td>\n",
       "      <td>1.144724</td>\n",
       "      <td>0.901591</td>\n",
       "      <td>0.502494</td>\n",
       "    </tr>\n",
       "    <tr>\n",
       "      <th>2020-12-31</th>\n",
       "      <td>0.900856</td>\n",
       "      <td>-0.683728</td>\n",
       "      <td>-0.122890</td>\n",
       "      <td>-0.935769</td>\n",
       "    </tr>\n",
       "    <tr>\n",
       "      <th>2021-01-01</th>\n",
       "      <td>-0.267888</td>\n",
       "      <td>0.530355</td>\n",
       "      <td>-0.691661</td>\n",
       "      <td>-0.396754</td>\n",
       "    </tr>\n",
       "    <tr>\n",
       "      <th>2021-01-02</th>\n",
       "      <td>-0.687173</td>\n",
       "      <td>-0.845206</td>\n",
       "      <td>-0.671246</td>\n",
       "      <td>-0.012665</td>\n",
       "    </tr>\n",
       "    <tr>\n",
       "      <th>2021-01-03</th>\n",
       "      <td>-1.117310</td>\n",
       "      <td>0.234416</td>\n",
       "      <td>1.659802</td>\n",
       "      <td>0.742044</td>\n",
       "    </tr>\n",
       "    <tr>\n",
       "      <th>2021-01-04</th>\n",
       "      <td>-0.191836</td>\n",
       "      <td>-0.887629</td>\n",
       "      <td>-0.747158</td>\n",
       "      <td>1.692455</td>\n",
       "    </tr>\n",
       "    <tr>\n",
       "      <th>2021-01-05</th>\n",
       "      <td>0.050808</td>\n",
       "      <td>-0.636996</td>\n",
       "      <td>0.190915</td>\n",
       "      <td>2.100255</td>\n",
       "    </tr>\n",
       "    <tr>\n",
       "      <th>2021-01-06</th>\n",
       "      <td>0.120159</td>\n",
       "      <td>0.617203</td>\n",
       "      <td>0.300170</td>\n",
       "      <td>-0.352250</td>\n",
       "    </tr>\n",
       "    <tr>\n",
       "      <th>2021-01-07</th>\n",
       "      <td>-1.142518</td>\n",
       "      <td>-0.349343</td>\n",
       "      <td>-0.208894</td>\n",
       "      <td>0.586623</td>\n",
       "    </tr>\n",
       "    <tr>\n",
       "      <th>2021-01-08</th>\n",
       "      <td>0.838983</td>\n",
       "      <td>0.931102</td>\n",
       "      <td>0.285587</td>\n",
       "      <td>0.885141</td>\n",
       "    </tr>\n",
       "    <tr>\n",
       "      <th>2021-01-09</th>\n",
       "      <td>-0.754398</td>\n",
       "      <td>1.252868</td>\n",
       "      <td>0.512930</td>\n",
       "      <td>-0.298093</td>\n",
       "    </tr>\n",
       "    <tr>\n",
       "      <th>2021-01-10</th>\n",
       "      <td>0.488518</td>\n",
       "      <td>-0.075572</td>\n",
       "      <td>1.131629</td>\n",
       "      <td>1.519817</td>\n",
       "    </tr>\n",
       "    <tr>\n",
       "      <th>2021-01-11</th>\n",
       "      <td>2.185575</td>\n",
       "      <td>-1.396496</td>\n",
       "      <td>-1.444114</td>\n",
       "      <td>-0.504466</td>\n",
       "    </tr>\n",
       "    <tr>\n",
       "      <th>2021-01-12</th>\n",
       "      <td>0.160037</td>\n",
       "      <td>0.876169</td>\n",
       "      <td>0.315635</td>\n",
       "      <td>-2.022201</td>\n",
       "    </tr>\n",
       "    <tr>\n",
       "      <th>2021-01-13</th>\n",
       "      <td>-0.306204</td>\n",
       "      <td>0.827975</td>\n",
       "      <td>0.230095</td>\n",
       "      <td>0.762011</td>\n",
       "    </tr>\n",
       "  </tbody>\n",
       "</table>\n",
       "</div>"
      ],
      "text/plain": [
       "                   A         B         C         D\n",
       "2020-12-25  1.624345 -0.611756 -0.528172 -1.072969\n",
       "2020-12-26  0.865408 -2.301539  1.744812 -0.761207\n",
       "2020-12-27  0.319039 -0.249370  1.462108 -2.060141\n",
       "2020-12-28 -0.322417 -0.384054  1.133769 -1.099891\n",
       "2020-12-29 -0.172428 -0.877858  0.042214  0.582815\n",
       "2020-12-30 -1.100619  1.144724  0.901591  0.502494\n",
       "2020-12-31  0.900856 -0.683728 -0.122890 -0.935769\n",
       "2021-01-01 -0.267888  0.530355 -0.691661 -0.396754\n",
       "2021-01-02 -0.687173 -0.845206 -0.671246 -0.012665\n",
       "2021-01-03 -1.117310  0.234416  1.659802  0.742044\n",
       "2021-01-04 -0.191836 -0.887629 -0.747158  1.692455\n",
       "2021-01-05  0.050808 -0.636996  0.190915  2.100255\n",
       "2021-01-06  0.120159  0.617203  0.300170 -0.352250\n",
       "2021-01-07 -1.142518 -0.349343 -0.208894  0.586623\n",
       "2021-01-08  0.838983  0.931102  0.285587  0.885141\n",
       "2021-01-09 -0.754398  1.252868  0.512930 -0.298093\n",
       "2021-01-10  0.488518 -0.075572  1.131629  1.519817\n",
       "2021-01-11  2.185575 -1.396496 -1.444114 -0.504466\n",
       "2021-01-12  0.160037  0.876169  0.315635 -2.022201\n",
       "2021-01-13 -0.306204  0.827975  0.230095  0.762011"
      ]
     },
     "execution_count": 32,
     "metadata": {},
     "output_type": "execute_result"
    }
   ],
   "source": [
    "np.random.seed(1)\n",
    "_df= pd.DataFrame(np.random.normal(size=(20,4)), columns=list('ABCD'), index=pd.date_range('20201225',periods=20))\n",
    "_df"
   ]
  },
  {
   "cell_type": "markdown",
   "id": "d27b73a7-67a8-42e0-bb59-c20cc2bba425",
   "metadata": {},
   "source": [
    "- 연속 추출시 대괄호 생략 가능"
   ]
  },
  {
   "cell_type": "code",
   "execution_count": 33,
   "id": "d1621025-bbde-4217-b583-c6593955a51f",
   "metadata": {
    "id": "d1621025-bbde-4217-b583-c6593955a51f",
    "outputId": "bc08fbd9-74ba-4b51-f983-b3d228812948"
   },
   "outputs": [],
   "source": [
    "# _df.loc['20210105':'20210108']"
   ]
  },
  {
   "cell_type": "code",
   "execution_count": 35,
   "id": "2dc9ed41-7d73-446c-9052-9978603fc4c9",
   "metadata": {
    "id": "2dc9ed41-7d73-446c-9052-9978603fc4c9",
    "outputId": "13f9af14-2c9b-452c-e8f9-f36645d61f76"
   },
   "outputs": [
    {
     "data": {
      "text/plain": [
       "0    2020-12-25\n",
       "1    2020-12-26\n",
       "2    2020-12-27\n",
       "3    2020-12-28\n",
       "4    2020-12-29\n",
       "5    2020-12-30\n",
       "6    2020-12-31\n",
       "7    2021-01-01\n",
       "8    2021-01-02\n",
       "9    2021-01-03\n",
       "10   2021-01-04\n",
       "11   2021-01-05\n",
       "12   2021-01-06\n",
       "13   2021-01-07\n",
       "14   2021-01-08\n",
       "15   2021-01-09\n",
       "16   2021-01-10\n",
       "17   2021-01-11\n",
       "18   2021-01-12\n",
       "19   2021-01-13\n",
       "dtype: datetime64[ns]"
      ]
     },
     "execution_count": 35,
     "metadata": {},
     "output_type": "execute_result"
    }
   ],
   "source": [
    "pd.Series(_df.index) # index 자리에 columns 입력하면 열의 번호"
   ]
  },
  {
   "cell_type": "code",
   "execution_count": 36,
   "id": "98643b74-6c32-4a62-9b1e-998727342f99",
   "metadata": {
    "id": "98643b74-6c32-4a62-9b1e-998727342f99",
    "outputId": "910119cf-c5c6-41a2-9dde-1afa2fcf72d0"
   },
   "outputs": [
    {
     "data": {
      "text/html": [
       "<div>\n",
       "<style scoped>\n",
       "    .dataframe tbody tr th:only-of-type {\n",
       "        vertical-align: middle;\n",
       "    }\n",
       "\n",
       "    .dataframe tbody tr th {\n",
       "        vertical-align: top;\n",
       "    }\n",
       "\n",
       "    .dataframe thead th {\n",
       "        text-align: right;\n",
       "    }\n",
       "</style>\n",
       "<table border=\"1\" class=\"dataframe\">\n",
       "  <thead>\n",
       "    <tr style=\"text-align: right;\">\n",
       "      <th></th>\n",
       "      <th>A</th>\n",
       "      <th>B</th>\n",
       "      <th>C</th>\n",
       "      <th>D</th>\n",
       "    </tr>\n",
       "  </thead>\n",
       "  <tbody>\n",
       "    <tr>\n",
       "      <th>2021-01-05</th>\n",
       "      <td>0.050808</td>\n",
       "      <td>-0.636996</td>\n",
       "      <td>0.190915</td>\n",
       "      <td>2.100255</td>\n",
       "    </tr>\n",
       "    <tr>\n",
       "      <th>2021-01-06</th>\n",
       "      <td>0.120159</td>\n",
       "      <td>0.617203</td>\n",
       "      <td>0.300170</td>\n",
       "      <td>-0.352250</td>\n",
       "    </tr>\n",
       "    <tr>\n",
       "      <th>2021-01-07</th>\n",
       "      <td>-1.142518</td>\n",
       "      <td>-0.349343</td>\n",
       "      <td>-0.208894</td>\n",
       "      <td>0.586623</td>\n",
       "    </tr>\n",
       "    <tr>\n",
       "      <th>2021-01-08</th>\n",
       "      <td>0.838983</td>\n",
       "      <td>0.931102</td>\n",
       "      <td>0.285587</td>\n",
       "      <td>0.885141</td>\n",
       "    </tr>\n",
       "  </tbody>\n",
       "</table>\n",
       "</div>"
      ],
      "text/plain": [
       "                   A         B         C         D\n",
       "2021-01-05  0.050808 -0.636996  0.190915  2.100255\n",
       "2021-01-06  0.120159  0.617203  0.300170 -0.352250\n",
       "2021-01-07 -1.142518 -0.349343 -0.208894  0.586623\n",
       "2021-01-08  0.838983  0.931102  0.285587  0.885141"
      ]
     },
     "execution_count": 36,
     "metadata": {},
     "output_type": "execute_result"
    }
   ],
   "source": [
    "_df.iloc[11:15]"
   ]
  },
  {
   "cell_type": "markdown",
   "id": "fa8158a7-e233-4f78-946f-8db47e1571cf",
   "metadata": {},
   "source": [
    "### `특정 이름의 열` 추출"
   ]
  },
  {
   "cell_type": "code",
   "execution_count": 37,
   "id": "492e3637-7926-4b2b-b4f1-4b33a1cae83e",
   "metadata": {},
   "outputs": [
    {
     "data": {
      "text/plain": [
       "2020-12-25    1.624345\n",
       "2020-12-26    0.865408\n",
       "2020-12-27    0.319039\n",
       "2020-12-28   -0.322417\n",
       "2020-12-29   -0.172428\n",
       "2020-12-30   -1.100619\n",
       "2020-12-31    0.900856\n",
       "2021-01-01   -0.267888\n",
       "2021-01-02   -0.687173\n",
       "2021-01-03   -1.117310\n",
       "2021-01-04   -0.191836\n",
       "2021-01-05    0.050808\n",
       "2021-01-06    0.120159\n",
       "2021-01-07   -1.142518\n",
       "2021-01-08    0.838983\n",
       "2021-01-09   -0.754398\n",
       "2021-01-10    0.488518\n",
       "2021-01-11    2.185575\n",
       "2021-01-12    0.160037\n",
       "2021-01-13   -0.306204\n",
       "Freq: D, Name: A, dtype: float64"
      ]
     },
     "execution_count": 37,
     "metadata": {},
     "output_type": "execute_result"
    }
   ],
   "source": [
    "_df.A"
   ]
  },
  {
   "cell_type": "code",
   "execution_count": 39,
   "id": "7c52196a-eb68-4854-bf7f-59555f977c70",
   "metadata": {},
   "outputs": [
    {
     "data": {
      "text/plain": [
       "2020-12-25    1.624345\n",
       "2020-12-26    0.865408\n",
       "2020-12-27    0.319039\n",
       "2020-12-28   -0.322417\n",
       "2020-12-29   -0.172428\n",
       "2020-12-30   -1.100619\n",
       "2020-12-31    0.900856\n",
       "2021-01-01   -0.267888\n",
       "2021-01-02   -0.687173\n",
       "2021-01-03   -1.117310\n",
       "2021-01-04   -0.191836\n",
       "2021-01-05    0.050808\n",
       "2021-01-06    0.120159\n",
       "2021-01-07   -1.142518\n",
       "2021-01-08    0.838983\n",
       "2021-01-09   -0.754398\n",
       "2021-01-10    0.488518\n",
       "2021-01-11    2.185575\n",
       "2021-01-12    0.160037\n",
       "2021-01-13   -0.306204\n",
       "Freq: D, Name: A, dtype: float64"
      ]
     },
     "execution_count": 39,
     "metadata": {},
     "output_type": "execute_result"
    }
   ],
   "source": [
    "_df['A'] #행에선 x"
   ]
  },
  {
   "cell_type": "code",
   "execution_count": 41,
   "id": "d80d5676-98e4-4783-b559-f83910752604",
   "metadata": {
    "id": "d80d5676-98e4-4783-b559-f83910752604",
    "outputId": "e4ed10d0-793e-4ae0-f8af-5efae22f4a3b"
   },
   "outputs": [
    {
     "data": {
      "text/html": [
       "<div>\n",
       "<style scoped>\n",
       "    .dataframe tbody tr th:only-of-type {\n",
       "        vertical-align: middle;\n",
       "    }\n",
       "\n",
       "    .dataframe tbody tr th {\n",
       "        vertical-align: top;\n",
       "    }\n",
       "\n",
       "    .dataframe thead th {\n",
       "        text-align: right;\n",
       "    }\n",
       "</style>\n",
       "<table border=\"1\" class=\"dataframe\">\n",
       "  <thead>\n",
       "    <tr style=\"text-align: right;\">\n",
       "      <th></th>\n",
       "      <th>A</th>\n",
       "      <th>B</th>\n",
       "      <th>C</th>\n",
       "      <th>D</th>\n",
       "    </tr>\n",
       "  </thead>\n",
       "  <tbody>\n",
       "    <tr>\n",
       "      <th>2020-12-25</th>\n",
       "      <td>1.624345</td>\n",
       "      <td>-0.611756</td>\n",
       "      <td>-0.528172</td>\n",
       "      <td>-1.072969</td>\n",
       "    </tr>\n",
       "    <tr>\n",
       "      <th>2020-12-30</th>\n",
       "      <td>-1.100619</td>\n",
       "      <td>1.144724</td>\n",
       "      <td>0.901591</td>\n",
       "      <td>0.502494</td>\n",
       "    </tr>\n",
       "    <tr>\n",
       "      <th>2021-01-04</th>\n",
       "      <td>-0.191836</td>\n",
       "      <td>-0.887629</td>\n",
       "      <td>-0.747158</td>\n",
       "      <td>1.692455</td>\n",
       "    </tr>\n",
       "    <tr>\n",
       "      <th>2021-01-09</th>\n",
       "      <td>-0.754398</td>\n",
       "      <td>1.252868</td>\n",
       "      <td>0.512930</td>\n",
       "      <td>-0.298093</td>\n",
       "    </tr>\n",
       "  </tbody>\n",
       "</table>\n",
       "</div>"
      ],
      "text/plain": [
       "                   A         B         C         D\n",
       "2020-12-25  1.624345 -0.611756 -0.528172 -1.072969\n",
       "2020-12-30 -1.100619  1.144724  0.901591  0.502494\n",
       "2021-01-04 -0.191836 -0.887629 -0.747158  1.692455\n",
       "2021-01-09 -0.754398  1.252868  0.512930 -0.298093"
      ]
     },
     "execution_count": 41,
     "metadata": {},
     "output_type": "execute_result"
    }
   ],
   "source": [
    "_df.iloc[::5] # 5단위로 행 추출"
   ]
  },
  {
   "cell_type": "code",
   "execution_count": 42,
   "id": "f73c86c5-0648-4673-8721-99a316244a4c",
   "metadata": {
    "id": "f73c86c5-0648-4673-8721-99a316244a4c",
    "outputId": "6144df0f-b452-4621-f351-0ab40c9add61"
   },
   "outputs": [
    {
     "data": {
      "text/html": [
       "<div>\n",
       "<style scoped>\n",
       "    .dataframe tbody tr th:only-of-type {\n",
       "        vertical-align: middle;\n",
       "    }\n",
       "\n",
       "    .dataframe tbody tr th {\n",
       "        vertical-align: top;\n",
       "    }\n",
       "\n",
       "    .dataframe thead th {\n",
       "        text-align: right;\n",
       "    }\n",
       "</style>\n",
       "<table border=\"1\" class=\"dataframe\">\n",
       "  <thead>\n",
       "    <tr style=\"text-align: right;\">\n",
       "      <th></th>\n",
       "      <th>A</th>\n",
       "      <th>C</th>\n",
       "    </tr>\n",
       "  </thead>\n",
       "  <tbody>\n",
       "    <tr>\n",
       "      <th>2020-12-25</th>\n",
       "      <td>1.624345</td>\n",
       "      <td>-0.528172</td>\n",
       "    </tr>\n",
       "    <tr>\n",
       "      <th>2020-12-26</th>\n",
       "      <td>0.865408</td>\n",
       "      <td>1.744812</td>\n",
       "    </tr>\n",
       "    <tr>\n",
       "      <th>2020-12-27</th>\n",
       "      <td>0.319039</td>\n",
       "      <td>1.462108</td>\n",
       "    </tr>\n",
       "    <tr>\n",
       "      <th>2020-12-28</th>\n",
       "      <td>-0.322417</td>\n",
       "      <td>1.133769</td>\n",
       "    </tr>\n",
       "    <tr>\n",
       "      <th>2020-12-29</th>\n",
       "      <td>-0.172428</td>\n",
       "      <td>0.042214</td>\n",
       "    </tr>\n",
       "    <tr>\n",
       "      <th>2020-12-30</th>\n",
       "      <td>-1.100619</td>\n",
       "      <td>0.901591</td>\n",
       "    </tr>\n",
       "    <tr>\n",
       "      <th>2020-12-31</th>\n",
       "      <td>0.900856</td>\n",
       "      <td>-0.122890</td>\n",
       "    </tr>\n",
       "    <tr>\n",
       "      <th>2021-01-01</th>\n",
       "      <td>-0.267888</td>\n",
       "      <td>-0.691661</td>\n",
       "    </tr>\n",
       "    <tr>\n",
       "      <th>2021-01-02</th>\n",
       "      <td>-0.687173</td>\n",
       "      <td>-0.671246</td>\n",
       "    </tr>\n",
       "    <tr>\n",
       "      <th>2021-01-03</th>\n",
       "      <td>-1.117310</td>\n",
       "      <td>1.659802</td>\n",
       "    </tr>\n",
       "    <tr>\n",
       "      <th>2021-01-04</th>\n",
       "      <td>-0.191836</td>\n",
       "      <td>-0.747158</td>\n",
       "    </tr>\n",
       "    <tr>\n",
       "      <th>2021-01-05</th>\n",
       "      <td>0.050808</td>\n",
       "      <td>0.190915</td>\n",
       "    </tr>\n",
       "    <tr>\n",
       "      <th>2021-01-06</th>\n",
       "      <td>0.120159</td>\n",
       "      <td>0.300170</td>\n",
       "    </tr>\n",
       "    <tr>\n",
       "      <th>2021-01-07</th>\n",
       "      <td>-1.142518</td>\n",
       "      <td>-0.208894</td>\n",
       "    </tr>\n",
       "    <tr>\n",
       "      <th>2021-01-08</th>\n",
       "      <td>0.838983</td>\n",
       "      <td>0.285587</td>\n",
       "    </tr>\n",
       "    <tr>\n",
       "      <th>2021-01-09</th>\n",
       "      <td>-0.754398</td>\n",
       "      <td>0.512930</td>\n",
       "    </tr>\n",
       "    <tr>\n",
       "      <th>2021-01-10</th>\n",
       "      <td>0.488518</td>\n",
       "      <td>1.131629</td>\n",
       "    </tr>\n",
       "    <tr>\n",
       "      <th>2021-01-11</th>\n",
       "      <td>2.185575</td>\n",
       "      <td>-1.444114</td>\n",
       "    </tr>\n",
       "    <tr>\n",
       "      <th>2021-01-12</th>\n",
       "      <td>0.160037</td>\n",
       "      <td>0.315635</td>\n",
       "    </tr>\n",
       "    <tr>\n",
       "      <th>2021-01-13</th>\n",
       "      <td>-0.306204</td>\n",
       "      <td>0.230095</td>\n",
       "    </tr>\n",
       "  </tbody>\n",
       "</table>\n",
       "</div>"
      ],
      "text/plain": [
       "                   A         C\n",
       "2020-12-25  1.624345 -0.528172\n",
       "2020-12-26  0.865408  1.744812\n",
       "2020-12-27  0.319039  1.462108\n",
       "2020-12-28 -0.322417  1.133769\n",
       "2020-12-29 -0.172428  0.042214\n",
       "2020-12-30 -1.100619  0.901591\n",
       "2020-12-31  0.900856 -0.122890\n",
       "2021-01-01 -0.267888 -0.691661\n",
       "2021-01-02 -0.687173 -0.671246\n",
       "2021-01-03 -1.117310  1.659802\n",
       "2021-01-04 -0.191836 -0.747158\n",
       "2021-01-05  0.050808  0.190915\n",
       "2021-01-06  0.120159  0.300170\n",
       "2021-01-07 -1.142518 -0.208894\n",
       "2021-01-08  0.838983  0.285587\n",
       "2021-01-09 -0.754398  0.512930\n",
       "2021-01-10  0.488518  1.131629\n",
       "2021-01-11  2.185575 -1.444114\n",
       "2021-01-12  0.160037  0.315635\n",
       "2021-01-13 -0.306204  0.230095"
      ]
     },
     "execution_count": 42,
     "metadata": {},
     "output_type": "execute_result"
    }
   ],
   "source": [
    "_df.iloc[:,::2] # 2단위로 열 추출"
   ]
  },
  {
   "cell_type": "markdown",
   "id": "5a61df43-662a-4ef8-a77b-5e35294e0852",
   "metadata": {
    "id": "5a61df43-662a-4ef8-a77b-5e35294e0852"
   },
   "source": [
    "#  `lambda + map `"
   ]
  },
  {
   "cell_type": "code",
   "execution_count": 43,
   "id": "97bd1340-d88d-4f07-914f-99faa788f32d",
   "metadata": {
    "id": "97bd1340-d88d-4f07-914f-99faa788f32d",
    "outputId": "55b79abb-c4a4-47eb-f175-84c3e96b2072"
   },
   "outputs": [],
   "source": [
    "np.random.seed(1)\n",
    "df2= pd.DataFrame(np.random.normal(size=(10,4)),columns=list('ABCD'))"
   ]
  },
  {
   "cell_type": "markdown",
   "id": "eb66f88f-c5b3-4214-adad-b7c89ccfeac4",
   "metadata": {},
   "source": [
    "#### `A>0` : A열만 뽑진 않고 A>0인 모든 열을 다 뽑음"
   ]
  },
  {
   "cell_type": "code",
   "execution_count": 56,
   "id": "a26d0a66-9a22-40df-aef2-16898d6c7264",
   "metadata": {},
   "outputs": [],
   "source": [
    "# df2.query('A>0')"
   ]
  },
  {
   "cell_type": "code",
   "execution_count": 57,
   "id": "46c5630e-1a17-447c-ae84-1c4ae1f5e623",
   "metadata": {
    "id": "46c5630e-1a17-447c-ae84-1c4ae1f5e623",
    "outputId": "66f72b90-4e00-46ef-ded3-bd46f242e323"
   },
   "outputs": [],
   "source": [
    "# df2.loc[map(lambda x: x>0,df2['A']),:]"
   ]
  },
  {
   "cell_type": "code",
   "execution_count": 58,
   "id": "f5fac5da-b8d6-406c-b9f3-d34139f51094",
   "metadata": {
    "id": "f5fac5da-b8d6-406c-b9f3-d34139f51094",
    "outputId": "30e75e55-6c4c-471c-9c90-a2c47b806c3c"
   },
   "outputs": [],
   "source": [
    "# df2.iloc[map(lambda x: x>0,df2['A']),:]"
   ]
  },
  {
   "cell_type": "code",
   "execution_count": 59,
   "id": "e797a43e-c638-4c8e-b6c7-e6b09fe18c92",
   "metadata": {
    "id": "e797a43e-c638-4c8e-b6c7-e6b09fe18c92",
    "outputId": "046f2453-8d4e-4714-a1ed-c55ed682910d"
   },
   "outputs": [],
   "source": [
    "# df2.loc[lambda df: df['A']>0,:]"
   ]
  },
  {
   "cell_type": "markdown",
   "id": "ec458416-347d-4b74-807c-4150bbbbcff6",
   "metadata": {},
   "source": [
    "#### `A>0,C<0` : A>0,C<0인 모든 행 뽑음"
   ]
  },
  {
   "cell_type": "code",
   "execution_count": 61,
   "id": "42c53941-0b13-4eea-8037-fc11ae2dd744",
   "metadata": {},
   "outputs": [],
   "source": [
    "# df2.query('A>0 and C<0')"
   ]
  },
  {
   "cell_type": "code",
   "execution_count": 62,
   "id": "5a87b860-2181-4ac0-a9cc-f1dd117fd3fc",
   "metadata": {
    "id": "5a87b860-2181-4ac0-a9cc-f1dd117fd3fc",
    "outputId": "9c144475-c4bc-4010-ba23-217fd2815ab6"
   },
   "outputs": [],
   "source": [
    "# df2.loc[map(lambda x,y: x>0 and y<0, df2['A'],df2['C']),:]"
   ]
  },
  {
   "cell_type": "markdown",
   "id": "671edc02-3b50-4a12-bfe4-9de300d898d4",
   "metadata": {},
   "source": [
    "- 괄호 처리 주의(&)"
   ]
  },
  {
   "cell_type": "code",
   "execution_count": 65,
   "id": "b92c4a3c-4eae-47c9-8a9a-9d8307b07a7c",
   "metadata": {
    "id": "b92c4a3c-4eae-47c9-8a9a-9d8307b07a7c",
    "outputId": "c5d01922-bdcd-4365-8d0d-7a3afc62448e"
   },
   "outputs": [],
   "source": [
    "# df2.loc[map(lambda x,y: (x>0) & (y<0), df2['A'],df2['C']),:] "
   ]
  },
  {
   "cell_type": "code",
   "execution_count": 66,
   "id": "aeeffbe8-40a2-41e3-be12-8ddd24a04f0f",
   "metadata": {
    "id": "aeeffbe8-40a2-41e3-be12-8ddd24a04f0f",
    "outputId": "9c7e69b6-258f-405c-f895-9ab7eddc539b"
   },
   "outputs": [],
   "source": [
    "# df2.loc[lambda df: (df['A'] >0) & (df['C']<0)] "
   ]
  }
 ],
 "metadata": {
  "colab": {
   "name": "2021-10-20-(7주차) 10월20일.ipynb",
   "provenance": []
  },
  "kernelspec": {
   "display_name": "Python 3 (ipykernel)",
   "language": "python",
   "name": "python3"
  },
  "language_info": {
   "codemirror_mode": {
    "name": "ipython",
    "version": 3
   },
   "file_extension": ".py",
   "mimetype": "text/x-python",
   "name": "python",
   "nbconvert_exporter": "python",
   "pygments_lexer": "ipython3",
   "version": "3.8.11"
  }
 },
 "nbformat": 4,
 "nbformat_minor": 5
}
