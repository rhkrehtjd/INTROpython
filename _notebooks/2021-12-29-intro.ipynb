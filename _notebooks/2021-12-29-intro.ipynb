{
 "cells": [
  {
   "cell_type": "markdown",
   "id": "8e9d3ff6-f849-4b03-bdc7-de30e41a62b7",
   "metadata": {},
   "source": [
    "# 2021/12/29/WED"
   ]
  },
  {
   "cell_type": "code",
   "execution_count": 88,
   "id": "cdca34ee-5bba-4673-8ef8-ace88255e687",
   "metadata": {},
   "outputs": [],
   "source": [
    "import matplotlib.pyplot as plt\n",
    "import matplotlib.cm as cm\n",
    "import numpy as np"
   ]
  },
  {
   "cell_type": "code",
   "execution_count": 133,
   "id": "de6724f3-e548-4d2c-a3a2-8a26a4c6b9e8",
   "metadata": {},
   "outputs": [],
   "source": [
    "height=4\n",
    "width=5\n",
    "depth=3"
   ]
  },
  {
   "cell_type": "code",
   "execution_count": 134,
   "id": "a09c5a64-84b5-43bc-89ee-7a1bc8208abb",
   "metadata": {},
   "outputs": [],
   "source": [
    "m=np.zeros((height,width,depth))"
   ]
  },
  {
   "cell_type": "code",
   "execution_count": 135,
   "id": "963e74c7-3843-48b2-8c1a-3ab524b90470",
   "metadata": {},
   "outputs": [
    {
     "data": {
      "text/plain": [
       "array([[[0., 0., 0.],\n",
       "        [0., 0., 0.],\n",
       "        [0., 0., 0.],\n",
       "        [0., 0., 0.],\n",
       "        [0., 0., 0.]],\n",
       "\n",
       "       [[0., 0., 0.],\n",
       "        [0., 0., 0.],\n",
       "        [0., 0., 0.],\n",
       "        [0., 0., 0.],\n",
       "        [0., 0., 0.]],\n",
       "\n",
       "       [[0., 0., 0.],\n",
       "        [0., 0., 0.],\n",
       "        [0., 0., 0.],\n",
       "        [0., 0., 0.],\n",
       "        [0., 0., 0.]],\n",
       "\n",
       "       [[0., 0., 0.],\n",
       "        [0., 0., 0.],\n",
       "        [0., 0., 0.],\n",
       "        [0., 0., 0.],\n",
       "        [0., 0., 0.]]])"
      ]
     },
     "execution_count": 135,
     "metadata": {},
     "output_type": "execute_result"
    }
   ],
   "source": [
    "# 3차원이며 4덩어리 만들거고 각 덩어리마다 5행3열의 matrix\n",
    "m"
   ]
  },
  {
   "cell_type": "code",
   "execution_count": 136,
   "id": "5136f54e-342a-471b-b7b4-f62d1e1a6383",
   "metadata": {},
   "outputs": [
    {
     "data": {
      "image/png": "[encoded data removed]",
      "text/plain": [
       "<Figure size 432x288 with 1 Axes>"
      ]
     },
     "metadata": {
      "needs_background": "light"
     },
     "output_type": "display_data"
    }
   ],
   "source": [
    "plt.imshow(m)\n",
    "plt.grid()"
   ]
  },
  {
   "cell_type": "markdown",
   "id": "eb11fac2-275c-4c61-8be3-6ebfe34cf991",
   "metadata": {},
   "source": [
    "이미지의 시작은 좌측 상단임"
   ]
  },
  {
   "cell_type": "code",
   "execution_count": 137,
   "id": "04e1e87d-35e2-4ab7-9f23-a4503731d83f",
   "metadata": {},
   "outputs": [
    {
     "name": "stderr",
     "output_type": "stream",
     "text": [
      "Clipping input data to the valid range for imshow with RGB data ([0..1] for floats or [0..255] for integers).\n"
     ]
    },
    {
     "data": {
      "image/png": "[encoded data removed]",
      "text/plain": [
       "<Figure size 432x288 with 1 Axes>"
      ]
     },
     "metadata": {
      "needs_background": "light"
     },
     "output_type": "display_data"
    }
   ],
   "source": [
    "m[:,:,0]=255\n",
    "plt.imshow(m)\n",
    "plt.grid()"
   ]
  },
  {
   "cell_type": "code",
   "execution_count": 138,
   "id": "5f18df01-454e-4c25-9264-46533ac14575",
   "metadata": {},
   "outputs": [
    {
     "data": {
      "text/plain": [
       "array([[[255.,   0.,   0.],\n",
       "        [255.,   0.,   0.],\n",
       "        [255.,   0.,   0.],\n",
       "        [255.,   0.,   0.],\n",
       "        [255.,   0.,   0.]],\n",
       "\n",
       "       [[255.,   0.,   0.],\n",
       "        [255.,   0.,   0.],\n",
       "        [255.,   0.,   0.],\n",
       "        [255.,   0.,   0.],\n",
       "        [255.,   0.,   0.]],\n",
       "\n",
       "       [[255.,   0.,   0.],\n",
       "        [255.,   0.,   0.],\n",
       "        [255.,   0.,   0.],\n",
       "        [255.,   0.,   0.],\n",
       "        [255.,   0.,   0.]],\n",
       "\n",
       "       [[255.,   0.,   0.],\n",
       "        [255.,   0.,   0.],\n",
       "        [255.,   0.,   0.],\n",
       "        [255.,   0.,   0.],\n",
       "        [255.,   0.,   0.]]])"
      ]
     },
     "execution_count": 138,
     "metadata": {},
     "output_type": "execute_result"
    }
   ],
   "source": [
    "m"
   ]
  },
  {
   "cell_type": "code",
   "execution_count": 139,
   "id": "32edfb97-0b2d-4137-bb88-35c48eae7518",
   "metadata": {},
   "outputs": [
    {
     "name": "stderr",
     "output_type": "stream",
     "text": [
      "Clipping input data to the valid range for imshow with RGB data ([0..1] for floats or [0..255] for integers).\n"
     ]
    },
    {
     "data": {
      "image/png": "[encoded data removed]",
      "text/plain": [
       "<Figure size 432x288 with 1 Axes>"
      ]
     },
     "metadata": {
      "needs_background": "light"
     },
     "output_type": "display_data"
    }
   ],
   "source": [
    "m=np.zeros((height,width,depth))\n",
    "m[:,:,1]=255\n",
    "plt.imshow(m)\n",
    "plt.grid()"
   ]
  },
  {
   "cell_type": "code",
   "execution_count": 140,
   "id": "9c151ec8-8933-427f-b721-dd69f19f44eb",
   "metadata": {},
   "outputs": [
    {
     "data": {
      "text/plain": [
       "array([[[  0., 255.,   0.],\n",
       "        [  0., 255.,   0.],\n",
       "        [  0., 255.,   0.],\n",
       "        [  0., 255.,   0.],\n",
       "        [  0., 255.,   0.]],\n",
       "\n",
       "       [[  0., 255.,   0.],\n",
       "        [  0., 255.,   0.],\n",
       "        [  0., 255.,   0.],\n",
       "        [  0., 255.,   0.],\n",
       "        [  0., 255.,   0.]],\n",
       "\n",
       "       [[  0., 255.,   0.],\n",
       "        [  0., 255.,   0.],\n",
       "        [  0., 255.,   0.],\n",
       "        [  0., 255.,   0.],\n",
       "        [  0., 255.,   0.]],\n",
       "\n",
       "       [[  0., 255.,   0.],\n",
       "        [  0., 255.,   0.],\n",
       "        [  0., 255.,   0.],\n",
       "        [  0., 255.,   0.],\n",
       "        [  0., 255.,   0.]]])"
      ]
     },
     "execution_count": 140,
     "metadata": {},
     "output_type": "execute_result"
    }
   ],
   "source": [
    "m"
   ]
  },
  {
   "cell_type": "code",
   "execution_count": 141,
   "id": "b9b04803-9223-425f-98d6-657284c16117",
   "metadata": {},
   "outputs": [
    {
     "name": "stderr",
     "output_type": "stream",
     "text": [
      "Clipping input data to the valid range for imshow with RGB data ([0..1] for floats or [0..255] for integers).\n"
     ]
    },
    {
     "data": {
      "image/png": "[encoded data removed]",
      "text/plain": [
       "<Figure size 432x288 with 1 Axes>"
      ]
     },
     "metadata": {
      "needs_background": "light"
     },
     "output_type": "display_data"
    }
   ],
   "source": [
    "m=np.zeros((height,width,depth))\n",
    "m[:,:,2]=255\n",
    "plt.imshow(m)\n",
    "plt.grid()"
   ]
  },
  {
   "cell_type": "code",
   "execution_count": 142,
   "id": "dcfc9637-0c34-4620-9bb6-fdf8d177bf06",
   "metadata": {},
   "outputs": [
    {
     "data": {
      "text/plain": [
       "array([[[  0.,   0., 255.],\n",
       "        [  0.,   0., 255.],\n",
       "        [  0.,   0., 255.],\n",
       "        [  0.,   0., 255.],\n",
       "        [  0.,   0., 255.]],\n",
       "\n",
       "       [[  0.,   0., 255.],\n",
       "        [  0.,   0., 255.],\n",
       "        [  0.,   0., 255.],\n",
       "        [  0.,   0., 255.],\n",
       "        [  0.,   0., 255.]],\n",
       "\n",
       "       [[  0.,   0., 255.],\n",
       "        [  0.,   0., 255.],\n",
       "        [  0.,   0., 255.],\n",
       "        [  0.,   0., 255.],\n",
       "        [  0.,   0., 255.]],\n",
       "\n",
       "       [[  0.,   0., 255.],\n",
       "        [  0.,   0., 255.],\n",
       "        [  0.,   0., 255.],\n",
       "        [  0.,   0., 255.],\n",
       "        [  0.,   0., 255.]]])"
      ]
     },
     "execution_count": 142,
     "metadata": {},
     "output_type": "execute_result"
    }
   ],
   "source": [
    "m"
   ]
  },
  {
   "cell_type": "code",
   "execution_count": 143,
   "id": "802b1fc4-e22d-4296-8b6c-3ee74167c3dc",
   "metadata": {},
   "outputs": [
    {
     "name": "stderr",
     "output_type": "stream",
     "text": [
      "Clipping input data to the valid range for imshow with RGB data ([0..1] for floats or [0..255] for integers).\n"
     ]
    },
    {
     "data": {
      "image/png": "[encoded data removed]",
      "text/plain": [
       "<Figure size 432x288 with 1 Axes>"
      ]
     },
     "metadata": {
      "needs_background": "light"
     },
     "output_type": "display_data"
    }
   ],
   "source": [
    "m=np.ones((height,width,depth))*255\n",
    "plt.imshow(m)\n",
    "plt.grid()"
   ]
  },
  {
   "cell_type": "code",
   "execution_count": 144,
   "id": "515977ad-6789-459c-adf8-ea184800863b",
   "metadata": {},
   "outputs": [
    {
     "data": {
      "image/png": "[encoded data removed]",
      "text/plain": [
       "<Figure size 432x288 with 1 Axes>"
      ]
     },
     "metadata": {
      "needs_background": "light"
     },
     "output_type": "display_data"
    }
   ],
   "source": [
    "m=np.zeros((height,width,depth))*0\n",
    "plt.imshow(m)\n",
    "plt.grid()"
   ]
  },
  {
   "cell_type": "code",
   "execution_count": 145,
   "id": "53564776-a54a-49d2-800b-39bf18889f06",
   "metadata": {},
   "outputs": [
    {
     "name": "stderr",
     "output_type": "stream",
     "text": [
      "Clipping input data to the valid range for imshow with RGB data ([0..1] for floats or [0..255] for integers).\n"
     ]
    },
    {
     "data": {
      "image/png": "[encoded data removed]",
      "text/plain": [
       "<Figure size 432x288 with 1 Axes>"
      ]
     },
     "metadata": {
      "needs_background": "light"
     },
     "output_type": "display_data"
    }
   ],
   "source": [
    "m=np.zeros((height,width,depth))\n",
    "m[0,0,:]=255\n",
    "plt.imshow(m)\n",
    "plt.grid()"
   ]
  },
  {
   "cell_type": "code",
   "execution_count": 146,
   "id": "6a4cf9b8-b713-4053-970e-98b00d96cee4",
   "metadata": {},
   "outputs": [
    {
     "data": {
      "text/plain": [
       "array([[[255., 255., 255.],\n",
       "        [  0.,   0.,   0.],\n",
       "        [  0.,   0.,   0.],\n",
       "        [  0.,   0.,   0.],\n",
       "        [  0.,   0.,   0.]],\n",
       "\n",
       "       [[  0.,   0.,   0.],\n",
       "        [  0.,   0.,   0.],\n",
       "        [  0.,   0.,   0.],\n",
       "        [  0.,   0.,   0.],\n",
       "        [  0.,   0.,   0.]],\n",
       "\n",
       "       [[  0.,   0.,   0.],\n",
       "        [  0.,   0.,   0.],\n",
       "        [  0.,   0.,   0.],\n",
       "        [  0.,   0.,   0.],\n",
       "        [  0.,   0.,   0.]],\n",
       "\n",
       "       [[  0.,   0.,   0.],\n",
       "        [  0.,   0.,   0.],\n",
       "        [  0.,   0.,   0.],\n",
       "        [  0.,   0.,   0.],\n",
       "        [  0.,   0.,   0.]]])"
      ]
     },
     "execution_count": 146,
     "metadata": {},
     "output_type": "execute_result"
    }
   ],
   "source": [
    "m\n",
    "# 1행 1열의 RGB를 모두 255 = 그래서 흰색이 나옴"
   ]
  },
  {
   "cell_type": "code",
   "execution_count": 147,
   "id": "53410399-d84b-4d3c-b41f-31cbe03021ae",
   "metadata": {},
   "outputs": [
    {
     "name": "stderr",
     "output_type": "stream",
     "text": [
      "Clipping input data to the valid range for imshow with RGB data ([0..1] for floats or [0..255] for integers).\n"
     ]
    },
    {
     "data": {
      "image/png": "[encoded data removed]",
      "text/plain": [
       "<Figure size 432x288 with 1 Axes>"
      ]
     },
     "metadata": {
      "needs_background": "light"
     },
     "output_type": "display_data"
    }
   ],
   "source": [
    "m=np.zeros((height,width,depth))\n",
    "m[0,0,1]=255\n",
    "plt.imshow(m)\n",
    "plt.grid()"
   ]
  },
  {
   "cell_type": "code",
   "execution_count": 148,
   "id": "e61ed50e-69d8-4c5d-868b-7e5c42558015",
   "metadata": {},
   "outputs": [
    {
     "name": "stderr",
     "output_type": "stream",
     "text": [
      "Clipping input data to the valid range for imshow with RGB data ([0..1] for floats or [0..255] for integers).\n"
     ]
    },
    {
     "data": {
      "image/png": "[encoded data removed]",
      "text/plain": [
       "<Figure size 432x288 with 1 Axes>"
      ]
     },
     "metadata": {
      "needs_background": "light"
     },
     "output_type": "display_data"
    }
   ],
   "source": [
    "m=np.zeros((height,width,depth))\n",
    "m[0,0,2]=255\n",
    "plt.imshow(m)\n",
    "plt.grid()"
   ]
  },
  {
   "cell_type": "code",
   "execution_count": 149,
   "id": "7901f0a6-f4a7-47a5-936e-6791aaeff335",
   "metadata": {},
   "outputs": [
    {
     "name": "stderr",
     "output_type": "stream",
     "text": [
      "Clipping input data to the valid range for imshow with RGB data ([0..1] for floats or [0..255] for integers).\n"
     ]
    },
    {
     "data": {
      "image/png": "[encoded data removed]",
      "text/plain": [
       "<Figure size 432x288 with 1 Axes>"
      ]
     },
     "metadata": {
      "needs_background": "light"
     },
     "output_type": "display_data"
    }
   ],
   "source": [
    "m=np.zeros((height,width,depth))\n",
    "m[0,0,0]=255\n",
    "plt.imshow(m)\n",
    "plt.grid()"
   ]
  },
  {
   "cell_type": "code",
   "execution_count": 150,
   "id": "7957d08a-756c-429f-beee-f220ebae9aa5",
   "metadata": {},
   "outputs": [
    {
     "data": {
      "image/png": "[encoded data removed]",
      "text/plain": [
       "<Figure size 432x288 with 1 Axes>"
      ]
     },
     "metadata": {
      "needs_background": "light"
     },
     "output_type": "display_data"
    }
   ],
   "source": [
    "m=np.zeros((height,width,depth))\n",
    "m[:,:,:]=0\n",
    "plt.imshow(m)\n",
    "plt.grid()"
   ]
  },
  {
   "cell_type": "code",
   "execution_count": 151,
   "id": "a2b98bc4-274c-43ad-8291-4b579fbf7736",
   "metadata": {},
   "outputs": [
    {
     "name": "stderr",
     "output_type": "stream",
     "text": [
      "Clipping input data to the valid range for imshow with RGB data ([0..1] for floats or [0..255] for integers).\n"
     ]
    },
    {
     "data": {
      "image/png": "[encoded data removed]",
      "text/plain": [
       "<Figure size 432x288 with 1 Axes>"
      ]
     },
     "metadata": {
      "needs_background": "light"
     },
     "output_type": "display_data"
    }
   ],
   "source": [
    "m=np.zeros((height,width,depth))\n",
    "m[:,0,1]=255\n",
    "plt.imshow(m)\n",
    "plt.grid()"
   ]
  },
  {
   "cell_type": "code",
   "execution_count": 152,
   "id": "e778b41c-f35c-4dd5-92b0-080e1b572a3b",
   "metadata": {},
   "outputs": [
    {
     "name": "stderr",
     "output_type": "stream",
     "text": [
      "Clipping input data to the valid range for imshow with RGB data ([0..1] for floats or [0..255] for integers).\n"
     ]
    },
    {
     "data": {
      "image/png": "[encoded data removed]",
      "text/plain": [
       "<Figure size 432x288 with 1 Axes>"
      ]
     },
     "metadata": {
      "needs_background": "light"
     },
     "output_type": "display_data"
    }
   ],
   "source": [
    "m[:,-2,2]=255\n",
    "plt.imshow(m)\n",
    "plt.grid()"
   ]
  },
  {
   "cell_type": "code",
   "execution_count": 153,
   "id": "fc4e9adf-e1f4-44f4-81f4-91f5c0385609",
   "metadata": {},
   "outputs": [
    {
     "name": "stderr",
     "output_type": "stream",
     "text": [
      "Clipping input data to the valid range for imshow with RGB data ([0..1] for floats or [0..255] for integers).\n"
     ]
    },
    {
     "data": {
      "image/png": "[encoded data removed]",
      "text/plain": [
       "<Figure size 432x288 with 1 Axes>"
      ]
     },
     "metadata": {
      "needs_background": "light"
     },
     "output_type": "display_data"
    }
   ],
   "source": [
    "m[2,:,0]=255\n",
    "m[2,:,1]=255\n",
    "m[2,:,2]=0\n",
    "plt.imshow(m)\n",
    "plt.grid()\n",
    "# R+G=노랑색"
   ]
  },
  {
   "cell_type": "markdown",
   "id": "b3c2a385-d6d7-4ede-b7b5-5f2856c47079",
   "metadata": {},
   "source": [
    "이미지를 세로로 두배 늘려보자"
   ]
  },
  {
   "cell_type": "code",
   "execution_count": 154,
   "id": "2f724c33-b962-47f7-9bea-18cff5b77147",
   "metadata": {},
   "outputs": [
    {
     "name": "stderr",
     "output_type": "stream",
     "text": [
      "Clipping input data to the valid range for imshow with RGB data ([0..1] for floats or [0..255] for integers).\n"
     ]
    },
    {
     "data": {
      "text/plain": [
       "<matplotlib.image.AxesImage at 0x16c534d0400>"
      ]
     },
     "execution_count": 154,
     "metadata": {},
     "output_type": "execute_result"
    },
    {
     "data": {
      "image/png": "[encoded data removed]",
      "text/plain": [
       "<Figure size 432x288 with 1 Axes>"
      ]
     },
     "metadata": {
      "needs_background": "light"
     },
     "output_type": "display_data"
    }
   ],
   "source": [
    "m_vt=np.vstack([m,m])\n",
    "plt.imshow(m_vt)"
   ]
  },
  {
   "cell_type": "markdown",
   "id": "bb6b571c-6757-4bad-a520-70c657302ddd",
   "metadata": {},
   "source": [
    "이미지를 가로로 두배 늘려보자"
   ]
  },
  {
   "cell_type": "code",
   "execution_count": 155,
   "id": "fd3fdad1-755a-4444-b1cf-7efae786bd99",
   "metadata": {},
   "outputs": [
    {
     "name": "stderr",
     "output_type": "stream",
     "text": [
      "Clipping input data to the valid range for imshow with RGB data ([0..1] for floats or [0..255] for integers).\n"
     ]
    },
    {
     "data": {
      "text/plain": [
       "<matplotlib.image.AxesImage at 0x16c54d2ad00>"
      ]
     },
     "execution_count": 155,
     "metadata": {},
     "output_type": "execute_result"
    },
    {
     "data": {
      "image/png": "[encoded data removed]",
      "text/plain": [
       "<Figure size 432x288 with 1 Axes>"
      ]
     },
     "metadata": {
      "needs_background": "light"
     },
     "output_type": "display_data"
    }
   ],
   "source": [
    "m_hz=np.hstack([m,m])\n",
    "plt.imshow(m_hz)"
   ]
  },
  {
   "cell_type": "markdown",
   "id": "7e5dae1a-516e-4b4c-8ece-8855f0113919",
   "metadata": {},
   "source": [
    "어둡게 해보자"
   ]
  },
  {
   "cell_type": "code",
   "execution_count": 156,
   "id": "817b9c72-b976-4386-953f-a65b2fda634f",
   "metadata": {},
   "outputs": [
    {
     "data": {
      "text/plain": [
       "array([[[  0., 255.,   0.],\n",
       "        [  0.,   0.,   0.],\n",
       "        [  0.,   0.,   0.],\n",
       "        [  0.,   0., 255.],\n",
       "        [  0.,   0.,   0.],\n",
       "        [  0., 255.,   0.],\n",
       "        [  0.,   0.,   0.],\n",
       "        [  0.,   0.,   0.],\n",
       "        [  0.,   0., 255.],\n",
       "        [  0.,   0.,   0.]],\n",
       "\n",
       "       [[  0., 255.,   0.],\n",
       "        [  0.,   0.,   0.],\n",
       "        [  0.,   0.,   0.],\n",
       "        [  0.,   0., 255.],\n",
       "        [  0.,   0.,   0.],\n",
       "        [  0., 255.,   0.],\n",
       "        [  0.,   0.,   0.],\n",
       "        [  0.,   0.,   0.],\n",
       "        [  0.,   0., 255.],\n",
       "        [  0.,   0.,   0.]],\n",
       "\n",
       "       [[255., 255.,   0.],\n",
       "        [255., 255.,   0.],\n",
       "        [255., 255.,   0.],\n",
       "        [255., 255.,   0.],\n",
       "        [255., 255.,   0.],\n",
       "        [255., 255.,   0.],\n",
       "        [255., 255.,   0.],\n",
       "        [255., 255.,   0.],\n",
       "        [255., 255.,   0.],\n",
       "        [255., 255.,   0.]],\n",
       "\n",
       "       [[  0., 255.,   0.],\n",
       "        [  0.,   0.,   0.],\n",
       "        [  0.,   0.,   0.],\n",
       "        [  0.,   0., 255.],\n",
       "        [  0.,   0.,   0.],\n",
       "        [  0., 255.,   0.],\n",
       "        [  0.,   0.,   0.],\n",
       "        [  0.,   0.,   0.],\n",
       "        [  0.,   0., 255.],\n",
       "        [  0.,   0.,   0.]]])"
      ]
     },
     "execution_count": 156,
     "metadata": {},
     "output_type": "execute_result"
    }
   ],
   "source": [
    "m_hz"
   ]
  },
  {
   "cell_type": "code",
   "execution_count": 157,
   "id": "5867ca5a-4be8-4eb5-a107-0b2f965071dd",
   "metadata": {},
   "outputs": [
    {
     "data": {
      "text/plain": [
       "<matplotlib.image.AxesImage at 0x16c54d99130>"
      ]
     },
     "execution_count": 157,
     "metadata": {},
     "output_type": "execute_result"
    },
    {
     "data": {
      "image/png": "[encoded data removed]",
      "text/plain": [
       "<Figure size 432x288 with 1 Axes>"
      ]
     },
     "metadata": {
      "needs_background": "light"
     },
     "output_type": "display_data"
    }
   ],
   "source": [
    "m_hz=(m_hz/255)*0.5\n",
    "plt.imshow(m_hz)"
   ]
  },
  {
   "cell_type": "code",
   "execution_count": 158,
   "id": "39e679bb-64f4-49c5-862b-4c7cba3228c6",
   "metadata": {},
   "outputs": [
    {
     "data": {
      "text/plain": [
       "array([[[0. , 0.5, 0. ],\n",
       "        [0. , 0. , 0. ],\n",
       "        [0. , 0. , 0. ],\n",
       "        [0. , 0. , 0.5],\n",
       "        [0. , 0. , 0. ],\n",
       "        [0. , 0.5, 0. ],\n",
       "        [0. , 0. , 0. ],\n",
       "        [0. , 0. , 0. ],\n",
       "        [0. , 0. , 0.5],\n",
       "        [0. , 0. , 0. ]],\n",
       "\n",
       "       [[0. , 0.5, 0. ],\n",
       "        [0. , 0. , 0. ],\n",
       "        [0. , 0. , 0. ],\n",
       "        [0. , 0. , 0.5],\n",
       "        [0. , 0. , 0. ],\n",
       "        [0. , 0.5, 0. ],\n",
       "        [0. , 0. , 0. ],\n",
       "        [0. , 0. , 0. ],\n",
       "        [0. , 0. , 0.5],\n",
       "        [0. , 0. , 0. ]],\n",
       "\n",
       "       [[0.5, 0.5, 0. ],\n",
       "        [0.5, 0.5, 0. ],\n",
       "        [0.5, 0.5, 0. ],\n",
       "        [0.5, 0.5, 0. ],\n",
       "        [0.5, 0.5, 0. ],\n",
       "        [0.5, 0.5, 0. ],\n",
       "        [0.5, 0.5, 0. ],\n",
       "        [0.5, 0.5, 0. ],\n",
       "        [0.5, 0.5, 0. ],\n",
       "        [0.5, 0.5, 0. ]],\n",
       "\n",
       "       [[0. , 0.5, 0. ],\n",
       "        [0. , 0. , 0. ],\n",
       "        [0. , 0. , 0. ],\n",
       "        [0. , 0. , 0.5],\n",
       "        [0. , 0. , 0. ],\n",
       "        [0. , 0.5, 0. ],\n",
       "        [0. , 0. , 0. ],\n",
       "        [0. , 0. , 0. ],\n",
       "        [0. , 0. , 0.5],\n",
       "        [0. , 0. , 0. ]]])"
      ]
     },
     "execution_count": 158,
     "metadata": {},
     "output_type": "execute_result"
    }
   ],
   "source": [
    "m_hz"
   ]
  },
  {
   "cell_type": "code",
   "execution_count": 159,
   "id": "6d00b8d7-c4c0-4752-ba9d-f4188a24f958",
   "metadata": {},
   "outputs": [
    {
     "data": {
      "text/plain": [
       "<matplotlib.image.AxesImage at 0x16c54df4820>"
      ]
     },
     "execution_count": 159,
     "metadata": {},
     "output_type": "execute_result"
    },
    {
     "data": {
      "image/png": "[encoded data removed]",
      "text/plain": [
       "<Figure size 432x288 with 1 Axes>"
      ]
     },
     "metadata": {
      "needs_background": "light"
     },
     "output_type": "display_data"
    }
   ],
   "source": [
    "# 체크보드 만들기\n",
    "m=np.zeros((5,5,3))\n",
    "plt.imshow(m)"
   ]
  },
  {
   "cell_type": "code",
   "execution_count": 160,
   "id": "e09149b3-5349-44ef-85bb-f7490a3a5353",
   "metadata": {},
   "outputs": [
    {
     "data": {
      "text/plain": [
       "array([[[0., 0., 0.],\n",
       "        [0., 0., 0.],\n",
       "        [0., 0., 0.],\n",
       "        [0., 0., 0.],\n",
       "        [0., 0., 0.]],\n",
       "\n",
       "       [[0., 0., 0.],\n",
       "        [0., 0., 0.],\n",
       "        [0., 0., 0.],\n",
       "        [0., 0., 0.],\n",
       "        [0., 0., 0.]],\n",
       "\n",
       "       [[0., 0., 0.],\n",
       "        [0., 0., 0.],\n",
       "        [0., 0., 0.],\n",
       "        [0., 0., 0.],\n",
       "        [0., 0., 0.]],\n",
       "\n",
       "       [[0., 0., 0.],\n",
       "        [0., 0., 0.],\n",
       "        [0., 0., 0.],\n",
       "        [0., 0., 0.],\n",
       "        [0., 0., 0.]],\n",
       "\n",
       "       [[0., 0., 0.],\n",
       "        [0., 0., 0.],\n",
       "        [0., 0., 0.],\n",
       "        [0., 0., 0.],\n",
       "        [0., 0., 0.]]])"
      ]
     },
     "execution_count": 160,
     "metadata": {},
     "output_type": "execute_result"
    }
   ],
   "source": [
    "m"
   ]
  },
  {
   "cell_type": "code",
   "execution_count": 161,
   "id": "102777c3-8c7e-45e1-9c37-170f3997b508",
   "metadata": {},
   "outputs": [
    {
     "data": {
      "text/plain": [
       "<matplotlib.image.AxesImage at 0x16c54e55130>"
      ]
     },
     "execution_count": 161,
     "metadata": {},
     "output_type": "execute_result"
    },
    {
     "data": {
      "image/png": "[encoded data removed]",
      "text/plain": [
       "<Figure size 432x288 with 1 Axes>"
      ]
     },
     "metadata": {
      "needs_background": "light"
     },
     "output_type": "display_data"
    }
   ],
   "source": [
    "m[:,:,:]=1\n",
    "plt.imshow(m)"
   ]
  },
  {
   "cell_type": "code",
   "execution_count": 162,
   "id": "27e4c1dc-c1aa-4525-97e6-d02258826f6e",
   "metadata": {},
   "outputs": [
    {
     "data": {
      "text/plain": [
       "<matplotlib.image.AxesImage at 0x16c54eb3160>"
      ]
     },
     "execution_count": 162,
     "metadata": {},
     "output_type": "execute_result"
    },
    {
     "data": {
      "image/png": "[encoded data removed]",
      "text/plain": [
       "<Figure size 432x288 with 1 Axes>"
      ]
     },
     "metadata": {
      "needs_background": "light"
     },
     "output_type": "display_data"
    }
   ],
   "source": [
    "m[:,:,:]=0\n",
    "plt.imshow(m)"
   ]
  },
  {
   "cell_type": "code",
   "execution_count": 163,
   "id": "95fd5fd6-8d9d-414a-9b34-4445e353bf21",
   "metadata": {},
   "outputs": [
    {
     "data": {
      "text/plain": [
       "<matplotlib.image.AxesImage at 0x16c54f06cd0>"
      ]
     },
     "execution_count": 163,
     "metadata": {},
     "output_type": "execute_result"
    },
    {
     "data": {
      "image/png": "[encoded data removed]",
      "text/plain": [
       "<Figure size 432x288 with 1 Axes>"
      ]
     },
     "metadata": {
      "needs_background": "light"
     },
     "output_type": "display_data"
    }
   ],
   "source": [
    "m[0::2,0::2,:]=1\n",
    "plt.imshow(m)"
   ]
  },
  {
   "cell_type": "code",
   "execution_count": 164,
   "id": "14f27eea-a509-482c-ac06-3a6cd25d5df5",
   "metadata": {},
   "outputs": [
    {
     "data": {
      "text/plain": [
       "<matplotlib.image.AxesImage at 0x16c54f6b430>"
      ]
     },
     "execution_count": 164,
     "metadata": {},
     "output_type": "execute_result"
    },
    {
     "data": {
      "image/png": "[encoded data removed]",
      "text/plain": [
       "<Figure size 432x288 with 1 Axes>"
      ]
     },
     "metadata": {
      "needs_background": "light"
     },
     "output_type": "display_data"
    }
   ],
   "source": [
    "m[1::2,1::2,:]=1\n",
    "plt.imshow(m)"
   ]
  },
  {
   "cell_type": "markdown",
   "id": "85e597e6-d178-4465-bc53-0b6b26cb7850",
   "metadata": {},
   "source": [
    "논리 연산을 사용해서 체크 무늬 만들어보자"
   ]
  },
  {
   "cell_type": "code",
   "execution_count": 165,
   "id": "924ff0a1-c72a-4841-b3df-4def85b47f69",
   "metadata": {},
   "outputs": [
    {
     "data": {
      "text/plain": [
       "<matplotlib.image.AxesImage at 0x16c54fc1e80>"
      ]
     },
     "execution_count": 165,
     "metadata": {},
     "output_type": "execute_result"
    },
    {
     "data": {
      "image/png": "[encoded data removed]",
      "text/plain": [
       "<Figure size 432x288 with 1 Axes>"
      ]
     },
     "metadata": {
      "needs_background": "light"
     },
     "output_type": "display_data"
    }
   ],
   "source": [
    "n=m.copy()\n",
    "idx=np.where(n==1)\n",
    "n[idx]=0.5\n",
    "plt.imshow(n)"
   ]
  },
  {
   "cell_type": "code",
   "execution_count": 166,
   "id": "b3f2859f-a997-4d30-b886-a7e8b6017111",
   "metadata": {},
   "outputs": [
    {
     "data": {
      "text/plain": [
       "<matplotlib.image.AxesImage at 0x16c55024760>"
      ]
     },
     "execution_count": 166,
     "metadata": {},
     "output_type": "execute_result"
    },
    {
     "data": {
      "image/png": "[encoded data removed]",
      "text/plain": [
       "<Figure size 432x288 with 1 Axes>"
      ]
     },
     "metadata": {
      "needs_background": "light"
     },
     "output_type": "display_data"
    }
   ],
   "source": [
    "idx=np.where(n==0)\n",
    "n[idx]=1\n",
    "plt.imshow(n)"
   ]
  },
  {
   "cell_type": "code",
   "execution_count": 167,
   "id": "8834ad4b-e076-47dd-aa1a-2dc8fcbe8ce6",
   "metadata": {},
   "outputs": [
    {
     "data": {
      "text/plain": [
       "<matplotlib.image.AxesImage at 0x16c5507ff10>"
      ]
     },
     "execution_count": 167,
     "metadata": {},
     "output_type": "execute_result"
    },
    {
     "data": {
      "image/png": "[encoded data removed]",
      "text/plain": [
       "<Figure size 432x288 with 1 Axes>"
      ]
     },
     "metadata": {
      "needs_background": "light"
     },
     "output_type": "display_data"
    }
   ],
   "source": [
    "n=m.copy()\n",
    "plt.imshow(n)"
   ]
  },
  {
   "cell_type": "markdown",
   "id": "9a6ac35d-3e1f-48e9-b982-f8cfc9962c2f",
   "metadata": {},
   "source": [
    "컬러 뒤집기"
   ]
  },
  {
   "cell_type": "code",
   "execution_count": 168,
   "id": "48ecfd30-a5be-4a8a-831a-663712fd8bb7",
   "metadata": {},
   "outputs": [
    {
     "data": {
      "text/plain": [
       "<matplotlib.image.AxesImage at 0x16c560bc130>"
      ]
     },
     "execution_count": 168,
     "metadata": {},
     "output_type": "execute_result"
    },
    {
     "data": {
      "image/png": "[encoded data removed]",
      "text/plain": [
       "<Figure size 432x288 with 1 Axes>"
      ]
     },
     "metadata": {
      "needs_background": "light"
     },
     "output_type": "display_data"
    }
   ],
   "source": [
    "idx1=np.where(n==1)\n",
    "idx2=np.where(n==0)\n",
    "n[idx1]=0\n",
    "n[idx2]=1\n",
    "plt.imshow(n)"
   ]
  },
  {
   "cell_type": "code",
   "execution_count": 169,
   "id": "6370a1eb-7552-4cb3-8ffb-4ed2ac958f07",
   "metadata": {},
   "outputs": [],
   "source": [
    "a=np.where(n==1)"
   ]
  },
  {
   "cell_type": "code",
   "execution_count": 170,
   "id": "a625e3d1-28f8-4209-8140-3829d1c4fbfa",
   "metadata": {},
   "outputs": [
    {
     "data": {
      "text/plain": [
       "(array([0, 0, 0, 0, 0, 0, 1, 1, 1, 1, 1, 1, 1, 1, 1, 2, 2, 2, 2, 2, 2, 3,\n",
       "        3, 3, 3, 3, 3, 3, 3, 3, 4, 4, 4, 4, 4, 4], dtype=int64),\n",
       " array([1, 1, 1, 3, 3, 3, 0, 0, 0, 2, 2, 2, 4, 4, 4, 1, 1, 1, 3, 3, 3, 0,\n",
       "        0, 0, 2, 2, 2, 4, 4, 4, 1, 1, 1, 3, 3, 3], dtype=int64),\n",
       " array([0, 1, 2, 0, 1, 2, 0, 1, 2, 0, 1, 2, 0, 1, 2, 0, 1, 2, 0, 1, 2, 0,\n",
       "        1, 2, 0, 1, 2, 0, 1, 2, 0, 1, 2, 0, 1, 2], dtype=int64))"
      ]
     },
     "execution_count": 170,
     "metadata": {},
     "output_type": "execute_result"
    }
   ],
   "source": [
    "a"
   ]
  },
  {
   "cell_type": "code",
   "execution_count": 171,
   "id": "789c701d-910f-4e02-890a-73f9070253b6",
   "metadata": {},
   "outputs": [
    {
     "data": {
      "text/plain": [
       "array([[[0., 0., 0.],\n",
       "        [1., 1., 1.],\n",
       "        [0., 0., 0.],\n",
       "        [1., 1., 1.],\n",
       "        [0., 0., 0.]],\n",
       "\n",
       "       [[1., 1., 1.],\n",
       "        [0., 0., 0.],\n",
       "        [1., 1., 1.],\n",
       "        [0., 0., 0.],\n",
       "        [1., 1., 1.]],\n",
       "\n",
       "       [[0., 0., 0.],\n",
       "        [1., 1., 1.],\n",
       "        [0., 0., 0.],\n",
       "        [1., 1., 1.],\n",
       "        [0., 0., 0.]],\n",
       "\n",
       "       [[1., 1., 1.],\n",
       "        [0., 0., 0.],\n",
       "        [1., 1., 1.],\n",
       "        [0., 0., 0.],\n",
       "        [1., 1., 1.]],\n",
       "\n",
       "       [[0., 0., 0.],\n",
       "        [1., 1., 1.],\n",
       "        [0., 0., 0.],\n",
       "        [1., 1., 1.],\n",
       "        [0., 0., 0.]]])"
      ]
     },
     "execution_count": 171,
     "metadata": {},
     "output_type": "execute_result"
    }
   ],
   "source": [
    "n"
   ]
  },
  {
   "cell_type": "code",
   "execution_count": 172,
   "id": "89add32f-10aa-472e-ab1c-3341fd73293e",
   "metadata": {},
   "outputs": [
    {
     "data": {
      "text/plain": [
       "<matplotlib.image.AxesImage at 0x16c561083d0>"
      ]
     },
     "execution_count": 172,
     "metadata": {},
     "output_type": "execute_result"
    },
    {
     "data": {
      "image/png": "[encoded data removed]",
      "text/plain": [
       "<Figure size 432x288 with 1 Axes>"
      ]
     },
     "metadata": {
      "needs_background": "light"
     },
     "output_type": "display_data"
    }
   ],
   "source": [
    "a=np.where(n==1)\n",
    "n[a[0],a[1],0]=0\n",
    "n[a[0],a[1],2]=0\n",
    "plt.imshow(n)"
   ]
  },
  {
   "cell_type": "code",
   "execution_count": 173,
   "id": "3cdefcbc-a7f0-477b-aaa3-4f1eadd68cb4",
   "metadata": {},
   "outputs": [
    {
     "name": "stderr",
     "output_type": "stream",
     "text": [
      "Clipping input data to the valid range for imshow with RGB data ([0..1] for floats or [0..255] for integers).\n"
     ]
    },
    {
     "data": {
      "text/plain": [
       "<matplotlib.image.AxesImage at 0x16c561636a0>"
      ]
     },
     "execution_count": 173,
     "metadata": {},
     "output_type": "execute_result"
    },
    {
     "data": {
      "image/png": "[encoded data removed]",
      "text/plain": [
       "<Figure size 432x288 with 1 Axes>"
      ]
     },
     "metadata": {
      "needs_background": "light"
     },
     "output_type": "display_data"
    }
   ],
   "source": [
    "flag_r=(n[:,:,0]==0) # 빨강\n",
    "flag_g=(n[:,:,1]==0) # 초록\n",
    "flag_b=(n[:,:,2]==0) # 파랑\n",
    "\n",
    "flag_blk=  flag_r&flag_g&flag_b\n",
    "idx_blk=np.where(flag_blk==True)\n",
    "\n",
    "n[idx_blk[0],idx_blk[1],0]=24\n",
    "plt.imshow(n)"
   ]
  },
  {
   "cell_type": "code",
   "execution_count": 174,
   "id": "9d22721b-a949-4d2e-adde-188db747c979",
   "metadata": {},
   "outputs": [
    {
     "data": {
      "text/plain": [
       "<matplotlib.image.AxesImage at 0x16c561c9070>"
      ]
     },
     "execution_count": 174,
     "metadata": {},
     "output_type": "execute_result"
    },
    {
     "data": {
      "image/png": "[encoded data removed]",
      "text/plain": [
       "<Figure size 432x288 with 1 Axes>"
      ]
     },
     "metadata": {
      "needs_background": "light"
     },
     "output_type": "display_data"
    }
   ],
   "source": [
    "n=m.copy()\n",
    "plt.imshow(n)"
   ]
  },
  {
   "cell_type": "code",
   "execution_count": 178,
   "id": "a5d133bd-71da-4282-98fb-c25f181a6d56",
   "metadata": {},
   "outputs": [
    {
     "data": {
      "text/plain": [
       "<matplotlib.image.AxesImage at 0x16c54b2b370>"
      ]
     },
     "execution_count": 178,
     "metadata": {},
     "output_type": "execute_result"
    },
    {
     "data": {
      "image/png": "[encoded data removed]",
      "text/plain": [
       "<Figure size 432x288 with 1 Axes>"
      ]
     },
     "metadata": {
      "needs_background": "light"
     },
     "output_type": "display_data"
    }
   ],
   "source": [
    "np_sum=np.sum(n,axis=2)\n",
    "idx_blk=np.where(np_sum==0)\n",
    "n[idx_blk[0],idx_blk[1],0]=1\n",
    "plt.imshow(n)"
   ]
  },
  {
   "cell_type": "code",
   "execution_count": 179,
   "id": "ba4b65e2-39c7-466b-835e-eff4474e75a5",
   "metadata": {},
   "outputs": [
    {
     "data": {
      "text/plain": [
       "<matplotlib.image.AxesImage at 0x16c54a589a0>"
      ]
     },
     "execution_count": 179,
     "metadata": {},
     "output_type": "execute_result"
    },
    {
     "data": {
      "image/png": "[encoded data removed]",
      "text/plain": [
       "<Figure size 432x288 with 1 Axes>"
      ]
     },
     "metadata": {
      "needs_background": "light"
     },
     "output_type": "display_data"
    }
   ],
   "source": [
    "np.fill_diagonal(n[:,:,0],0)\n",
    "np.fill_diagonal(n[:,:,1],1)\n",
    "np.fill_diagonal(n[:,:,2],0)\n",
    "plt.imshow(n)"
   ]
  },
  {
   "cell_type": "code",
   "execution_count": 180,
   "id": "fcbc880d-f7d7-464e-8e5b-279e1a4ac22a",
   "metadata": {},
   "outputs": [
    {
     "data": {
      "text/plain": [
       "<matplotlib.image.AxesImage at 0x16c54add1c0>"
      ]
     },
     "execution_count": 180,
     "metadata": {},
     "output_type": "execute_result"
    },
    {
     "data": {
      "image/png": "[encoded data removed]",
      "text/plain": [
       "<Figure size 432x288 with 1 Axes>"
      ]
     },
     "metadata": {
      "needs_background": "light"
     },
     "output_type": "display_data"
    }
   ],
   "source": [
    "m=np.linspace(0,1,10)\n",
    "m=m[:,np.newaxis]\n",
    "m=np.repeat(m,10,axis=1)\n",
    "plt.imshow(m,cmap='gray')"
   ]
  },
  {
   "cell_type": "code",
   "execution_count": 181,
   "id": "6bc9dd19-c80c-4424-9db1-612988272e6e",
   "metadata": {},
   "outputs": [
    {
     "data": {
      "text/plain": [
       "<matplotlib.image.AxesImage at 0x16c54b4b6a0>"
      ]
     },
     "execution_count": 181,
     "metadata": {},
     "output_type": "execute_result"
    },
    {
     "data": {
      "image/png": "[encoded data removed]",
      "text/plain": [
       "<Figure size 432x288 with 1 Axes>"
      ]
     },
     "metadata": {
      "needs_background": "light"
     },
     "output_type": "display_data"
    }
   ],
   "source": [
    "m_tr=np.transpose(m)\n",
    "plt.imshow(m_tr,cmap='gray')"
   ]
  },
  {
   "cell_type": "code",
   "execution_count": 182,
   "id": "5c6e3040-997c-40d2-968a-d0a38433215e",
   "metadata": {},
   "outputs": [
    {
     "data": {
      "text/plain": [
       "<matplotlib.image.AxesImage at 0x16c54c091c0>"
      ]
     },
     "execution_count": 182,
     "metadata": {},
     "output_type": "execute_result"
    },
    {
     "data": {
      "image/png": "[encoded data removed]",
      "text/plain": [
       "<Figure size 432x288 with 1 Axes>"
      ]
     },
     "metadata": {
      "needs_background": "light"
     },
     "output_type": "display_data"
    }
   ],
   "source": [
    "m_tr=np.transpose(m)\n",
    "plt.imshow(m_tr,cmap='jet')"
   ]
  },
  {
   "cell_type": "markdown",
   "id": "0ef421b3-8457-41eb-beda-3be233cb07c9",
   "metadata": {},
   "source": [
    "----"
   ]
  },
  {
   "cell_type": "markdown",
   "id": "81d64f00-ba5f-48ad-973b-4e1c97a135b0",
   "metadata": {},
   "source": [
    "> `LaTex 이용해보자`"
   ]
  },
  {
   "cell_type": "markdown",
   "id": "2207231b-cce1-4db1-a794-4e6fb4f39544",
   "metadata": {},
   "source": [
    "$\n",
    "\\begin{align}\n",
    "\\begin{cases}\n",
    "f(x) = \\frac{1}{10}x^2 & \\text{  for  } x\\in [0,1.5)  \\\\\n",
    "f(x) = \\sum_{n=1,3,5..}^{N}{\\frac{4}{\\pi n} \\text{sin}(\\frac{2\\pi n(x-1.5)}{T})}& \\text{for} \\in[1.5,3] \n",
    "\\end{cases}\n",
    "\\end{align}\n",
    "$"
   ]
  },
  {
   "cell_type": "markdown",
   "id": "99786a4c-a3f8-4e5c-9779-ff42c2a3bcae",
   "metadata": {},
   "source": [
    "---"
   ]
  },
  {
   "cell_type": "code",
   "execution_count": 91,
   "id": "cded2fb9-287c-4898-9cce-22339e751aeb",
   "metadata": {},
   "outputs": [],
   "source": [
    "x1=np.arange(0,1.5,0.01)\n",
    "y1=1/10*x1**2"
   ]
  },
  {
   "cell_type": "markdown",
   "id": "3a9b00f1-8833-4e50-a0f3-d6d7ba919b43",
   "metadata": {},
   "source": [
    "---"
   ]
  },
  {
   "cell_type": "code",
   "execution_count": 97,
   "id": "6a97207d-a121-4ce8-8942-dacd0abc12fc",
   "metadata": {},
   "outputs": [],
   "source": [
    "x2=np.arange(1.5,3+0.01,0.01)\n",
    "n= 50\n",
    "t=1\n",
    "y2=np.zeros(x2.shape)\n",
    "for n in range(n):\n",
    "    if n%2==1:\n",
    "        series = 4/(np.pi*n)*np.sin((2*np.pi*n*(x2-1.5))/t)\n",
    "        y2=y2+series"
   ]
  },
  {
   "cell_type": "code",
   "execution_count": 99,
   "id": "defcc18c-41a3-4f07-bb7a-cf9ffc4251f1",
   "metadata": {},
   "outputs": [
    {
     "data": {
      "text/plain": [
       "Text(0.5, 1.0, 'Piecewise Functions')"
      ]
     },
     "execution_count": 99,
     "metadata": {},
     "output_type": "execute_result"
    },
    {
     "data": {
      "image/png": "[encoded data removed]",
      "text/plain": [
       "<Figure size 432x288 with 1 Axes>"
      ]
     },
     "metadata": {
      "needs_background": "light"
     },
     "output_type": "display_data"
    }
   ],
   "source": [
    "plt.plot(x1,y1)\n",
    "plt.plot(x2,y2)\n",
    "plt.xlabel('x')\n",
    "plt.xlabel('y')\n",
    "plt.title('Piecewise Functions')"
   ]
  },
  {
   "cell_type": "markdown",
   "id": "89e2397c-543a-4f03-8493-59554fdeb02e",
   "metadata": {},
   "source": [
    "---"
   ]
  },
  {
   "cell_type": "markdown",
   "id": "a7dd3a85-c791-4d69-86de-fe53bf08f7de",
   "metadata": {},
   "source": [
    "> `세계 온도 변화 시각화`"
   ]
  },
  {
   "cell_type": "code",
   "execution_count": 100,
   "id": "ecc9c5fd-9eac-490e-835a-bcaea472fb19",
   "metadata": {},
   "outputs": [],
   "source": [
    "import scipy\n",
    "import scipy.interpolate as interp\n",
    "import gzip\n",
    "import pickle as pkl"
   ]
  },
  {
   "cell_type": "code",
   "execution_count": 103,
   "id": "90947932-7fb7-4384-abce-0aae3f3e8c31",
   "metadata": {},
   "outputs": [
    {
     "data": {
      "text/plain": [
       "<bound method GzipFile.close of <gzip _io.BufferedReader name='GlobalTemperatureData.pkl.gz' 0x142be630940>>"
      ]
     },
     "execution_count": 103,
     "metadata": {},
     "output_type": "execute_result"
    }
   ],
   "source": [
    "file=gzip.GzipFile('GlobalTemperatureData.pkl.gz','rb')\n",
    "df=pkl.load(file)\n",
    "file.close"
   ]
  },
  {
   "cell_type": "code",
   "execution_count": 104,
   "id": "ab07f2d0-c303-4f63-b9a7-63ff05422953",
   "metadata": {},
   "outputs": [
    {
     "data": {
      "text/plain": [
       "dict_keys(['YR1881', 'YR1882', 'YR1883', 'YR1884', 'YR1885', 'YR1886', 'YR1887', 'YR1888', 'YR1889', 'YR1890', 'YR1891', 'YR1892', 'YR1893', 'YR1894', 'YR1895', 'YR1896', 'YR1897', 'YR1898', 'YR1899', 'YR1900', 'YR1901', 'YR1902', 'YR1903', 'YR1904', 'YR1905', 'YR1906', 'YR1907', 'YR1908', 'YR1909', 'YR1910', 'YR1911', 'YR1912', 'YR1913', 'YR1914', 'YR1915', 'YR1916', 'YR1917', 'YR1918', 'YR1919', 'YR1920', 'YR1921', 'YR1922', 'YR1923', 'YR1924', 'YR1925', 'YR1926', 'YR1927', 'YR1928', 'YR1929', 'YR1930', 'YR1931', 'YR1932', 'YR1933', 'YR1934', 'YR1935', 'YR1936', 'YR1937', 'YR1938', 'YR1939', 'YR1940', 'YR1941', 'YR1942', 'YR1943', 'YR1944', 'YR1945', 'YR1946', 'YR1947', 'YR1948', 'YR1949', 'YR1950', 'YR1951', 'YR1952', 'YR1953', 'YR1954', 'YR1955', 'YR1956', 'YR1957', 'YR1958', 'YR1959', 'YR1960', 'YR1961', 'YR1962', 'YR1963', 'YR1964', 'YR1965', 'YR1966', 'YR1967', 'YR1968', 'YR1969', 'YR1970', 'YR1971', 'YR1972', 'YR1973', 'YR1974', 'YR1975', 'YR1976', 'YR1977', 'YR1978', 'YR1979', 'YR1980', 'YR1981', 'YR1982', 'YR1983', 'YR1984', 'YR1985', 'YR1986', 'YR1987', 'YR1988', 'YR1989', 'YR1990', 'YR1991', 'YR1992', 'YR1993', 'YR1994', 'YR1995', 'YR1996', 'YR1997', 'YR1998', 'YR1999', 'YR2000', 'YR2001', 'YR2002', 'YR2003', 'YR2004', 'YR2005', 'YR2006', 'YR2007', 'YR2008', 'YR2009', 'YR2010', 'YR2011', 'YR2012', 'YR2013', 'YR2014', 'YR2015', 'YR2016', 'YR2017', 'YR2018', 'YR2019'])"
      ]
     },
     "execution_count": 104,
     "metadata": {},
     "output_type": "execute_result"
    }
   ],
   "source": [
    "df.keys()"
   ]
  },
  {
   "cell_type": "markdown",
   "id": "769b4b84-651d-42bf-be0a-216fc874778b",
   "metadata": {},
   "source": [
    "연도별로 세계온도가 들어가있음"
   ]
  },
  {
   "cell_type": "code",
   "execution_count": 106,
   "id": "b2d6b3b9-ca57-4de5-b234-13131954a74c",
   "metadata": {},
   "outputs": [],
   "source": [
    "yr=list(df.keys())"
   ]
  },
  {
   "cell_type": "code",
   "execution_count": 132,
   "id": "6e5d6b2d-dbc8-4b13-81f2-c7c546f925dc",
   "metadata": {},
   "outputs": [],
   "source": [
    "iyr=10\n",
    "df_yr=df[yr[iyr]]"
   ]
  },
  {
   "cell_type": "code",
   "execution_count": 133,
   "id": "a32da8a2-a4c4-435b-9f93-0e0c96e50800",
   "metadata": {},
   "outputs": [
    {
     "data": {
      "text/plain": [
       "Index(['i', 'j', 'lon', 'lat', 'Temperature(i,j)'], dtype='object')"
      ]
     },
     "execution_count": 133,
     "metadata": {},
     "output_type": "execute_result"
    }
   ],
   "source": [
    "df_yr.keys()"
   ]
  },
  {
   "cell_type": "code",
   "execution_count": 134,
   "id": "fd1912c3-fa02-470e-90a6-f7cd8e1e6c7a",
   "metadata": {},
   "outputs": [
    {
     "data": {
      "text/html": [
       "<div>\n",
       "<style scoped>\n",
       "    .dataframe tbody tr th:only-of-type {\n",
       "        vertical-align: middle;\n",
       "    }\n",
       "\n",
       "    .dataframe tbody tr th {\n",
       "        vertical-align: top;\n",
       "    }\n",
       "\n",
       "    .dataframe thead th {\n",
       "        text-align: right;\n",
       "    }\n",
       "</style>\n",
       "<table border=\"1\" class=\"dataframe\">\n",
       "  <thead>\n",
       "    <tr style=\"text-align: right;\">\n",
       "      <th></th>\n",
       "      <th>i</th>\n",
       "      <th>j</th>\n",
       "      <th>lon</th>\n",
       "      <th>lat</th>\n",
       "      <th>Temperature(i,j)</th>\n",
       "    </tr>\n",
       "  </thead>\n",
       "  <tbody>\n",
       "    <tr>\n",
       "      <th>0</th>\n",
       "      <td>1</td>\n",
       "      <td>1</td>\n",
       "      <td>-179</td>\n",
       "      <td>-89</td>\n",
       "      <td>9999.0</td>\n",
       "    </tr>\n",
       "    <tr>\n",
       "      <th>1</th>\n",
       "      <td>2</td>\n",
       "      <td>1</td>\n",
       "      <td>-177</td>\n",
       "      <td>-89</td>\n",
       "      <td>9999.0</td>\n",
       "    </tr>\n",
       "    <tr>\n",
       "      <th>2</th>\n",
       "      <td>3</td>\n",
       "      <td>1</td>\n",
       "      <td>-175</td>\n",
       "      <td>-89</td>\n",
       "      <td>9999.0</td>\n",
       "    </tr>\n",
       "    <tr>\n",
       "      <th>3</th>\n",
       "      <td>4</td>\n",
       "      <td>1</td>\n",
       "      <td>-173</td>\n",
       "      <td>-89</td>\n",
       "      <td>9999.0</td>\n",
       "    </tr>\n",
       "    <tr>\n",
       "      <th>4</th>\n",
       "      <td>5</td>\n",
       "      <td>1</td>\n",
       "      <td>-171</td>\n",
       "      <td>-89</td>\n",
       "      <td>9999.0</td>\n",
       "    </tr>\n",
       "    <tr>\n",
       "      <th>...</th>\n",
       "      <td>...</td>\n",
       "      <td>...</td>\n",
       "      <td>...</td>\n",
       "      <td>...</td>\n",
       "      <td>...</td>\n",
       "    </tr>\n",
       "    <tr>\n",
       "      <th>16195</th>\n",
       "      <td>176</td>\n",
       "      <td>90</td>\n",
       "      <td>171</td>\n",
       "      <td>89</td>\n",
       "      <td>9999.0</td>\n",
       "    </tr>\n",
       "    <tr>\n",
       "      <th>16196</th>\n",
       "      <td>177</td>\n",
       "      <td>90</td>\n",
       "      <td>173</td>\n",
       "      <td>89</td>\n",
       "      <td>9999.0</td>\n",
       "    </tr>\n",
       "    <tr>\n",
       "      <th>16197</th>\n",
       "      <td>178</td>\n",
       "      <td>90</td>\n",
       "      <td>175</td>\n",
       "      <td>89</td>\n",
       "      <td>9999.0</td>\n",
       "    </tr>\n",
       "    <tr>\n",
       "      <th>16198</th>\n",
       "      <td>179</td>\n",
       "      <td>90</td>\n",
       "      <td>177</td>\n",
       "      <td>89</td>\n",
       "      <td>9999.0</td>\n",
       "    </tr>\n",
       "    <tr>\n",
       "      <th>16199</th>\n",
       "      <td>180</td>\n",
       "      <td>90</td>\n",
       "      <td>179</td>\n",
       "      <td>89</td>\n",
       "      <td>9999.0</td>\n",
       "    </tr>\n",
       "  </tbody>\n",
       "</table>\n",
       "<p>16200 rows × 5 columns</p>\n",
       "</div>"
      ],
      "text/plain": [
       "         i   j  lon  lat  Temperature(i,j)\n",
       "0        1   1 -179  -89            9999.0\n",
       "1        2   1 -177  -89            9999.0\n",
       "2        3   1 -175  -89            9999.0\n",
       "3        4   1 -173  -89            9999.0\n",
       "4        5   1 -171  -89            9999.0\n",
       "...    ...  ..  ...  ...               ...\n",
       "16195  176  90  171   89            9999.0\n",
       "16196  177  90  173   89            9999.0\n",
       "16197  178  90  175   89            9999.0\n",
       "16198  179  90  177   89            9999.0\n",
       "16199  180  90  179   89            9999.0\n",
       "\n",
       "[16200 rows x 5 columns]"
      ]
     },
     "execution_count": 134,
     "metadata": {},
     "output_type": "execute_result"
    }
   ],
   "source": [
    "df_yr"
   ]
  },
  {
   "cell_type": "markdown",
   "id": "a7c870ce-d7ec-439b-a0d5-254fe21ce225",
   "metadata": {},
   "source": [
    "위도, 경도, 온도만 발췌하여 numpy_array로 변형해보자"
   ]
  },
  {
   "cell_type": "code",
   "execution_count": 135,
   "id": "a70d7a3d-1c6b-46c8-b8f5-a7846f01fd95",
   "metadata": {},
   "outputs": [],
   "source": [
    "data=df_yr[['lon','lat','Temperature(i,j)']].to_numpy()"
   ]
  },
  {
   "cell_type": "code",
   "execution_count": 136,
   "id": "33a6b003-7203-4813-9ab3-594c9614cbc9",
   "metadata": {},
   "outputs": [],
   "source": [
    "data[np.where(data>9999)]=np.nan"
   ]
  },
  {
   "cell_type": "markdown",
   "id": "4f7353ba-41e1-4003-a813-a22be78e9ea6",
   "metadata": {},
   "source": [
    "9999를 nan으로 바꾼 이유는 자동으로 plot이 안 되게 하기 위해서"
   ]
  },
  {
   "cell_type": "code",
   "execution_count": 137,
   "id": "0dd21cfb-4bd0-4a5d-bd94-04b6829e2938",
   "metadata": {},
   "outputs": [],
   "source": [
    "x=np.linspace(-180,180,100)\n",
    "y=np.linspace(-90,90,100)\n",
    "grid_x,grid_y=np.meshgrid(x,y)"
   ]
  },
  {
   "cell_type": "code",
   "execution_count": 138,
   "id": "8edf5b94-eee3-4e1d-9357-76f03eaea439",
   "metadata": {},
   "outputs": [],
   "source": [
    "data_interp=interp.griddata(data[:,[0,1]],data[:,2],(grid_x,grid_y),method='linear')"
   ]
  },
  {
   "cell_type": "markdown",
   "id": "b346a264-bcce-4772-872b-0dcee50fd137",
   "metadata": {},
   "source": [
    "---"
   ]
  },
  {
   "cell_type": "code",
   "execution_count": 139,
   "id": "0ea7141a-8f40-4553-a5f7-6670d78bf0f9",
   "metadata": {},
   "outputs": [
    {
     "data": {
      "text/plain": [
       "<matplotlib.image.AxesImage at 0x142c9a2e340>"
      ]
     },
     "execution_count": 139,
     "metadata": {},
     "output_type": "execute_result"
    },
    {
     "data": {
      "image/png": "[encoded data removed]",
      "text/plain": [
       "<Figure size 432x288 with 1 Axes>"
      ]
     },
     "metadata": {
      "needs_background": "light"
     },
     "output_type": "display_data"
    }
   ],
   "source": [
    "hfig,hax=plt.subplots()\n",
    "im=plt.imread('world_map.png')\n",
    "plt.imshow(im)"
   ]
  },
  {
   "cell_type": "markdown",
   "id": "b9d46832-eabc-4926-83bd-f969ed13df17",
   "metadata": {},
   "source": [
    "좌표축의 중심을 왼쪽 아래로 \n",
    "\n",
    "그런데 지도까지 뒤집혀버림"
   ]
  },
  {
   "cell_type": "code",
   "execution_count": 140,
   "id": "f9e882c9-be2e-40c1-8849-5a3e08ab44e4",
   "metadata": {},
   "outputs": [
    {
     "data": {
      "text/plain": [
       "<matplotlib.image.AxesImage at 0x142c9a903a0>"
      ]
     },
     "execution_count": 140,
     "metadata": {},
     "output_type": "execute_result"
    },
    {
     "data": {
      "image/png": "[encoded data removed]",
      "text/plain": [
       "<Figure size 432x288 with 1 Axes>"
      ]
     },
     "metadata": {
      "needs_background": "light"
     },
     "output_type": "display_data"
    }
   ],
   "source": [
    "hfig,hax=plt.subplots()\n",
    "im=plt.imread('world_map.png')\n",
    "plt.imshow(im,origin='lower')"
   ]
  },
  {
   "cell_type": "markdown",
   "id": "2504b9fd-36a0-40cf-adf6-8a2e0401c792",
   "metadata": {},
   "source": [
    "다시 지도만 뒤집어줌"
   ]
  },
  {
   "cell_type": "code",
   "execution_count": 141,
   "id": "47c5f7da-6569-4882-9360-9c21e11388e9",
   "metadata": {},
   "outputs": [
    {
     "data": {
      "text/plain": [
       "<matplotlib.image.AxesImage at 0x142c9fd75b0>"
      ]
     },
     "execution_count": 141,
     "metadata": {},
     "output_type": "execute_result"
    },
    {
     "data": {
      "image/png": "[encoded data removed]",
      "text/plain": [
       "<Figure size 432x288 with 1 Axes>"
      ]
     },
     "metadata": {
      "needs_background": "light"
     },
     "output_type": "display_data"
    }
   ],
   "source": [
    "hfig,hax=plt.subplots()\n",
    "im=plt.imread('world_map.png')\n",
    "plt.imshow(np.flipud(im),origin='lower')"
   ]
  },
  {
   "cell_type": "markdown",
   "id": "e88ca2b6-7b0f-4842-a4b6-81ef14aa953b",
   "metadata": {},
   "source": [
    "size 조정"
   ]
  },
  {
   "cell_type": "code",
   "execution_count": 142,
   "id": "5450f088-f935-4656-b5fa-d6c15f5d885a",
   "metadata": {},
   "outputs": [
    {
     "data": {
      "text/plain": [
       "<matplotlib.image.AxesImage at 0x142ca05a2b0>"
      ]
     },
     "execution_count": 142,
     "metadata": {},
     "output_type": "execute_result"
    },
    {
     "data": {
      "image/png": "[encoded data removed]",
      "text/plain": [
       "<Figure size 432x288 with 1 Axes>"
      ]
     },
     "metadata": {
      "needs_background": "light"
     },
     "output_type": "display_data"
    }
   ],
   "source": [
    "hfig,hax=plt.subplots()\n",
    "im=plt.imread('world_map.png')\n",
    "plt.imshow(np.flipud(im),origin='lower',extent=(0,800,0,400))"
   ]
  },
  {
   "cell_type": "code",
   "execution_count": 143,
   "id": "af919639-d001-43e9-8909-c484baf84d3e",
   "metadata": {},
   "outputs": [
    {
     "name": "stderr",
     "output_type": "stream",
     "text": [
      "C:\\Users\\ehfus\\AppData\\Local\\Temp/ipykernel_14492/3478053917.py:4: MatplotlibDeprecationWarning: shading='flat' when X and Y have the same dimensions as C is deprecated since 3.3.  Either specify the corners of the quadrilaterals with X and Y, or pass shading='auto', 'nearest' or 'gouraud', or set rcParams['pcolor.shading'].  This will become an error two minor releases later.\n",
      "  plt.pcolormesh(grid_x,grid_y,data_interp,cmap='coolwarm',alpha=0.6)\n"
     ]
    },
    {
     "data": {
      "image/png": "[encoded data removed]",
      "text/plain": [
       "<Figure size 432x288 with 2 Axes>"
      ]
     },
     "metadata": {
      "needs_background": "light"
     },
     "output_type": "display_data"
    }
   ],
   "source": [
    "hfig,hax=plt.subplots()\n",
    "im=plt.imread('world_map.png')\n",
    "plt.imshow(np.flipud(im),origin='lower',extent=(-180,180,-90,90))\n",
    "plt.pcolormesh(grid_x,grid_y,data_interp,cmap='coolwarm',alpha=0.6)\n",
    "plt.xlim(-180,180)\n",
    "plt.ylim(-90,90)\n",
    "plt.title('global temperature change from ty1880 to'+str(yr[iyr]))\n",
    "plt.xlabel('Altitude')\n",
    "plt.xlabel('Latitude')\n",
    "plt.colorbar(fraction=0.022,pad=0.05)\n",
    "plt.clim(-4,4)"
   ]
  }
 ],
 "metadata": {
  "kernelspec": {
   "display_name": "Python 3 (ipykernel)",
   "language": "python",
   "name": "python3"
  },
  "language_info": {
   "codemirror_mode": {
    "name": "ipython",
    "version": 3
   },
   "file_extension": ".py",
   "mimetype": "text/x-python",
   "name": "python",
   "nbconvert_exporter": "python",
   "pygments_lexer": "ipython3",
   "version": "3.8.11"
  }
 },
 "nbformat": 4,
 "nbformat_minor": 5
}
