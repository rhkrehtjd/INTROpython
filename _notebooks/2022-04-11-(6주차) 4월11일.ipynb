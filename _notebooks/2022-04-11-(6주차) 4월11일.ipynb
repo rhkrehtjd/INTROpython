{
 "cells": [
  {
   "cell_type": "markdown",
   "id": "c05a6ee2-0d7e-402e-af7a-5a865064e6f1",
   "metadata": {
    "tags": []
   },
   "source": [
    "# (6주차) 4월11일\n",
    "> numpy (@, concat, stack, sum, mean, std, max, min, prod, argmax, argmin, cumsum, cumprod, diff)\n",
    "\n",
    "- toc:true\n",
    "- branch: master\n",
    "- badges: true\n",
    "- comments: true\n",
    "- author: 최규빈"
   ]
  },
  {
   "cell_type": "markdown",
   "id": "2d94a8d5-63fb-43aa-a795-a7d2c0498020",
   "metadata": {},
   "source": [
    "### 강의영상 "
   ]
  },
  {
   "cell_type": "markdown",
   "id": "638c0717-4b99-4c4e-bb82-86ea048b9b4b",
   "metadata": {},
   "source": [
    "> youtube: https://youtube.com/playlist?list=PLQqh36zP38-zFoNClnO36HKRv0S9nMx_H"
   ]
  },
  {
   "cell_type": "markdown",
   "id": "0ed44898-e447-4e83-baad-f918130557bf",
   "metadata": {},
   "source": [
    "`-` (1/6) 2차원 배열과 연립1차 방정식, @의 유연성, 차원 \n",
    "\n",
    "`-` (2/6) concat\n",
    "\n",
    "`-` (3/6) stack\n",
    "\n",
    "`-` (4/6) sum, mean, std, max, min, prod\n",
    "\n",
    "`-` (5/6) argmax, argmin, cumsum, cumprod, diff\n",
    "\n",
    "`-` (6/6) 숙제설명 \n"
   ]
  },
  {
   "cell_type": "markdown",
   "id": "96547ef3-2a25-420f-9e6a-0a04c82557dd",
   "metadata": {},
   "source": [
    "### imports "
   ]
  },
  {
   "cell_type": "code",
   "execution_count": 2,
   "id": "c4a2c671-67bb-4247-93ee-12eaf3e8d3ae",
   "metadata": {},
   "outputs": [],
   "source": [
    "import numpy as np"
   ]
  },
  {
   "cell_type": "markdown",
   "id": "5d011159-1fea-4c7a-9306-a43d71f22372",
   "metadata": {},
   "source": [
    "### numpy공부 3단계: 차원 "
   ]
  },
  {
   "cell_type": "markdown",
   "id": "8aa5c072-ce38-44a9-9835-7b0bde83887e",
   "metadata": {},
   "source": [
    "#### 2차원 배열과 연립 1차 방정식 "
   ]
  },
  {
   "cell_type": "markdown",
   "id": "56f14dfa-e364-403e-8603-9cb84c7bb4f5",
   "metadata": {},
   "source": [
    "`-` 아래의 연립방정식 고려 \n",
    "\n",
    "$\\begin{cases}\n",
    "y+z+w = 3 \\\\ \n",
    "x+z+w = 3 \\\\ \n",
    "x+y+w = 3 \\\\\n",
    "x+y+z = 3 \n",
    "\\end{cases}$"
   ]
  },
  {
   "cell_type": "markdown",
   "id": "5184df4a-063e-440c-8ded-78ee0dbb9658",
   "metadata": {},
   "source": [
    "`-` 행렬표현? \n",
    "\n",
    "$\\begin{bmatrix} \n",
    "0 & 1 & 1 & 1 \\\\\n",
    "1 & 0 & 1 & 1 \\\\\n",
    "1 & 1 & 0 & 1 \\\\\n",
    "1 & 1 & 1 & 0 \n",
    "\\end{bmatrix}\n",
    "\\begin{bmatrix}\n",
    "x \\\\ \n",
    "y \\\\ \n",
    "z \\\\ \n",
    "w \n",
    "\\end{bmatrix} =\n",
    "\\begin{bmatrix}\n",
    "3 \\\\ \n",
    "3 \\\\ \n",
    "3 \\\\ \n",
    "3 \n",
    "\\end{bmatrix}$\n"
   ]
  },
  {
   "cell_type": "markdown",
   "id": "98b21e66-13f2-4b15-86ff-36a7da934854",
   "metadata": {},
   "source": [
    "`-` 풀이"
   ]
  },
  {
   "cell_type": "code",
   "execution_count": 3,
   "id": "8ead3cfd-c2c2-4396-b5b3-a29f046dca75",
   "metadata": {},
   "outputs": [
    {
     "data": {
      "text/plain": [
       "array([[0, 1, 1, 1],\n",
       "       [1, 0, 1, 1],\n",
       "       [1, 1, 0, 1],\n",
       "       [1, 1, 1, 0]])"
      ]
     },
     "execution_count": 3,
     "metadata": {},
     "output_type": "execute_result"
    }
   ],
   "source": [
    "A = np.array([[0,1,1,1],[1,0,1,1],[1,1,0,1],[1,1,1,0]])\n",
    "A"
   ]
  },
  {
   "cell_type": "code",
   "execution_count": 5,
   "id": "d1076ac5-6da8-40c4-a300-cc5568282f63",
   "metadata": {},
   "outputs": [
    {
     "data": {
      "text/plain": [
       "array([[3],\n",
       "       [3],\n",
       "       [3],\n",
       "       [3]])"
      ]
     },
     "execution_count": 5,
     "metadata": {},
     "output_type": "execute_result"
    }
   ],
   "source": [
    "b= np.array([3,3,3,3]).reshape(4,1)\n",
    "b"
   ]
  },
  {
   "cell_type": "code",
   "execution_count": 7,
   "id": "6f1095cf-098e-48ae-a980-81bea7538c5d",
   "metadata": {},
   "outputs": [
    {
     "data": {
      "text/plain": [
       "array([[1.],\n",
       "       [1.],\n",
       "       [1.],\n",
       "       [1.]])"
      ]
     },
     "execution_count": 7,
     "metadata": {},
     "output_type": "execute_result"
    }
   ],
   "source": [
    "np.linalg.inv(A) @ b "
   ]
  },
  {
   "cell_type": "markdown",
   "id": "adc7c347-7ab8-41b1-9900-e4537154cdd4",
   "metadata": {},
   "source": [
    "`-` 다른풀이 "
   ]
  },
  {
   "cell_type": "markdown",
   "id": "dc780d85-517d-4214-98ae-e26b3df643ca",
   "metadata": {},
   "source": [
    "b를 아래와 같이 만들어도 된다. "
   ]
  },
  {
   "cell_type": "code",
   "execution_count": 11,
   "id": "5f7663ab-e096-47f4-afff-b761c7777a80",
   "metadata": {},
   "outputs": [
    {
     "data": {
      "text/plain": [
       "array([3, 3, 3, 3])"
      ]
     },
     "execution_count": 11,
     "metadata": {},
     "output_type": "execute_result"
    }
   ],
   "source": [
    "b=np.array([3,3,3,3])\n",
    "b"
   ]
  },
  {
   "cell_type": "code",
   "execution_count": 13,
   "id": "7b82c5b9-0eba-4c21-8dec-0d094156e1e7",
   "metadata": {},
   "outputs": [
    {
     "data": {
      "text/plain": [
       "(4,)"
      ]
     },
     "execution_count": 13,
     "metadata": {},
     "output_type": "execute_result"
    }
   ],
   "source": [
    "b.shape # b.shape은 길이가 1인 튜플로 나온다. "
   ]
  },
  {
   "cell_type": "code",
   "execution_count": 14,
   "id": "83aaac2e-7526-4b1c-aa75-422a96021fa5",
   "metadata": {},
   "outputs": [
    {
     "data": {
      "text/plain": [
       "array([1., 1., 1., 1.])"
      ]
     },
     "execution_count": 14,
     "metadata": {},
     "output_type": "execute_result"
    }
   ],
   "source": [
    "np.linalg.inv(A) @ b "
   ]
  },
  {
   "cell_type": "markdown",
   "id": "715bbae9-6120-4266-837e-c726c6ff17f7",
   "metadata": {},
   "source": [
    "#### `@`의 유연성 "
   ]
  },
  {
   "cell_type": "markdown",
   "id": "4f0a884b-e208-4f0b-90dc-9f64aae25508",
   "metadata": {},
   "source": [
    "`-` 엄밀하게는 아래의 행렬곱이 가능하다. \n",
    "- (2,2) @ (2,1) => (2,1) \n",
    "- (1,2) @ (2,2) => (1,2) "
   ]
  },
  {
   "cell_type": "code",
   "execution_count": 17,
   "id": "504906f8-b92b-480b-a2bb-e37f7d873df6",
   "metadata": {},
   "outputs": [
    {
     "data": {
      "text/plain": [
       "array([[ 5],\n",
       "       [11]])"
      ]
     },
     "execution_count": 17,
     "metadata": {},
     "output_type": "execute_result"
    }
   ],
   "source": [
    "A = np.array([1,2,3,4]).reshape(2,2) \n",
    "b = np.array([1,2]).reshape(2,1) \n",
    "A@b"
   ]
  },
  {
   "cell_type": "code",
   "execution_count": 18,
   "id": "97634696-a710-4045-ae86-9a3fc81760aa",
   "metadata": {},
   "outputs": [
    {
     "data": {
      "text/plain": [
       "((2, 2), (2, 1), (2, 1))"
      ]
     },
     "execution_count": 18,
     "metadata": {},
     "output_type": "execute_result"
    }
   ],
   "source": [
    "A.shape, b.shape, (A@b).shape"
   ]
  },
  {
   "cell_type": "code",
   "execution_count": 20,
   "id": "17f2c007-db45-4adc-8f71-8647d6a3e3f4",
   "metadata": {},
   "outputs": [
    {
     "data": {
      "text/plain": [
       "array([[ 7, 10]])"
      ]
     },
     "execution_count": 20,
     "metadata": {},
     "output_type": "execute_result"
    }
   ],
   "source": [
    "A = np.array([1,2,3,4]).reshape(2,2) \n",
    "b = np.array([1,2]).reshape(1,2) \n",
    "b@A "
   ]
  },
  {
   "cell_type": "code",
   "execution_count": 21,
   "id": "9b760f32-cf00-46ca-b9e7-7fe420d2fb76",
   "metadata": {},
   "outputs": [
    {
     "data": {
      "text/plain": [
       "((2, 2), (1, 2), (1, 2))"
      ]
     },
     "execution_count": 21,
     "metadata": {},
     "output_type": "execute_result"
    }
   ],
   "source": [
    "A.shape, b.shape, (b@A).shape"
   ]
  },
  {
   "cell_type": "markdown",
   "id": "f41d3993-aed4-40ac-9801-3ff30df2e63a",
   "metadata": {},
   "source": [
    "`-` 당연히 아래는 성립안한다. "
   ]
  },
  {
   "cell_type": "code",
   "execution_count": 22,
   "id": "ad0c85a3-39e4-4ac5-b7dc-ae9e5356a229",
   "metadata": {},
   "outputs": [
    {
     "ename": "ValueError",
     "evalue": "matmul: Input operand 1 has a mismatch in its core dimension 0, with gufunc signature (n?,k),(k,m?)->(n?,m?) (size 2 is different from 1)",
     "output_type": "error",
     "traceback": [
      "\u001b[0;31m---------------------------------------------------------------------------\u001b[0m",
      "\u001b[0;31mValueError\u001b[0m                                Traceback (most recent call last)",
      "Input \u001b[0;32mIn [22]\u001b[0m, in \u001b[0;36m<cell line: 3>\u001b[0;34m()\u001b[0m\n\u001b[1;32m      1\u001b[0m A \u001b[38;5;241m=\u001b[39m np\u001b[38;5;241m.\u001b[39marray([\u001b[38;5;241m1\u001b[39m,\u001b[38;5;241m2\u001b[39m,\u001b[38;5;241m3\u001b[39m,\u001b[38;5;241m4\u001b[39m])\u001b[38;5;241m.\u001b[39mreshape(\u001b[38;5;241m2\u001b[39m,\u001b[38;5;241m2\u001b[39m) \n\u001b[1;32m      2\u001b[0m b \u001b[38;5;241m=\u001b[39m np\u001b[38;5;241m.\u001b[39marray([\u001b[38;5;241m1\u001b[39m,\u001b[38;5;241m2\u001b[39m])\u001b[38;5;241m.\u001b[39mreshape(\u001b[38;5;241m2\u001b[39m,\u001b[38;5;241m1\u001b[39m) \n\u001b[0;32m----> 3\u001b[0m \u001b[43mb\u001b[49m\u001b[38;5;129;43m@A\u001b[39;49m\n",
      "\u001b[0;31mValueError\u001b[0m: matmul: Input operand 1 has a mismatch in its core dimension 0, with gufunc signature (n?,k),(k,m?)->(n?,m?) (size 2 is different from 1)"
     ]
    }
   ],
   "source": [
    "A = np.array([1,2,3,4]).reshape(2,2) \n",
    "b = np.array([1,2]).reshape(2,1) \n",
    "b@A"
   ]
  },
  {
   "cell_type": "code",
   "execution_count": 23,
   "id": "0e7502de-a2e1-418f-b605-24e2c9e0afc1",
   "metadata": {},
   "outputs": [
    {
     "ename": "ValueError",
     "evalue": "matmul: Input operand 1 has a mismatch in its core dimension 0, with gufunc signature (n?,k),(k,m?)->(n?,m?) (size 1 is different from 2)",
     "output_type": "error",
     "traceback": [
      "\u001b[0;31m---------------------------------------------------------------------------\u001b[0m",
      "\u001b[0;31mValueError\u001b[0m                                Traceback (most recent call last)",
      "Input \u001b[0;32mIn [23]\u001b[0m, in \u001b[0;36m<cell line: 3>\u001b[0;34m()\u001b[0m\n\u001b[1;32m      1\u001b[0m A \u001b[38;5;241m=\u001b[39m np\u001b[38;5;241m.\u001b[39marray([\u001b[38;5;241m1\u001b[39m,\u001b[38;5;241m2\u001b[39m,\u001b[38;5;241m3\u001b[39m,\u001b[38;5;241m4\u001b[39m])\u001b[38;5;241m.\u001b[39mreshape(\u001b[38;5;241m2\u001b[39m,\u001b[38;5;241m2\u001b[39m) \n\u001b[1;32m      2\u001b[0m b \u001b[38;5;241m=\u001b[39m np\u001b[38;5;241m.\u001b[39marray([\u001b[38;5;241m1\u001b[39m,\u001b[38;5;241m2\u001b[39m])\u001b[38;5;241m.\u001b[39mreshape(\u001b[38;5;241m1\u001b[39m,\u001b[38;5;241m2\u001b[39m) \n\u001b[0;32m----> 3\u001b[0m \u001b[43mA\u001b[49m\u001b[38;5;129;43m@b\u001b[39;49m\n",
      "\u001b[0;31mValueError\u001b[0m: matmul: Input operand 1 has a mismatch in its core dimension 0, with gufunc signature (n?,k),(k,m?)->(n?,m?) (size 1 is different from 2)"
     ]
    }
   ],
   "source": [
    "A = np.array([1,2,3,4]).reshape(2,2) \n",
    "b = np.array([1,2]).reshape(1,2) \n",
    "A@b"
   ]
  },
  {
   "cell_type": "markdown",
   "id": "5a285ab7-7b0a-456f-b13e-00a77cd7979e",
   "metadata": {},
   "source": [
    "`-` 아래는 어떨까? 계산가능할까? $\\to$ 모두 계산가능!\n",
    "- (2,) @ (2,2) = (2,) \n",
    "- (2,2) @ (2,) = (2,) "
   ]
  },
  {
   "cell_type": "code",
   "execution_count": 25,
   "id": "b711f1c6-300f-4718-a06f-37dadd295359",
   "metadata": {},
   "outputs": [
    {
     "data": {
      "text/plain": [
       "array([ 5, 11])"
      ]
     },
     "execution_count": 25,
     "metadata": {},
     "output_type": "execute_result"
    }
   ],
   "source": [
    "A = np.array([1,2,3,4]).reshape(2,2)\n",
    "b = np.array([1,2]) \n",
    "A@b"
   ]
  },
  {
   "cell_type": "code",
   "execution_count": 26,
   "id": "32dcab3c-aacb-4f86-b39e-d7ad0b4d6f7e",
   "metadata": {},
   "outputs": [
    {
     "data": {
      "text/plain": [
       "((2, 2), (2,), (2,))"
      ]
     },
     "execution_count": 26,
     "metadata": {},
     "output_type": "execute_result"
    }
   ],
   "source": [
    "A.shape, b.shape, (A@b).shape "
   ]
  },
  {
   "cell_type": "markdown",
   "id": "383b422b-fb77-42ac-995f-6372132a346e",
   "metadata": {},
   "source": [
    "- b를 마치 (2,1)처럼 해석하여 행렬곱하고 결과는 다시 (2,) 로 만든것 같다. "
   ]
  },
  {
   "cell_type": "code",
   "execution_count": 27,
   "id": "f8c4fa6c-0734-49c7-9000-4242ba774032",
   "metadata": {},
   "outputs": [
    {
     "data": {
      "text/plain": [
       "array([ 7, 10])"
      ]
     },
     "execution_count": 27,
     "metadata": {},
     "output_type": "execute_result"
    }
   ],
   "source": [
    "b@A"
   ]
  },
  {
   "cell_type": "code",
   "execution_count": 28,
   "id": "1e47215f-9f55-4ee1-bc87-203a615cb39f",
   "metadata": {},
   "outputs": [
    {
     "data": {
      "text/plain": [
       "((2, 2), (2,), (2,))"
      ]
     },
     "execution_count": 28,
     "metadata": {},
     "output_type": "execute_result"
    }
   ],
   "source": [
    "A.shape, b.shape, (b@A).shape "
   ]
  },
  {
   "cell_type": "markdown",
   "id": "c1449ae5-a433-48a1-9ba1-dbf18639b0a8",
   "metadata": {},
   "source": [
    "- 이때는 $b$를 마치 (1,2)처럼 해석하여 행렬곱하고 결과는 다시 (2,)로 만든것 같다. "
   ]
  },
  {
   "cell_type": "markdown",
   "id": "a2cfd4ae-333a-4f7f-9077-c955fada3357",
   "metadata": {},
   "source": [
    "`-` 아래는 어떠할까? "
   ]
  },
  {
   "cell_type": "code",
   "execution_count": 32,
   "id": "5a14ac90-eb80-481e-be9e-3eef002fbf13",
   "metadata": {},
   "outputs": [
    {
     "data": {
      "text/plain": [
       "30"
      ]
     },
     "execution_count": 32,
     "metadata": {},
     "output_type": "execute_result"
    }
   ],
   "source": [
    "b1 = np.array([1,2,3,4]) \n",
    "b2 = np.array([1,2,3,4]) \n",
    "b1@b2 "
   ]
  },
  {
   "cell_type": "code",
   "execution_count": 31,
   "id": "9c99fc6a-52ed-4531-ae28-01ab9566a07f",
   "metadata": {},
   "outputs": [
    {
     "data": {
      "text/plain": [
       "((4,), (4,), ())"
      ]
     },
     "execution_count": 31,
     "metadata": {},
     "output_type": "execute_result"
    }
   ],
   "source": [
    "b1.shape, b2.shape, (b1@b2).shape "
   ]
  },
  {
   "cell_type": "markdown",
   "id": "2d45f6ad-c180-496c-837f-46d39cbe7a64",
   "metadata": {},
   "source": [
    "- (1,4) @ (4,1) = (1,1) 로 생각 "
   ]
  },
  {
   "cell_type": "markdown",
   "id": "0264e583-f787-4f53-9984-4e580fea359c",
   "metadata": {},
   "source": [
    "`-` 즉 위는 아래와 같이 해석하고 행렬곱한것과 결과가 같다. "
   ]
  },
  {
   "cell_type": "code",
   "execution_count": 35,
   "id": "4bc5d376-dcd4-4fd5-809d-0bc9c1f6f13a",
   "metadata": {},
   "outputs": [
    {
     "data": {
      "text/plain": [
       "array([[30]])"
      ]
     },
     "execution_count": 35,
     "metadata": {},
     "output_type": "execute_result"
    }
   ],
   "source": [
    "b1 = np.array([1,2,3,4]).reshape(1,4) \n",
    "b2 = np.array([1,2,3,4]).reshape(4,1) \n",
    "b1@b2 "
   ]
  },
  {
   "cell_type": "code",
   "execution_count": 36,
   "id": "fe66d5b0-7627-4779-8481-bf9f2c6efde1",
   "metadata": {},
   "outputs": [
    {
     "data": {
      "text/plain": [
       "((1, 4), (4, 1), (1, 1))"
      ]
     },
     "execution_count": 36,
     "metadata": {},
     "output_type": "execute_result"
    }
   ],
   "source": [
    "b1.shape, b2.shape, (b1@b2).shape "
   ]
  },
  {
   "cell_type": "markdown",
   "id": "0ac1a74e-b69e-4f00-a981-9fd7506434a5",
   "metadata": {},
   "source": [
    "`-` 때로는 (4,1) @ (1,4)와 같은 계산결과를 얻고 싶을 수 있는데 이때는 차원을 명시해야함 "
   ]
  },
  {
   "cell_type": "code",
   "execution_count": 34,
   "id": "db4f0c1b-db75-433e-80a4-249251409f2f",
   "metadata": {},
   "outputs": [
    {
     "data": {
      "text/plain": [
       "array([[ 1,  2,  3,  4],\n",
       "       [ 2,  4,  6,  8],\n",
       "       [ 3,  6,  9, 12],\n",
       "       [ 4,  8, 12, 16]])"
      ]
     },
     "execution_count": 34,
     "metadata": {},
     "output_type": "execute_result"
    }
   ],
   "source": [
    "b1 = np.array([1,2,3,4]).reshape(4,1) \n",
    "b2 = np.array([1,2,3,4]).reshape(1,4) \n",
    "b1@b2 "
   ]
  },
  {
   "cell_type": "markdown",
   "id": "5fdb8c2f-948a-4e4a-887e-12ab77a15f43",
   "metadata": {},
   "source": [
    "#### 차원 "
   ]
  },
  {
   "cell_type": "markdown",
   "id": "9fe7f938-d177-4c8c-8349-9096563107ab",
   "metadata": {},
   "source": [
    "`-` 넘파이배열의 차원은 .shape 으로 확인가능 "
   ]
  },
  {
   "cell_type": "markdown",
   "id": "aa67745e-8220-423a-944d-77d32da4c5f9",
   "metadata": {},
   "source": [
    "`-` 아래는 모두 미묘하게 다르다. "
   ]
  },
  {
   "cell_type": "code",
   "execution_count": 49,
   "id": "687bf7e4-ccb0-484b-b9ab-698006fdf1db",
   "metadata": {},
   "outputs": [
    {
     "data": {
      "text/plain": [
       "(array(3.14), ())"
      ]
     },
     "execution_count": 49,
     "metadata": {},
     "output_type": "execute_result"
    }
   ],
   "source": [
    "a=np.array(3.14) # 스칼라, 0d array \n",
    "a, a.shape"
   ]
  },
  {
   "cell_type": "code",
   "execution_count": 50,
   "id": "ccf8514b-a1eb-4066-b9a6-ce8a730f1767",
   "metadata": {},
   "outputs": [
    {
     "data": {
      "text/plain": [
       "(array([3.14]), (1,))"
      ]
     },
     "execution_count": 50,
     "metadata": {},
     "output_type": "execute_result"
    }
   ],
   "source": [
    "a=np.array([3.14]) # 벡터, 1d array \n",
    "a, a.shape"
   ]
  },
  {
   "cell_type": "code",
   "execution_count": 51,
   "id": "2ed898fe-350e-45fe-9457-a3054ff2d468",
   "metadata": {},
   "outputs": [
    {
     "data": {
      "text/plain": [
       "(array([[3.14]]), (1, 1))"
      ]
     },
     "execution_count": 51,
     "metadata": {},
     "output_type": "execute_result"
    }
   ],
   "source": [
    "a=np.array([[3.14]]) # 매트릭스, 2d array \n",
    "a, a.shape"
   ]
  },
  {
   "cell_type": "code",
   "execution_count": 52,
   "id": "21c1082c-e53e-4f9e-a11f-3feda9bac49c",
   "metadata": {},
   "outputs": [
    {
     "data": {
      "text/plain": [
       "(array([[[3.14]]]), (1, 1, 1))"
      ]
     },
     "execution_count": 52,
     "metadata": {},
     "output_type": "execute_result"
    }
   ],
   "source": [
    "a=np.array([[[3.14]]]) # 텐서, 3d array \n",
    "a, a.shape"
   ]
  },
  {
   "cell_type": "markdown",
   "id": "e4c53e53-a19e-4c8b-985b-e1bdccf10e37",
   "metadata": {},
   "source": [
    "### numpy공부 4단계: 축 "
   ]
  },
  {
   "cell_type": "markdown",
   "id": "3d4058b1-519b-4bd6-9077-7b7b135be586",
   "metadata": {},
   "source": [
    "#### np.concatenate"
   ]
  },
  {
   "cell_type": "markdown",
   "id": "ad075910-9c37-429f-92c7-c43cf05d1a45",
   "metadata": {},
   "source": [
    "`-` 기본예제 "
   ]
  },
  {
   "cell_type": "code",
   "execution_count": 53,
   "id": "7f5c3986-9b1d-4ae3-9b72-905d0077d8f0",
   "metadata": {},
   "outputs": [],
   "source": [
    "a=np.array([1,2]) \n",
    "b=-a"
   ]
  },
  {
   "cell_type": "code",
   "execution_count": 56,
   "id": "8780358a-324d-47e8-b965-87b05007116d",
   "metadata": {},
   "outputs": [
    {
     "data": {
      "text/plain": [
       "array([ 1,  2, -1, -2])"
      ]
     },
     "execution_count": 56,
     "metadata": {},
     "output_type": "execute_result"
    }
   ],
   "source": [
    "np.concatenate([a,b]) "
   ]
  },
  {
   "cell_type": "markdown",
   "id": "be4c99f6-4b10-4bb3-aa55-50436e343ebc",
   "metadata": {},
   "source": [
    "`-` 응용 "
   ]
  },
  {
   "cell_type": "code",
   "execution_count": 57,
   "id": "6ed1e58f-c53a-45f7-bef6-dbff8f7bf8ca",
   "metadata": {},
   "outputs": [],
   "source": [
    "a=np.array([1,2])\n",
    "b=-a \n",
    "c=np.array([3,4,5])"
   ]
  },
  {
   "cell_type": "code",
   "execution_count": 58,
   "id": "9c2e6f38-7b5c-4421-867c-56fef1015812",
   "metadata": {},
   "outputs": [
    {
     "data": {
      "text/plain": [
       "array([ 1,  2, -1, -2,  3,  4,  5])"
      ]
     },
     "execution_count": 58,
     "metadata": {},
     "output_type": "execute_result"
    }
   ],
   "source": [
    "np.concatenate([a,b,c])"
   ]
  },
  {
   "cell_type": "markdown",
   "id": "db8b8482-bed3-48a0-af30-fc50151aae78",
   "metadata": {},
   "source": [
    "- 여기까진 딱히 칸캐터네이트의 메리트가 없어보임\n",
    "- 리스트였다면 a+b+c 하면 되는 기능이니까? "
   ]
  },
  {
   "cell_type": "markdown",
   "id": "ca6fc614-e1e9-43f8-80f5-6959fa182ef7",
   "metadata": {},
   "source": [
    "`-` 2d array에 적용해보자. "
   ]
  },
  {
   "cell_type": "code",
   "execution_count": 61,
   "id": "531d1db9-ded8-42cc-aae0-4e024af5bcd4",
   "metadata": {},
   "outputs": [],
   "source": [
    "a=np.arange(4).reshape(2,2) \n",
    "b=-a"
   ]
  },
  {
   "cell_type": "code",
   "execution_count": 62,
   "id": "2d7ec281-20b8-4c48-9665-90ccce842cfe",
   "metadata": {},
   "outputs": [
    {
     "data": {
      "text/plain": [
       "array([[ 0,  1],\n",
       "       [ 2,  3],\n",
       "       [ 0, -1],\n",
       "       [-2, -3]])"
      ]
     },
     "execution_count": 62,
     "metadata": {},
     "output_type": "execute_result"
    }
   ],
   "source": [
    "np.concatenate([a,b]) "
   ]
  },
  {
   "cell_type": "markdown",
   "id": "1be49608-c8ff-47c3-b7a1-0cb425a8db03",
   "metadata": {},
   "source": [
    "`-` 옆으로 붙일려면? "
   ]
  },
  {
   "cell_type": "code",
   "execution_count": 63,
   "id": "8302a372-c5c6-4861-befb-cc0c40420baa",
   "metadata": {},
   "outputs": [
    {
     "data": {
      "text/plain": [
       "array([[ 0,  1,  0, -1],\n",
       "       [ 2,  3, -2, -3]])"
      ]
     },
     "execution_count": 63,
     "metadata": {},
     "output_type": "execute_result"
    }
   ],
   "source": [
    "np.concatenate([a,b],axis=1)"
   ]
  },
  {
   "cell_type": "markdown",
   "id": "83eeb66f-dfdb-439c-89d0-6a52518f1bec",
   "metadata": {},
   "source": [
    "`-` 위의 코드에서 axis=1 이 뭐지? axis=0,2 등을 치면 결과가 어떻게 될까? "
   ]
  },
  {
   "cell_type": "code",
   "execution_count": 64,
   "id": "bc5e516a-dcae-4a27-af2a-9f6a5c25b6fd",
   "metadata": {},
   "outputs": [
    {
     "data": {
      "text/plain": [
       "array([[ 0,  1],\n",
       "       [ 2,  3],\n",
       "       [ 0, -1],\n",
       "       [-2, -3]])"
      ]
     },
     "execution_count": 64,
     "metadata": {},
     "output_type": "execute_result"
    }
   ],
   "source": [
    "np.concatenate([a,b],axis=0)"
   ]
  },
  {
   "cell_type": "markdown",
   "id": "e4e8a097-2375-47ec-8d09-b69655309c19",
   "metadata": {},
   "source": [
    "- 이건 그냥 np.concatenate([a,b])와 같다. \n",
    "- np.concatenate([a,b])는 np.concatenate([a,b],axis=0)의 생략버전이군? "
   ]
  },
  {
   "cell_type": "code",
   "execution_count": 65,
   "id": "37d10b18-f9b8-4fcc-a7d6-99df849fb1c1",
   "metadata": {},
   "outputs": [
    {
     "ename": "AxisError",
     "evalue": "axis 2 is out of bounds for array of dimension 2",
     "output_type": "error",
     "traceback": [
      "\u001b[0;31m---------------------------------------------------------------------------\u001b[0m",
      "\u001b[0;31mAxisError\u001b[0m                                 Traceback (most recent call last)",
      "Input \u001b[0;32mIn [65]\u001b[0m, in \u001b[0;36m<cell line: 1>\u001b[0;34m()\u001b[0m\n\u001b[0;32m----> 1\u001b[0m \u001b[43mnp\u001b[49m\u001b[38;5;241;43m.\u001b[39;49m\u001b[43mconcatenate\u001b[49m\u001b[43m(\u001b[49m\u001b[43m[\u001b[49m\u001b[43ma\u001b[49m\u001b[43m,\u001b[49m\u001b[43mb\u001b[49m\u001b[43m]\u001b[49m\u001b[43m,\u001b[49m\u001b[43maxis\u001b[49m\u001b[38;5;241;43m=\u001b[39;49m\u001b[38;5;241;43m2\u001b[39;49m\u001b[43m)\u001b[49m\n",
      "File \u001b[0;32m<__array_function__ internals>:5\u001b[0m, in \u001b[0;36mconcatenate\u001b[0;34m(*args, **kwargs)\u001b[0m\n",
      "\u001b[0;31mAxisError\u001b[0m: axis 2 is out of bounds for array of dimension 2"
     ]
    }
   ],
   "source": [
    "np.concatenate([a,b],axis=2)"
   ]
  },
  {
   "cell_type": "markdown",
   "id": "c918ff04-8d38-4404-a147-b2b18c26ef64",
   "metadata": {},
   "source": [
    "- 이런건 없다. "
   ]
  },
  {
   "cell_type": "markdown",
   "id": "d7a41c46-f96d-42cc-b6f7-6816e7735f0d",
   "metadata": {},
   "source": [
    "`-` axis의 의미가 뭔지 궁금함. 좀 더 예제를 살펴보자. "
   ]
  },
  {
   "cell_type": "code",
   "execution_count": 68,
   "id": "edaca1f5-1204-4d46-afd2-989390fb8191",
   "metadata": {},
   "outputs": [
    {
     "data": {
      "text/plain": [
       "array([[[ 0,  1,  2,  3],\n",
       "        [ 4,  5,  6,  7],\n",
       "        [ 8,  9, 10, 11]],\n",
       "\n",
       "       [[12, 13, 14, 15],\n",
       "        [16, 17, 18, 19],\n",
       "        [20, 21, 22, 23]]])"
      ]
     },
     "execution_count": 68,
     "metadata": {},
     "output_type": "execute_result"
    }
   ],
   "source": [
    "a=np.array(range(2*3*4)).reshape(2,3,4)\n",
    "a"
   ]
  },
  {
   "cell_type": "code",
   "execution_count": 69,
   "id": "4698e4c5-7767-4a18-b873-cc1f343c0b63",
   "metadata": {},
   "outputs": [
    {
     "data": {
      "text/plain": [
       "array([[[  0,  -1,  -2,  -3],\n",
       "        [ -4,  -5,  -6,  -7],\n",
       "        [ -8,  -9, -10, -11]],\n",
       "\n",
       "       [[-12, -13, -14, -15],\n",
       "        [-16, -17, -18, -19],\n",
       "        [-20, -21, -22, -23]]])"
      ]
     },
     "execution_count": 69,
     "metadata": {},
     "output_type": "execute_result"
    }
   ],
   "source": [
    "b=-a\n",
    "b"
   ]
  },
  {
   "cell_type": "code",
   "execution_count": 70,
   "id": "1d95bf56-f92c-4667-9715-7d757434faa6",
   "metadata": {},
   "outputs": [
    {
     "data": {
      "text/plain": [
       "array([[[  0,   1,   2,   3],\n",
       "        [  4,   5,   6,   7],\n",
       "        [  8,   9,  10,  11]],\n",
       "\n",
       "       [[ 12,  13,  14,  15],\n",
       "        [ 16,  17,  18,  19],\n",
       "        [ 20,  21,  22,  23]],\n",
       "\n",
       "       [[  0,  -1,  -2,  -3],\n",
       "        [ -4,  -5,  -6,  -7],\n",
       "        [ -8,  -9, -10, -11]],\n",
       "\n",
       "       [[-12, -13, -14, -15],\n",
       "        [-16, -17, -18, -19],\n",
       "        [-20, -21, -22, -23]]])"
      ]
     },
     "execution_count": 70,
     "metadata": {},
     "output_type": "execute_result"
    }
   ],
   "source": [
    "np.concatenate([a,b],axis=0) "
   ]
  },
  {
   "cell_type": "code",
   "execution_count": 72,
   "id": "623d87d6-3c0c-44b4-b5f3-ce7567cd396a",
   "metadata": {},
   "outputs": [
    {
     "data": {
      "text/plain": [
       "array([[[  0,   1,   2,   3],\n",
       "        [  4,   5,   6,   7],\n",
       "        [  8,   9,  10,  11],\n",
       "        [  0,  -1,  -2,  -3],\n",
       "        [ -4,  -5,  -6,  -7],\n",
       "        [ -8,  -9, -10, -11]],\n",
       "\n",
       "       [[ 12,  13,  14,  15],\n",
       "        [ 16,  17,  18,  19],\n",
       "        [ 20,  21,  22,  23],\n",
       "        [-12, -13, -14, -15],\n",
       "        [-16, -17, -18, -19],\n",
       "        [-20, -21, -22, -23]]])"
      ]
     },
     "execution_count": 72,
     "metadata": {},
     "output_type": "execute_result"
    }
   ],
   "source": [
    "np.concatenate([a,b],axis=1) "
   ]
  },
  {
   "cell_type": "code",
   "execution_count": 73,
   "id": "7db69480-7d80-4c62-ab4c-908b1e914113",
   "metadata": {},
   "outputs": [
    {
     "data": {
      "text/plain": [
       "array([[[  0,   1,   2,   3,   0,  -1,  -2,  -3],\n",
       "        [  4,   5,   6,   7,  -4,  -5,  -6,  -7],\n",
       "        [  8,   9,  10,  11,  -8,  -9, -10, -11]],\n",
       "\n",
       "       [[ 12,  13,  14,  15, -12, -13, -14, -15],\n",
       "        [ 16,  17,  18,  19, -16, -17, -18, -19],\n",
       "        [ 20,  21,  22,  23, -20, -21, -22, -23]]])"
      ]
     },
     "execution_count": 73,
     "metadata": {},
     "output_type": "execute_result"
    }
   ],
   "source": [
    "np.concatenate([a,b],axis=2) "
   ]
  },
  {
   "cell_type": "markdown",
   "id": "1255b763-1348-4f8a-a624-e0ceb95e3e3e",
   "metadata": {},
   "source": [
    "- 이번에는 axis=2까지 된다? "
   ]
  },
  {
   "cell_type": "code",
   "execution_count": 75,
   "id": "8335898a-ccd3-48ea-b1ac-a9ed1436207f",
   "metadata": {},
   "outputs": [
    {
     "ename": "AxisError",
     "evalue": "axis 3 is out of bounds for array of dimension 3",
     "output_type": "error",
     "traceback": [
      "\u001b[0;31m---------------------------------------------------------------------------\u001b[0m",
      "\u001b[0;31mAxisError\u001b[0m                                 Traceback (most recent call last)",
      "Input \u001b[0;32mIn [75]\u001b[0m, in \u001b[0;36m<cell line: 1>\u001b[0;34m()\u001b[0m\n\u001b[0;32m----> 1\u001b[0m \u001b[43mnp\u001b[49m\u001b[38;5;241;43m.\u001b[39;49m\u001b[43mconcatenate\u001b[49m\u001b[43m(\u001b[49m\u001b[43m[\u001b[49m\u001b[43ma\u001b[49m\u001b[43m,\u001b[49m\u001b[43mb\u001b[49m\u001b[43m]\u001b[49m\u001b[43m,\u001b[49m\u001b[43maxis\u001b[49m\u001b[38;5;241;43m=\u001b[39;49m\u001b[38;5;241;43m3\u001b[39;49m\u001b[43m)\u001b[49m\n",
      "File \u001b[0;32m<__array_function__ internals>:5\u001b[0m, in \u001b[0;36mconcatenate\u001b[0;34m(*args, **kwargs)\u001b[0m\n",
      "\u001b[0;31mAxisError\u001b[0m: axis 3 is out of bounds for array of dimension 3"
     ]
    }
   ],
   "source": [
    "np.concatenate([a,b],axis=3) "
   ]
  },
  {
   "cell_type": "markdown",
   "id": "f21f5d85-cf58-4c7d-8f43-a23397216730",
   "metadata": {},
   "source": [
    "- axis=3까지는 안된다? "
   ]
  },
  {
   "cell_type": "markdown",
   "id": "0957319d-38f6-4776-8b02-425cd5d9f9f5",
   "metadata": {},
   "source": [
    "`-` 뭔가 나름의 방식으로 합쳐지는데 원리가 뭘까? "
   ]
  },
  {
   "cell_type": "markdown",
   "id": "b0b1a34c-f7e0-453c-a06d-a560e1180c2f",
   "metadata": {},
   "source": [
    "(분석1) np.concatenate([a,b],axis=0) "
   ]
  },
  {
   "cell_type": "code",
   "execution_count": 80,
   "id": "5c143f84-ec3b-4baa-a586-7d821127ea41",
   "metadata": {},
   "outputs": [],
   "source": [
    "a=np.array(range(2*3*4)).reshape(2,3,4) \n",
    "b=-a "
   ]
  },
  {
   "cell_type": "code",
   "execution_count": 86,
   "id": "7bea044d-9f8c-4450-a654-aa230e78c45b",
   "metadata": {},
   "outputs": [
    {
     "data": {
      "text/plain": [
       "((2, 3, 4), (2, 3, 4), (4, 3, 4))"
      ]
     },
     "execution_count": 86,
     "metadata": {},
     "output_type": "execute_result"
    }
   ],
   "source": [
    "a.shape, b.shape, np.concatenate([a,b],axis=0).shape"
   ]
  },
  {
   "cell_type": "markdown",
   "id": "3f1edf74-2d3c-436d-acbe-ce8de7397079",
   "metadata": {},
   "source": [
    "- 첫번째차원이 바뀌었다 => 첫번째 축이 바뀌었다 => axis=0 (파이썬은 0부터 시작하니까!) "
   ]
  },
  {
   "cell_type": "markdown",
   "id": "5709e6e0-93bc-4ae8-b4d2-8c45059e9bb8",
   "metadata": {},
   "source": [
    "(분석2) np.concatenate([a,b],axis=1) "
   ]
  },
  {
   "cell_type": "code",
   "execution_count": 88,
   "id": "ebdb2a12-7119-4386-bd8f-4009be840c9e",
   "metadata": {},
   "outputs": [],
   "source": [
    "a=np.array(range(2*3*4)).reshape(2,3,4) \n",
    "b=-a "
   ]
  },
  {
   "cell_type": "code",
   "execution_count": 89,
   "id": "58d41012-d05e-4812-8206-7bde5d01f764",
   "metadata": {},
   "outputs": [
    {
     "data": {
      "text/plain": [
       "((2, 3, 4), (2, 3, 4), (2, 6, 4))"
      ]
     },
     "execution_count": 89,
     "metadata": {},
     "output_type": "execute_result"
    }
   ],
   "source": [
    "a.shape, b.shape, np.concatenate([a,b],axis=1).shape"
   ]
  },
  {
   "cell_type": "markdown",
   "id": "fd141fa0-9d9b-474f-9306-fef75190b9db",
   "metadata": {},
   "source": [
    "- 두번째차원이 바뀌었다 => 두번째 축이 바뀌었다 => axis=1"
   ]
  },
  {
   "cell_type": "markdown",
   "id": "85220403-2a2d-4f80-b9ea-e0f2af4d9c05",
   "metadata": {},
   "source": [
    "(분석3) np.concatenate([a,b],axis=2) "
   ]
  },
  {
   "cell_type": "code",
   "execution_count": 90,
   "id": "225caccb-6140-4943-9c2c-a505b67b0b8b",
   "metadata": {},
   "outputs": [],
   "source": [
    "a=np.array(range(2*3*4)).reshape(2,3,4) \n",
    "b=-a "
   ]
  },
  {
   "cell_type": "code",
   "execution_count": 92,
   "id": "e4d12427-11e2-48b7-a2ba-4b00b274ebcf",
   "metadata": {},
   "outputs": [
    {
     "data": {
      "text/plain": [
       "((2, 3, 4), (2, 3, 4), (2, 3, 8))"
      ]
     },
     "execution_count": 92,
     "metadata": {},
     "output_type": "execute_result"
    }
   ],
   "source": [
    "a.shape, b.shape, np.concatenate([a,b],axis=2).shape"
   ]
  },
  {
   "cell_type": "markdown",
   "id": "00fbf9cb-9f9d-4543-b422-b6409957c3d4",
   "metadata": {},
   "source": [
    "- 세번째차원이 바뀌었다 => 세번째 축이 바뀌었다 => axis=2"
   ]
  },
  {
   "cell_type": "markdown",
   "id": "56889475-b4be-4148-8b3f-362b44340566",
   "metadata": {},
   "source": [
    "(분석4) np.concatenate([a,b],axis=3) "
   ]
  },
  {
   "cell_type": "code",
   "execution_count": 94,
   "id": "35357cff-31aa-4a22-8e76-32dbf6246788",
   "metadata": {},
   "outputs": [],
   "source": [
    "a=np.array(range(2*3*4)).reshape(2,3,4) \n",
    "b=-a "
   ]
  },
  {
   "cell_type": "code",
   "execution_count": 95,
   "id": "b5cecfdb-24ec-4952-928d-7bb4016c747f",
   "metadata": {},
   "outputs": [
    {
     "ename": "AxisError",
     "evalue": "axis 3 is out of bounds for array of dimension 3",
     "output_type": "error",
     "traceback": [
      "\u001b[0;31m---------------------------------------------------------------------------\u001b[0m",
      "\u001b[0;31mAxisError\u001b[0m                                 Traceback (most recent call last)",
      "Input \u001b[0;32mIn [95]\u001b[0m, in \u001b[0;36m<cell line: 1>\u001b[0;34m()\u001b[0m\n\u001b[0;32m----> 1\u001b[0m a\u001b[38;5;241m.\u001b[39mshape, b\u001b[38;5;241m.\u001b[39mshape, \u001b[43mnp\u001b[49m\u001b[38;5;241;43m.\u001b[39;49m\u001b[43mconcatenate\u001b[49m\u001b[43m(\u001b[49m\u001b[43m[\u001b[49m\u001b[43ma\u001b[49m\u001b[43m,\u001b[49m\u001b[43mb\u001b[49m\u001b[43m]\u001b[49m\u001b[43m,\u001b[49m\u001b[43maxis\u001b[49m\u001b[38;5;241;43m=\u001b[39;49m\u001b[38;5;241;43m3\u001b[39;49m\u001b[43m)\u001b[49m\u001b[38;5;241m.\u001b[39mshape\n",
      "File \u001b[0;32m<__array_function__ internals>:5\u001b[0m, in \u001b[0;36mconcatenate\u001b[0;34m(*args, **kwargs)\u001b[0m\n",
      "\u001b[0;31mAxisError\u001b[0m: axis 3 is out of bounds for array of dimension 3"
     ]
    }
   ],
   "source": [
    "a.shape, b.shape, np.concatenate([a,b],axis=3).shape"
   ]
  },
  {
   "cell_type": "markdown",
   "id": "8ea6b7db-e4a0-47f9-a59d-a15a404f1b3e",
   "metadata": {},
   "source": [
    "- 네번째차원이 없다 => 네번째 축이 없다 => axis=3으로 하면 에러가 난다. "
   ]
  },
  {
   "cell_type": "markdown",
   "id": "5c5ae5dd-d9c0-4357-a30f-0e5b611c360b",
   "metadata": {},
   "source": [
    "(보너스1) "
   ]
  },
  {
   "cell_type": "code",
   "execution_count": 99,
   "id": "e1dede62-9671-4980-8d7b-14419d5743b4",
   "metadata": {},
   "outputs": [],
   "source": [
    "a=np.array(range(2*3*4)).reshape(2,3,4) \n",
    "b=-a "
   ]
  },
  {
   "cell_type": "code",
   "execution_count": 101,
   "id": "3bcde92f-4b88-4786-8c71-026dbd7d1fa9",
   "metadata": {},
   "outputs": [
    {
     "data": {
      "text/plain": [
       "array([[[  0,   1,   2,   3,   0,  -1,  -2,  -3],\n",
       "        [  4,   5,   6,   7,  -4,  -5,  -6,  -7],\n",
       "        [  8,   9,  10,  11,  -8,  -9, -10, -11]],\n",
       "\n",
       "       [[ 12,  13,  14,  15, -12, -13, -14, -15],\n",
       "        [ 16,  17,  18,  19, -16, -17, -18, -19],\n",
       "        [ 20,  21,  22,  23, -20, -21, -22, -23]]])"
      ]
     },
     "execution_count": 101,
     "metadata": {},
     "output_type": "execute_result"
    }
   ],
   "source": [
    "np.concatenate([a,b],axis=-1)"
   ]
  },
  {
   "cell_type": "code",
   "execution_count": 100,
   "id": "1bcd4e0f-46e8-47e4-a614-cc5a3eef5890",
   "metadata": {},
   "outputs": [
    {
     "data": {
      "text/plain": [
       "((2, 3, 4), (2, 3, 4), (2, 3, 8))"
      ]
     },
     "execution_count": 100,
     "metadata": {},
     "output_type": "execute_result"
    }
   ],
   "source": [
    "a.shape, b.shape, np.concatenate([a,b],axis=-1).shape"
   ]
  },
  {
   "cell_type": "markdown",
   "id": "1f849708-bb9d-451c-bd19-c7e0c64351ac",
   "metadata": {},
   "source": [
    "- 마지막 차원이 바뀌었다 => 마지막 축이 바뀌었다 => axis = -1 "
   ]
  },
  {
   "cell_type": "markdown",
   "id": "40b5a7e1-ccb7-4eef-84aa-846c831fcc85",
   "metadata": {},
   "source": [
    "(보너스2) "
   ]
  },
  {
   "cell_type": "code",
   "execution_count": 107,
   "id": "bf8315fd-a7d4-4deb-b516-b50995c46a3b",
   "metadata": {},
   "outputs": [],
   "source": [
    "a=np.array(range(2*3*4)).reshape(2,3,4) \n",
    "b=-a "
   ]
  },
  {
   "cell_type": "code",
   "execution_count": 108,
   "id": "7cf8d7e1-33ae-4756-be14-3ec77dd88cf2",
   "metadata": {},
   "outputs": [
    {
     "data": {
      "text/plain": [
       "array([[[  0,   1,   2,   3],\n",
       "        [  4,   5,   6,   7],\n",
       "        [  8,   9,  10,  11],\n",
       "        [  0,  -1,  -2,  -3],\n",
       "        [ -4,  -5,  -6,  -7],\n",
       "        [ -8,  -9, -10, -11]],\n",
       "\n",
       "       [[ 12,  13,  14,  15],\n",
       "        [ 16,  17,  18,  19],\n",
       "        [ 20,  21,  22,  23],\n",
       "        [-12, -13, -14, -15],\n",
       "        [-16, -17, -18, -19],\n",
       "        [-20, -21, -22, -23]]])"
      ]
     },
     "execution_count": 108,
     "metadata": {},
     "output_type": "execute_result"
    }
   ],
   "source": [
    "np.concatenate([a,b],axis=-2)"
   ]
  },
  {
   "cell_type": "code",
   "execution_count": 109,
   "id": "9c696517-a26f-4054-8e3c-b6b7991014e5",
   "metadata": {},
   "outputs": [
    {
     "data": {
      "text/plain": [
       "((2, 3, 4), (2, 3, 4), (2, 6, 4))"
      ]
     },
     "execution_count": 109,
     "metadata": {},
     "output_type": "execute_result"
    }
   ],
   "source": [
    "a.shape, b.shape, np.concatenate([a,b],axis=-2).shape"
   ]
  },
  {
   "cell_type": "markdown",
   "id": "91abe2dc-c4a1-498c-b556-04816a1ecc7f",
   "metadata": {},
   "source": [
    "- 마지막에서 2번째 차원이 바뀌었다 => 마지막에서 2번째 축이 바뀌었다 => axis = -2 "
   ]
  },
  {
   "cell_type": "markdown",
   "id": "e4052348-b0bd-4160-9cbc-50b6e97a126f",
   "metadata": {},
   "source": [
    "(보너스3) "
   ]
  },
  {
   "cell_type": "code",
   "execution_count": 110,
   "id": "ca02d56c-fd44-4da2-b080-fcb616a556b9",
   "metadata": {},
   "outputs": [],
   "source": [
    "a=np.array(range(2*3*4)).reshape(2,3,4) \n",
    "b=-a "
   ]
  },
  {
   "cell_type": "code",
   "execution_count": 111,
   "id": "def662c8-4ddc-4ae2-8a6e-c1ce4fd1238a",
   "metadata": {},
   "outputs": [
    {
     "data": {
      "text/plain": [
       "array([[[  0,   1,   2,   3],\n",
       "        [  4,   5,   6,   7],\n",
       "        [  8,   9,  10,  11]],\n",
       "\n",
       "       [[ 12,  13,  14,  15],\n",
       "        [ 16,  17,  18,  19],\n",
       "        [ 20,  21,  22,  23]],\n",
       "\n",
       "       [[  0,  -1,  -2,  -3],\n",
       "        [ -4,  -5,  -6,  -7],\n",
       "        [ -8,  -9, -10, -11]],\n",
       "\n",
       "       [[-12, -13, -14, -15],\n",
       "        [-16, -17, -18, -19],\n",
       "        [-20, -21, -22, -23]]])"
      ]
     },
     "execution_count": 111,
     "metadata": {},
     "output_type": "execute_result"
    }
   ],
   "source": [
    "np.concatenate([a,b],axis=-3)"
   ]
  },
  {
   "cell_type": "code",
   "execution_count": 112,
   "id": "88593722-3496-4799-bf8a-2a9cbb2e096c",
   "metadata": {},
   "outputs": [
    {
     "data": {
      "text/plain": [
       "((2, 3, 4), (2, 3, 4), (4, 3, 4))"
      ]
     },
     "execution_count": 112,
     "metadata": {},
     "output_type": "execute_result"
    }
   ],
   "source": [
    "a.shape, b.shape, np.concatenate([a,b],axis=-3).shape"
   ]
  },
  {
   "cell_type": "markdown",
   "id": "a6ba35a4-9188-4eaf-aae6-5e573131cfb0",
   "metadata": {},
   "source": [
    "- 마지막에서 3번째 차원이 바뀌었다 => 마지막에서 3번째 축이 바뀌었다 => axis = -3 "
   ]
  },
  {
   "cell_type": "markdown",
   "id": "e7c805cd-3ad6-4acc-87fb-f8c01f120531",
   "metadata": {},
   "source": [
    "(보너스3) "
   ]
  },
  {
   "cell_type": "code",
   "execution_count": 114,
   "id": "f8d9108c-6e3e-418b-a300-3dc59e8aa2a6",
   "metadata": {},
   "outputs": [],
   "source": [
    "a=np.array(range(2*3*4)).reshape(2,3,4) \n",
    "b=-a "
   ]
  },
  {
   "cell_type": "code",
   "execution_count": 115,
   "id": "251abf15-45da-4514-b01a-f2c0b0e17e48",
   "metadata": {},
   "outputs": [
    {
     "ename": "AxisError",
     "evalue": "axis -4 is out of bounds for array of dimension 3",
     "output_type": "error",
     "traceback": [
      "\u001b[0;31m---------------------------------------------------------------------------\u001b[0m",
      "\u001b[0;31mAxisError\u001b[0m                                 Traceback (most recent call last)",
      "Input \u001b[0;32mIn [115]\u001b[0m, in \u001b[0;36m<cell line: 1>\u001b[0;34m()\u001b[0m\n\u001b[0;32m----> 1\u001b[0m \u001b[43mnp\u001b[49m\u001b[38;5;241;43m.\u001b[39;49m\u001b[43mconcatenate\u001b[49m\u001b[43m(\u001b[49m\u001b[43m[\u001b[49m\u001b[43ma\u001b[49m\u001b[43m,\u001b[49m\u001b[43mb\u001b[49m\u001b[43m]\u001b[49m\u001b[43m,\u001b[49m\u001b[43maxis\u001b[49m\u001b[38;5;241;43m=\u001b[39;49m\u001b[38;5;241;43m-\u001b[39;49m\u001b[38;5;241;43m4\u001b[39;49m\u001b[43m)\u001b[49m\n",
      "File \u001b[0;32m<__array_function__ internals>:5\u001b[0m, in \u001b[0;36mconcatenate\u001b[0;34m(*args, **kwargs)\u001b[0m\n",
      "\u001b[0;31mAxisError\u001b[0m: axis -4 is out of bounds for array of dimension 3"
     ]
    }
   ],
   "source": [
    "np.concatenate([a,b],axis=-4)"
   ]
  },
  {
   "cell_type": "markdown",
   "id": "ae1bebfc-5d13-43fc-a519-42fb1b288ba5",
   "metadata": {},
   "source": [
    "- 마지막에서 4번째 차원은 없다 => 마지막에서 4번째 축이 없다 => axis = -4는 에러가 난다. "
   ]
  },
  {
   "cell_type": "markdown",
   "id": "506765fe-4938-41bd-b051-ebcaf36649b8",
   "metadata": {},
   "source": [
    "`-` 0차원은 축이 없으므로 concatenate를 쓸 수 없다. "
   ]
  },
  {
   "cell_type": "code",
   "execution_count": 125,
   "id": "a4f849d2-1898-4028-92a4-d3e7b632d155",
   "metadata": {},
   "outputs": [],
   "source": [
    "a= np.array(1)\n",
    "b= np.array(-1) "
   ]
  },
  {
   "cell_type": "code",
   "execution_count": 126,
   "id": "1a4b96f4-3d0e-4e15-bacc-1a41c93fb4b9",
   "metadata": {},
   "outputs": [
    {
     "data": {
      "text/plain": [
       "((), ())"
      ]
     },
     "execution_count": 126,
     "metadata": {},
     "output_type": "execute_result"
    }
   ],
   "source": [
    "a.shape, b.shape"
   ]
  },
  {
   "cell_type": "code",
   "execution_count": 127,
   "id": "e3b5f961-ca20-4b86-851e-a16fa9aa015e",
   "metadata": {},
   "outputs": [
    {
     "ename": "ValueError",
     "evalue": "zero-dimensional arrays cannot be concatenated",
     "output_type": "error",
     "traceback": [
      "\u001b[0;31m---------------------------------------------------------------------------\u001b[0m",
      "\u001b[0;31mValueError\u001b[0m                                Traceback (most recent call last)",
      "Input \u001b[0;32mIn [127]\u001b[0m, in \u001b[0;36m<cell line: 1>\u001b[0;34m()\u001b[0m\n\u001b[0;32m----> 1\u001b[0m \u001b[43mnp\u001b[49m\u001b[38;5;241;43m.\u001b[39;49m\u001b[43mconcatenate\u001b[49m\u001b[43m(\u001b[49m\u001b[43m[\u001b[49m\u001b[43ma\u001b[49m\u001b[43m,\u001b[49m\u001b[43mb\u001b[49m\u001b[43m]\u001b[49m\u001b[43m)\u001b[49m\n",
      "File \u001b[0;32m<__array_function__ internals>:5\u001b[0m, in \u001b[0;36mconcatenate\u001b[0;34m(*args, **kwargs)\u001b[0m\n",
      "\u001b[0;31mValueError\u001b[0m: zero-dimensional arrays cannot be concatenated"
     ]
    }
   ],
   "source": [
    "np.concatenate([a,b])"
   ]
  },
  {
   "cell_type": "markdown",
   "id": "1fa5d482-abcf-4873-a5ff-584f02d1f07b",
   "metadata": {},
   "source": [
    "`-` 꼭 a,b가 같은 차원일 필요는 없다. "
   ]
  },
  {
   "cell_type": "code",
   "execution_count": 128,
   "id": "3ecea3e0-6599-4b32-9412-9d961025b333",
   "metadata": {},
   "outputs": [],
   "source": [
    "a=np.array(range(4)).reshape(2,2) \n",
    "b=np.array(range(2)).reshape(2,1)  "
   ]
  },
  {
   "cell_type": "code",
   "execution_count": 131,
   "id": "1de31e29-c99d-4e59-91e3-407969ba3b23",
   "metadata": {},
   "outputs": [
    {
     "data": {
      "text/plain": [
       "array([[0, 1, 0],\n",
       "       [2, 3, 1]])"
      ]
     },
     "execution_count": 131,
     "metadata": {},
     "output_type": "execute_result"
    }
   ],
   "source": [
    "np.concatenate([a,b],axis=1)"
   ]
  },
  {
   "cell_type": "code",
   "execution_count": 133,
   "id": "82c96966-caa0-4650-9393-6b73a8b08780",
   "metadata": {},
   "outputs": [
    {
     "data": {
      "text/plain": [
       "((2, 2), (2, 1), (2, 3))"
      ]
     },
     "execution_count": 133,
     "metadata": {},
     "output_type": "execute_result"
    }
   ],
   "source": [
    "a.shape, b.shape, np.concatenate([a,b],axis=1).shape"
   ]
  },
  {
   "cell_type": "markdown",
   "id": "23fb3385-331d-466a-9470-28184d517112",
   "metadata": {},
   "source": [
    "#### np.stack "
   ]
  },
  {
   "cell_type": "markdown",
   "id": "70f87203-fb3d-4497-9bcd-43c936d37feb",
   "metadata": {},
   "source": [
    "`-` 혹시 아래가 가능할까? "
   ]
  },
  {
   "cell_type": "markdown",
   "id": "6b32b895-09e4-470a-b5fa-538e098e206c",
   "metadata": {},
   "source": [
    "- (3,) 결합 (3,) => (3,2) "
   ]
  },
  {
   "cell_type": "code",
   "execution_count": 149,
   "id": "1b55334c-43a5-4f21-8a8f-00c1928cd826",
   "metadata": {},
   "outputs": [],
   "source": [
    "a=np.array([1,2,3])\n",
    "b=-a"
   ]
  },
  {
   "cell_type": "code",
   "execution_count": 150,
   "id": "2b3e598b-ba83-481e-ac48-d3a78b3f8b66",
   "metadata": {},
   "outputs": [
    {
     "data": {
      "text/plain": [
       "(array([1, 2, 3]), array([-1, -2, -3]))"
      ]
     },
     "execution_count": 150,
     "metadata": {},
     "output_type": "execute_result"
    }
   ],
   "source": [
    "a,b"
   ]
  },
  {
   "cell_type": "code",
   "execution_count": 151,
   "id": "738b106b-2d64-4f05-9eeb-26a6875d9bd8",
   "metadata": {},
   "outputs": [
    {
     "ename": "AxisError",
     "evalue": "axis 1 is out of bounds for array of dimension 1",
     "output_type": "error",
     "traceback": [
      "\u001b[0;31m---------------------------------------------------------------------------\u001b[0m",
      "\u001b[0;31mAxisError\u001b[0m                                 Traceback (most recent call last)",
      "Input \u001b[0;32mIn [151]\u001b[0m, in \u001b[0;36m<cell line: 1>\u001b[0;34m()\u001b[0m\n\u001b[0;32m----> 1\u001b[0m \u001b[43mnp\u001b[49m\u001b[38;5;241;43m.\u001b[39;49m\u001b[43mconcatenate\u001b[49m\u001b[43m(\u001b[49m\u001b[43m[\u001b[49m\u001b[43ma\u001b[49m\u001b[43m,\u001b[49m\u001b[43mb\u001b[49m\u001b[43m]\u001b[49m\u001b[43m,\u001b[49m\u001b[43maxis\u001b[49m\u001b[38;5;241;43m=\u001b[39;49m\u001b[38;5;241;43m1\u001b[39;49m\u001b[43m)\u001b[49m\n",
      "File \u001b[0;32m<__array_function__ internals>:5\u001b[0m, in \u001b[0;36mconcatenate\u001b[0;34m(*args, **kwargs)\u001b[0m\n",
      "\u001b[0;31mAxisError\u001b[0m: axis 1 is out of bounds for array of dimension 1"
     ]
    }
   ],
   "source": [
    "np.concatenate([a,b],axis=1)"
   ]
  },
  {
   "cell_type": "markdown",
   "id": "dba4b07f-9193-4172-b552-43b6505241ea",
   "metadata": {},
   "source": [
    "- 불가능 "
   ]
  },
  {
   "cell_type": "markdown",
   "id": "4862146a-9e31-4811-9502-17b4aa68b840",
   "metadata": {},
   "source": [
    "`-` 아래와 같이 하면 해결가능 "
   ]
  },
  {
   "cell_type": "code",
   "execution_count": 152,
   "id": "e803f77b-2970-4955-a87d-d5658f8ec364",
   "metadata": {},
   "outputs": [],
   "source": [
    "a=np.array([1,2,3]).reshape(3,1) \n",
    "b=-a"
   ]
  },
  {
   "cell_type": "code",
   "execution_count": 153,
   "id": "afeeb4e3-7660-4d40-ae9b-896f5314b61e",
   "metadata": {},
   "outputs": [
    {
     "data": {
      "text/plain": [
       "(array([[1],\n",
       "        [2],\n",
       "        [3]]),\n",
       " array([[-1],\n",
       "        [-2],\n",
       "        [-3]]))"
      ]
     },
     "execution_count": 153,
     "metadata": {},
     "output_type": "execute_result"
    }
   ],
   "source": [
    "a,b"
   ]
  },
  {
   "cell_type": "code",
   "execution_count": 154,
   "id": "e1dcb7ba-fc9c-4feb-8b75-068b3181eb2e",
   "metadata": {},
   "outputs": [
    {
     "data": {
      "text/plain": [
       "array([[ 1, -1],\n",
       "       [ 2, -2],\n",
       "       [ 3, -3]])"
      ]
     },
     "execution_count": 154,
     "metadata": {},
     "output_type": "execute_result"
    }
   ],
   "source": [
    "np.concatenate([a,b],axis=1)"
   ]
  },
  {
   "cell_type": "markdown",
   "id": "99465b54-fdcd-431a-94b4-1aefd0041800",
   "metadata": {},
   "source": [
    "- 분석: (3) (3) => (3,1) (3,1) => (3,1) concat (3,1) "
   ]
  },
  {
   "cell_type": "markdown",
   "id": "b3d6f6ec-bbdf-4f34-8914-d7bfe874156f",
   "metadata": {},
   "source": [
    "`-` 위의 과정을 줄여서 아래와 같이 할 수 있다. "
   ]
  },
  {
   "cell_type": "code",
   "execution_count": 156,
   "id": "989920f1-1829-4507-ad3a-d5410f5d0e72",
   "metadata": {},
   "outputs": [],
   "source": [
    "a=np.array([1,2,3])\n",
    "b=-a"
   ]
  },
  {
   "cell_type": "code",
   "execution_count": 157,
   "id": "7cc35aeb-2ee4-4b5b-9328-e800f0d17fb9",
   "metadata": {},
   "outputs": [
    {
     "data": {
      "text/plain": [
       "array([[ 1, -1],\n",
       "       [ 2, -2],\n",
       "       [ 3, -3]])"
      ]
     },
     "execution_count": 157,
     "metadata": {},
     "output_type": "execute_result"
    }
   ],
   "source": [
    "np.stack([a,b],axis=1)"
   ]
  },
  {
   "cell_type": "markdown",
   "id": "c87fceef-4668-4791-afb8-a659e64660ec",
   "metadata": {},
   "source": [
    "`-` 아래도 가능 "
   ]
  },
  {
   "cell_type": "code",
   "execution_count": 158,
   "id": "5d1a73cc-2a51-4094-98bc-c36e842e9d29",
   "metadata": {},
   "outputs": [
    {
     "data": {
      "text/plain": [
       "array([[ 1,  2,  3],\n",
       "       [-1, -2, -3]])"
      ]
     },
     "execution_count": 158,
     "metadata": {},
     "output_type": "execute_result"
    }
   ],
   "source": [
    "np.stack([a,b],axis=0)"
   ]
  },
  {
   "cell_type": "markdown",
   "id": "a844de25-da88-457b-af60-d532d59becb5",
   "metadata": {},
   "source": [
    "`-` 분석해보고 외우자"
   ]
  },
  {
   "cell_type": "markdown",
   "id": "3c22449b-ca58-4fe7-8e1a-76e4c2af43ed",
   "metadata": {},
   "source": [
    "(분석1)"
   ]
  },
  {
   "cell_type": "code",
   "execution_count": 159,
   "id": "34e06fb2-431c-43ba-b2d5-77dfab86b6e7",
   "metadata": {},
   "outputs": [],
   "source": [
    "a=np.array([1,2,3])\n",
    "b=-a"
   ]
  },
  {
   "cell_type": "code",
   "execution_count": 162,
   "id": "80821e3e-5bd9-4e09-8a83-972559116297",
   "metadata": {},
   "outputs": [
    {
     "data": {
      "text/plain": [
       "((3,), (3,), (2, 3))"
      ]
     },
     "execution_count": 162,
     "metadata": {},
     "output_type": "execute_result"
    }
   ],
   "source": [
    "a.shape, b.shape, np.stack([a,b],axis=0).shape"
   ]
  },
  {
   "cell_type": "markdown",
   "id": "5c98d932-668b-4952-9474-43a50b81315f",
   "metadata": {},
   "source": [
    "- (3) (3) => 첫 위치에 축을 추가 (axis=0) => (1,3) (1,3) => (2,3) "
   ]
  },
  {
   "cell_type": "markdown",
   "id": "58397bcf-f4c7-4484-84b2-6ca4cebee5c3",
   "metadata": {},
   "source": [
    "(분석2)"
   ]
  },
  {
   "cell_type": "code",
   "execution_count": 163,
   "id": "7723dfa1-10dc-4df7-9eab-b25960cd0509",
   "metadata": {},
   "outputs": [],
   "source": [
    "a=np.array([1,2,3])\n",
    "b=-a"
   ]
  },
  {
   "cell_type": "code",
   "execution_count": 164,
   "id": "96ade04f-a96d-4a91-bd3d-5937703d8315",
   "metadata": {},
   "outputs": [
    {
     "data": {
      "text/plain": [
       "((3,), (3,), (3, 2))"
      ]
     },
     "execution_count": 164,
     "metadata": {},
     "output_type": "execute_result"
    }
   ],
   "source": [
    "a.shape, b.shape, np.stack([a,b],axis=1).shape"
   ]
  },
  {
   "cell_type": "markdown",
   "id": "44905952-3fd1-436c-a595-a4cfb5ae1353",
   "metadata": {},
   "source": [
    "- (3) (3) => 두 위치에 축을 추가 (axis=1) => (3,1) (3,1) => (3,2) "
   ]
  },
  {
   "cell_type": "markdown",
   "id": "0b446203-ea93-43dc-8426-646f99c4d669",
   "metadata": {},
   "source": [
    "`-` 고차원예제 "
   ]
  },
  {
   "cell_type": "code",
   "execution_count": 166,
   "id": "c7c6731b-4b9a-4889-9867-1be7cc9e5af0",
   "metadata": {},
   "outputs": [],
   "source": [
    "a=np.arange(3*4*5).reshape(3,4,5) \n",
    "b=-a"
   ]
  },
  {
   "cell_type": "code",
   "execution_count": 167,
   "id": "159d59df-120f-47da-9fc1-7022bed0b91e",
   "metadata": {},
   "outputs": [
    {
     "data": {
      "text/plain": [
       "((3, 4, 5), (3, 4, 5))"
      ]
     },
     "execution_count": 167,
     "metadata": {},
     "output_type": "execute_result"
    }
   ],
   "source": [
    "a.shape, b.shape"
   ]
  },
  {
   "cell_type": "code",
   "execution_count": 170,
   "id": "f0c1e5af-56eb-4730-a32a-fa0ecfd18e0e",
   "metadata": {},
   "outputs": [
    {
     "data": {
      "text/plain": [
       "(2, 3, 4, 5)"
      ]
     },
     "execution_count": 170,
     "metadata": {},
     "output_type": "execute_result"
    }
   ],
   "source": [
    "np.stack([a,b],axis=0).shape # (3,4,5) => (1,3,4,5) // 첫 위치에 축이 추가되고 스택 "
   ]
  },
  {
   "cell_type": "code",
   "execution_count": 174,
   "id": "33579e71-71ae-4a80-872a-4740767142b9",
   "metadata": {},
   "outputs": [
    {
     "data": {
      "text/plain": [
       "(3, 2, 4, 5)"
      ]
     },
     "execution_count": 174,
     "metadata": {},
     "output_type": "execute_result"
    }
   ],
   "source": [
    "np.stack([a,b],axis=1).shape # (3,4,5) => (3,1,4,5) // 두번째 위치에 축이 추가되고 스택 "
   ]
  },
  {
   "cell_type": "code",
   "execution_count": 175,
   "id": "837cb344-9432-4585-a343-c435c868bd8c",
   "metadata": {},
   "outputs": [
    {
     "data": {
      "text/plain": [
       "(3, 4, 2, 5)"
      ]
     },
     "execution_count": 175,
     "metadata": {},
     "output_type": "execute_result"
    }
   ],
   "source": [
    "np.stack([a,b],axis=2).shape # (3,4,5) => (3,4,1,5) // 세번째 위치에 축이 추가되고 스택 "
   ]
  },
  {
   "cell_type": "code",
   "execution_count": 179,
   "id": "dd3c5d3a-28c5-4b9f-ad75-6753d9dfce9e",
   "metadata": {},
   "outputs": [
    {
     "data": {
      "text/plain": [
       "(3, 4, 5, 2)"
      ]
     },
     "execution_count": 179,
     "metadata": {},
     "output_type": "execute_result"
    }
   ],
   "source": [
    "np.stack([a,b],axis=3).shape # (3,4,5) => (3,4,5,1) // 네번째 위치에 축이 추가되고 스택 "
   ]
  },
  {
   "cell_type": "code",
   "execution_count": 181,
   "id": "338b3cc3-3be8-4895-be29-cc83194f0666",
   "metadata": {},
   "outputs": [
    {
     "data": {
      "text/plain": [
       "(3, 4, 5, 2)"
      ]
     },
     "execution_count": 181,
     "metadata": {},
     "output_type": "execute_result"
    }
   ],
   "source": [
    "np.stack([a,b],axis=-1).shape # axis=-1 <=> axis=3 "
   ]
  },
  {
   "cell_type": "code",
   "execution_count": 182,
   "id": "a2451178-1d8f-4cc3-b449-f71909163bca",
   "metadata": {},
   "outputs": [
    {
     "data": {
      "text/plain": [
       "(3, 4, 2, 5)"
      ]
     },
     "execution_count": 182,
     "metadata": {},
     "output_type": "execute_result"
    }
   ],
   "source": [
    "np.stack([a,b],axis=-2).shape # axis=-2 <=> axis=2"
   ]
  },
  {
   "cell_type": "markdown",
   "id": "653abf3e-5e92-4b35-8013-5e445c6ae775",
   "metadata": {},
   "source": [
    "***np.concatenate*** 는 축의 총 갯수를 유지하면서 결합, ***np.stack***은 축의 갯수를 하나 증가시키면서 결합"
   ]
  },
  {
   "cell_type": "markdown",
   "id": "a052182b-b314-4475-946c-9249f313ee3b",
   "metadata": {},
   "source": [
    "#### sum"
   ]
  },
  {
   "cell_type": "markdown",
   "id": "a2ba28bd-6483-4dfd-8be1-272a07993a6a",
   "metadata": {},
   "source": [
    "`-` 1차원 "
   ]
  },
  {
   "cell_type": "code",
   "execution_count": 212,
   "id": "83099798-4678-4fa7-882b-15fd9bf548fc",
   "metadata": {},
   "outputs": [
    {
     "data": {
      "text/plain": [
       "array([1, 2, 3])"
      ]
     },
     "execution_count": 212,
     "metadata": {},
     "output_type": "execute_result"
    }
   ],
   "source": [
    "a = np.array([1,2,3]) \n",
    "a"
   ]
  },
  {
   "cell_type": "code",
   "execution_count": 213,
   "id": "013cc74d-bff8-468c-814c-038db4c4e9a5",
   "metadata": {},
   "outputs": [
    {
     "data": {
      "text/plain": [
       "6"
      ]
     },
     "execution_count": 213,
     "metadata": {},
     "output_type": "execute_result"
    }
   ],
   "source": [
    "a.sum()"
   ]
  },
  {
   "cell_type": "code",
   "execution_count": 214,
   "id": "7e9c6443-4789-45f7-a3c0-e8e2a684a0b5",
   "metadata": {},
   "outputs": [
    {
     "data": {
      "text/plain": [
       "6"
      ]
     },
     "execution_count": 214,
     "metadata": {},
     "output_type": "execute_result"
    }
   ],
   "source": [
    "a.sum(axis=0)"
   ]
  },
  {
   "cell_type": "markdown",
   "id": "ffb9534d-1b72-4287-8fc9-f8aabe34c352",
   "metadata": {},
   "source": [
    "`-` 2차원 "
   ]
  },
  {
   "cell_type": "code",
   "execution_count": 208,
   "id": "bc77d601-5384-41fd-ae3f-f7977eff0b8a",
   "metadata": {},
   "outputs": [
    {
     "data": {
      "text/plain": [
       "array([[0, 1, 2],\n",
       "       [3, 4, 5]])"
      ]
     },
     "execution_count": 208,
     "metadata": {},
     "output_type": "execute_result"
    }
   ],
   "source": [
    "a=np.array(range(6)).reshape(2,3)\n",
    "a"
   ]
  },
  {
   "cell_type": "code",
   "execution_count": 209,
   "id": "ff773f35-a3c9-4a2b-b634-c10677d766aa",
   "metadata": {},
   "outputs": [
    {
     "data": {
      "text/plain": [
       "15"
      ]
     },
     "execution_count": 209,
     "metadata": {},
     "output_type": "execute_result"
    }
   ],
   "source": [
    "a.sum() # 전체합"
   ]
  },
  {
   "cell_type": "code",
   "execution_count": 210,
   "id": "882a94a3-b201-4737-96d6-165fc5b40ef6",
   "metadata": {},
   "outputs": [
    {
     "data": {
      "text/plain": [
       "array([3, 5, 7])"
      ]
     },
     "execution_count": 210,
     "metadata": {},
     "output_type": "execute_result"
    }
   ],
   "source": [
    "a.sum(axis=0) "
   ]
  },
  {
   "cell_type": "code",
   "execution_count": 211,
   "id": "4d12bc83-d5b4-4863-8564-1ea48416ca79",
   "metadata": {},
   "outputs": [
    {
     "data": {
      "text/plain": [
       "array([ 3, 12])"
      ]
     },
     "execution_count": 211,
     "metadata": {},
     "output_type": "execute_result"
    }
   ],
   "source": [
    "a.sum(axis=1) "
   ]
  },
  {
   "cell_type": "markdown",
   "id": "0a657604-3823-4463-8d73-5a77cacd1f1e",
   "metadata": {},
   "source": [
    "`-` 2차원 결과 분석 "
   ]
  },
  {
   "cell_type": "code",
   "execution_count": 193,
   "id": "00d0c4e8-1852-48ac-a1aa-995e5a6f0a60",
   "metadata": {},
   "outputs": [
    {
     "data": {
      "text/plain": [
       "((2, 3), (3,))"
      ]
     },
     "execution_count": 193,
     "metadata": {},
     "output_type": "execute_result"
    }
   ],
   "source": [
    "a.shape, a.sum(axis=0).shape"
   ]
  },
  {
   "cell_type": "markdown",
   "id": "48d34b53-d102-4537-9121-93163662c839",
   "metadata": {},
   "source": [
    "- 첫번째 축이 삭제됨 => axis=0 "
   ]
  },
  {
   "cell_type": "code",
   "execution_count": 195,
   "id": "d88b697e-610f-40a0-88e0-ee6dc78a2af6",
   "metadata": {},
   "outputs": [
    {
     "data": {
      "text/plain": [
       "((2, 3), (2,))"
      ]
     },
     "execution_count": 195,
     "metadata": {},
     "output_type": "execute_result"
    }
   ],
   "source": [
    "a.shape, a.sum(axis=1).shape"
   ]
  },
  {
   "cell_type": "markdown",
   "id": "9dd9cd8c-e6b7-4c70-b10b-90720862ff81",
   "metadata": {},
   "source": [
    "- 두번째 축이 삭제됨 => axis=1 "
   ]
  },
  {
   "cell_type": "markdown",
   "id": "76fdfe3b-c102-4e62-9ddb-a5cde5b71d6d",
   "metadata": {},
   "source": [
    "`-` 연습"
   ]
  },
  {
   "cell_type": "code",
   "execution_count": 197,
   "id": "9557ef8a-a606-41f1-97b7-93f7e1c07ec2",
   "metadata": {},
   "outputs": [
    {
     "data": {
      "text/plain": [
       "array([[0, 1],\n",
       "       [2, 3],\n",
       "       [4, 5],\n",
       "       [6, 7],\n",
       "       [8, 9]])"
      ]
     },
     "execution_count": 197,
     "metadata": {},
     "output_type": "execute_result"
    }
   ],
   "source": [
    "a=np.array(range(10)).reshape(5,2) \n",
    "a"
   ]
  },
  {
   "cell_type": "markdown",
   "id": "27682ef3-5e9a-443d-abfc-fd5082a7afb2",
   "metadata": {},
   "source": [
    "(문제1) 1열의 합, 2열의 합을 계산하고 싶다면? "
   ]
  },
  {
   "cell_type": "markdown",
   "id": "bc74b888-486c-47f9-9e5b-89ed4c0de016",
   "metadata": {},
   "source": [
    "(풀이) 차원이 (5,2) => (2,) 로 나와야 한다. (그럼 첫번째 축이 삭제되어야 하네?) "
   ]
  },
  {
   "cell_type": "code",
   "execution_count": 198,
   "id": "c1104e8d-665d-4765-b1d3-9a882e4aaa34",
   "metadata": {},
   "outputs": [
    {
     "data": {
      "text/plain": [
       "array([20, 25])"
      ]
     },
     "execution_count": 198,
     "metadata": {},
     "output_type": "execute_result"
    }
   ],
   "source": [
    "a.sum(axis=0)"
   ]
  },
  {
   "cell_type": "markdown",
   "id": "3b7b8e5d-2103-4eb0-b348-7c9e1d056460",
   "metadata": {},
   "source": [
    "(문제2) 1행의 합, 2행의 합, ... , 5행의 합을 계산하고 싶다면? "
   ]
  },
  {
   "cell_type": "markdown",
   "id": "9454809b-2a4c-4d20-9f23-c9dd450e5697",
   "metadata": {},
   "source": [
    "(풀이) 차원이 (5,2) => (5,)로 나와야 한다. (그럼 두번째 축이 삭제되어야 하네?) "
   ]
  },
  {
   "cell_type": "code",
   "execution_count": 199,
   "id": "ad5aa245-5892-49e0-8fc7-a97dd2b6fed0",
   "metadata": {},
   "outputs": [
    {
     "data": {
      "text/plain": [
       "array([ 1,  5,  9, 13, 17])"
      ]
     },
     "execution_count": 199,
     "metadata": {},
     "output_type": "execute_result"
    }
   ],
   "source": [
    "a.sum(axis=1)"
   ]
  },
  {
   "cell_type": "markdown",
   "id": "f50c1b58-ee5a-4c4f-b81c-72c7d5bf66ea",
   "metadata": {},
   "source": [
    "(문제3) a의 모든원소의 합을 계산하고 싶다면? "
   ]
  },
  {
   "cell_type": "markdown",
   "id": "8a560156-07ab-4526-af34-795ecad6f03d",
   "metadata": {},
   "source": [
    "(풀이) 차원이 (5,2) => () 로 나와야 한다. (첫번째축, 두번째축이 모두 삭제되어야 하네?) "
   ]
  },
  {
   "cell_type": "code",
   "execution_count": 201,
   "id": "fa77efad-75f3-45dc-88fb-8649abce8520",
   "metadata": {},
   "outputs": [
    {
     "data": {
      "text/plain": [
       "45"
      ]
     },
     "execution_count": 201,
     "metadata": {},
     "output_type": "execute_result"
    }
   ],
   "source": [
    "a.sum(axis=(0,1))"
   ]
  },
  {
   "cell_type": "code",
   "execution_count": 203,
   "id": "be5f8f2c-09b6-45ec-ae2f-c15bc3549b96",
   "metadata": {},
   "outputs": [
    {
     "data": {
      "text/plain": [
       "45"
      ]
     },
     "execution_count": 203,
     "metadata": {},
     "output_type": "execute_result"
    }
   ],
   "source": [
    "a.sum() # 즉 a.sum(axis=(0,1))이 디폴트값임 "
   ]
  },
  {
   "cell_type": "markdown",
   "id": "e19c3cce-e706-4cbe-be98-0aca47e1f10c",
   "metadata": {},
   "source": [
    "#### mean, std, max, min, prod "
   ]
  },
  {
   "cell_type": "markdown",
   "id": "5d25b1da-e29a-4ee0-a834-019e81e398a4",
   "metadata": {},
   "source": [
    "`-` 모두 sum이랑 유사한 논리 "
   ]
  },
  {
   "cell_type": "code",
   "execution_count": 218,
   "id": "e4ae2cb5-85ff-4bf4-9c51-61b0ace3a8b1",
   "metadata": {},
   "outputs": [
    {
     "data": {
      "text/plain": [
       "array([[0, 1],\n",
       "       [2, 3],\n",
       "       [4, 5],\n",
       "       [6, 7],\n",
       "       [8, 9]])"
      ]
     },
     "execution_count": 218,
     "metadata": {},
     "output_type": "execute_result"
    }
   ],
   "source": [
    "a=np.array(range(10)).reshape(5,2)\n",
    "a"
   ]
  },
  {
   "cell_type": "code",
   "execution_count": 225,
   "id": "9bfce9a6-83b8-48c9-b941-8fe20dc04f93",
   "metadata": {},
   "outputs": [
    {
     "data": {
      "text/plain": [
       "(array([4., 5.]),\n",
       " array([2.82842712, 2.82842712]),\n",
       " array([8, 9]),\n",
       " array([0, 1]),\n",
       " array([  0, 945]))"
      ]
     },
     "execution_count": 225,
     "metadata": {},
     "output_type": "execute_result"
    }
   ],
   "source": [
    "a.mean(axis=0), a.std(axis=0), a.max(axis=0), a.min(axis=0), a.prod(axis=0)"
   ]
  },
  {
   "cell_type": "code",
   "execution_count": 227,
   "id": "87ca0c91-e3bb-4dc2-a958-8a5c8a4ebda3",
   "metadata": {},
   "outputs": [
    {
     "data": {
      "text/plain": [
       "(array([0.5, 2.5, 4.5, 6.5, 8.5]),\n",
       " array([0.5, 0.5, 0.5, 0.5, 0.5]),\n",
       " array([1, 3, 5, 7, 9]),\n",
       " array([0, 2, 4, 6, 8]),\n",
       " array([ 0,  6, 20, 42, 72]))"
      ]
     },
     "execution_count": 227,
     "metadata": {},
     "output_type": "execute_result"
    }
   ],
   "source": [
    "a.mean(axis=1), a.std(axis=1), a.max(axis=1), a.min(axis=1), a.prod(axis=1)"
   ]
  },
  {
   "cell_type": "markdown",
   "id": "26cdee4a-1ca0-4102-9b0e-907be0208f42",
   "metadata": {},
   "source": [
    "`-` 참고로 std는 분포를 n으로 나눈다. "
   ]
  },
  {
   "cell_type": "code",
   "execution_count": 228,
   "id": "67ace49e-5e67-4595-9210-3e103d6f4228",
   "metadata": {},
   "outputs": [
    {
     "data": {
      "text/plain": [
       "1.118033988749895"
      ]
     },
     "execution_count": 228,
     "metadata": {},
     "output_type": "execute_result"
    }
   ],
   "source": [
    "a=np.array([1,2,3,4])\n",
    "a.std()"
   ]
  },
  {
   "cell_type": "code",
   "execution_count": 233,
   "id": "763412c1-42af-4ae5-88c0-269c9bfb05e7",
   "metadata": {},
   "outputs": [
    {
     "data": {
      "text/plain": [
       "1.118033988749895"
      ]
     },
     "execution_count": 233,
     "metadata": {},
     "output_type": "execute_result"
    }
   ],
   "source": [
    "np.sqrt(sum((a-a.mean())**2)/4)"
   ]
  },
  {
   "cell_type": "markdown",
   "id": "90d3bea1-79a9-462d-8bb6-e1793198d314",
   "metadata": {},
   "source": [
    "`-` 분모를 n-1로 나눌려면? "
   ]
  },
  {
   "cell_type": "code",
   "execution_count": 234,
   "id": "252f0d48-3e99-4e81-8d7d-a079eb36d615",
   "metadata": {},
   "outputs": [
    {
     "data": {
      "text/plain": [
       "1.2909944487358056"
      ]
     },
     "execution_count": 234,
     "metadata": {},
     "output_type": "execute_result"
    }
   ],
   "source": [
    "a=np.array([1,2,3,4])\n",
    "a.std(ddof=1)"
   ]
  },
  {
   "cell_type": "code",
   "execution_count": 235,
   "id": "4aecb9b5-80ba-4c64-9d11-876ba5621138",
   "metadata": {},
   "outputs": [
    {
     "data": {
      "text/plain": [
       "1.2909944487358056"
      ]
     },
     "execution_count": 235,
     "metadata": {},
     "output_type": "execute_result"
    }
   ],
   "source": [
    "np.sqrt(sum((a-a.mean())**2)/3)"
   ]
  },
  {
   "cell_type": "markdown",
   "id": "2d1c2e69-7661-4dec-830a-706b7beb4432",
   "metadata": {},
   "source": [
    "#### argmax, argmin "
   ]
  },
  {
   "cell_type": "markdown",
   "id": "26a85a1f-58cc-4b86-9383-82a85726a4da",
   "metadata": {},
   "source": [
    "`-` 1차원 "
   ]
  },
  {
   "cell_type": "code",
   "execution_count": 299,
   "id": "0e0c4638-84f5-4ddc-8f04-4e3214112d89",
   "metadata": {},
   "outputs": [
    {
     "data": {
      "text/plain": [
       "array([ 1, -2,  3, 10,  4])"
      ]
     },
     "execution_count": 299,
     "metadata": {},
     "output_type": "execute_result"
    }
   ],
   "source": [
    "a= np.array([1,-2,3,10,4])\n",
    "a"
   ]
  },
  {
   "cell_type": "code",
   "execution_count": 300,
   "id": "780c6853-a969-474c-aaaf-5f5e38034e2b",
   "metadata": {},
   "outputs": [
    {
     "data": {
      "text/plain": [
       "3"
      ]
     },
     "execution_count": 300,
     "metadata": {},
     "output_type": "execute_result"
    }
   ],
   "source": [
    "a.argmax() # 가장 큰 값이 위치한 원소의 인덱스를 리턴 "
   ]
  },
  {
   "cell_type": "code",
   "execution_count": 301,
   "id": "d69aacc7-e73a-4a1a-a876-505be107f57d",
   "metadata": {},
   "outputs": [
    {
     "data": {
      "text/plain": [
       "1"
      ]
     },
     "execution_count": 301,
     "metadata": {},
     "output_type": "execute_result"
    }
   ],
   "source": [
    "a.argmin() # 가장 작은 값이 위치한 원소의 인덱스를 리턴 "
   ]
  },
  {
   "cell_type": "markdown",
   "id": "f4acc2d0-da4b-4d9b-bd6e-11d49607ff29",
   "metadata": {},
   "source": [
    "`-` 2차원 "
   ]
  },
  {
   "cell_type": "code",
   "execution_count": 312,
   "id": "7de08fc3-7320-4784-9b67-888354b47511",
   "metadata": {},
   "outputs": [
    {
     "data": {
      "text/plain": [
       "array([[ 0.38342049,  1.0841745 ,  1.14277825,  0.30789368,  0.23778744],\n",
       "       [ 0.35595116, -1.66307542, -1.38277318, -1.92684484, -1.4862163 ],\n",
       "       [ 0.00692519, -0.03488725, -0.34357323,  0.70895648, -1.55100608],\n",
       "       [ 1.34565583, -0.05654272, -0.83017342, -1.46395159, -0.35459593]])"
      ]
     },
     "execution_count": 312,
     "metadata": {},
     "output_type": "execute_result"
    }
   ],
   "source": [
    "np.random.seed(43052)\n",
    "a=np.random.randn(4*5).reshape(4,5)\n",
    "a"
   ]
  },
  {
   "cell_type": "code",
   "execution_count": 314,
   "id": "1b9f6e67-a3cb-49a3-8533-694a53cc527f",
   "metadata": {},
   "outputs": [
    {
     "data": {
      "text/plain": [
       "(8, -1.9268448358915802)"
      ]
     },
     "execution_count": 314,
     "metadata": {},
     "output_type": "execute_result"
    }
   ],
   "source": [
    "a.argmin(), a.min()"
   ]
  },
  {
   "cell_type": "code",
   "execution_count": 315,
   "id": "6dc37e88-88b9-473c-ab18-bf915924c453",
   "metadata": {},
   "outputs": [
    {
     "data": {
      "text/plain": [
       "(15, 1.3456558341738827)"
      ]
     },
     "execution_count": 315,
     "metadata": {},
     "output_type": "execute_result"
    }
   ],
   "source": [
    "a.argmax(), a.max()"
   ]
  },
  {
   "cell_type": "code",
   "execution_count": 317,
   "id": "65b50b52-8100-4356-9885-fecd6d533bdf",
   "metadata": {},
   "outputs": [
    {
     "data": {
      "text/plain": [
       "(array([2, 1, 1, 1, 2]), array([4, 3, 4, 3]))"
      ]
     },
     "execution_count": 317,
     "metadata": {},
     "output_type": "execute_result"
    }
   ],
   "source": [
    "a.argmin(axis=0), a.argmin(axis=1)"
   ]
  },
  {
   "cell_type": "code",
   "execution_count": 318,
   "id": "61fa4732-1d44-493f-b83c-ad960c296432",
   "metadata": {},
   "outputs": [
    {
     "data": {
      "text/plain": [
       "(array([3, 0, 0, 2, 0]), array([2, 0, 3, 0]))"
      ]
     },
     "execution_count": 318,
     "metadata": {},
     "output_type": "execute_result"
    }
   ],
   "source": [
    "a.argmax(axis=0), a.argmax(axis=1)"
   ]
  },
  {
   "cell_type": "markdown",
   "id": "6bd45079-4683-471c-9f2b-3f84a42b46e2",
   "metadata": {},
   "source": [
    "#### cumsum, cumprod"
   ]
  },
  {
   "cell_type": "markdown",
   "id": "858c45a0-2b09-47b9-8fe8-4ec47936d380",
   "metadata": {},
   "source": [
    "`-` 1차원"
   ]
  },
  {
   "cell_type": "code",
   "execution_count": 319,
   "id": "b86cea88-5814-4daa-91b7-926b6bc8ba2e",
   "metadata": {},
   "outputs": [
    {
     "data": {
      "text/plain": [
       "array([1, 2, 3, 4])"
      ]
     },
     "execution_count": 319,
     "metadata": {},
     "output_type": "execute_result"
    }
   ],
   "source": [
    "a=np.array([1,2,3,4])\n",
    "a"
   ]
  },
  {
   "cell_type": "code",
   "execution_count": 320,
   "id": "c92c7c0d-25a8-48f5-aca4-55ad0166310f",
   "metadata": {},
   "outputs": [
    {
     "data": {
      "text/plain": [
       "array([ 1,  3,  6, 10])"
      ]
     },
     "execution_count": 320,
     "metadata": {},
     "output_type": "execute_result"
    }
   ],
   "source": [
    "a.cumsum()"
   ]
  },
  {
   "cell_type": "code",
   "execution_count": 321,
   "id": "56773406-0d82-456a-ada8-1ee178cb693d",
   "metadata": {},
   "outputs": [
    {
     "data": {
      "text/plain": [
       "array([ 1,  2,  6, 24])"
      ]
     },
     "execution_count": 321,
     "metadata": {},
     "output_type": "execute_result"
    }
   ],
   "source": [
    "a.cumprod()"
   ]
  },
  {
   "cell_type": "markdown",
   "id": "0de97c9b-378f-48cf-aa78-eb0bcb7cd1ba",
   "metadata": {},
   "source": [
    "`-` 2차원"
   ]
  },
  {
   "cell_type": "code",
   "execution_count": 322,
   "id": "13aafce9-b550-4d41-916e-8a3127715daf",
   "metadata": {},
   "outputs": [
    {
     "data": {
      "text/plain": [
       "array([[ 0,  1,  2,  3],\n",
       "       [ 4,  5,  6,  7],\n",
       "       [ 8,  9, 10, 11]])"
      ]
     },
     "execution_count": 322,
     "metadata": {},
     "output_type": "execute_result"
    }
   ],
   "source": [
    "a=np.array(range(3*4)).reshape(3,4)\n",
    "a"
   ]
  },
  {
   "cell_type": "code",
   "execution_count": 325,
   "id": "682187e7-572a-4886-8e97-195feb86b216",
   "metadata": {},
   "outputs": [
    {
     "data": {
      "text/plain": [
       "(array([[ 0,  1,  2,  3],\n",
       "        [ 4,  6,  8, 10],\n",
       "        [12, 15, 18, 21]]),\n",
       " array([[ 0,  1,  3,  6],\n",
       "        [ 4,  9, 15, 22],\n",
       "        [ 8, 17, 27, 38]]))"
      ]
     },
     "execution_count": 325,
     "metadata": {},
     "output_type": "execute_result"
    }
   ],
   "source": [
    "a.cumsum(axis=0), a.cumsum(axis=1)"
   ]
  },
  {
   "cell_type": "code",
   "execution_count": 326,
   "id": "21f6cbf2-3666-4614-97cb-37f36c35a9f8",
   "metadata": {},
   "outputs": [
    {
     "data": {
      "text/plain": [
       "(array([[  0,   1,   2,   3],\n",
       "        [  0,   5,  12,  21],\n",
       "        [  0,  45, 120, 231]]),\n",
       " array([[   0,    0,    0,    0],\n",
       "        [   4,   20,  120,  840],\n",
       "        [   8,   72,  720, 7920]]))"
      ]
     },
     "execution_count": 326,
     "metadata": {},
     "output_type": "execute_result"
    }
   ],
   "source": [
    "a.cumprod(axis=0), a.cumprod(axis=1)"
   ]
  },
  {
   "cell_type": "markdown",
   "id": "3e6b8c1c-af77-4c28-a790-57d743a787e9",
   "metadata": {},
   "source": [
    "#### diff "
   ]
  },
  {
   "cell_type": "markdown",
   "id": "b557694f-53a5-4f4c-b648-8bf8b54f86e2",
   "metadata": {},
   "source": [
    "`-` 1차차분 "
   ]
  },
  {
   "cell_type": "code",
   "execution_count": 327,
   "id": "c93736ce-ae2b-4ea6-bc1e-5cb149b7f601",
   "metadata": {},
   "outputs": [
    {
     "data": {
      "text/plain": [
       "array([1, 2, 4, 6, 7])"
      ]
     },
     "execution_count": 327,
     "metadata": {},
     "output_type": "execute_result"
    }
   ],
   "source": [
    "a=np.array([1,2,4,6,7])\n",
    "a"
   ]
  },
  {
   "cell_type": "code",
   "execution_count": 328,
   "id": "7d3bca10-3580-48dc-8c92-a7c56947f88a",
   "metadata": {},
   "outputs": [
    {
     "data": {
      "text/plain": [
       "array([1, 2, 2, 1])"
      ]
     },
     "execution_count": 328,
     "metadata": {},
     "output_type": "execute_result"
    }
   ],
   "source": [
    "np.diff(a)"
   ]
  },
  {
   "cell_type": "markdown",
   "id": "e841c1aa-68ae-41b9-b02d-d18492ddd098",
   "metadata": {},
   "source": [
    "`-` 2차차분 "
   ]
  },
  {
   "cell_type": "code",
   "execution_count": 331,
   "id": "ca0e8ee7-a3fd-4bb0-a071-70f264e96f74",
   "metadata": {},
   "outputs": [
    {
     "data": {
      "text/plain": [
       "array([ 1,  0, -1])"
      ]
     },
     "execution_count": 331,
     "metadata": {},
     "output_type": "execute_result"
    }
   ],
   "source": [
    "np.diff(np.diff(a))"
   ]
  },
  {
   "cell_type": "markdown",
   "id": "1d1f9458-6b11-4eb2-bb09-b37cba566426",
   "metadata": {},
   "source": [
    "`-` prepend, append "
   ]
  },
  {
   "cell_type": "code",
   "execution_count": 332,
   "id": "124bbe15-7e0f-4a17-afa1-062d370a9225",
   "metadata": {},
   "outputs": [
    {
     "data": {
      "text/plain": [
       "array([1, 2, 4, 6, 7])"
      ]
     },
     "execution_count": 332,
     "metadata": {},
     "output_type": "execute_result"
    }
   ],
   "source": [
    "a=np.array([1,2,4,6,7])\n",
    "a"
   ]
  },
  {
   "cell_type": "code",
   "execution_count": 339,
   "id": "279a6bfe-2ac4-44ac-9f21-866cacad0750",
   "metadata": {},
   "outputs": [
    {
     "data": {
      "text/plain": [
       "array([-99,   1,   2,   2,   1])"
      ]
     },
     "execution_count": 339,
     "metadata": {},
     "output_type": "execute_result"
    }
   ],
   "source": [
    "np.diff(a,prepend=100)\n",
    "#np.diff(np.array([100]+a.tolist()) )"
   ]
  },
  {
   "cell_type": "markdown",
   "id": "7a2a1a5b-88e1-41a8-8e44-818f9f5465b4",
   "metadata": {},
   "source": [
    "- [1,2,4,6,7] -> [100,1,2,3,4,6] -> np.diff "
   ]
  },
  {
   "cell_type": "code",
   "execution_count": 343,
   "id": "f8b06675-97e6-4ed5-abac-20d3e0f3f54a",
   "metadata": {},
   "outputs": [
    {
     "data": {
      "text/plain": [
       "array([ 1,  2,  2,  1, 93])"
      ]
     },
     "execution_count": 343,
     "metadata": {},
     "output_type": "execute_result"
    }
   ],
   "source": [
    "np.diff(a,append=100)\n",
    "#np.diff(np.array(a.tolist()+[100]) )"
   ]
  },
  {
   "cell_type": "markdown",
   "id": "1fe8d974-2823-4f38-a357-a5c478472ec0",
   "metadata": {},
   "source": [
    "(예제) a=[1,2,4,6,7]의 앞에 1을 추가하여 차분하라. "
   ]
  },
  {
   "cell_type": "code",
   "execution_count": 347,
   "id": "ecb80844-adf9-415f-96d5-ff2c98490c32",
   "metadata": {},
   "outputs": [
    {
     "data": {
      "text/plain": [
       "array([0, 1, 2, 2, 1])"
      ]
     },
     "execution_count": 347,
     "metadata": {},
     "output_type": "execute_result"
    }
   ],
   "source": [
    "np.diff(a,prepend=a[0])\n",
    "#np.diff(a,prepend=1)"
   ]
  },
  {
   "cell_type": "markdown",
   "id": "37c80127-236d-43cb-bf49-6906930daa04",
   "metadata": {},
   "source": [
    "(예제) a=[1,2,4,6,7]의 뒤에 7을 추가하여 차분하라. "
   ]
  },
  {
   "cell_type": "code",
   "execution_count": 348,
   "id": "cf852951-0063-4e6d-a75b-d0ee8dc3d054",
   "metadata": {},
   "outputs": [
    {
     "data": {
      "text/plain": [
       "array([1, 2, 2, 1, 0])"
      ]
     },
     "execution_count": 348,
     "metadata": {},
     "output_type": "execute_result"
    }
   ],
   "source": [
    "np.diff(a,append=a[-1])\n",
    "#np.diff(a,append=7)"
   ]
  },
  {
   "cell_type": "markdown",
   "id": "b285ab90-2c67-4511-b46b-7372723501e9",
   "metadata": {},
   "source": [
    "`-` 2차원 array의 차분 "
   ]
  },
  {
   "cell_type": "code",
   "execution_count": 367,
   "id": "32f31b74-b9a0-4142-9f43-6f7990dcea33",
   "metadata": {},
   "outputs": [
    {
     "data": {
      "text/plain": [
       "array([[ 0,  1,  2,  3,  4,  5],\n",
       "       [ 6,  7,  8,  9, 10, 11],\n",
       "       [12, 13, 14, 15, 16, 17],\n",
       "       [18, 19, 20, 21, 22, 23]])"
      ]
     },
     "execution_count": 367,
     "metadata": {},
     "output_type": "execute_result"
    }
   ],
   "source": [
    "a=np.arange(24).reshape(4,6)\n",
    "a"
   ]
  },
  {
   "cell_type": "code",
   "execution_count": 368,
   "id": "53cbfd4a-6441-4ae2-8bcd-6b6b85132b5b",
   "metadata": {},
   "outputs": [
    {
     "data": {
      "text/plain": [
       "array([[6, 6, 6, 6, 6, 6],\n",
       "       [6, 6, 6, 6, 6, 6],\n",
       "       [6, 6, 6, 6, 6, 6]])"
      ]
     },
     "execution_count": 368,
     "metadata": {},
     "output_type": "execute_result"
    }
   ],
   "source": [
    "np.diff(a,axis=0) "
   ]
  },
  {
   "cell_type": "code",
   "execution_count": 369,
   "id": "e45efaa0-c6c2-4998-b504-49df0fc6c85b",
   "metadata": {},
   "outputs": [
    {
     "data": {
      "text/plain": [
       "array([[1, 1, 1, 1, 1],\n",
       "       [1, 1, 1, 1, 1],\n",
       "       [1, 1, 1, 1, 1],\n",
       "       [1, 1, 1, 1, 1]])"
      ]
     },
     "execution_count": 369,
     "metadata": {},
     "output_type": "execute_result"
    }
   ],
   "source": [
    "np.diff(a,axis=1) "
   ]
  },
  {
   "cell_type": "markdown",
   "id": "0b92146a-7ab7-4469-b48e-cf4766caabdf",
   "metadata": {},
   "source": [
    "(숙제) "
   ]
  },
  {
   "cell_type": "code",
   "execution_count": 370,
   "id": "30c9a1e2-1b7f-47c7-9c70-75e258c53048",
   "metadata": {},
   "outputs": [
    {
     "data": {
      "text/plain": [
       "array([[ 0,  1,  2,  3,  4,  5],\n",
       "       [ 6,  7,  8,  9, 10, 11],\n",
       "       [12, 13, 14, 15, 16, 17],\n",
       "       [18, 19, 20, 21, 22, 23]])"
      ]
     },
     "execution_count": 370,
     "metadata": {},
     "output_type": "execute_result"
    }
   ],
   "source": [
    "a=np.arange(24).reshape(4,6)\n",
    "a"
   ]
  },
  {
   "cell_type": "markdown",
   "id": "fff1c524-ca90-40bf-ac31-00b3308089dd",
   "metadata": {},
   "source": [
    "에서 axis=1 옵션으로 np.diff를 적용하여 (4,5) array를 만들고 왼쪽열에 1이 포함된 column을 추가하여 최종 결과가 아래와 같이 되도록 하라. \n",
    "\n",
    "```\n",
    "array([[1, 1, 1, 1, 1, 1],\n",
    "       [1, 1, 1, 1, 1, 1],\n",
    "       [1, 1, 1, 1, 1, 1],\n",
    "       [1, 1, 1, 1, 1, 1]])\n",
    "```"
   ]
  }
 ],
 "metadata": {
  "kernelspec": {
   "display_name": "Python 3 (ipykernel)",
   "language": "python",
   "name": "python3"
  },
  "language_info": {
   "codemirror_mode": {
    "name": "ipython",
    "version": 3
   },
   "file_extension": ".py",
   "mimetype": "text/x-python",
   "name": "python",
   "nbconvert_exporter": "python",
   "pygments_lexer": "ipython3",
   "version": "3.9.10"
  }
 },
 "nbformat": 4,
 "nbformat_minor": 5
}
