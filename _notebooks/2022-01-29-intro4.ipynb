{
 "cells": [
  {
   "cell_type": "markdown",
   "id": "1045d92c-6a80-47eb-acca-0c141f519f7a",
   "metadata": {},
   "source": [
    "# 정규 표현식2"
   ]
  },
  {
   "cell_type": "markdown",
   "id": "bc814547-922c-4429-831c-227a765cf136",
   "metadata": {},
   "source": [
    "- 파이썬은 정규 표현식을 지원하기 위해 re(regular expression) 모듈을 제공한다. re모듈은 파이썬을 설치할 때 자동으로 설치는 기본 라이브러리로 사용방법은 다음과 같다."
   ]
  },
  {
   "cell_type": "code",
   "execution_count": 1,
   "id": "d651c214-edd4-4339-9c4c-d43eab8ca6a6",
   "metadata": {},
   "outputs": [],
   "source": [
    "import re\n",
    "p = re.compile('ab*')"
   ]
  },
  {
   "cell_type": "markdown",
   "id": "6712a9a8-7bbd-4b05-80fe-d6821e197ac4",
   "metadata": {},
   "source": [
    "- re.compile을 사용하여 정규 표현식을 컴파일한다. re.compile의 결과로 돌려주는 객체 p를 사용하여 그 이후의 작업을 수행할 것이다. \n",
    "  - 정규식을 컴파일할 때 특정 옵션을 주는 것도 가능한데 이에 대해서는 뒤에서 자세히 살펴본다\n",
    "  - 패턴이란 정규식을 컴파일한 결과이다.\n",
    "\n",
    "\n",
    "- 정규식을 이용한 문자열 검색\n",
    "  - 이제 컴파일된 패턴 객체를 사용하여 문자열 검색을 수행해보자. 컴파일된 패턴 객체는 다음과 같은 4가지 메서드를 제공한다. \n",
    "    - match() : 문자열의 처음부터 정규식과 매치되는지 조사한다.\n",
    "    - search() : 문자열 전체를 검색하여 정규식과 매치되는지 조사한다.\n",
    "    - findall() : 정규식과 매치되는 모든 문자열을 리스트로 돌려준다.\n",
    "    - finditer() : 정규식과 매치되는 모든 문자열을 반복 가능한 객체로 돌려준다.\n",
    "  - match, search는 정규식과 매치될 때 match 객체를 돌려주고, 매치되지 않을 땐 None을 돌려준다. 이들 메서드에 대한 간단한 예를 들어보자\n",
    "    - match 객체란 정규식의 검색 결과로 돌려주는 객체이다\n",
    "  - 우선 다음과 같은 패턴을 만들어보자"
   ]
  },
  {
   "cell_type": "code",
   "execution_count": 2,
   "id": "2d2a1acf-c8e8-4f12-9f9e-4e252f3e9e04",
   "metadata": {},
   "outputs": [],
   "source": [
    "import re\n",
    "p = re.compile('[a-z]+')"
   ]
  },
  {
   "cell_type": "markdown",
   "id": "8fc678a1-e039-4559-bd35-80022915cdaf",
   "metadata": {},
   "source": [
    "- match : match 메서드는 문자열의 처음부터 정규식과 매치되는지 조사한다. 위 패턴에 match 메서드를 수행해보자"
   ]
  },
  {
   "cell_type": "code",
   "execution_count": 7,
   "id": "f696945e-7044-45ad-add0-fe29f9966d6e",
   "metadata": {},
   "outputs": [
    {
     "name": "stdout",
     "output_type": "stream",
     "text": [
      "<re.Match object; span=(0, 6), match='python'>\n"
     ]
    },
    {
     "data": {
      "text/plain": [
       "'python'"
      ]
     },
     "execution_count": 7,
     "metadata": {},
     "output_type": "execute_result"
    }
   ],
   "source": [
    "m = p.match(\"python\")\n",
    "print(m)\n",
    "m.group()"
   ]
  },
  {
   "cell_type": "markdown",
   "id": "6b238756-a3e3-4e37-ad3a-ea2e7f919023",
   "metadata": {},
   "source": [
    "- \"python\" 문자열은 [a-z]+ 정규식에 부합되므로 match 객체를 돌려준다."
   ]
  },
  {
   "cell_type": "code",
   "execution_count": 8,
   "id": "acb24e95-9709-4d34-a13d-f78f0f1ea194",
   "metadata": {},
   "outputs": [
    {
     "name": "stdout",
     "output_type": "stream",
     "text": [
      "None\n"
     ]
    }
   ],
   "source": [
    "m = p.match(\"3 python\")\n",
    "print(m)\n",
    "# m.group()\n",
    "# None이라서 반환하지 못함"
   ]
  },
  {
   "cell_type": "markdown",
   "id": "951e524f-cf82-4fe9-86e5-8bd76d83bf2c",
   "metadata": {},
   "source": [
    "- \"3 python\" 문자열은 처음에 나오는 문자 3이 [a-z]+에 부합되지 않으므로 None을 반환해준다. \n",
    "- match의 결과로 match객체 또는 None을 돌려주기 때문에 파이썬 정규식 프로그램은 보통 다음과 같은 흐름으로 작성한다. "
   ]
  },
  {
   "cell_type": "markdown",
   "id": "adaf25db-5be5-4691-84a5-52d62ca4abcf",
   "metadata": {},
   "source": [
    "```python\n",
    "p = re.compile(정규표현식)\n",
    "m = p.match('string goes here')\n",
    "if m:\n",
    "    print('match found: ', m.group())\n",
    "else : \n",
    "    print('No match')\n",
    "```"
   ]
  },
  {
   "cell_type": "markdown",
   "id": "e194caa3-4672-4a4b-980d-4e7ffeb9900d",
   "metadata": {},
   "source": [
    "- ***if는 bool형을 읽는다. 즉, m이 뭔가 있단 얘기는 이를 True로 해석할 것이고 m이 None이 나오면 False와 진배 다를 바 없기 때문에 else로 넘어가서 수행할 것이다.***"
   ]
  },
  {
   "cell_type": "markdown",
   "id": "310c905a-3a32-4d52-982d-da473d9faff7",
   "metadata": {},
   "source": [
    "- search : 컴파일된 패턴 객체 p를 가지고 이번에는 search 메서드를 수행해보자"
   ]
  },
  {
   "cell_type": "code",
   "execution_count": 11,
   "id": "8bbf0431-cc57-4a17-bc0c-f740402873be",
   "metadata": {},
   "outputs": [
    {
     "name": "stdout",
     "output_type": "stream",
     "text": [
      "<re.Match object; span=(0, 6), match='python'>\n"
     ]
    }
   ],
   "source": [
    "m = p.search('python')\n",
    "print(m)"
   ]
  },
  {
   "cell_type": "markdown",
   "id": "5de484fa-2444-491f-bf64-89a34413c14c",
   "metadata": {},
   "source": [
    "- match 메서드와 동일하게 매치된다."
   ]
  },
  {
   "cell_type": "code",
   "execution_count": 12,
   "id": "57ee68ef-31ed-46a6-92fb-a3c6bb9a9057",
   "metadata": {},
   "outputs": [
    {
     "name": "stdout",
     "output_type": "stream",
     "text": [
      "<re.Match object; span=(2, 8), match='python'>\n"
     ]
    }
   ],
   "source": [
    "m = p.search('3 python')\n",
    "print(m)"
   ]
  },
  {
   "cell_type": "markdown",
   "id": "4234ba41-bd6d-488d-99e3-779e16b8b372",
   "metadata": {},
   "source": [
    "- '3 python' 문자열의 첫 번째 문자는 '3'이지만 search는 문자열의 처음부터 검색하는 것이 아니라 문자열 전체를 검색하기 때문에 '3' 이후의 'python' 문자열과 매치된다.\n",
    "- 이렇듯 match 메서드와 search 메서드는 문자열의 처음부터 검색할지의 여부에 따라 다르게 사용해야 한다. "
   ]
  },
  {
   "cell_type": "markdown",
   "id": "a5d347a4-558e-499c-9af1-622adcc6d47b",
   "metadata": {},
   "source": [
    "---"
   ]
  },
  {
   "cell_type": "markdown",
   "id": "d57099cb-468f-4f70-b8ad-4a08fb1c6355",
   "metadata": {},
   "source": [
    "- findall"
   ]
  },
  {
   "cell_type": "code",
   "execution_count": 13,
   "id": "0be12890-b0bd-49fd-b89d-c62f4a2e9d3b",
   "metadata": {},
   "outputs": [
    {
     "name": "stdout",
     "output_type": "stream",
     "text": [
      "['life', 'is', 'too', 'short']\n"
     ]
    }
   ],
   "source": [
    "result = p.findall('life is too short')\n",
    "print(result)"
   ]
  },
  {
   "cell_type": "markdown",
   "id": "30d46cd7-f31e-4626-94b9-49609b75e5e4",
   "metadata": {},
   "source": [
    "- 'life is too short'문자열의 각 단어들을 각각 [a-z]+ 정규식과 매치해서 리스트로 돌려준다."
   ]
  },
  {
   "cell_type": "markdown",
   "id": "413c8c57-1f0f-4218-88d1-8cb1e062b971",
   "metadata": {},
   "source": [
    "---"
   ]
  },
  {
   "cell_type": "markdown",
   "id": "17c2ed89-3f5b-43c8-a7df-a477a1f3d546",
   "metadata": {},
   "source": [
    "- finditer"
   ]
  },
  {
   "cell_type": "code",
   "execution_count": 14,
   "id": "b4480a9d-8b97-4a10-aefe-79df4c2b334c",
   "metadata": {},
   "outputs": [
    {
     "name": "stdout",
     "output_type": "stream",
     "text": [
      "<callable_iterator object at 0x000001E8A6348790>\n",
      "<re.Match object; span=(0, 4), match='life'>\n",
      "<re.Match object; span=(5, 7), match='is'>\n",
      "<re.Match object; span=(8, 11), match='too'>\n",
      "<re.Match object; span=(12, 17), match='short'>\n"
     ]
    }
   ],
   "source": [
    "result = p.finditer(\"life is too short\")\n",
    "print(result)\n",
    "\n",
    "for r in result: print(r)"
   ]
  },
  {
   "cell_type": "markdown",
   "id": "448ef745-f2c2-4ee0-a993-c86dc9f51f55",
   "metadata": {},
   "source": [
    "- finditer는 findall과 동일하지만 그 결과를 이용하여 반복 가능한 객체(iterator object)로 돌려준다. 반복 가능한 객체가 포함하는 각각의 요소는 match 객체이다."
   ]
  },
  {
   "cell_type": "markdown",
   "id": "cf0d7753-ff9e-40a7-a0c0-74cc52e6d4fa",
   "metadata": {},
   "source": [
    "- match 객체의 메서드 : match 메서드와 search 메서드를 수행한 결과로 돌려준 match 객체에 대해 알아보자. 앞에서 정규식을 사용한 문자열 검색을 수행하면서 아마도 다음과 같은 궁금증이 생겼을 것이다. \n",
    "- 왜냐면 반환해준 결과가 알아먹기 힘들게 나왔기 때문이다\n",
    "  - 어떤 문자열이 매치 되었는가?\n",
    "  - 매치된 문자열의 인덱스는 어디서부터 어디까지인가?\n",
    "- match객체의 메서드를 사용하면 이 같은 궁금증을 해결할 수 있다.\n",
    "  - group() : 매치된 문자열을 돌려준다.\n",
    "  - start() : 매치된 문자열의 시작 위치를 돌려준다.\n",
    "  - end() : 매치된 문자열의 끝 위치를 돌려준다.\n",
    "  - span() : 매치된 문자열의 (시작, 끝)에 해당하는 튜플을 돌려준다.\n",
    "  - 예를 들어 확인해보자"
   ]
  },
  {
   "cell_type": "code",
   "execution_count": 15,
   "id": "eaa3bba7-50c3-4917-abb9-b4291ba3729a",
   "metadata": {},
   "outputs": [
    {
     "name": "stdout",
     "output_type": "stream",
     "text": [
      "python\n",
      "0\n",
      "6\n",
      "(0, 6)\n"
     ]
    }
   ],
   "source": [
    "m = p.match(\"python\")\n",
    "print(m.group())\n",
    "print(m.start())\n",
    "print(m.end())\n",
    "print(m.span())"
   ]
  },
  {
   "cell_type": "markdown",
   "id": "452cfee7-6b38-4ac7-aa8b-bb48d7a12934",
   "metadata": {},
   "source": [
    "- match 객체의 start()의 결과값은 항상 0일 수 밖에 없다\n",
    "- search도 확인해보자"
   ]
  },
  {
   "cell_type": "code",
   "execution_count": 16,
   "id": "629cc531-ee6e-41bc-8cc2-d29b0d000fbb",
   "metadata": {},
   "outputs": [
    {
     "name": "stdout",
     "output_type": "stream",
     "text": [
      "python\n",
      "2\n",
      "8\n",
      "(2, 8)\n"
     ]
    }
   ],
   "source": [
    "m = p.search(\"3 python\")\n",
    "print(m.group())\n",
    "print(m.start())\n",
    "print(m.end())\n",
    "print(m.span())"
   ]
  },
  {
   "cell_type": "markdown",
   "id": "da9257e0-8b71-4f9f-a672-8d9cfa4e0feb",
   "metadata": {},
   "source": [
    "- 모듈 단위로 수행하기\n",
    "  - 지금까지 우리는 re.compile을 사용하여 컴파일된 패턴 객체로 그 이후의 작업을 수행했다. re 모듈은 이것을 좀 축약한 형태로 사용할 수 있는 방법을 제공한다. \n",
    "  ```python\n",
    "   p = re.compile('[a-z]+')\n",
    "   m = p.match(\"python\")\n",
    "  ```\n",
    "  - 이렇게 사용했다면\n",
    "  ```python\n",
    "   m = re.match('[a-z]+', \"python\")\n",
    "  ```\n",
    "  - 이처럼 사용하면 컴파일과 match 메서드를 한 번에 수행할 수 있다. \n",
    "  - 보통 한 번 만든 패턴 객체를 여러번 사용할 때는 이 방법보다 첫 번째 방법이 유용할 때가 있다."
   ]
  },
  {
   "cell_type": "markdown",
   "id": "399eb6cb-6f09-458c-b819-03af89507673",
   "metadata": {},
   "source": [
    "- 컴파일 옵션은 다음시간"
   ]
  }
 ],
 "metadata": {
  "kernelspec": {
   "display_name": "Python 3 (ipykernel)",
   "language": "python",
   "name": "python3"
  },
  "language_info": {
   "codemirror_mode": {
    "name": "ipython",
    "version": 3
   },
   "file_extension": ".py",
   "mimetype": "text/x-python",
   "name": "python",
   "nbconvert_exporter": "python",
   "pygments_lexer": "ipython3",
   "version": "3.8.11"
  }
 },
 "nbformat": 4,
 "nbformat_minor": 5
}
