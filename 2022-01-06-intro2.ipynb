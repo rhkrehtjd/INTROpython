{
 "cells": [
  {
   "cell_type": "markdown",
   "id": "92a712de-398b-418c-9aeb-b15d3d574c81",
   "metadata": {},
   "source": [
    "# 2022/01/06/THU"
   ]
  },
  {
   "cell_type": "markdown",
   "id": "70f6197b-4a60-4aeb-9913-01079c9dc90b",
   "metadata": {},
   "source": [
    "> ### ***`lambda`***"
   ]
  },
  {
   "cell_type": "markdown",
   "id": "cd85cb95-b7bb-4918-95fb-cab1a73187c8",
   "metadata": {},
   "source": [
    "`-` 예제1: 사용방법 "
   ]
  },
  {
   "cell_type": "code",
   "execution_count": 20,
   "id": "b37a0b3c-3e0e-4b85-be62-31c7da676d2a",
   "metadata": {},
   "outputs": [
    {
     "data": {
      "text/plain": [
       "<function __main__.<lambda>(x=1, y=2, z=3)>"
      ]
     },
     "execution_count": 20,
     "metadata": {},
     "output_type": "execute_result"
    }
   ],
   "source": [
    "lambda x=1,y=2,z=3 : x+y+z"
   ]
  },
  {
   "cell_type": "code",
   "execution_count": 21,
   "id": "ad85333e-c067-43f8-a99d-8c105c8373ab",
   "metadata": {},
   "outputs": [
    {
     "data": {
      "text/plain": [
       "6"
      ]
     },
     "execution_count": 21,
     "metadata": {},
     "output_type": "execute_result"
    }
   ],
   "source": [
    "(lambda x=1,y=2,z=3 : x+y+z)()"
   ]
  },
  {
   "cell_type": "code",
   "execution_count": 22,
   "id": "329d6d9e-6163-4afc-b2da-58aebc12f38a",
   "metadata": {},
   "outputs": [
    {
     "data": {
      "text/plain": [
       "6"
      ]
     },
     "execution_count": 22,
     "metadata": {},
     "output_type": "execute_result"
    }
   ],
   "source": [
    "a()"
   ]
  },
  {
   "cell_type": "code",
   "execution_count": 23,
   "id": "52abd898-b719-4357-ade8-c120b5458e04",
   "metadata": {},
   "outputs": [
    {
     "data": {
      "text/plain": [
       "3"
      ]
     },
     "execution_count": 23,
     "metadata": {},
     "output_type": "execute_result"
    }
   ],
   "source": [
    "a(1,1,1)"
   ]
  },
  {
   "cell_type": "code",
   "execution_count": 25,
   "id": "5741efb9-b3d2-4726-a5a1-86fde8f0d676",
   "metadata": {},
   "outputs": [],
   "source": [
    "f = lambda x,y,z : x+y+z \n",
    "# lambda 입력:출력 "
   ]
  },
  {
   "cell_type": "code",
   "execution_count": 26,
   "id": "9336ab4a-dd08-4382-b4f9-d5970d603512",
   "metadata": {},
   "outputs": [
    {
     "data": {
      "text/plain": [
       "9"
      ]
     },
     "execution_count": 26,
     "metadata": {},
     "output_type": "execute_result"
    }
   ],
   "source": [
    "f(2,3,4)"
   ]
  },
  {
   "cell_type": "markdown",
   "id": "1f874081-3874-4039-9a7a-6e2b8f27f5e1",
   "metadata": {},
   "source": [
    "`-` 예제2: 디폴트입력값"
   ]
  },
  {
   "cell_type": "code",
   "execution_count": 27,
   "id": "4d2b439f-bbcb-4bba-ad6c-fdc450798aad",
   "metadata": {},
   "outputs": [],
   "source": [
    "x= (lambda a='fee',b='fie',c='foe': a+b+c) "
   ]
  },
  {
   "cell_type": "code",
   "execution_count": 28,
   "id": "ae07de81-6be0-4581-8fe8-a27c536b9ac8",
   "metadata": {},
   "outputs": [
    {
     "data": {
      "text/plain": [
       "'feefiefoe'"
      ]
     },
     "execution_count": 28,
     "metadata": {},
     "output_type": "execute_result"
    }
   ],
   "source": [
    "x()"
   ]
  },
  {
   "cell_type": "code",
   "execution_count": 29,
   "id": "47470636-55a0-473f-bc05-5ed7a37d33fc",
   "metadata": {},
   "outputs": [
    {
     "data": {
      "text/plain": [
       "'wee려치foe'"
      ]
     },
     "execution_count": 29,
     "metadata": {},
     "output_type": "execute_result"
    }
   ],
   "source": [
    "x('wee','려치')"
   ]
  },
  {
   "cell_type": "markdown",
   "id": "e12b621d-1eb0-45d7-90d5-464de302607e",
   "metadata": {},
   "source": [
    "### ***`예제3: 람다들의 리스트가능`***"
   ]
  },
  {
   "cell_type": "code",
   "execution_count": 49,
   "id": "46c4d786-c788-4c45-ad2b-1c818482969b",
   "metadata": {},
   "outputs": [],
   "source": [
    "l=[lambda x: x**2, lambda x: x**3, lambda x: x**4] "
   ]
  },
  {
   "cell_type": "code",
   "execution_count": 50,
   "id": "cbef939e-575a-4fb9-9232-a6d91f4af61e",
   "metadata": {},
   "outputs": [],
   "source": [
    "iter_l=iter(l)"
   ]
  },
  {
   "cell_type": "code",
   "execution_count": 51,
   "id": "18c93749-4704-4407-a9e0-3ce19acc164a",
   "metadata": {},
   "outputs": [
    {
     "data": {
      "text/plain": [
       "<function __main__.<lambda>(x)>"
      ]
     },
     "execution_count": 51,
     "metadata": {},
     "output_type": "execute_result"
    }
   ],
   "source": [
    "iter_l.__next__()"
   ]
  },
  {
   "cell_type": "markdown",
   "id": "4d6e438e-7dd0-4fbb-939e-d0af6d532b2e",
   "metadata": {},
   "source": [
    "즉 l자체가 iterable object"
   ]
  },
  {
   "cell_type": "code",
   "execution_count": 52,
   "id": "74b66fb0-02ba-493a-8f12-bc731cac5448",
   "metadata": {},
   "outputs": [
    {
     "name": "stdout",
     "output_type": "stream",
     "text": [
      "4\n",
      "8\n",
      "16\n"
     ]
    }
   ],
   "source": [
    "for a in l: \n",
    "    print(a(2))"
   ]
  },
  {
   "cell_type": "markdown",
   "id": "c002e72a-9fe5-46ff-97fa-7e86ec63e04f",
   "metadata": {},
   "source": [
    "`-` 예제4: 람다들의 딕셔너리 가능 "
   ]
  },
  {
   "cell_type": "code",
   "execution_count": 53,
   "id": "17f2c873-0830-46f4-b4d5-f7b46aa87caf",
   "metadata": {},
   "outputs": [],
   "source": [
    "dct={'f1': (lambda x: x+1), 'f2': (lambda x: x+22), 'f3': (lambda x: x+333)} "
   ]
  },
  {
   "cell_type": "code",
   "execution_count": 54,
   "id": "f29b2433-f635-4b45-beec-3d78ea6181ac",
   "metadata": {},
   "outputs": [
    {
     "data": {
      "text/plain": [
       "(2, 23, 334)"
      ]
     },
     "execution_count": 54,
     "metadata": {},
     "output_type": "execute_result"
    }
   ],
   "source": [
    "dct['f1'](1), dct['f2'](1), dct['f3'](1)"
   ]
  },
  {
   "cell_type": "markdown",
   "id": "175eb338-0e07-44bc-ba84-3e7e9fcc0b5a",
   "metadata": {},
   "source": [
    "`-` 예제5: 조건부 출력 "
   ]
  },
  {
   "cell_type": "markdown",
   "id": "571f5645-c7a8-4a9a-990c-488ceac783ee",
   "metadata": {},
   "source": [
    "(예비학습) 문자열의 대소비교 "
   ]
  },
  {
   "cell_type": "code",
   "execution_count": 55,
   "id": "a3874e73-484a-4b91-bef6-790735a76537",
   "metadata": {},
   "outputs": [
    {
     "data": {
      "text/plain": [
       "True"
      ]
     },
     "execution_count": 55,
     "metadata": {},
     "output_type": "execute_result"
    }
   ],
   "source": [
    "'a' < 'b' "
   ]
  },
  {
   "cell_type": "code",
   "execution_count": 56,
   "id": "74f86235-f648-4700-89e7-514b03c0a0aa",
   "metadata": {},
   "outputs": [
    {
     "data": {
      "text/plain": [
       "False"
      ]
     },
     "execution_count": 56,
     "metadata": {},
     "output_type": "execute_result"
    }
   ],
   "source": [
    "'c' < 'b'"
   ]
  },
  {
   "cell_type": "markdown",
   "id": "ac4a1d8a-227a-44d8-b626-6d5882f9778b",
   "metadata": {},
   "source": [
    "(예제시작) "
   ]
  },
  {
   "cell_type": "code",
   "execution_count": 57,
   "id": "b5b56ff5-ccdb-4f6b-bfad-54dd20069866",
   "metadata": {},
   "outputs": [],
   "source": [
    "lower = lambda x,y : x if x<y else y"
   ]
  },
  {
   "cell_type": "code",
   "execution_count": 58,
   "id": "4a9c45b2-d013-43ea-874f-e20d9628de6a",
   "metadata": {},
   "outputs": [
    {
     "data": {
      "text/plain": [
       "'a'"
      ]
     },
     "execution_count": 58,
     "metadata": {},
     "output_type": "execute_result"
    }
   ],
   "source": [
    "lower('a','b') "
   ]
  },
  {
   "cell_type": "code",
   "execution_count": 59,
   "id": "40bf052b-8d70-40cd-a869-1e7c3450b869",
   "metadata": {},
   "outputs": [
    {
     "data": {
      "text/plain": [
       "'b'"
      ]
     },
     "execution_count": 59,
     "metadata": {},
     "output_type": "execute_result"
    }
   ],
   "source": [
    "lower('c','b') "
   ]
  },
  {
   "cell_type": "markdown",
   "id": "d865d484-24fa-410c-80b2-cd12a4932c82",
   "metadata": {},
   "source": [
    "`-` 예제6 : lambda expression 을 return으로 반환가능"
   ]
  },
  {
   "cell_type": "code",
   "execution_count": 65,
   "id": "1e2053d2-f4bd-4b03-9502-d381747dc17b",
   "metadata": {},
   "outputs": [],
   "source": [
    "def action(x):\n",
    "    return (lambda y: x+y)"
   ]
  },
  {
   "cell_type": "code",
   "execution_count": 66,
   "id": "58e9d7e2-0cee-44d8-ac51-a02cd85177d8",
   "metadata": {},
   "outputs": [],
   "source": [
    "act = action(99) ## act는 99+y를 수행하는 함수 \n",
    "act2 = action(98) ## act2는 98+y를 수행하는 함수 "
   ]
  },
  {
   "cell_type": "code",
   "execution_count": 67,
   "id": "f036644c-79f5-4200-8334-6f275d4c1376",
   "metadata": {},
   "outputs": [
    {
     "name": "stdout",
     "output_type": "stream",
     "text": [
      "101\n",
      "100\n"
     ]
    }
   ],
   "source": [
    "print(act(2)) \n",
    "print(act2(2))   # 윗 줄 아랫 줄에 대입된 2는 y자리에 대입된 것이다."
   ]
  },
  {
   "cell_type": "markdown",
   "id": "f24b8a10-9d9b-49cc-96ed-bde29c25bbc3",
   "metadata": {},
   "source": [
    "`-` 예제7: 예제6의 발전 "
   ]
  },
  {
   "cell_type": "code",
   "execution_count": 72,
   "id": "121fda79-40bd-481f-8b57-cd3157196c4c",
   "metadata": {},
   "outputs": [
    {
     "name": "stdout",
     "output_type": "stream",
     "text": [
      "101\n",
      "100\n"
     ]
    }
   ],
   "source": [
    "action = lambda x: lambda y: x+y \n",
    "act= action(99)\n",
    "act2=action(98) \n",
    "print(act(2))\n",
    "print(act2(2))"
   ]
  },
  {
   "cell_type": "markdown",
   "id": "180dc89f-c224-4d91-b204-d811699b08a3",
   "metadata": {},
   "source": [
    "# ` map `"
   ]
  },
  {
   "cell_type": "markdown",
   "id": "4141b554-737c-4d50-8b48-d3eb0af24b52",
   "metadata": {},
   "source": [
    "`-` 예제1: 사용방법 "
   ]
  },
  {
   "cell_type": "code",
   "execution_count": 76,
   "id": "449e080d-572f-455f-a08e-01ec3cdeea4b",
   "metadata": {},
   "outputs": [],
   "source": [
    "def inc(x): return x+1"
   ]
  },
  {
   "cell_type": "code",
   "execution_count": 77,
   "id": "033e4f26-3d0c-495f-89db-8fac3374e53d",
   "metadata": {},
   "outputs": [
    {
     "data": {
      "text/plain": [
       "[2, 3, 4, 5]"
      ]
     },
     "execution_count": 77,
     "metadata": {},
     "output_type": "execute_result"
    }
   ],
   "source": [
    "list(map(inc,[1,2,3,4]))"
   ]
  },
  {
   "cell_type": "markdown",
   "id": "3a66f650-ea5e-4fd0-9c07-657d2dd7fd6d",
   "metadata": {},
   "source": [
    "`-` 예제1의 변형(람다사용) "
   ]
  },
  {
   "cell_type": "code",
   "execution_count": 78,
   "id": "6b5ec9c1-f572-40cb-840f-c077ca6cdf3f",
   "metadata": {},
   "outputs": [
    {
     "data": {
      "text/plain": [
       "[2, 3, 4, 5]"
      ]
     },
     "execution_count": 78,
     "metadata": {},
     "output_type": "execute_result"
    }
   ],
   "source": [
    "list(map(lambda x: x+1,[1,2,3,4]))"
   ]
  },
  {
   "cell_type": "markdown",
   "id": "49c94516-39c7-4aae-9182-2e6dce303822",
   "metadata": {},
   "source": [
    "`-` 예제2: map과 리스트컴프리헨션 비교 "
   ]
  },
  {
   "cell_type": "code",
   "execution_count": 85,
   "id": "4853be99-88db-4610-8561-c8449af9f307",
   "metadata": {},
   "outputs": [],
   "source": [
    "f= lambda x: x+2"
   ]
  },
  {
   "cell_type": "code",
   "execution_count": 86,
   "id": "ba9b435c-108b-4f8f-916e-e14da0badeae",
   "metadata": {},
   "outputs": [
    {
     "data": {
      "text/plain": [
       "4"
      ]
     },
     "execution_count": 86,
     "metadata": {},
     "output_type": "execute_result"
    }
   ],
   "source": [
    "f(2)"
   ]
  },
  {
   "cell_type": "markdown",
   "id": "2749875b-8f00-4522-93cb-d10a89d6e0b8",
   "metadata": {},
   "source": [
    "이럴 땐 f의 입력으로 int도 가능"
   ]
  },
  {
   "cell_type": "code",
   "execution_count": 87,
   "id": "e90b04a8-b53f-45fb-ae50-6661a015a905",
   "metadata": {},
   "outputs": [],
   "source": [
    "f = lambda x: ('1' in x )  "
   ]
  },
  {
   "cell_type": "code",
   "execution_count": 89,
   "id": "c72ba473-a755-4d8a-8a3b-a9652487b337",
   "metadata": {},
   "outputs": [],
   "source": [
    "# f(2)\n",
    "# 내 생각엔 '1' in x 라는 함수 자체에서 x의 입력으로 받을 수 있는 것들이 int형은 안 되는 것 같음"
   ]
  },
  {
   "cell_type": "code",
   "execution_count": 91,
   "id": "dba3f423-3ef7-40c7-a9b5-3bf2bba6a9dc",
   "metadata": {},
   "outputs": [
    {
     "data": {
      "text/plain": [
       "False"
      ]
     },
     "execution_count": 91,
     "metadata": {},
     "output_type": "execute_result"
    }
   ],
   "source": [
    "f('a')"
   ]
  },
  {
   "cell_type": "code",
   "execution_count": 92,
   "id": "c5055e50-08d7-4967-a28e-f056f6a35922",
   "metadata": {},
   "outputs": [
    {
     "data": {
      "text/plain": [
       "(True, False, True, False)"
      ]
     },
     "execution_count": 92,
     "metadata": {},
     "output_type": "execute_result"
    }
   ],
   "source": [
    "f('X1'),f('X2'),f('Y1'),f('Y2')"
   ]
  },
  {
   "cell_type": "markdown",
   "id": "a1c98d32-337e-4c71-867a-83112bcb802e",
   "metadata": {},
   "source": [
    "#  `map` "
   ]
  },
  {
   "cell_type": "code",
   "execution_count": 93,
   "id": "65e092a7-44f3-4c4e-b4e0-4d3e086dd952",
   "metadata": {},
   "outputs": [
    {
     "data": {
      "text/plain": [
       "[True, False, False, False]"
      ]
     },
     "execution_count": 93,
     "metadata": {},
     "output_type": "execute_result"
    }
   ],
   "source": [
    "list(map(f,['X1','X2','Y3','Y4']))"
   ]
  },
  {
   "cell_type": "markdown",
   "id": "67b17e5c-ee4f-4017-a504-a62534729757",
   "metadata": {},
   "source": [
    "### ***`(리스트컴프리헨션과 비교)`***(중요)"
   ]
  },
  {
   "cell_type": "code",
   "execution_count": 95,
   "id": "1391ae65-5ef4-4d1c-bb8b-4644a4d3016b",
   "metadata": {},
   "outputs": [
    {
     "data": {
      "text/plain": [
       "[True, False, False, False]"
      ]
     },
     "execution_count": 95,
     "metadata": {},
     "output_type": "execute_result"
    }
   ],
   "source": [
    "[f(x) for x in ['X1','X2','Y3','Y4']]"
   ]
  },
  {
   "cell_type": "markdown",
   "id": "8843a9c5-0a1c-4451-8c80-1fca6442d003",
   "metadata": {},
   "source": [
    "`-` 예제3: 두개의 입력을 받는 함수(pow) map, 리스트컴프리헨션 비교 "
   ]
  },
  {
   "cell_type": "markdown",
   "id": "6f8ea4c7-f68d-4665-a8cc-1bce49b082ed",
   "metadata": {},
   "source": [
    "(함수소개)"
   ]
  },
  {
   "cell_type": "code",
   "execution_count": 96,
   "id": "be5afa2b-ec9f-4389-844a-0eb766ee6f26",
   "metadata": {},
   "outputs": [
    {
     "data": {
      "text/plain": [
       "16"
      ]
     },
     "execution_count": 96,
     "metadata": {},
     "output_type": "execute_result"
    }
   ],
   "source": [
    "pow(2,4)"
   ]
  },
  {
   "cell_type": "markdown",
   "id": "85218a38-a3d5-4839-aa51-994f3d60945a",
   "metadata": {},
   "source": [
    "(map)"
   ]
  },
  {
   "cell_type": "code",
   "execution_count": 101,
   "id": "ee1bec95-c1bd-4afb-9049-763a4ac256af",
   "metadata": {},
   "outputs": [
    {
     "data": {
      "text/plain": [
       "[1, 2, 4, 1, 3, 9]"
      ]
     },
     "execution_count": 101,
     "metadata": {},
     "output_type": "execute_result"
    }
   ],
   "source": [
    "list(map(pow,[2,2,2,3,3,3],[0,1,2,0,1,2]))"
   ]
  },
  {
   "cell_type": "markdown",
   "id": "db0171c5-1f9e-4eb7-be14-a6e29fa955ad",
   "metadata": {},
   "source": [
    "(리스트컴프리헨션과 비교)"
   ]
  },
  {
   "cell_type": "code",
   "execution_count": 102,
   "id": "69d3dc43-df5a-4ea7-9e6f-c59db009a794",
   "metadata": {},
   "outputs": [
    {
     "data": {
      "text/plain": [
       "[1, 2, 4, 1, 3, 9]"
      ]
     },
     "execution_count": 102,
     "metadata": {},
     "output_type": "execute_result"
    }
   ],
   "source": [
    "[pow(x,y) for x,y in zip([2,2,2,3,3,3],[0,1,2,0,1,2])]"
   ]
  },
  {
   "cell_type": "markdown",
   "id": "920aae3d-44fc-4136-9d1b-4387271d6f54",
   "metadata": {},
   "source": [
    "`-` 예제4: map은 (하나의 함수,다양한 입력)인 경우 사용가능 \n",
    "\n",
    "아래 셀은 함수가 세개라서 사용 불가능"
   ]
  },
  {
   "cell_type": "code",
   "execution_count": 108,
   "id": "5a06ac47-47e8-4008-9dba-4e51c77622a3",
   "metadata": {},
   "outputs": [],
   "source": [
    "l=[lambda x: x+1, lambda x: x+2, lambda x: x+3 ] "
   ]
  },
  {
   "cell_type": "code",
   "execution_count": 109,
   "id": "de723aff-d834-4a1e-89d6-0bb597bb5cd0",
   "metadata": {},
   "outputs": [],
   "source": [
    "# list(map(l,[100,200,300]))"
   ]
  },
  {
   "cell_type": "markdown",
   "id": "80d0ccab-1e56-4296-a945-71b0e282e718",
   "metadata": {},
   "source": [
    "리스트컴프리헨션은 (다양한함수,다양한입력)이 가능함 "
   ]
  },
  {
   "cell_type": "code",
   "execution_count": 110,
   "id": "30985ee4-dc99-40e5-a374-25726ab2de30",
   "metadata": {},
   "outputs": [
    {
     "data": {
      "text/plain": [
       "[101, 202, 303]"
      ]
     },
     "execution_count": 110,
     "metadata": {},
     "output_type": "execute_result"
    }
   ],
   "source": [
    "[l[i](x) for i,x in zip([0,1,2],[100,200,300])]"
   ]
  },
  {
   "cell_type": "markdown",
   "id": "1d693e48-1ce3-4fb2-af8d-75f1a01cfad4",
   "metadata": {},
   "source": [
    "`-` **종합: 리스트컴프리헨션과 비교하면 (1) 반복인덱스를 쓰지 않는 장점이 있는 반면 (2) 좀 더 제약적으로 사용할 수밖에 없다는 단점이 있음**"
   ]
  },
  {
   "cell_type": "markdown",
   "id": "8ee5f053-44c2-43e8-89bc-bcba3e9e99b9",
   "metadata": {},
   "source": [
    "### 애드워드 터프티"
   ]
  },
  {
   "cell_type": "markdown",
   "id": "80e6e7fc-c691-405b-9eab-42a16f866e28",
   "metadata": {},
   "source": [
    "`-` 터프티의 이론중 백미: 엄격한 미니멀리즘 \n",
    "- 최소한의 잉크로 많은 정보를 전달할 수 있다면 그것이 바로 좋은 그래프이다. \n",
    "- 작은 지면 내에서 잉크를 최대한 적게 써서 짧은 시간 안에 많은 영감을 주어야 한다. "
   ]
  },
  {
   "cell_type": "markdown",
   "id": "cef93e6f-2fba-475e-8110-2c01dd1a4a72",
   "metadata": {},
   "source": [
    "`-` 데이터-잉크비: 데이터를 표현하는데 들아가는 잉크의 양 / 그래픽을 인쇄하는데 들어가는 잉크의 총량"
   ]
  },
  {
   "cell_type": "markdown",
   "id": "6bee1ce2-89b9-4a2b-9d4c-a45f67b5ee7e",
   "metadata": {},
   "source": [
    "`-` 차트정크 (나이젤홈즈의 그래프)\n",
    "=> 상당히 좋지 않은 차트를 의미함"
   ]
  },
  {
   "cell_type": "markdown",
   "id": "e1220974-0973-4096-aa61-67d080df49f2",
   "metadata": {},
   "source": [
    "![](https://github.com/guebin/2021DV/blob/master/_notebooks/2021-10-06-fig1.jpeg?raw=true \"그림1: <타임>에 수록된 나이젤홈즈의 작품\")"
   ]
  },
  {
   "cell_type": "markdown",
   "id": "ac1b71b5-7585-4774-bd10-2f44115ca329",
   "metadata": {},
   "source": [
    "`-` 별로인 그래프 (왼쪽) / 우수한 그래프 오른쪽 "
   ]
  },
  {
   "cell_type": "markdown",
   "id": "f9bc99f2-bcde-45c4-9c4d-22553dc2c0d2",
   "metadata": {},
   "source": [
    "![](https://github.com/guebin/2021DV/blob/master/_notebooks/2021-10-05-fig2.jpeg?raw=true)"
   ]
  },
  {
   "cell_type": "markdown",
   "id": "cda18d07-1f29-4ae7-931a-6220c0e1ecf1",
   "metadata": {},
   "source": [
    "`-` 별로인 그래프 (왼쪽) / 우수한 그래프 오른쪽 "
   ]
  },
  {
   "cell_type": "markdown",
   "id": "060cbc6f-be6c-4390-9692-78bf2c7a2b58",
   "metadata": {},
   "source": [
    "![](https://github.com/guebin/2021DV/blob/master/_notebooks/2021-10-05-fig3.jpeg?raw=true)"
   ]
  },
  {
   "cell_type": "markdown",
   "id": "38722966-d7cd-4d8b-a8c5-1ac1dc41042f",
   "metadata": {},
   "source": [
    "`-` 별로인 그래프 (왼쪽) / 우수한 그래프 오른쪽 "
   ]
  },
  {
   "cell_type": "markdown",
   "id": "1788debb-38c3-48a9-bcc6-0809eeeffc73",
   "metadata": {},
   "source": [
    "![](https://github.com/guebin/2021DV/blob/master/_notebooks/2021-10-05-fig4.jpeg?raw=true)"
   ]
  },
  {
   "cell_type": "markdown",
   "id": "9972f974-2881-4a93-8d62-13638f087d83",
   "metadata": {},
   "source": [
    "### 찰스미나드의 도표 (인류역사상 가장 훌륭한 시각화) "
   ]
  },
  {
   "cell_type": "markdown",
   "id": "726dc122-08e1-49b6-9c2d-bc714c9d8279",
   "metadata": {},
   "source": [
    "![](https://upload.wikimedia.org/wikipedia/commons/2/29/Minard.png)"
   ]
  },
  {
   "cell_type": "markdown",
   "id": "2861c92b-0944-4930-bab9-25e03f512066",
   "metadata": {},
   "source": [
    "- 군대의 크기, 2차원 평면상의 위치, 군대의 이동방향, 모스코바에서 퇴각하는 동안의 여러날짜, 온도 $\\to$ 6차원의 변수"
   ]
  },
  {
   "cell_type": "markdown",
   "id": "135e66c3-63c6-4aca-b958-83c8b045385d",
   "metadata": {},
   "source": [
    "`-` 왜 우수한 그래프일까? \n",
    "- 자료를 파악하는 기법은 최근까지도 산점도, 막대그래프, 라인플랏에 의존 \n",
    "- 이러한 플랏의 단점은 고차원의 자료를 분석하기 어렵다는 것임 \n",
    "- 미나드는 여러그램을 그리는 방법 대신에 한 그림에서 패널을 늘리는 방법을 선택함. "
   ]
  },
  {
   "cell_type": "markdown",
   "id": "c8300d67-77b3-4ffc-9334-37013831e88c",
   "metadata": {},
   "source": [
    "### 예제"
   ]
  },
  {
   "cell_type": "code",
   "execution_count": 113,
   "id": "f48d38e8-6510-4483-9d63-db0ade10631e",
   "metadata": {},
   "outputs": [],
   "source": [
    "import pandas as pd\n",
    "x=[44,48,49,58,62,68,69,70,76,79] ## 몸무게 \n",
    "y=[159,160,162,165,167,162,165,175,165,172] ## 키\n",
    "g= 'f','f','f','f','m','f','m','m','m','m'\n",
    "df=pd.DataFrame({'w':x,'h':y,'g':g})"
   ]
  },
  {
   "cell_type": "code",
   "execution_count": 114,
   "id": "87ac8369-45d5-40ca-97d0-dc111e985c82",
   "metadata": {},
   "outputs": [
    {
     "data": {
      "text/html": [
       "<div>\n",
       "<style scoped>\n",
       "    .dataframe tbody tr th:only-of-type {\n",
       "        vertical-align: middle;\n",
       "    }\n",
       "\n",
       "    .dataframe tbody tr th {\n",
       "        vertical-align: top;\n",
       "    }\n",
       "\n",
       "    .dataframe thead th {\n",
       "        text-align: right;\n",
       "    }\n",
       "</style>\n",
       "<table border=\"1\" class=\"dataframe\">\n",
       "  <thead>\n",
       "    <tr style=\"text-align: right;\">\n",
       "      <th></th>\n",
       "      <th>w</th>\n",
       "      <th>h</th>\n",
       "      <th>g</th>\n",
       "    </tr>\n",
       "  </thead>\n",
       "  <tbody>\n",
       "    <tr>\n",
       "      <th>0</th>\n",
       "      <td>44</td>\n",
       "      <td>159</td>\n",
       "      <td>f</td>\n",
       "    </tr>\n",
       "    <tr>\n",
       "      <th>1</th>\n",
       "      <td>48</td>\n",
       "      <td>160</td>\n",
       "      <td>f</td>\n",
       "    </tr>\n",
       "    <tr>\n",
       "      <th>2</th>\n",
       "      <td>49</td>\n",
       "      <td>162</td>\n",
       "      <td>f</td>\n",
       "    </tr>\n",
       "    <tr>\n",
       "      <th>3</th>\n",
       "      <td>58</td>\n",
       "      <td>165</td>\n",
       "      <td>f</td>\n",
       "    </tr>\n",
       "    <tr>\n",
       "      <th>4</th>\n",
       "      <td>62</td>\n",
       "      <td>167</td>\n",
       "      <td>m</td>\n",
       "    </tr>\n",
       "    <tr>\n",
       "      <th>5</th>\n",
       "      <td>68</td>\n",
       "      <td>162</td>\n",
       "      <td>f</td>\n",
       "    </tr>\n",
       "    <tr>\n",
       "      <th>6</th>\n",
       "      <td>69</td>\n",
       "      <td>165</td>\n",
       "      <td>m</td>\n",
       "    </tr>\n",
       "    <tr>\n",
       "      <th>7</th>\n",
       "      <td>70</td>\n",
       "      <td>175</td>\n",
       "      <td>m</td>\n",
       "    </tr>\n",
       "    <tr>\n",
       "      <th>8</th>\n",
       "      <td>76</td>\n",
       "      <td>165</td>\n",
       "      <td>m</td>\n",
       "    </tr>\n",
       "    <tr>\n",
       "      <th>9</th>\n",
       "      <td>79</td>\n",
       "      <td>172</td>\n",
       "      <td>m</td>\n",
       "    </tr>\n",
       "  </tbody>\n",
       "</table>\n",
       "</div>"
      ],
      "text/plain": [
       "    w    h  g\n",
       "0  44  159  f\n",
       "1  48  160  f\n",
       "2  49  162  f\n",
       "3  58  165  f\n",
       "4  62  167  m\n",
       "5  68  162  f\n",
       "6  69  165  m\n",
       "7  70  175  m\n",
       "8  76  165  m\n",
       "9  79  172  m"
      ]
     },
     "execution_count": 114,
     "metadata": {},
     "output_type": "execute_result"
    }
   ],
   "source": [
    "df"
   ]
  },
  {
   "cell_type": "markdown",
   "id": "604e6dfc-77c1-4ecb-91fe-010453a19e0a",
   "metadata": {},
   "source": [
    "`-` 미나드의 접근방법 "
   ]
  },
  {
   "cell_type": "code",
   "execution_count": 117,
   "id": "31f61795-2aca-4cbb-a5c0-b18c1eedaaf6",
   "metadata": {},
   "outputs": [
    {
     "data": {
      "text/plain": [
       "<AxesSubplot:xlabel='w', ylabel='h'>"
      ]
     },
     "execution_count": 117,
     "metadata": {},
     "output_type": "execute_result"
    },
    {
     "data": {
      "image/png": "[encoded data removed]",
      "text/plain": [
       "<Figure size 432x288 with 1 Axes>"
      ]
     },
     "metadata": {
      "needs_background": "light"
     },
     "output_type": "display_data"
    }
   ],
   "source": [
    "import seaborn as sns\n",
    "sns.scatterplot(data=df,x='w',y='h',hue='g')"
   ]
  },
  {
   "cell_type": "markdown",
   "id": "5af6a237-853b-418b-aabc-7ebb30240c23",
   "metadata": {},
   "source": [
    "아래 셀은 지양하자"
   ]
  },
  {
   "cell_type": "code",
   "execution_count": 120,
   "id": "6a4eae56-0504-488c-9a4a-cfb23c6e5c00",
   "metadata": {},
   "outputs": [
    {
     "data": {
      "text/plain": [
       "<seaborn.axisgrid.FacetGrid at 0x1ea09b30220>"
      ]
     },
     "execution_count": 120,
     "metadata": {},
     "output_type": "execute_result"
    },
    {
     "data": {
      "image/png": "[encoded data removed]",
      "text/plain": [
       "<Figure size 432x216 with 2 Axes>"
      ]
     },
     "metadata": {
      "needs_background": "light"
     },
     "output_type": "display_data"
    }
   ],
   "source": [
    "figs = sns.FacetGrid(df,col='g')\n",
    "figs.map(sns.scatterplot,'w','h') "
   ]
  },
  {
   "cell_type": "markdown",
   "id": "84d65ba1-d603-4fa7-855f-262be479c36a",
   "metadata": {},
   "source": [
    "`-` 생각보다 데이터가 정리된 형태에 따라서 시각화에 대한 사고방식이 달라진다. 아래와 같은 자료를 받았다고 하자. "
   ]
  },
  {
   "cell_type": "code",
   "execution_count": 122,
   "id": "affe8f00-2234-4d00-b903-9b760845c345",
   "metadata": {},
   "outputs": [
    {
     "data": {
      "text/html": [
       "<div>\n",
       "<style scoped>\n",
       "    .dataframe tbody tr th:only-of-type {\n",
       "        vertical-align: middle;\n",
       "    }\n",
       "\n",
       "    .dataframe tbody tr th {\n",
       "        vertical-align: top;\n",
       "    }\n",
       "\n",
       "    .dataframe thead th {\n",
       "        text-align: right;\n",
       "    }\n",
       "</style>\n",
       "<table border=\"1\" class=\"dataframe\">\n",
       "  <thead>\n",
       "    <tr style=\"text-align: right;\">\n",
       "      <th></th>\n",
       "      <th>w</th>\n",
       "      <th>h</th>\n",
       "      <th>g</th>\n",
       "    </tr>\n",
       "  </thead>\n",
       "  <tbody>\n",
       "    <tr>\n",
       "      <th>0</th>\n",
       "      <td>44</td>\n",
       "      <td>159</td>\n",
       "      <td>f</td>\n",
       "    </tr>\n",
       "    <tr>\n",
       "      <th>1</th>\n",
       "      <td>48</td>\n",
       "      <td>160</td>\n",
       "      <td>f</td>\n",
       "    </tr>\n",
       "    <tr>\n",
       "      <th>2</th>\n",
       "      <td>49</td>\n",
       "      <td>162</td>\n",
       "      <td>f</td>\n",
       "    </tr>\n",
       "    <tr>\n",
       "      <th>3</th>\n",
       "      <td>58</td>\n",
       "      <td>165</td>\n",
       "      <td>f</td>\n",
       "    </tr>\n",
       "    <tr>\n",
       "      <th>4</th>\n",
       "      <td>62</td>\n",
       "      <td>167</td>\n",
       "      <td>m</td>\n",
       "    </tr>\n",
       "    <tr>\n",
       "      <th>5</th>\n",
       "      <td>68</td>\n",
       "      <td>162</td>\n",
       "      <td>f</td>\n",
       "    </tr>\n",
       "    <tr>\n",
       "      <th>6</th>\n",
       "      <td>69</td>\n",
       "      <td>165</td>\n",
       "      <td>m</td>\n",
       "    </tr>\n",
       "    <tr>\n",
       "      <th>7</th>\n",
       "      <td>70</td>\n",
       "      <td>175</td>\n",
       "      <td>m</td>\n",
       "    </tr>\n",
       "    <tr>\n",
       "      <th>8</th>\n",
       "      <td>76</td>\n",
       "      <td>165</td>\n",
       "      <td>m</td>\n",
       "    </tr>\n",
       "    <tr>\n",
       "      <th>9</th>\n",
       "      <td>79</td>\n",
       "      <td>172</td>\n",
       "      <td>m</td>\n",
       "    </tr>\n",
       "  </tbody>\n",
       "</table>\n",
       "</div>"
      ],
      "text/plain": [
       "    w    h  g\n",
       "0  44  159  f\n",
       "1  48  160  f\n",
       "2  49  162  f\n",
       "3  58  165  f\n",
       "4  62  167  m\n",
       "5  68  162  f\n",
       "6  69  165  m\n",
       "7  70  175  m\n",
       "8  76  165  m\n",
       "9  79  172  m"
      ]
     },
     "execution_count": 122,
     "metadata": {},
     "output_type": "execute_result"
    }
   ],
   "source": [
    "df"
   ]
  },
  {
   "cell_type": "code",
   "execution_count": 125,
   "id": "63c46f16-b9a5-4cf2-a32b-cd08b5fe6ab5",
   "metadata": {},
   "outputs": [],
   "source": [
    "df1=df.query(\"g =='f'\")[['w','h']] ## 여성.csv \n",
    "df2=df.query(\"g =='m'\")[['w','h']] ## 남성.csv "
   ]
  },
  {
   "cell_type": "code",
   "execution_count": 126,
   "id": "fa65077b-6d43-406c-a769-5ab41ca78743",
   "metadata": {},
   "outputs": [
    {
     "data": {
      "text/html": [
       "<div>\n",
       "<style scoped>\n",
       "    .dataframe tbody tr th:only-of-type {\n",
       "        vertical-align: middle;\n",
       "    }\n",
       "\n",
       "    .dataframe tbody tr th {\n",
       "        vertical-align: top;\n",
       "    }\n",
       "\n",
       "    .dataframe thead th {\n",
       "        text-align: right;\n",
       "    }\n",
       "</style>\n",
       "<table border=\"1\" class=\"dataframe\">\n",
       "  <thead>\n",
       "    <tr style=\"text-align: right;\">\n",
       "      <th></th>\n",
       "      <th>w</th>\n",
       "      <th>h</th>\n",
       "    </tr>\n",
       "  </thead>\n",
       "  <tbody>\n",
       "    <tr>\n",
       "      <th>0</th>\n",
       "      <td>44</td>\n",
       "      <td>159</td>\n",
       "    </tr>\n",
       "    <tr>\n",
       "      <th>1</th>\n",
       "      <td>48</td>\n",
       "      <td>160</td>\n",
       "    </tr>\n",
       "    <tr>\n",
       "      <th>2</th>\n",
       "      <td>49</td>\n",
       "      <td>162</td>\n",
       "    </tr>\n",
       "    <tr>\n",
       "      <th>3</th>\n",
       "      <td>58</td>\n",
       "      <td>165</td>\n",
       "    </tr>\n",
       "    <tr>\n",
       "      <th>5</th>\n",
       "      <td>68</td>\n",
       "      <td>162</td>\n",
       "    </tr>\n",
       "  </tbody>\n",
       "</table>\n",
       "</div>"
      ],
      "text/plain": [
       "    w    h\n",
       "0  44  159\n",
       "1  48  160\n",
       "2  49  162\n",
       "3  58  165\n",
       "5  68  162"
      ]
     },
     "execution_count": 126,
     "metadata": {},
     "output_type": "execute_result"
    }
   ],
   "source": [
    "df1"
   ]
  },
  {
   "cell_type": "code",
   "execution_count": 127,
   "id": "cfb56f69-7b01-46a0-b3a7-584c34200829",
   "metadata": {},
   "outputs": [
    {
     "data": {
      "text/html": [
       "<div>\n",
       "<style scoped>\n",
       "    .dataframe tbody tr th:only-of-type {\n",
       "        vertical-align: middle;\n",
       "    }\n",
       "\n",
       "    .dataframe tbody tr th {\n",
       "        vertical-align: top;\n",
       "    }\n",
       "\n",
       "    .dataframe thead th {\n",
       "        text-align: right;\n",
       "    }\n",
       "</style>\n",
       "<table border=\"1\" class=\"dataframe\">\n",
       "  <thead>\n",
       "    <tr style=\"text-align: right;\">\n",
       "      <th></th>\n",
       "      <th>w</th>\n",
       "      <th>h</th>\n",
       "    </tr>\n",
       "  </thead>\n",
       "  <tbody>\n",
       "    <tr>\n",
       "      <th>4</th>\n",
       "      <td>62</td>\n",
       "      <td>167</td>\n",
       "    </tr>\n",
       "    <tr>\n",
       "      <th>6</th>\n",
       "      <td>69</td>\n",
       "      <td>165</td>\n",
       "    </tr>\n",
       "    <tr>\n",
       "      <th>7</th>\n",
       "      <td>70</td>\n",
       "      <td>175</td>\n",
       "    </tr>\n",
       "    <tr>\n",
       "      <th>8</th>\n",
       "      <td>76</td>\n",
       "      <td>165</td>\n",
       "    </tr>\n",
       "    <tr>\n",
       "      <th>9</th>\n",
       "      <td>79</td>\n",
       "      <td>172</td>\n",
       "    </tr>\n",
       "  </tbody>\n",
       "</table>\n",
       "</div>"
      ],
      "text/plain": [
       "    w    h\n",
       "4  62  167\n",
       "6  69  165\n",
       "7  70  175\n",
       "8  76  165\n",
       "9  79  172"
      ]
     },
     "execution_count": 127,
     "metadata": {},
     "output_type": "execute_result"
    }
   ],
   "source": [
    "df2"
   ]
  },
  {
   "cell_type": "markdown",
   "id": "0b592237-34cd-45e3-aed9-94146980752e",
   "metadata": {},
   "source": [
    "`-` 데이터프레임을 바꿀 생각을 하는게 쉽지 않다. "
   ]
  },
  {
   "cell_type": "markdown",
   "id": "3f9b2c1a-f06c-4de0-9a9b-10c369f5d0e6",
   "metadata": {},
   "source": [
    "(방법1)"
   ]
  },
  {
   "cell_type": "code",
   "execution_count": 128,
   "id": "374b0ef7-e857-46fb-8bc2-48f711929d0a",
   "metadata": {},
   "outputs": [],
   "source": [
    "df1['g']= 'f' "
   ]
  },
  {
   "cell_type": "code",
   "execution_count": 129,
   "id": "f794eebe-7a8d-480e-926d-dc1a03102e4f",
   "metadata": {},
   "outputs": [
    {
     "data": {
      "text/html": [
       "<div>\n",
       "<style scoped>\n",
       "    .dataframe tbody tr th:only-of-type {\n",
       "        vertical-align: middle;\n",
       "    }\n",
       "\n",
       "    .dataframe tbody tr th {\n",
       "        vertical-align: top;\n",
       "    }\n",
       "\n",
       "    .dataframe thead th {\n",
       "        text-align: right;\n",
       "    }\n",
       "</style>\n",
       "<table border=\"1\" class=\"dataframe\">\n",
       "  <thead>\n",
       "    <tr style=\"text-align: right;\">\n",
       "      <th></th>\n",
       "      <th>w</th>\n",
       "      <th>h</th>\n",
       "      <th>g</th>\n",
       "    </tr>\n",
       "  </thead>\n",
       "  <tbody>\n",
       "    <tr>\n",
       "      <th>0</th>\n",
       "      <td>44</td>\n",
       "      <td>159</td>\n",
       "      <td>f</td>\n",
       "    </tr>\n",
       "    <tr>\n",
       "      <th>1</th>\n",
       "      <td>48</td>\n",
       "      <td>160</td>\n",
       "      <td>f</td>\n",
       "    </tr>\n",
       "    <tr>\n",
       "      <th>2</th>\n",
       "      <td>49</td>\n",
       "      <td>162</td>\n",
       "      <td>f</td>\n",
       "    </tr>\n",
       "    <tr>\n",
       "      <th>3</th>\n",
       "      <td>58</td>\n",
       "      <td>165</td>\n",
       "      <td>f</td>\n",
       "    </tr>\n",
       "    <tr>\n",
       "      <th>5</th>\n",
       "      <td>68</td>\n",
       "      <td>162</td>\n",
       "      <td>f</td>\n",
       "    </tr>\n",
       "  </tbody>\n",
       "</table>\n",
       "</div>"
      ],
      "text/plain": [
       "    w    h  g\n",
       "0  44  159  f\n",
       "1  48  160  f\n",
       "2  49  162  f\n",
       "3  58  165  f\n",
       "5  68  162  f"
      ]
     },
     "execution_count": 129,
     "metadata": {},
     "output_type": "execute_result"
    }
   ],
   "source": [
    "df1"
   ]
  },
  {
   "cell_type": "code",
   "execution_count": 130,
   "id": "064c4f5f-023f-4325-bfd0-3d20b0a2c64a",
   "metadata": {},
   "outputs": [],
   "source": [
    "df2['g']= 'm'"
   ]
  },
  {
   "cell_type": "code",
   "execution_count": 131,
   "id": "0a21d229-49cb-4be2-90dd-06de95be9e57",
   "metadata": {},
   "outputs": [
    {
     "data": {
      "text/html": [
       "<div>\n",
       "<style scoped>\n",
       "    .dataframe tbody tr th:only-of-type {\n",
       "        vertical-align: middle;\n",
       "    }\n",
       "\n",
       "    .dataframe tbody tr th {\n",
       "        vertical-align: top;\n",
       "    }\n",
       "\n",
       "    .dataframe thead th {\n",
       "        text-align: right;\n",
       "    }\n",
       "</style>\n",
       "<table border=\"1\" class=\"dataframe\">\n",
       "  <thead>\n",
       "    <tr style=\"text-align: right;\">\n",
       "      <th></th>\n",
       "      <th>w</th>\n",
       "      <th>h</th>\n",
       "      <th>g</th>\n",
       "    </tr>\n",
       "  </thead>\n",
       "  <tbody>\n",
       "    <tr>\n",
       "      <th>4</th>\n",
       "      <td>62</td>\n",
       "      <td>167</td>\n",
       "      <td>m</td>\n",
       "    </tr>\n",
       "    <tr>\n",
       "      <th>6</th>\n",
       "      <td>69</td>\n",
       "      <td>165</td>\n",
       "      <td>m</td>\n",
       "    </tr>\n",
       "    <tr>\n",
       "      <th>7</th>\n",
       "      <td>70</td>\n",
       "      <td>175</td>\n",
       "      <td>m</td>\n",
       "    </tr>\n",
       "    <tr>\n",
       "      <th>8</th>\n",
       "      <td>76</td>\n",
       "      <td>165</td>\n",
       "      <td>m</td>\n",
       "    </tr>\n",
       "    <tr>\n",
       "      <th>9</th>\n",
       "      <td>79</td>\n",
       "      <td>172</td>\n",
       "      <td>m</td>\n",
       "    </tr>\n",
       "  </tbody>\n",
       "</table>\n",
       "</div>"
      ],
      "text/plain": [
       "    w    h  g\n",
       "4  62  167  m\n",
       "6  69  165  m\n",
       "7  70  175  m\n",
       "8  76  165  m\n",
       "9  79  172  m"
      ]
     },
     "execution_count": 131,
     "metadata": {},
     "output_type": "execute_result"
    }
   ],
   "source": [
    "df2"
   ]
  },
  {
   "cell_type": "code",
   "execution_count": 132,
   "id": "34aa7e90-eead-487c-a498-b769a3a68ab4",
   "metadata": {},
   "outputs": [
    {
     "data": {
      "text/html": [
       "<div>\n",
       "<style scoped>\n",
       "    .dataframe tbody tr th:only-of-type {\n",
       "        vertical-align: middle;\n",
       "    }\n",
       "\n",
       "    .dataframe tbody tr th {\n",
       "        vertical-align: top;\n",
       "    }\n",
       "\n",
       "    .dataframe thead th {\n",
       "        text-align: right;\n",
       "    }\n",
       "</style>\n",
       "<table border=\"1\" class=\"dataframe\">\n",
       "  <thead>\n",
       "    <tr style=\"text-align: right;\">\n",
       "      <th></th>\n",
       "      <th>w</th>\n",
       "      <th>h</th>\n",
       "      <th>g</th>\n",
       "    </tr>\n",
       "  </thead>\n",
       "  <tbody>\n",
       "    <tr>\n",
       "      <th>0</th>\n",
       "      <td>44</td>\n",
       "      <td>159</td>\n",
       "      <td>f</td>\n",
       "    </tr>\n",
       "    <tr>\n",
       "      <th>1</th>\n",
       "      <td>48</td>\n",
       "      <td>160</td>\n",
       "      <td>f</td>\n",
       "    </tr>\n",
       "    <tr>\n",
       "      <th>2</th>\n",
       "      <td>49</td>\n",
       "      <td>162</td>\n",
       "      <td>f</td>\n",
       "    </tr>\n",
       "    <tr>\n",
       "      <th>3</th>\n",
       "      <td>58</td>\n",
       "      <td>165</td>\n",
       "      <td>f</td>\n",
       "    </tr>\n",
       "    <tr>\n",
       "      <th>5</th>\n",
       "      <td>68</td>\n",
       "      <td>162</td>\n",
       "      <td>f</td>\n",
       "    </tr>\n",
       "    <tr>\n",
       "      <th>4</th>\n",
       "      <td>62</td>\n",
       "      <td>167</td>\n",
       "      <td>m</td>\n",
       "    </tr>\n",
       "    <tr>\n",
       "      <th>6</th>\n",
       "      <td>69</td>\n",
       "      <td>165</td>\n",
       "      <td>m</td>\n",
       "    </tr>\n",
       "    <tr>\n",
       "      <th>7</th>\n",
       "      <td>70</td>\n",
       "      <td>175</td>\n",
       "      <td>m</td>\n",
       "    </tr>\n",
       "    <tr>\n",
       "      <th>8</th>\n",
       "      <td>76</td>\n",
       "      <td>165</td>\n",
       "      <td>m</td>\n",
       "    </tr>\n",
       "    <tr>\n",
       "      <th>9</th>\n",
       "      <td>79</td>\n",
       "      <td>172</td>\n",
       "      <td>m</td>\n",
       "    </tr>\n",
       "  </tbody>\n",
       "</table>\n",
       "</div>"
      ],
      "text/plain": [
       "    w    h  g\n",
       "0  44  159  f\n",
       "1  48  160  f\n",
       "2  49  162  f\n",
       "3  58  165  f\n",
       "5  68  162  f\n",
       "4  62  167  m\n",
       "6  69  165  m\n",
       "7  70  175  m\n",
       "8  76  165  m\n",
       "9  79  172  m"
      ]
     },
     "execution_count": 132,
     "metadata": {},
     "output_type": "execute_result"
    }
   ],
   "source": [
    "pd.concat([df1,df2])"
   ]
  },
  {
   "cell_type": "markdown",
   "id": "381c5721-8684-4aa3-87b2-69062aa0e49e",
   "metadata": {},
   "source": [
    "(방법2)"
   ]
  },
  {
   "cell_type": "code",
   "execution_count": 134,
   "id": "3067c4db-f1fb-4876-b538-2689cb1122b6",
   "metadata": {},
   "outputs": [],
   "source": [
    "df1=df.query(\"g =='f'\")[['w','h']] ## 여성.csv \n",
    "df2=df.query(\"g =='m'\")[['w','h']] ## 남성.csv "
   ]
  },
  {
   "cell_type": "code",
   "execution_count": 137,
   "id": "1b323878-42f9-4752-a7dd-1b49dce74904",
   "metadata": {},
   "outputs": [
    {
     "data": {
      "text/html": [
       "<div>\n",
       "<style scoped>\n",
       "    .dataframe tbody tr th:only-of-type {\n",
       "        vertical-align: middle;\n",
       "    }\n",
       "\n",
       "    .dataframe tbody tr th {\n",
       "        vertical-align: top;\n",
       "    }\n",
       "\n",
       "    .dataframe thead th {\n",
       "        text-align: right;\n",
       "    }\n",
       "</style>\n",
       "<table border=\"1\" class=\"dataframe\">\n",
       "  <thead>\n",
       "    <tr style=\"text-align: right;\">\n",
       "      <th></th>\n",
       "      <th></th>\n",
       "      <th>w</th>\n",
       "      <th>h</th>\n",
       "    </tr>\n",
       "  </thead>\n",
       "  <tbody>\n",
       "    <tr>\n",
       "      <th rowspan=\"5\" valign=\"top\">f</th>\n",
       "      <th>0</th>\n",
       "      <td>44</td>\n",
       "      <td>159</td>\n",
       "    </tr>\n",
       "    <tr>\n",
       "      <th>1</th>\n",
       "      <td>48</td>\n",
       "      <td>160</td>\n",
       "    </tr>\n",
       "    <tr>\n",
       "      <th>2</th>\n",
       "      <td>49</td>\n",
       "      <td>162</td>\n",
       "    </tr>\n",
       "    <tr>\n",
       "      <th>3</th>\n",
       "      <td>58</td>\n",
       "      <td>165</td>\n",
       "    </tr>\n",
       "    <tr>\n",
       "      <th>5</th>\n",
       "      <td>68</td>\n",
       "      <td>162</td>\n",
       "    </tr>\n",
       "    <tr>\n",
       "      <th rowspan=\"5\" valign=\"top\">m</th>\n",
       "      <th>4</th>\n",
       "      <td>62</td>\n",
       "      <td>167</td>\n",
       "    </tr>\n",
       "    <tr>\n",
       "      <th>6</th>\n",
       "      <td>69</td>\n",
       "      <td>165</td>\n",
       "    </tr>\n",
       "    <tr>\n",
       "      <th>7</th>\n",
       "      <td>70</td>\n",
       "      <td>175</td>\n",
       "    </tr>\n",
       "    <tr>\n",
       "      <th>8</th>\n",
       "      <td>76</td>\n",
       "      <td>165</td>\n",
       "    </tr>\n",
       "    <tr>\n",
       "      <th>9</th>\n",
       "      <td>79</td>\n",
       "      <td>172</td>\n",
       "    </tr>\n",
       "  </tbody>\n",
       "</table>\n",
       "</div>"
      ],
      "text/plain": [
       "      w    h\n",
       "f 0  44  159\n",
       "  1  48  160\n",
       "  2  49  162\n",
       "  3  58  165\n",
       "  5  68  162\n",
       "m 4  62  167\n",
       "  6  69  165\n",
       "  7  70  175\n",
       "  8  76  165\n",
       "  9  79  172"
      ]
     },
     "execution_count": 137,
     "metadata": {},
     "output_type": "execute_result"
    }
   ],
   "source": [
    "df_=pd.concat([df1,df2],keys=['f','m'])\n",
    "df_"
   ]
  },
  {
   "cell_type": "markdown",
   "id": "a159b57d-45a5-4514-a693-a30910d1c291",
   "metadata": {},
   "source": [
    "---"
   ]
  },
  {
   "cell_type": "code",
   "execution_count": 140,
   "id": "acfd6af0-2332-4e94-a788-b08447865a8a",
   "metadata": {},
   "outputs": [
    {
     "data": {
      "text/plain": [
       "MultiIndex([('f', 0),\n",
       "            ('f', 1),\n",
       "            ('f', 2),\n",
       "            ('f', 3),\n",
       "            ('f', 5),\n",
       "            ('m', 4),\n",
       "            ('m', 6),\n",
       "            ('m', 7),\n",
       "            ('m', 8),\n",
       "            ('m', 9)],\n",
       "           )"
      ]
     },
     "execution_count": 140,
     "metadata": {},
     "output_type": "execute_result"
    }
   ],
   "source": [
    "df_.index"
   ]
  },
  {
   "cell_type": "markdown",
   "id": "e147a390-0d1e-46c9-a729-e844644727ce",
   "metadata": {},
   "source": [
    "지금은 index가 튜플형태임"
   ]
  },
  {
   "cell_type": "code",
   "execution_count": 147,
   "id": "22327d49-64dc-4f19-909e-8ba924af68ff",
   "metadata": {},
   "outputs": [
    {
     "data": {
      "text/plain": [
       "w     58\n",
       "h    165\n",
       "Name: (f, 3), dtype: int64"
      ]
     },
     "execution_count": 147,
     "metadata": {},
     "output_type": "execute_result"
    }
   ],
   "source": [
    "df_.loc[('f',3)]"
   ]
  },
  {
   "cell_type": "markdown",
   "id": "76fd6ab9-2dde-4558-85f5-6a6db1f3875f",
   "metadata": {},
   "source": [
    "---"
   ]
  },
  {
   "cell_type": "code",
   "execution_count": 149,
   "id": "ad3fe332-dcfb-4cc3-857e-cbf0ac2a5352",
   "metadata": {},
   "outputs": [
    {
     "data": {
      "text/html": [
       "<div>\n",
       "<style scoped>\n",
       "    .dataframe tbody tr th:only-of-type {\n",
       "        vertical-align: middle;\n",
       "    }\n",
       "\n",
       "    .dataframe tbody tr th {\n",
       "        vertical-align: top;\n",
       "    }\n",
       "\n",
       "    .dataframe thead th {\n",
       "        text-align: right;\n",
       "    }\n",
       "</style>\n",
       "<table border=\"1\" class=\"dataframe\">\n",
       "  <thead>\n",
       "    <tr style=\"text-align: right;\">\n",
       "      <th></th>\n",
       "      <th>level_0</th>\n",
       "      <th>level_1</th>\n",
       "      <th>w</th>\n",
       "      <th>h</th>\n",
       "    </tr>\n",
       "  </thead>\n",
       "  <tbody>\n",
       "    <tr>\n",
       "      <th>0</th>\n",
       "      <td>f</td>\n",
       "      <td>0</td>\n",
       "      <td>44</td>\n",
       "      <td>159</td>\n",
       "    </tr>\n",
       "    <tr>\n",
       "      <th>1</th>\n",
       "      <td>f</td>\n",
       "      <td>1</td>\n",
       "      <td>48</td>\n",
       "      <td>160</td>\n",
       "    </tr>\n",
       "    <tr>\n",
       "      <th>2</th>\n",
       "      <td>f</td>\n",
       "      <td>2</td>\n",
       "      <td>49</td>\n",
       "      <td>162</td>\n",
       "    </tr>\n",
       "    <tr>\n",
       "      <th>3</th>\n",
       "      <td>f</td>\n",
       "      <td>3</td>\n",
       "      <td>58</td>\n",
       "      <td>165</td>\n",
       "    </tr>\n",
       "    <tr>\n",
       "      <th>4</th>\n",
       "      <td>f</td>\n",
       "      <td>5</td>\n",
       "      <td>68</td>\n",
       "      <td>162</td>\n",
       "    </tr>\n",
       "    <tr>\n",
       "      <th>5</th>\n",
       "      <td>m</td>\n",
       "      <td>4</td>\n",
       "      <td>62</td>\n",
       "      <td>167</td>\n",
       "    </tr>\n",
       "    <tr>\n",
       "      <th>6</th>\n",
       "      <td>m</td>\n",
       "      <td>6</td>\n",
       "      <td>69</td>\n",
       "      <td>165</td>\n",
       "    </tr>\n",
       "    <tr>\n",
       "      <th>7</th>\n",
       "      <td>m</td>\n",
       "      <td>7</td>\n",
       "      <td>70</td>\n",
       "      <td>175</td>\n",
       "    </tr>\n",
       "    <tr>\n",
       "      <th>8</th>\n",
       "      <td>m</td>\n",
       "      <td>8</td>\n",
       "      <td>76</td>\n",
       "      <td>165</td>\n",
       "    </tr>\n",
       "    <tr>\n",
       "      <th>9</th>\n",
       "      <td>m</td>\n",
       "      <td>9</td>\n",
       "      <td>79</td>\n",
       "      <td>172</td>\n",
       "    </tr>\n",
       "  </tbody>\n",
       "</table>\n",
       "</div>"
      ],
      "text/plain": [
       "  level_0  level_1   w    h\n",
       "0       f        0  44  159\n",
       "1       f        1  48  160\n",
       "2       f        2  49  162\n",
       "3       f        3  58  165\n",
       "4       f        5  68  162\n",
       "5       m        4  62  167\n",
       "6       m        6  69  165\n",
       "7       m        7  70  175\n",
       "8       m        8  76  165\n",
       "9       m        9  79  172"
      ]
     },
     "execution_count": 149,
     "metadata": {},
     "output_type": "execute_result"
    }
   ],
   "source": [
    "pd.concat([df1,df2],keys=['f','m']).reset_index()"
   ]
  },
  {
   "cell_type": "code",
   "execution_count": 150,
   "id": "4dfdab41-0f0e-49ce-9916-9a7fb1e072d6",
   "metadata": {},
   "outputs": [
    {
     "data": {
      "text/html": [
       "<div>\n",
       "<style scoped>\n",
       "    .dataframe tbody tr th:only-of-type {\n",
       "        vertical-align: middle;\n",
       "    }\n",
       "\n",
       "    .dataframe tbody tr th {\n",
       "        vertical-align: top;\n",
       "    }\n",
       "\n",
       "    .dataframe thead th {\n",
       "        text-align: right;\n",
       "    }\n",
       "</style>\n",
       "<table border=\"1\" class=\"dataframe\">\n",
       "  <thead>\n",
       "    <tr style=\"text-align: right;\">\n",
       "      <th></th>\n",
       "      <th>level_0</th>\n",
       "      <th>w</th>\n",
       "      <th>h</th>\n",
       "    </tr>\n",
       "  </thead>\n",
       "  <tbody>\n",
       "    <tr>\n",
       "      <th>0</th>\n",
       "      <td>f</td>\n",
       "      <td>44</td>\n",
       "      <td>159</td>\n",
       "    </tr>\n",
       "    <tr>\n",
       "      <th>1</th>\n",
       "      <td>f</td>\n",
       "      <td>48</td>\n",
       "      <td>160</td>\n",
       "    </tr>\n",
       "    <tr>\n",
       "      <th>2</th>\n",
       "      <td>f</td>\n",
       "      <td>49</td>\n",
       "      <td>162</td>\n",
       "    </tr>\n",
       "    <tr>\n",
       "      <th>3</th>\n",
       "      <td>f</td>\n",
       "      <td>58</td>\n",
       "      <td>165</td>\n",
       "    </tr>\n",
       "    <tr>\n",
       "      <th>4</th>\n",
       "      <td>f</td>\n",
       "      <td>68</td>\n",
       "      <td>162</td>\n",
       "    </tr>\n",
       "    <tr>\n",
       "      <th>5</th>\n",
       "      <td>m</td>\n",
       "      <td>62</td>\n",
       "      <td>167</td>\n",
       "    </tr>\n",
       "    <tr>\n",
       "      <th>6</th>\n",
       "      <td>m</td>\n",
       "      <td>69</td>\n",
       "      <td>165</td>\n",
       "    </tr>\n",
       "    <tr>\n",
       "      <th>7</th>\n",
       "      <td>m</td>\n",
       "      <td>70</td>\n",
       "      <td>175</td>\n",
       "    </tr>\n",
       "    <tr>\n",
       "      <th>8</th>\n",
       "      <td>m</td>\n",
       "      <td>76</td>\n",
       "      <td>165</td>\n",
       "    </tr>\n",
       "    <tr>\n",
       "      <th>9</th>\n",
       "      <td>m</td>\n",
       "      <td>79</td>\n",
       "      <td>172</td>\n",
       "    </tr>\n",
       "  </tbody>\n",
       "</table>\n",
       "</div>"
      ],
      "text/plain": [
       "  level_0   w    h\n",
       "0       f  44  159\n",
       "1       f  48  160\n",
       "2       f  49  162\n",
       "3       f  58  165\n",
       "4       f  68  162\n",
       "5       m  62  167\n",
       "6       m  69  165\n",
       "7       m  70  175\n",
       "8       m  76  165\n",
       "9       m  79  172"
      ]
     },
     "execution_count": 150,
     "metadata": {},
     "output_type": "execute_result"
    }
   ],
   "source": [
    "pd.concat([df1,df2],keys=['f','m']).reset_index().iloc[:,[0,2,3]]"
   ]
  },
  {
   "cell_type": "code",
   "execution_count": 151,
   "id": "959394fa-f0f3-4ee4-a4c2-e4a04c989c43",
   "metadata": {},
   "outputs": [
    {
     "data": {
      "text/html": [
       "<div>\n",
       "<style scoped>\n",
       "    .dataframe tbody tr th:only-of-type {\n",
       "        vertical-align: middle;\n",
       "    }\n",
       "\n",
       "    .dataframe tbody tr th {\n",
       "        vertical-align: top;\n",
       "    }\n",
       "\n",
       "    .dataframe thead th {\n",
       "        text-align: right;\n",
       "    }\n",
       "</style>\n",
       "<table border=\"1\" class=\"dataframe\">\n",
       "  <thead>\n",
       "    <tr style=\"text-align: right;\">\n",
       "      <th></th>\n",
       "      <th>g</th>\n",
       "      <th>w</th>\n",
       "      <th>h</th>\n",
       "    </tr>\n",
       "  </thead>\n",
       "  <tbody>\n",
       "    <tr>\n",
       "      <th>0</th>\n",
       "      <td>f</td>\n",
       "      <td>44</td>\n",
       "      <td>159</td>\n",
       "    </tr>\n",
       "    <tr>\n",
       "      <th>1</th>\n",
       "      <td>f</td>\n",
       "      <td>48</td>\n",
       "      <td>160</td>\n",
       "    </tr>\n",
       "    <tr>\n",
       "      <th>2</th>\n",
       "      <td>f</td>\n",
       "      <td>49</td>\n",
       "      <td>162</td>\n",
       "    </tr>\n",
       "    <tr>\n",
       "      <th>3</th>\n",
       "      <td>f</td>\n",
       "      <td>58</td>\n",
       "      <td>165</td>\n",
       "    </tr>\n",
       "    <tr>\n",
       "      <th>4</th>\n",
       "      <td>f</td>\n",
       "      <td>68</td>\n",
       "      <td>162</td>\n",
       "    </tr>\n",
       "    <tr>\n",
       "      <th>5</th>\n",
       "      <td>m</td>\n",
       "      <td>62</td>\n",
       "      <td>167</td>\n",
       "    </tr>\n",
       "    <tr>\n",
       "      <th>6</th>\n",
       "      <td>m</td>\n",
       "      <td>69</td>\n",
       "      <td>165</td>\n",
       "    </tr>\n",
       "    <tr>\n",
       "      <th>7</th>\n",
       "      <td>m</td>\n",
       "      <td>70</td>\n",
       "      <td>175</td>\n",
       "    </tr>\n",
       "    <tr>\n",
       "      <th>8</th>\n",
       "      <td>m</td>\n",
       "      <td>76</td>\n",
       "      <td>165</td>\n",
       "    </tr>\n",
       "    <tr>\n",
       "      <th>9</th>\n",
       "      <td>m</td>\n",
       "      <td>79</td>\n",
       "      <td>172</td>\n",
       "    </tr>\n",
       "  </tbody>\n",
       "</table>\n",
       "</div>"
      ],
      "text/plain": [
       "   g   w    h\n",
       "0  f  44  159\n",
       "1  f  48  160\n",
       "2  f  49  162\n",
       "3  f  58  165\n",
       "4  f  68  162\n",
       "5  m  62  167\n",
       "6  m  69  165\n",
       "7  m  70  175\n",
       "8  m  76  165\n",
       "9  m  79  172"
      ]
     },
     "execution_count": 151,
     "metadata": {},
     "output_type": "execute_result"
    }
   ],
   "source": [
    "pd.concat([df1,df2],keys=['f','m']).reset_index().iloc[:,[0,2,3]].rename(columns={'level_0':'g'})"
   ]
  },
  {
   "cell_type": "markdown",
   "id": "0f2c49f0-3e67-4ee2-9168-38db3817b9d1",
   "metadata": {},
   "source": [
    "(방법3)"
   ]
  },
  {
   "cell_type": "code",
   "execution_count": 152,
   "id": "c2104c9f-55d2-4e11-b632-7cbb4701fd85",
   "metadata": {},
   "outputs": [
    {
     "data": {
      "text/html": [
       "<div>\n",
       "<style scoped>\n",
       "    .dataframe tbody tr th:only-of-type {\n",
       "        vertical-align: middle;\n",
       "    }\n",
       "\n",
       "    .dataframe tbody tr th {\n",
       "        vertical-align: top;\n",
       "    }\n",
       "\n",
       "    .dataframe thead th {\n",
       "        text-align: right;\n",
       "    }\n",
       "</style>\n",
       "<table border=\"1\" class=\"dataframe\">\n",
       "  <thead>\n",
       "    <tr style=\"text-align: right;\">\n",
       "      <th></th>\n",
       "      <th>w</th>\n",
       "      <th>h</th>\n",
       "      <th>g</th>\n",
       "    </tr>\n",
       "  </thead>\n",
       "  <tbody>\n",
       "    <tr>\n",
       "      <th>0</th>\n",
       "      <td>44</td>\n",
       "      <td>159</td>\n",
       "      <td>f</td>\n",
       "    </tr>\n",
       "    <tr>\n",
       "      <th>1</th>\n",
       "      <td>48</td>\n",
       "      <td>160</td>\n",
       "      <td>f</td>\n",
       "    </tr>\n",
       "    <tr>\n",
       "      <th>2</th>\n",
       "      <td>49</td>\n",
       "      <td>162</td>\n",
       "      <td>f</td>\n",
       "    </tr>\n",
       "    <tr>\n",
       "      <th>3</th>\n",
       "      <td>58</td>\n",
       "      <td>165</td>\n",
       "      <td>f</td>\n",
       "    </tr>\n",
       "    <tr>\n",
       "      <th>5</th>\n",
       "      <td>68</td>\n",
       "      <td>162</td>\n",
       "      <td>f</td>\n",
       "    </tr>\n",
       "    <tr>\n",
       "      <th>4</th>\n",
       "      <td>62</td>\n",
       "      <td>167</td>\n",
       "      <td>m</td>\n",
       "    </tr>\n",
       "    <tr>\n",
       "      <th>6</th>\n",
       "      <td>69</td>\n",
       "      <td>165</td>\n",
       "      <td>m</td>\n",
       "    </tr>\n",
       "    <tr>\n",
       "      <th>7</th>\n",
       "      <td>70</td>\n",
       "      <td>175</td>\n",
       "      <td>m</td>\n",
       "    </tr>\n",
       "    <tr>\n",
       "      <th>8</th>\n",
       "      <td>76</td>\n",
       "      <td>165</td>\n",
       "      <td>m</td>\n",
       "    </tr>\n",
       "    <tr>\n",
       "      <th>9</th>\n",
       "      <td>79</td>\n",
       "      <td>172</td>\n",
       "      <td>m</td>\n",
       "    </tr>\n",
       "  </tbody>\n",
       "</table>\n",
       "</div>"
      ],
      "text/plain": [
       "    w    h  g\n",
       "0  44  159  f\n",
       "1  48  160  f\n",
       "2  49  162  f\n",
       "3  58  165  f\n",
       "5  68  162  f\n",
       "4  62  167  m\n",
       "6  69  165  m\n",
       "7  70  175  m\n",
       "8  76  165  m\n",
       "9  79  172  m"
      ]
     },
     "execution_count": 152,
     "metadata": {},
     "output_type": "execute_result"
    }
   ],
   "source": [
    "df_1=df.query(\"g=='f'\")\n",
    "df_2=df.query(\"g=='m'\")\n",
    "pd.concat([df_1,df_2])"
   ]
  }
 ],
 "metadata": {
  "kernelspec": {
   "display_name": "Python 3 (ipykernel)",
   "language": "python",
   "name": "python3"
  },
  "language_info": {
   "codemirror_mode": {
    "name": "ipython",
    "version": 3
   },
   "file_extension": ".py",
   "mimetype": "text/x-python",
   "name": "python",
   "nbconvert_exporter": "python",
   "pygments_lexer": "ipython3",
   "version": "3.8.11"
  }
 },
 "nbformat": 4,
 "nbformat_minor": 5
}
