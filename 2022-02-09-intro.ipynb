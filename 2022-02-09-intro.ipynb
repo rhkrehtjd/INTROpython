{
 "cells": [
  {
   "cell_type": "markdown",
   "id": "1d39b125-06af-4236-9993-dad8ef1f532f",
   "metadata": {},
   "source": [
    "# 데커레이터(@)"
   ]
  },
  {
   "cell_type": "markdown",
   "id": "e9ea6927-36a2-4498-b915-7ab5efd45dbf",
   "metadata": {},
   "source": [
    "ref-1) [최규빈 교수님 깃허브](https://miruetoto.github.io/yechan/%ED%8C%8C%EC%9D%B4%EC%8D%AC/2022/02/03/(%EB%85%B8%ED%8A%B8)-%EB%8D%B0%EC%BD%94%EB%A0%88%EC%9D%B4%ED%84%B0-%ED%8C%8C%EC%9D%B4%EC%8D%AC.html)\n",
    "\n",
    "ref-2) [코딩도장 참고 사이트](https://dojang.io/mod/page/view.php?id=2427)"
   ]
  },
  {
   "cell_type": "markdown",
   "id": "59fe1bf0-ba8f-4599-a8f4-8412c794a05e",
   "metadata": {},
   "source": [
    "- 데코레이터는 함수를 장식한다고 할 수 있는데, 도대체 어디에 사용하는 것일까? 데코레이터는 함수를 수정하지 않은 상태에서 추가 기능을 구현할 때 사용한다. 예를 들어서 함수의 시작과 끝을 출력하고 싶다면 다음과 같이 함수 시작, 끝 부분에 print를 넣어주어야 한다."
   ]
  },
  {
   "cell_type": "code",
   "execution_count": 31,
   "id": "db8e5b1c-cda5-4193-a9fc-867723bf975b",
   "metadata": {},
   "outputs": [],
   "source": [
    "def hello():\n",
    "    print('hello 함수 시작')\n",
    "    print('hello')\n",
    "    print('hello 함수 끝')\n",
    "    \n",
    "def world():\n",
    "    print('world 함수 시작')\n",
    "    print('world')\n",
    "    print('world 함수 끝')"
   ]
  },
  {
   "cell_type": "code",
   "execution_count": 32,
   "id": "aca0f12f-eb0e-4164-ab3a-d5a381520614",
   "metadata": {},
   "outputs": [
    {
     "name": "stdout",
     "output_type": "stream",
     "text": [
      "hello 함수 시작\n",
      "hello\n",
      "hello 함수 끝\n"
     ]
    }
   ],
   "source": [
    "hello()"
   ]
  },
  {
   "cell_type": "code",
   "execution_count": 33,
   "id": "37609cd2-8abb-4422-b378-0f45e8e14589",
   "metadata": {},
   "outputs": [
    {
     "name": "stdout",
     "output_type": "stream",
     "text": [
      "world 함수 시작\n",
      "world\n",
      "world 함수 끝\n"
     ]
    }
   ],
   "source": [
    "world()"
   ]
  },
  {
   "cell_type": "markdown",
   "id": "1906f1ac-e3da-4f3a-8a0c-1c759ef661df",
   "metadata": {},
   "source": [
    "- 만약 다른 함수도 시작과 끝을 출력하고 싶다면 함수를 만들 때마다 print를 넣어햐 한다. 따라서 함수가 많아지면 매우 번거로워질 수 있다. 이런 경우에는 데코레이터를 활용하면 편리하다. \n",
    "- 다음은 함수의 시작과 끝을 출력하는 데코레이터이다."
   ]
  },
  {
   "cell_type": "code",
   "execution_count": 30,
   "id": "704e106f-b20c-4dcb-b176-b6eb04f705d8",
   "metadata": {},
   "outputs": [
    {
     "name": "stdout",
     "output_type": "stream",
     "text": [
      "hello 함수 시작\n",
      "hello\n",
      "hello 함수 끝\n",
      "world 함수 시작\n",
      "world\n",
      "world 함수 끝\n"
     ]
    }
   ],
   "source": [
    "def trace(func):                             # 호출할 함수를 매개변수로 받음\n",
    "    def wrapper():                           # 호출할 함수를 감싸는 함수\n",
    "        print(func.__name__, '함수 시작')    # __name__으로 함수 이름 출력\n",
    "        func()                               # 매개변수로 받은 함수를 호출\n",
    "        print(func.__name__, '함수 끝')\n",
    "    return wrapper                           # wrapper 함수 반환\n",
    " \n",
    "def hello():\n",
    "    print('hello')\n",
    "    \n",
    "def world():\n",
    "    print('world')\n",
    "\n",
    "trace_hello = trace(hello)    # 데코레이터에 호출할 함수를 넣음\n",
    "trace_hello()                 # 반환된 함수를 호출\n",
    "trace_world = trace(world)    # 데코레이터에 호출할 함수를 넣음\n",
    "trace_world()                 # 반환된 함수를 호출"
   ]
  },
  {
   "cell_type": "code",
   "execution_count": 34,
   "id": "6ecaa498-da59-47af-ae14-3c014927dc9e",
   "metadata": {},
   "outputs": [
    {
     "data": {
      "text/plain": [
       "function"
      ]
     },
     "execution_count": 34,
     "metadata": {},
     "output_type": "execute_result"
    }
   ],
   "source": [
    "type(trace_hello)"
   ]
  },
  {
   "cell_type": "markdown",
   "id": "9e072f35-1bff-4dbe-bd24-f7b9f2005a42",
   "metadata": {},
   "source": [
    "```python\n",
    "def trace(func):                             \n",
    "        print(func.__name__, '함수 시작')    \n",
    "        func()                               \n",
    "        print(func.__name__, '함수 끝')\n",
    "```\n",
    "- 이렇게 해줘도 된다고 생각했는데 하면 안 되는 이유가 데코레이터의 사용이유 자체가 함수를 장식하는 것, 함수를 수정하지 않은 상태에서 추가 기능을 구현한 함수를 만들고 싶은 것이다. \n",
    "- 그런데 이렇게 수행해주면 trace(hello)수행시에 반환되는 객체는 바로 위 셀처럼 function이 아니게 됨\n",
    "- 따라서 감싸는 함수를 만들어준다음에 return으로 함수 객체를 내보내줘야함"
   ]
  },
  {
   "cell_type": "markdown",
   "id": "403903c3-7e5d-4948-87e4-bc0e3e795c51",
   "metadata": {},
   "source": [
    "- 먼저 데코레이터 trace는 호출할 함수를 매개변수로 받는다.\n",
    "- 즉 함수 안에서 함수를 만들고 반환하는 클로저이다."
   ]
  },
  {
   "cell_type": "markdown",
   "id": "9d754817-5a87-4c10-b230-7fd405de4dac",
   "metadata": {},
   "source": [
    "- 데코레이터를 사용할 때는 trace에 호출할 함수 hello 또는 world를 넣습니다. 그 다음에 데코레이터에서 반환된 함수를 호출한다. 이렇게하면 데코레이터에서 반환된 함수를 호출한다. 이렇게 하면 데코레이터에 인수로 넣은 함수를 호출하고 시작화 끝을 출력한다."
   ]
  },
  {
   "cell_type": "markdown",
   "id": "dd784481-9e4f-472e-abbf-ea18e9579cfd",
   "metadata": {},
   "source": [
    "- 물론 trace에 다른 함수를 넣은 뒤 반환된 함수를 호출하면 해당 함수의 시작과 끝을 출력할 수 있다."
   ]
  },
  {
   "cell_type": "markdown",
   "id": "e40ae020-0b9b-4024-9283-450417158286",
   "metadata": {},
   "source": [
    "---"
   ]
  },
  {
   "cell_type": "markdown",
   "id": "dc481d4d-62e6-4d9c-a50b-7b88bc4eb98d",
   "metadata": {},
   "source": [
    "- @로 데코레이터 사용하기\n",
    "  - 이제 @을 사용하여 좀 더 간편하게 데코레이터를 사용해보자\n",
    "  - 다음과 같이 호출할 함수 위에 @데코레이터 형식으로 지정한다.\n",
    "  ```python\n",
    "  @데코레이터\n",
    "  def 함수이름():\n",
    "  코드\n",
    "  ```"
   ]
  },
  {
   "cell_type": "code",
   "execution_count": 37,
   "id": "9db4778d-001a-49af-a558-6774766a5f18",
   "metadata": {},
   "outputs": [
    {
     "name": "stdout",
     "output_type": "stream",
     "text": [
      "hello 함수 시작\n",
      "hello\n",
      "hello 함수 끝\n",
      "world 함수 시작\n",
      "world\n",
      "world 함수 끝\n"
     ]
    }
   ],
   "source": [
    "def trace(func):                             # 호출할 함수를 매개변수로 받음\n",
    "    def wrapper():\n",
    "        print(func.__name__, '함수 시작')    # __name__으로 함수 이름 출력\n",
    "        func()                               # 매개변수로 받은 함수를 호출\n",
    "        print(func.__name__, '함수 끝')\n",
    "    return wrapper                           # wrapper 함수 반환\n",
    " \n",
    "@trace    # @데코레이터\n",
    "def hello():\n",
    "    print('hello')\n",
    "    \n",
    "@trace    # @데코레이터\n",
    "def world():\n",
    "    print('world')\n",
    "\n",
    "hello()    # 함수를 그대로 호출\n",
    "world()    # 함수를 그대로 호출"
   ]
  },
  {
   "cell_type": "markdown",
   "id": "a72e537e-6f77-48b2-b505-d3f8c2e05a9f",
   "metadata": {},
   "source": [
    "- hello와 world 함수 위에 @trace를 붙인 뒤에 hello와 world 함수를 그대로 호출하면 끝이다"
   ]
  },
  {
   "cell_type": "markdown",
   "id": "a947fab8-1114-44a2-9730-98e719c2a219",
   "metadata": {},
   "source": [
    "- 물론 다른 함수 위에 @trace를 붙인 뒤 함수를 호출하면 해당 함수의 시작과 끝을 출력할 수 있다."
   ]
  },
  {
   "cell_type": "markdown",
   "id": "45b694be-17d5-47aa-b501-32ea485cae12",
   "metadata": {},
   "source": [
    "- 이 데코레이터를 그림으로 표현하면 다음과 같은 모양이 될 수 있다."
   ]
  },
  {
   "attachments": {
    "002aefd9-6c08-4e43-81a5-c25df04c0f1b.png": {
     "image/png": "[encoded data removed]"
    }
   },
   "cell_type": "markdown",
   "id": "605ad458-eccf-428d-b50c-4b43de8569de",
   "metadata": {},
   "source": [
    "- ![image.png](attachment:002aefd9-6c08-4e43-81a5-c25df04c0f1b.png)\n",
    "- ref) [파이썬 코딩 도장](https://dojang.io/mod/page/view.php?id=2427)"
   ]
  },
  {
   "cell_type": "markdown",
   "id": "9eee5e6b-e32d-4733-80ff-1e67c9a6e4d9",
   "metadata": {},
   "source": [
    "- 이렇게 데코레이터는 함수를 감싸는 형태로 구성되어 있다. 따라서 데코레이터는 기존 함수를 수정하지 않으면서 추가 기능을 구현할 때 사용한다."
   ]
  },
  {
   "cell_type": "markdown",
   "id": "759e988b-8359-4ae8-b2dd-80357f18a0d5",
   "metadata": {},
   "source": [
    "---"
   ]
  },
  {
   "cell_type": "markdown",
   "id": "1cac93f4-30f4-49e6-988a-8b7447c5747b",
   "metadata": {},
   "source": [
    "- 데코레이터 여러 개 지정하기\n",
    "  - 함수에는 데코레이터를 여러 개 지정할 수 있다. 다음과 같이 함수 위에 데코레이터를 여러 줄로 지정해준다. 이때 데코레이터가 실행되는 순서는 위에서 아래 순이다.\n",
    "  ```python\n",
    "  @데코레이터1\n",
    "  @데코레이터2\n",
    "  def 함수이름():\n",
    "    코드\n",
    "  ```"
   ]
  },
  {
   "cell_type": "code",
   "execution_count": 62,
   "id": "4e65b1b4-d6d8-4389-b3db-30419bb21b5b",
   "metadata": {},
   "outputs": [
    {
     "name": "stdout",
     "output_type": "stream",
     "text": [
      "decorator1\n",
      "decorator2\n",
      "hello\n"
     ]
    }
   ],
   "source": [
    "def decorator1(func):\n",
    "    def wrapper():\n",
    "        print('decorator1')\n",
    "        func()\n",
    "    return wrapper\n",
    " \n",
    "def decorator2(func):\n",
    "    def wrapper():\n",
    "        print('decorator2')\n",
    "        func()\n",
    "    return wrapper\n",
    " \n",
    "# 데코레이터를 여러 개 지정\n",
    "@decorator1\n",
    "@decorator2\n",
    "def hello():\n",
    "    print('hello')\n",
    "\n",
    "hello()\n",
    "# 데코레이터가 두개 얹어져있을 땐,\n",
    "# 아래에서부터 위로 적용해가며 올라간다고 생각하면 될 것같다"
   ]
  },
  {
   "cell_type": "markdown",
   "id": "b66106cd-e9fe-4e89-93dd-8c192baefa89",
   "metadata": {},
   "source": [
    "---"
   ]
  },
  {
   "cell_type": "markdown",
   "id": "c56bf0b6-9d26-4f08-986d-0cda8aaded0c",
   "metadata": {},
   "source": [
    "ref) [최규빈 교수님 깃허브](github.com/guebin)"
   ]
  },
  {
   "cell_type": "markdown",
   "id": "a1bb9aea-62e2-47e8-bad3-d13c2b70b44f",
   "metadata": {
    "id": "a1bb9aea-62e2-47e8-bad3-d13c2b70b44f"
   },
   "source": [
    "- 아래와 같은 함수를 정의해야 하는 상황을 생각하자. \n",
    "\n",
    "```python\n",
    "# step1\n",
    "def deco(f):\n",
    "    ??\n",
    "\n",
    "# step2 \n",
    "def f(??):\n",
    "    ??\n",
    "\n",
    "# step3\n",
    "f=deco(f)\n",
    "```"
   ]
  },
  {
   "cell_type": "markdown",
   "id": "123e63f1-659c-4f8d-9e7c-0f0d2cb90e89",
   "metadata": {
    "id": "123e63f1-659c-4f8d-9e7c-0f0d2cb90e89"
   },
   "source": [
    "- 이럴때는 아래와 같이 편리하게 정의할 수 있다. "
   ]
  },
  {
   "cell_type": "markdown",
   "id": "51a86508-7fcf-427b-abae-57444ab0fec4",
   "metadata": {
    "id": "51a86508-7fcf-427b-abae-57444ab0fec4"
   },
   "source": [
    "```python\n",
    "# step1 \n",
    "def deco(f):\n",
    "    ??\n",
    "\n",
    "# step2 \n",
    "@deco\n",
    "def f(?):\n",
    "    ??\n",
    "```"
   ]
  },
  {
   "cell_type": "markdown",
   "id": "fe5697d8-7e15-4570-9672-ec73693cfa32",
   "metadata": {
    "id": "fe5697d8-7e15-4570-9672-ec73693cfa32"
   },
   "source": [
    "### 예제1: 함수를 새롭게 정의할때 `중요한 함수는 따로 list로 만들어 저장`해보자. "
   ]
  },
  {
   "cell_type": "markdown",
   "id": "f802ad6e-f101-4264-8b09-8dd14bea72f6",
   "metadata": {
    "id": "f802ad6e-f101-4264-8b09-8dd14bea72f6"
   },
   "source": [
    "`-` `중요한 함수는 따로 list로 만들어 저장` 하는 함수를 구현하자. (이게 deco함수이다)"
   ]
  },
  {
   "cell_type": "code",
   "execution_count": 63,
   "id": "9d6c0609-35c7-4207-9e6b-a2aad63930c0",
   "metadata": {
    "id": "9d6c0609-35c7-4207-9e6b-a2aad63930c0"
   },
   "outputs": [],
   "source": [
    "lst=[] \n",
    "def m(f):\n",
    "    lst.append(f)\n",
    "    return f "
   ]
  },
  {
   "cell_type": "markdown",
   "id": "bc3991b9-0155-41db-8e03-6910d827af84",
   "metadata": {
    "id": "bc3991b9-0155-41db-8e03-6910d827af84"
   },
   "source": [
    "`-` "
   ]
  },
  {
   "cell_type": "code",
   "execution_count": 64,
   "id": "8362cb20-4c6b-4a31-b575-50d8b9ce1c60",
   "metadata": {
    "id": "8362cb20-4c6b-4a31-b575-50d8b9ce1c60"
   },
   "outputs": [],
   "source": [
    "@m\n",
    "def myadd(x,y):\n",
    "    return x+y "
   ]
  },
  {
   "cell_type": "code",
   "execution_count": 65,
   "id": "427caf31-aab0-4d6d-8366-384ea8ce1919",
   "metadata": {
    "id": "427caf31-aab0-4d6d-8366-384ea8ce1919",
    "outputId": "bbf723e1-bce2-418a-f430-bcf060748e68"
   },
   "outputs": [
    {
     "data": {
      "text/plain": [
       "3"
      ]
     },
     "execution_count": 65,
     "metadata": {},
     "output_type": "execute_result"
    }
   ],
   "source": [
    "myadd(1,2)"
   ]
  },
  {
   "cell_type": "code",
   "execution_count": 66,
   "id": "07e21fe0-7202-45f3-8f6a-46f4d07f4e2b",
   "metadata": {
    "id": "07e21fe0-7202-45f3-8f6a-46f4d07f4e2b",
    "outputId": "d2783db8-b394-4167-9aa5-e24ef4870e57"
   },
   "outputs": [
    {
     "data": {
      "text/plain": [
       "[<function __main__.myadd(x, y)>]"
      ]
     },
     "execution_count": 66,
     "metadata": {},
     "output_type": "execute_result"
    }
   ],
   "source": [
    "lst"
   ]
  },
  {
   "cell_type": "code",
   "execution_count": 67,
   "id": "340b76b1-0532-4f99-9d37-4ae12c51d89b",
   "metadata": {
    "id": "340b76b1-0532-4f99-9d37-4ae12c51d89b"
   },
   "outputs": [],
   "source": [
    "@m\n",
    "def mymul(x,y):\n",
    "    return x*y "
   ]
  },
  {
   "cell_type": "code",
   "execution_count": 68,
   "id": "c7fbcd36-d078-45d9-8cbd-809783a0999a",
   "metadata": {
    "id": "c7fbcd36-d078-45d9-8cbd-809783a0999a",
    "outputId": "43ab3c71-32f2-4d33-f41e-e50f1c159bbb"
   },
   "outputs": [
    {
     "data": {
      "text/plain": [
       "[<function __main__.myadd(x, y)>, <function __main__.mymul(x, y)>]"
      ]
     },
     "execution_count": 68,
     "metadata": {},
     "output_type": "execute_result"
    }
   ],
   "source": [
    "lst"
   ]
  },
  {
   "cell_type": "code",
   "execution_count": 69,
   "id": "cf0cb36e-f34d-41f6-8253-178eb72356b4",
   "metadata": {
    "id": "cf0cb36e-f34d-41f6-8253-178eb72356b4"
   },
   "outputs": [],
   "source": [
    "@m\n",
    "def _mysq(x):\n",
    "    return x**2"
   ]
  },
  {
   "cell_type": "code",
   "execution_count": 71,
   "id": "f39a509b-99ca-4f43-9230-bbfee03a0a9c",
   "metadata": {
    "id": "f39a509b-99ca-4f43-9230-bbfee03a0a9c",
    "outputId": "d3b0eedd-46ad-4572-e620-0ff26e3cc1ae"
   },
   "outputs": [
    {
     "data": {
      "text/plain": [
       "[<function __main__.myadd(x, y)>,\n",
       " <function __main__.mymul(x, y)>,\n",
       " <function __main__._mysq(x)>]"
      ]
     },
     "execution_count": 71,
     "metadata": {},
     "output_type": "execute_result"
    }
   ],
   "source": [
    "lst"
   ]
  },
  {
   "cell_type": "code",
   "execution_count": 75,
   "id": "1d104d29-9e19-4514-b239-4c250e4cc282",
   "metadata": {},
   "outputs": [
    {
     "data": {
      "text/plain": [
       "3"
      ]
     },
     "execution_count": 75,
     "metadata": {},
     "output_type": "execute_result"
    }
   ],
   "source": [
    "lst[0](1,2)\n",
    "# 이런 식으로 활용?,,,"
   ]
  }
 ],
 "metadata": {
  "colab": {
   "name": "2022-02-03-(노트) 데코레이터 [파이썬].ipynb",
   "provenance": []
  },
  "kernelspec": {
   "display_name": "Python 3 (ipykernel)",
   "language": "python",
   "name": "python3"
  },
  "language_info": {
   "codemirror_mode": {
    "name": "ipython",
    "version": 3
   },
   "file_extension": ".py",
   "mimetype": "text/x-python",
   "name": "python",
   "nbconvert_exporter": "python",
   "pygments_lexer": "ipython3",
   "version": "3.8.11"
  }
 },
 "nbformat": 4,
 "nbformat_minor": 5
}
